{
 "cells": [
  {
   "cell_type": "code",
   "execution_count": 2,
   "id": "absent-praise",
   "metadata": {},
   "outputs": [],
   "source": [
    "import numpy as np\n",
    "import pandas as pd"
   ]
  },
  {
   "cell_type": "code",
   "execution_count": 3,
   "id": "accurate-aging",
   "metadata": {},
   "outputs": [],
   "source": [
    "gen_df = pd.read_csv('spotify_daily_charts.csv')\n",
    "artists = pd.read_csv('spotify_daily_charts_artists.csv')\n",
    "tracks = pd.read_csv('spotify_daily_charts_tracks.csv')"
   ]
  },
  {
   "cell_type": "code",
   "execution_count": 4,
   "id": "urban-detective",
   "metadata": {},
   "outputs": [
    {
     "data": {
      "text/html": [
       "<div>\n",
       "<style scoped>\n",
       "    .dataframe tbody tr th:only-of-type {\n",
       "        vertical-align: middle;\n",
       "    }\n",
       "\n",
       "    .dataframe tbody tr th {\n",
       "        vertical-align: top;\n",
       "    }\n",
       "\n",
       "    .dataframe thead th {\n",
       "        text-align: right;\n",
       "    }\n",
       "</style>\n",
       "<table border=\"1\" class=\"dataframe\">\n",
       "  <thead>\n",
       "    <tr style=\"text-align: right;\">\n",
       "      <th></th>\n",
       "      <th>artist</th>\n",
       "      <th>streams</th>\n",
       "    </tr>\n",
       "  </thead>\n",
       "  <tbody>\n",
       "    <tr>\n",
       "      <th>100</th>\n",
       "      <td>Ben&amp;Ben</td>\n",
       "      <td>637518801</td>\n",
       "    </tr>\n",
       "    <tr>\n",
       "      <th>225</th>\n",
       "      <td>Ed Sheeran</td>\n",
       "      <td>480456420</td>\n",
       "    </tr>\n",
       "    <tr>\n",
       "      <th>200</th>\n",
       "      <td>December Avenue</td>\n",
       "      <td>438907047</td>\n",
       "    </tr>\n",
       "    <tr>\n",
       "      <th>412</th>\n",
       "      <td>LANY</td>\n",
       "      <td>438613851</td>\n",
       "    </tr>\n",
       "    <tr>\n",
       "      <th>516</th>\n",
       "      <td>Moira Dela Torre</td>\n",
       "      <td>397559815</td>\n",
       "    </tr>\n",
       "  </tbody>\n",
       "</table>\n",
       "</div>"
      ],
      "text/plain": [
       "               artist    streams\n",
       "100           Ben&Ben  637518801\n",
       "225        Ed Sheeran  480456420\n",
       "200   December Avenue  438907047\n",
       "412              LANY  438613851\n",
       "516  Moira Dela Torre  397559815"
      ]
     },
     "execution_count": 4,
     "metadata": {},
     "output_type": "execute_result"
    }
   ],
   "source": [
    "#top 50 artist accdg to streams\n",
    "\n",
    "streams =gen_df.groupby(['artist'], as_index=False)[['streams']].sum().sort_values(by='streams', ascending=False)\n",
    "streams.iloc[:5]"
   ]
  },
  {
   "cell_type": "code",
   "execution_count": 5,
   "id": "independent-atlantic",
   "metadata": {},
   "outputs": [
    {
     "data": {
      "text/html": [
       "<div>\n",
       "<style scoped>\n",
       "    .dataframe tbody tr th:only-of-type {\n",
       "        vertical-align: middle;\n",
       "    }\n",
       "\n",
       "    .dataframe tbody tr th {\n",
       "        vertical-align: top;\n",
       "    }\n",
       "\n",
       "    .dataframe thead th {\n",
       "        text-align: right;\n",
       "    }\n",
       "</style>\n",
       "<table border=\"1\" class=\"dataframe\">\n",
       "  <thead>\n",
       "    <tr style=\"text-align: right;\">\n",
       "      <th></th>\n",
       "      <th>artist</th>\n",
       "      <th>date</th>\n",
       "    </tr>\n",
       "  </thead>\n",
       "  <tbody>\n",
       "    <tr>\n",
       "      <th>35</th>\n",
       "      <td>Ben&amp;Ben</td>\n",
       "      <td>4404</td>\n",
       "    </tr>\n",
       "    <tr>\n",
       "      <th>193</th>\n",
       "      <td>Moira Dela Torre</td>\n",
       "      <td>2502</td>\n",
       "    </tr>\n",
       "    <tr>\n",
       "      <th>69</th>\n",
       "      <td>December Avenue</td>\n",
       "      <td>2348</td>\n",
       "    </tr>\n",
       "    <tr>\n",
       "      <th>75</th>\n",
       "      <td>Ed Sheeran</td>\n",
       "      <td>2020</td>\n",
       "    </tr>\n",
       "    <tr>\n",
       "      <th>148</th>\n",
       "      <td>LANY</td>\n",
       "      <td>2015</td>\n",
       "    </tr>\n",
       "  </tbody>\n",
       "</table>\n",
       "</div>"
      ],
      "text/plain": [
       "               artist  date\n",
       "35            Ben&Ben  4404\n",
       "193  Moira Dela Torre  2502\n",
       "69    December Avenue  2348\n",
       "75         Ed Sheeran  2020\n",
       "148              LANY  2015"
      ]
     },
     "execution_count": 5,
     "metadata": {},
     "output_type": "execute_result"
    }
   ],
   "source": [
    "#top 50 artist frequency\n",
    "\n",
    "top50 = gen_df[gen_df['position'] <= 50]\n",
    "x = top50.groupby(['artist'], as_index=False)[['date']].count().sort_values(by='date', ascending=False).iloc[:5]\n",
    "x"
   ]
  },
  {
   "cell_type": "code",
   "execution_count": 21,
   "id": "administrative-shift",
   "metadata": {},
   "outputs": [
    {
     "data": {
      "text/html": [
       "<div>\n",
       "<style scoped>\n",
       "    .dataframe tbody tr th:only-of-type {\n",
       "        vertical-align: middle;\n",
       "    }\n",
       "\n",
       "    .dataframe tbody tr th {\n",
       "        vertical-align: top;\n",
       "    }\n",
       "\n",
       "    .dataframe thead th {\n",
       "        text-align: right;\n",
       "    }\n",
       "</style>\n",
       "<table border=\"1\" class=\"dataframe\">\n",
       "  <thead>\n",
       "    <tr style=\"text-align: right;\">\n",
       "      <th></th>\n",
       "      <th>artist</th>\n",
       "      <th>track_id</th>\n",
       "    </tr>\n",
       "  </thead>\n",
       "  <tbody>\n",
       "    <tr>\n",
       "      <th>75</th>\n",
       "      <td>Ed Sheeran</td>\n",
       "      <td>22</td>\n",
       "    </tr>\n",
       "    <tr>\n",
       "      <th>193</th>\n",
       "      <td>Moira Dela Torre</td>\n",
       "      <td>18</td>\n",
       "    </tr>\n",
       "    <tr>\n",
       "      <th>35</th>\n",
       "      <td>Ben&amp;Ben</td>\n",
       "      <td>17</td>\n",
       "    </tr>\n",
       "    <tr>\n",
       "      <th>69</th>\n",
       "      <td>December Avenue</td>\n",
       "      <td>6</td>\n",
       "    </tr>\n",
       "  </tbody>\n",
       "</table>\n",
       "</div>"
      ],
      "text/plain": [
       "               artist  track_id\n",
       "75         Ed Sheeran        22\n",
       "193  Moira Dela Torre        18\n",
       "35            Ben&Ben        17\n",
       "69    December Avenue         6"
      ]
     },
     "execution_count": 21,
     "metadata": {},
     "output_type": "execute_result"
    }
   ],
   "source": [
    "z = gen_df[gen_df['position']<=50].groupby(['artist'], as_index=False)[['track_id']].nunique().sort_values(by='track_id', ascending=False)\n",
    "z[(z['artist']=='Ben&Ben') |( z['artist']=='Moira Dela Torre') | (z['artist']=='December Avenue') | (z['artist']=='Ed Sheeran')]"
   ]
  },
  {
   "cell_type": "code",
   "execution_count": 6,
   "id": "continuous-dressing",
   "metadata": {},
   "outputs": [
    {
     "data": {
      "text/plain": [
       "track_id    2.431111\n",
       "dtype: float64"
      ]
     },
     "execution_count": 6,
     "metadata": {},
     "output_type": "execute_result"
    }
   ],
   "source": [
    "#number of songs released per year \n",
    "\n",
    "gen_df['date'] = pd.to_datetime(gen_df['date'])\n",
    "datey=gen_df.copy()\n",
    "\n",
    "datey['year']=datey['date'].dt.year\n",
    "date50 = datey[datey['position'] <= 50]\n",
    "\n",
    "\n",
    "y17 = date50[(date50['year']==2017)].groupby(['artist'], as_index=False)[['track_id']].nunique().mean()\n",
    "y18 = date50[(date50['year']==2018)].groupby(['artist'], as_index=False)[['track_id']].nunique().mean()\n",
    "y19 = date50[(date50['year']==2019)].groupby(['artist'], as_index=False)[['track_id']].nunique().mean()\n",
    "y20 = date50[(date50['year']==2020)].groupby(['artist'], as_index=False)[['track_id']].nunique().mean()\n",
    "\n",
    "avesongsrels = (y17 + y18 + y19 + y20) / 4\n",
    "avesongsrels"
   ]
  },
  {
   "cell_type": "code",
   "execution_count": 10,
   "id": "pacific-suspension",
   "metadata": {},
   "outputs": [
    {
     "data": {
      "text/plain": [
       "107264.35032481609"
      ]
     },
     "execution_count": 10,
     "metadata": {},
     "output_type": "execute_result"
    }
   ],
   "source": [
    "#number of streams per year\n",
    "\n",
    "gen_df['date'] = pd.to_datetime(gen_df['date'])\n",
    "datex=gen_df.copy()\n",
    "datex['year']=datex['date'].dt.year\n",
    "\n",
    "y17 = datex[(datex['year']==2017) & (datex['position']<=50)].streams.mean() #2017 - 97,255\n",
    "y18 = datex[(datex['year']==2018) & (datex['position']<=50)].streams.mean() #2018 - 98,528\n",
    "y19 = datex[(datex['year']==2019) & (datex['position']<=50)].streams.mean() #2019 - 119,978\n",
    "y20 = datex[(datex['year']==2020) & (datex['position']<=50)].streams.mean() #2020 - 113,296\n",
    "\n",
    "avestreams = (y17 + y18 + y19 + y20) / 4\n",
    "avestreams"
   ]
  },
  {
   "cell_type": "code",
   "execution_count": 186,
   "id": "ongoing-documentation",
   "metadata": {},
   "outputs": [
    {
     "data": {
      "text/html": [
       "<div>\n",
       "<style scoped>\n",
       "    .dataframe tbody tr th:only-of-type {\n",
       "        vertical-align: middle;\n",
       "    }\n",
       "\n",
       "    .dataframe tbody tr th {\n",
       "        vertical-align: top;\n",
       "    }\n",
       "\n",
       "    .dataframe thead th {\n",
       "        text-align: right;\n",
       "    }\n",
       "</style>\n",
       "<table border=\"1\" class=\"dataframe\">\n",
       "  <thead>\n",
       "    <tr style=\"text-align: right;\">\n",
       "      <th></th>\n",
       "      <th>track_name</th>\n",
       "    </tr>\n",
       "    <tr>\n",
       "      <th>artist</th>\n",
       "      <th></th>\n",
       "    </tr>\n",
       "  </thead>\n",
       "  <tbody>\n",
       "    <tr>\n",
       "      <th>LANY</th>\n",
       "      <td>20</td>\n",
       "    </tr>\n",
       "    <tr>\n",
       "      <th>Ed Sheeran</th>\n",
       "      <td>19</td>\n",
       "    </tr>\n",
       "    <tr>\n",
       "      <th>Ben&amp;Ben</th>\n",
       "      <td>17</td>\n",
       "    </tr>\n",
       "    <tr>\n",
       "      <th>Moira Dela Torre</th>\n",
       "      <td>14</td>\n",
       "    </tr>\n",
       "    <tr>\n",
       "      <th>December Avenue</th>\n",
       "      <td>6</td>\n",
       "    </tr>\n",
       "  </tbody>\n",
       "</table>\n",
       "</div>"
      ],
      "text/plain": [
       "                  track_name\n",
       "artist                      \n",
       "LANY                      20\n",
       "Ed Sheeran                19\n",
       "Ben&Ben                   17\n",
       "Moira Dela Torre          14\n",
       "December Avenue            6"
      ]
     },
     "execution_count": 186,
     "metadata": {},
     "output_type": "execute_result"
    }
   ],
   "source": [
    "topart = x.merge(gen_df, how='inner', on='artist')\n",
    "plotdata = topart[topart['position']<=50].groupby('artist')[['track_name']].nunique().sort_values(by='track_name',ascending=False)"
   ]
  },
  {
   "cell_type": "code",
   "execution_count": 164,
   "id": "necessary-ancient",
   "metadata": {
    "scrolled": true
   },
   "outputs": [
    {
     "data": {
      "text/html": [
       "<div>\n",
       "<style scoped>\n",
       "    .dataframe tbody tr th:only-of-type {\n",
       "        vertical-align: middle;\n",
       "    }\n",
       "\n",
       "    .dataframe tbody tr th {\n",
       "        vertical-align: top;\n",
       "    }\n",
       "\n",
       "    .dataframe thead th {\n",
       "        text-align: right;\n",
       "    }\n",
       "</style>\n",
       "<table border=\"1\" class=\"dataframe\">\n",
       "  <thead>\n",
       "    <tr style=\"text-align: right;\">\n",
       "      <th></th>\n",
       "      <th>artist</th>\n",
       "      <th>track_id</th>\n",
       "    </tr>\n",
       "  </thead>\n",
       "  <tbody>\n",
       "    <tr>\n",
       "      <th>3</th>\n",
       "      <td>LANY</td>\n",
       "      <td>27</td>\n",
       "    </tr>\n",
       "    <tr>\n",
       "      <th>2</th>\n",
       "      <td>Ed Sheeran</td>\n",
       "      <td>22</td>\n",
       "    </tr>\n",
       "    <tr>\n",
       "      <th>4</th>\n",
       "      <td>Moira Dela Torre</td>\n",
       "      <td>18</td>\n",
       "    </tr>\n",
       "    <tr>\n",
       "      <th>0</th>\n",
       "      <td>Ben&amp;Ben</td>\n",
       "      <td>17</td>\n",
       "    </tr>\n",
       "    <tr>\n",
       "      <th>1</th>\n",
       "      <td>December Avenue</td>\n",
       "      <td>6</td>\n",
       "    </tr>\n",
       "  </tbody>\n",
       "</table>\n",
       "</div>"
      ],
      "text/plain": [
       "             artist  track_id\n",
       "3              LANY        27\n",
       "2        Ed Sheeran        22\n",
       "4  Moira Dela Torre        18\n",
       "0           Ben&Ben        17\n",
       "1   December Avenue         6"
      ]
     },
     "execution_count": 164,
     "metadata": {},
     "output_type": "execute_result"
    }
   ],
   "source": [
    "\n",
    "\n",
    "#number of songs that are in the top50\n",
    "ptop50 = topart[topart['position']<=50].groupby('artist', as_index=False)[['track_id']].nunique().sort_values(by='track_id', ascending=False)\n",
    "ptop50"
   ]
  },
  {
   "cell_type": "code",
   "execution_count": 181,
   "id": "classified-completion",
   "metadata": {},
   "outputs": [
    {
     "data": {
      "text/html": [
       "<div>\n",
       "<style scoped>\n",
       "    .dataframe tbody tr th:only-of-type {\n",
       "        vertical-align: middle;\n",
       "    }\n",
       "\n",
       "    .dataframe tbody tr th {\n",
       "        vertical-align: top;\n",
       "    }\n",
       "\n",
       "    .dataframe thead th {\n",
       "        text-align: right;\n",
       "    }\n",
       "</style>\n",
       "<table border=\"1\" class=\"dataframe\">\n",
       "  <thead>\n",
       "    <tr style=\"text-align: right;\">\n",
       "      <th></th>\n",
       "      <th>artist</th>\n",
       "      <th>track_id</th>\n",
       "    </tr>\n",
       "  </thead>\n",
       "  <tbody>\n",
       "    <tr>\n",
       "      <th>3</th>\n",
       "      <td>LANY</td>\n",
       "      <td>60</td>\n",
       "    </tr>\n",
       "    <tr>\n",
       "      <th>2</th>\n",
       "      <td>Ed Sheeran</td>\n",
       "      <td>42</td>\n",
       "    </tr>\n",
       "    <tr>\n",
       "      <th>4</th>\n",
       "      <td>Moira Dela Torre</td>\n",
       "      <td>32</td>\n",
       "    </tr>\n",
       "    <tr>\n",
       "      <th>0</th>\n",
       "      <td>Ben&amp;Ben</td>\n",
       "      <td>28</td>\n",
       "    </tr>\n",
       "    <tr>\n",
       "      <th>1</th>\n",
       "      <td>December Avenue</td>\n",
       "      <td>13</td>\n",
       "    </tr>\n",
       "  </tbody>\n",
       "</table>\n",
       "</div>"
      ],
      "text/plain": [
       "             artist  track_id\n",
       "3              LANY        60\n",
       "2        Ed Sheeran        42\n",
       "4  Moira Dela Torre        32\n",
       "0           Ben&Ben        28\n",
       "1   December Avenue        13"
      ]
     },
     "execution_count": 181,
     "metadata": {},
     "output_type": "execute_result"
    }
   ],
   "source": [
    "pless50 = topart[topart['position']>50].groupby('artist', as_index=False)[['track_id']].nunique().sort_values(by='track_id', ascending=False)\n",
    "pless50"
   ]
  },
  {
   "cell_type": "code",
   "execution_count": 75,
   "id": "soviet-aggregate",
   "metadata": {},
   "outputs": [
    {
     "data": {
      "text/html": [
       "<div>\n",
       "<style scoped>\n",
       "    .dataframe tbody tr th:only-of-type {\n",
       "        vertical-align: middle;\n",
       "    }\n",
       "\n",
       "    .dataframe tbody tr th {\n",
       "        vertical-align: top;\n",
       "    }\n",
       "\n",
       "    .dataframe thead th {\n",
       "        text-align: right;\n",
       "    }\n",
       "</style>\n",
       "<table border=\"1\" class=\"dataframe\">\n",
       "  <thead>\n",
       "    <tr style=\"text-align: right;\">\n",
       "      <th></th>\n",
       "      <th>track_id</th>\n",
       "    </tr>\n",
       "    <tr>\n",
       "      <th>artist</th>\n",
       "      <th></th>\n",
       "    </tr>\n",
       "  </thead>\n",
       "  <tbody>\n",
       "    <tr>\n",
       "      <th>Ed Sheeran</th>\n",
       "      <td>9657</td>\n",
       "    </tr>\n",
       "    <tr>\n",
       "      <th>LANY</th>\n",
       "      <td>8629</td>\n",
       "    </tr>\n",
       "    <tr>\n",
       "      <th>Ben&amp;Ben</th>\n",
       "      <td>8066</td>\n",
       "    </tr>\n",
       "    <tr>\n",
       "      <th>Moira Dela Torre</th>\n",
       "      <td>6450</td>\n",
       "    </tr>\n",
       "    <tr>\n",
       "      <th>December Avenue</th>\n",
       "      <td>5946</td>\n",
       "    </tr>\n",
       "  </tbody>\n",
       "</table>\n",
       "</div>"
      ],
      "text/plain": [
       "                  track_id\n",
       "artist                    \n",
       "Ed Sheeran            9657\n",
       "LANY                  8629\n",
       "Ben&Ben               8066\n",
       "Moira Dela Torre      6450\n",
       "December Avenue       5946"
      ]
     },
     "execution_count": 75,
     "metadata": {},
     "output_type": "execute_result"
    }
   ],
   "source": [
    "gen_df.groupby('artist')[['track_id']].count().sort_values(by='track_id', ascending=False).iloc[:5]"
   ]
  },
  {
   "cell_type": "code",
   "execution_count": null,
   "id": "modular-focus",
   "metadata": {},
   "outputs": [],
   "source": []
  },
  {
   "cell_type": "code",
   "execution_count": 153,
   "id": "recorded-eleven",
   "metadata": {},
   "outputs": [
    {
     "data": {
      "image/png": "[encoded data removed]",
      "text/plain": [
       "<Figure size 720x432 with 1 Axes>"
      ]
     },
     "metadata": {},
     "output_type": "display_data"
    }
   ],
   "source": [
    "import seaborn as sns\n",
    "import numpy as np\n",
    "import matplotlib.pyplot as plt\n",
    "import matplotlib.patches as mpatches\n",
    "\n",
    "\n",
    "sns.set(style=\"white\")\n",
    "plt.figure(figsize=(10,6))\n",
    "\n",
    "bar1 = sns.barplot(x='artist',  y=\"track_id\", data=pless50, color='darkgrey')\n",
    "\n",
    "bar2 = sns.barplot(x='artist',  y=\"track_id\", data=ptop50, color='limegreen')\n",
    "\n",
    "top_bar = mpatches.Patch(color='darkgrey', label='Songs Not in Top50')\n",
    "bottom_bar = mpatches.Patch(color='limegreen', label='Songs in Top50')\n",
    "plt.legend(handles=[top_bar, bottom_bar])\n",
    "\n",
    "# show the graph\n",
    "plt.show()"
   ]
  }
 ],
 "metadata": {
  "kernelspec": {
   "display_name": "Python 3",
   "language": "python",
   "name": "python3"
  },
  "language_info": {
   "codemirror_mode": {
    "name": "ipython",
    "version": 3
   },
   "file_extension": ".py",
   "mimetype": "text/x-python",
   "name": "python",
   "nbconvert_exporter": "python",
   "pygments_lexer": "ipython3",
   "version": "3.8.5"
  }
 },
 "nbformat": 4,
 "nbformat_minor": 5
}
