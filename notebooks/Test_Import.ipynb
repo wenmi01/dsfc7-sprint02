{
 "cells": [
  {
   "cell_type": "markdown",
   "id": "ca9a5b20-4d07-4381-9e18-c67a5688bef8",
   "metadata": {},
   "source": [
    "# Test Import"
   ]
  },
  {
   "cell_type": "code",
   "execution_count": 3,
   "id": "5c2d53c3-aee4-4386-aea9-687cf3fc997d",
   "metadata": {},
   "outputs": [
    {
     "data": {
      "text/plain": [
       "\u001b[0;31mSignature:\u001b[0m \u001b[0msf\u001b[0m\u001b[0;34m.\u001b[0m\u001b[0mexplore_data\u001b[0m\u001b[0;34m(\u001b[0m\u001b[0;34m)\u001b[0m\u001b[0;34m\u001b[0m\u001b[0;34m\u001b[0m\u001b[0m\n",
       "\u001b[0;31mDocstring:\u001b[0m <no docstring>\n",
       "\u001b[0;31mFile:\u001b[0m      /vagrant/dsfc7/sprint02/gits/dsfc7-sprint02/notebooks/sprint_functions.py\n",
       "\u001b[0;31mType:\u001b[0m      function\n"
      ]
     },
     "metadata": {},
     "output_type": "display_data"
    }
   ],
   "source": [
    "import sprint_functions as sf\n",
    "\n",
    "sf.explore_data?"
   ]
  },
  {
   "cell_type": "code",
   "execution_count": 4,
   "id": "efa9b992-8f7c-4ab5-b6cc-ace84ea7eb5b",
   "metadata": {},
   "outputs": [
    {
     "data": {
      "text/plain": [
       "\u001b[0;31mSignature:\u001b[0m \u001b[0msf\u001b[0m\u001b[0;34m.\u001b[0m\u001b[0msave_model\u001b[0m\u001b[0;34m(\u001b[0m\u001b[0mfname\u001b[0m\u001b[0;34m,\u001b[0m \u001b[0mmodel\u001b[0m\u001b[0;34m)\u001b[0m\u001b[0;34m\u001b[0m\u001b[0;34m\u001b[0m\u001b[0m\n",
       "\u001b[0;31mDocstring:\u001b[0m\n",
       "fname: path/filename.pkl\n",
       "model: model\n",
       "\n",
       "Saves model to a pickle file\n",
       "\u001b[0;31mFile:\u001b[0m      /vagrant/dsfc7/sprint02/gits/dsfc7-sprint02/notebooks/sprint_functions.py\n",
       "\u001b[0;31mType:\u001b[0m      function\n"
      ]
     },
     "metadata": {},
     "output_type": "display_data"
    }
   ],
   "source": [
    "sf.save_model?"
   ]
  },
  {
   "cell_type": "code",
   "execution_count": 5,
   "id": "852be179-da8d-49e9-9537-30ad5a049e61",
   "metadata": {},
   "outputs": [
    {
     "data": {
      "text/plain": [
       "\u001b[0;31mSignature:\u001b[0m \u001b[0msf\u001b[0m\u001b[0;34m.\u001b[0m\u001b[0mload_model\u001b[0m\u001b[0;34m(\u001b[0m\u001b[0mfname\u001b[0m\u001b[0;34m)\u001b[0m\u001b[0;34m\u001b[0m\u001b[0;34m\u001b[0m\u001b[0m\n",
       "\u001b[0;31mDocstring:\u001b[0m\n",
       "fname: path/filename.pkl\n",
       "Loads a model\n",
       "\u001b[0;31mFile:\u001b[0m      /vagrant/dsfc7/sprint02/gits/dsfc7-sprint02/notebooks/sprint_functions.py\n",
       "\u001b[0;31mType:\u001b[0m      function\n"
      ]
     },
     "metadata": {},
     "output_type": "display_data"
    }
   ],
   "source": [
    "sf.load_model?"
   ]
  },
  {
   "cell_type": "code",
   "execution_count": null,
   "id": "d3accd8b-866f-43aa-ad81-ed96995744a1",
   "metadata": {},
   "outputs": [],
   "source": []
  }
 ],
 "metadata": {
  "kernelspec": {
   "display_name": "Python 3",
   "language": "python",
   "name": "python3"
  },
  "language_info": {
   "codemirror_mode": {
    "name": "ipython",
    "version": 3
   },
   "file_extension": ".py",
   "mimetype": "text/x-python",
   "name": "python",
   "nbconvert_exporter": "python",
   "pygments_lexer": "ipython3",
   "version": "3.8.2"
  }
 },
 "nbformat": 4,
 "nbformat_minor": 5
}
