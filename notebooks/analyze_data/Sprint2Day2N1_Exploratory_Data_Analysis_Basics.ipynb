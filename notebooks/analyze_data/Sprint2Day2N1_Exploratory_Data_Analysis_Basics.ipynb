{
 "cells": [
  {
   "cell_type": "markdown",
   "metadata": {},
   "source": [
    "# Exploratory Data Analysis- The Basics\n",
    "An approach to EDA:  \n",
    "![image of the data flow showing visualization as an exploratory and iterative process](http://benbestphd.com/images/r4ds_data-science.png)"
   ]
  },
  {
   "cell_type": "markdown",
   "metadata": {},
   "source": [
    "#### The goal of EDA is to discover patterns in data. This is a fundamental stepping stone towards predictive modelling, or an end goal in itself. \n",
    "\n",
    "Tips for good EDA:\n",
    "- Get to know the context of the data.  \n",
    "- Question the data: Who collected it? Who is distributing it? Do all of the patterns make sense to what you know about the world? If they don’t, go back and look more closely at your data.\n",
    "\n",
    "- Use EDA to formulate a question based on the patterns that you see.\n",
    "- Use EDA to check if a hypothesis is worth a deeper analysis.\n",
    "\n",
    "- Keep the questions SIMPLE and BRIEF- the goal is to understand and build complexity further on.\n",
    "- Its an iterative process-- its okay to repeat things so long as you learn from previous output."
   ]
  },
  {
   "cell_type": "code",
   "execution_count": null,
   "metadata": {
    "ExecuteTime": {
     "end_time": "2021-05-22T17:10:49.477120Z",
     "start_time": "2021-05-22T17:10:49.015449Z"
    }
   },
   "outputs": [],
   "source": [
    "# importing the libraries for data processing\n",
    "import numpy as np \n",
    "import pandas as pd \n"
   ]
  },
  {
   "cell_type": "markdown",
   "metadata": {},
   "source": [
    "### 1. Tidying our charts data"
   ]
  },
  {
   "cell_type": "markdown",
   "metadata": {},
   "source": [
    "Read the csv file, check for missing, duplicated and unexpected values, and filtering if needed"
   ]
  },
  {
   "cell_type": "code",
   "execution_count": null,
   "metadata": {
    "ExecuteTime": {
     "end_time": "2021-05-22T17:10:49.946258Z",
     "start_time": "2021-05-22T17:10:49.479685Z"
    }
   },
   "outputs": [],
   "source": [
    "# read the charts dataset\n",
    "charts_df = pd.read_csv('data/spotify_daily_charts.csv')\n",
    "charts_df.head()"
   ]
  },
  {
   "cell_type": "markdown",
   "metadata": {},
   "source": [
    "### Data Checks\n",
    "It is prudent to do the following on a DataFrame before any analysis is made\n",
    "1. Check shape\n",
    "2. Check data types of columns\n",
    "3. Check null values in columns\n",
    "4. Check rows with null values\n",
    "5. Check for duplicates"
   ]
  },
  {
   "cell_type": "code",
   "execution_count": null,
   "metadata": {
    "ExecuteTime": {
     "end_time": "2021-05-22T17:10:49.958433Z",
     "start_time": "2021-05-22T17:10:49.950003Z"
    }
   },
   "outputs": [],
   "source": [
    "#Check the shape of the dataframe\n",
    "charts_df.shape "
   ]
  },
  {
   "cell_type": "code",
   "execution_count": null,
   "metadata": {
    "ExecuteTime": {
     "end_time": "2021-05-22T17:10:50.097849Z",
     "start_time": "2021-05-22T17:10:49.961399Z"
    }
   },
   "outputs": [],
   "source": [
    "#list comprehension to check elements of a list not in another list\n",
    "complete_dates = pd.date_range(start='2017-01-01', end='2021-05-20', freq='D').strftime('%Y-%m-%d')\n",
    "dataset_dates = pd.unique(charts_df['date'])\n",
    "\n",
    "[p for p in complete_dates if p not in dataset_dates]"
   ]
  },
  {
   "cell_type": "code",
   "execution_count": null,
   "metadata": {
    "ExecuteTime": {
     "end_time": "2021-05-22T17:10:50.133547Z",
     "start_time": "2021-05-22T17:10:50.100410Z"
    }
   },
   "outputs": [],
   "source": [
    "200*len(charts_df['date'].unique())"
   ]
  },
  {
   "cell_type": "code",
   "execution_count": null,
   "metadata": {
    "ExecuteTime": {
     "end_time": "2021-05-22T17:10:50.147928Z",
     "start_time": "2021-05-22T17:10:50.136234Z"
    }
   },
   "outputs": [],
   "source": [
    "#Check data types of the columns\n",
    "charts_df.dtypes"
   ]
  },
  {
   "cell_type": "code",
   "execution_count": null,
   "metadata": {
    "ExecuteTime": {
     "end_time": "2021-05-22T16:44:43.398406Z",
     "start_time": "2021-05-22T16:44:43.303227Z"
    }
   },
   "outputs": [],
   "source": [
    "#Check null values in the columns\n",
    "charts_df.info()"
   ]
  },
  {
   "cell_type": "code",
   "execution_count": null,
   "metadata": {
    "ExecuteTime": {
     "end_time": "2021-05-22T16:44:43.452381Z",
     "start_time": "2021-05-22T16:44:43.404088Z"
    }
   },
   "outputs": [],
   "source": [
    "charts_df[charts_df['artist'].isnull()]"
   ]
  },
  {
   "cell_type": "code",
   "execution_count": null,
   "metadata": {
    "ExecuteTime": {
     "end_time": "2021-05-22T16:44:43.744252Z",
     "start_time": "2021-05-22T16:44:43.456412Z"
    }
   },
   "outputs": [],
   "source": [
    "#Check for duplicates\n",
    "sum(charts_df.duplicated())"
   ]
  },
  {
   "cell_type": "code",
   "execution_count": null,
   "metadata": {
    "ExecuteTime": {
     "end_time": "2021-05-22T16:44:43.758961Z",
     "start_time": "2021-05-22T16:44:43.747053Z"
    }
   },
   "outputs": [],
   "source": [
    "#check if unique values are expected\n",
    "charts_df['position'].unique()"
   ]
  },
  {
   "cell_type": "code",
   "execution_count": null,
   "metadata": {
    "ExecuteTime": {
     "end_time": "2021-05-22T16:44:43.794999Z",
     "start_time": "2021-05-22T16:44:43.761982Z"
    }
   },
   "outputs": [],
   "source": [
    "len(charts_df['artist'].unique())"
   ]
  },
  {
   "cell_type": "code",
   "execution_count": null,
   "metadata": {
    "ExecuteTime": {
     "end_time": "2021-05-22T16:44:43.841870Z",
     "start_time": "2021-05-22T16:44:43.799052Z"
    }
   },
   "outputs": [],
   "source": [
    "len(charts_df['track_name'].unique())"
   ]
  },
  {
   "cell_type": "code",
   "execution_count": null,
   "metadata": {
    "ExecuteTime": {
     "end_time": "2021-05-22T16:44:43.914076Z",
     "start_time": "2021-05-22T16:44:43.846712Z"
    }
   },
   "outputs": [],
   "source": [
    "len(charts_df['track_id'].unique())"
   ]
  },
  {
   "cell_type": "markdown",
   "metadata": {},
   "source": [
    "> Q: Why do we have N track ids but only M track names?"
   ]
  },
  {
   "cell_type": "markdown",
   "metadata": {},
   "source": [
    "##### Convert date to datetime index\n",
    "Pandas has a very useful method `pd.to_datetime` that smartly recognizes date and time columns and allows for easier time series techniques"
   ]
  },
  {
   "cell_type": "code",
   "execution_count": null,
   "metadata": {
    "ExecuteTime": {
     "end_time": "2021-05-22T16:44:44.009384Z",
     "start_time": "2021-05-22T16:44:43.917191Z"
    }
   },
   "outputs": [],
   "source": [
    "#transform date column into a datetime column\n",
    "charts_df['date'] = pd.to_datetime(charts_df['date'])\n",
    "charts_df.head()"
   ]
  },
  {
   "cell_type": "code",
   "execution_count": null,
   "metadata": {
    "ExecuteTime": {
     "end_time": "2021-05-22T16:44:44.075181Z",
     "start_time": "2021-05-22T16:44:44.013260Z"
    }
   },
   "outputs": [],
   "source": [
    "#extract month \n",
    "charts_df['month']=charts_df['date'].dt.month\n",
    "charts_df.head()"
   ]
  },
  {
   "cell_type": "code",
   "execution_count": null,
   "metadata": {
    "ExecuteTime": {
     "end_time": "2021-05-22T16:44:44.210216Z",
     "start_time": "2021-05-22T16:44:44.079502Z"
    }
   },
   "outputs": [],
   "source": [
    "#extract year\n",
    "charts_df['year']=charts_df['date'].dt.year\n",
    "# get day and day of week\n",
    "charts_df['day']=charts_df['date'].dt.day\n",
    "charts_df['day_of_week']=charts_df['date'].dt.dayofweek # The day of the week with Monday=0, Sunday=6.\n",
    "charts_df.head()"
   ]
  },
  {
   "cell_type": "markdown",
   "metadata": {},
   "source": [
    "### 2. Examining the charts data\n",
    "Reshape and aggregate the DataFrame to answer basic data questions "
   ]
  },
  {
   "cell_type": "code",
   "execution_count": null,
   "metadata": {
    "ExecuteTime": {
     "end_time": "2021-05-22T16:44:44.263647Z",
     "start_time": "2021-05-22T16:44:44.212675Z"
    }
   },
   "outputs": [],
   "source": [
    "#Lets create tallies of each column using the `value_counts` method\n",
    "charts_df['artist'].value_counts()[:20]"
   ]
  },
  {
   "cell_type": "code",
   "execution_count": null,
   "metadata": {
    "ExecuteTime": {
     "end_time": "2021-05-22T16:44:44.322634Z",
     "start_time": "2021-05-22T16:44:44.266382Z"
    }
   },
   "outputs": [],
   "source": [
    "charts_df['track_name'].value_counts()"
   ]
  },
  {
   "cell_type": "code",
   "execution_count": null,
   "metadata": {
    "ExecuteTime": {
     "end_time": "2021-05-22T16:44:44.430082Z",
     "start_time": "2021-05-22T16:44:44.325090Z"
    }
   },
   "outputs": [],
   "source": [
    "#filtering columns\n",
    "charts_df[charts_df['track_name']=='Happier']"
   ]
  },
  {
   "cell_type": "markdown",
   "metadata": {},
   "source": [
    "> Q1. From top 50 most streamed, get top 20 most frequently occuring artists"
   ]
  },
  {
   "cell_type": "code",
   "execution_count": null,
   "metadata": {
    "ExecuteTime": {
     "end_time": "2021-05-22T16:44:44.991404Z",
     "start_time": "2021-05-22T16:44:44.432657Z"
    }
   },
   "outputs": [],
   "source": [
    "charts_df[charts_df['position']<=50]['artist'].value_counts()[:20]"
   ]
  },
  {
   "cell_type": "markdown",
   "metadata": {},
   "source": [
    "> Q2. From top 50 list this year, get top 20 most frequently occuring artists"
   ]
  },
  {
   "cell_type": "code",
   "execution_count": null,
   "metadata": {
    "ExecuteTime": {
     "end_time": "2021-05-22T16:44:45.024108Z",
     "start_time": "2021-05-22T16:44:44.994132Z"
    }
   },
   "outputs": [],
   "source": [
    "charts_df[(charts_df['position']>=50)&(charts_df['year']==2020)]['artist'].value_counts()[:20]"
   ]
  },
  {
   "cell_type": "markdown",
   "metadata": {},
   "source": [
    "> Q3. On what positions did Taylor Swift land on the chart for 2019? What were her songs that landed first on the chart?"
   ]
  },
  {
   "cell_type": "code",
   "execution_count": null,
   "metadata": {
    "ExecuteTime": {
     "end_time": "2021-05-22T16:44:45.089721Z",
     "start_time": "2021-05-22T16:44:45.032471Z"
    }
   },
   "outputs": [],
   "source": [
    "np.sort(charts_df[(charts_df['artist']=='Taylor Swift')&(charts_df['year']==2019)]['position'].unique())"
   ]
  },
  {
   "cell_type": "code",
   "execution_count": null,
   "metadata": {
    "ExecuteTime": {
     "end_time": "2021-05-22T16:44:45.157350Z",
     "start_time": "2021-05-22T16:44:45.106076Z"
    }
   },
   "outputs": [],
   "source": [
    "charts_df[(charts_df['artist']=='Taylor Swift')&\\\n",
    "                    (charts_df['year']==2019)&\\\n",
    "                    (charts_df['position']==1)]['track_name'].unique()"
   ]
  },
  {
   "cell_type": "markdown",
   "metadata": {},
   "source": [
    "### 3. Quick stats and Aggregating the charts dataset\n"
   ]
  },
  {
   "cell_type": "markdown",
   "metadata": {},
   "source": [
    "**Quick stats**\n",
    "\n",
    "\n",
    "Basic stats can be computed using the `describe` method"
   ]
  },
  {
   "cell_type": "code",
   "execution_count": null,
   "metadata": {
    "ExecuteTime": {
     "end_time": "2021-05-22T16:44:45.208151Z",
     "start_time": "2021-05-22T16:44:45.166315Z"
    }
   },
   "outputs": [],
   "source": [
    "charts_df['streams'].describe()"
   ]
  },
  {
   "cell_type": "markdown",
   "metadata": {},
   "source": [
    "**Aggregation**\n",
    "\n",
    "The pandas `groupby` method functions in the same way as pivot_table in excel\n",
    "\n",
    "The syntax for a single index column and single agg column:\n",
    "```python\n",
    "df.groupby('index_col')['agg_col'].aggfunc()\n",
    "```\n",
    "\n",
    "A good analogy for  pandas `groupby` is making cocktails at a party: the glasses is the items in `index_col`, the beverage is the `agg_col`, and how the beverage is poured into the glasses is `aggfunc`.\n",
    "\n",
    "<img src=\"groupby.png\" align=\"left\" alt=\"Drawing\" style=\"width: 300px;\"/>\n",
    "<br>\n",
    "<br>\n",
    "<br>\n",
    "<br>\n",
    "<br>\n",
    "<br>\n",
    "<br>\n",
    "<br>\n",
    "<br>\n",
    "<br>\n",
    "<br>\n",
    "<br>\n",
    "\n",
    "\n",
    "For multiple indices and multiple aggregations:\n",
    "```python\n",
    "df.groupby(['index_col','index_col2']).agg('agg_col1':aggfunc1, 'agg_col2':aggfunc2)\n",
    "```"
   ]
  },
  {
   "cell_type": "markdown",
   "metadata": {},
   "source": [
    "Q: How many total streams did charting songs in Spotify earn per year?"
   ]
  },
  {
   "cell_type": "code",
   "execution_count": null,
   "metadata": {
    "ExecuteTime": {
     "end_time": "2021-05-22T16:44:45.250641Z",
     "start_time": "2021-05-22T16:44:45.215612Z"
    }
   },
   "outputs": [],
   "source": [
    "charts_df.groupby('year')['streams'].sum()   #inputting a column name string in agg_column outputs a Series"
   ]
  },
  {
   "cell_type": "code",
   "execution_count": null,
   "metadata": {
    "ExecuteTime": {
     "end_time": "2021-05-22T16:44:45.305808Z",
     "start_time": "2021-05-22T16:44:45.257842Z"
    }
   },
   "outputs": [],
   "source": [
    "charts_df.groupby('year')[['streams']].sum()   #inputting a list in agg_column outputs a DataFrame"
   ]
  },
  {
   "cell_type": "markdown",
   "metadata": {},
   "source": [
    "> Q: How many streams did each of the 200 positions contribute to the annual streams of spotify?"
   ]
  },
  {
   "cell_type": "code",
   "execution_count": null,
   "metadata": {
    "ExecuteTime": {
     "end_time": "2021-05-22T16:44:45.393063Z",
     "start_time": "2021-05-22T16:44:45.312003Z"
    }
   },
   "outputs": [],
   "source": [
    "charts_df.groupby(['year','position'])[['streams']].sum()   #inputting a list in agg_column outputs a DataFrame"
   ]
  },
  {
   "cell_type": "markdown",
   "metadata": {},
   "source": [
    "> Q: What visualization would best suit the output of the cell above?"
   ]
  },
  {
   "cell_type": "markdown",
   "metadata": {},
   "source": [
    "### 4. Combining two datasets"
   ]
  },
  {
   "cell_type": "markdown",
   "metadata": {},
   "source": [
    "- What insights could we get from merging the charts and tracks datasets?"
   ]
  },
  {
   "cell_type": "code",
   "execution_count": null,
   "metadata": {
    "ExecuteTime": {
     "end_time": "2021-05-22T16:44:45.486145Z",
     "start_time": "2021-05-22T16:44:45.396728Z"
    }
   },
   "outputs": [],
   "source": [
    "# read the tracks dataset\n",
    "tracks_df = pd.read_csv('data/spotify_daily_charts_tracks.csv')\n",
    "tracks_df.head()"
   ]
  },
  {
   "cell_type": "markdown",
   "metadata": {
    "ExecuteTime": {
     "end_time": "2021-05-22T16:44:45.618241Z",
     "start_time": "2021-05-22T16:44:45.489741Z"
    }
   },
   "source": [
    "**Combining dataframes*\n",
    "\n",
    "The pandas `merge` method combines DataFrames/Series in the same way common database languages (eg. SQL) perform table joins.\n",
    "\n",
    "The most basic syntax for a single index column and single agg column:\n",
    "```python\n",
    "df1.merge(df2, on='key_column', how=<'join_type'>)\n",
    "```\n",
    "where <'join_type'> = ['left','right','inner','outer']\n",
    "\n",
    "Here is a diagram that illustrates what each of the join type produces\n",
    "<br>\n",
    "<br>\n",
    "<img src=\"merge.png\" align=\"left\" alt=\"Drawing\" style=\"width: 500px;\"/>\n",
    "<br>\n",
    "<br>\n",
    "<br>\n",
    "<br>\n",
    "<br>\n",
    "<br>\n",
    "<br>\n",
    "For multiple key columns:\n",
    "```python\n",
    "df1.merge(df2, on=['key_column1','key_column2'], how=<'join_type'>)\n",
    "```"
   ]
  },
  {
   "cell_type": "code",
   "execution_count": null,
   "metadata": {
    "ExecuteTime": {
     "end_time": "2021-05-22T16:44:45.987097Z",
     "start_time": "2021-05-22T16:44:45.622638Z"
    },
    "scrolled": true
   },
   "outputs": [],
   "source": [
    "#merge charts dataframe with tracks dataframe\n",
    "#follow charts_df's rows\n",
    "\n",
    "df = charts_df.merge(tracks_df, on='track_id', how='left')\n",
    "df.head()"
   ]
  },
  {
   "cell_type": "code",
   "execution_count": null,
   "metadata": {
    "ExecuteTime": {
     "end_time": "2021-05-22T16:44:45.997948Z",
     "start_time": "2021-05-22T16:44:45.989377Z"
    }
   },
   "outputs": [],
   "source": [
    "#Always check number of rows when performing merges\n",
    "charts_df.shape, tracks_df.shape, df.shape"
   ]
  },
  {
   "cell_type": "code",
   "execution_count": null,
   "metadata": {
    "ExecuteTime": {
     "end_time": "2021-05-22T16:44:46.016467Z",
     "start_time": "2021-05-22T16:44:46.000847Z"
    }
   },
   "outputs": [],
   "source": [
    "df.columns"
   ]
  },
  {
   "cell_type": "code",
   "execution_count": null,
   "metadata": {
    "ExecuteTime": {
     "end_time": "2021-05-22T16:44:46.503743Z",
     "start_time": "2021-05-22T16:44:46.019430Z"
    }
   },
   "outputs": [],
   "source": [
    "#drop duplicated track_name column\n",
    "df = df.drop(columns='track_name_y')\n",
    "#rename trace_name x\n",
    "df = df.rename(columns={'track_name_x':'track_name'})\n",
    "df.head()"
   ]
  },
  {
   "cell_type": "code",
   "execution_count": null,
   "metadata": {
    "ExecuteTime": {
     "end_time": "2021-05-22T16:44:46.520391Z",
     "start_time": "2021-05-22T16:44:46.509084Z"
    }
   },
   "outputs": [],
   "source": [
    "#check if expected columns are present\n",
    "df.columns"
   ]
  },
  {
   "cell_type": "markdown",
   "metadata": {},
   "source": [
    "## Q&A"
   ]
  },
  {
   "cell_type": "markdown",
   "metadata": {},
   "source": [
    "Q1: What are the top 10 songs in terms of total streams from 2017 to 2020?"
   ]
  },
  {
   "cell_type": "code",
   "execution_count": null,
   "metadata": {
    "ExecuteTime": {
     "end_time": "2021-05-22T16:44:46.652069Z",
     "start_time": "2021-05-22T16:44:46.522843Z"
    }
   },
   "outputs": [],
   "source": [
    "# groupby tracks and sum streams, sort and get first 10 rows \n",
    "df.groupby(['track_id','track_name'])['streams'].sum().sort_values(ascending=False)[:10]"
   ]
  },
  {
   "cell_type": "markdown",
   "metadata": {},
   "source": [
    "Q2: Whats the mean tempo of the top 10 most streamed songs?"
   ]
  },
  {
   "cell_type": "code",
   "execution_count": null,
   "metadata": {
    "ExecuteTime": {
     "end_time": "2021-05-22T16:44:46.751765Z",
     "start_time": "2021-05-22T16:44:46.655005Z"
    }
   },
   "outputs": [],
   "source": [
    "top10songs = df.groupby(['track_id','track_name'])['streams'].sum()\\\n",
    "            .sort_values(ascending=False)[:10]\\\n",
    "            .reset_index()['track_id'].values\n",
    "top10songs"
   ]
  },
  {
   "cell_type": "code",
   "execution_count": null,
   "metadata": {
    "ExecuteTime": {
     "end_time": "2021-05-22T16:44:46.802132Z",
     "start_time": "2021-05-22T16:44:46.755410Z"
    }
   },
   "outputs": [],
   "source": [
    "#isin selects elements in list\n",
    "df[df['track_id'].isin(top10songs)]['tempo'].mean() #in bpm"
   ]
  },
  {
   "cell_type": "markdown",
   "metadata": {},
   "source": [
    "Q2a. Follow-up: How does this compare with the mean tempo of the rest of the songs?"
   ]
  },
  {
   "cell_type": "code",
   "execution_count": null,
   "metadata": {
    "ExecuteTime": {
     "end_time": "2021-05-22T16:44:46.936168Z",
     "start_time": "2021-05-22T16:44:46.805200Z"
    },
    "scrolled": true
   },
   "outputs": [],
   "source": [
    "#use ~ to negate\n",
    "df[~df['track_id'].isin(top10songs)]['tempo'].mean() #in bpm"
   ]
  },
  {
   "cell_type": "markdown",
   "metadata": {},
   "source": [
    "**Self Check**"
   ]
  },
  {
   "cell_type": "markdown",
   "metadata": {},
   "source": [
    "Q: Which song had the most days within top 5 of the charts for 2020?"
   ]
  },
  {
   "cell_type": "code",
   "execution_count": null,
   "metadata": {
    "ExecuteTime": {
     "end_time": "2021-05-22T17:05:01.768622Z",
     "start_time": "2021-05-22T17:05:01.755694Z"
    }
   },
   "outputs": [],
   "source": []
  },
  {
   "cell_type": "markdown",
   "metadata": {},
   "source": [
    "Q: Which artist had the most days within top 10 of the charts for 2020?"
   ]
  },
  {
   "cell_type": "code",
   "execution_count": null,
   "metadata": {
    "ExecuteTime": {
     "end_time": "2021-05-22T17:05:16.389060Z",
     "start_time": "2021-05-22T17:05:16.376068Z"
    }
   },
   "outputs": [],
   "source": []
  },
  {
   "cell_type": "markdown",
   "metadata": {},
   "source": [
    " Q: What are the top 5 “saddest” charting songs for 2020? "
   ]
  },
  {
   "cell_type": "code",
   "execution_count": null,
   "metadata": {
    "ExecuteTime": {
     "end_time": "2021-05-22T17:05:57.492857Z",
     "start_time": "2021-05-22T17:05:57.449099Z"
    }
   },
   "outputs": [],
   "source": []
  },
  {
   "cell_type": "markdown",
   "metadata": {},
   "source": [
    "### Plain tables as output?\n",
    "1. Tables are simple fast answers to simple fast questions\n",
    "2. Tables are very useful for troubleshooting. The numbers often reveal if there was something wrong with the data source/processing\n",
    "3. In most office setups, analtyics output are often offtaked by another team (e.g. market segments group -> finance for sales projections). As it could be readily plugged into their computations, they usually prefer tables instead of deployed products."
   ]
  },
  {
   "cell_type": "code",
   "execution_count": null,
   "metadata": {},
   "outputs": [],
   "source": []
  },
  {
   "cell_type": "code",
   "execution_count": null,
   "metadata": {},
   "outputs": [],
   "source": []
  }
 ],
 "metadata": {
  "kernelspec": {
   "display_name": "Python 3",
   "language": "python",
   "name": "python3"
  },
  "language_info": {
   "codemirror_mode": {
    "name": "ipython",
    "version": 3
   },
   "file_extension": ".py",
   "mimetype": "text/x-python",
   "name": "python",
   "nbconvert_exporter": "python",
   "pygments_lexer": "ipython3",
   "version": "3.8.5"
  }
 },
 "nbformat": 4,
 "nbformat_minor": 2
}
