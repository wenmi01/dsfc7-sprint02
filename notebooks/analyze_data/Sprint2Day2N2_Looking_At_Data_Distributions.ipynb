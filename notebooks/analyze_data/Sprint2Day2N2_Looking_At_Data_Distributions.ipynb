{
 "cells": [
  {
   "cell_type": "markdown",
   "metadata": {},
   "source": [
    "# Looking at Data Distributions"
   ]
  },
  {
   "cell_type": "markdown",
   "metadata": {},
   "source": [
    "When faced with a dataset that you are seeing for the first time, one of the first things that you should do is to plot distributions of its columns. \n",
    "\n",
    "What information can we make out of data distributions?"
   ]
  },
  {
   "cell_type": "code",
   "execution_count": null,
   "metadata": {
    "ExecuteTime": {
     "end_time": "2021-01-26T11:16:40.828018Z",
     "start_time": "2021-01-26T11:16:33.540202Z"
    }
   },
   "outputs": [],
   "source": [
    "import pandas as pd\n",
    "import numpy as np\n",
    "\n",
    "import seaborn as sns\n",
    "import matplotlib.pyplot as plt\n",
    "%matplotlib inline"
   ]
  },
  {
   "cell_type": "code",
   "execution_count": null,
   "metadata": {
    "ExecuteTime": {
     "end_time": "2021-01-26T11:16:41.983365Z",
     "start_time": "2021-01-26T11:16:41.897603Z"
    }
   },
   "outputs": [],
   "source": [
    "# read and process the tracks dataset\n",
    "tracks_df = pd.read_csv('data/spotify_daily_charts_tracks.csv')\n",
    "tracks_df.head()"
   ]
  },
  {
   "cell_type": "markdown",
   "metadata": {},
   "source": [
    "### 2. Get a grasp of all possible values in each column\n",
    "1. Get length of all unique entries in each columns with string type (dtype: object)\n",
    "> Q: Why are there more track ids than track names? List all possible reasons you could think. \n",
    "2. Confirm if the range (range = max - min) of the song metrics columns (danceability, energy, ...) matches what is declared in the documentation \n",
    "3. Using `describe`, generate a table of basic statistics for the song metrics columns\n",
    "> Q: Give 3 insights based on the output of `describe`"
   ]
  },
  {
   "cell_type": "code",
   "execution_count": null,
   "metadata": {
    "ExecuteTime": {
     "end_time": "2021-01-26T11:16:50.233161Z",
     "start_time": "2021-01-26T11:16:50.224897Z"
    }
   },
   "outputs": [],
   "source": [
    "len(tracks_df['track_id'].unique())"
   ]
  },
  {
   "cell_type": "code",
   "execution_count": null,
   "metadata": {
    "ExecuteTime": {
     "end_time": "2021-01-26T11:16:50.742125Z",
     "start_time": "2021-01-26T11:16:50.732230Z"
    }
   },
   "outputs": [],
   "source": [
    "len(tracks_df['track_name'].unique())"
   ]
  },
  {
   "cell_type": "code",
   "execution_count": null,
   "metadata": {
    "ExecuteTime": {
     "end_time": "2021-01-26T11:16:51.179779Z",
     "start_time": "2021-01-26T11:16:51.170901Z"
    }
   },
   "outputs": [],
   "source": [
    "len(tracks_df['album_id'].unique())"
   ]
  },
  {
   "cell_type": "code",
   "execution_count": null,
   "metadata": {
    "ExecuteTime": {
     "end_time": "2021-01-26T11:16:52.384366Z",
     "start_time": "2021-01-26T11:16:52.376996Z"
    }
   },
   "outputs": [],
   "source": [
    "tracks_df['key'].unique()"
   ]
  },
  {
   "cell_type": "code",
   "execution_count": null,
   "metadata": {
    "ExecuteTime": {
     "end_time": "2021-01-26T11:16:52.779399Z",
     "start_time": "2021-01-26T11:16:52.758812Z"
    }
   },
   "outputs": [],
   "source": [
    "tracks_df['mode'].unique()"
   ]
  },
  {
   "cell_type": "code",
   "execution_count": null,
   "metadata": {
    "ExecuteTime": {
     "end_time": "2021-01-26T11:16:53.415765Z",
     "start_time": "2021-01-26T11:16:53.335066Z"
    },
    "scrolled": true
   },
   "outputs": [],
   "source": [
    "tracks_df[['popularity', 'danceability', 'energy',\n",
    "       'loudness','speechiness', 'acousticness', 'instrumentalness',\n",
    "       'liveness', 'valence', 'tempo']].describe()"
   ]
  },
  {
   "cell_type": "markdown",
   "metadata": {},
   "source": [
    "### 3. Histograms\n",
    "We can now try to plot histograms of the datasets\n",
    "Put simply, histograms are graphical representation of tallies.\n",
    "Read more about histograms here: (https://statistics.laerd.com/statistical-guides/understanding-histograms.php).\n",
    "\n",
    "These are very useful in EDA because at a glance, you could already see how the data is spread over its range.\n",
    "\n",
    "In particular, you should look out for:\n",
    "1. Skewness - Do the values peak around the mean, or over lower (left-skewed)/higher values(right-skewed)?\n",
    "2. Mode - Does it have one peak (unimodal)? two peaks (bimodal)? How many peaks?\n",
    "3. Outliers - Are there a few data points that are substantially distant from bulk of all values?\n",
    "\n",
    "It is strongly advised that you look at histograms before you do any aggregations.\n",
    "\n",
    "> Q: Modify the code below to plot histograms for all the numeric columns in df. For each histogram, create a markdown cell below and write a 1-3 sentence about what you observe in the plot."
   ]
  },
  {
   "cell_type": "code",
   "execution_count": null,
   "metadata": {
    "ExecuteTime": {
     "end_time": "2021-01-26T11:24:31.569105Z",
     "start_time": "2021-01-26T11:24:31.553824Z"
    }
   },
   "outputs": [],
   "source": [
    "tracks_df.columns"
   ]
  },
  {
   "cell_type": "code",
   "execution_count": null,
   "metadata": {
    "ExecuteTime": {
     "end_time": "2021-01-26T11:25:07.115551Z",
     "start_time": "2021-01-26T11:25:07.049024Z"
    }
   },
   "outputs": [],
   "source": [
    "#make duration ms to minutes\n",
    "tracks_df['duration_mins']=tracks_df['duration']/60000"
   ]
  },
  {
   "cell_type": "code",
   "execution_count": null,
   "metadata": {
    "ExecuteTime": {
     "end_time": "2021-01-26T11:25:35.014466Z",
     "start_time": "2021-01-26T11:25:34.409100Z"
    },
    "scrolled": true
   },
   "outputs": [],
   "source": [
    "sns.distplot(tracks_df['duration_mins'])\n",
    "plt.title('Duration in Minutes')\n",
    "plt.ylabel('Frequency')\n",
    "plt.show()\n",
    "\n",
    "#sometimes the line might not fit the histogram bars. \n",
    "#these are called Gaussian Kernel Density Estimations and we dont expect them to work for noncontinuous values"
   ]
  },
  {
   "cell_type": "markdown",
   "metadata": {},
   "source": [
    "- Most tracks in the Top 200 tend to last around 3-4 mins. There are more songs that last longer than 4 mins than songs that are shorter than 2.5 mins."
   ]
  },
  {
   "cell_type": "code",
   "execution_count": null,
   "metadata": {
    "ExecuteTime": {
     "end_time": "2021-01-26T11:28:04.397687Z",
     "start_time": "2021-01-26T11:27:59.298958Z"
    }
   },
   "outputs": [],
   "source": [
    "for col in ['popularity', 'danceability', 'energy', 'key',\n",
    "       'loudness', 'mode', 'speechiness', 'acousticness', 'instrumentalness',\n",
    "       'liveness', 'valence', 'tempo']:\n",
    "    sns.distplot(tracks_df[col])\n",
    "    plt.title(col)\n",
    "    plt.ylabel('Frequency')\n",
    "    plt.show()\n"
   ]
  },
  {
   "cell_type": "markdown",
   "metadata": {},
   "source": [
    "## 4. Distribution Properties\n",
    "### Skewness\n",
    "[Skewness](https://towardsdatascience.com/testing-for-normality-using-skewness-and-kurtosis-afd61be860) lets you test by how much the overall shape of a distribution deviates from the shape of the normal distribution.\n",
    "   - Skew < 0 indicates that the tail is on the left side of the distribution, which extends towards more negative values.(left-tailed/left-modal)\n",
    "   - Skew > 0 indicates that the tail is on the right side of the distribution, which extends towards more positive values.(right-tailed/right-modal)\n",
    "   - Skew = 0 indicates that there is no skewness in the distribution at all, meaning the distribution is perfectly symmetrical."
   ]
  },
  {
   "cell_type": "markdown",
   "metadata": {},
   "source": [
    "<div>\n",
    "<img src=\"https://www.conversion-uplift.co.uk/wp-content/uploads/2020/06/Skewness-photo.png\" width=\"500\"/>\n",
    "</div>"
   ]
  },
  {
   "cell_type": "code",
   "execution_count": null,
   "metadata": {
    "ExecuteTime": {
     "end_time": "2021-01-26T11:33:02.519625Z",
     "start_time": "2021-01-26T11:33:02.511221Z"
    }
   },
   "outputs": [],
   "source": [
    "from scipy.stats import skew, kurtosis"
   ]
  },
  {
   "cell_type": "code",
   "execution_count": null,
   "metadata": {
    "ExecuteTime": {
     "end_time": "2021-01-26T11:34:12.376666Z",
     "start_time": "2021-01-26T11:34:12.370596Z"
    }
   },
   "outputs": [],
   "source": [
    "def skew_type(skewval, skewthres):\n",
    "    test_skew_value = abs(skewval)-skewthres    \n",
    "    if (test_skew_value > 0) & (np.sign(skewval)>0):\n",
    "        return \"right-tailed\"\n",
    "    elif  (test_skew_value > 0) & (np.sign(skewval)<0):\n",
    "        return \"left-tailed\"\n",
    "    else:\n",
    "        return \"approximately symmetric\"\n",
    "    \n"
   ]
  },
  {
   "cell_type": "code",
   "execution_count": null,
   "metadata": {
    "ExecuteTime": {
     "end_time": "2021-01-26T11:34:13.498278Z",
     "start_time": "2021-01-26T11:34:13.444383Z"
    }
   },
   "outputs": [],
   "source": [
    "for col in ['popularity', 'danceability', 'energy', 'key',\n",
    "       'loudness', 'mode', 'speechiness', 'acousticness', 'instrumentalness',\n",
    "       'liveness', 'valence', 'tempo']:\n",
    "    print(\"Skewness of variable %s : %0.2f (%s)\" %(col, skew(tracks_df[col]), skew_type(skew(tracks_df[col]),0.1)))\n"
   ]
  },
  {
   "cell_type": "markdown",
   "metadata": {
    "ExecuteTime": {
     "end_time": "2020-10-05T02:44:11.580025Z",
     "start_time": "2020-10-05T02:44:11.531052Z"
    }
   },
   "source": [
    "### Kurtosis\n",
    "[Kurtosis](https://towardsdatascience.com/testing-for-normality-using-skewness-and-kurtosis-afd61be860) is a measure of how differently shaped are the tails of a distribution as compared to the tails of the normal distribution. While skewness focuses on the overall shape, Kurtosis focuses on the tail shape.\n",
    "\n",
    "![Kurtosis](https://external-content.duckduckgo.com/iu/?u=http%3A%2F%2Fimg.tfd.com%2Fmk%2FK%2FX2604-K-11.png&f=1&nofb=1)\n",
    "\n",
    "- The kurtosis of a normal distribution is 3.\n",
    "- If kurtosis<3, it is said to be *playkurtic*, which means it tends to produce fewer and less extreme outliers than the normal distribution.\n",
    "- If kurtosis>3, it is said to be *leptokurtic*, which means it tends to produce more outliers than the normal distribution."
   ]
  },
  {
   "cell_type": "code",
   "execution_count": null,
   "metadata": {
    "ExecuteTime": {
     "end_time": "2021-01-26T11:36:59.547501Z",
     "start_time": "2021-01-26T11:36:59.542420Z"
    }
   },
   "outputs": [],
   "source": [
    "def kurtosis_type(kurtval, kurtthres):\n",
    "    test_kurtosis_value = abs(kurtval-kurtthres)\n",
    "    #in scipy's implementation, 3 is subtracted from the original definition of kurtosis   \n",
    "    if (test_kurtosis_value > 0) & (np.sign(kurtval)>0):\n",
    "        return \"heavy-tailed\"\n",
    "    elif  (test_kurtosis_value  > 0) & (np.sign(kurtval)<0):\n",
    "        return \"light-tailed\"\n",
    "    else:\n",
    "        return \"approximately normal\"\n",
    "    \n"
   ]
  },
  {
   "cell_type": "code",
   "execution_count": null,
   "metadata": {
    "ExecuteTime": {
     "end_time": "2021-01-26T11:37:00.038049Z",
     "start_time": "2021-01-26T11:36:59.980571Z"
    }
   },
   "outputs": [],
   "source": [
    "for col in ['popularity', 'danceability', 'energy', 'key',\n",
    "       'loudness', 'mode', 'speechiness', 'acousticness', 'instrumentalness',\n",
    "       'liveness', 'valence', 'tempo']:\n",
    "    print(\"Kurtosis of variable %s : %0.2f (%s)\" %(col, kurtosis(tracks_df[col]), kurtosis_type(kurtosis(tracks_df[col]),0.1)))\n"
   ]
  },
  {
   "cell_type": "markdown",
   "metadata": {},
   "source": [
    "## Try it yourself!\n",
    "Pick an artist and compare each of the audio features distribution of his/her songs to all the charting tracks in the whole time period. What does this say about the artist?"
   ]
  },
  {
   "cell_type": "code",
   "execution_count": null,
   "metadata": {},
   "outputs": [],
   "source": []
  },
  {
   "cell_type": "markdown",
   "metadata": {},
   "source": [
    "### Resources\n",
    "More details on skewness and kurtosis [here](https://codeburst.io/2-important-statistics-terms-you-need-to-know-in-data-science-skewness-and-kurtosis-388fef94eeaa) and [here](https://brownmath.com/stat/shape.htm)\n",
    "\n"
   ]
  }
 ],
 "metadata": {
  "kernelspec": {
   "display_name": "Python 3",
   "language": "python",
   "name": "python3"
  },
  "language_info": {
   "codemirror_mode": {
    "name": "ipython",
    "version": 3
   },
   "file_extension": ".py",
   "mimetype": "text/x-python",
   "name": "python",
   "nbconvert_exporter": "python",
   "pygments_lexer": "ipython3",
   "version": "3.8.5"
  }
 },
 "nbformat": 4,
 "nbformat_minor": 2
}
