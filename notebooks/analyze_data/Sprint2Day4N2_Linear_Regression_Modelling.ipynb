{
 "cells": [
  {
   "cell_type": "markdown",
   "metadata": {},
   "source": [
    "# Linear Regression using the Spotify Charts Dataset"
   ]
  },
  {
   "cell_type": "markdown",
   "metadata": {},
   "source": [
    "Can you build a linear model to predict a song's popularity using the metrics provided as features?\n",
    "\n",
    "The relevant metrics are 'popularity', 'danceability', 'energy','loudness','speechiness', 'acousticness', 'instrumentalness',\n",
    " 'liveness', 'valence', and 'tempo'"
   ]
  },
  {
   "cell_type": "code",
   "execution_count": 1,
   "metadata": {
    "ExecuteTime": {
     "end_time": "2021-01-28T10:34:39.201445Z",
     "start_time": "2021-01-28T10:34:28.466685Z"
    }
   },
   "outputs": [],
   "source": [
    "import numpy as np\n",
    "import pandas as pd\n",
    "import matplotlib.pyplot as plt\n",
    "import seaborn as sns\n",
    "\n",
    "%matplotlib inline"
   ]
  },
  {
   "cell_type": "code",
   "execution_count": 2,
   "metadata": {
    "ExecuteTime": {
     "end_time": "2021-01-28T10:34:39.445447Z",
     "start_time": "2021-01-28T10:34:39.212323Z"
    }
   },
   "outputs": [
    {
     "data": {
      "text/html": [
       "<div>\n",
       "<style scoped>\n",
       "    .dataframe tbody tr th:only-of-type {\n",
       "        vertical-align: middle;\n",
       "    }\n",
       "\n",
       "    .dataframe tbody tr th {\n",
       "        vertical-align: top;\n",
       "    }\n",
       "\n",
       "    .dataframe thead th {\n",
       "        text-align: right;\n",
       "    }\n",
       "</style>\n",
       "<table border=\"1\" class=\"dataframe\">\n",
       "  <thead>\n",
       "    <tr style=\"text-align: right;\">\n",
       "      <th></th>\n",
       "      <th>track_id</th>\n",
       "      <th>track_name</th>\n",
       "      <th>artist_id</th>\n",
       "      <th>artist_name</th>\n",
       "      <th>album_id</th>\n",
       "      <th>duration</th>\n",
       "      <th>release_date</th>\n",
       "      <th>popularity</th>\n",
       "      <th>danceability</th>\n",
       "      <th>energy</th>\n",
       "      <th>key</th>\n",
       "      <th>loudness</th>\n",
       "      <th>mode</th>\n",
       "      <th>speechiness</th>\n",
       "      <th>acousticness</th>\n",
       "      <th>instrumentalness</th>\n",
       "      <th>liveness</th>\n",
       "      <th>valence</th>\n",
       "      <th>tempo</th>\n",
       "    </tr>\n",
       "  </thead>\n",
       "  <tbody>\n",
       "    <tr>\n",
       "      <th>0</th>\n",
       "      <td>0kN8xEmgMW9mh7UmDYHlJP</td>\n",
       "      <td>Versace on the Floor</td>\n",
       "      <td>0du5cEVh5yTK9QJze8zA0C</td>\n",
       "      <td>Bruno Mars</td>\n",
       "      <td>4PgleR09JVnm3zY1fW3XBA</td>\n",
       "      <td>261240</td>\n",
       "      <td>2016-11-17</td>\n",
       "      <td>76</td>\n",
       "      <td>0.578</td>\n",
       "      <td>0.574</td>\n",
       "      <td>2</td>\n",
       "      <td>-6.209</td>\n",
       "      <td>1</td>\n",
       "      <td>0.0454</td>\n",
       "      <td>0.196</td>\n",
       "      <td>0.00000</td>\n",
       "      <td>0.0830</td>\n",
       "      <td>0.301</td>\n",
       "      <td>174.152</td>\n",
       "    </tr>\n",
       "    <tr>\n",
       "      <th>1</th>\n",
       "      <td>5uCax9HTNlzGybIStD3vDh</td>\n",
       "      <td>Say You Won't Let Go</td>\n",
       "      <td>4IWBUUAFIplrNtaOHcJPRM</td>\n",
       "      <td>James Arthur</td>\n",
       "      <td>7oiJYvEJHsmYtrgviAVIBD</td>\n",
       "      <td>211466</td>\n",
       "      <td>2016-10-28</td>\n",
       "      <td>88</td>\n",
       "      <td>0.358</td>\n",
       "      <td>0.557</td>\n",
       "      <td>10</td>\n",
       "      <td>-7.398</td>\n",
       "      <td>1</td>\n",
       "      <td>0.0590</td>\n",
       "      <td>0.695</td>\n",
       "      <td>0.00000</td>\n",
       "      <td>0.0902</td>\n",
       "      <td>0.494</td>\n",
       "      <td>85.043</td>\n",
       "    </tr>\n",
       "    <tr>\n",
       "      <th>2</th>\n",
       "      <td>7BKLCZ1jbUBVqRi2FVlTVw</td>\n",
       "      <td>Closer</td>\n",
       "      <td>69GGBxA162lTqCwzJG5jLp</td>\n",
       "      <td>The Chainsmokers</td>\n",
       "      <td>0rSLgV8p5FzfnqlEk4GzxE</td>\n",
       "      <td>244960</td>\n",
       "      <td>2016-07-29</td>\n",
       "      <td>87</td>\n",
       "      <td>0.748</td>\n",
       "      <td>0.524</td>\n",
       "      <td>8</td>\n",
       "      <td>-5.599</td>\n",
       "      <td>1</td>\n",
       "      <td>0.0338</td>\n",
       "      <td>0.414</td>\n",
       "      <td>0.00000</td>\n",
       "      <td>0.1110</td>\n",
       "      <td>0.661</td>\n",
       "      <td>95.010</td>\n",
       "    </tr>\n",
       "    <tr>\n",
       "      <th>3</th>\n",
       "      <td>2rizacJSyD9S1IQUxUxnsK</td>\n",
       "      <td>All We Know</td>\n",
       "      <td>69GGBxA162lTqCwzJG5jLp</td>\n",
       "      <td>The Chainsmokers</td>\n",
       "      <td>0xmaV6EtJ4M3ebZUPRnhyb</td>\n",
       "      <td>194080</td>\n",
       "      <td>2016-09-29</td>\n",
       "      <td>71</td>\n",
       "      <td>0.662</td>\n",
       "      <td>0.586</td>\n",
       "      <td>0</td>\n",
       "      <td>-8.821</td>\n",
       "      <td>1</td>\n",
       "      <td>0.0307</td>\n",
       "      <td>0.097</td>\n",
       "      <td>0.00272</td>\n",
       "      <td>0.1150</td>\n",
       "      <td>0.296</td>\n",
       "      <td>90.000</td>\n",
       "    </tr>\n",
       "    <tr>\n",
       "      <th>4</th>\n",
       "      <td>5MFzQMkrl1FOOng9tq6R9r</td>\n",
       "      <td>Don't Wanna Know</td>\n",
       "      <td>04gDigrS5kc9YWfZHwBETP</td>\n",
       "      <td>Maroon 5</td>\n",
       "      <td>0fvTn3WXF39kQs9i3bnNpP</td>\n",
       "      <td>214480</td>\n",
       "      <td>2016-10-11</td>\n",
       "      <td>1</td>\n",
       "      <td>0.783</td>\n",
       "      <td>0.623</td>\n",
       "      <td>7</td>\n",
       "      <td>-6.126</td>\n",
       "      <td>1</td>\n",
       "      <td>0.0800</td>\n",
       "      <td>0.338</td>\n",
       "      <td>0.00000</td>\n",
       "      <td>0.0975</td>\n",
       "      <td>0.447</td>\n",
       "      <td>100.048</td>\n",
       "    </tr>\n",
       "  </tbody>\n",
       "</table>\n",
       "</div>"
      ],
      "text/plain": [
       "                 track_id            track_name               artist_id  \\\n",
       "0  0kN8xEmgMW9mh7UmDYHlJP  Versace on the Floor  0du5cEVh5yTK9QJze8zA0C   \n",
       "1  5uCax9HTNlzGybIStD3vDh  Say You Won't Let Go  4IWBUUAFIplrNtaOHcJPRM   \n",
       "2  7BKLCZ1jbUBVqRi2FVlTVw                Closer  69GGBxA162lTqCwzJG5jLp   \n",
       "3  2rizacJSyD9S1IQUxUxnsK           All We Know  69GGBxA162lTqCwzJG5jLp   \n",
       "4  5MFzQMkrl1FOOng9tq6R9r      Don't Wanna Know  04gDigrS5kc9YWfZHwBETP   \n",
       "\n",
       "        artist_name                album_id  duration release_date  \\\n",
       "0        Bruno Mars  4PgleR09JVnm3zY1fW3XBA    261240   2016-11-17   \n",
       "1      James Arthur  7oiJYvEJHsmYtrgviAVIBD    211466   2016-10-28   \n",
       "2  The Chainsmokers  0rSLgV8p5FzfnqlEk4GzxE    244960   2016-07-29   \n",
       "3  The Chainsmokers  0xmaV6EtJ4M3ebZUPRnhyb    194080   2016-09-29   \n",
       "4          Maroon 5  0fvTn3WXF39kQs9i3bnNpP    214480   2016-10-11   \n",
       "\n",
       "   popularity  danceability  energy  key  loudness  mode  speechiness  \\\n",
       "0          76         0.578   0.574    2    -6.209     1       0.0454   \n",
       "1          88         0.358   0.557   10    -7.398     1       0.0590   \n",
       "2          87         0.748   0.524    8    -5.599     1       0.0338   \n",
       "3          71         0.662   0.586    0    -8.821     1       0.0307   \n",
       "4           1         0.783   0.623    7    -6.126     1       0.0800   \n",
       "\n",
       "   acousticness  instrumentalness  liveness  valence    tempo  \n",
       "0         0.196           0.00000    0.0830    0.301  174.152  \n",
       "1         0.695           0.00000    0.0902    0.494   85.043  \n",
       "2         0.414           0.00000    0.1110    0.661   95.010  \n",
       "3         0.097           0.00272    0.1150    0.296   90.000  \n",
       "4         0.338           0.00000    0.0975    0.447  100.048  "
      ]
     },
     "execution_count": 2,
     "metadata": {},
     "output_type": "execute_result"
    }
   ],
   "source": [
    "df = pd.read_csv('data/spotify_daily_charts_tracks.csv')\n",
    "df.head()"
   ]
  },
  {
   "cell_type": "code",
   "execution_count": 3,
   "metadata": {
    "ExecuteTime": {
     "end_time": "2021-01-28T10:34:39.479001Z",
     "start_time": "2021-01-28T10:34:39.449901Z"
    }
   },
   "outputs": [
    {
     "name": "stdout",
     "output_type": "stream",
     "text": [
      "<class 'pandas.core.frame.DataFrame'>\n",
      "RangeIndex: 3284 entries, 0 to 3283\n",
      "Data columns (total 19 columns):\n",
      " #   Column            Non-Null Count  Dtype  \n",
      "---  ------            --------------  -----  \n",
      " 0   track_id          3284 non-null   object \n",
      " 1   track_name        3279 non-null   object \n",
      " 2   artist_id         3284 non-null   object \n",
      " 3   artist_name       3279 non-null   object \n",
      " 4   album_id          3284 non-null   object \n",
      " 5   duration          3284 non-null   int64  \n",
      " 6   release_date      3284 non-null   object \n",
      " 7   popularity        3284 non-null   int64  \n",
      " 8   danceability      3284 non-null   float64\n",
      " 9   energy            3284 non-null   float64\n",
      " 10  key               3284 non-null   int64  \n",
      " 11  loudness          3284 non-null   float64\n",
      " 12  mode              3284 non-null   int64  \n",
      " 13  speechiness       3284 non-null   float64\n",
      " 14  acousticness      3284 non-null   float64\n",
      " 15  instrumentalness  3284 non-null   float64\n",
      " 16  liveness          3284 non-null   float64\n",
      " 17  valence           3284 non-null   float64\n",
      " 18  tempo             3284 non-null   float64\n",
      "dtypes: float64(9), int64(4), object(6)\n",
      "memory usage: 487.6+ KB\n"
     ]
    }
   ],
   "source": [
    "df.info()"
   ]
  },
  {
   "cell_type": "code",
   "execution_count": 4,
   "metadata": {
    "ExecuteTime": {
     "end_time": "2021-01-28T10:34:55.948512Z",
     "start_time": "2021-01-28T10:34:55.934307Z"
    }
   },
   "outputs": [
    {
     "data": {
      "text/plain": [
       "3279"
      ]
     },
     "execution_count": 4,
     "metadata": {},
     "output_type": "execute_result"
    }
   ],
   "source": [
    "# remove null\n",
    "df = df[~df['track_name'].isnull()]\n",
    "len(df)"
   ]
  },
  {
   "cell_type": "code",
   "execution_count": 5,
   "metadata": {
    "ExecuteTime": {
     "end_time": "2021-01-28T10:35:08.504786Z",
     "start_time": "2021-01-28T10:35:08.473082Z"
    }
   },
   "outputs": [
    {
     "data": {
      "text/html": [
       "<div>\n",
       "<style scoped>\n",
       "    .dataframe tbody tr th:only-of-type {\n",
       "        vertical-align: middle;\n",
       "    }\n",
       "\n",
       "    .dataframe tbody tr th {\n",
       "        vertical-align: top;\n",
       "    }\n",
       "\n",
       "    .dataframe thead th {\n",
       "        text-align: right;\n",
       "    }\n",
       "</style>\n",
       "<table border=\"1\" class=\"dataframe\">\n",
       "  <thead>\n",
       "    <tr style=\"text-align: right;\">\n",
       "      <th></th>\n",
       "      <th>popularity</th>\n",
       "      <th>danceability</th>\n",
       "      <th>energy</th>\n",
       "      <th>loudness</th>\n",
       "      <th>speechiness</th>\n",
       "      <th>acousticness</th>\n",
       "      <th>instrumentalness</th>\n",
       "      <th>liveness</th>\n",
       "      <th>valence</th>\n",
       "      <th>tempo</th>\n",
       "    </tr>\n",
       "  </thead>\n",
       "  <tbody>\n",
       "    <tr>\n",
       "      <th>0</th>\n",
       "      <td>76</td>\n",
       "      <td>0.578</td>\n",
       "      <td>0.574</td>\n",
       "      <td>-6.209</td>\n",
       "      <td>0.0454</td>\n",
       "      <td>0.196</td>\n",
       "      <td>0.00000</td>\n",
       "      <td>0.0830</td>\n",
       "      <td>0.301</td>\n",
       "      <td>174.152</td>\n",
       "    </tr>\n",
       "    <tr>\n",
       "      <th>1</th>\n",
       "      <td>88</td>\n",
       "      <td>0.358</td>\n",
       "      <td>0.557</td>\n",
       "      <td>-7.398</td>\n",
       "      <td>0.0590</td>\n",
       "      <td>0.695</td>\n",
       "      <td>0.00000</td>\n",
       "      <td>0.0902</td>\n",
       "      <td>0.494</td>\n",
       "      <td>85.043</td>\n",
       "    </tr>\n",
       "    <tr>\n",
       "      <th>2</th>\n",
       "      <td>87</td>\n",
       "      <td>0.748</td>\n",
       "      <td>0.524</td>\n",
       "      <td>-5.599</td>\n",
       "      <td>0.0338</td>\n",
       "      <td>0.414</td>\n",
       "      <td>0.00000</td>\n",
       "      <td>0.1110</td>\n",
       "      <td>0.661</td>\n",
       "      <td>95.010</td>\n",
       "    </tr>\n",
       "    <tr>\n",
       "      <th>3</th>\n",
       "      <td>71</td>\n",
       "      <td>0.662</td>\n",
       "      <td>0.586</td>\n",
       "      <td>-8.821</td>\n",
       "      <td>0.0307</td>\n",
       "      <td>0.097</td>\n",
       "      <td>0.00272</td>\n",
       "      <td>0.1150</td>\n",
       "      <td>0.296</td>\n",
       "      <td>90.000</td>\n",
       "    </tr>\n",
       "    <tr>\n",
       "      <th>4</th>\n",
       "      <td>1</td>\n",
       "      <td>0.783</td>\n",
       "      <td>0.623</td>\n",
       "      <td>-6.126</td>\n",
       "      <td>0.0800</td>\n",
       "      <td>0.338</td>\n",
       "      <td>0.00000</td>\n",
       "      <td>0.0975</td>\n",
       "      <td>0.447</td>\n",
       "      <td>100.048</td>\n",
       "    </tr>\n",
       "  </tbody>\n",
       "</table>\n",
       "</div>"
      ],
      "text/plain": [
       "   popularity  danceability  energy  loudness  speechiness  acousticness  \\\n",
       "0          76         0.578   0.574    -6.209       0.0454         0.196   \n",
       "1          88         0.358   0.557    -7.398       0.0590         0.695   \n",
       "2          87         0.748   0.524    -5.599       0.0338         0.414   \n",
       "3          71         0.662   0.586    -8.821       0.0307         0.097   \n",
       "4           1         0.783   0.623    -6.126       0.0800         0.338   \n",
       "\n",
       "   instrumentalness  liveness  valence    tempo  \n",
       "0           0.00000    0.0830    0.301  174.152  \n",
       "1           0.00000    0.0902    0.494   85.043  \n",
       "2           0.00000    0.1110    0.661   95.010  \n",
       "3           0.00272    0.1150    0.296   90.000  \n",
       "4           0.00000    0.0975    0.447  100.048  "
      ]
     },
     "execution_count": 5,
     "metadata": {},
     "output_type": "execute_result"
    }
   ],
   "source": [
    "#filter unnecessary fields\n",
    "df =df[['popularity', 'danceability', 'energy',\n",
    "       'loudness','speechiness', 'acousticness', 'instrumentalness',\n",
    "       'liveness', 'valence', 'tempo']]\n",
    "df.head()"
   ]
  },
  {
   "cell_type": "markdown",
   "metadata": {},
   "source": [
    "### 1. Explore the dataset"
   ]
  },
  {
   "cell_type": "code",
   "execution_count": 6,
   "metadata": {
    "ExecuteTime": {
     "end_time": "2021-01-28T10:35:21.490848Z",
     "start_time": "2021-01-28T10:35:21.420974Z"
    },
    "scrolled": true
   },
   "outputs": [
    {
     "data": {
      "text/html": [
       "<div>\n",
       "<style scoped>\n",
       "    .dataframe tbody tr th:only-of-type {\n",
       "        vertical-align: middle;\n",
       "    }\n",
       "\n",
       "    .dataframe tbody tr th {\n",
       "        vertical-align: top;\n",
       "    }\n",
       "\n",
       "    .dataframe thead th {\n",
       "        text-align: right;\n",
       "    }\n",
       "</style>\n",
       "<table border=\"1\" class=\"dataframe\">\n",
       "  <thead>\n",
       "    <tr style=\"text-align: right;\">\n",
       "      <th></th>\n",
       "      <th>popularity</th>\n",
       "      <th>danceability</th>\n",
       "      <th>energy</th>\n",
       "      <th>loudness</th>\n",
       "      <th>speechiness</th>\n",
       "      <th>acousticness</th>\n",
       "      <th>instrumentalness</th>\n",
       "      <th>liveness</th>\n",
       "      <th>valence</th>\n",
       "      <th>tempo</th>\n",
       "    </tr>\n",
       "  </thead>\n",
       "  <tbody>\n",
       "    <tr>\n",
       "      <th>count</th>\n",
       "      <td>3279.000000</td>\n",
       "      <td>3279.000000</td>\n",
       "      <td>3279.000000</td>\n",
       "      <td>3279.000000</td>\n",
       "      <td>3279.000000</td>\n",
       "      <td>3279.000000</td>\n",
       "      <td>3279.000000</td>\n",
       "      <td>3279.000000</td>\n",
       "      <td>3279.000000</td>\n",
       "      <td>3279.000000</td>\n",
       "    </tr>\n",
       "    <tr>\n",
       "      <th>mean</th>\n",
       "      <td>51.801464</td>\n",
       "      <td>0.634323</td>\n",
       "      <td>0.602229</td>\n",
       "      <td>-6.767701</td>\n",
       "      <td>0.082555</td>\n",
       "      <td>0.273213</td>\n",
       "      <td>0.009939</td>\n",
       "      <td>0.169303</td>\n",
       "      <td>0.458960</td>\n",
       "      <td>118.572526</td>\n",
       "    </tr>\n",
       "    <tr>\n",
       "      <th>std</th>\n",
       "      <td>30.181148</td>\n",
       "      <td>0.141427</td>\n",
       "      <td>0.187310</td>\n",
       "      <td>2.736666</td>\n",
       "      <td>0.081633</td>\n",
       "      <td>0.273254</td>\n",
       "      <td>0.070286</td>\n",
       "      <td>0.130588</td>\n",
       "      <td>0.215028</td>\n",
       "      <td>27.670082</td>\n",
       "    </tr>\n",
       "    <tr>\n",
       "      <th>min</th>\n",
       "      <td>0.000000</td>\n",
       "      <td>0.174000</td>\n",
       "      <td>0.025000</td>\n",
       "      <td>-24.250000</td>\n",
       "      <td>0.023200</td>\n",
       "      <td>0.000002</td>\n",
       "      <td>0.000000</td>\n",
       "      <td>0.021500</td>\n",
       "      <td>0.034900</td>\n",
       "      <td>52.572000</td>\n",
       "    </tr>\n",
       "    <tr>\n",
       "      <th>25%</th>\n",
       "      <td>31.000000</td>\n",
       "      <td>0.544500</td>\n",
       "      <td>0.475000</td>\n",
       "      <td>-8.139000</td>\n",
       "      <td>0.035950</td>\n",
       "      <td>0.045900</td>\n",
       "      <td>0.000000</td>\n",
       "      <td>0.092800</td>\n",
       "      <td>0.291000</td>\n",
       "      <td>97.980000</td>\n",
       "    </tr>\n",
       "    <tr>\n",
       "      <th>50%</th>\n",
       "      <td>63.000000</td>\n",
       "      <td>0.651000</td>\n",
       "      <td>0.617000</td>\n",
       "      <td>-6.344000</td>\n",
       "      <td>0.051900</td>\n",
       "      <td>0.170000</td>\n",
       "      <td>0.000000</td>\n",
       "      <td>0.118000</td>\n",
       "      <td>0.449000</td>\n",
       "      <td>115.884000</td>\n",
       "    </tr>\n",
       "    <tr>\n",
       "      <th>75%</th>\n",
       "      <td>74.000000</td>\n",
       "      <td>0.735000</td>\n",
       "      <td>0.744000</td>\n",
       "      <td>-4.859000</td>\n",
       "      <td>0.089700</td>\n",
       "      <td>0.450000</td>\n",
       "      <td>0.000020</td>\n",
       "      <td>0.200000</td>\n",
       "      <td>0.612000</td>\n",
       "      <td>136.041000</td>\n",
       "    </tr>\n",
       "    <tr>\n",
       "      <th>max</th>\n",
       "      <td>100.000000</td>\n",
       "      <td>0.980000</td>\n",
       "      <td>0.978000</td>\n",
       "      <td>0.175000</td>\n",
       "      <td>0.884000</td>\n",
       "      <td>0.981000</td>\n",
       "      <td>0.908000</td>\n",
       "      <td>0.955000</td>\n",
       "      <td>0.978000</td>\n",
       "      <td>215.090000</td>\n",
       "    </tr>\n",
       "  </tbody>\n",
       "</table>\n",
       "</div>"
      ],
      "text/plain": [
       "        popularity  danceability       energy     loudness  speechiness  \\\n",
       "count  3279.000000   3279.000000  3279.000000  3279.000000  3279.000000   \n",
       "mean     51.801464      0.634323     0.602229    -6.767701     0.082555   \n",
       "std      30.181148      0.141427     0.187310     2.736666     0.081633   \n",
       "min       0.000000      0.174000     0.025000   -24.250000     0.023200   \n",
       "25%      31.000000      0.544500     0.475000    -8.139000     0.035950   \n",
       "50%      63.000000      0.651000     0.617000    -6.344000     0.051900   \n",
       "75%      74.000000      0.735000     0.744000    -4.859000     0.089700   \n",
       "max     100.000000      0.980000     0.978000     0.175000     0.884000   \n",
       "\n",
       "       acousticness  instrumentalness     liveness      valence        tempo  \n",
       "count   3279.000000       3279.000000  3279.000000  3279.000000  3279.000000  \n",
       "mean       0.273213          0.009939     0.169303     0.458960   118.572526  \n",
       "std        0.273254          0.070286     0.130588     0.215028    27.670082  \n",
       "min        0.000002          0.000000     0.021500     0.034900    52.572000  \n",
       "25%        0.045900          0.000000     0.092800     0.291000    97.980000  \n",
       "50%        0.170000          0.000000     0.118000     0.449000   115.884000  \n",
       "75%        0.450000          0.000020     0.200000     0.612000   136.041000  \n",
       "max        0.981000          0.908000     0.955000     0.978000   215.090000  "
      ]
     },
     "execution_count": 6,
     "metadata": {},
     "output_type": "execute_result"
    }
   ],
   "source": [
    "#Make a table of distribution stats of song metrics using df.describe\n",
    "\n",
    "df[['popularity', 'danceability', 'energy',\n",
    "       'loudness','speechiness', 'acousticness', 'instrumentalness',\n",
    "       'liveness', 'valence', 'tempo']].describe()"
   ]
  },
  {
   "cell_type": "code",
   "execution_count": 7,
   "metadata": {
    "ExecuteTime": {
     "end_time": "2021-01-28T10:35:59.392948Z",
     "start_time": "2021-01-28T10:35:53.477695Z"
    }
   },
   "outputs": [
    {
     "name": "stderr",
     "output_type": "stream",
     "text": [
      "/home/pollux/anaconda3/lib/python3.8/site-packages/seaborn/distributions.py:2551: FutureWarning: `distplot` is a deprecated function and will be removed in a future version. Please adapt your code to use either `displot` (a figure-level function with similar flexibility) or `histplot` (an axes-level function for histograms).\n",
      "  warnings.warn(msg, FutureWarning)\n",
      "/home/pollux/anaconda3/lib/python3.8/site-packages/matplotlib/cbook/__init__.py:1402: FutureWarning: Support for multi-dimensional indexing (e.g. `obj[:, None]`) is deprecated and will be removed in a future version.  Convert to a numpy array before indexing instead.\n",
      "  ndim = x[:, None].ndim\n",
      "/home/pollux/anaconda3/lib/python3.8/site-packages/matplotlib/axes/_base.py:276: FutureWarning: Support for multi-dimensional indexing (e.g. `obj[:, None]`) is deprecated and will be removed in a future version.  Convert to a numpy array before indexing instead.\n",
      "  x = x[:, np.newaxis]\n",
      "/home/pollux/anaconda3/lib/python3.8/site-packages/matplotlib/axes/_base.py:278: FutureWarning: Support for multi-dimensional indexing (e.g. `obj[:, None]`) is deprecated and will be removed in a future version.  Convert to a numpy array before indexing instead.\n",
      "  y = y[:, np.newaxis]\n"
     ]
    },
    {
     "data": {
      "image/png": "[encoded data removed]",
      "text/plain": [
       "<Figure size 432x288 with 1 Axes>"
      ]
     },
     "metadata": {
      "needs_background": "light"
     },
     "output_type": "display_data"
    },
    {
     "name": "stderr",
     "output_type": "stream",
     "text": [
      "/home/pollux/anaconda3/lib/python3.8/site-packages/seaborn/distributions.py:2551: FutureWarning: `distplot` is a deprecated function and will be removed in a future version. Please adapt your code to use either `displot` (a figure-level function with similar flexibility) or `histplot` (an axes-level function for histograms).\n",
      "  warnings.warn(msg, FutureWarning)\n",
      "/home/pollux/anaconda3/lib/python3.8/site-packages/matplotlib/cbook/__init__.py:1402: FutureWarning: Support for multi-dimensional indexing (e.g. `obj[:, None]`) is deprecated and will be removed in a future version.  Convert to a numpy array before indexing instead.\n",
      "  ndim = x[:, None].ndim\n",
      "/home/pollux/anaconda3/lib/python3.8/site-packages/matplotlib/axes/_base.py:276: FutureWarning: Support for multi-dimensional indexing (e.g. `obj[:, None]`) is deprecated and will be removed in a future version.  Convert to a numpy array before indexing instead.\n",
      "  x = x[:, np.newaxis]\n",
      "/home/pollux/anaconda3/lib/python3.8/site-packages/matplotlib/axes/_base.py:278: FutureWarning: Support for multi-dimensional indexing (e.g. `obj[:, None]`) is deprecated and will be removed in a future version.  Convert to a numpy array before indexing instead.\n",
      "  y = y[:, np.newaxis]\n"
     ]
    },
    {
     "data": {
      "image/png": "[encoded data removed]",
      "text/plain": [
       "<Figure size 432x288 with 1 Axes>"
      ]
     },
     "metadata": {
      "needs_background": "light"
     },
     "output_type": "display_data"
    },
    {
     "name": "stderr",
     "output_type": "stream",
     "text": [
      "/home/pollux/anaconda3/lib/python3.8/site-packages/seaborn/distributions.py:2551: FutureWarning: `distplot` is a deprecated function and will be removed in a future version. Please adapt your code to use either `displot` (a figure-level function with similar flexibility) or `histplot` (an axes-level function for histograms).\n",
      "  warnings.warn(msg, FutureWarning)\n",
      "/home/pollux/anaconda3/lib/python3.8/site-packages/matplotlib/cbook/__init__.py:1402: FutureWarning: Support for multi-dimensional indexing (e.g. `obj[:, None]`) is deprecated and will be removed in a future version.  Convert to a numpy array before indexing instead.\n",
      "  ndim = x[:, None].ndim\n",
      "/home/pollux/anaconda3/lib/python3.8/site-packages/matplotlib/axes/_base.py:276: FutureWarning: Support for multi-dimensional indexing (e.g. `obj[:, None]`) is deprecated and will be removed in a future version.  Convert to a numpy array before indexing instead.\n",
      "  x = x[:, np.newaxis]\n",
      "/home/pollux/anaconda3/lib/python3.8/site-packages/matplotlib/axes/_base.py:278: FutureWarning: Support for multi-dimensional indexing (e.g. `obj[:, None]`) is deprecated and will be removed in a future version.  Convert to a numpy array before indexing instead.\n",
      "  y = y[:, np.newaxis]\n"
     ]
    },
    {
     "data": {
      "image/png": "[encoded data removed]",
      "text/plain": [
       "<Figure size 432x288 with 1 Axes>"
      ]
     },
     "metadata": {
      "needs_background": "light"
     },
     "output_type": "display_data"
    },
    {
     "name": "stderr",
     "output_type": "stream",
     "text": [
      "/home/pollux/anaconda3/lib/python3.8/site-packages/seaborn/distributions.py:2551: FutureWarning: `distplot` is a deprecated function and will be removed in a future version. Please adapt your code to use either `displot` (a figure-level function with similar flexibility) or `histplot` (an axes-level function for histograms).\n",
      "  warnings.warn(msg, FutureWarning)\n",
      "/home/pollux/anaconda3/lib/python3.8/site-packages/matplotlib/cbook/__init__.py:1402: FutureWarning: Support for multi-dimensional indexing (e.g. `obj[:, None]`) is deprecated and will be removed in a future version.  Convert to a numpy array before indexing instead.\n",
      "  ndim = x[:, None].ndim\n",
      "/home/pollux/anaconda3/lib/python3.8/site-packages/matplotlib/axes/_base.py:276: FutureWarning: Support for multi-dimensional indexing (e.g. `obj[:, None]`) is deprecated and will be removed in a future version.  Convert to a numpy array before indexing instead.\n",
      "  x = x[:, np.newaxis]\n",
      "/home/pollux/anaconda3/lib/python3.8/site-packages/matplotlib/axes/_base.py:278: FutureWarning: Support for multi-dimensional indexing (e.g. `obj[:, None]`) is deprecated and will be removed in a future version.  Convert to a numpy array before indexing instead.\n",
      "  y = y[:, np.newaxis]\n"
     ]
    },
    {
     "data": {
      "image/png": "[encoded data removed]",
      "text/plain": [
       "<Figure size 432x288 with 1 Axes>"
      ]
     },
     "metadata": {
      "needs_background": "light"
     },
     "output_type": "display_data"
    },
    {
     "name": "stderr",
     "output_type": "stream",
     "text": [
      "/home/pollux/anaconda3/lib/python3.8/site-packages/seaborn/distributions.py:2551: FutureWarning: `distplot` is a deprecated function and will be removed in a future version. Please adapt your code to use either `displot` (a figure-level function with similar flexibility) or `histplot` (an axes-level function for histograms).\n",
      "  warnings.warn(msg, FutureWarning)\n",
      "/home/pollux/anaconda3/lib/python3.8/site-packages/matplotlib/cbook/__init__.py:1402: FutureWarning: Support for multi-dimensional indexing (e.g. `obj[:, None]`) is deprecated and will be removed in a future version.  Convert to a numpy array before indexing instead.\n",
      "  ndim = x[:, None].ndim\n",
      "/home/pollux/anaconda3/lib/python3.8/site-packages/matplotlib/axes/_base.py:276: FutureWarning: Support for multi-dimensional indexing (e.g. `obj[:, None]`) is deprecated and will be removed in a future version.  Convert to a numpy array before indexing instead.\n",
      "  x = x[:, np.newaxis]\n",
      "/home/pollux/anaconda3/lib/python3.8/site-packages/matplotlib/axes/_base.py:278: FutureWarning: Support for multi-dimensional indexing (e.g. `obj[:, None]`) is deprecated and will be removed in a future version.  Convert to a numpy array before indexing instead.\n",
      "  y = y[:, np.newaxis]\n"
     ]
    },
    {
     "data": {
      "image/png": "[encoded data removed]",
      "text/plain": [
       "<Figure size 432x288 with 1 Axes>"
      ]
     },
     "metadata": {
      "needs_background": "light"
     },
     "output_type": "display_data"
    },
    {
     "name": "stderr",
     "output_type": "stream",
     "text": [
      "/home/pollux/anaconda3/lib/python3.8/site-packages/seaborn/distributions.py:2551: FutureWarning: `distplot` is a deprecated function and will be removed in a future version. Please adapt your code to use either `displot` (a figure-level function with similar flexibility) or `histplot` (an axes-level function for histograms).\n",
      "  warnings.warn(msg, FutureWarning)\n",
      "/home/pollux/anaconda3/lib/python3.8/site-packages/matplotlib/cbook/__init__.py:1402: FutureWarning: Support for multi-dimensional indexing (e.g. `obj[:, None]`) is deprecated and will be removed in a future version.  Convert to a numpy array before indexing instead.\n",
      "  ndim = x[:, None].ndim\n",
      "/home/pollux/anaconda3/lib/python3.8/site-packages/matplotlib/axes/_base.py:276: FutureWarning: Support for multi-dimensional indexing (e.g. `obj[:, None]`) is deprecated and will be removed in a future version.  Convert to a numpy array before indexing instead.\n",
      "  x = x[:, np.newaxis]\n",
      "/home/pollux/anaconda3/lib/python3.8/site-packages/matplotlib/axes/_base.py:278: FutureWarning: Support for multi-dimensional indexing (e.g. `obj[:, None]`) is deprecated and will be removed in a future version.  Convert to a numpy array before indexing instead.\n",
      "  y = y[:, np.newaxis]\n"
     ]
    },
    {
     "data": {
      "image/png": "[encoded data removed]",
      "text/plain": [
       "<Figure size 432x288 with 1 Axes>"
      ]
     },
     "metadata": {
      "needs_background": "light"
     },
     "output_type": "display_data"
    },
    {
     "name": "stderr",
     "output_type": "stream",
     "text": [
      "/home/pollux/anaconda3/lib/python3.8/site-packages/seaborn/distributions.py:2551: FutureWarning: `distplot` is a deprecated function and will be removed in a future version. Please adapt your code to use either `displot` (a figure-level function with similar flexibility) or `histplot` (an axes-level function for histograms).\n",
      "  warnings.warn(msg, FutureWarning)\n",
      "/home/pollux/anaconda3/lib/python3.8/site-packages/matplotlib/cbook/__init__.py:1402: FutureWarning: Support for multi-dimensional indexing (e.g. `obj[:, None]`) is deprecated and will be removed in a future version.  Convert to a numpy array before indexing instead.\n",
      "  ndim = x[:, None].ndim\n",
      "/home/pollux/anaconda3/lib/python3.8/site-packages/matplotlib/axes/_base.py:276: FutureWarning: Support for multi-dimensional indexing (e.g. `obj[:, None]`) is deprecated and will be removed in a future version.  Convert to a numpy array before indexing instead.\n",
      "  x = x[:, np.newaxis]\n",
      "/home/pollux/anaconda3/lib/python3.8/site-packages/matplotlib/axes/_base.py:278: FutureWarning: Support for multi-dimensional indexing (e.g. `obj[:, None]`) is deprecated and will be removed in a future version.  Convert to a numpy array before indexing instead.\n",
      "  y = y[:, np.newaxis]\n"
     ]
    },
    {
     "data": {
      "image/png": "[encoded data removed]",
      "text/plain": [
       "<Figure size 432x288 with 1 Axes>"
      ]
     },
     "metadata": {
      "needs_background": "light"
     },
     "output_type": "display_data"
    },
    {
     "name": "stderr",
     "output_type": "stream",
     "text": [
      "/home/pollux/anaconda3/lib/python3.8/site-packages/seaborn/distributions.py:2551: FutureWarning: `distplot` is a deprecated function and will be removed in a future version. Please adapt your code to use either `displot` (a figure-level function with similar flexibility) or `histplot` (an axes-level function for histograms).\n",
      "  warnings.warn(msg, FutureWarning)\n",
      "/home/pollux/anaconda3/lib/python3.8/site-packages/matplotlib/cbook/__init__.py:1402: FutureWarning: Support for multi-dimensional indexing (e.g. `obj[:, None]`) is deprecated and will be removed in a future version.  Convert to a numpy array before indexing instead.\n",
      "  ndim = x[:, None].ndim\n",
      "/home/pollux/anaconda3/lib/python3.8/site-packages/matplotlib/axes/_base.py:276: FutureWarning: Support for multi-dimensional indexing (e.g. `obj[:, None]`) is deprecated and will be removed in a future version.  Convert to a numpy array before indexing instead.\n",
      "  x = x[:, np.newaxis]\n",
      "/home/pollux/anaconda3/lib/python3.8/site-packages/matplotlib/axes/_base.py:278: FutureWarning: Support for multi-dimensional indexing (e.g. `obj[:, None]`) is deprecated and will be removed in a future version.  Convert to a numpy array before indexing instead.\n",
      "  y = y[:, np.newaxis]\n"
     ]
    },
    {
     "data": {
      "image/png": "[encoded data removed]",
      "text/plain": [
       "<Figure size 432x288 with 1 Axes>"
      ]
     },
     "metadata": {
      "needs_background": "light"
     },
     "output_type": "display_data"
    },
    {
     "name": "stderr",
     "output_type": "stream",
     "text": [
      "/home/pollux/anaconda3/lib/python3.8/site-packages/seaborn/distributions.py:2551: FutureWarning: `distplot` is a deprecated function and will be removed in a future version. Please adapt your code to use either `displot` (a figure-level function with similar flexibility) or `histplot` (an axes-level function for histograms).\n",
      "  warnings.warn(msg, FutureWarning)\n",
      "/home/pollux/anaconda3/lib/python3.8/site-packages/matplotlib/cbook/__init__.py:1402: FutureWarning: Support for multi-dimensional indexing (e.g. `obj[:, None]`) is deprecated and will be removed in a future version.  Convert to a numpy array before indexing instead.\n",
      "  ndim = x[:, None].ndim\n",
      "/home/pollux/anaconda3/lib/python3.8/site-packages/matplotlib/axes/_base.py:276: FutureWarning: Support for multi-dimensional indexing (e.g. `obj[:, None]`) is deprecated and will be removed in a future version.  Convert to a numpy array before indexing instead.\n",
      "  x = x[:, np.newaxis]\n",
      "/home/pollux/anaconda3/lib/python3.8/site-packages/matplotlib/axes/_base.py:278: FutureWarning: Support for multi-dimensional indexing (e.g. `obj[:, None]`) is deprecated and will be removed in a future version.  Convert to a numpy array before indexing instead.\n",
      "  y = y[:, np.newaxis]\n"
     ]
    },
    {
     "data": {
      "image/png": "[encoded data removed]",
      "text/plain": [
       "<Figure size 432x288 with 1 Axes>"
      ]
     },
     "metadata": {
      "needs_background": "light"
     },
     "output_type": "display_data"
    },
    {
     "name": "stderr",
     "output_type": "stream",
     "text": [
      "/home/pollux/anaconda3/lib/python3.8/site-packages/seaborn/distributions.py:2551: FutureWarning: `distplot` is a deprecated function and will be removed in a future version. Please adapt your code to use either `displot` (a figure-level function with similar flexibility) or `histplot` (an axes-level function for histograms).\n",
      "  warnings.warn(msg, FutureWarning)\n",
      "/home/pollux/anaconda3/lib/python3.8/site-packages/matplotlib/cbook/__init__.py:1402: FutureWarning: Support for multi-dimensional indexing (e.g. `obj[:, None]`) is deprecated and will be removed in a future version.  Convert to a numpy array before indexing instead.\n",
      "  ndim = x[:, None].ndim\n",
      "/home/pollux/anaconda3/lib/python3.8/site-packages/matplotlib/axes/_base.py:276: FutureWarning: Support for multi-dimensional indexing (e.g. `obj[:, None]`) is deprecated and will be removed in a future version.  Convert to a numpy array before indexing instead.\n",
      "  x = x[:, np.newaxis]\n",
      "/home/pollux/anaconda3/lib/python3.8/site-packages/matplotlib/axes/_base.py:278: FutureWarning: Support for multi-dimensional indexing (e.g. `obj[:, None]`) is deprecated and will be removed in a future version.  Convert to a numpy array before indexing instead.\n",
      "  y = y[:, np.newaxis]\n"
     ]
    },
    {
     "data": {
      "image/png": "[encoded data removed]",
      "text/plain": [
       "<Figure size 432x288 with 1 Axes>"
      ]
     },
     "metadata": {
      "needs_background": "light"
     },
     "output_type": "display_data"
    }
   ],
   "source": [
    "# Visualize histograms of each song metric\n",
    "for col in ['popularity', 'danceability', 'energy','loudness', 'speechiness', 'acousticness', 'instrumentalness',\n",
    "       'liveness', 'valence', 'tempo']:\n",
    "    sns.distplot(df[col])\n",
    "    plt.title(col)\n",
    "    plt.ylabel('Frequency')\n",
    "    plt.show()\n"
   ]
  },
  {
   "cell_type": "markdown",
   "metadata": {},
   "source": [
    "### 2. Feature Engineering"
   ]
  },
  {
   "cell_type": "markdown",
   "metadata": {},
   "source": [
    "Normalize loudness and tempo. \n",
    ">Q: Whats the best norm to use for each?\n"
   ]
  },
  {
   "cell_type": "code",
   "execution_count": 8,
   "metadata": {
    "ExecuteTime": {
     "end_time": "2021-01-28T10:37:49.868979Z",
     "start_time": "2021-01-28T10:37:47.261837Z"
    }
   },
   "outputs": [
    {
     "data": {
      "text/html": [
       "<div>\n",
       "<style scoped>\n",
       "    .dataframe tbody tr th:only-of-type {\n",
       "        vertical-align: middle;\n",
       "    }\n",
       "\n",
       "    .dataframe tbody tr th {\n",
       "        vertical-align: top;\n",
       "    }\n",
       "\n",
       "    .dataframe thead th {\n",
       "        text-align: right;\n",
       "    }\n",
       "</style>\n",
       "<table border=\"1\" class=\"dataframe\">\n",
       "  <thead>\n",
       "    <tr style=\"text-align: right;\">\n",
       "      <th></th>\n",
       "      <th>popularity</th>\n",
       "      <th>danceability</th>\n",
       "      <th>energy</th>\n",
       "      <th>loudness</th>\n",
       "      <th>speechiness</th>\n",
       "      <th>acousticness</th>\n",
       "      <th>instrumentalness</th>\n",
       "      <th>liveness</th>\n",
       "      <th>valence</th>\n",
       "      <th>tempo</th>\n",
       "    </tr>\n",
       "  </thead>\n",
       "  <tbody>\n",
       "    <tr>\n",
       "      <th>0</th>\n",
       "      <td>76</td>\n",
       "      <td>0.578</td>\n",
       "      <td>0.574</td>\n",
       "      <td>0.738628</td>\n",
       "      <td>0.0454</td>\n",
       "      <td>0.196</td>\n",
       "      <td>0.00000</td>\n",
       "      <td>0.0830</td>\n",
       "      <td>0.301</td>\n",
       "      <td>174.152</td>\n",
       "    </tr>\n",
       "    <tr>\n",
       "      <th>1</th>\n",
       "      <td>88</td>\n",
       "      <td>0.358</td>\n",
       "      <td>0.557</td>\n",
       "      <td>0.689949</td>\n",
       "      <td>0.0590</td>\n",
       "      <td>0.695</td>\n",
       "      <td>0.00000</td>\n",
       "      <td>0.0902</td>\n",
       "      <td>0.494</td>\n",
       "      <td>85.043</td>\n",
       "    </tr>\n",
       "    <tr>\n",
       "      <th>2</th>\n",
       "      <td>87</td>\n",
       "      <td>0.748</td>\n",
       "      <td>0.524</td>\n",
       "      <td>0.763603</td>\n",
       "      <td>0.0338</td>\n",
       "      <td>0.414</td>\n",
       "      <td>0.00000</td>\n",
       "      <td>0.1110</td>\n",
       "      <td>0.661</td>\n",
       "      <td>95.010</td>\n",
       "    </tr>\n",
       "    <tr>\n",
       "      <th>3</th>\n",
       "      <td>71</td>\n",
       "      <td>0.662</td>\n",
       "      <td>0.586</td>\n",
       "      <td>0.631689</td>\n",
       "      <td>0.0307</td>\n",
       "      <td>0.097</td>\n",
       "      <td>0.00272</td>\n",
       "      <td>0.1150</td>\n",
       "      <td>0.296</td>\n",
       "      <td>90.000</td>\n",
       "    </tr>\n",
       "    <tr>\n",
       "      <th>4</th>\n",
       "      <td>1</td>\n",
       "      <td>0.783</td>\n",
       "      <td>0.623</td>\n",
       "      <td>0.742027</td>\n",
       "      <td>0.0800</td>\n",
       "      <td>0.338</td>\n",
       "      <td>0.00000</td>\n",
       "      <td>0.0975</td>\n",
       "      <td>0.447</td>\n",
       "      <td>100.048</td>\n",
       "    </tr>\n",
       "  </tbody>\n",
       "</table>\n",
       "</div>"
      ],
      "text/plain": [
       "   popularity  danceability  energy  loudness  speechiness  acousticness  \\\n",
       "0          76         0.578   0.574  0.738628       0.0454         0.196   \n",
       "1          88         0.358   0.557  0.689949       0.0590         0.695   \n",
       "2          87         0.748   0.524  0.763603       0.0338         0.414   \n",
       "3          71         0.662   0.586  0.631689       0.0307         0.097   \n",
       "4           1         0.783   0.623  0.742027       0.0800         0.338   \n",
       "\n",
       "   instrumentalness  liveness  valence    tempo  \n",
       "0           0.00000    0.0830    0.301  174.152  \n",
       "1           0.00000    0.0902    0.494   85.043  \n",
       "2           0.00000    0.1110    0.661   95.010  \n",
       "3           0.00272    0.1150    0.296   90.000  \n",
       "4           0.00000    0.0975    0.447  100.048  "
      ]
     },
     "execution_count": 8,
     "metadata": {},
     "output_type": "execute_result"
    }
   ],
   "source": [
    "from sklearn.preprocessing import MinMaxScaler\n",
    "scaler = MinMaxScaler()\n",
    "\n",
    "df['loudness'] = scaler.fit_transform(df[['loudness']])\n",
    "df.head()"
   ]
  },
  {
   "cell_type": "code",
   "execution_count": 9,
   "metadata": {
    "ExecuteTime": {
     "end_time": "2021-01-28T10:37:54.286462Z",
     "start_time": "2021-01-28T10:37:54.247083Z"
    }
   },
   "outputs": [
    {
     "data": {
      "text/html": [
       "<div>\n",
       "<style scoped>\n",
       "    .dataframe tbody tr th:only-of-type {\n",
       "        vertical-align: middle;\n",
       "    }\n",
       "\n",
       "    .dataframe tbody tr th {\n",
       "        vertical-align: top;\n",
       "    }\n",
       "\n",
       "    .dataframe thead th {\n",
       "        text-align: right;\n",
       "    }\n",
       "</style>\n",
       "<table border=\"1\" class=\"dataframe\">\n",
       "  <thead>\n",
       "    <tr style=\"text-align: right;\">\n",
       "      <th></th>\n",
       "      <th>popularity</th>\n",
       "      <th>danceability</th>\n",
       "      <th>energy</th>\n",
       "      <th>loudness</th>\n",
       "      <th>speechiness</th>\n",
       "      <th>acousticness</th>\n",
       "      <th>instrumentalness</th>\n",
       "      <th>liveness</th>\n",
       "      <th>valence</th>\n",
       "      <th>tempo</th>\n",
       "    </tr>\n",
       "  </thead>\n",
       "  <tbody>\n",
       "    <tr>\n",
       "      <th>0</th>\n",
       "      <td>76</td>\n",
       "      <td>0.578</td>\n",
       "      <td>0.574</td>\n",
       "      <td>0.738628</td>\n",
       "      <td>0.0454</td>\n",
       "      <td>0.196</td>\n",
       "      <td>0.00000</td>\n",
       "      <td>0.0830</td>\n",
       "      <td>0.301</td>\n",
       "      <td>0.748102</td>\n",
       "    </tr>\n",
       "    <tr>\n",
       "      <th>1</th>\n",
       "      <td>88</td>\n",
       "      <td>0.358</td>\n",
       "      <td>0.557</td>\n",
       "      <td>0.689949</td>\n",
       "      <td>0.0590</td>\n",
       "      <td>0.695</td>\n",
       "      <td>0.00000</td>\n",
       "      <td>0.0902</td>\n",
       "      <td>0.494</td>\n",
       "      <td>0.199799</td>\n",
       "    </tr>\n",
       "    <tr>\n",
       "      <th>2</th>\n",
       "      <td>87</td>\n",
       "      <td>0.748</td>\n",
       "      <td>0.524</td>\n",
       "      <td>0.763603</td>\n",
       "      <td>0.0338</td>\n",
       "      <td>0.414</td>\n",
       "      <td>0.00000</td>\n",
       "      <td>0.1110</td>\n",
       "      <td>0.661</td>\n",
       "      <td>0.261128</td>\n",
       "    </tr>\n",
       "    <tr>\n",
       "      <th>3</th>\n",
       "      <td>71</td>\n",
       "      <td>0.662</td>\n",
       "      <td>0.586</td>\n",
       "      <td>0.631689</td>\n",
       "      <td>0.0307</td>\n",
       "      <td>0.097</td>\n",
       "      <td>0.00272</td>\n",
       "      <td>0.1150</td>\n",
       "      <td>0.296</td>\n",
       "      <td>0.230301</td>\n",
       "    </tr>\n",
       "    <tr>\n",
       "      <th>4</th>\n",
       "      <td>1</td>\n",
       "      <td>0.783</td>\n",
       "      <td>0.623</td>\n",
       "      <td>0.742027</td>\n",
       "      <td>0.0800</td>\n",
       "      <td>0.338</td>\n",
       "      <td>0.00000</td>\n",
       "      <td>0.0975</td>\n",
       "      <td>0.447</td>\n",
       "      <td>0.292128</td>\n",
       "    </tr>\n",
       "  </tbody>\n",
       "</table>\n",
       "</div>"
      ],
      "text/plain": [
       "   popularity  danceability  energy  loudness  speechiness  acousticness  \\\n",
       "0          76         0.578   0.574  0.738628       0.0454         0.196   \n",
       "1          88         0.358   0.557  0.689949       0.0590         0.695   \n",
       "2          87         0.748   0.524  0.763603       0.0338         0.414   \n",
       "3          71         0.662   0.586  0.631689       0.0307         0.097   \n",
       "4           1         0.783   0.623  0.742027       0.0800         0.338   \n",
       "\n",
       "   instrumentalness  liveness  valence     tempo  \n",
       "0           0.00000    0.0830    0.301  0.748102  \n",
       "1           0.00000    0.0902    0.494  0.199799  \n",
       "2           0.00000    0.1110    0.661  0.261128  \n",
       "3           0.00272    0.1150    0.296  0.230301  \n",
       "4           0.00000    0.0975    0.447  0.292128  "
      ]
     },
     "execution_count": 9,
     "metadata": {},
     "output_type": "execute_result"
    }
   ],
   "source": [
    "from sklearn.preprocessing import MinMaxScaler\n",
    "scaler = MinMaxScaler()\n",
    "\n",
    "df['tempo'] = scaler.fit_transform(df[['tempo']])\n",
    "df.head()"
   ]
  },
  {
   "cell_type": "markdown",
   "metadata": {},
   "source": [
    "Visualize the new loudness and tempo distributions"
   ]
  },
  {
   "cell_type": "code",
   "execution_count": 10,
   "metadata": {
    "ExecuteTime": {
     "end_time": "2021-01-28T10:38:05.773919Z",
     "start_time": "2021-01-28T10:38:05.026367Z"
    }
   },
   "outputs": [
    {
     "data": {
      "image/png": "[encoded data removed]",
      "text/plain": [
       "<Figure size 432x288 with 1 Axes>"
      ]
     },
     "metadata": {
      "needs_background": "light"
     },
     "output_type": "display_data"
    },
    {
     "data": {
      "image/png": "[encoded data removed]",
      "text/plain": [
       "<Figure size 432x288 with 1 Axes>"
      ]
     },
     "metadata": {
      "needs_background": "light"
     },
     "output_type": "display_data"
    }
   ],
   "source": [
    "# Visualize histograms of each song metric\n",
    "for col in ['loudness', 'tempo']:\n",
    "    sns.histplot(df[col])\n",
    "    plt.title(col)\n",
    "    plt.ylabel('Frequency')\n",
    "    plt.show()\n"
   ]
  },
  {
   "cell_type": "markdown",
   "metadata": {},
   "source": [
    "### 3. Examine Features"
   ]
  },
  {
   "cell_type": "markdown",
   "metadata": {},
   "source": [
    "To reduce variability, we could limit our analysis to only those songs that are sufficiently popular"
   ]
  },
  {
   "cell_type": "code",
   "execution_count": 11,
   "metadata": {
    "ExecuteTime": {
     "end_time": "2021-01-28T10:39:39.475046Z",
     "start_time": "2021-01-28T10:39:39.465705Z"
    }
   },
   "outputs": [
    {
     "data": {
      "text/plain": [
       "1799"
      ]
     },
     "execution_count": 11,
     "metadata": {},
     "output_type": "execute_result"
    }
   ],
   "source": [
    "#filter songs with above median popularity\n",
    "df= df[df['popularity']>=61]\n",
    "df = df.reset_index(drop=True)\n",
    "len(df)"
   ]
  },
  {
   "cell_type": "markdown",
   "metadata": {},
   "source": [
    "Pick 3 features that you think would give you a good fit.\n",
    ">Q: *Hypothesis*: Why do you think these 3 could be a good predictor for popularity?"
   ]
  },
  {
   "cell_type": "code",
   "execution_count": null,
   "metadata": {},
   "outputs": [],
   "source": []
  },
  {
   "cell_type": "markdown",
   "metadata": {},
   "source": [
    "Visualize the relationship between the features and the response using scatterplots"
   ]
  },
  {
   "cell_type": "code",
   "execution_count": 12,
   "metadata": {
    "ExecuteTime": {
     "end_time": "2021-01-28T10:42:06.253554Z",
     "start_time": "2021-01-28T10:42:05.157224Z"
    }
   },
   "outputs": [
    {
     "data": {
      "text/plain": [
       "<matplotlib.axes._subplots.AxesSubplot at 0x7f01259ea640>"
      ]
     },
     "execution_count": 12,
     "metadata": {},
     "output_type": "execute_result"
    },
    {
     "data": {
      "image/png": "[encoded data removed]",
      "text/plain": [
       "<Figure size 1152x576 with 3 Axes>"
      ]
     },
     "metadata": {
      "needs_background": "light"
     },
     "output_type": "display_data"
    }
   ],
   "source": [
    "fig, axs = plt.subplots(1, 3, figsize=(16, 8), sharey=True)\n",
    "df.plot(kind='scatter', x='danceability', y='popularity', ax=axs[0], grid=True)\n",
    "df.plot(kind='scatter', x='energy', y='popularity', ax=axs[1], grid=True)\n",
    "df.plot(kind='scatter', x='loudness', y='popularity', ax=axs[2], grid=True)"
   ]
  },
  {
   "cell_type": "markdown",
   "metadata": {},
   "source": [
    "### 4. Fit the Model"
   ]
  },
  {
   "cell_type": "markdown",
   "metadata": {},
   "source": [
    "Do the following steps for each of your selected features:\n",
    "\n",
    "a. Determine best fit line coefficients"
   ]
  },
  {
   "cell_type": "code",
   "execution_count": 13,
   "metadata": {
    "ExecuteTime": {
     "end_time": "2021-01-28T10:43:29.367795Z",
     "start_time": "2021-01-28T10:43:28.543775Z"
    }
   },
   "outputs": [
    {
     "name": "stdout",
     "output_type": "stream",
     "text": [
      "Model slope: 4.6389\n",
      "Model intercept: 70.9952\n"
     ]
    }
   ],
   "source": [
    "from sklearn.linear_model import LinearRegression\n",
    "\n",
    "feature_cols = ['danceability']\n",
    "X = df[feature_cols]\n",
    "y = df['popularity']\n",
    "\n",
    "model = LinearRegression(fit_intercept=True)\n",
    "model.fit(X,y)\n",
    "\n",
    "print('Model slope: %0.4f' % model.coef_[0])\n",
    "print('Model intercept: %0.4f' % model.intercept_)\n"
   ]
  },
  {
   "cell_type": "markdown",
   "metadata": {},
   "source": [
    "b. Obtain the R2 for the fit"
   ]
  },
  {
   "cell_type": "code",
   "execution_count": 14,
   "metadata": {
    "ExecuteTime": {
     "end_time": "2021-01-28T10:43:39.398603Z",
     "start_time": "2021-01-28T10:43:39.377855Z"
    }
   },
   "outputs": [
    {
     "name": "stdout",
     "output_type": "stream",
     "text": [
      "Model R2: 0.0064\n"
     ]
    }
   ],
   "source": [
    "print('Model R2: %0.4f' % model.score(X,y))"
   ]
  },
  {
   "cell_type": "markdown",
   "metadata": {},
   "source": [
    ">Q: Interpret the model coefficients. What does the R2 value tell you about the fitted model?"
   ]
  },
  {
   "cell_type": "markdown",
   "metadata": {},
   "source": [
    "An increase of 0.1 in danceability will result to an increase of popularity by 0.7 points. \n",
    "But based from the R2, this is a very bad fit and so we hold back from this interpretation."
   ]
  },
  {
   "cell_type": "markdown",
   "metadata": {},
   "source": [
    "c. Compute for RMSE and MAE"
   ]
  },
  {
   "cell_type": "code",
   "execution_count": 15,
   "metadata": {
    "ExecuteTime": {
     "end_time": "2021-01-28T10:45:27.621347Z",
     "start_time": "2021-01-28T10:45:27.603445Z"
    }
   },
   "outputs": [],
   "source": [
    "from sklearn.metrics import mean_squared_error\n",
    "from sklearn.metrics import mean_absolute_error\n",
    "\n",
    "#define RMSE function\n",
    "def RMSE(model, X, y):\n",
    "    predicted = model.predict(X)\n",
    "    rmse = np.sqrt(mean_squared_error(y, predicted))\n",
    "    return rmse\n",
    "  \n",
    "#define MAE function\n",
    "def MAE(model, X, y):\n",
    "    predicted = model.predict(X)\n",
    "    mae = mean_absolute_error(y, predicted)\n",
    "    return mae"
   ]
  },
  {
   "cell_type": "code",
   "execution_count": 16,
   "metadata": {
    "ExecuteTime": {
     "end_time": "2021-01-28T10:45:31.169893Z",
     "start_time": "2021-01-28T10:45:31.157202Z"
    }
   },
   "outputs": [
    {
     "name": "stdout",
     "output_type": "stream",
     "text": [
      "Model RMSE: 8.1133\n",
      "Model MAE: 6.7576\n"
     ]
    }
   ],
   "source": [
    "print('Model RMSE: %0.4f' % RMSE(model,X,y))\n",
    "print('Model MAE: %0.4f' % MAE(model,X,y))"
   ]
  },
  {
   "cell_type": "markdown",
   "metadata": {},
   "source": [
    ">Q: What does the RMSE and MAE tell you about the model performance?"
   ]
  },
  {
   "cell_type": "markdown",
   "metadata": {},
   "source": [
    "The model's predicted popularity is more or less expected to be off by 8.22 points (conservative) or 6.9 points (equal weighting) for all songs considered"
   ]
  },
  {
   "cell_type": "markdown",
   "metadata": {},
   "source": [
    "d. Check for outliers and determine if removing them could result to a better fit"
   ]
  },
  {
   "cell_type": "code",
   "execution_count": 17,
   "metadata": {
    "ExecuteTime": {
     "end_time": "2021-01-28T10:46:23.191097Z",
     "start_time": "2021-01-28T10:46:23.125043Z"
    }
   },
   "outputs": [
    {
     "data": {
      "text/plain": [
       "Series([], Name: popularity, dtype: int64)"
      ]
     },
     "execution_count": 17,
     "metadata": {},
     "output_type": "execute_result"
    }
   ],
   "source": [
    "q1 = df['popularity'].quantile(0.25)\n",
    "q3 =  df['popularity'].quantile(0.75)\n",
    "IQR = q3 -q1\n",
    "\n",
    "outliers = df[(df['popularity']<(q1-1.5*IQR))&(df['popularity']>(q3+1.5*IQR))]['popularity']\n",
    "outliers"
   ]
  },
  {
   "cell_type": "markdown",
   "metadata": {},
   "source": [
    "### 5. Using multiple features"
   ]
  },
  {
   "cell_type": "markdown",
   "metadata": {},
   "source": [
    "Will using all 3 of your chosen features result into a better fit? Repeat the procedure in 4 and see if the metrics improve.\n",
    "If it did improve, do you think its enough to make the model more credible?"
   ]
  },
  {
   "cell_type": "code",
   "execution_count": 18,
   "metadata": {
    "ExecuteTime": {
     "end_time": "2021-01-28T10:46:44.435051Z",
     "start_time": "2021-01-28T10:46:44.403919Z"
    }
   },
   "outputs": [
    {
     "name": "stdout",
     "output_type": "stream",
     "text": [
      "69.81950450158243\n",
      "[('danceability', 4.6825256071996035), ('energy', -2.665361236979938), ('loudness', 3.834301935881562)]\n"
     ]
    }
   ],
   "source": [
    "# create X and y\n",
    "feature_cols = ['danceability', 'energy', 'loudness']\n",
    "X = df[feature_cols]\n",
    "y = df['popularity']\n",
    "\n",
    "lm = LinearRegression()\n",
    "lm.fit(X, y)\n",
    "\n",
    "# print intercept and coefficients\n",
    "print(lm.intercept_)\n",
    "# pair the feature names with the coefficients\n",
    "print(list(zip(feature_cols, lm.coef_)))"
   ]
  },
  {
   "cell_type": "code",
   "execution_count": 19,
   "metadata": {
    "ExecuteTime": {
     "end_time": "2021-01-28T10:46:56.271764Z",
     "start_time": "2021-01-28T10:46:56.260489Z"
    }
   },
   "outputs": [
    {
     "data": {
      "text/plain": [
       "0.007954129460828074"
      ]
     },
     "execution_count": 19,
     "metadata": {},
     "output_type": "execute_result"
    }
   ],
   "source": [
    "# calculate the R-squared\n",
    "lm.score(X, y)"
   ]
  },
  {
   "cell_type": "markdown",
   "metadata": {},
   "source": [
    "### 6. Using k-fold cross validation\n",
    "We could further investigate on the models predictive performance using k-fold cross validation.\n",
    "What does folding reveal about the linear model you built?\n",
    "\n",
    "- For the model you built in (5), try the validation procedure for k=5 and k=10\n",
    "\n"
   ]
  },
  {
   "cell_type": "code",
   "execution_count": 20,
   "metadata": {
    "ExecuteTime": {
     "end_time": "2021-01-28T10:47:24.899694Z",
     "start_time": "2021-01-28T10:47:24.895010Z"
    }
   },
   "outputs": [],
   "source": [
    "X = X.to_numpy()\n",
    "Y = y.to_numpy()"
   ]
  },
  {
   "cell_type": "code",
   "execution_count": 21,
   "metadata": {
    "ExecuteTime": {
     "end_time": "2021-01-28T10:48:04.801151Z",
     "start_time": "2021-01-28T10:48:04.771418Z"
    }
   },
   "outputs": [
    {
     "name": "stdout",
     "output_type": "stream",
     "text": [
      "train: R2=0.01 \n",
      "test: RMSE=7.67, R2=-0.15\n",
      "train: R2=0.01 \n",
      "test: RMSE=7.81, R2=-0.11\n",
      "train: R2=0.01 \n",
      "test: RMSE=7.63, R2=-0.02\n",
      "train: R2=0.00 \n",
      "test: RMSE=8.02, R2=-0.01\n",
      "train: R2=0.01 \n",
      "test: RMSE=9.91, R2=-0.11\n"
     ]
    }
   ],
   "source": [
    "from sklearn.model_selection import KFold\n",
    "kf = KFold(n_splits=5, random_state=None, shuffle=False)\n",
    "\n",
    "\n",
    "for train_index, test_index in kf.split(X):\n",
    "    #print(\"TRAIN:\", train_index, \"TEST:\", test_index)\n",
    "    X_train, X_test = X[train_index], X[test_index]\n",
    "    Y_train, Y_test = Y[train_index], Y[test_index]\n",
    "    #print(np.shape(X_test), np.shape(Y_test))\n",
    "    \n",
    "    #fit using training data\n",
    "    lin_model = LinearRegression()\n",
    "    lin_model.fit(X_train, Y_train)\n",
    "    \n",
    "    #evaluate fit of train data\n",
    "    print('train: R2=%0.2f '% lin_model.score(X_train, Y_train))\n",
    "\n",
    "    #evaluate using test data\n",
    "    print('test: RMSE=%0.2f, R2=%0.2f' % (RMSE(lin_model, X_test, Y_test), lin_model.score(X_test,Y_test)))"
   ]
  },
  {
   "cell_type": "markdown",
   "metadata": {},
   "source": [
    "> All training sets show poor fit. Some test sets produced relatively better fits, but this is only local to the fold since RMSE remains high."
   ]
  },
  {
   "cell_type": "code",
   "execution_count": null,
   "metadata": {},
   "outputs": [],
   "source": []
  },
  {
   "cell_type": "code",
   "execution_count": null,
   "metadata": {},
   "outputs": [],
   "source": []
  }
 ],
 "metadata": {
  "kernelspec": {
   "display_name": "Python 3",
   "language": "python",
   "name": "python3"
  },
  "language_info": {
   "codemirror_mode": {
    "name": "ipython",
    "version": 3
   },
   "file_extension": ".py",
   "mimetype": "text/x-python",
   "name": "python",
   "nbconvert_exporter": "python",
   "pygments_lexer": "ipython3",
   "version": "3.8.5"
  }
 },
 "nbformat": 4,
 "nbformat_minor": 2
}
