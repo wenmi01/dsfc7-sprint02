{
 "cells": [
  {
   "cell_type": "markdown",
   "metadata": {},
   "source": [
    "# Day 8 Exercise\n",
    "\n",
    "### Creating your own recommender engine pool and generating recommendations from a seed track"
   ]
  },
  {
   "cell_type": "markdown",
   "metadata": {},
   "source": [
    "*A. Individual*\n",
    "1. Choose your own set of genres to be used as prediction values of the KNN model. You may select among the ones listed above or a completely new one (but you must already have the scraped playlist and tracks data for this new genre) \n",
    "\n",
    "2. Choose the features you want to use for the classification. Start by using all and then narrow down by removing one feature at a time and checking if the accuracy increases.\n",
    "\n",
    "3. Check if the model works by using it to predict genres of the spotify_daily_charts_tracks dataset. Do some spot checks and view the songs classified with the highest probabilities per genre\n",
    "\n",
    "\n",
    "*B. Groupwork: For your sprint project*\n",
    "\n",
    "4. Obtain a tracks dataset that is relevant to the client you are targeting. \n",
    "   For example:\n",
    "   \n",
    "    - A client artist's full discography (hint: use sp.playlist_tracks(ALBUM_ID) for every album of the artist)\n",
    "    \n",
    "    - Tracks from a popular playlist in spotify that your client artist appears in\n",
    "    \n",
    "    - Discographies of prospect artists to collaborate with \n",
    "    \n",
    "    - Popular tracks of the genre that your client artist is targeting to enter\n",
    "    \n",
    "    \n",
    "5. Using the model you tuned in (A), predict the genres of the tracks in (B.4). \n",
    "\n",
    "6. Do some spot checks and view the songs classified with the highest probabilities per genre. \n",
    "   What does the predicted classifications reveal about your tracks dataset?\n",
    "   \n",
    "*C. Groupwork: For your sprint project*\n",
    "\n",
    "7. Explore different seed tracks configurations:\n",
    "    - A single track\n",
    "    - A *representative track* made by aggregating the audio features and genre probabilities of all tracks in a chosen album/genre\n",
    "    - A *hypothetical track* with specified desired audio feature values\n",
    "    \n",
    "8. For each choice of seed track in, generate using the recommender engine pool you made in (A). As a user, would you listen to the recommended tracks?\n",
    "\n",
    "9. In addition to (2), check if the top 10 tracks with the **worst** similarity measure (i.e. most dissimilar to the seed track) make sense. As a user, do you agree that these are the tracks to be first discarded from the recommendation pool?\n",
    "\n"
   ]
  },
  {
   "cell_type": "code",
   "execution_count": 210,
   "metadata": {
    "ExecuteTime": {
     "end_time": "2021-01-21T15:12:52.278399Z",
     "start_time": "2021-01-21T15:12:46.980742Z"
    }
   },
   "outputs": [],
   "source": [
    "import pandas as pd\n",
    "import numpy as np\n",
    "\n",
    "import seaborn as sns\n",
    "import matplotlib.pyplot as plt\n",
    "\n",
    "\n",
    "from sklearn.model_selection import train_test_split, cross_val_score\n",
    "from sklearn.neighbors import KNeighborsClassifier \n",
    "from sklearn.metrics import accuracy_score,roc_curve, auc, confusion_matrix, classification_report\n",
    "from sklearn.metrics.pairwise import euclidean_distances, manhattan_distances, cosine_similarity\n",
    "\n",
    "from sklearn.preprocessing import MinMaxScaler\n",
    "scaler = MinMaxScaler()\n",
    "\n",
    "%matplotlib inline"
   ]
  },
  {
   "cell_type": "markdown",
   "metadata": {},
   "source": [
    "## Part 1. Recommender Engine Pool"
   ]
  },
  {
   "cell_type": "markdown",
   "metadata": {},
   "source": [
    "### 1. Read the training data"
   ]
  },
  {
   "cell_type": "code",
   "execution_count": 211,
   "metadata": {
    "ExecuteTime": {
     "end_time": "2021-01-21T15:12:52.636973Z",
     "start_time": "2021-01-21T15:12:52.282149Z"
    }
   },
   "outputs": [
    {
     "name": "stdout",
     "output_type": "stream",
     "text": [
      "R&B\n",
      "Jazz\n",
      "Pop\n",
      "Rock\n",
      "Rap\n"
     ]
    }
   ],
   "source": [
    "genre_names = [\"R&B\",\"Jazz\", \"Pop\", \"Rock\", \"Rap\"]\n",
    "\n",
    "playlist_df_list = []\n",
    "track_df_list = []\n",
    "for genre in genre_names:\n",
    "    # read and process the playlist data for keyword\n",
    "    print(genre)\n",
    "    pdf = pd.read_csv('./data/'+genre.lower()+'_playlist_data.csv')\n",
    "    pdf['genre'] = genre.lower().replace('&','n')\n",
    "    playlist_df_list.append(pdf)\n",
    "\n",
    "    tdf = pd.read_csv('./data/'+genre.lower()+'_playlist_tracks_data.csv')\n",
    "    tdf['genre'] = genre.lower().replace('&','n')\n",
    "    tdf = tdf.drop(columns=['playlist_name'])\n",
    "    tdf = tdf.merge(pdf[['playlist_id','playlist_name']], on=['playlist_id'], how='left')\n",
    "    \n",
    "    track_df_list.append(tdf)\n",
    "    \n",
    "    \n",
    "        \n",
    "playlist_df = pd.concat(playlist_df_list)\n",
    "tracks_df = pd.concat(track_df_list)\n"
   ]
  },
  {
   "cell_type": "code",
   "execution_count": 212,
   "metadata": {
    "ExecuteTime": {
     "end_time": "2021-01-21T15:12:52.656009Z",
     "start_time": "2021-01-21T15:12:52.643350Z"
    }
   },
   "outputs": [
    {
     "data": {
      "text/plain": [
       "((449, 7), (7378, 22))"
      ]
     },
     "execution_count": 212,
     "metadata": {},
     "output_type": "execute_result"
    }
   ],
   "source": [
    "tracks_df['genre'].value_counts()#check shape\n",
    "playlist_df.shape, tracks_df.shape"
   ]
  },
  {
   "cell_type": "code",
   "execution_count": 213,
   "metadata": {
    "ExecuteTime": {
     "end_time": "2021-01-21T15:12:52.673219Z",
     "start_time": "2021-01-21T15:12:52.666973Z"
    }
   },
   "outputs": [
    {
     "name": "stdout",
     "output_type": "stream",
     "text": [
      "Playlist dataset columns: ['playlist_id' 'playlist_name' 'playlist_total_tracks' 'owner_id'\n",
      " 'owner_name' 'total_followers' 'genre'] \n",
      "\n",
      "Tracks dataset columns: ['track_id' 'track_name' 'artist_id' 'artist_name' 'album_id' 'duration'\n",
      " 'release_date' 'popularity' 'danceability' 'energy' 'key' 'loudness'\n",
      " 'mode' 'speechiness' 'acousticness' 'instrumentalness' 'liveness'\n",
      " 'valence' 'tempo' 'playlist_id' 'genre' 'playlist_name']\n"
     ]
    }
   ],
   "source": [
    "#check columns\n",
    "print(\"Playlist dataset columns: %s \\n\" % playlist_df.columns.values)\n",
    "print(\"Tracks dataset columns: %s\" % tracks_df.columns.values)"
   ]
  },
  {
   "cell_type": "code",
   "execution_count": 214,
   "metadata": {
    "ExecuteTime": {
     "end_time": "2021-01-21T15:12:52.715839Z",
     "start_time": "2021-01-21T15:12:52.676094Z"
    }
   },
   "outputs": [
    {
     "data": {
      "text/plain": [
       "(6814, 22)"
      ]
     },
     "execution_count": 214,
     "metadata": {},
     "output_type": "execute_result"
    }
   ],
   "source": [
    "#check null rows\n",
    "playlist_df[playlist_df.isnull().any(1)]\n",
    "#tracks_df[tracks_df.isnull().any(1)]\n",
    "#remove null rows\n",
    "tracks_df = tracks_df[~tracks_df.isnull().any(1)]\n",
    "tracks_df.shape"
   ]
  },
  {
   "cell_type": "code",
   "execution_count": 215,
   "metadata": {
    "ExecuteTime": {
     "end_time": "2021-01-21T15:12:52.769684Z",
     "start_time": "2021-01-21T15:12:52.758544Z"
    }
   },
   "outputs": [
    {
     "data": {
      "text/plain": [
       "(6507, 22)"
      ]
     },
     "execution_count": 215,
     "metadata": {},
     "output_type": "execute_result"
    }
   ],
   "source": [
    "# How many unique tracks are in the combined dataset?\n",
    "len(tracks_df['track_id'].unique())\n",
    "\n",
    "#retain only distinct tracks per keyword\n",
    "tracks_df =tracks_df.drop_duplicates(subset='track_id')\n",
    "tracks_df.shape"
   ]
  },
  {
   "cell_type": "code",
   "execution_count": 216,
   "metadata": {
    "ExecuteTime": {
     "end_time": "2021-01-21T15:12:53.100130Z",
     "start_time": "2021-01-21T15:12:52.794480Z"
    }
   },
   "outputs": [
    {
     "data": {
      "text/plain": [
       "<AxesSubplot:>"
      ]
     },
     "execution_count": 216,
     "metadata": {},
     "output_type": "execute_result"
    },
    {
     "data": {
      "image/png": "[encoded data removed]",
      "text/plain": [
       "<Figure size 432x288 with 1 Axes>"
      ]
     },
     "metadata": {
      "needs_background": "light"
     },
     "output_type": "display_data"
    }
   ],
   "source": [
    "# What is the distribution of playlist's total tracks?\n",
    "playlist_df['playlist_total_tracks'].hist()"
   ]
  },
  {
   "cell_type": "code",
   "execution_count": 217,
   "metadata": {
    "ExecuteTime": {
     "end_time": "2021-01-21T15:12:53.321673Z",
     "start_time": "2021-01-21T15:12:53.102990Z"
    }
   },
   "outputs": [
    {
     "data": {
      "text/plain": [
       "<AxesSubplot:>"
      ]
     },
     "execution_count": 217,
     "metadata": {},
     "output_type": "execute_result"
    },
    {
     "data": {
      "image/png": "[encoded data removed]",
      "text/plain": [
       "<Figure size 432x288 with 1 Axes>"
      ]
     },
     "metadata": {
      "needs_background": "light"
     },
     "output_type": "display_data"
    }
   ],
   "source": [
    "# What is the distribution of playlist's total tracks?\n",
    "playlist_df['total_followers'].hist()"
   ]
  },
  {
   "cell_type": "code",
   "execution_count": 218,
   "metadata": {
    "ExecuteTime": {
     "end_time": "2021-01-21T15:12:53.671378Z",
     "start_time": "2021-01-21T15:12:53.327018Z"
    }
   },
   "outputs": [
    {
     "data": {
      "text/plain": [
       "jazz    0.268326\n",
       "pop     0.253112\n",
       "rock    0.217151\n",
       "rap     0.185493\n",
       "rnb     0.075918\n",
       "Name: genre, dtype: float64"
      ]
     },
     "execution_count": 218,
     "metadata": {},
     "output_type": "execute_result"
    }
   ],
   "source": [
    "#tally of tracks\n",
    "#tracks_df['genre'].value_counts()\n",
    "tracks_df['genre'].value_counts(normalize=True)"
   ]
  },
  {
   "cell_type": "markdown",
   "metadata": {},
   "source": [
    "### 2. Refine the training data"
   ]
  },
  {
   "cell_type": "code",
   "execution_count": 219,
   "metadata": {
    "ExecuteTime": {
     "end_time": "2021-01-21T15:12:53.688262Z",
     "start_time": "2021-01-21T15:12:53.673620Z"
    }
   },
   "outputs": [
    {
     "data": {
      "text/html": [
       "<div>\n",
       "<style scoped>\n",
       "    .dataframe tbody tr th:only-of-type {\n",
       "        vertical-align: middle;\n",
       "    }\n",
       "\n",
       "    .dataframe tbody tr th {\n",
       "        vertical-align: top;\n",
       "    }\n",
       "\n",
       "    .dataframe thead th {\n",
       "        text-align: right;\n",
       "    }\n",
       "</style>\n",
       "<table border=\"1\" class=\"dataframe\">\n",
       "  <thead>\n",
       "    <tr style=\"text-align: right;\">\n",
       "      <th></th>\n",
       "      <th>playlist_id</th>\n",
       "      <th>playlist_name</th>\n",
       "      <th>playlist_total_tracks</th>\n",
       "      <th>owner_id</th>\n",
       "      <th>owner_name</th>\n",
       "      <th>total_followers</th>\n",
       "      <th>genre</th>\n",
       "    </tr>\n",
       "  </thead>\n",
       "  <tbody>\n",
       "    <tr>\n",
       "      <th>0</th>\n",
       "      <td>37i9dQZF1DWYmmr74INQlb</td>\n",
       "      <td>I Love My '00s R&amp;B</td>\n",
       "      <td>40</td>\n",
       "      <td>spotify</td>\n",
       "      <td>Spotify</td>\n",
       "      <td>3343023</td>\n",
       "      <td>rnb</td>\n",
       "    </tr>\n",
       "    <tr>\n",
       "      <th>1</th>\n",
       "      <td>37i9dQZF1DX6VDO8a6cQME</td>\n",
       "      <td>I Love My '90s R&amp;B</td>\n",
       "      <td>45</td>\n",
       "      <td>spotify</td>\n",
       "      <td>Spotify</td>\n",
       "      <td>2486483</td>\n",
       "      <td>rnb</td>\n",
       "    </tr>\n",
       "    <tr>\n",
       "      <th>2</th>\n",
       "      <td>37i9dQZF1DX2UgsUIg75Vg</td>\n",
       "      <td>Chilled R&amp;B</td>\n",
       "      <td>50</td>\n",
       "      <td>spotify</td>\n",
       "      <td>Spotify</td>\n",
       "      <td>2070234</td>\n",
       "      <td>rnb</td>\n",
       "    </tr>\n",
       "    <tr>\n",
       "      <th>3</th>\n",
       "      <td>37i9dQZF1DWSfMe9z89s9B</td>\n",
       "      <td>Alternative R&amp;B</td>\n",
       "      <td>100</td>\n",
       "      <td>spotify</td>\n",
       "      <td>Spotify</td>\n",
       "      <td>957270</td>\n",
       "      <td>rnb</td>\n",
       "    </tr>\n",
       "    <tr>\n",
       "      <th>4</th>\n",
       "      <td>37i9dQZF1DXbirtHQBuwCo</td>\n",
       "      <td>TrenChill K-R&amp;B</td>\n",
       "      <td>70</td>\n",
       "      <td>spotify</td>\n",
       "      <td>Spotify</td>\n",
       "      <td>535401</td>\n",
       "      <td>rnb</td>\n",
       "    </tr>\n",
       "  </tbody>\n",
       "</table>\n",
       "</div>"
      ],
      "text/plain": [
       "              playlist_id       playlist_name  playlist_total_tracks owner_id  \\\n",
       "0  37i9dQZF1DWYmmr74INQlb  I Love My '00s R&B                     40  spotify   \n",
       "1  37i9dQZF1DX6VDO8a6cQME  I Love My '90s R&B                     45  spotify   \n",
       "2  37i9dQZF1DX2UgsUIg75Vg         Chilled R&B                     50  spotify   \n",
       "3  37i9dQZF1DWSfMe9z89s9B     Alternative R&B                    100  spotify   \n",
       "4  37i9dQZF1DXbirtHQBuwCo     TrenChill K-R&B                     70  spotify   \n",
       "\n",
       "  owner_name  total_followers genre  \n",
       "0    Spotify          3343023   rnb  \n",
       "1    Spotify          2486483   rnb  \n",
       "2    Spotify          2070234   rnb  \n",
       "3    Spotify           957270   rnb  \n",
       "4    Spotify           535401   rnb  "
      ]
     },
     "execution_count": 219,
     "metadata": {},
     "output_type": "execute_result"
    }
   ],
   "source": [
    "#get top 5 playlists per genre\n",
    "top_playlists_df = playlist_df.groupby('genre').head(5)\n",
    "top_playlists_df.head()"
   ]
  },
  {
   "cell_type": "code",
   "execution_count": 220,
   "metadata": {
    "ExecuteTime": {
     "end_time": "2021-01-21T15:12:53.706525Z",
     "start_time": "2021-01-21T15:12:53.691178Z"
    }
   },
   "outputs": [
    {
     "data": {
      "text/plain": [
       "jazz    812\n",
       "pop     499\n",
       "rock    468\n",
       "rnb     286\n",
       "rap     151\n",
       "Name: genre, dtype: int64"
      ]
     },
     "execution_count": 220,
     "metadata": {},
     "output_type": "execute_result"
    }
   ],
   "source": [
    "tracks_df = tracks_df[tracks_df['playlist_id'].isin(top_playlists_df['playlist_id'].values)]\n",
    "tracks_df['genre'].value_counts()"
   ]
  },
  {
   "cell_type": "markdown",
   "metadata": {},
   "source": [
    "### 3. Feature Engineering"
   ]
  },
  {
   "cell_type": "markdown",
   "metadata": {},
   "source": [
    "##### Conversions/Normalizations"
   ]
  },
  {
   "cell_type": "code",
   "execution_count": 221,
   "metadata": {
    "ExecuteTime": {
     "end_time": "2021-01-21T15:12:53.713900Z",
     "start_time": "2021-01-21T15:12:53.709413Z"
    }
   },
   "outputs": [],
   "source": [
    "#convert duration from ms to mins\n",
    "tracks_df['duration_mins']=tracks_df['duration']/60000"
   ]
  },
  {
   "cell_type": "code",
   "execution_count": 222,
   "metadata": {
    "ExecuteTime": {
     "end_time": "2021-01-21T15:12:55.732448Z",
     "start_time": "2021-01-21T15:12:53.717230Z"
    }
   },
   "outputs": [
    {
     "data": {
      "text/plain": [
       "count    2216.000000\n",
       "mean        0.737250\n",
       "std         0.146425\n",
       "min         0.000000\n",
       "25%         0.673964\n",
       "50%         0.772986\n",
       "75%         0.839969\n",
       "max         1.000000\n",
       "Name: loudness, dtype: float64"
      ]
     },
     "execution_count": 222,
     "metadata": {},
     "output_type": "execute_result"
    }
   ],
   "source": [
    "\n",
    "\n",
    "tracks_df['loudness'] = scaler.fit_transform(tracks_df[['loudness']])\n",
    "tracks_df['loudness'].describe()\n"
   ]
  },
  {
   "cell_type": "code",
   "execution_count": 223,
   "metadata": {
    "ExecuteTime": {
     "end_time": "2021-01-21T15:12:55.756376Z",
     "start_time": "2021-01-21T15:12:55.734859Z"
    }
   },
   "outputs": [
    {
     "data": {
      "text/plain": [
       "count    2216.000000\n",
       "mean        0.534397\n",
       "std         0.140308\n",
       "min         0.000000\n",
       "25%         0.419405\n",
       "50%         0.513106\n",
       "75%         0.635574\n",
       "max         1.000000\n",
       "Name: tempo, dtype: float64"
      ]
     },
     "execution_count": 223,
     "metadata": {},
     "output_type": "execute_result"
    }
   ],
   "source": [
    "#Normalize tempo\n",
    "tracks_df['tempo'] =  scaler.fit_transform(tracks_df[['tempo']])\n",
    "#check\n",
    "tracks_df['tempo'].describe()\n"
   ]
  },
  {
   "cell_type": "markdown",
   "metadata": {},
   "source": [
    "###### Categorical Encoding"
   ]
  },
  {
   "cell_type": "code",
   "execution_count": 224,
   "metadata": {
    "ExecuteTime": {
     "end_time": "2021-01-21T15:12:55.771503Z",
     "start_time": "2021-01-21T15:12:55.759010Z"
    }
   },
   "outputs": [
    {
     "data": {
      "text/plain": [
       "track_id              object\n",
       "track_name            object\n",
       "artist_id             object\n",
       "artist_name           object\n",
       "album_id              object\n",
       "duration               int64\n",
       "release_date          object\n",
       "popularity             int64\n",
       "danceability         float64\n",
       "energy               float64\n",
       "key                    int64\n",
       "loudness             float64\n",
       "mode                   int64\n",
       "speechiness          float64\n",
       "acousticness         float64\n",
       "instrumentalness     float64\n",
       "liveness             float64\n",
       "valence              float64\n",
       "tempo                float64\n",
       "playlist_id           object\n",
       "genre               category\n",
       "playlist_name         object\n",
       "duration_mins        float64\n",
       "dtype: object"
      ]
     },
     "execution_count": 224,
     "metadata": {},
     "output_type": "execute_result"
    }
   ],
   "source": [
    "tracks_df[\"genre\"] = tracks_df[\"genre\"].astype('category')\n",
    "tracks_df.dtypes"
   ]
  },
  {
   "cell_type": "code",
   "execution_count": 225,
   "metadata": {
    "ExecuteTime": {
     "end_time": "2021-01-21T15:12:55.784436Z",
     "start_time": "2021-01-21T15:12:55.774867Z"
    }
   },
   "outputs": [
    {
     "data": {
      "text/plain": [
       "jazz    812\n",
       "pop     499\n",
       "rock    468\n",
       "rnb     286\n",
       "rap     151\n",
       "Name: genre, dtype: int64"
      ]
     },
     "execution_count": 225,
     "metadata": {},
     "output_type": "execute_result"
    }
   ],
   "source": [
    "tracks_df['genre'].value_counts()"
   ]
  },
  {
   "cell_type": "code",
   "execution_count": 226,
   "metadata": {
    "ExecuteTime": {
     "end_time": "2021-01-21T15:12:55.822459Z",
     "start_time": "2021-01-21T15:12:55.786994Z"
    }
   },
   "outputs": [
    {
     "data": {
      "text/html": [
       "<div>\n",
       "<style scoped>\n",
       "    .dataframe tbody tr th:only-of-type {\n",
       "        vertical-align: middle;\n",
       "    }\n",
       "\n",
       "    .dataframe tbody tr th {\n",
       "        vertical-align: top;\n",
       "    }\n",
       "\n",
       "    .dataframe thead th {\n",
       "        text-align: right;\n",
       "    }\n",
       "</style>\n",
       "<table border=\"1\" class=\"dataframe\">\n",
       "  <thead>\n",
       "    <tr style=\"text-align: right;\">\n",
       "      <th></th>\n",
       "      <th>track_id</th>\n",
       "      <th>track_name</th>\n",
       "      <th>artist_id</th>\n",
       "      <th>artist_name</th>\n",
       "      <th>album_id</th>\n",
       "      <th>duration</th>\n",
       "      <th>release_date</th>\n",
       "      <th>popularity</th>\n",
       "      <th>danceability</th>\n",
       "      <th>energy</th>\n",
       "      <th>...</th>\n",
       "      <th>acousticness</th>\n",
       "      <th>instrumentalness</th>\n",
       "      <th>liveness</th>\n",
       "      <th>valence</th>\n",
       "      <th>tempo</th>\n",
       "      <th>playlist_id</th>\n",
       "      <th>genre</th>\n",
       "      <th>playlist_name</th>\n",
       "      <th>duration_mins</th>\n",
       "      <th>genre_id</th>\n",
       "    </tr>\n",
       "  </thead>\n",
       "  <tbody>\n",
       "    <tr>\n",
       "      <th>40</th>\n",
       "      <td>0JC3ynTNoZaWjZHXzeapYy</td>\n",
       "      <td>Into You (feat. Fabolous)</td>\n",
       "      <td>0le01dl1WllSHhjEXRl4in</td>\n",
       "      <td>Tamia</td>\n",
       "      <td>0WdxQHUdLZBGbscwYV72zM</td>\n",
       "      <td>294093</td>\n",
       "      <td>2004</td>\n",
       "      <td>55</td>\n",
       "      <td>0.677</td>\n",
       "      <td>0.531</td>\n",
       "      <td>...</td>\n",
       "      <td>0.2190</td>\n",
       "      <td>0.00000</td>\n",
       "      <td>0.173</td>\n",
       "      <td>0.570</td>\n",
       "      <td>0.424674</td>\n",
       "      <td>37i9dQZF1DWYmmr74INQlb</td>\n",
       "      <td>rnb</td>\n",
       "      <td>I Love My '00s R&amp;B</td>\n",
       "      <td>4.901550</td>\n",
       "      <td>3</td>\n",
       "    </tr>\n",
       "    <tr>\n",
       "      <th>41</th>\n",
       "      <td>2RqZFOLOnzVmHUX7ZMcaES</td>\n",
       "      <td>Let It Go</td>\n",
       "      <td>1vfezMIyCr4XUdYRaKIKi3</td>\n",
       "      <td>Keyshia Cole</td>\n",
       "      <td>7mdy09EO4q6F9VWBtXDDjK</td>\n",
       "      <td>238333</td>\n",
       "      <td>2007-01-01</td>\n",
       "      <td>67</td>\n",
       "      <td>0.806</td>\n",
       "      <td>0.721</td>\n",
       "      <td>...</td>\n",
       "      <td>0.1970</td>\n",
       "      <td>0.00000</td>\n",
       "      <td>0.209</td>\n",
       "      <td>0.781</td>\n",
       "      <td>0.442681</td>\n",
       "      <td>37i9dQZF1DWYmmr74INQlb</td>\n",
       "      <td>rnb</td>\n",
       "      <td>I Love My '00s R&amp;B</td>\n",
       "      <td>3.972217</td>\n",
       "      <td>3</td>\n",
       "    </tr>\n",
       "    <tr>\n",
       "      <th>42</th>\n",
       "      <td>1zpu1PZ8ecmcX525Z3X8cl</td>\n",
       "      <td>Yo (Excuse Me Miss)</td>\n",
       "      <td>7bXgB6jMjp9ATFy66eO08Z</td>\n",
       "      <td>Chris Brown</td>\n",
       "      <td>2gRm1k9fVkhTfZDHvBI2sR</td>\n",
       "      <td>229040</td>\n",
       "      <td>2005-11-29</td>\n",
       "      <td>0</td>\n",
       "      <td>0.605</td>\n",
       "      <td>0.633</td>\n",
       "      <td>...</td>\n",
       "      <td>0.1190</td>\n",
       "      <td>0.00000</td>\n",
       "      <td>0.225</td>\n",
       "      <td>0.592</td>\n",
       "      <td>0.406755</td>\n",
       "      <td>37i9dQZF1DWYmmr74INQlb</td>\n",
       "      <td>rnb</td>\n",
       "      <td>I Love My '00s R&amp;B</td>\n",
       "      <td>3.817333</td>\n",
       "      <td>3</td>\n",
       "    </tr>\n",
       "    <tr>\n",
       "      <th>43</th>\n",
       "      <td>4iuNZTcvT9diFySSzVsnVS</td>\n",
       "      <td>When I See U</td>\n",
       "      <td>7xAcVHPiirnUqfdqo0USb1</td>\n",
       "      <td>Fantasia</td>\n",
       "      <td>42DybH3gl3WcfXAQySOEiX</td>\n",
       "      <td>217346</td>\n",
       "      <td>2006-12-09</td>\n",
       "      <td>68</td>\n",
       "      <td>0.569</td>\n",
       "      <td>0.596</td>\n",
       "      <td>...</td>\n",
       "      <td>0.4570</td>\n",
       "      <td>0.00009</td>\n",
       "      <td>0.205</td>\n",
       "      <td>0.757</td>\n",
       "      <td>0.434136</td>\n",
       "      <td>37i9dQZF1DWYmmr74INQlb</td>\n",
       "      <td>rnb</td>\n",
       "      <td>I Love My '00s R&amp;B</td>\n",
       "      <td>3.622433</td>\n",
       "      <td>3</td>\n",
       "    </tr>\n",
       "    <tr>\n",
       "      <th>44</th>\n",
       "      <td>3LmvfNUQtglbTrydsdIqFU</td>\n",
       "      <td>We Belong Together</td>\n",
       "      <td>4iHNK0tOyZPYnBU7nGAgpQ</td>\n",
       "      <td>Mariah Carey</td>\n",
       "      <td>43iBTEWECK7hSnE0p6GgNo</td>\n",
       "      <td>201400</td>\n",
       "      <td>2005-01-01</td>\n",
       "      <td>68</td>\n",
       "      <td>0.837</td>\n",
       "      <td>0.462</td>\n",
       "      <td>...</td>\n",
       "      <td>0.0339</td>\n",
       "      <td>0.00000</td>\n",
       "      <td>0.090</td>\n",
       "      <td>0.762</td>\n",
       "      <td>0.652533</td>\n",
       "      <td>37i9dQZF1DWYmmr74INQlb</td>\n",
       "      <td>rnb</td>\n",
       "      <td>I Love My '00s R&amp;B</td>\n",
       "      <td>3.356667</td>\n",
       "      <td>3</td>\n",
       "    </tr>\n",
       "  </tbody>\n",
       "</table>\n",
       "<p>5 rows × 24 columns</p>\n",
       "</div>"
      ],
      "text/plain": [
       "                  track_id                 track_name               artist_id  \\\n",
       "40  0JC3ynTNoZaWjZHXzeapYy  Into You (feat. Fabolous)  0le01dl1WllSHhjEXRl4in   \n",
       "41  2RqZFOLOnzVmHUX7ZMcaES                  Let It Go  1vfezMIyCr4XUdYRaKIKi3   \n",
       "42  1zpu1PZ8ecmcX525Z3X8cl        Yo (Excuse Me Miss)  7bXgB6jMjp9ATFy66eO08Z   \n",
       "43  4iuNZTcvT9diFySSzVsnVS               When I See U  7xAcVHPiirnUqfdqo0USb1   \n",
       "44  3LmvfNUQtglbTrydsdIqFU         We Belong Together  4iHNK0tOyZPYnBU7nGAgpQ   \n",
       "\n",
       "     artist_name                album_id  duration release_date  popularity  \\\n",
       "40         Tamia  0WdxQHUdLZBGbscwYV72zM    294093         2004          55   \n",
       "41  Keyshia Cole  7mdy09EO4q6F9VWBtXDDjK    238333   2007-01-01          67   \n",
       "42   Chris Brown  2gRm1k9fVkhTfZDHvBI2sR    229040   2005-11-29           0   \n",
       "43      Fantasia  42DybH3gl3WcfXAQySOEiX    217346   2006-12-09          68   \n",
       "44  Mariah Carey  43iBTEWECK7hSnE0p6GgNo    201400   2005-01-01          68   \n",
       "\n",
       "    danceability  energy  ...  acousticness  instrumentalness  liveness  \\\n",
       "40         0.677   0.531  ...        0.2190           0.00000     0.173   \n",
       "41         0.806   0.721  ...        0.1970           0.00000     0.209   \n",
       "42         0.605   0.633  ...        0.1190           0.00000     0.225   \n",
       "43         0.569   0.596  ...        0.4570           0.00009     0.205   \n",
       "44         0.837   0.462  ...        0.0339           0.00000     0.090   \n",
       "\n",
       "    valence     tempo             playlist_id  genre       playlist_name  \\\n",
       "40    0.570  0.424674  37i9dQZF1DWYmmr74INQlb    rnb  I Love My '00s R&B   \n",
       "41    0.781  0.442681  37i9dQZF1DWYmmr74INQlb    rnb  I Love My '00s R&B   \n",
       "42    0.592  0.406755  37i9dQZF1DWYmmr74INQlb    rnb  I Love My '00s R&B   \n",
       "43    0.757  0.434136  37i9dQZF1DWYmmr74INQlb    rnb  I Love My '00s R&B   \n",
       "44    0.762  0.652533  37i9dQZF1DWYmmr74INQlb    rnb  I Love My '00s R&B   \n",
       "\n",
       "    duration_mins genre_id  \n",
       "40       4.901550        3  \n",
       "41       3.972217        3  \n",
       "42       3.817333        3  \n",
       "43       3.622433        3  \n",
       "44       3.356667        3  \n",
       "\n",
       "[5 rows x 24 columns]"
      ]
     },
     "execution_count": 226,
     "metadata": {},
     "output_type": "execute_result"
    }
   ],
   "source": [
    "tracks_df['genre_id'] = tracks_df[\"genre\"].cat.codes\n",
    "tracks_df.head()"
   ]
  },
  {
   "cell_type": "code",
   "execution_count": 227,
   "metadata": {
    "ExecuteTime": {
     "end_time": "2021-01-21T15:12:55.838100Z",
     "start_time": "2021-01-21T15:12:55.825564Z"
    }
   },
   "outputs": [
    {
     "data": {
      "text/plain": [
       "{3: 'rnb', 0: 'jazz', 1: 'pop', 4: 'rock', 2: 'rap'}"
      ]
     },
     "execution_count": 227,
     "metadata": {},
     "output_type": "execute_result"
    }
   ],
   "source": [
    "genre_lookup = dict(tracks_df.groupby('genre_id').head(1)[['genre_id','genre']].values)\n",
    "genre_lookup"
   ]
  },
  {
   "cell_type": "markdown",
   "metadata": {},
   "source": [
    "## 4. Train a KNN model"
   ]
  },
  {
   "cell_type": "code",
   "execution_count": 228,
   "metadata": {
    "ExecuteTime": {
     "end_time": "2021-01-21T15:12:56.763506Z",
     "start_time": "2021-01-21T15:12:56.759866Z"
    }
   },
   "outputs": [],
   "source": [
    "#test plot for a genre and 2 predictors\n",
    "\n",
    "# fig = plt.figure()\n",
    "# ax= fig.add_subplot(111)\n",
    "\n",
    "# colormaps = ['Reds','Blues']\n",
    "# genre = 'pop'\n",
    "# label = [\"not \"+genre,genre]\n",
    "# for n,genre_bool in enumerate([0,1]):\n",
    "#     df=tracks_df[tracks_df['genre_'+genre]==genre_bool]\n",
    "#     sns.kdeplot(df['energy'],df['tempo'], ax=ax,\\\n",
    "#                 shade=True, shade_lowest=False, alpha=0.5, cmap=colormaps[n],\\\n",
    "#                 label=label[n])\n",
    "    \n",
    "# plt.legend(frameon=False)\n"
   ]
  },
  {
   "cell_type": "markdown",
   "metadata": {},
   "source": [
    "Tuning the model"
   ]
  },
  {
   "cell_type": "code",
   "execution_count": null,
   "metadata": {
    "ExecuteTime": {
     "end_time": "2021-01-21T15:13:40.275752Z",
     "start_time": "2021-01-21T15:12:56.766924Z"
    },
    "scrolled": true
   },
   "outputs": [
    {
     "name": "stdout",
     "output_type": "stream",
     "text": [
      "\n",
      "Tuning kNN classification model with K-Fold=4...\n",
      "Shape of X_Train:(1772, 9)\n",
      "Shape of y_Train:(1772,)\n",
      "Shape of X_Test:(444, 9)\n",
      "Shape of y_Test:(444,)\n",
      "Finding best k...\n"
     ]
    },
    {
     "data": {
      "image/png": "[encoded data removed]",
      "text/plain": [
       "<Figure size 432x288 with 1 Axes>"
      ]
     },
     "metadata": {
      "needs_background": "light"
     },
     "output_type": "display_data"
    },
    {
     "name": "stdout",
     "output_type": "stream",
     "text": [
      "The optimal number of neighbors is 12 with score 66%\n",
      "\n",
      "Tuning kNN classification model with K-Fold=5...\n",
      "Shape of X_Train:(1772, 9)\n",
      "Shape of y_Train:(1772,)\n",
      "Shape of X_Test:(444, 9)\n",
      "Shape of y_Test:(444,)\n",
      "Finding best k...\n"
     ]
    }
   ],
   "source": [
    "#Select audio features to use for the model\n",
    "feature_cols = ['danceability', 'energy', 'loudness', 'speechiness', 'acousticness', 'instrumentalness',\\\n",
    "                'liveness', 'valence', 'tempo']\n",
    "results_optimal_k = []\n",
    "\n",
    "kfolds= [4,5,8,10]\n",
    "\n",
    "for d in kfolds:\n",
    "    print('\\nTuning kNN classification model with K-Fold=%d...' % d)\n",
    "    # create feature matrix (X)\n",
    "    X = tracks_df[feature_cols]\n",
    "    y = tracks_df['genre_id']\n",
    "\n",
    "    # creating training set, test set and checking shapes \n",
    "    X_train,X_test,Y_train,Y_test = train_test_split(X,y, test_size=0.2)\n",
    "    print(\"Shape of X_Train:\"+str(X_train.shape))\n",
    "    print(\"Shape of y_Train:\"+str(Y_train.shape))\n",
    "    print(\"Shape of X_Test:\"+str(X_test.shape))\n",
    "    print(\"Shape of y_Test:\"+str(Y_test.shape))\n",
    "    \n",
    "    #train model\n",
    "    cv_scores = []\n",
    "    neighbors=np.arange(2,51)\n",
    "    print('Finding best k...')\n",
    "    \n",
    "    #Perform KNN using K= [1..50] and validate using k-fold k = 5\n",
    "    for k in neighbors:\n",
    "        #print('Fitting for k=%d' % k)\n",
    "        knn = KNeighborsClassifier(n_neighbors=k)\n",
    "        scores = cross_val_score(knn, X_train, Y_train, cv=5, scoring='accuracy')\n",
    "        cv_scores.append(scores.mean())\n",
    "        \n",
    "    # changeto misclassification error\n",
    "    mse = [1 - x for x in cv_scores]\n",
    "\n",
    "    # determining best k\n",
    "    optimal_k = neighbors[mse.index(min(mse))]\n",
    "    results_optimal_k.append(optimal_k)\n",
    "    \n",
    "    knn_optimal = KNeighborsClassifier(n_neighbors=k)\n",
    "    knn_optimal.fit(X, y)\n",
    "    # plot misclassification error vs k\n",
    "    plt.plot(neighbors, mse)\n",
    "    plt.xlabel(\"Number of Neighbors K\")\n",
    "    plt.ylabel(\"Misclassification Error\")\n",
    "    plt.show()\n",
    "    \n",
    "    print(\"The optimal number of neighbors is %d with score %d%%\" % (optimal_k, 100*(1-min(mse))))\n"
   ]
  },
  {
   "cell_type": "code",
   "execution_count": null,
   "metadata": {
    "ExecuteTime": {
     "end_time": "2021-01-21T15:13:40.284369Z",
     "start_time": "2021-01-21T15:13:40.278341Z"
    }
   },
   "outputs": [],
   "source": [
    "results_optimal_k"
   ]
  },
  {
   "cell_type": "markdown",
   "metadata": {},
   "source": [
    "### 5. Model Prediction"
   ]
  },
  {
   "cell_type": "code",
   "execution_count": null,
   "metadata": {
    "ExecuteTime": {
     "end_time": "2021-01-21T15:13:40.347640Z",
     "start_time": "2021-01-21T15:13:40.287636Z"
    },
    "scrolled": true
   },
   "outputs": [],
   "source": [
    "#Predict genres of the charting tracks\n",
    "chart_tracks_df = pd.read_csv(\"./data/spotify_daily_charts_tracks.csv\")\n",
    "chart_tracks_df.head()"
   ]
  },
  {
   "cell_type": "code",
   "execution_count": null,
   "metadata": {
    "ExecuteTime": {
     "end_time": "2021-01-21T15:13:40.365275Z",
     "start_time": "2021-01-21T15:13:40.350457Z"
    }
   },
   "outputs": [],
   "source": [
    "#normalize loudness and tempo\n",
    "chart_tracks_df['loudness'] = scaler.fit_transform(chart_tracks_df[['loudness']])\n",
    "chart_tracks_df['tempo'] =  scaler.fit_transform(chart_tracks_df[['tempo']])"
   ]
  },
  {
   "cell_type": "markdown",
   "metadata": {},
   "source": [
    "Test the model with external data by predicting the genres of the spotify charting tracks!"
   ]
  },
  {
   "cell_type": "code",
   "execution_count": null,
   "metadata": {
    "ExecuteTime": {
     "end_time": "2021-01-21T15:13:49.302804Z",
     "start_time": "2021-01-21T15:13:40.369326Z"
    },
    "scrolled": true
   },
   "outputs": [],
   "source": [
    "chart_tracks_df = chart_tracks_df.dropna()\n",
    "#Predict genres of the spotify charts\n",
    "feature_cols = ['danceability', 'energy', 'loudness', 'speechiness', 'acousticness', 'instrumentalness',\\\n",
    "                'liveness', 'valence', 'tempo']\n",
    "genres = [genre_lookup[i] for i in np.arange(len(genre_names))]\n",
    "\n",
    "n=3 #pick kfold=10\n",
    "print(\"Predicting with optimal k: %d\" %(results_optimal_k[n]))\n",
    "\n",
    "knn_optimal = KNeighborsClassifier(n_neighbors=results_optimal_k[n])\n",
    "X = tracks_df[feature_cols]\n",
    "y = tracks_df['genre_id']\n",
    "knn_optimal.fit(X, y)\n",
    "\n",
    "chart_tracks_df['predicted_genre_id'] = chart_tracks_df.apply(lambda x:  knn_optimal.predict(x[feature_cols].values.reshape(1,-1))[0]\\\n",
    "                                               , axis=1)\n",
    "chart_tracks_df['predicted_genre'] = chart_tracks_df['predicted_genre_id'].apply(lambda x: genre_lookup[x])\n",
    "chart_tracks_df['predicted_genre_prob'] = chart_tracks_df.apply(lambda x:  np.max(knn_optimal.predict_proba(x[feature_cols].values.reshape(1,-1)))\\\n",
    "                                                    , axis=1)\n",
    "chart_tracks_df['all_genre_prob'] = chart_tracks_df.apply(lambda x:  knn_optimal.predict_proba(x[feature_cols].values.reshape(1,-1))[0]\\\n",
    "                                                    , axis=1)\n"
   ]
  },
  {
   "cell_type": "code",
   "execution_count": null,
   "metadata": {
    "ExecuteTime": {
     "end_time": "2021-01-21T15:13:49.362188Z",
     "start_time": "2021-01-21T15:13:49.304806Z"
    },
    "scrolled": true
   },
   "outputs": [],
   "source": [
    "#explode genre probabilities into separate columns\n",
    "charts_predicted_genre_prob = pd.DataFrame(chart_tracks_df[\"all_genre_prob\"].to_list(),\n",
    "                                           columns=['predicted_'+g+'_prob' for g in genres])\n",
    "charts_predicted_genre_prob['track_id'] = chart_tracks_df['track_id']\n",
    "chart_tracks_df = pd.merge(chart_tracks_df,charts_predicted_genre_prob, how='left', on='track_id')\n",
    "chart_tracks_df = chart_tracks_df.drop(columns='all_genre_prob')\n",
    "chart_tracks_df = chart_tracks_df.sort_values('predicted_genre_prob', ascending=False)\n",
    "chart_tracks_df.head()"
   ]
  },
  {
   "cell_type": "markdown",
   "metadata": {},
   "source": [
    "Check out tracks with highest assigned probability"
   ]
  },
  {
   "cell_type": "code",
   "execution_count": null,
   "metadata": {
    "ExecuteTime": {
     "end_time": "2021-01-21T15:13:49.401423Z",
     "start_time": "2021-01-21T15:13:49.365144Z"
    }
   },
   "outputs": [],
   "source": [
    "chart_tracks_df.groupby('predicted_genre_id').head()[['artist_name','track_name','predicted_genre','predicted_genre_prob']]"
   ]
  },
  {
   "cell_type": "markdown",
   "metadata": {},
   "source": [
    "View histogram of predicted genre probabilities"
   ]
  },
  {
   "cell_type": "code",
   "execution_count": null,
   "metadata": {
    "ExecuteTime": {
     "end_time": "2021-01-21T15:13:49.620237Z",
     "start_time": "2021-01-21T15:13:49.404373Z"
    }
   },
   "outputs": [],
   "source": [
    "chart_tracks_df['predicted_genre_prob'].hist()"
   ]
  },
  {
   "cell_type": "markdown",
   "metadata": {
    "ExecuteTime": {
     "end_time": "2020-10-12T17:44:50.844307Z",
     "start_time": "2020-10-12T17:44:50.836325Z"
    }
   },
   "source": [
    "Check out tally of predicted genres"
   ]
  },
  {
   "cell_type": "code",
   "execution_count": null,
   "metadata": {
    "ExecuteTime": {
     "end_time": "2021-01-21T15:13:49.631189Z",
     "start_time": "2021-01-21T15:13:49.623019Z"
    }
   },
   "outputs": [],
   "source": [
    "chart_tracks_df['predicted_genre'].value_counts()"
   ]
  },
  {
   "cell_type": "markdown",
   "metadata": {},
   "source": [
    ">Q **Spot Check**: Check out a song you're familiar with and see if the predicted genres and probabilities makes sense"
   ]
  },
  {
   "cell_type": "code",
   "execution_count": null,
   "metadata": {
    "ExecuteTime": {
     "end_time": "2021-02-03T06:38:58.383436Z",
     "start_time": "2021-02-03T06:38:58.252538Z"
    }
   },
   "outputs": [],
   "source": [
    "this_song = 'SONG NAME HERE'\n",
    "chart_tracks_df[chart_tracks_df['track_name'].str.contains('My Only Wish')]"
   ]
  },
  {
   "cell_type": "code",
   "execution_count": null,
   "metadata": {},
   "outputs": [],
   "source": []
  },
  {
   "cell_type": "code",
   "execution_count": null,
   "metadata": {
    "ExecuteTime": {
     "end_time": "2021-01-21T15:13:49.757245Z",
     "start_time": "2021-01-21T15:13:49.669794Z"
    }
   },
   "outputs": [],
   "source": [
    "#save data\n",
    "chart_tracks_df.to_csv(\"data/spotify_daily_charts_tracks_predicted_genres.csv\", index=False, encoding='utf-8')"
   ]
  },
  {
   "cell_type": "markdown",
   "metadata": {},
   "source": [
    "## Part 2. Recommender Engine"
   ]
  },
  {
   "cell_type": "code",
   "execution_count": null,
   "metadata": {},
   "outputs": [],
   "source": [
    "#read data\n",
    "chart_tracks_df=pd.read_csv(\"./data/spotify_daily_charts_tracks_predicted_genres.csv\")\n",
    "#normalize loudness and tempo\n",
    "scaler = MinMaxScaler()\n",
    "chart_tracks_df['loudness'] = scaler.fit_transform(chart_tracks_df[['loudness']])\n",
    "chart_tracks_df['tempo'] =  scaler.fit_transform(chart_tracks_df[['tempo']])\n",
    "chart_tracks_df.head()"
   ]
  },
  {
   "cell_type": "code",
   "execution_count": null,
   "metadata": {},
   "outputs": [],
   "source": [
    "# Input seed track here\n",
    "seed_track_name = 'My Only Wish (This Year)'"
   ]
  },
  {
   "cell_type": "code",
   "execution_count": null,
   "metadata": {},
   "outputs": [],
   "source": [
    "feature_cols = ['danceability', 'energy', 'loudness', 'speechiness', 'acousticness', 'instrumentalness',\\\n",
    "                'liveness', 'valence', 'tempo']\n",
    "\n",
    "cols = ['track_id','track_name','danceability', 'energy', 'loudness', 'speechiness', 'acousticness', 'instrumentalness',\\\n",
    "                'liveness', 'valence', 'tempo']"
   ]
  },
  {
   "cell_type": "code",
   "execution_count": null,
   "metadata": {},
   "outputs": [],
   "source": [
    " seed_track_data = chart_tracks_df[chart_tracks_df['track_name']==seed_track_name].iloc[0]\n",
    " seed_track_data"
   ]
  },
  {
   "cell_type": "code",
   "execution_count": null,
   "metadata": {},
   "outputs": [],
   "source": [
    "seed_track_data[feature_cols]"
   ]
  },
  {
   "cell_type": "code",
   "execution_count": null,
   "metadata": {},
   "outputs": [],
   "source": [
    "#seed_track_data = pd.read_csv('./data/Britney Spears_playlist_tracks_data.csv')\n",
    "#seed_track_data = seed_track_data[feature_cols].iloc[1]\n",
    "#seed_track_data = seed_track_data[feature_cols].iloc[1]\n",
    "\n",
    "seed_track_df_raw = pd.read_csv('./data/Britney Spears_playlist_tracks_data.csv')\n",
    "\n",
    "seed_track_data.head()\n"
   ]
  },
  {
   "cell_type": "code",
   "execution_count": null,
   "metadata": {},
   "outputs": [],
   "source": [
    "seed_track_data_B = seed_track_df_raw[cols].iloc[1]\n",
    "seed_track_data_B"
   ]
  },
  {
   "cell_type": "code",
   "execution_count": null,
   "metadata": {},
   "outputs": [],
   "source": [
    "#compute cosine distances, audio features only\n",
    "chart_tracks_df['cosine_dist'] = chart_tracks_df.apply(lambda x: 1-cosine_similarity(x[feature_cols].values.reshape(1, -1),\\\n",
    "                                                                  seed_track_data_B[feature_cols].values.reshape(1, -1))\\\n",
    "                                                                  .flatten()[0], axis=1)\n",
    "\n",
    "chart_tracks_df.sort_values(by='cosine_dist',ascending=False).head(5)"
   ]
  },
  {
   "cell_type": "code",
   "execution_count": null,
   "metadata": {},
   "outputs": [],
   "source": [
    "#seed_track_data = seed_track_data[cols].iloc[1]\n",
    "#seed_track_data = seed_track_data[feature_cols].iloc[1]\n",
    "\n",
    "seed_track_data.head()\n"
   ]
  },
  {
   "cell_type": "code",
   "execution_count": null,
   "metadata": {
    "ExecuteTime": {
     "end_time": "2021-02-03T06:52:33.691603Z",
     "start_time": "2021-02-03T06:52:33.678504Z"
    }
   },
   "outputs": [],
   "source": [
    "#get top 10 nearest to seed_track_data\n",
    "recommendation_df = chart_tracks_df[chart_tracks_df['track_id']!=seed_track_data_B['track_id']].sort_values('cosine_dist')[:10]\n",
    "recommendation_df[['track_name','artist_name','cosine_dist','predicted_genre']+feature_cols]"
   ]
  },
  {
   "cell_type": "code",
   "execution_count": null,
   "metadata": {},
   "outputs": [],
   "source": [
    "#get top 10 nearest to seed_track_data\n",
    "recommendation_df = chart_tracks_df[chart_tracks_df['predicted_genre']==seed_track_data['predicted_genre']]\\\n",
    "                                    [chart_tracks_df['track_id']!=seed_track_data['track_id']]\\\n",
    "                                    .sort_values('cosine_dist')[:10]\n",
    "recommendation_df[['track_name','artist_name','cosine_dist','predicted_genre']+feature_cols]"
   ]
  },
  {
   "cell_type": "code",
   "execution_count": null,
   "metadata": {},
   "outputs": [],
   "source": [
    "chart_tracks_df.columns, seed_track_data.index"
   ]
  },
  {
   "cell_type": "code",
   "execution_count": null,
   "metadata": {},
   "outputs": [],
   "source": [
    "chart_tracks_df = chart_tracks_df.dropna()\n",
    "#Audio features + predicted genre probabilities\n",
    "genre_cols = [col for col in chart_tracks_df.columns if ('predicted_' in col)&('genre' not in col)]\n",
    "cols = feature_cols + genre_cols\n",
    "chart_tracks_df['cosine_dist_mod'] = chart_tracks_df.apply(lambda x: 1-cosine_similarity(x[cols].values.reshape(1, -1),\\\n",
    "                                                                  seed_track_data[cols].values.reshape(1, -1))\\\n",
    "                                                                  .flatten()[0], axis=1)\n",
    "recommendation_df = chart_tracks_df[chart_tracks_df['track_id']!=seed_track_data['track_id']]\\\n",
    "                                   .sort_values('cosine_dist_mod')[:10]\n",
    "recommendation_df[['track_name','artist_name','cosine_dist_mod','predicted_genre']+cols]"
   ]
  },
  {
   "cell_type": "code",
   "execution_count": null,
   "metadata": {},
   "outputs": [],
   "source": []
  }
 ],
 "metadata": {
  "kernelspec": {
   "display_name": "Python 3",
   "language": "python",
   "name": "python3"
  },
  "language_info": {
   "codemirror_mode": {
    "name": "ipython",
    "version": 3
   },
   "file_extension": ".py",
   "mimetype": "text/x-python",
   "name": "python",
   "nbconvert_exporter": "python",
   "pygments_lexer": "ipython3",
   "version": "3.8.2"
  }
 },
 "nbformat": 4,
 "nbformat_minor": 4
}
