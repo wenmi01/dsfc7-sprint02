{
 "cells": [
  {
   "cell_type": "markdown",
   "metadata": {},
   "source": [
    "# Market Data Exercise"
   ]
  },
  {
   "cell_type": "code",
   "execution_count": 1,
   "metadata": {},
   "outputs": [
    {
     "name": "stderr",
     "output_type": "stream",
     "text": [
      "In C:\\Users\\rowen\\.conda\\envs\\dsfc7\\lib\\site-packages\\matplotlib\\mpl-data\\stylelib\\_classic_test.mplstyle: \n",
      "The text.latex.preview rcparam was deprecated in Matplotlib 3.3 and will be removed two minor releases later.\n",
      "In C:\\Users\\rowen\\.conda\\envs\\dsfc7\\lib\\site-packages\\matplotlib\\mpl-data\\stylelib\\_classic_test.mplstyle: \n",
      "The mathtext.fallback_to_cm rcparam was deprecated in Matplotlib 3.3 and will be removed two minor releases later.\n",
      "In C:\\Users\\rowen\\.conda\\envs\\dsfc7\\lib\\site-packages\\matplotlib\\mpl-data\\stylelib\\_classic_test.mplstyle: Support for setting the 'mathtext.fallback_to_cm' rcParam is deprecated since 3.3 and will be removed two minor releases later; use 'mathtext.fallback : 'cm' instead.\n",
      "In C:\\Users\\rowen\\.conda\\envs\\dsfc7\\lib\\site-packages\\matplotlib\\mpl-data\\stylelib\\_classic_test.mplstyle: \n",
      "The validate_bool_maybe_none function was deprecated in Matplotlib 3.3 and will be removed two minor releases later.\n",
      "In C:\\Users\\rowen\\.conda\\envs\\dsfc7\\lib\\site-packages\\matplotlib\\mpl-data\\stylelib\\_classic_test.mplstyle: \n",
      "The savefig.jpeg_quality rcparam was deprecated in Matplotlib 3.3 and will be removed two minor releases later.\n",
      "In C:\\Users\\rowen\\.conda\\envs\\dsfc7\\lib\\site-packages\\matplotlib\\mpl-data\\stylelib\\_classic_test.mplstyle: \n",
      "The keymap.all_axes rcparam was deprecated in Matplotlib 3.3 and will be removed two minor releases later.\n",
      "In C:\\Users\\rowen\\.conda\\envs\\dsfc7\\lib\\site-packages\\matplotlib\\mpl-data\\stylelib\\_classic_test.mplstyle: \n",
      "The animation.avconv_path rcparam was deprecated in Matplotlib 3.3 and will be removed two minor releases later.\n",
      "In C:\\Users\\rowen\\.conda\\envs\\dsfc7\\lib\\site-packages\\matplotlib\\mpl-data\\stylelib\\_classic_test.mplstyle: \n",
      "The animation.avconv_args rcparam was deprecated in Matplotlib 3.3 and will be removed two minor releases later.\n"
     ]
    }
   ],
   "source": [
    "import pandas as pd\n",
    "import numpy as np\n",
    "import seaborn as sns\n",
    "import matplotlib.pyplot as plt\n",
    "\n",
    "%matplotlib inline"
   ]
  },
  {
   "cell_type": "markdown",
   "metadata": {},
   "source": [
    "## Data Prep"
   ]
  },
  {
   "cell_type": "code",
   "execution_count": 2,
   "metadata": {},
   "outputs": [
    {
     "data": {
      "text/html": [
       "<div>\n",
       "<style scoped>\n",
       "    .dataframe tbody tr th:only-of-type {\n",
       "        vertical-align: middle;\n",
       "    }\n",
       "\n",
       "    .dataframe tbody tr th {\n",
       "        vertical-align: top;\n",
       "    }\n",
       "\n",
       "    .dataframe thead th {\n",
       "        text-align: right;\n",
       "    }\n",
       "</style>\n",
       "<table border=\"1\" class=\"dataframe\">\n",
       "  <thead>\n",
       "    <tr style=\"text-align: right;\">\n",
       "      <th></th>\n",
       "      <th>date</th>\n",
       "      <th>position</th>\n",
       "      <th>track_id</th>\n",
       "      <th>track_name</th>\n",
       "      <th>artist</th>\n",
       "      <th>streams</th>\n",
       "    </tr>\n",
       "  </thead>\n",
       "  <tbody>\n",
       "    <tr>\n",
       "      <th>0</th>\n",
       "      <td>2017-01-01</td>\n",
       "      <td>1</td>\n",
       "      <td>0kN8xEmgMW9mh7UmDYHlJP</td>\n",
       "      <td>Versace on the Floor</td>\n",
       "      <td>Bruno Mars</td>\n",
       "      <td>185236</td>\n",
       "    </tr>\n",
       "    <tr>\n",
       "      <th>1</th>\n",
       "      <td>2017-01-01</td>\n",
       "      <td>2</td>\n",
       "      <td>5uCax9HTNlzGybIStD3vDh</td>\n",
       "      <td>Say You Won't Let Go</td>\n",
       "      <td>James Arthur</td>\n",
       "      <td>180552</td>\n",
       "    </tr>\n",
       "    <tr>\n",
       "      <th>2</th>\n",
       "      <td>2017-01-01</td>\n",
       "      <td>3</td>\n",
       "      <td>7BKLCZ1jbUBVqRi2FVlTVw</td>\n",
       "      <td>Closer</td>\n",
       "      <td>The Chainsmokers</td>\n",
       "      <td>158720</td>\n",
       "    </tr>\n",
       "    <tr>\n",
       "      <th>3</th>\n",
       "      <td>2017-01-01</td>\n",
       "      <td>4</td>\n",
       "      <td>2rizacJSyD9S1IQUxUxnsK</td>\n",
       "      <td>All We Know</td>\n",
       "      <td>The Chainsmokers</td>\n",
       "      <td>130874</td>\n",
       "    </tr>\n",
       "    <tr>\n",
       "      <th>4</th>\n",
       "      <td>2017-01-01</td>\n",
       "      <td>5</td>\n",
       "      <td>5MFzQMkrl1FOOng9tq6R9r</td>\n",
       "      <td>Don't Wanna Know</td>\n",
       "      <td>Maroon 5</td>\n",
       "      <td>129656</td>\n",
       "    </tr>\n",
       "  </tbody>\n",
       "</table>\n",
       "</div>"
      ],
      "text/plain": [
       "        date  position                track_id            track_name  \\\n",
       "0 2017-01-01         1  0kN8xEmgMW9mh7UmDYHlJP  Versace on the Floor   \n",
       "1 2017-01-01         2  5uCax9HTNlzGybIStD3vDh  Say You Won't Let Go   \n",
       "2 2017-01-01         3  7BKLCZ1jbUBVqRi2FVlTVw                Closer   \n",
       "3 2017-01-01         4  2rizacJSyD9S1IQUxUxnsK           All We Know   \n",
       "4 2017-01-01         5  5MFzQMkrl1FOOng9tq6R9r      Don't Wanna Know   \n",
       "\n",
       "             artist  streams  \n",
       "0        Bruno Mars   185236  \n",
       "1      James Arthur   180552  \n",
       "2  The Chainsmokers   158720  \n",
       "3  The Chainsmokers   130874  \n",
       "4          Maroon 5   129656  "
      ]
     },
     "execution_count": 2,
     "metadata": {},
     "output_type": "execute_result"
    }
   ],
   "source": [
    "# read and process the charts dataset\n",
    "charts_df = pd.read_csv('data/spotify_daily_charts.csv')\n",
    "#transform date column into a datetime column\n",
    "charts_df['date'] = pd.to_datetime(charts_df['date'])\n",
    "charts_df.head()"
   ]
  },
  {
   "cell_type": "code",
   "execution_count": 3,
   "metadata": {},
   "outputs": [
    {
     "data": {
      "text/html": [
       "<div>\n",
       "<style scoped>\n",
       "    .dataframe tbody tr th:only-of-type {\n",
       "        vertical-align: middle;\n",
       "    }\n",
       "\n",
       "    .dataframe tbody tr th {\n",
       "        vertical-align: top;\n",
       "    }\n",
       "\n",
       "    .dataframe thead th {\n",
       "        text-align: right;\n",
       "    }\n",
       "</style>\n",
       "<table border=\"1\" class=\"dataframe\">\n",
       "  <thead>\n",
       "    <tr style=\"text-align: right;\">\n",
       "      <th></th>\n",
       "      <th>track_id</th>\n",
       "      <th>track_name</th>\n",
       "      <th>artist_id</th>\n",
       "      <th>artist_name</th>\n",
       "      <th>album_id</th>\n",
       "      <th>duration</th>\n",
       "      <th>release_date</th>\n",
       "      <th>popularity</th>\n",
       "      <th>danceability</th>\n",
       "      <th>energy</th>\n",
       "      <th>key</th>\n",
       "      <th>loudness</th>\n",
       "      <th>mode</th>\n",
       "      <th>speechiness</th>\n",
       "      <th>acousticness</th>\n",
       "      <th>instrumentalness</th>\n",
       "      <th>liveness</th>\n",
       "      <th>valence</th>\n",
       "      <th>tempo</th>\n",
       "    </tr>\n",
       "  </thead>\n",
       "  <tbody>\n",
       "    <tr>\n",
       "      <th>0</th>\n",
       "      <td>0kN8xEmgMW9mh7UmDYHlJP</td>\n",
       "      <td>Versace on the Floor</td>\n",
       "      <td>0du5cEVh5yTK9QJze8zA0C</td>\n",
       "      <td>Bruno Mars</td>\n",
       "      <td>4PgleR09JVnm3zY1fW3XBA</td>\n",
       "      <td>261240</td>\n",
       "      <td>2016-11-17</td>\n",
       "      <td>76</td>\n",
       "      <td>0.578</td>\n",
       "      <td>0.574</td>\n",
       "      <td>2.0</td>\n",
       "      <td>-6.209</td>\n",
       "      <td>1.0</td>\n",
       "      <td>0.0454</td>\n",
       "      <td>0.196</td>\n",
       "      <td>0.00000</td>\n",
       "      <td>0.0830</td>\n",
       "      <td>0.301</td>\n",
       "      <td>174.152</td>\n",
       "    </tr>\n",
       "    <tr>\n",
       "      <th>1</th>\n",
       "      <td>5uCax9HTNlzGybIStD3vDh</td>\n",
       "      <td>Say You Won't Let Go</td>\n",
       "      <td>4IWBUUAFIplrNtaOHcJPRM</td>\n",
       "      <td>James Arthur</td>\n",
       "      <td>7oiJYvEJHsmYtrgviAVIBD</td>\n",
       "      <td>211466</td>\n",
       "      <td>2016-10-28</td>\n",
       "      <td>85</td>\n",
       "      <td>0.358</td>\n",
       "      <td>0.557</td>\n",
       "      <td>10.0</td>\n",
       "      <td>-7.398</td>\n",
       "      <td>1.0</td>\n",
       "      <td>0.0590</td>\n",
       "      <td>0.695</td>\n",
       "      <td>0.00000</td>\n",
       "      <td>0.0902</td>\n",
       "      <td>0.494</td>\n",
       "      <td>85.043</td>\n",
       "    </tr>\n",
       "    <tr>\n",
       "      <th>2</th>\n",
       "      <td>7BKLCZ1jbUBVqRi2FVlTVw</td>\n",
       "      <td>Closer</td>\n",
       "      <td>69GGBxA162lTqCwzJG5jLp</td>\n",
       "      <td>The Chainsmokers</td>\n",
       "      <td>0rSLgV8p5FzfnqlEk4GzxE</td>\n",
       "      <td>244960</td>\n",
       "      <td>2016-07-29</td>\n",
       "      <td>85</td>\n",
       "      <td>0.748</td>\n",
       "      <td>0.524</td>\n",
       "      <td>8.0</td>\n",
       "      <td>-5.599</td>\n",
       "      <td>1.0</td>\n",
       "      <td>0.0338</td>\n",
       "      <td>0.414</td>\n",
       "      <td>0.00000</td>\n",
       "      <td>0.1110</td>\n",
       "      <td>0.661</td>\n",
       "      <td>95.010</td>\n",
       "    </tr>\n",
       "    <tr>\n",
       "      <th>3</th>\n",
       "      <td>2rizacJSyD9S1IQUxUxnsK</td>\n",
       "      <td>All We Know</td>\n",
       "      <td>69GGBxA162lTqCwzJG5jLp</td>\n",
       "      <td>The Chainsmokers</td>\n",
       "      <td>0xmaV6EtJ4M3ebZUPRnhyb</td>\n",
       "      <td>194080</td>\n",
       "      <td>2016-09-29</td>\n",
       "      <td>69</td>\n",
       "      <td>0.662</td>\n",
       "      <td>0.586</td>\n",
       "      <td>0.0</td>\n",
       "      <td>-8.821</td>\n",
       "      <td>1.0</td>\n",
       "      <td>0.0307</td>\n",
       "      <td>0.097</td>\n",
       "      <td>0.00272</td>\n",
       "      <td>0.1150</td>\n",
       "      <td>0.296</td>\n",
       "      <td>90.000</td>\n",
       "    </tr>\n",
       "    <tr>\n",
       "      <th>4</th>\n",
       "      <td>5MFzQMkrl1FOOng9tq6R9r</td>\n",
       "      <td>Don't Wanna Know</td>\n",
       "      <td>04gDigrS5kc9YWfZHwBETP</td>\n",
       "      <td>Maroon 5</td>\n",
       "      <td>0fvTn3WXF39kQs9i3bnNpP</td>\n",
       "      <td>214480</td>\n",
       "      <td>2016-10-11</td>\n",
       "      <td>0</td>\n",
       "      <td>0.783</td>\n",
       "      <td>0.623</td>\n",
       "      <td>7.0</td>\n",
       "      <td>-6.126</td>\n",
       "      <td>1.0</td>\n",
       "      <td>0.0800</td>\n",
       "      <td>0.338</td>\n",
       "      <td>0.00000</td>\n",
       "      <td>0.0975</td>\n",
       "      <td>0.447</td>\n",
       "      <td>100.048</td>\n",
       "    </tr>\n",
       "  </tbody>\n",
       "</table>\n",
       "</div>"
      ],
      "text/plain": [
       "                 track_id            track_name               artist_id  \\\n",
       "0  0kN8xEmgMW9mh7UmDYHlJP  Versace on the Floor  0du5cEVh5yTK9QJze8zA0C   \n",
       "1  5uCax9HTNlzGybIStD3vDh  Say You Won't Let Go  4IWBUUAFIplrNtaOHcJPRM   \n",
       "2  7BKLCZ1jbUBVqRi2FVlTVw                Closer  69GGBxA162lTqCwzJG5jLp   \n",
       "3  2rizacJSyD9S1IQUxUxnsK           All We Know  69GGBxA162lTqCwzJG5jLp   \n",
       "4  5MFzQMkrl1FOOng9tq6R9r      Don't Wanna Know  04gDigrS5kc9YWfZHwBETP   \n",
       "\n",
       "        artist_name                album_id  duration release_date  \\\n",
       "0        Bruno Mars  4PgleR09JVnm3zY1fW3XBA    261240   2016-11-17   \n",
       "1      James Arthur  7oiJYvEJHsmYtrgviAVIBD    211466   2016-10-28   \n",
       "2  The Chainsmokers  0rSLgV8p5FzfnqlEk4GzxE    244960   2016-07-29   \n",
       "3  The Chainsmokers  0xmaV6EtJ4M3ebZUPRnhyb    194080   2016-09-29   \n",
       "4          Maroon 5  0fvTn3WXF39kQs9i3bnNpP    214480   2016-10-11   \n",
       "\n",
       "   popularity  danceability  energy   key  loudness  mode  speechiness  \\\n",
       "0          76         0.578   0.574   2.0    -6.209   1.0       0.0454   \n",
       "1          85         0.358   0.557  10.0    -7.398   1.0       0.0590   \n",
       "2          85         0.748   0.524   8.0    -5.599   1.0       0.0338   \n",
       "3          69         0.662   0.586   0.0    -8.821   1.0       0.0307   \n",
       "4           0         0.783   0.623   7.0    -6.126   1.0       0.0800   \n",
       "\n",
       "   acousticness  instrumentalness  liveness  valence    tempo  \n",
       "0         0.196           0.00000    0.0830    0.301  174.152  \n",
       "1         0.695           0.00000    0.0902    0.494   85.043  \n",
       "2         0.414           0.00000    0.1110    0.661   95.010  \n",
       "3         0.097           0.00272    0.1150    0.296   90.000  \n",
       "4         0.338           0.00000    0.0975    0.447  100.048  "
      ]
     },
     "execution_count": 3,
     "metadata": {},
     "output_type": "execute_result"
    }
   ],
   "source": [
    "# read and process the tracks dataset\n",
    "tracks_df = pd.read_csv('data/spotify_daily_charts_tracks.csv')\n",
    "tracks_df.head()"
   ]
  },
  {
   "cell_type": "code",
   "execution_count": 4,
   "metadata": {},
   "outputs": [
    {
     "data": {
      "text/html": [
       "<div>\n",
       "<style scoped>\n",
       "    .dataframe tbody tr th:only-of-type {\n",
       "        vertical-align: middle;\n",
       "    }\n",
       "\n",
       "    .dataframe tbody tr th {\n",
       "        vertical-align: top;\n",
       "    }\n",
       "\n",
       "    .dataframe thead th {\n",
       "        text-align: right;\n",
       "    }\n",
       "</style>\n",
       "<table border=\"1\" class=\"dataframe\">\n",
       "  <thead>\n",
       "    <tr style=\"text-align: right;\">\n",
       "      <th></th>\n",
       "      <th>date</th>\n",
       "      <th>position</th>\n",
       "      <th>track_id</th>\n",
       "      <th>track_name</th>\n",
       "      <th>artist</th>\n",
       "      <th>streams</th>\n",
       "      <th>artist_id</th>\n",
       "      <th>artist_name</th>\n",
       "      <th>album_id</th>\n",
       "      <th>duration</th>\n",
       "      <th>...</th>\n",
       "      <th>energy</th>\n",
       "      <th>key</th>\n",
       "      <th>loudness</th>\n",
       "      <th>mode</th>\n",
       "      <th>speechiness</th>\n",
       "      <th>acousticness</th>\n",
       "      <th>instrumentalness</th>\n",
       "      <th>liveness</th>\n",
       "      <th>valence</th>\n",
       "      <th>tempo</th>\n",
       "    </tr>\n",
       "  </thead>\n",
       "  <tbody>\n",
       "    <tr>\n",
       "      <th>0</th>\n",
       "      <td>2017-01-01</td>\n",
       "      <td>1</td>\n",
       "      <td>0kN8xEmgMW9mh7UmDYHlJP</td>\n",
       "      <td>Versace on the Floor</td>\n",
       "      <td>Bruno Mars</td>\n",
       "      <td>185236</td>\n",
       "      <td>0du5cEVh5yTK9QJze8zA0C</td>\n",
       "      <td>Bruno Mars</td>\n",
       "      <td>4PgleR09JVnm3zY1fW3XBA</td>\n",
       "      <td>261240</td>\n",
       "      <td>...</td>\n",
       "      <td>0.574</td>\n",
       "      <td>2.0</td>\n",
       "      <td>-6.209</td>\n",
       "      <td>1.0</td>\n",
       "      <td>0.0454</td>\n",
       "      <td>0.196</td>\n",
       "      <td>0.00000</td>\n",
       "      <td>0.0830</td>\n",
       "      <td>0.301</td>\n",
       "      <td>174.152</td>\n",
       "    </tr>\n",
       "    <tr>\n",
       "      <th>1</th>\n",
       "      <td>2017-01-01</td>\n",
       "      <td>2</td>\n",
       "      <td>5uCax9HTNlzGybIStD3vDh</td>\n",
       "      <td>Say You Won't Let Go</td>\n",
       "      <td>James Arthur</td>\n",
       "      <td>180552</td>\n",
       "      <td>4IWBUUAFIplrNtaOHcJPRM</td>\n",
       "      <td>James Arthur</td>\n",
       "      <td>7oiJYvEJHsmYtrgviAVIBD</td>\n",
       "      <td>211466</td>\n",
       "      <td>...</td>\n",
       "      <td>0.557</td>\n",
       "      <td>10.0</td>\n",
       "      <td>-7.398</td>\n",
       "      <td>1.0</td>\n",
       "      <td>0.0590</td>\n",
       "      <td>0.695</td>\n",
       "      <td>0.00000</td>\n",
       "      <td>0.0902</td>\n",
       "      <td>0.494</td>\n",
       "      <td>85.043</td>\n",
       "    </tr>\n",
       "    <tr>\n",
       "      <th>2</th>\n",
       "      <td>2017-01-01</td>\n",
       "      <td>3</td>\n",
       "      <td>7BKLCZ1jbUBVqRi2FVlTVw</td>\n",
       "      <td>Closer</td>\n",
       "      <td>The Chainsmokers</td>\n",
       "      <td>158720</td>\n",
       "      <td>69GGBxA162lTqCwzJG5jLp</td>\n",
       "      <td>The Chainsmokers</td>\n",
       "      <td>0rSLgV8p5FzfnqlEk4GzxE</td>\n",
       "      <td>244960</td>\n",
       "      <td>...</td>\n",
       "      <td>0.524</td>\n",
       "      <td>8.0</td>\n",
       "      <td>-5.599</td>\n",
       "      <td>1.0</td>\n",
       "      <td>0.0338</td>\n",
       "      <td>0.414</td>\n",
       "      <td>0.00000</td>\n",
       "      <td>0.1110</td>\n",
       "      <td>0.661</td>\n",
       "      <td>95.010</td>\n",
       "    </tr>\n",
       "    <tr>\n",
       "      <th>3</th>\n",
       "      <td>2017-01-01</td>\n",
       "      <td>4</td>\n",
       "      <td>2rizacJSyD9S1IQUxUxnsK</td>\n",
       "      <td>All We Know</td>\n",
       "      <td>The Chainsmokers</td>\n",
       "      <td>130874</td>\n",
       "      <td>69GGBxA162lTqCwzJG5jLp</td>\n",
       "      <td>The Chainsmokers</td>\n",
       "      <td>0xmaV6EtJ4M3ebZUPRnhyb</td>\n",
       "      <td>194080</td>\n",
       "      <td>...</td>\n",
       "      <td>0.586</td>\n",
       "      <td>0.0</td>\n",
       "      <td>-8.821</td>\n",
       "      <td>1.0</td>\n",
       "      <td>0.0307</td>\n",
       "      <td>0.097</td>\n",
       "      <td>0.00272</td>\n",
       "      <td>0.1150</td>\n",
       "      <td>0.296</td>\n",
       "      <td>90.000</td>\n",
       "    </tr>\n",
       "    <tr>\n",
       "      <th>4</th>\n",
       "      <td>2017-01-01</td>\n",
       "      <td>5</td>\n",
       "      <td>5MFzQMkrl1FOOng9tq6R9r</td>\n",
       "      <td>Don't Wanna Know</td>\n",
       "      <td>Maroon 5</td>\n",
       "      <td>129656</td>\n",
       "      <td>04gDigrS5kc9YWfZHwBETP</td>\n",
       "      <td>Maroon 5</td>\n",
       "      <td>0fvTn3WXF39kQs9i3bnNpP</td>\n",
       "      <td>214480</td>\n",
       "      <td>...</td>\n",
       "      <td>0.623</td>\n",
       "      <td>7.0</td>\n",
       "      <td>-6.126</td>\n",
       "      <td>1.0</td>\n",
       "      <td>0.0800</td>\n",
       "      <td>0.338</td>\n",
       "      <td>0.00000</td>\n",
       "      <td>0.0975</td>\n",
       "      <td>0.447</td>\n",
       "      <td>100.048</td>\n",
       "    </tr>\n",
       "  </tbody>\n",
       "</table>\n",
       "<p>5 rows × 23 columns</p>\n",
       "</div>"
      ],
      "text/plain": [
       "        date  position                track_id            track_name  \\\n",
       "0 2017-01-01         1  0kN8xEmgMW9mh7UmDYHlJP  Versace on the Floor   \n",
       "1 2017-01-01         2  5uCax9HTNlzGybIStD3vDh  Say You Won't Let Go   \n",
       "2 2017-01-01         3  7BKLCZ1jbUBVqRi2FVlTVw                Closer   \n",
       "3 2017-01-01         4  2rizacJSyD9S1IQUxUxnsK           All We Know   \n",
       "4 2017-01-01         5  5MFzQMkrl1FOOng9tq6R9r      Don't Wanna Know   \n",
       "\n",
       "             artist  streams               artist_id       artist_name  \\\n",
       "0        Bruno Mars   185236  0du5cEVh5yTK9QJze8zA0C        Bruno Mars   \n",
       "1      James Arthur   180552  4IWBUUAFIplrNtaOHcJPRM      James Arthur   \n",
       "2  The Chainsmokers   158720  69GGBxA162lTqCwzJG5jLp  The Chainsmokers   \n",
       "3  The Chainsmokers   130874  69GGBxA162lTqCwzJG5jLp  The Chainsmokers   \n",
       "4          Maroon 5   129656  04gDigrS5kc9YWfZHwBETP          Maroon 5   \n",
       "\n",
       "                 album_id  duration  ... energy   key  loudness  mode  \\\n",
       "0  4PgleR09JVnm3zY1fW3XBA    261240  ...  0.574   2.0    -6.209   1.0   \n",
       "1  7oiJYvEJHsmYtrgviAVIBD    211466  ...  0.557  10.0    -7.398   1.0   \n",
       "2  0rSLgV8p5FzfnqlEk4GzxE    244960  ...  0.524   8.0    -5.599   1.0   \n",
       "3  0xmaV6EtJ4M3ebZUPRnhyb    194080  ...  0.586   0.0    -8.821   1.0   \n",
       "4  0fvTn3WXF39kQs9i3bnNpP    214480  ...  0.623   7.0    -6.126   1.0   \n",
       "\n",
       "   speechiness  acousticness  instrumentalness  liveness  valence    tempo  \n",
       "0       0.0454         0.196           0.00000    0.0830    0.301  174.152  \n",
       "1       0.0590         0.695           0.00000    0.0902    0.494   85.043  \n",
       "2       0.0338         0.414           0.00000    0.1110    0.661   95.010  \n",
       "3       0.0307         0.097           0.00272    0.1150    0.296   90.000  \n",
       "4       0.0800         0.338           0.00000    0.0975    0.447  100.048  \n",
       "\n",
       "[5 rows x 23 columns]"
      ]
     },
     "execution_count": 4,
     "metadata": {},
     "output_type": "execute_result"
    }
   ],
   "source": [
    "#merge the charts and tracks dataset\n",
    "df = charts_df.merge(tracks_df, on='track_id', how='left')\n",
    "#\n",
    "df = df.drop(columns='track_name_y')\n",
    "df = df.rename(columns={'track_name_x':'track_name'})\n",
    "df.head()"
   ]
  },
  {
   "cell_type": "markdown",
   "metadata": {
    "tags": []
   },
   "source": [
    "### Load the Artists csv"
   ]
  },
  {
   "cell_type": "code",
   "execution_count": 5,
   "metadata": {},
   "outputs": [
    {
     "data": {
      "text/html": [
       "<div>\n",
       "<style scoped>\n",
       "    .dataframe tbody tr th:only-of-type {\n",
       "        vertical-align: middle;\n",
       "    }\n",
       "\n",
       "    .dataframe tbody tr th {\n",
       "        vertical-align: top;\n",
       "    }\n",
       "\n",
       "    .dataframe thead th {\n",
       "        text-align: right;\n",
       "    }\n",
       "</style>\n",
       "<table border=\"1\" class=\"dataframe\">\n",
       "  <thead>\n",
       "    <tr style=\"text-align: right;\">\n",
       "      <th></th>\n",
       "      <th>artist_id</th>\n",
       "      <th>artist_name</th>\n",
       "      <th>total_followers</th>\n",
       "      <th>genres</th>\n",
       "      <th>popularity</th>\n",
       "    </tr>\n",
       "  </thead>\n",
       "  <tbody>\n",
       "    <tr>\n",
       "      <th>0</th>\n",
       "      <td>0du5cEVh5yTK9QJze8zA0C</td>\n",
       "      <td>Bruno Mars</td>\n",
       "      <td>30585244</td>\n",
       "      <td>['dance pop', 'pop']</td>\n",
       "      <td>95</td>\n",
       "    </tr>\n",
       "    <tr>\n",
       "      <th>1</th>\n",
       "      <td>4IWBUUAFIplrNtaOHcJPRM</td>\n",
       "      <td>James Arthur</td>\n",
       "      <td>8035001</td>\n",
       "      <td>['pop', 'post-teen pop', 'talent show', 'uk pop']</td>\n",
       "      <td>87</td>\n",
       "    </tr>\n",
       "    <tr>\n",
       "      <th>2</th>\n",
       "      <td>69GGBxA162lTqCwzJG5jLp</td>\n",
       "      <td>The Chainsmokers</td>\n",
       "      <td>17865117</td>\n",
       "      <td>['dance pop', 'edm', 'electropop', 'pop', 'pop...</td>\n",
       "      <td>86</td>\n",
       "    </tr>\n",
       "    <tr>\n",
       "      <th>3</th>\n",
       "      <td>04gDigrS5kc9YWfZHwBETP</td>\n",
       "      <td>Maroon 5</td>\n",
       "      <td>30759087</td>\n",
       "      <td>['pop', 'pop rock']</td>\n",
       "      <td>92</td>\n",
       "    </tr>\n",
       "    <tr>\n",
       "      <th>4</th>\n",
       "      <td>5p7f24Rk5HkUZsaS3BLG5F</td>\n",
       "      <td>Hailee Steinfeld</td>\n",
       "      <td>6760239</td>\n",
       "      <td>['dance pop', 'pop', 'post-teen pop']</td>\n",
       "      <td>79</td>\n",
       "    </tr>\n",
       "  </tbody>\n",
       "</table>\n",
       "</div>"
      ],
      "text/plain": [
       "                artist_id       artist_name  total_followers  \\\n",
       "0  0du5cEVh5yTK9QJze8zA0C        Bruno Mars         30585244   \n",
       "1  4IWBUUAFIplrNtaOHcJPRM      James Arthur          8035001   \n",
       "2  69GGBxA162lTqCwzJG5jLp  The Chainsmokers         17865117   \n",
       "3  04gDigrS5kc9YWfZHwBETP          Maroon 5         30759087   \n",
       "4  5p7f24Rk5HkUZsaS3BLG5F  Hailee Steinfeld          6760239   \n",
       "\n",
       "                                              genres  popularity  \n",
       "0                               ['dance pop', 'pop']          95  \n",
       "1  ['pop', 'post-teen pop', 'talent show', 'uk pop']          87  \n",
       "2  ['dance pop', 'edm', 'electropop', 'pop', 'pop...          86  \n",
       "3                                ['pop', 'pop rock']          92  \n",
       "4              ['dance pop', 'pop', 'post-teen pop']          79  "
      ]
     },
     "execution_count": 5,
     "metadata": {},
     "output_type": "execute_result"
    }
   ],
   "source": [
    "# already in the spotify_daily_charts_artists.csv\n",
    "df_artists = pd.read_csv(\"data/spotify_daily_charts_artists.csv\")\n",
    "df_artists.head()"
   ]
  },
  {
   "cell_type": "code",
   "execution_count": 7,
   "metadata": {},
   "outputs": [
    {
     "data": {
      "text/plain": [
       "Index(['acousticness', 'album_id', 'artist', 'artist_id', 'artist_name_x',\n",
       "       'artist_name_y', 'danceability', 'date', 'duration', 'energy', 'genres',\n",
       "       'instrumentalness', 'key', 'liveness', 'loudness', 'mode',\n",
       "       'popularity_x', 'popularity_y', 'position', 'release_date',\n",
       "       'speechiness', 'streams', 'tempo', 'total_followers', 'track_id',\n",
       "       'track_name', 'valence'],\n",
       "      dtype='object')"
      ]
     },
     "execution_count": 7,
     "metadata": {},
     "output_type": "execute_result"
    }
   ],
   "source": [
    "#merge the df dataset with df_artists\n",
    "df_with_genres = df.merge(df_artists, on='artist_id', how='left')\n",
    "df_with_genres.columns.sort_values()\n"
   ]
  },
  {
   "cell_type": "code",
   "execution_count": 9,
   "metadata": {},
   "outputs": [
    {
     "data": {
      "text/plain": [
       "Index(['acousticness', 'album_id', 'artist', 'artist_id', 'artist_name_x',\n",
       "       'danceability', 'date', 'duration', 'energy', 'genres',\n",
       "       'instrumentalness', 'key', 'liveness', 'loudness', 'mode',\n",
       "       'popularity_x', 'position', 'release_date', 'speechiness', 'streams',\n",
       "       'tempo', 'total_followers', 'track_id', 'track_name', 'valence'],\n",
       "      dtype='object')"
      ]
     },
     "execution_count": 9,
     "metadata": {},
     "output_type": "execute_result"
    }
   ],
   "source": [
    "df_with_genres.drop(columns=['artist_name_y','popularity_y'],inplace=True)\n",
    "df_with_genres.columns.sort_values()"
   ]
  },
  {
   "cell_type": "code",
   "execution_count": 10,
   "metadata": {},
   "outputs": [
    {
     "data": {
      "text/plain": [
       "Index(['acousticness', 'album_id', 'artist', 'artist_id', 'artist_name',\n",
       "       'danceability', 'date', 'duration', 'energy', 'genres',\n",
       "       'instrumentalness', 'key', 'liveness', 'loudness', 'mode',\n",
       "       'popularity_x', 'position', 'release_date', 'speechiness', 'streams',\n",
       "       'tempo', 'total_followers', 'track_id', 'track_name', 'valence'],\n",
       "      dtype='object')"
      ]
     },
     "execution_count": 10,
     "metadata": {},
     "output_type": "execute_result"
    }
   ],
   "source": [
    "df_with_genres = df_with_genres.rename(columns={'artist_name_x':'artist_name'})\n",
    "df_with_genres.columns.sort_values()"
   ]
  },
  {
   "cell_type": "code",
   "execution_count": 11,
   "metadata": {},
   "outputs": [
    {
     "data": {
      "text/plain": [
       "Index(['acousticness', 'album_id', 'artist', 'artist_id', 'artist_name',\n",
       "       'danceability', 'date', 'duration', 'energy', 'genres',\n",
       "       'instrumentalness', 'key', 'liveness', 'loudness', 'mode', 'popularity',\n",
       "       'position', 'release_date', 'speechiness', 'streams', 'tempo',\n",
       "       'total_followers', 'track_id', 'track_name', 'valence'],\n",
       "      dtype='object')"
      ]
     },
     "execution_count": 11,
     "metadata": {},
     "output_type": "execute_result"
    }
   ],
   "source": [
    "df_with_genres = df_with_genres.rename(columns={'popularity_x':'popularity'})\n",
    "df_with_genres.columns.sort_values()"
   ]
  },
  {
   "cell_type": "code",
   "execution_count": 13,
   "metadata": {},
   "outputs": [],
   "source": [
    "# Run only ones\n",
    "#df_with_genres.to_csv(\"data/spotify_combined_with_genres.csv\", index=False)"
   ]
  },
  {
   "cell_type": "code",
   "execution_count": 14,
   "metadata": {},
   "outputs": [
    {
     "data": {
      "text/html": [
       "<div>\n",
       "<style scoped>\n",
       "    .dataframe tbody tr th:only-of-type {\n",
       "        vertical-align: middle;\n",
       "    }\n",
       "\n",
       "    .dataframe tbody tr th {\n",
       "        vertical-align: top;\n",
       "    }\n",
       "\n",
       "    .dataframe thead th {\n",
       "        text-align: right;\n",
       "    }\n",
       "</style>\n",
       "<table border=\"1\" class=\"dataframe\">\n",
       "  <thead>\n",
       "    <tr style=\"text-align: right;\">\n",
       "      <th></th>\n",
       "      <th>date</th>\n",
       "      <th>position</th>\n",
       "      <th>track_id</th>\n",
       "      <th>track_name</th>\n",
       "      <th>artist</th>\n",
       "      <th>streams</th>\n",
       "      <th>artist_id</th>\n",
       "      <th>artist_name</th>\n",
       "      <th>album_id</th>\n",
       "      <th>duration</th>\n",
       "      <th>...</th>\n",
       "      <th>loudness</th>\n",
       "      <th>mode</th>\n",
       "      <th>speechiness</th>\n",
       "      <th>acousticness</th>\n",
       "      <th>instrumentalness</th>\n",
       "      <th>liveness</th>\n",
       "      <th>valence</th>\n",
       "      <th>tempo</th>\n",
       "      <th>total_followers</th>\n",
       "      <th>genres</th>\n",
       "    </tr>\n",
       "  </thead>\n",
       "  <tbody>\n",
       "    <tr>\n",
       "      <th>0</th>\n",
       "      <td>2017-01-01</td>\n",
       "      <td>1</td>\n",
       "      <td>0kN8xEmgMW9mh7UmDYHlJP</td>\n",
       "      <td>Versace on the Floor</td>\n",
       "      <td>Bruno Mars</td>\n",
       "      <td>185236</td>\n",
       "      <td>0du5cEVh5yTK9QJze8zA0C</td>\n",
       "      <td>Bruno Mars</td>\n",
       "      <td>4PgleR09JVnm3zY1fW3XBA</td>\n",
       "      <td>261240</td>\n",
       "      <td>...</td>\n",
       "      <td>-6.209</td>\n",
       "      <td>1.0</td>\n",
       "      <td>0.0454</td>\n",
       "      <td>0.196</td>\n",
       "      <td>0.00000</td>\n",
       "      <td>0.0830</td>\n",
       "      <td>0.301</td>\n",
       "      <td>174.152</td>\n",
       "      <td>30585244</td>\n",
       "      <td>['dance pop', 'pop']</td>\n",
       "    </tr>\n",
       "    <tr>\n",
       "      <th>1</th>\n",
       "      <td>2017-01-01</td>\n",
       "      <td>2</td>\n",
       "      <td>5uCax9HTNlzGybIStD3vDh</td>\n",
       "      <td>Say You Won't Let Go</td>\n",
       "      <td>James Arthur</td>\n",
       "      <td>180552</td>\n",
       "      <td>4IWBUUAFIplrNtaOHcJPRM</td>\n",
       "      <td>James Arthur</td>\n",
       "      <td>7oiJYvEJHsmYtrgviAVIBD</td>\n",
       "      <td>211466</td>\n",
       "      <td>...</td>\n",
       "      <td>-7.398</td>\n",
       "      <td>1.0</td>\n",
       "      <td>0.0590</td>\n",
       "      <td>0.695</td>\n",
       "      <td>0.00000</td>\n",
       "      <td>0.0902</td>\n",
       "      <td>0.494</td>\n",
       "      <td>85.043</td>\n",
       "      <td>8035001</td>\n",
       "      <td>['pop', 'post-teen pop', 'talent show', 'uk pop']</td>\n",
       "    </tr>\n",
       "    <tr>\n",
       "      <th>2</th>\n",
       "      <td>2017-01-01</td>\n",
       "      <td>3</td>\n",
       "      <td>7BKLCZ1jbUBVqRi2FVlTVw</td>\n",
       "      <td>Closer</td>\n",
       "      <td>The Chainsmokers</td>\n",
       "      <td>158720</td>\n",
       "      <td>69GGBxA162lTqCwzJG5jLp</td>\n",
       "      <td>The Chainsmokers</td>\n",
       "      <td>0rSLgV8p5FzfnqlEk4GzxE</td>\n",
       "      <td>244960</td>\n",
       "      <td>...</td>\n",
       "      <td>-5.599</td>\n",
       "      <td>1.0</td>\n",
       "      <td>0.0338</td>\n",
       "      <td>0.414</td>\n",
       "      <td>0.00000</td>\n",
       "      <td>0.1110</td>\n",
       "      <td>0.661</td>\n",
       "      <td>95.010</td>\n",
       "      <td>17865117</td>\n",
       "      <td>['dance pop', 'edm', 'electropop', 'pop', 'pop...</td>\n",
       "    </tr>\n",
       "    <tr>\n",
       "      <th>3</th>\n",
       "      <td>2017-01-01</td>\n",
       "      <td>4</td>\n",
       "      <td>2rizacJSyD9S1IQUxUxnsK</td>\n",
       "      <td>All We Know</td>\n",
       "      <td>The Chainsmokers</td>\n",
       "      <td>130874</td>\n",
       "      <td>69GGBxA162lTqCwzJG5jLp</td>\n",
       "      <td>The Chainsmokers</td>\n",
       "      <td>0xmaV6EtJ4M3ebZUPRnhyb</td>\n",
       "      <td>194080</td>\n",
       "      <td>...</td>\n",
       "      <td>-8.821</td>\n",
       "      <td>1.0</td>\n",
       "      <td>0.0307</td>\n",
       "      <td>0.097</td>\n",
       "      <td>0.00272</td>\n",
       "      <td>0.1150</td>\n",
       "      <td>0.296</td>\n",
       "      <td>90.000</td>\n",
       "      <td>17865117</td>\n",
       "      <td>['dance pop', 'edm', 'electropop', 'pop', 'pop...</td>\n",
       "    </tr>\n",
       "    <tr>\n",
       "      <th>4</th>\n",
       "      <td>2017-01-01</td>\n",
       "      <td>5</td>\n",
       "      <td>5MFzQMkrl1FOOng9tq6R9r</td>\n",
       "      <td>Don't Wanna Know</td>\n",
       "      <td>Maroon 5</td>\n",
       "      <td>129656</td>\n",
       "      <td>04gDigrS5kc9YWfZHwBETP</td>\n",
       "      <td>Maroon 5</td>\n",
       "      <td>0fvTn3WXF39kQs9i3bnNpP</td>\n",
       "      <td>214480</td>\n",
       "      <td>...</td>\n",
       "      <td>-6.126</td>\n",
       "      <td>1.0</td>\n",
       "      <td>0.0800</td>\n",
       "      <td>0.338</td>\n",
       "      <td>0.00000</td>\n",
       "      <td>0.0975</td>\n",
       "      <td>0.447</td>\n",
       "      <td>100.048</td>\n",
       "      <td>30759087</td>\n",
       "      <td>['pop', 'pop rock']</td>\n",
       "    </tr>\n",
       "  </tbody>\n",
       "</table>\n",
       "<p>5 rows × 25 columns</p>\n",
       "</div>"
      ],
      "text/plain": [
       "        date  position                track_id            track_name  \\\n",
       "0 2017-01-01         1  0kN8xEmgMW9mh7UmDYHlJP  Versace on the Floor   \n",
       "1 2017-01-01         2  5uCax9HTNlzGybIStD3vDh  Say You Won't Let Go   \n",
       "2 2017-01-01         3  7BKLCZ1jbUBVqRi2FVlTVw                Closer   \n",
       "3 2017-01-01         4  2rizacJSyD9S1IQUxUxnsK           All We Know   \n",
       "4 2017-01-01         5  5MFzQMkrl1FOOng9tq6R9r      Don't Wanna Know   \n",
       "\n",
       "             artist  streams               artist_id       artist_name  \\\n",
       "0        Bruno Mars   185236  0du5cEVh5yTK9QJze8zA0C        Bruno Mars   \n",
       "1      James Arthur   180552  4IWBUUAFIplrNtaOHcJPRM      James Arthur   \n",
       "2  The Chainsmokers   158720  69GGBxA162lTqCwzJG5jLp  The Chainsmokers   \n",
       "3  The Chainsmokers   130874  69GGBxA162lTqCwzJG5jLp  The Chainsmokers   \n",
       "4          Maroon 5   129656  04gDigrS5kc9YWfZHwBETP          Maroon 5   \n",
       "\n",
       "                 album_id  duration  ... loudness  mode  speechiness  \\\n",
       "0  4PgleR09JVnm3zY1fW3XBA    261240  ...   -6.209   1.0       0.0454   \n",
       "1  7oiJYvEJHsmYtrgviAVIBD    211466  ...   -7.398   1.0       0.0590   \n",
       "2  0rSLgV8p5FzfnqlEk4GzxE    244960  ...   -5.599   1.0       0.0338   \n",
       "3  0xmaV6EtJ4M3ebZUPRnhyb    194080  ...   -8.821   1.0       0.0307   \n",
       "4  0fvTn3WXF39kQs9i3bnNpP    214480  ...   -6.126   1.0       0.0800   \n",
       "\n",
       "   acousticness  instrumentalness  liveness  valence    tempo  \\\n",
       "0         0.196           0.00000    0.0830    0.301  174.152   \n",
       "1         0.695           0.00000    0.0902    0.494   85.043   \n",
       "2         0.414           0.00000    0.1110    0.661   95.010   \n",
       "3         0.097           0.00272    0.1150    0.296   90.000   \n",
       "4         0.338           0.00000    0.0975    0.447  100.048   \n",
       "\n",
       "   total_followers                                             genres  \n",
       "0         30585244                               ['dance pop', 'pop']  \n",
       "1          8035001  ['pop', 'post-teen pop', 'talent show', 'uk pop']  \n",
       "2         17865117  ['dance pop', 'edm', 'electropop', 'pop', 'pop...  \n",
       "3         17865117  ['dance pop', 'edm', 'electropop', 'pop', 'pop...  \n",
       "4         30759087                                ['pop', 'pop rock']  \n",
       "\n",
       "[5 rows x 25 columns]"
      ]
     },
     "execution_count": 14,
     "metadata": {},
     "output_type": "execute_result"
    }
   ],
   "source": [
    "df_with_genres.head()"
   ]
  },
  {
   "cell_type": "code",
   "execution_count": 15,
   "metadata": {},
   "outputs": [
    {
     "data": {
      "text/plain": [
       "date                 0\n",
       "position             0\n",
       "track_id             0\n",
       "track_name          20\n",
       "artist              20\n",
       "streams              0\n",
       "artist_id            0\n",
       "artist_name         20\n",
       "album_id             0\n",
       "duration             0\n",
       "release_date         0\n",
       "popularity           0\n",
       "danceability        63\n",
       "energy              63\n",
       "key                 63\n",
       "loudness            63\n",
       "mode                63\n",
       "speechiness         63\n",
       "acousticness        63\n",
       "instrumentalness    63\n",
       "liveness            63\n",
       "valence             63\n",
       "tempo               63\n",
       "total_followers      0\n",
       "genres               0\n",
       "dtype: int64"
      ]
     },
     "execution_count": 15,
     "metadata": {},
     "output_type": "execute_result"
    }
   ],
   "source": [
    "df_with_genres.isnull().sum()"
   ]
  },
  {
   "cell_type": "code",
   "execution_count": 16,
   "metadata": {},
   "outputs": [
    {
     "data": {
      "text/plain": [
       "date                 0\n",
       "position             0\n",
       "track_id             0\n",
       "track_name          10\n",
       "artist              10\n",
       "streams              0\n",
       "artist_id            0\n",
       "artist_name         10\n",
       "album_id             0\n",
       "duration             0\n",
       "release_date         0\n",
       "popularity           0\n",
       "danceability        63\n",
       "energy              63\n",
       "key                 63\n",
       "loudness            63\n",
       "mode                63\n",
       "speechiness         63\n",
       "acousticness        63\n",
       "instrumentalness    63\n",
       "liveness            63\n",
       "valence             63\n",
       "tempo               63\n",
       "dtype: int64"
      ]
     },
     "execution_count": 16,
     "metadata": {},
     "output_type": "execute_result"
    }
   ],
   "source": [
    "df.isnull().sum()"
   ]
  },
  {
   "cell_type": "code",
   "execution_count": 17,
   "metadata": {},
   "outputs": [],
   "source": [
    "## Overwrite df\n",
    "df = df_with_genres.copy()"
   ]
  },
  {
   "cell_type": "code",
   "execution_count": 18,
   "metadata": {},
   "outputs": [],
   "source": [
    "df['date'] = pd.to_datetime(df['date'])"
   ]
  },
  {
   "cell_type": "markdown",
   "metadata": {},
   "source": [
    "## Instructions"
   ]
  },
  {
   "cell_type": "markdown",
   "metadata": {},
   "source": [
    "1. (*Easy- Individual Work*) Among those included in the Spotify charts, pick 1 artist you like to analyze. \n",
    "\n",
    "   a. Plot the streams and positions of their top 5 streamed songs.\n",
    "\n",
    "   b. Compare these charts with streams and positions of what you feel to be a possible collaborator/competitor/related artist. \n",
    "\n",
    "   What insights can you draw from the data?"
   ]
  },
  {
   "cell_type": "code",
   "execution_count": null,
   "metadata": {},
   "outputs": [],
   "source": [
    "df['date'] = pd.to_datetime(df['date'])"
   ]
  },
  {
   "cell_type": "code",
   "execution_count": null,
   "metadata": {},
   "outputs": [],
   "source": [
    "df.set_index('date',inplace=True)"
   ]
  },
  {
   "cell_type": "code",
   "execution_count": null,
   "metadata": {},
   "outputs": [],
   "source": [
    "artist_selected=\"Bruno Mars\""
   ]
  },
  {
   "cell_type": "code",
   "execution_count": null,
   "metadata": {},
   "outputs": [],
   "source": [
    "artist1_df = df[ (df['artist']==artist_selected) & (df['position']<=5) ]"
   ]
  },
  {
   "cell_type": "code",
   "execution_count": null,
   "metadata": {
    "tags": []
   },
   "outputs": [],
   "source": [
    "artist1_df[(artist1_df['position']<=5)][['track_name']].value_counts()"
   ]
  },
  {
   "cell_type": "code",
   "execution_count": null,
   "metadata": {},
   "outputs": [],
   "source": [
    "artist1_df.groupby(['track_name'])['streams'].sum().sort_values(ascending=False).to_frame()"
   ]
  },
  {
   "cell_type": "code",
   "execution_count": null,
   "metadata": {},
   "outputs": [],
   "source": [
    "# Code for Part 1 here\n",
    "\n",
    "\n",
    "\n",
    "#\n",
    "fig = plt.figure(figsize=(8,6))\n",
    "ax = fig.add_subplot(111)\n",
    "\n",
    "data1 = df[df['track_name']==\"Versace on the Floor\"]['streams'].resample('M').sum().cumsum()\n",
    "data2 = df[df['track_name']==\"That's What I Like\"]['streams'].resample('M').sum().cumsum()\n",
    "data3 = df[df['track_name']==\"Leave The Door Open\"]['streams'].resample('M').sum().cumsum()\n",
    "data4 = df[df['track_name']==\"Finesse - Remix; feat. Cardi B\"]['streams'].resample('M').sum().cumsum()\n",
    "data5 = df[df['track_name']==\"24K Magic\"]['streams'].resample('M').sum().cumsum()\n",
    "\n",
    "data1.plot(ax=ax, label=\"Versace on the Floor\")\n",
    "data2.plot(ax=ax, label=\"That's What I Like\")\n",
    "data3.plot(ax=ax, label=\"Leave The Door Open\")\n",
    "data4.plot(ax=ax, label=\"Finesse - Remix; feat. Cardi B\")\n",
    "data5.plot(ax=ax, label=\"24K Magic\")\n",
    "\n",
    "plt.legend([\"Versace on the Floor\",\"That's What I Like\",\"Leave The Door Open\",\"Finesse - Remix; feat. Cardi B\",\"24K Magic\"])\n",
    "plt.ylabel('Streams (in ten millions)')\n",
    "plt.title('Cumulative Total Streams')\n"
   ]
  },
  {
   "cell_type": "code",
   "execution_count": null,
   "metadata": {},
   "outputs": [],
   "source": [
    "\n",
    "#\n",
    "fig = plt.figure(figsize=(8,6))\n",
    "ax = fig.add_subplot(111)\n",
    "\n",
    "data1 = df[df['track_name']==\"Versace on the Floor\"]['position'].resample('M').sum().cumsum()\n",
    "data2 = df[df['track_name']==\"That's What I Like\"]['position'].resample('M').sum().cumsum()\n",
    "data3 = df[df['track_name']==\"Leave The Door Open\"]['position'].resample('M').sum().cumsum()\n",
    "data4 = df[df['track_name']==\"Finesse - Remix; feat. Cardi B\"]['position'].resample('M').sum().cumsum()\n",
    "data5 = df[df['track_name']==\"24K Magic\"]['position'].resample('M').sum().cumsum()\n",
    "\n",
    "data1.plot(ax=ax, label=\"Versace on the Floor\")\n",
    "data2.plot(ax=ax, label=\"That's What I Like\")\n",
    "data3.plot(ax=ax, label=\"Leave The Door Open\")\n",
    "data4.plot(ax=ax, label=\"Finesse - Remix; feat. Cardi B\")\n",
    "data5.plot(ax=ax, label=\"24K Magic\")\n",
    "\n",
    "plt.legend([\"Versace on the Floor\",\"That's What I Like\",\"Leave The Door Open\",\"Finesse - Remix; feat. Cardi B\",\"24K Magic\"])\n",
    "plt.ylabel('Streams (in ten millions)')\n",
    "plt.title('Cumulative Total Streams')\n"
   ]
  },
  {
   "cell_type": "markdown",
   "metadata": {},
   "source": [
    "2. (*Intermediate - Group Work*) A song may be classified as follows:\n",
    "\n",
    "   - **Mainstay** - Song with high streams ($>X_1$ streams) and position ($>P_1$ position) all throughout the year\n",
    "   - **Viral** - Song that reach the peak position fast with high increase in streams ($>X_2$ streams/day),\n",
    "     followed by a rapid decline in position ($P_2$ places/day) and streams ($>X_3$ streams/day)\n",
    "   - **Seasonal** - Song that garner considerable streams ($>X_4$ streams) within a certain season and go into low ranks/ disappear from the chart after the season\n",
    "    \n",
    "   a. Discuss among your group how you would define and set values to the thresholds that you will use to classify the songs according to the categories as described above. (You may add more thresholds to refine the definitions, as you see fit)\n",
    "   \n",
    "   b. Using your group's definition in (a) name as many songs as you can per classification and plot their streams and position as a time series."
   ]
  },
  {
   "cell_type": "raw",
   "metadata": {},
   "source": [
    "# Code for Part 2 here\n",
    "# Mainstay > Streams quantile(75) -- Mainstay, Position .25 -- 50 or less\n",
    "# Viral -- songs streams (diffs), pct_change, streams and position rank (1-25), rolling\n",
    "# Seasonal -- timeseries (Sept 1 -Jan 31)\n",
    "# Seasonal:  in top 25 or 50 and Months: [sept,oct,nov,dec,jan]\n",
    "# Variables\n",
    "X1\n",
    "P1\n",
    "\n",
    "X2\n",
    "P2\n",
    "X3\n",
    "\n",
    "X4\n"
   ]
  },
  {
   "cell_type": "code",
   "execution_count": null,
   "metadata": {},
   "outputs": [],
   "source": [
    "# Mainstay\n",
    "# Mainstay - Song with high streams ( >𝑋1  streams) and position ( >𝑃1  position) all throughout the year\n",
    "#getting mainstay streams\n",
    "X1 = df.groupby(['track_id','track_name'])[['streams','position']].agg(streams=('streams', sum), position=('position', min)).sort_values(['streams','position'], ascending=[False,True])\n",
    "X1['streams'].quantile(0.75)\n",
    "\n",
    "#Mainstay - Will refer to songs equal to or above the upper quantile (Q3). X1 = 3,597,481.75 P1 = 50"
   ]
  },
  {
   "cell_type": "code",
   "execution_count": null,
   "metadata": {},
   "outputs": [],
   "source": [
    "X1"
   ]
  },
  {
   "cell_type": "code",
   "execution_count": null,
   "metadata": {},
   "outputs": [],
   "source": [
    "#getting mainstay -- positions\n",
    "P1 = df.groupby(['track_id','track_name'])[['streams','position']].agg(streams=('streams', sum), position=('position', min)).sort_values(['streams','position'], ascending=[False,True])\n",
    "P1['position'].quantile(0.25)"
   ]
  },
  {
   "cell_type": "code",
   "execution_count": null,
   "metadata": {},
   "outputs": [],
   "source": [
    "P1"
   ]
  },
  {
   "cell_type": "code",
   "execution_count": null,
   "metadata": {},
   "outputs": [],
   "source": [
    "# Viral\n"
   ]
  },
  {
   "cell_type": "code",
   "execution_count": null,
   "metadata": {},
   "outputs": [],
   "source": [
    "# Seasonal\n"
   ]
  },
  {
   "cell_type": "markdown",
   "metadata": {},
   "source": [
    "3. (*Advanced - Individual, Optional*) What percentage of Spotify charts streams from 2018-2020 are from mainstay songs? viral songs? seasonal songs? songs that do not belong in any of these categories? What does this reveal about the streaming market?"
   ]
  },
  {
   "cell_type": "code",
   "execution_count": null,
   "metadata": {
    "tags": []
   },
   "outputs": [],
   "source": [
    "# Code for Part 3 here\n"
   ]
  },
  {
   "cell_type": "markdown",
   "metadata": {},
   "source": [
    "## Sprint EDA"
   ]
  },
  {
   "cell_type": "code",
   "execution_count": null,
   "metadata": {},
   "outputs": [],
   "source": [
    "df.columns.sort_values()"
   ]
  },
  {
   "cell_type": "code",
   "execution_count": null,
   "metadata": {},
   "outputs": [],
   "source": [
    "df.head()"
   ]
  },
  {
   "cell_type": "markdown",
   "metadata": {},
   "source": [
    "### Hitmaker: Britney Spears"
   ]
  },
  {
   "cell_type": "code",
   "execution_count": null,
   "metadata": {},
   "outputs": [],
   "source": [
    "# from Heide\n",
    "britney_df = df[df['artist_name']=='Britney Spears']\n",
    "britney_df\n",
    "\n"
   ]
  },
  {
   "cell_type": "code",
   "execution_count": null,
   "metadata": {},
   "outputs": [],
   "source": []
  },
  {
   "cell_type": "markdown",
   "metadata": {},
   "source": [
    "### Aspiring"
   ]
  },
  {
   "cell_type": "code",
   "execution_count": null,
   "metadata": {},
   "outputs": [],
   "source": [
    "noobs = df.groupby('artist_name')[['album_id']].count().sort_values(by='album_id', ascending=True).reset_index().rename(columns={'album_id':'album_count'})\n",
    "\n",
    "noobs_list = noobs[noobs['album_count']==1]['artist_name']\n",
    "\n",
    "noobs\n"
   ]
  },
  {
   "cell_type": "code",
   "execution_count": null,
   "metadata": {},
   "outputs": [],
   "source": [
    "noobs_list"
   ]
  },
  {
   "cell_type": "code",
   "execution_count": null,
   "metadata": {},
   "outputs": [],
   "source": [
    "df[(df['artist_name'].isin(noobs_list))].head()"
   ]
  },
  {
   "cell_type": "code",
   "execution_count": null,
   "metadata": {},
   "outputs": [],
   "source": [
    "df[(df['artist_name'].isin(noobs_list)) & (df['release_date']>='2020-01-01')].head()"
   ]
  },
  {
   "cell_type": "code",
   "execution_count": null,
   "metadata": {},
   "outputs": [],
   "source": []
  },
  {
   "cell_type": "markdown",
   "metadata": {},
   "source": [
    "### Audio Features"
   ]
  },
  {
   "cell_type": "code",
   "execution_count": null,
   "metadata": {},
   "outputs": [],
   "source": [
    "df.columns"
   ]
  },
  {
   "cell_type": "code",
   "execution_count": null,
   "metadata": {},
   "outputs": [],
   "source": [
    "audio_features = ['danceability','energy', 'key', \\\n",
    "                  'loudness', 'mode', 'speechiness', \\\n",
    "                  'acousticness', 'instrumentalness', 'liveness', \\\n",
    "                  'valence', 'tempo'\n",
    "                 ]\n",
    "audio_features"
   ]
  },
  {
   "cell_type": "code",
   "execution_count": null,
   "metadata": {},
   "outputs": [],
   "source": [
    "df_audio_features = df[audio_features]\n",
    "df_audio_features.head()"
   ]
  },
  {
   "cell_type": "markdown",
   "metadata": {},
   "source": [
    "#### Genres\n",
    "\n",
    "Shall we look on this from the API? Probably yes, to get the seeded song's Genre..."
   ]
  },
  {
   "cell_type": "code",
   "execution_count": null,
   "metadata": {},
   "outputs": [],
   "source": [
    "# already in the spotify_daily_charts_artists.csv\n",
    "df_artists = pd.read_csv(\"data/spotify_daily_charts_artists.csv\")\n",
    "df_artists.head()"
   ]
  },
  {
   "cell_type": "code",
   "execution_count": null,
   "metadata": {},
   "outputs": [],
   "source": [
    "df_artists.m"
   ]
  },
  {
   "cell_type": "markdown",
   "metadata": {},
   "source": [
    "## Feature Engineering"
   ]
  },
  {
   "cell_type": "code",
   "execution_count": null,
   "metadata": {},
   "outputs": [],
   "source": []
  }
 ],
 "metadata": {
  "kernelspec": {
   "display_name": "Python 3",
   "language": "python",
   "name": "python3"
  },
  "language_info": {
   "codemirror_mode": {
    "name": "ipython",
    "version": 3
   },
   "file_extension": ".py",
   "mimetype": "text/x-python",
   "name": "python",
   "nbconvert_exporter": "python",
   "pygments_lexer": "ipython3",
   "version": "3.8.8"
  }
 },
 "nbformat": 4,
 "nbformat_minor": 4
}
