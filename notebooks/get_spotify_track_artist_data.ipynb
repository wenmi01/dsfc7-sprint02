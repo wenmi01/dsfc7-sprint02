{
 "cells": [
  {
   "cell_type": "code",
   "execution_count": null,
   "metadata": {
    "ExecuteTime": {
     "end_time": "2021-05-22T09:50:14.037023Z",
     "start_time": "2021-05-22T09:50:14.033515Z"
    }
   },
   "outputs": [],
   "source": [
    "import numpy as np\n",
    "import pandas as pd\n",
    "\n",
    "import spotipy\n",
    "from spotipy.oauth2 import SpotifyClientCredentials\n",
    "\n",
    "import keyring\n",
    "import time"
   ]
  },
  {
   "cell_type": "markdown",
   "metadata": {},
   "source": [
    "## Setup Spotipy credentials and query wrapper"
   ]
  },
  {
   "cell_type": "code",
   "execution_count": null,
   "metadata": {
    "ExecuteTime": {
     "end_time": "2021-05-22T09:50:14.780332Z",
     "start_time": "2021-05-22T09:50:14.767815Z"
    }
   },
   "outputs": [],
   "source": [
    "client_credentials_manager = SpotifyClientCredentials(client_id=keyring.get_password('spotify', 'cid'),\n",
    "                                                      client_secret=keyring.get_password('spotify', 'secret') )\n",
    "sp = spotipy.Spotify(client_credentials_manager = client_credentials_manager)"
   ]
  },
  {
   "cell_type": "markdown",
   "metadata": {},
   "source": [
    "## Get sample artists data"
   ]
  },
  {
   "cell_type": "code",
   "execution_count": null,
   "metadata": {
    "ExecuteTime": {
     "end_time": "2021-05-22T09:50:15.655188Z",
     "start_time": "2021-05-22T09:50:15.651513Z"
    }
   },
   "outputs": [],
   "source": [
    "artist_id = '3Nrfpe0tUJi4K4DXYWgMUX'"
   ]
  },
  {
   "cell_type": "code",
   "execution_count": null,
   "metadata": {
    "ExecuteTime": {
     "end_time": "2021-05-22T09:50:16.416385Z",
     "start_time": "2021-05-22T09:50:15.857727Z"
    }
   },
   "outputs": [],
   "source": [
    "# View sp.artist output\n",
    "sp.artist(artist_id)"
   ]
  },
  {
   "cell_type": "markdown",
   "metadata": {
    "ExecuteTime": {
     "end_time": "2020-09-23T17:25:33.267863Z",
     "start_time": "2020-09-23T17:25:33.250873Z"
    }
   },
   "source": [
    "## Get sample track data"
   ]
  },
  {
   "cell_type": "code",
   "execution_count": null,
   "metadata": {
    "ExecuteTime": {
     "end_time": "2021-05-22T13:57:12.739293Z",
     "start_time": "2021-05-22T13:57:12.734055Z"
    }
   },
   "outputs": [],
   "source": [
    "track_id = \"3VqeTFIvhxu3DIe4eZVzGq\""
   ]
  },
  {
   "cell_type": "code",
   "execution_count": null,
   "metadata": {
    "ExecuteTime": {
     "end_time": "2021-05-22T13:57:16.065436Z",
     "start_time": "2021-05-22T13:57:15.955559Z"
    },
    "scrolled": true
   },
   "outputs": [],
   "source": [
    "# View sp.track output\n",
    "sp.track(track_id)"
   ]
  },
  {
   "cell_type": "code",
   "execution_count": null,
   "metadata": {
    "ExecuteTime": {
     "end_time": "2021-05-22T13:57:18.800798Z",
     "start_time": "2021-05-22T13:57:18.685410Z"
    }
   },
   "outputs": [],
   "source": [
    "# View sp.audio_features output\n",
    "sp.audio_features(track_id)"
   ]
  },
  {
   "cell_type": "markdown",
   "metadata": {},
   "source": [
    "## Read consolidated spotify daily charts"
   ]
  },
  {
   "cell_type": "code",
   "execution_count": null,
   "metadata": {
    "ExecuteTime": {
     "end_time": "2021-05-22T09:50:17.570181Z",
     "start_time": "2021-05-22T09:50:17.170408Z"
    }
   },
   "outputs": [],
   "source": [
    "df = pd.read_csv('data/spotify_daily_charts.csv')\n",
    "df.head()"
   ]
  },
  {
   "cell_type": "code",
   "execution_count": null,
   "metadata": {
    "ExecuteTime": {
     "end_time": "2021-05-22T09:50:53.894274Z",
     "start_time": "2021-05-22T09:50:53.829660Z"
    }
   },
   "outputs": [],
   "source": [
    "df['date'].min(),df['date'].max()"
   ]
  },
  {
   "cell_type": "markdown",
   "metadata": {},
   "source": [
    "## Get data of unique tracks in charts "
   ]
  },
  {
   "cell_type": "code",
   "execution_count": null,
   "metadata": {
    "ExecuteTime": {
     "end_time": "2021-05-22T14:02:01.011590Z",
     "start_time": "2021-05-22T14:02:01.002084Z"
    }
   },
   "outputs": [],
   "source": [
    "def get_track_data(t_id):                    \n",
    "    track_data = sp.track(t_id)\n",
    "    track_features = sp.audio_features(t_id)\n",
    "    \n",
    "    #get only main(first) artist\n",
    "    td_list = [t_id,\\\n",
    "               track_data['name'],\\\n",
    "               track_data['artists'][0]['id'],\\\n",
    "               track_data['artists'][0]['name'],\\\n",
    "               track_data['album']['uri'].split(\":\")[2],\\\n",
    "               track_data['duration_ms'],\\\n",
    "               track_data['album']['release_date'],\\\n",
    "               track_data['popularity']]\n",
    "    data = pd.DataFrame([td_list], columns = ['track_id','track_name','artist_id','artist_name','album_id','duration','release_date','popularity'])\n",
    "\n",
    "    relevant_cols = ['danceability', 'energy', 'key', 'loudness', 'mode',\\\n",
    "                     'speechiness', 'acousticness', 'instrumentalness', 'liveness', 'valence', 'tempo']  \n",
    "    \n",
    "    #if audio features are not available\n",
    "    if track_features==[None]:\n",
    "        tf_data = pd.DataFrame([{x:None for x in relevant_cols}])\n",
    "    else:\n",
    "        tf_data = pd.DataFrame(track_features)\n",
    "        tf_data = tf_data[relevant_cols]\n",
    "    \n",
    "    data = pd.concat([data, tf_data], axis=1)\n",
    "    return data\n"
   ]
  },
  {
   "cell_type": "code",
   "execution_count": null,
   "metadata": {
    "ExecuteTime": {
     "end_time": "2021-05-22T14:02:01.772308Z",
     "start_time": "2021-05-22T14:02:01.308656Z"
    }
   },
   "outputs": [],
   "source": [
    "get_track_data(track_id)"
   ]
  },
  {
   "cell_type": "code",
   "execution_count": null,
   "metadata": {
    "ExecuteTime": {
     "end_time": "2021-05-22T09:51:01.934853Z",
     "start_time": "2021-05-22T09:51:01.832405Z"
    }
   },
   "outputs": [],
   "source": [
    "track_df = df[['track_id','track_name']].drop_duplicates()\n",
    "track_df"
   ]
  },
  {
   "cell_type": "code",
   "execution_count": null,
   "metadata": {
    "ExecuteTime": {
     "end_time": "2021-05-22T09:51:04.675485Z",
     "start_time": "2021-05-22T09:51:04.661914Z"
    }
   },
   "outputs": [],
   "source": [
    "len(pd.unique(track_df['track_id'].values)),len(pd.unique(track_df['track_name'].values))"
   ]
  },
  {
   "cell_type": "markdown",
   "metadata": {},
   "source": [
    "> Q: Why is it that we have fewer unique track names than unique track ids? Is this expected or does it indicate a data processing error?"
   ]
  },
  {
   "cell_type": "code",
   "execution_count": null,
   "metadata": {
    "ExecuteTime": {
     "end_time": "2021-05-22T09:51:15.870148Z",
     "start_time": "2021-05-22T09:51:15.864519Z"
    }
   },
   "outputs": [],
   "source": [
    "downloaded_track_ids=[]\n",
    "df_list=[]"
   ]
  },
  {
   "cell_type": "code",
   "execution_count": null,
   "metadata": {
    "ExecuteTime": {
     "end_time": "2021-05-22T14:06:28.274581Z",
     "start_time": "2021-05-22T14:06:27.047980Z"
    },
    "scrolled": true
   },
   "outputs": [],
   "source": [
    "track_list = track_df['track_id'].values\n",
    "for i,track_id in enumerate(track_list):    \n",
    "    if track_id in downloaded_track_ids:\n",
    "        continue\n",
    "    else:\n",
    "        print('[%d/%d] Fetching track data for %s... ' % \n",
    "              (i+1,len(track_list),track_df[track_df['track_id']==track_id]['track_name'].values[0]), end = \" \") \n",
    "        \n",
    "        try:\n",
    "            track_data = get_track_data(track_id) \n",
    "            downloaded_track_ids.append(track_id)\n",
    "            df_list.append(track_data)\n",
    "            print('done!')\n",
    "        except Exception as e:\n",
    "            print(e)\n",
    "\n",
    "        # sleep for 100 secs per 100 requests to avoid being blocked\n",
    "        if (i % 100 == 0)&(i > 0):\n",
    "            time.sleep(10)    "
   ]
  },
  {
   "cell_type": "code",
   "execution_count": null,
   "metadata": {
    "ExecuteTime": {
     "end_time": "2021-05-22T14:06:36.721109Z",
     "start_time": "2021-05-22T14:06:31.712781Z"
    }
   },
   "outputs": [],
   "source": [
    "tracks_data_df = pd.concat(df_list)\n",
    "tracks_data_df.head()"
   ]
  },
  {
   "cell_type": "code",
   "execution_count": null,
   "metadata": {
    "ExecuteTime": {
     "end_time": "2021-05-22T14:06:58.331457Z",
     "start_time": "2021-05-22T14:06:58.263875Z"
    }
   },
   "outputs": [],
   "source": [
    "tracks_data_df.to_csv('data/spotify_daily_charts_tracks.csv', index=False, encoding='utf-8')"
   ]
  },
  {
   "cell_type": "code",
   "execution_count": null,
   "metadata": {
    "ExecuteTime": {
     "end_time": "2021-05-22T14:06:58.832577Z",
     "start_time": "2021-05-22T14:06:58.798110Z"
    }
   },
   "outputs": [],
   "source": [
    "tracks_data_df.describe()"
   ]
  },
  {
   "cell_type": "markdown",
   "metadata": {},
   "source": [
    "## Get data of unique artists in charts "
   ]
  },
  {
   "cell_type": "code",
   "execution_count": null,
   "metadata": {
    "ExecuteTime": {
     "end_time": "2021-05-22T14:07:01.690225Z",
     "start_time": "2021-05-22T14:07:01.668324Z"
    }
   },
   "outputs": [],
   "source": [
    "#Get unique artists id\n",
    "artist_df = tracks_data_df[['artist_id','artist_name']].drop_duplicates()\n",
    "artist_df"
   ]
  },
  {
   "cell_type": "code",
   "execution_count": null,
   "metadata": {
    "ExecuteTime": {
     "end_time": "2021-05-22T14:07:02.866607Z",
     "start_time": "2021-05-22T14:07:02.860327Z"
    }
   },
   "outputs": [],
   "source": [
    "len(artist_df)"
   ]
  },
  {
   "cell_type": "markdown",
   "metadata": {},
   "source": [
    "> Q: What does the ratio of unique artists to unique tracks tell you about the nature of the Spotify top-streamed market?"
   ]
  },
  {
   "cell_type": "code",
   "execution_count": null,
   "metadata": {
    "ExecuteTime": {
     "end_time": "2021-05-22T14:07:14.469858Z",
     "start_time": "2021-05-22T14:07:14.464355Z"
    }
   },
   "outputs": [],
   "source": [
    "def get_artist_data(a_id):\n",
    "       \n",
    "    artist_data = sp.artist(a_id)\n",
    "\n",
    "    ad_list = [a_id,\\\n",
    "               artist_data['name'],\\\n",
    "               artist_data['followers']['total'],\\\n",
    "               artist_data['genres'],\\\n",
    "               artist_data['popularity']]\n",
    "    data = pd.DataFrame([ad_list], columns = ['artist_id','artist_name','total_followers','genres','popularity'])\n",
    "\n",
    "    return data\n"
   ]
  },
  {
   "cell_type": "code",
   "execution_count": null,
   "metadata": {
    "ExecuteTime": {
     "end_time": "2021-05-22T14:07:15.014955Z",
     "start_time": "2021-05-22T14:07:14.847862Z"
    }
   },
   "outputs": [],
   "source": [
    "get_artist_data(artist_id)"
   ]
  },
  {
   "cell_type": "code",
   "execution_count": null,
   "metadata": {
    "ExecuteTime": {
     "end_time": "2021-05-22T14:11:09.658700Z",
     "start_time": "2021-05-22T14:07:16.827243Z"
    }
   },
   "outputs": [],
   "source": [
    "artist_list = artist_df['artist_id'].values\n",
    "df_list=[]\n",
    "\n",
    "for i,artist_id in enumerate(artist_list):\n",
    "    print('[%d/%d] Fetching artist data for %s... ' % \n",
    "          (i+1,len(artist_list),artist_df[artist_df['artist_id']==artist_id]['artist_name'].values[0]), end = \" \") \n",
    "    artist_data = get_artist_data(artist_id) \n",
    "    df_list.append(artist_data)\n",
    "    print('done!')\n",
    "    \n",
    "    #sleep for 100 secs per 100 requests to avoid being blocked\n",
    "    if (i % 100 == 0)& (i > 0):\n",
    "        time.sleep(10)   "
   ]
  },
  {
   "cell_type": "code",
   "execution_count": null,
   "metadata": {
    "ExecuteTime": {
     "end_time": "2021-05-22T14:40:42.633647Z",
     "start_time": "2021-05-22T14:40:42.292351Z"
    },
    "scrolled": true
   },
   "outputs": [],
   "source": [
    "artist_data_df = pd.concat(df_list)\n",
    "artist_data_df "
   ]
  },
  {
   "cell_type": "code",
   "execution_count": null,
   "metadata": {
    "ExecuteTime": {
     "end_time": "2021-05-22T14:40:42.667096Z",
     "start_time": "2021-05-22T14:40:42.636688Z"
    }
   },
   "outputs": [],
   "source": [
    "artist_data_df.to_csv('data/spotify_daily_charts_artists.csv', index=False, encoding='utf-8')"
   ]
  },
  {
   "cell_type": "markdown",
   "metadata": {},
   "source": [
    "## Resources\n",
    "- Spotify API reference manual https://developer.spotify.com/documentation/web-api/reference/search/search/"
   ]
  }
 ],
 "metadata": {
  "kernelspec": {
   "display_name": "Python 3",
   "language": "python",
   "name": "python3"
  },
  "language_info": {
   "codemirror_mode": {
    "name": "ipython",
    "version": 3
   },
   "file_extension": ".py",
   "mimetype": "text/x-python",
   "name": "python",
   "nbconvert_exporter": "python",
   "pygments_lexer": "ipython3",
   "version": "3.8.8"
  }
 },
 "nbformat": 4,
 "nbformat_minor": 4
}
