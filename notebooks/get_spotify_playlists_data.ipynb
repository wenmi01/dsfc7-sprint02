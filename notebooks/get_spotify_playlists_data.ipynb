{
 "cells": [
  {
   "cell_type": "code",
   "execution_count": null,
   "metadata": {
    "ExecuteTime": {
     "end_time": "2020-09-21T16:36:25.897308Z",
     "start_time": "2020-09-21T16:35:56.320538Z"
    }
   },
   "outputs": [],
   "source": [
    "import numpy as np\n",
    "import pandas as pd\n",
    "\n",
    "import spotipy\n",
    "from spotipy.oauth2 import SpotifyClientCredentials\n",
    "\n",
    "import keyring\n",
    "import time"
   ]
  },
  {
   "cell_type": "markdown",
   "metadata": {},
   "source": [
    "## 0. Setup Spotipy credentials and query wrapper"
   ]
  },
  {
   "cell_type": "code",
   "execution_count": null,
   "metadata": {
    "ExecuteTime": {
     "end_time": "2020-09-21T16:19:30.553474Z",
     "start_time": "2020-09-21T16:19:29.063313Z"
    }
   },
   "outputs": [],
   "source": [
    "client_credentials_manager = SpotifyClientCredentials(client_id=keyring.get_password('spotify', 'cid'),\n",
    "                                                      client_secret=keyring.get_password('spotify', 'secret') )\n",
    "sp = spotipy.Spotify(client_credentials_manager = client_credentials_manager)\n"
   ]
  },
  {
   "cell_type": "markdown",
   "metadata": {},
   "source": [
    "Set keyword"
   ]
  },
  {
   "cell_type": "code",
   "execution_count": null,
   "metadata": {
    "ExecuteTime": {
     "end_time": "2020-09-21T17:36:31.296309Z",
     "start_time": "2020-09-21T17:36:31.279319Z"
    }
   },
   "outputs": [],
   "source": [
    "KEYWORD = 'R&B'"
   ]
  },
  {
   "cell_type": "markdown",
   "metadata": {},
   "source": [
    "## 1. Search for the top N playlists for keyword"
   ]
  },
  {
   "cell_type": "markdown",
   "metadata": {},
   "source": [
    "##### View the structure of a search query"
   ]
  },
  {
   "cell_type": "code",
   "execution_count": null,
   "metadata": {
    "ExecuteTime": {
     "end_time": "2020-09-21T17:36:38.732057Z",
     "start_time": "2020-09-21T17:36:38.354271Z"
    }
   },
   "outputs": [],
   "source": [
    "results = sp.search(q=KEYWORD, type='playlist', market='PH')"
   ]
  },
  {
   "cell_type": "code",
   "execution_count": null,
   "metadata": {},
   "outputs": [],
   "source": [
    "[r['name'] for r in results['playlists']['items']]"
   ]
  },
  {
   "cell_type": "code",
   "execution_count": null,
   "metadata": {
    "ExecuteTime": {
     "end_time": "2020-09-21T17:36:47.985764Z",
     "start_time": "2020-09-21T17:36:47.971771Z"
    }
   },
   "outputs": [],
   "source": [
    "results['playlists'].keys()"
   ]
  },
  {
   "cell_type": "code",
   "execution_count": null,
   "metadata": {
    "ExecuteTime": {
     "end_time": "2020-09-21T17:37:08.666931Z",
     "start_time": "2020-09-21T17:37:08.654940Z"
    },
    "scrolled": true
   },
   "outputs": [],
   "source": [
    "results['playlists']['items'][0].keys()"
   ]
  },
  {
   "cell_type": "markdown",
   "metadata": {},
   "source": [
    "***"
   ]
  },
  {
   "cell_type": "code",
   "execution_count": null,
   "metadata": {
    "ExecuteTime": {
     "end_time": "2020-09-21T16:19:37.327588Z",
     "start_time": "2020-09-21T16:19:30.587443Z"
    }
   },
   "outputs": [],
   "source": [
    "playlist_ids = []\n",
    "playlist_names = []\n",
    "playlist_numtracks = []\n",
    "\n",
    "N = 100\n",
    "#get playlist in batches of 50\n",
    "for n in np.arange(N//50):\n",
    "    offset= 50*n\n",
    "    print(\"Getting batch %d of search results for keyword: %s ...\" % (n,KEYWORD), end='' )\n",
    "    results = sp.search(q=KEYWORD, type='playlist' , market='PH', offset = offset, limit=50)\n",
    "    playlist_ids.extend([p['href'].split('/')[5] for p in results['playlists']['items']])\n",
    "    playlist_names.extend([p['name'] for p in results['playlists']['items']])\n",
    "    playlist_numtracks.extend([p['tracks']['total'] for p in results['playlists']['items']])\n",
    "    print(\"  DONE!\")"
   ]
  },
  {
   "cell_type": "code",
   "execution_count": null,
   "metadata": {
    "ExecuteTime": {
     "end_time": "2020-09-21T17:19:32.455156Z",
     "start_time": "2020-09-21T17:19:32.436166Z"
    }
   },
   "outputs": [],
   "source": [
    "playlist_names"
   ]
  },
  {
   "cell_type": "markdown",
   "metadata": {
    "ExecuteTime": {
     "end_time": "2020-09-21T17:12:20.108519Z",
     "start_time": "2020-09-21T17:12:20.096521Z"
    }
   },
   "source": [
    "## 2. Get Playlist Data"
   ]
  },
  {
   "cell_type": "markdown",
   "metadata": {},
   "source": [
    "##### View the structure of a playlist query"
   ]
  },
  {
   "cell_type": "code",
   "execution_count": null,
   "metadata": {
    "ExecuteTime": {
     "end_time": "2020-09-21T17:34:44.287527Z",
     "start_time": "2020-09-21T17:34:42.265683Z"
    }
   },
   "outputs": [],
   "source": [
    "playlist = sp.playlist('37i9dQZF1DX4olOMiqFeqU')"
   ]
  },
  {
   "cell_type": "code",
   "execution_count": null,
   "metadata": {},
   "outputs": [],
   "source": [
    "playlist"
   ]
  },
  {
   "cell_type": "code",
   "execution_count": null,
   "metadata": {
    "ExecuteTime": {
     "end_time": "2020-09-21T17:34:44.303518Z",
     "start_time": "2020-09-21T17:34:44.291525Z"
    },
    "scrolled": true
   },
   "outputs": [],
   "source": [
    "playlist.keys()"
   ]
  },
  {
   "cell_type": "markdown",
   "metadata": {},
   "source": [
    "***"
   ]
  },
  {
   "cell_type": "code",
   "execution_count": null,
   "metadata": {
    "ExecuteTime": {
     "end_time": "2020-09-21T17:20:54.548193Z",
     "start_time": "2020-09-21T17:19:39.470143Z"
    }
   },
   "outputs": [],
   "source": [
    "playlist_lookup = []\n",
    "for n,p_id in enumerate(playlist_ids):\n",
    "    print(\"Getting playlist data for playlist %s :...\" % (playlist_names[n]), end='' )\n",
    "    playlist = sp.playlist(p_id)\n",
    "    try:\n",
    "        relevant_playlist_data = { key: playlist[key] for key in ['followers','owner']}\n",
    "        relevant_playlist_data['playlist_id'] = p_id\n",
    "        relevant_playlist_data['playlist_name'] = playlist_names[n]\n",
    "        relevant_playlist_data['playlist_total_tracks'] = playlist_numtracks[n]\n",
    "        relevant_playlist_data['owner_id'] = playlist['owner']['id']\n",
    "        relevant_playlist_data['owner_name'] = playlist['owner']['display_name']\n",
    "        relevant_playlist_data['total_followers'] = playlist['followers']['total']\n",
    "        relevant_playlist_data.pop('owner', None)\n",
    "        relevant_playlist_data.pop('followers', None)\n",
    "        playlist_lookup.append(relevant_playlist_data)\n",
    "        print(\"   DONE\")\n",
    "    except:\n",
    "        print(\"   Aborted\")\n",
    "        continue\n",
    "    "
   ]
  },
  {
   "cell_type": "code",
   "execution_count": null,
   "metadata": {
    "ExecuteTime": {
     "end_time": "2020-09-21T17:20:54.658130Z",
     "start_time": "2020-09-21T17:20:54.552191Z"
    }
   },
   "outputs": [],
   "source": [
    "playlist_df = pd.DataFrame(playlist_lookup)\n",
    "playlist_df =playlist_df.sort_values('total_followers',ascending=False)\n",
    "playlist_df "
   ]
  },
  {
   "cell_type": "code",
   "execution_count": null,
   "metadata": {},
   "outputs": [],
   "source": [
    "#playlist name must contain the keyword\n",
    "playlist_df = playlist_df[playlist_df['playlist_name'].str.lower().str.contains(KEYWORD.lower())]"
   ]
  },
  {
   "cell_type": "code",
   "execution_count": null,
   "metadata": {
    "ExecuteTime": {
     "end_time": "2020-09-21T17:30:54.634903Z",
     "start_time": "2020-09-21T17:30:54.450011Z"
    }
   },
   "outputs": [],
   "source": [
    "playlist_df.to_csv(\"data/\"+KEYWORD+\"_playlist_data.csv\",encoding='utf=8',index=False)"
   ]
  },
  {
   "cell_type": "markdown",
   "metadata": {},
   "source": [
    "## 3. Get Tracks from a Playlist"
   ]
  },
  {
   "cell_type": "markdown",
   "metadata": {},
   "source": [
    "##### View the structure of a playlist_tracks query"
   ]
  },
  {
   "cell_type": "code",
   "execution_count": null,
   "metadata": {
    "ExecuteTime": {
     "end_time": "2020-09-21T17:38:11.413036Z",
     "start_time": "2020-09-21T17:38:11.058241Z"
    }
   },
   "outputs": [],
   "source": [
    "track = sp.playlist_tracks('37i9dQZF1DX4olOMiqFeqU')"
   ]
  },
  {
   "cell_type": "code",
   "execution_count": null,
   "metadata": {
    "ExecuteTime": {
     "end_time": "2020-09-21T17:39:09.696693Z",
     "start_time": "2020-09-21T17:39:09.309916Z"
    }
   },
   "outputs": [],
   "source": [
    "track"
   ]
  },
  {
   "cell_type": "code",
   "execution_count": null,
   "metadata": {
    "ExecuteTime": {
     "end_time": "2020-09-21T17:38:20.274969Z",
     "start_time": "2020-09-21T17:38:20.254978Z"
    }
   },
   "outputs": [],
   "source": [
    "track.keys()"
   ]
  },
  {
   "cell_type": "code",
   "execution_count": null,
   "metadata": {
    "ExecuteTime": {
     "end_time": "2020-09-21T17:38:48.478833Z",
     "start_time": "2020-09-21T17:38:48.470838Z"
    },
    "scrolled": true
   },
   "outputs": [],
   "source": [
    "track['items'][0].keys()"
   ]
  },
  {
   "cell_type": "markdown",
   "metadata": {},
   "source": [
    "***"
   ]
  },
  {
   "cell_type": "code",
   "execution_count": null,
   "metadata": {},
   "outputs": [],
   "source": [
    "#get only top 20 followed playlists\n",
    "playlist_df = playlist_df.head(20)"
   ]
  },
  {
   "cell_type": "code",
   "execution_count": null,
   "metadata": {
    "ExecuteTime": {
     "end_time": "2020-09-21T17:21:37.124836Z",
     "start_time": "2020-09-21T17:21:37.110846Z"
    }
   },
   "outputs": [],
   "source": [
    "def get_relevant_track_data(tracks_data, playlist_id, playlist_name):\n",
    "    try:\n",
    "        relevant_track_data = { key: tracks_data['track'][key] for key in ['id','artists','name','popularity','duration_ms'] }\n",
    "        relevant_track_data['artist_id']=[artist['id'] for artist in relevant_track_data['artists'] ]\n",
    "        relevant_track_data['artist_name']=[artist['name']for artist in relevant_track_data['artists'] ]\n",
    "        relevant_track_data['num_artists']=len([artist['id'] for artist in relevant_track_data['artists']]) \n",
    "        relevant_track_data['playlist_id']=playlist_id\n",
    "        relevant_track_data['playlist_name']=playlist_name\n",
    "        \n",
    "        relevant_track_data.pop('artists', None)\n",
    "        return relevant_track_data\n",
    "    except:\n",
    "        return "
   ]
  },
  {
   "cell_type": "code",
   "execution_count": null,
   "metadata": {
    "ExecuteTime": {
     "end_time": "2020-09-21T17:24:42.940541Z",
     "start_time": "2020-09-21T17:22:54.819391Z"
    }
   },
   "outputs": [],
   "source": [
    "#playlist_tracks\n",
    "all_track_data = []\n",
    "\n",
    "for _,p_id,p_name, p_numtracks in playlist_df[['playlist_id','playlist_name','playlist_total_tracks']].to_records():\n",
    "    print(\"Fetching data for playlist = %s, with total tracks: %d\" % (p_name,p_numtracks))\n",
    "    n_fetches = p_numtracks // 100\n",
    "    \n",
    "    playlist_track_data = []\n",
    "    #get tracks in batches of 100\n",
    "    for n in np.arange(n_fetches+1):\n",
    "        track_data = sp.playlist_tracks(p_id, offset=n*100)\n",
    "        playlist_track_data.extend([get_relevant_track_data(item, p_id,p_name) for item in track_data['items']])\n",
    "        \n",
    "    all_track_data.extend(playlist_track_data)"
   ]
  },
  {
   "cell_type": "code",
   "execution_count": null,
   "metadata": {
    "ExecuteTime": {
     "end_time": "2020-09-21T17:27:29.503254Z",
     "start_time": "2020-09-21T17:27:29.479268Z"
    }
   },
   "outputs": [],
   "source": [
    "for n,a in enumerate(all_track_data):\n",
    "    try:\n",
    "        len(a)\n",
    "    except:\n",
    "        print(n)"
   ]
  },
  {
   "cell_type": "code",
   "execution_count": null,
   "metadata": {
    "ExecuteTime": {
     "end_time": "2020-09-21T17:28:34.438107Z",
     "start_time": "2020-09-21T17:28:31.573745Z"
    }
   },
   "outputs": [],
   "source": [
    "tracks_df = pd.DataFrame([data for data in all_track_data if data is not None])\n",
    "tracks_df = tracks_df.rename(columns={'id':'track_id'})\n",
    "tracks_df['artist_id'] = tracks_df.apply(lambda x: x['artist_id'][0] if x['num_artists']==1 else x['artist_id'], axis=1)\n",
    "tracks_df['artist_name'] = tracks_df.apply(lambda x: x['artist_name'][0] if x['num_artists']==1 else x['artist_name'], axis=1)\n",
    "tracks_df.head()"
   ]
  },
  {
   "cell_type": "code",
   "execution_count": null,
   "metadata": {},
   "outputs": [],
   "source": [
    "len(tracks_df)"
   ]
  },
  {
   "cell_type": "code",
   "execution_count": null,
   "metadata": {},
   "outputs": [],
   "source": [
    "len(tracks_df['track_id'].unique())"
   ]
  },
  {
   "cell_type": "code",
   "execution_count": null,
   "metadata": {
    "ExecuteTime": {
     "end_time": "2020-09-21T17:33:38.722034Z",
     "start_time": "2020-09-21T17:33:38.382231Z"
    }
   },
   "outputs": [],
   "source": [
    "tracks_df.to_csv(\"data/\"+KEYWORD+\"_playlist_tracks.csv\",encoding='utf=8',index=False)"
   ]
  },
  {
   "cell_type": "markdown",
   "metadata": {},
   "source": [
    "## 4. Get Tracks from a Playlist"
   ]
  },
  {
   "cell_type": "code",
   "execution_count": null,
   "metadata": {},
   "outputs": [],
   "source": [
    "tracks_df = pd.read_csv(\"data/\"+KEYWORD+\"_playlist_tracks.csv\")\n",
    "tracks_df.head()"
   ]
  },
  {
   "cell_type": "code",
   "execution_count": null,
   "metadata": {},
   "outputs": [],
   "source": [
    "tracks_df.shape"
   ]
  },
  {
   "cell_type": "code",
   "execution_count": null,
   "metadata": {},
   "outputs": [],
   "source": [
    "#remove track duplicates\n",
    "tracks_df = tracks_df.drop_duplicates(subset='track_id')\n",
    "tracks_df.shape"
   ]
  },
  {
   "cell_type": "code",
   "execution_count": null,
   "metadata": {},
   "outputs": [],
   "source": [
    "def get_track_data(t_id, playlist_id,playlist_name):                    \n",
    "    track_data = sp.track(t_id)\n",
    "    track_features = sp.audio_features(t_id)\n",
    "    \n",
    "    #get only main(first) artist\n",
    "    td_list = [t_id,\\\n",
    "               track_data['name'],\\\n",
    "               track_data['artists'][0]['id'],\\\n",
    "               track_data['artists'][0]['name'],\\\n",
    "               track_data['album']['uri'].split(\":\")[2],\\\n",
    "               track_data['duration_ms'],\\\n",
    "               track_data['album']['release_date'],\\\n",
    "               track_data['popularity']]\n",
    "    data = pd.DataFrame([td_list], columns = ['track_id','track_name','artist_id','artist_name','album_id','duration','release_date','popularity'])\n",
    "\n",
    "    relevant_cols = ['danceability', 'energy', 'key', 'loudness', 'mode',\\\n",
    "                     'speechiness', 'acousticness', 'instrumentalness', 'liveness', 'valence', 'tempo']  \n",
    "    \n",
    "    tf_data = pd.DataFrame(track_features)\n",
    "    tf_data = tf_data[relevant_cols]\n",
    "    #tag with source playlist\n",
    "    tf_data['playlist_id'] = playlist_id\n",
    "    tf_data['playlist_name'] = playlist_name\n",
    "    \n",
    "    data = pd.concat([data, tf_data], axis=1)\n",
    "    return data\n"
   ]
  },
  {
   "cell_type": "code",
   "execution_count": null,
   "metadata": {},
   "outputs": [],
   "source": [
    "downloaded_track_data = []"
   ]
  },
  {
   "cell_type": "code",
   "execution_count": null,
   "metadata": {},
   "outputs": [],
   "source": [
    "track_list = tracks_df['track_id'].values\n",
    "playlist_name_list = tracks_df['track_id'].values\n",
    "playlist_id_list = tracks_df['track_id'].values\n",
    "df_list=[]\n",
    "\n",
    "for i,track_id in enumerate(track_list):\n",
    "    try:\n",
    "        if track_id not in downloaded_track_data:\n",
    "            print('[%d/%d] Fetching track data for %s... ' % \n",
    "                  (i+1,len(track_list),tracks_df[tracks_df['track_id']==track_id]['name'].values[0]), end = \" \") \n",
    "            track_data = get_track_data(track_id, playlist_id_list[i],playlist_name_list[i]) \n",
    "            df_list.append(track_data)\n",
    "            downloaded_track_data.append(track_id)\n",
    "            print('done!')\n",
    "    except:\n",
    "        continue\n",
    "    else:\n",
    "        continue\n",
    "    \n",
    "    #sleep for 60 secs per 100 requests to avoid being blocked\n",
    "    if (i % 100 == 0)&(i > 0):\n",
    "        time.sleep(20)    "
   ]
  },
  {
   "cell_type": "code",
   "execution_count": null,
   "metadata": {},
   "outputs": [],
   "source": [
    "tracks_data_df = pd.concat(df_list)\n",
    "tracks_data_df.head()"
   ]
  },
  {
   "cell_type": "code",
   "execution_count": null,
   "metadata": {},
   "outputs": [],
   "source": [
    "tracks_data_df.to_csv(\"data/\"+KEYWORD+\"_playlist_tracks_data.csv\", index=False, encoding='utf-8')"
   ]
  },
  {
   "cell_type": "code",
   "execution_count": null,
   "metadata": {},
   "outputs": [],
   "source": []
  }
 ],
 "metadata": {
  "kernelspec": {
   "display_name": "Python 3",
   "language": "python",
   "name": "python3"
  },
  "language_info": {
   "codemirror_mode": {
    "name": "ipython",
    "version": 3
   },
   "file_extension": ".py",
   "mimetype": "text/x-python",
   "name": "python",
   "nbconvert_exporter": "python",
   "pygments_lexer": "ipython3",
   "version": "3.8.2"
  }
 },
 "nbformat": 4,
 "nbformat_minor": 4
}
