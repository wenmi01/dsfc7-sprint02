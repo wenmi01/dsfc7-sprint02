{
 "cells": [
  {
   "cell_type": "markdown",
   "metadata": {},
   "source": [
    "# Tracks Genre Classification\n",
    "\n",
    "- What does each playlist set sound like? What are their defining characteristics?\n",
    "\n",
    "- Using user-marked playlist genres as training data, can we build a model to correctly classify songs from a separate track dataset?"
   ]
  },
  {
   "cell_type": "code",
   "execution_count": 1,
   "metadata": {
    "ExecuteTime": {
     "end_time": "2021-02-02T11:16:20.923759Z",
     "start_time": "2021-02-02T11:16:19.312760Z"
    }
   },
   "outputs": [
    {
     "name": "stderr",
     "output_type": "stream",
     "text": [
      "In C:\\Users\\rowen\\.conda\\envs\\dsfc7\\lib\\site-packages\\matplotlib\\mpl-data\\stylelib\\_classic_test.mplstyle: \n",
      "The text.latex.preview rcparam was deprecated in Matplotlib 3.3 and will be removed two minor releases later.\n",
      "In C:\\Users\\rowen\\.conda\\envs\\dsfc7\\lib\\site-packages\\matplotlib\\mpl-data\\stylelib\\_classic_test.mplstyle: \n",
      "The mathtext.fallback_to_cm rcparam was deprecated in Matplotlib 3.3 and will be removed two minor releases later.\n",
      "In C:\\Users\\rowen\\.conda\\envs\\dsfc7\\lib\\site-packages\\matplotlib\\mpl-data\\stylelib\\_classic_test.mplstyle: Support for setting the 'mathtext.fallback_to_cm' rcParam is deprecated since 3.3 and will be removed two minor releases later; use 'mathtext.fallback : 'cm' instead.\n",
      "In C:\\Users\\rowen\\.conda\\envs\\dsfc7\\lib\\site-packages\\matplotlib\\mpl-data\\stylelib\\_classic_test.mplstyle: \n",
      "The validate_bool_maybe_none function was deprecated in Matplotlib 3.3 and will be removed two minor releases later.\n",
      "In C:\\Users\\rowen\\.conda\\envs\\dsfc7\\lib\\site-packages\\matplotlib\\mpl-data\\stylelib\\_classic_test.mplstyle: \n",
      "The savefig.jpeg_quality rcparam was deprecated in Matplotlib 3.3 and will be removed two minor releases later.\n",
      "In C:\\Users\\rowen\\.conda\\envs\\dsfc7\\lib\\site-packages\\matplotlib\\mpl-data\\stylelib\\_classic_test.mplstyle: \n",
      "The keymap.all_axes rcparam was deprecated in Matplotlib 3.3 and will be removed two minor releases later.\n",
      "In C:\\Users\\rowen\\.conda\\envs\\dsfc7\\lib\\site-packages\\matplotlib\\mpl-data\\stylelib\\_classic_test.mplstyle: \n",
      "The animation.avconv_path rcparam was deprecated in Matplotlib 3.3 and will be removed two minor releases later.\n",
      "In C:\\Users\\rowen\\.conda\\envs\\dsfc7\\lib\\site-packages\\matplotlib\\mpl-data\\stylelib\\_classic_test.mplstyle: \n",
      "The animation.avconv_args rcparam was deprecated in Matplotlib 3.3 and will be removed two minor releases later.\n"
     ]
    }
   ],
   "source": [
    "import pandas as pd\n",
    "import numpy as np\n",
    "\n",
    "import seaborn as sns\n",
    "import matplotlib.pyplot as plt\n",
    "%matplotlib inline"
   ]
  },
  {
   "cell_type": "markdown",
   "metadata": {},
   "source": [
    "### 1. Read and check values of 2 playlist sets"
   ]
  },
  {
   "cell_type": "markdown",
   "metadata": {},
   "source": [
    "### Keyword 1"
   ]
  },
  {
   "cell_type": "code",
   "execution_count": 2,
   "metadata": {
    "ExecuteTime": {
     "end_time": "2021-02-02T11:17:56.205231Z",
     "start_time": "2021-02-02T11:17:56.200973Z"
    }
   },
   "outputs": [],
   "source": [
    "#set keyword\n",
    "KEYWORD1='wedding'"
   ]
  },
  {
   "cell_type": "code",
   "execution_count": 5,
   "metadata": {
    "ExecuteTime": {
     "end_time": "2021-02-02T11:18:28.339015Z",
     "start_time": "2021-02-02T11:18:28.314292Z"
    }
   },
   "outputs": [
    {
     "data": {
      "text/html": [
       "<div>\n",
       "<style scoped>\n",
       "    .dataframe tbody tr th:only-of-type {\n",
       "        vertical-align: middle;\n",
       "    }\n",
       "\n",
       "    .dataframe tbody tr th {\n",
       "        vertical-align: top;\n",
       "    }\n",
       "\n",
       "    .dataframe thead th {\n",
       "        text-align: right;\n",
       "    }\n",
       "</style>\n",
       "<table border=\"1\" class=\"dataframe\">\n",
       "  <thead>\n",
       "    <tr style=\"text-align: right;\">\n",
       "      <th></th>\n",
       "      <th>playlist_id</th>\n",
       "      <th>playlist_name</th>\n",
       "      <th>playlist_total_tracks</th>\n",
       "      <th>owner_id</th>\n",
       "      <th>owner_name</th>\n",
       "      <th>total_followers</th>\n",
       "    </tr>\n",
       "  </thead>\n",
       "  <tbody>\n",
       "    <tr>\n",
       "      <th>0</th>\n",
       "      <td>37i9dQZF1DX1tLHZHOkEVR</td>\n",
       "      <td>Wedding Party</td>\n",
       "      <td>148</td>\n",
       "      <td>spotify</td>\n",
       "      <td>Spotify</td>\n",
       "      <td>248793</td>\n",
       "    </tr>\n",
       "    <tr>\n",
       "      <th>1</th>\n",
       "      <td>37i9dQZF1DX4adj7PFEBwf</td>\n",
       "      <td>Wedding Bells</td>\n",
       "      <td>60</td>\n",
       "      <td>spotify</td>\n",
       "      <td>Spotify</td>\n",
       "      <td>240532</td>\n",
       "    </tr>\n",
       "    <tr>\n",
       "      <th>2</th>\n",
       "      <td>37i9dQZF1DX3Z99viCDp7Q</td>\n",
       "      <td>Wedding Songs</td>\n",
       "      <td>42</td>\n",
       "      <td>spotify</td>\n",
       "      <td>Spotify</td>\n",
       "      <td>146263</td>\n",
       "    </tr>\n",
       "    <tr>\n",
       "      <th>3</th>\n",
       "      <td>7qKonwKBVT9xMoX6ePhlG9</td>\n",
       "      <td>Wedding Songs</td>\n",
       "      <td>81</td>\n",
       "      <td>laurennstanley</td>\n",
       "      <td>laurennstanley</td>\n",
       "      <td>65879</td>\n",
       "    </tr>\n",
       "    <tr>\n",
       "      <th>4</th>\n",
       "      <td>37i9dQZF1DXbTR7abB7Ji7</td>\n",
       "      <td>Classical Wedding</td>\n",
       "      <td>42</td>\n",
       "      <td>spotify</td>\n",
       "      <td>Spotify</td>\n",
       "      <td>42481</td>\n",
       "    </tr>\n",
       "  </tbody>\n",
       "</table>\n",
       "</div>"
      ],
      "text/plain": [
       "              playlist_id      playlist_name  playlist_total_tracks  \\\n",
       "0  37i9dQZF1DX1tLHZHOkEVR      Wedding Party                    148   \n",
       "1  37i9dQZF1DX4adj7PFEBwf      Wedding Bells                     60   \n",
       "2  37i9dQZF1DX3Z99viCDp7Q      Wedding Songs                     42   \n",
       "3  7qKonwKBVT9xMoX6ePhlG9     Wedding Songs                      81   \n",
       "4  37i9dQZF1DXbTR7abB7Ji7  Classical Wedding                     42   \n",
       "\n",
       "         owner_id      owner_name  total_followers  \n",
       "0         spotify         Spotify           248793  \n",
       "1         spotify         Spotify           240532  \n",
       "2         spotify         Spotify           146263  \n",
       "3  laurennstanley  laurennstanley            65879  \n",
       "4         spotify         Spotify            42481  "
      ]
     },
     "execution_count": 5,
     "metadata": {},
     "output_type": "execute_result"
    }
   ],
   "source": [
    "# read and process the playlist data for keyword\n",
    "playlist1_df = pd.read_csv('data/'+KEYWORD1+'_playlist_data.csv')\n",
    "playlist1_df.head()"
   ]
  },
  {
   "cell_type": "code",
   "execution_count": 6,
   "metadata": {
    "ExecuteTime": {
     "end_time": "2021-02-02T11:18:32.363088Z",
     "start_time": "2021-02-02T11:18:32.354296Z"
    }
   },
   "outputs": [
    {
     "data": {
      "text/plain": [
       "(93, 6)"
      ]
     },
     "execution_count": 6,
     "metadata": {},
     "output_type": "execute_result"
    }
   ],
   "source": [
    "playlist1_df.shape"
   ]
  },
  {
   "cell_type": "code",
   "execution_count": 7,
   "metadata": {
    "ExecuteTime": {
     "end_time": "2021-02-02T11:19:14.251605Z",
     "start_time": "2021-02-02T11:19:14.109203Z"
    },
    "scrolled": true
   },
   "outputs": [
    {
     "data": {
      "text/html": [
       "<div>\n",
       "<style scoped>\n",
       "    .dataframe tbody tr th:only-of-type {\n",
       "        vertical-align: middle;\n",
       "    }\n",
       "\n",
       "    .dataframe tbody tr th {\n",
       "        vertical-align: top;\n",
       "    }\n",
       "\n",
       "    .dataframe thead th {\n",
       "        text-align: right;\n",
       "    }\n",
       "</style>\n",
       "<table border=\"1\" class=\"dataframe\">\n",
       "  <thead>\n",
       "    <tr style=\"text-align: right;\">\n",
       "      <th></th>\n",
       "      <th>track_id</th>\n",
       "      <th>track_name</th>\n",
       "      <th>artist_id</th>\n",
       "      <th>artist_name</th>\n",
       "      <th>album_id</th>\n",
       "      <th>duration</th>\n",
       "      <th>release_date</th>\n",
       "      <th>popularity</th>\n",
       "      <th>danceability</th>\n",
       "      <th>energy</th>\n",
       "      <th>...</th>\n",
       "      <th>instrumentalness</th>\n",
       "      <th>liveness</th>\n",
       "      <th>valence</th>\n",
       "      <th>tempo</th>\n",
       "      <th>playlist_id_x</th>\n",
       "      <th>playlist_name_x</th>\n",
       "      <th>playlist_id_y</th>\n",
       "      <th>playlist_name_y</th>\n",
       "      <th>duration_mins</th>\n",
       "      <th>genre</th>\n",
       "    </tr>\n",
       "  </thead>\n",
       "  <tbody>\n",
       "    <tr>\n",
       "      <th>0</th>\n",
       "      <td>4rmPQGwcLQjCoFq5NrTA0D</td>\n",
       "      <td>Uptown Funk (feat. Bruno Mars)</td>\n",
       "      <td>3hv9jJF3adDNsBSIQDqcjp</td>\n",
       "      <td>Mark Ronson</td>\n",
       "      <td>0tWBtc7le3TMo1gDdGyJVI</td>\n",
       "      <td>270626</td>\n",
       "      <td>2014-11-24</td>\n",
       "      <td>25</td>\n",
       "      <td>0.853</td>\n",
       "      <td>0.681</td>\n",
       "      <td>...</td>\n",
       "      <td>0.000057</td>\n",
       "      <td>0.0233</td>\n",
       "      <td>0.930</td>\n",
       "      <td>115.004</td>\n",
       "      <td>37i9dQZF1DX1tLHZHOkEVR</td>\n",
       "      <td>Wedding Party</td>\n",
       "      <td>37i9dQZF1DX1tLHZHOkEVR</td>\n",
       "      <td>Wedding Party</td>\n",
       "      <td>4.510433</td>\n",
       "      <td>wedding</td>\n",
       "    </tr>\n",
       "    <tr>\n",
       "      <th>1</th>\n",
       "      <td>0J0BaGhxYzxdjhsOsyNwWO</td>\n",
       "      <td>Superstition</td>\n",
       "      <td>7guDJrEfX3qb6FEbdPA5qi</td>\n",
       "      <td>Stevie Wonder</td>\n",
       "      <td>1RspINIRNK1WiHUHoYqdXx</td>\n",
       "      <td>266133</td>\n",
       "      <td>1999-11-23</td>\n",
       "      <td>0</td>\n",
       "      <td>0.620</td>\n",
       "      <td>0.615</td>\n",
       "      <td>...</td>\n",
       "      <td>0.006070</td>\n",
       "      <td>0.0454</td>\n",
       "      <td>0.883</td>\n",
       "      <td>101.821</td>\n",
       "      <td>37i9dQZF1DX1tLHZHOkEVR</td>\n",
       "      <td>Wedding Party</td>\n",
       "      <td>37i9dQZF1DX1tLHZHOkEVR</td>\n",
       "      <td>Wedding Party</td>\n",
       "      <td>4.435550</td>\n",
       "      <td>wedding</td>\n",
       "    </tr>\n",
       "    <tr>\n",
       "      <th>2</th>\n",
       "      <td>7IFrc7EJpIAYRCqWEQWYHc</td>\n",
       "      <td>December, 1963 (Oh, What a Night)</td>\n",
       "      <td>6mcrZQmgzFGRWf7C0SObou</td>\n",
       "      <td>Frankie Valli &amp; The Four Seasons</td>\n",
       "      <td>7oWx4auBp2kCb54VkRCCUq</td>\n",
       "      <td>193893</td>\n",
       "      <td>2014-06-20</td>\n",
       "      <td>45</td>\n",
       "      <td>0.724</td>\n",
       "      <td>0.663</td>\n",
       "      <td>...</td>\n",
       "      <td>0.000004</td>\n",
       "      <td>0.1240</td>\n",
       "      <td>0.964</td>\n",
       "      <td>104.410</td>\n",
       "      <td>37i9dQZF1DX1tLHZHOkEVR</td>\n",
       "      <td>Wedding Party</td>\n",
       "      <td>37i9dQZF1DX1tLHZHOkEVR</td>\n",
       "      <td>Wedding Party</td>\n",
       "      <td>3.231550</td>\n",
       "      <td>wedding</td>\n",
       "    </tr>\n",
       "    <tr>\n",
       "      <th>3</th>\n",
       "      <td>61ukXvkg6KwCZDiyexVDsD</td>\n",
       "      <td>Build Me up Buttercup</td>\n",
       "      <td>4GITZM5LCR2KcdlgEOrNLD</td>\n",
       "      <td>The Foundations</td>\n",
       "      <td>2GRx6M5iaEWssVFYfzjEuL</td>\n",
       "      <td>179506</td>\n",
       "      <td>2013-01-10</td>\n",
       "      <td>1</td>\n",
       "      <td>0.623</td>\n",
       "      <td>0.644</td>\n",
       "      <td>...</td>\n",
       "      <td>0.000000</td>\n",
       "      <td>0.3540</td>\n",
       "      <td>0.899</td>\n",
       "      <td>67.010</td>\n",
       "      <td>37i9dQZF1DX1tLHZHOkEVR</td>\n",
       "      <td>Wedding Party</td>\n",
       "      <td>37i9dQZF1DX1tLHZHOkEVR</td>\n",
       "      <td>Wedding Party</td>\n",
       "      <td>2.991767</td>\n",
       "      <td>wedding</td>\n",
       "    </tr>\n",
       "    <tr>\n",
       "      <th>4</th>\n",
       "      <td>2goLsvvODILDzeeiT4dAoR</td>\n",
       "      <td>Believe</td>\n",
       "      <td>72OaDtakiy6yFqkt4TsiFt</td>\n",
       "      <td>Cher</td>\n",
       "      <td>0jZfbz0dNfDjPSg0hYJNth</td>\n",
       "      <td>239026</td>\n",
       "      <td>1998</td>\n",
       "      <td>77</td>\n",
       "      <td>0.652</td>\n",
       "      <td>0.917</td>\n",
       "      <td>...</td>\n",
       "      <td>0.000000</td>\n",
       "      <td>0.0509</td>\n",
       "      <td>0.459</td>\n",
       "      <td>132.975</td>\n",
       "      <td>37i9dQZF1DX1tLHZHOkEVR</td>\n",
       "      <td>Wedding Party</td>\n",
       "      <td>37i9dQZF1DX1tLHZHOkEVR</td>\n",
       "      <td>Wedding Party</td>\n",
       "      <td>3.983767</td>\n",
       "      <td>wedding</td>\n",
       "    </tr>\n",
       "  </tbody>\n",
       "</table>\n",
       "<p>5 rows × 25 columns</p>\n",
       "</div>"
      ],
      "text/plain": [
       "                 track_id                         track_name  \\\n",
       "0  4rmPQGwcLQjCoFq5NrTA0D     Uptown Funk (feat. Bruno Mars)   \n",
       "1  0J0BaGhxYzxdjhsOsyNwWO                       Superstition   \n",
       "2  7IFrc7EJpIAYRCqWEQWYHc  December, 1963 (Oh, What a Night)   \n",
       "3  61ukXvkg6KwCZDiyexVDsD              Build Me up Buttercup   \n",
       "4  2goLsvvODILDzeeiT4dAoR                            Believe   \n",
       "\n",
       "                artist_id                       artist_name  \\\n",
       "0  3hv9jJF3adDNsBSIQDqcjp                       Mark Ronson   \n",
       "1  7guDJrEfX3qb6FEbdPA5qi                     Stevie Wonder   \n",
       "2  6mcrZQmgzFGRWf7C0SObou  Frankie Valli & The Four Seasons   \n",
       "3  4GITZM5LCR2KcdlgEOrNLD                   The Foundations   \n",
       "4  72OaDtakiy6yFqkt4TsiFt                              Cher   \n",
       "\n",
       "                 album_id  duration release_date  popularity  danceability  \\\n",
       "0  0tWBtc7le3TMo1gDdGyJVI    270626   2014-11-24          25         0.853   \n",
       "1  1RspINIRNK1WiHUHoYqdXx    266133   1999-11-23           0         0.620   \n",
       "2  7oWx4auBp2kCb54VkRCCUq    193893   2014-06-20          45         0.724   \n",
       "3  2GRx6M5iaEWssVFYfzjEuL    179506   2013-01-10           1         0.623   \n",
       "4  0jZfbz0dNfDjPSg0hYJNth    239026         1998          77         0.652   \n",
       "\n",
       "   energy  ...  instrumentalness  liveness  valence    tempo  \\\n",
       "0   0.681  ...          0.000057    0.0233    0.930  115.004   \n",
       "1   0.615  ...          0.006070    0.0454    0.883  101.821   \n",
       "2   0.663  ...          0.000004    0.1240    0.964  104.410   \n",
       "3   0.644  ...          0.000000    0.3540    0.899   67.010   \n",
       "4   0.917  ...          0.000000    0.0509    0.459  132.975   \n",
       "\n",
       "            playlist_id_x  playlist_name_x           playlist_id_y  \\\n",
       "0  37i9dQZF1DX1tLHZHOkEVR    Wedding Party  37i9dQZF1DX1tLHZHOkEVR   \n",
       "1  37i9dQZF1DX1tLHZHOkEVR    Wedding Party  37i9dQZF1DX1tLHZHOkEVR   \n",
       "2  37i9dQZF1DX1tLHZHOkEVR    Wedding Party  37i9dQZF1DX1tLHZHOkEVR   \n",
       "3  37i9dQZF1DX1tLHZHOkEVR    Wedding Party  37i9dQZF1DX1tLHZHOkEVR   \n",
       "4  37i9dQZF1DX1tLHZHOkEVR    Wedding Party  37i9dQZF1DX1tLHZHOkEVR   \n",
       "\n",
       "   playlist_name_y  duration_mins    genre  \n",
       "0    Wedding Party       4.510433  wedding  \n",
       "1    Wedding Party       4.435550  wedding  \n",
       "2    Wedding Party       3.231550  wedding  \n",
       "3    Wedding Party       2.991767  wedding  \n",
       "4    Wedding Party       3.983767  wedding  \n",
       "\n",
       "[5 rows x 25 columns]"
      ]
     },
     "execution_count": 7,
     "metadata": {},
     "output_type": "execute_result"
    }
   ],
   "source": [
    "# read and process the playlist data for keyword\n",
    "tracks1_df = pd.read_csv('data/'+KEYWORD1+'_playlist_tracks_data.csv')\\\n",
    "                .merge(pd.read_csv('data/'+KEYWORD1+'_playlist_tracks.csv')[['track_id','playlist_id','playlist_name']],\\\n",
    "                      on='track_id',how='left')\n",
    "#make duration ms to minutes\n",
    "tracks1_df['duration_mins']=tracks1_df['duration']/60000\n",
    "#tag genre with keyword\n",
    "tracks1_df['genre']=KEYWORD1\n",
    "tracks1_df.head()"
   ]
  },
  {
   "cell_type": "code",
   "execution_count": 8,
   "metadata": {
    "ExecuteTime": {
     "end_time": "2021-02-02T11:19:24.645819Z",
     "start_time": "2021-02-02T11:19:24.637963Z"
    }
   },
   "outputs": [
    {
     "data": {
      "text/plain": [
       "(2014, 25)"
      ]
     },
     "execution_count": 8,
     "metadata": {},
     "output_type": "execute_result"
    }
   ],
   "source": [
    "tracks1_df.shape"
   ]
  },
  {
   "cell_type": "code",
   "execution_count": 9,
   "metadata": {
    "ExecuteTime": {
     "end_time": "2021-02-02T11:19:35.994194Z",
     "start_time": "2021-02-02T11:19:35.987187Z"
    }
   },
   "outputs": [
    {
     "data": {
      "text/plain": [
       "1716"
      ]
     },
     "execution_count": 9,
     "metadata": {},
     "output_type": "execute_result"
    }
   ],
   "source": [
    "# How many unique tracks are in playlist set 1?\n",
    "len(tracks1_df['track_id'].unique())"
   ]
  },
  {
   "cell_type": "code",
   "execution_count": 10,
   "metadata": {
    "ExecuteTime": {
     "end_time": "2021-02-02T11:19:57.784662Z",
     "start_time": "2021-02-02T11:19:57.397911Z"
    }
   },
   "outputs": [
    {
     "data": {
      "text/plain": [
       "<AxesSubplot:>"
      ]
     },
     "execution_count": 10,
     "metadata": {},
     "output_type": "execute_result"
    },
    {
     "data": {
      "image/png": "[encoded data removed]",
      "text/plain": [
       "<Figure size 432x288 with 1 Axes>"
      ]
     },
     "metadata": {
      "needs_background": "light"
     },
     "output_type": "display_data"
    }
   ],
   "source": [
    "# What is the distribution of playlist set 1's total tracks?\n",
    "playlist1_df['playlist_total_tracks'].hist()"
   ]
  },
  {
   "cell_type": "code",
   "execution_count": 11,
   "metadata": {
    "ExecuteTime": {
     "end_time": "2021-02-02T11:20:26.905769Z",
     "start_time": "2021-02-02T11:20:26.897236Z"
    }
   },
   "outputs": [
    {
     "data": {
      "text/plain": [
       "93"
      ]
     },
     "execution_count": 11,
     "metadata": {},
     "output_type": "execute_result"
    }
   ],
   "source": [
    "len(playlist1_df[playlist1_df['playlist_total_tracks']>10])"
   ]
  },
  {
   "cell_type": "code",
   "execution_count": 12,
   "metadata": {
    "ExecuteTime": {
     "end_time": "2021-02-02T11:20:40.767502Z",
     "start_time": "2021-02-02T11:20:40.464305Z"
    }
   },
   "outputs": [
    {
     "data": {
      "text/plain": [
       "<AxesSubplot:>"
      ]
     },
     "execution_count": 12,
     "metadata": {},
     "output_type": "execute_result"
    },
    {
     "data": {
      "image/png": "[encoded data removed]",
      "text/plain": [
       "<Figure size 432x288 with 1 Axes>"
      ]
     },
     "metadata": {
      "needs_background": "light"
     },
     "output_type": "display_data"
    }
   ],
   "source": [
    "# What is the distribution of playlist set 1's total tracks?\n",
    "playlist1_df['total_followers'].hist()"
   ]
  },
  {
   "cell_type": "markdown",
   "metadata": {},
   "source": [
    "### Keyword 2"
   ]
  },
  {
   "cell_type": "code",
   "execution_count": 13,
   "metadata": {
    "ExecuteTime": {
     "end_time": "2021-02-02T11:21:13.496554Z",
     "start_time": "2021-02-02T11:21:13.489857Z"
    }
   },
   "outputs": [],
   "source": [
    "###################### set keyword\n",
    "KEYWORD2='workout'"
   ]
  },
  {
   "cell_type": "code",
   "execution_count": 14,
   "metadata": {
    "ExecuteTime": {
     "end_time": "2021-02-02T11:21:14.216856Z",
     "start_time": "2021-02-02T11:21:14.188888Z"
    }
   },
   "outputs": [
    {
     "data": {
      "text/html": [
       "<div>\n",
       "<style scoped>\n",
       "    .dataframe tbody tr th:only-of-type {\n",
       "        vertical-align: middle;\n",
       "    }\n",
       "\n",
       "    .dataframe tbody tr th {\n",
       "        vertical-align: top;\n",
       "    }\n",
       "\n",
       "    .dataframe thead th {\n",
       "        text-align: right;\n",
       "    }\n",
       "</style>\n",
       "<table border=\"1\" class=\"dataframe\">\n",
       "  <thead>\n",
       "    <tr style=\"text-align: right;\">\n",
       "      <th></th>\n",
       "      <th>playlist_id</th>\n",
       "      <th>playlist_name</th>\n",
       "      <th>playlist_total_tracks</th>\n",
       "      <th>owner_id</th>\n",
       "      <th>owner_name</th>\n",
       "      <th>total_followers</th>\n",
       "    </tr>\n",
       "  </thead>\n",
       "  <tbody>\n",
       "    <tr>\n",
       "      <th>0</th>\n",
       "      <td>37i9dQZF1DX70RN3TfWWJh</td>\n",
       "      <td>Workout</td>\n",
       "      <td>100</td>\n",
       "      <td>spotify</td>\n",
       "      <td>Spotify</td>\n",
       "      <td>4115739</td>\n",
       "    </tr>\n",
       "    <tr>\n",
       "      <th>1</th>\n",
       "      <td>37i9dQZF1DWUVpAXiEPK8P</td>\n",
       "      <td>Power Workout</td>\n",
       "      <td>50</td>\n",
       "      <td>spotify</td>\n",
       "      <td>Spotify</td>\n",
       "      <td>3532527</td>\n",
       "    </tr>\n",
       "    <tr>\n",
       "      <th>2</th>\n",
       "      <td>37i9dQZF1DX0HRj9P7NxeE</td>\n",
       "      <td>Workout Twerkout</td>\n",
       "      <td>50</td>\n",
       "      <td>spotify</td>\n",
       "      <td>Spotify</td>\n",
       "      <td>1677890</td>\n",
       "    </tr>\n",
       "    <tr>\n",
       "      <th>3</th>\n",
       "      <td>37i9dQZF1DX9ZKyQHcEFXZ</td>\n",
       "      <td>Perreo Workout</td>\n",
       "      <td>100</td>\n",
       "      <td>spotify</td>\n",
       "      <td>Spotify</td>\n",
       "      <td>1613688</td>\n",
       "    </tr>\n",
       "    <tr>\n",
       "      <th>4</th>\n",
       "      <td>37i9dQZF1DX76t638V6CA8</td>\n",
       "      <td>Rap Workout</td>\n",
       "      <td>59</td>\n",
       "      <td>spotify</td>\n",
       "      <td>Spotify</td>\n",
       "      <td>1264359</td>\n",
       "    </tr>\n",
       "    <tr>\n",
       "      <th>5</th>\n",
       "      <td>37i9dQZF1DXe6bgV3TmZOL</td>\n",
       "      <td>Adrenaline Workout</td>\n",
       "      <td>120</td>\n",
       "      <td>spotify</td>\n",
       "      <td>Spotify</td>\n",
       "      <td>1135025</td>\n",
       "    </tr>\n",
       "    <tr>\n",
       "      <th>6</th>\n",
       "      <td>37i9dQZF1DX8CwbNGNKurt</td>\n",
       "      <td>Throwback Workout</td>\n",
       "      <td>50</td>\n",
       "      <td>spotify</td>\n",
       "      <td>Spotify</td>\n",
       "      <td>1049846</td>\n",
       "    </tr>\n",
       "    <tr>\n",
       "      <th>7</th>\n",
       "      <td>37i9dQZF1DWUSyphfcc6aL</td>\n",
       "      <td>Workout Beats</td>\n",
       "      <td>70</td>\n",
       "      <td>spotify</td>\n",
       "      <td>Spotify</td>\n",
       "      <td>816737</td>\n",
       "    </tr>\n",
       "    <tr>\n",
       "      <th>8</th>\n",
       "      <td>37i9dQZF1DX3ZeFHRhhi7Y</td>\n",
       "      <td>Fantastic K-Workout</td>\n",
       "      <td>50</td>\n",
       "      <td>spotify</td>\n",
       "      <td>Spotify</td>\n",
       "      <td>457514</td>\n",
       "    </tr>\n",
       "    <tr>\n",
       "      <th>9</th>\n",
       "      <td>0L33OqcgnqcdtUDhUAyfPW</td>\n",
       "      <td>Workout Music 2021⚡Trap Gym Playlist ⚡Magic Music</td>\n",
       "      <td>130</td>\n",
       "      <td>magicmusicsquad</td>\n",
       "      <td>Magic Records</td>\n",
       "      <td>449360</td>\n",
       "    </tr>\n",
       "    <tr>\n",
       "      <th>10</th>\n",
       "      <td>37i9dQZF1DX6hvx9KDaW4s</td>\n",
       "      <td>The Rock Workout</td>\n",
       "      <td>60</td>\n",
       "      <td>spotify</td>\n",
       "      <td>Spotify</td>\n",
       "      <td>441038</td>\n",
       "    </tr>\n",
       "    <tr>\n",
       "      <th>11</th>\n",
       "      <td>7wBpRbIoatquCDVcxybHEk</td>\n",
       "      <td>Dance Workout</td>\n",
       "      <td>70</td>\n",
       "      <td>sonymusicuk</td>\n",
       "      <td>Filtr UK</td>\n",
       "      <td>404160</td>\n",
       "    </tr>\n",
       "    <tr>\n",
       "      <th>12</th>\n",
       "      <td>37i9dQZF1DWYNSm3Z3MxiM</td>\n",
       "      <td>Classic Rock Workout</td>\n",
       "      <td>65</td>\n",
       "      <td>spotify</td>\n",
       "      <td>Spotify</td>\n",
       "      <td>402567</td>\n",
       "    </tr>\n",
       "    <tr>\n",
       "      <th>13</th>\n",
       "      <td>37i9dQZF1DX0BZrbvIqxCd</td>\n",
       "      <td>Punk Rock Workout</td>\n",
       "      <td>100</td>\n",
       "      <td>spotify</td>\n",
       "      <td>Spotify</td>\n",
       "      <td>383631</td>\n",
       "    </tr>\n",
       "    <tr>\n",
       "      <th>14</th>\n",
       "      <td>37i9dQZF1DWVciwe52Zt0R</td>\n",
       "      <td>Workout Hits</td>\n",
       "      <td>43</td>\n",
       "      <td>spotify</td>\n",
       "      <td>Spotify</td>\n",
       "      <td>350944</td>\n",
       "    </tr>\n",
       "    <tr>\n",
       "      <th>15</th>\n",
       "      <td>37i9dQZF1DWY3PJWG3ogmJ</td>\n",
       "      <td>Extreme Metal Workout</td>\n",
       "      <td>120</td>\n",
       "      <td>spotify</td>\n",
       "      <td>Spotify</td>\n",
       "      <td>346254</td>\n",
       "    </tr>\n",
       "    <tr>\n",
       "      <th>16</th>\n",
       "      <td>190wZ2oVo7MTrBvNlPiub2</td>\n",
       "      <td>Workout Music 2021, Gym Music, Treino, Cardio ...</td>\n",
       "      <td>90</td>\n",
       "      <td>ndnto1q1sqfpl6r7uvuyfzo0q</td>\n",
       "      <td>BLACK DOT</td>\n",
       "      <td>329696</td>\n",
       "    </tr>\n",
       "    <tr>\n",
       "      <th>17</th>\n",
       "      <td>37i9dQZF1DXaRL7xbcDl7X</td>\n",
       "      <td>Indie Workout</td>\n",
       "      <td>100</td>\n",
       "      <td>spotify</td>\n",
       "      <td>Spotify</td>\n",
       "      <td>284903</td>\n",
       "    </tr>\n",
       "    <tr>\n",
       "      <th>18</th>\n",
       "      <td>2YLYJT19TUBMD4eDQEnivw</td>\n",
       "      <td>Workout Motivation / HipHop / Rap 2021</td>\n",
       "      <td>145</td>\n",
       "      <td>uptown_as</td>\n",
       "      <td>uptown_as</td>\n",
       "      <td>263096</td>\n",
       "    </tr>\n",
       "    <tr>\n",
       "      <th>19</th>\n",
       "      <td>2237sMNMlXS4wWLgdQ1UuV</td>\n",
       "      <td>Workout Motivation 2021💪</td>\n",
       "      <td>202</td>\n",
       "      <td>0m032eeptq5o63mbnwtfpybct</td>\n",
       "      <td>Jay Culter</td>\n",
       "      <td>244153</td>\n",
       "    </tr>\n",
       "  </tbody>\n",
       "</table>\n",
       "</div>"
      ],
      "text/plain": [
       "               playlist_id                                      playlist_name  \\\n",
       "0   37i9dQZF1DX70RN3TfWWJh                                            Workout   \n",
       "1   37i9dQZF1DWUVpAXiEPK8P                                      Power Workout   \n",
       "2   37i9dQZF1DX0HRj9P7NxeE                                   Workout Twerkout   \n",
       "3   37i9dQZF1DX9ZKyQHcEFXZ                                     Perreo Workout   \n",
       "4   37i9dQZF1DX76t638V6CA8                                        Rap Workout   \n",
       "5   37i9dQZF1DXe6bgV3TmZOL                                 Adrenaline Workout   \n",
       "6   37i9dQZF1DX8CwbNGNKurt                                  Throwback Workout   \n",
       "7   37i9dQZF1DWUSyphfcc6aL                                      Workout Beats   \n",
       "8   37i9dQZF1DX3ZeFHRhhi7Y                                Fantastic K-Workout   \n",
       "9   0L33OqcgnqcdtUDhUAyfPW  Workout Music 2021⚡Trap Gym Playlist ⚡Magic Music   \n",
       "10  37i9dQZF1DX6hvx9KDaW4s                                   The Rock Workout   \n",
       "11  7wBpRbIoatquCDVcxybHEk                                      Dance Workout   \n",
       "12  37i9dQZF1DWYNSm3Z3MxiM                               Classic Rock Workout   \n",
       "13  37i9dQZF1DX0BZrbvIqxCd                                  Punk Rock Workout   \n",
       "14  37i9dQZF1DWVciwe52Zt0R                                       Workout Hits   \n",
       "15  37i9dQZF1DWY3PJWG3ogmJ                              Extreme Metal Workout   \n",
       "16  190wZ2oVo7MTrBvNlPiub2  Workout Music 2021, Gym Music, Treino, Cardio ...   \n",
       "17  37i9dQZF1DXaRL7xbcDl7X                                      Indie Workout   \n",
       "18  2YLYJT19TUBMD4eDQEnivw             Workout Motivation / HipHop / Rap 2021   \n",
       "19  2237sMNMlXS4wWLgdQ1UuV                           Workout Motivation 2021💪   \n",
       "\n",
       "    playlist_total_tracks                   owner_id     owner_name  \\\n",
       "0                     100                    spotify        Spotify   \n",
       "1                      50                    spotify        Spotify   \n",
       "2                      50                    spotify        Spotify   \n",
       "3                     100                    spotify        Spotify   \n",
       "4                      59                    spotify        Spotify   \n",
       "5                     120                    spotify        Spotify   \n",
       "6                      50                    spotify        Spotify   \n",
       "7                      70                    spotify        Spotify   \n",
       "8                      50                    spotify        Spotify   \n",
       "9                     130            magicmusicsquad  Magic Records   \n",
       "10                     60                    spotify        Spotify   \n",
       "11                     70                sonymusicuk       Filtr UK   \n",
       "12                     65                    spotify        Spotify   \n",
       "13                    100                    spotify        Spotify   \n",
       "14                     43                    spotify        Spotify   \n",
       "15                    120                    spotify        Spotify   \n",
       "16                     90  ndnto1q1sqfpl6r7uvuyfzo0q      BLACK DOT   \n",
       "17                    100                    spotify        Spotify   \n",
       "18                    145                  uptown_as      uptown_as   \n",
       "19                    202  0m032eeptq5o63mbnwtfpybct     Jay Culter   \n",
       "\n",
       "    total_followers  \n",
       "0           4115739  \n",
       "1           3532527  \n",
       "2           1677890  \n",
       "3           1613688  \n",
       "4           1264359  \n",
       "5           1135025  \n",
       "6           1049846  \n",
       "7            816737  \n",
       "8            457514  \n",
       "9            449360  \n",
       "10           441038  \n",
       "11           404160  \n",
       "12           402567  \n",
       "13           383631  \n",
       "14           350944  \n",
       "15           346254  \n",
       "16           329696  \n",
       "17           284903  \n",
       "18           263096  \n",
       "19           244153  "
      ]
     },
     "execution_count": 14,
     "metadata": {},
     "output_type": "execute_result"
    }
   ],
   "source": [
    "# read and process the playlist data for keyword\n",
    "playlist2_df = pd.read_csv('data/'+KEYWORD2+'_playlist_data.csv')\n",
    "playlist2_df.head(20)"
   ]
  },
  {
   "cell_type": "code",
   "execution_count": 15,
   "metadata": {
    "ExecuteTime": {
     "end_time": "2021-02-02T11:21:14.647107Z",
     "start_time": "2021-02-02T11:21:14.622509Z"
    }
   },
   "outputs": [
    {
     "data": {
      "text/plain": [
       "(92, 6)"
      ]
     },
     "execution_count": 15,
     "metadata": {},
     "output_type": "execute_result"
    }
   ],
   "source": [
    "playlist2_df.shape"
   ]
  },
  {
   "cell_type": "code",
   "execution_count": 16,
   "metadata": {
    "ExecuteTime": {
     "end_time": "2021-02-02T11:21:23.664810Z",
     "start_time": "2021-02-02T11:21:23.549803Z"
    }
   },
   "outputs": [
    {
     "data": {
      "text/html": [
       "<div>\n",
       "<style scoped>\n",
       "    .dataframe tbody tr th:only-of-type {\n",
       "        vertical-align: middle;\n",
       "    }\n",
       "\n",
       "    .dataframe tbody tr th {\n",
       "        vertical-align: top;\n",
       "    }\n",
       "\n",
       "    .dataframe thead th {\n",
       "        text-align: right;\n",
       "    }\n",
       "</style>\n",
       "<table border=\"1\" class=\"dataframe\">\n",
       "  <thead>\n",
       "    <tr style=\"text-align: right;\">\n",
       "      <th></th>\n",
       "      <th>track_id</th>\n",
       "      <th>track_name</th>\n",
       "      <th>artist_id</th>\n",
       "      <th>artist_name</th>\n",
       "      <th>album_id</th>\n",
       "      <th>duration</th>\n",
       "      <th>release_date</th>\n",
       "      <th>popularity</th>\n",
       "      <th>danceability</th>\n",
       "      <th>energy</th>\n",
       "      <th>...</th>\n",
       "      <th>instrumentalness</th>\n",
       "      <th>liveness</th>\n",
       "      <th>valence</th>\n",
       "      <th>tempo</th>\n",
       "      <th>playlist_id_x</th>\n",
       "      <th>playlist_name_x</th>\n",
       "      <th>playlist_id_y</th>\n",
       "      <th>playlist_name_y</th>\n",
       "      <th>duration_mins</th>\n",
       "      <th>genre</th>\n",
       "    </tr>\n",
       "  </thead>\n",
       "  <tbody>\n",
       "    <tr>\n",
       "      <th>0</th>\n",
       "      <td>0zzVTGyRrWpQu8Fr28NRAv</td>\n",
       "      <td>OK Not To Be OK</td>\n",
       "      <td>64KEffDW9EtZ1y2vBYgq8T</td>\n",
       "      <td>Marshmello</td>\n",
       "      <td>3wCtCJ8O6SlGBWYfzAlsb2</td>\n",
       "      <td>159862</td>\n",
       "      <td>2020-09-10</td>\n",
       "      <td>82</td>\n",
       "      <td>0.743</td>\n",
       "      <td>0.837</td>\n",
       "      <td>...</td>\n",
       "      <td>0.000000</td>\n",
       "      <td>0.0743</td>\n",
       "      <td>0.263</td>\n",
       "      <td>103.072</td>\n",
       "      <td>37i9dQZF1DX70RN3TfWWJh</td>\n",
       "      <td>Workout</td>\n",
       "      <td>37i9dQZF1DX70RN3TfWWJh</td>\n",
       "      <td>Workout</td>\n",
       "      <td>2.664367</td>\n",
       "      <td>workout</td>\n",
       "    </tr>\n",
       "    <tr>\n",
       "      <th>1</th>\n",
       "      <td>4FYbo4yQzu3hGkj2Ix4ucW</td>\n",
       "      <td>Funny</td>\n",
       "      <td>2qxJFvFYMEDqd7ui6kSAcq</td>\n",
       "      <td>Zedd</td>\n",
       "      <td>5Q8Uyc3KUlPhPtMQDY5SWm</td>\n",
       "      <td>221465</td>\n",
       "      <td>2020-07-16</td>\n",
       "      <td>76</td>\n",
       "      <td>0.664</td>\n",
       "      <td>0.660</td>\n",
       "      <td>...</td>\n",
       "      <td>0.000000</td>\n",
       "      <td>0.2600</td>\n",
       "      <td>0.355</td>\n",
       "      <td>99.946</td>\n",
       "      <td>37i9dQZF1DX70RN3TfWWJh</td>\n",
       "      <td>Workout</td>\n",
       "      <td>37i9dQZF1DX70RN3TfWWJh</td>\n",
       "      <td>Workout</td>\n",
       "      <td>3.691083</td>\n",
       "      <td>workout</td>\n",
       "    </tr>\n",
       "    <tr>\n",
       "      <th>2</th>\n",
       "      <td>6ZuahEctZD6w75peme58hm</td>\n",
       "      <td>Wonder</td>\n",
       "      <td>7n2wHs1TKAczGzO7Dd2rGr</td>\n",
       "      <td>Shawn Mendes</td>\n",
       "      <td>3Lp4JKk2ZgNkybMRS3eZR5</td>\n",
       "      <td>172692</td>\n",
       "      <td>2020-12-04</td>\n",
       "      <td>80</td>\n",
       "      <td>0.442</td>\n",
       "      <td>0.631</td>\n",
       "      <td>...</td>\n",
       "      <td>0.000023</td>\n",
       "      <td>0.1330</td>\n",
       "      <td>0.129</td>\n",
       "      <td>139.774</td>\n",
       "      <td>37i9dQZF1DX70RN3TfWWJh</td>\n",
       "      <td>Workout</td>\n",
       "      <td>37i9dQZF1DX70RN3TfWWJh</td>\n",
       "      <td>Workout</td>\n",
       "      <td>2.878200</td>\n",
       "      <td>workout</td>\n",
       "    </tr>\n",
       "    <tr>\n",
       "      <th>3</th>\n",
       "      <td>5hvwx5i67IwnCkjl9VHkNv</td>\n",
       "      <td>Diamonds</td>\n",
       "      <td>2wY79sveU1sp5g7SokKOiI</td>\n",
       "      <td>Sam Smith</td>\n",
       "      <td>2IAyprsfyoPBGDvbLjgsN5</td>\n",
       "      <td>213869</td>\n",
       "      <td>2020-09-17</td>\n",
       "      <td>85</td>\n",
       "      <td>0.653</td>\n",
       "      <td>0.667</td>\n",
       "      <td>...</td>\n",
       "      <td>0.000000</td>\n",
       "      <td>0.1070</td>\n",
       "      <td>0.556</td>\n",
       "      <td>104.181</td>\n",
       "      <td>37i9dQZF1DX70RN3TfWWJh</td>\n",
       "      <td>Workout</td>\n",
       "      <td>37i9dQZF1DX70RN3TfWWJh</td>\n",
       "      <td>Workout</td>\n",
       "      <td>3.564483</td>\n",
       "      <td>workout</td>\n",
       "    </tr>\n",
       "    <tr>\n",
       "      <th>4</th>\n",
       "      <td>5u1n1kITHCxxp8twBcZxWy</td>\n",
       "      <td>Holy (feat. Chance The Rapper)</td>\n",
       "      <td>1uNFoZAHBGtllmzznpCI3s</td>\n",
       "      <td>Justin Bieber</td>\n",
       "      <td>4hR7jjsPvRwwcHx8ntJSQS</td>\n",
       "      <td>212093</td>\n",
       "      <td>2020-09-18</td>\n",
       "      <td>91</td>\n",
       "      <td>0.673</td>\n",
       "      <td>0.704</td>\n",
       "      <td>...</td>\n",
       "      <td>0.000000</td>\n",
       "      <td>0.0898</td>\n",
       "      <td>0.372</td>\n",
       "      <td>86.919</td>\n",
       "      <td>37i9dQZF1DX70RN3TfWWJh</td>\n",
       "      <td>Workout</td>\n",
       "      <td>37i9dQZF1DX70RN3TfWWJh</td>\n",
       "      <td>Workout</td>\n",
       "      <td>3.534883</td>\n",
       "      <td>workout</td>\n",
       "    </tr>\n",
       "  </tbody>\n",
       "</table>\n",
       "<p>5 rows × 25 columns</p>\n",
       "</div>"
      ],
      "text/plain": [
       "                 track_id                      track_name  \\\n",
       "0  0zzVTGyRrWpQu8Fr28NRAv                 OK Not To Be OK   \n",
       "1  4FYbo4yQzu3hGkj2Ix4ucW                           Funny   \n",
       "2  6ZuahEctZD6w75peme58hm                          Wonder   \n",
       "3  5hvwx5i67IwnCkjl9VHkNv                        Diamonds   \n",
       "4  5u1n1kITHCxxp8twBcZxWy  Holy (feat. Chance The Rapper)   \n",
       "\n",
       "                artist_id    artist_name                album_id  duration  \\\n",
       "0  64KEffDW9EtZ1y2vBYgq8T     Marshmello  3wCtCJ8O6SlGBWYfzAlsb2    159862   \n",
       "1  2qxJFvFYMEDqd7ui6kSAcq           Zedd  5Q8Uyc3KUlPhPtMQDY5SWm    221465   \n",
       "2  7n2wHs1TKAczGzO7Dd2rGr   Shawn Mendes  3Lp4JKk2ZgNkybMRS3eZR5    172692   \n",
       "3  2wY79sveU1sp5g7SokKOiI      Sam Smith  2IAyprsfyoPBGDvbLjgsN5    213869   \n",
       "4  1uNFoZAHBGtllmzznpCI3s  Justin Bieber  4hR7jjsPvRwwcHx8ntJSQS    212093   \n",
       "\n",
       "  release_date  popularity  danceability  energy  ...  instrumentalness  \\\n",
       "0   2020-09-10          82         0.743   0.837  ...          0.000000   \n",
       "1   2020-07-16          76         0.664   0.660  ...          0.000000   \n",
       "2   2020-12-04          80         0.442   0.631  ...          0.000023   \n",
       "3   2020-09-17          85         0.653   0.667  ...          0.000000   \n",
       "4   2020-09-18          91         0.673   0.704  ...          0.000000   \n",
       "\n",
       "   liveness  valence    tempo           playlist_id_x  playlist_name_x  \\\n",
       "0    0.0743    0.263  103.072  37i9dQZF1DX70RN3TfWWJh          Workout   \n",
       "1    0.2600    0.355   99.946  37i9dQZF1DX70RN3TfWWJh          Workout   \n",
       "2    0.1330    0.129  139.774  37i9dQZF1DX70RN3TfWWJh          Workout   \n",
       "3    0.1070    0.556  104.181  37i9dQZF1DX70RN3TfWWJh          Workout   \n",
       "4    0.0898    0.372   86.919  37i9dQZF1DX70RN3TfWWJh          Workout   \n",
       "\n",
       "            playlist_id_y  playlist_name_y  duration_mins    genre  \n",
       "0  37i9dQZF1DX70RN3TfWWJh          Workout       2.664367  workout  \n",
       "1  37i9dQZF1DX70RN3TfWWJh          Workout       3.691083  workout  \n",
       "2  37i9dQZF1DX70RN3TfWWJh          Workout       2.878200  workout  \n",
       "3  37i9dQZF1DX70RN3TfWWJh          Workout       3.564483  workout  \n",
       "4  37i9dQZF1DX70RN3TfWWJh          Workout       3.534883  workout  \n",
       "\n",
       "[5 rows x 25 columns]"
      ]
     },
     "execution_count": 16,
     "metadata": {},
     "output_type": "execute_result"
    }
   ],
   "source": [
    "# read and process the playlist data for keyword\n",
    "tracks2_df = pd.read_csv('data/'+KEYWORD2+'_playlist_tracks_data.csv')\\\n",
    "                .merge(pd.read_csv('data/'+KEYWORD2+'_playlist_tracks.csv')[['track_id','playlist_id','playlist_name']],\\\n",
    "                      on='track_id',how='left')\n",
    "#make duration ms to minutes\n",
    "tracks2_df['duration_mins']=tracks2_df['duration']/60000\n",
    "#tag genre with keyword\n",
    "tracks2_df['genre']=KEYWORD2\n",
    "tracks2_df.head()"
   ]
  },
  {
   "cell_type": "code",
   "execution_count": 17,
   "metadata": {
    "ExecuteTime": {
     "end_time": "2021-02-02T11:21:26.413153Z",
     "start_time": "2021-02-02T11:21:26.404622Z"
    }
   },
   "outputs": [
    {
     "data": {
      "text/plain": [
       "(1772, 25)"
      ]
     },
     "execution_count": 17,
     "metadata": {},
     "output_type": "execute_result"
    }
   ],
   "source": [
    "tracks2_df.shape"
   ]
  },
  {
   "cell_type": "code",
   "execution_count": 18,
   "metadata": {
    "ExecuteTime": {
     "end_time": "2021-02-02T11:21:39.530512Z",
     "start_time": "2021-02-02T11:21:39.521442Z"
    }
   },
   "outputs": [
    {
     "data": {
      "text/plain": [
       "1679"
      ]
     },
     "execution_count": 18,
     "metadata": {},
     "output_type": "execute_result"
    }
   ],
   "source": [
    "# How many unique tracks are in playlist 2?\n",
    "len(tracks2_df['track_id'].unique())"
   ]
  },
  {
   "cell_type": "markdown",
   "metadata": {},
   "source": [
    "## Data Prep"
   ]
  },
  {
   "cell_type": "code",
   "execution_count": 79,
   "metadata": {},
   "outputs": [],
   "source": [
    "#!ls data -lah"
   ]
  },
  {
   "cell_type": "code",
   "execution_count": 98,
   "metadata": {},
   "outputs": [],
   "source": [
    "#keywords = ['wedding', 'workout']\n",
    "\n",
    "keywords = ['Dance Pop', 'Jazz', \\\n",
    "            'OPM', 'R&B', 'breakup', \\\n",
    "            'classical', 'country', 'electronic', \\\n",
    "            'funeral', 'hiphop', 'party',\\\n",
    "           'pop', 'post-teen pop', 'rap',\\\n",
    "           'reggae', 'rock', 'wedding',\\\n",
    "           'workout']\n"
   ]
  },
  {
   "cell_type": "code",
   "execution_count": 99,
   "metadata": {},
   "outputs": [
    {
     "name": "stdout",
     "output_type": "stream",
     "text": [
      "Dance Pop\n",
      "<built-in method index of list object at 0x000001B7637CD880>\n",
      "Jazz\n",
      "<built-in method index of list object at 0x000001B7637CD880>\n",
      "OPM\n",
      "<built-in method index of list object at 0x000001B7637CD880>\n",
      "R&B\n",
      "<built-in method index of list object at 0x000001B7637CD880>\n",
      "breakup\n",
      "<built-in method index of list object at 0x000001B7637CD880>\n",
      "classical\n",
      "<built-in method index of list object at 0x000001B7637CD880>\n",
      "country\n",
      "<built-in method index of list object at 0x000001B7637CD880>\n",
      "electronic\n",
      "<built-in method index of list object at 0x000001B7637CD880>\n",
      "funeral\n",
      "<built-in method index of list object at 0x000001B7637CD880>\n",
      "hiphop\n",
      "<built-in method index of list object at 0x000001B7637CD880>\n",
      "party\n",
      "<built-in method index of list object at 0x000001B7637CD880>\n",
      "pop\n",
      "<built-in method index of list object at 0x000001B7637CD880>\n",
      "post-teen pop\n",
      "<built-in method index of list object at 0x000001B7637CD880>\n",
      "rap\n",
      "<built-in method index of list object at 0x000001B7637CD880>\n",
      "reggae\n",
      "<built-in method index of list object at 0x000001B7637CD880>\n",
      "rock\n",
      "<built-in method index of list object at 0x000001B7637CD880>\n",
      "wedding\n",
      "<built-in method index of list object at 0x000001B7637CD880>\n",
      "workout\n",
      "<built-in method index of list object at 0x000001B7637CD880>\n"
     ]
    }
   ],
   "source": [
    "for i in (keywords):\n",
    "    print(i)\n",
    "    print(keywords.index)"
   ]
  },
  {
   "cell_type": "code",
   "execution_count": 100,
   "metadata": {},
   "outputs": [
    {
     "name": "stdout",
     "output_type": "stream",
     "text": [
      "Dance Pop\n",
      "<built-in method index of str object at 0x000001B76385D1F0>\n",
      "Jazz\n",
      "<built-in method index of str object at 0x000001B7639A6F30>\n",
      "OPM\n",
      "<built-in method index of str object at 0x000001B7637F1630>\n",
      "R&B\n",
      "<built-in method index of str object at 0x000001B763854370>\n",
      "breakup\n",
      "<built-in method index of str object at 0x000001B7637F1EF0>\n",
      "classical\n",
      "<built-in method index of str object at 0x000001B7637F15F0>\n",
      "country\n",
      "<built-in method index of str object at 0x000001B7637E7330>\n",
      "electronic\n",
      "<built-in method index of str object at 0x000001B7637E7EF0>\n",
      "funeral\n",
      "<built-in method index of str object at 0x000001B7637F1DF0>\n",
      "hiphop\n",
      "<built-in method index of str object at 0x000001B7637E74B0>\n",
      "party\n",
      "<built-in method index of str object at 0x000001B7637E7E30>\n",
      "pop\n",
      "<built-in method index of str object at 0x000001B753E79E70>\n",
      "post-teen pop\n",
      "<built-in method index of str object at 0x000001B763A63170>\n",
      "rap\n",
      "<built-in method index of str object at 0x000001B7637E7DB0>\n",
      "reggae\n",
      "<built-in method index of str object at 0x000001B7637E7430>\n",
      "rock\n",
      "<built-in method index of str object at 0x000001B7637E7530>\n",
      "wedding\n",
      "<built-in method index of str object at 0x000001B7602B5730>\n",
      "workout\n",
      "<built-in method index of str object at 0x000001B7637268B0>\n"
     ]
    }
   ],
   "source": [
    "for i in range(len(keywords)):\n",
    "    print(keywords[i])\n",
    "    print(keywords[i].index)"
   ]
  },
  {
   "cell_type": "code",
   "execution_count": 101,
   "metadata": {},
   "outputs": [
    {
     "data": {
      "text/plain": [
       "('Dance Pop', 'Jazz')"
      ]
     },
     "execution_count": 101,
     "metadata": {},
     "output_type": "execute_result"
    }
   ],
   "source": [
    "keywords[0],keywords[1]"
   ]
  },
  {
   "cell_type": "code",
   "execution_count": 102,
   "metadata": {},
   "outputs": [
    {
     "name": "stdout",
     "output_type": "stream",
     "text": [
      "Dance Pop\n"
     ]
    }
   ],
   "source": [
    "i = keywords[0]\n",
    "print(i)"
   ]
  },
  {
   "cell_type": "markdown",
   "metadata": {},
   "source": [
    "**Data frame collection**\n",
    "\n",
    "https://stackoverflow.com/questions/33907776/how-to-create-an-array-of-dataframes-in-python"
   ]
  },
  {
   "cell_type": "code",
   "execution_count": null,
   "metadata": {},
   "outputs": [],
   "source": []
  },
  {
   "cell_type": "code",
   "execution_count": 103,
   "metadata": {},
   "outputs": [
    {
     "name": "stdout",
     "output_type": "stream",
     "text": [
      "Dance Pop\n"
     ]
    }
   ],
   "source": [
    "tracks_df_merged = {} # data frame collection\n",
    "idx = 0\n",
    "i = keywords[idx]\n",
    "print(i)\n",
    "\n",
    "tmp_playlist_df = pd.read_csv('data/'+i+'_playlist_data.csv')\n",
    "tmp_tracks_df = pd.read_csv('data/'+i+'_playlist_tracks_data.csv')\\\n",
    "                    .merge(pd.read_csv('data/'+i+'_playlist_tracks.csv')[['track_id','playlist_id','playlist_name']],\\\n",
    "                          on='track_id',how='left')\n",
    "#make duration ms to minutes\n",
    "tmp_tracks_df['duration_mins']=tmp_tracks_df['duration']/60000\n",
    "#tag genre with keyword\n",
    "tmp_tracks_df['genre']=i\n",
    "\n",
    "tracks_df_merged[i] = pd.DataFrame(tmp_playlist_df)"
   ]
  },
  {
   "cell_type": "code",
   "execution_count": 104,
   "metadata": {},
   "outputs": [
    {
     "data": {
      "text/plain": [
       "{'Dance Pop':                playlist_id                                      playlist_name  \\\n",
       " 0   37i9dQZF1DWZQaaqNMbbXa                                     Dance Pop Hits   \n",
       " 1   6dtY8MCZ4ExwDvsfs5EARz                             Dance Pop Hits 2021 🕺💃   \n",
       " 2   4SdfG4cPG3skmTiQLozZGh                                   Dance Pop Tunes    \n",
       " 3   6RAGRcbf29KQhJpP3eD8cu  Best Music For Gaming 2021 🎮 Future Bass & Dan...   \n",
       " 4   37i9dQZF1DWWOGXILUAh53                                    Fresh Dance Pop   \n",
       " 5   37i9dQZF1DXahYFr91pFvG                                   Dance Pop: Japan   \n",
       " 6   37i9dQZF1DX6pH08wMhkaI                                     Dance Pop Hits   \n",
       " 7   6MCEBH2C7xz8YAK1Z3o1kO                      Dance Pop Hits & Chill Gaming   \n",
       " 8   69N5GrdsCrd9l7iqpcoLc7  Workout 2021 🔥 Exercise Music 🔥 Best Dance Mus...   \n",
       " 9   4pgOnmTM39JfS4kGBhd2RG                                    Dance Pop Viral   \n",
       " 10  1TZSikRQOg9a8rckQeRerD                                    Dance Pop 2021!   \n",
       " 11  2bl6rVKYoC4igzpzUKIuYo                              Dance Pop Hits 2021 🔥   \n",
       " 12  6OujgxtHlXcOw9EjPqS3kl                                          DANCE POP   \n",
       " 13  0dY2wIRIDhznH7mQnevcgG  Weekend Vibes + TGIF + New Music Friday + Mint...   \n",
       " 14  5EDm7hkrWkkLMdVLNnznqg                                    Belly Dance Pop   \n",
       " 15  44PolImasIMW3OOyLxcnle                         Dance Pop & Happy Vibes :)   \n",
       " 16  3W2Vj0s1XLZHh5Cz1jDGTS                                      Dance Pop '90   \n",
       " 17  0CHOrYMj3eN7vw2Z2UvZKz                                          dance pop   \n",
       " 18  5v689Vdwv92REJKH2M5hPe                                      Dance Pop '80   \n",
       " 19  530mXyog41njOqtlsuwK8b                                    Dance Pop Party   \n",
       " 20  3jtiMnQbEtI36muhCWV5Op                      Dance Pop Revival 2020 - 2021   \n",
       " 21  1974cxTZjWP14p7mx864wt  Dance Pop Party 2021 | Best Future Bass, Dance...   \n",
       " 22  0V29O48byYZxg6ws8vHBtA                                  Turquía dance pop   \n",
       " 23  2XSck3Esa0qsfNq7fzHEtg           DANCE POP 2021 HOT 100🔥   Gym motivation   \n",
       " 24  5QKzx8SUEDXPCeXWUTtyeX                                  Dance Pop (Clean)   \n",
       " 25  3WFtkW9Yx3JxKrsiH6lmEg                           butter x synth/dance pop   \n",
       " \n",
       "     playlist_total_tracks                   owner_id  \\\n",
       " 0                     150                    spotify   \n",
       " 1                      61                    topsify   \n",
       " 2                     105                sonymusicnl   \n",
       " 3                      98            magicmusicsquad   \n",
       " 4                      99                    spotify   \n",
       " 5                      60                    spotify   \n",
       " 6                     100                    spotify   \n",
       " 7                      75  qx3ulry0s1bfbjjyzurkbzf68   \n",
       " 8                     140  kpmvso2hddt008tdym03gycwi   \n",
       " 9                      30  a4awhs9pnhakydc1bop7700ml   \n",
       " 10                    163                12149420357   \n",
       " 11                     84  1nv6u01jz04gdpyeu05zf5uyd   \n",
       " 12                    100  8i1jv5e3xmrasr2e2k9z5ui7u   \n",
       " 13                    545            amabel.soewondo   \n",
       " 14                     40                 1248041604   \n",
       " 15                     59  4nh7nghhubxg081qmum0vmpie   \n",
       " 16                     39  21ccavqrh37bmu2mode4wyzdi   \n",
       " 17                    178                mattbeebe32   \n",
       " 18                     35  21ccavqrh37bmu2mode4wyzdi   \n",
       " 19                    179                  129732977   \n",
       " 20                    205                 evansleekx   \n",
       " 21                     59  95n3c958mbr8zezx8f1fpplav   \n",
       " 22                     40             ruricowladimir   \n",
       " 23                    238  fz5p99nhs59tq2pqk8eo4qpeg   \n",
       " 24                    187  5e03jbzv5haqzik85snzan9ql   \n",
       " 25                     36                embethscods   \n",
       " \n",
       "                       owner_name  total_followers  \n",
       " 0                        Spotify           196168  \n",
       " 1                        Topsify            86201  \n",
       " 2                Filtr Nederland            64588  \n",
       " 3                  Magic Records            54152  \n",
       " 4                        Spotify            50608  \n",
       " 5                        Spotify            42206  \n",
       " 6                        Spotify            34797  \n",
       " 7                       SIZELAND            32605  \n",
       " 8                    HMG Workout            23361  \n",
       " 9               Music Hits Italy            20810  \n",
       " 10                   12149420357             6749  \n",
       " 11                    Oxyd Music             5380  \n",
       " 12                       VERZAAP             2217  \n",
       " 13               Amabel Soewondo             1173  \n",
       " 14                    Erica Azad              895  \n",
       " 15                   Happy Hippo              814  \n",
       " 16           Timothy Walschaerts              654  \n",
       " 17                   mattbeebe32              590  \n",
       " 18           Timothy Walschaerts              551  \n",
       " 19                  Sage Viscovi              437  \n",
       " 20                  reginogeorge              390  \n",
       " 21                    Boomaholic              387  \n",
       " 22  Wladimir Gutiérrez Sepúlveda              242  \n",
       " 23                 EMIIXAM (Max)              231  \n",
       " 24                      Cheyenne              155  \n",
       " 25                 trivia:flower               16  }"
      ]
     },
     "execution_count": 104,
     "metadata": {},
     "output_type": "execute_result"
    }
   ],
   "source": [
    "tracks_df_merged"
   ]
  },
  {
   "cell_type": "code",
   "execution_count": 105,
   "metadata": {},
   "outputs": [
    {
     "name": "stdout",
     "output_type": "stream",
     "text": [
      "\n",
      "========================================\n",
      "Dance Pop\n",
      "----------------------------------------\n"
     ]
    }
   ],
   "source": [
    "for key in tracks_df_merged.keys():\n",
    "    print(\"\\n\" +\"=\"*40)\n",
    "    print(key)\n",
    "    print(\"-\"*40)\n",
    "    #print(tracks_df_merged[key])"
   ]
  },
  {
   "cell_type": "code",
   "execution_count": 106,
   "metadata": {},
   "outputs": [
    {
     "name": "stdout",
     "output_type": "stream",
     "text": [
      "Jazz\n",
      "OPM\n",
      "R&B\n",
      "breakup\n",
      "classical\n",
      "country\n",
      "electronic\n",
      "funeral\n",
      "hiphop\n",
      "party\n",
      "pop\n",
      "post-teen pop\n",
      "rap\n",
      "reggae\n",
      "rock\n",
      "wedding\n",
      "workout\n"
     ]
    }
   ],
   "source": [
    "    \n",
    "for i in range(1,len(keywords)):\n",
    "    print(keywords[i])\n",
    "    tmp_playlist_df = pd.read_csv('data/'+keywords[i]+'_playlist_data.csv')\n",
    "    # read and process the playlist data for keyword\n",
    "    tmp_tracks_df = pd.read_csv('data/'+keywords[i]+'_playlist_tracks_data.csv')\\\n",
    "                    .merge(pd.read_csv('data/'+keywords[i]+'_playlist_tracks.csv')[['track_id','playlist_id','playlist_name']],\\\n",
    "                          on='track_id',how='left')\n",
    "    #make duration ms to minutes\n",
    "    tmp_tracks_df['duration_mins']=tmp_tracks_df['duration']/60000\n",
    "    #tag genre with keyword\n",
    "    tmp_tracks_df['genre']=keywords[i]\n",
    "    \n",
    "    tracks_df_merged[keywords[i]] = pd.DataFrame(tmp_playlist_df)"
   ]
  },
  {
   "cell_type": "code",
   "execution_count": 109,
   "metadata": {
    "scrolled": true,
    "tags": []
   },
   "outputs": [
    {
     "name": "stdout",
     "output_type": "stream",
     "text": [
      "\n",
      "========================================\n",
      "Dance Pop\n",
      "----------------------------------------\n",
      "\n",
      "========================================\n",
      "Jazz\n",
      "----------------------------------------\n",
      "\n",
      "========================================\n",
      "OPM\n",
      "----------------------------------------\n",
      "\n",
      "========================================\n",
      "R&B\n",
      "----------------------------------------\n",
      "\n",
      "========================================\n",
      "breakup\n",
      "----------------------------------------\n",
      "\n",
      "========================================\n",
      "classical\n",
      "----------------------------------------\n",
      "\n",
      "========================================\n",
      "country\n",
      "----------------------------------------\n",
      "\n",
      "========================================\n",
      "electronic\n",
      "----------------------------------------\n",
      "\n",
      "========================================\n",
      "funeral\n",
      "----------------------------------------\n",
      "\n",
      "========================================\n",
      "hiphop\n",
      "----------------------------------------\n",
      "\n",
      "========================================\n",
      "party\n",
      "----------------------------------------\n",
      "\n",
      "========================================\n",
      "pop\n",
      "----------------------------------------\n",
      "\n",
      "========================================\n",
      "post-teen pop\n",
      "----------------------------------------\n",
      "\n",
      "========================================\n",
      "rap\n",
      "----------------------------------------\n",
      "\n",
      "========================================\n",
      "reggae\n",
      "----------------------------------------\n",
      "\n",
      "========================================\n",
      "rock\n",
      "----------------------------------------\n",
      "\n",
      "========================================\n",
      "wedding\n",
      "----------------------------------------\n",
      "\n",
      "========================================\n",
      "workout\n",
      "----------------------------------------\n"
     ]
    }
   ],
   "source": [
    "for key in tracks_df_merged.keys():\n",
    "    print(\"\\n\" +\"=\"*40)\n",
    "    print(key)\n",
    "    print(\"-\"*40)\n",
    "    #print(tracks_df_merged[key])"
   ]
  },
  {
   "cell_type": "code",
   "execution_count": 114,
   "metadata": {},
   "outputs": [
    {
     "data": {
      "text/html": [
       "<div>\n",
       "<style scoped>\n",
       "    .dataframe tbody tr th:only-of-type {\n",
       "        vertical-align: middle;\n",
       "    }\n",
       "\n",
       "    .dataframe tbody tr th {\n",
       "        vertical-align: top;\n",
       "    }\n",
       "\n",
       "    .dataframe thead th {\n",
       "        text-align: right;\n",
       "    }\n",
       "</style>\n",
       "<table border=\"1\" class=\"dataframe\">\n",
       "  <thead>\n",
       "    <tr style=\"text-align: right;\">\n",
       "      <th></th>\n",
       "      <th>playlist_id</th>\n",
       "      <th>playlist_name</th>\n",
       "      <th>playlist_total_tracks</th>\n",
       "      <th>owner_id</th>\n",
       "      <th>owner_name</th>\n",
       "      <th>total_followers</th>\n",
       "    </tr>\n",
       "  </thead>\n",
       "  <tbody>\n",
       "    <tr>\n",
       "      <th>0</th>\n",
       "      <td>37i9dQZF1DWZQaaqNMbbXa</td>\n",
       "      <td>Dance Pop Hits</td>\n",
       "      <td>150</td>\n",
       "      <td>spotify</td>\n",
       "      <td>Spotify</td>\n",
       "      <td>196168</td>\n",
       "    </tr>\n",
       "    <tr>\n",
       "      <th>1</th>\n",
       "      <td>6dtY8MCZ4ExwDvsfs5EARz</td>\n",
       "      <td>Dance Pop Hits 2021 🕺💃</td>\n",
       "      <td>61</td>\n",
       "      <td>topsify</td>\n",
       "      <td>Topsify</td>\n",
       "      <td>86201</td>\n",
       "    </tr>\n",
       "    <tr>\n",
       "      <th>2</th>\n",
       "      <td>4SdfG4cPG3skmTiQLozZGh</td>\n",
       "      <td>Dance Pop Tunes</td>\n",
       "      <td>105</td>\n",
       "      <td>sonymusicnl</td>\n",
       "      <td>Filtr Nederland</td>\n",
       "      <td>64588</td>\n",
       "    </tr>\n",
       "    <tr>\n",
       "      <th>3</th>\n",
       "      <td>6RAGRcbf29KQhJpP3eD8cu</td>\n",
       "      <td>Best Music For Gaming 2021 🎮 Future Bass &amp; Dan...</td>\n",
       "      <td>98</td>\n",
       "      <td>magicmusicsquad</td>\n",
       "      <td>Magic Records</td>\n",
       "      <td>54152</td>\n",
       "    </tr>\n",
       "    <tr>\n",
       "      <th>4</th>\n",
       "      <td>37i9dQZF1DWWOGXILUAh53</td>\n",
       "      <td>Fresh Dance Pop</td>\n",
       "      <td>99</td>\n",
       "      <td>spotify</td>\n",
       "      <td>Spotify</td>\n",
       "      <td>50608</td>\n",
       "    </tr>\n",
       "  </tbody>\n",
       "</table>\n",
       "</div>"
      ],
      "text/plain": [
       "              playlist_id                                      playlist_name  \\\n",
       "0  37i9dQZF1DWZQaaqNMbbXa                                     Dance Pop Hits   \n",
       "1  6dtY8MCZ4ExwDvsfs5EARz                             Dance Pop Hits 2021 🕺💃   \n",
       "2  4SdfG4cPG3skmTiQLozZGh                                   Dance Pop Tunes    \n",
       "3  6RAGRcbf29KQhJpP3eD8cu  Best Music For Gaming 2021 🎮 Future Bass & Dan...   \n",
       "4  37i9dQZF1DWWOGXILUAh53                                    Fresh Dance Pop   \n",
       "\n",
       "   playlist_total_tracks         owner_id       owner_name  total_followers  \n",
       "0                    150          spotify          Spotify           196168  \n",
       "1                     61          topsify          Topsify            86201  \n",
       "2                    105      sonymusicnl  Filtr Nederland            64588  \n",
       "3                     98  magicmusicsquad    Magic Records            54152  \n",
       "4                     99          spotify          Spotify            50608  "
      ]
     },
     "execution_count": 114,
     "metadata": {},
     "output_type": "execute_result"
    }
   ],
   "source": [
    "# tracks_df_merged2\n",
    "tracks_df_merged2 = pd.DataFrame(tracks_df_merged[keywords[0]])\n",
    "tracks_df_merged2.head()"
   ]
  },
  {
   "cell_type": "code",
   "execution_count": 115,
   "metadata": {},
   "outputs": [],
   "source": [
    "for i in range(1,len(keywords)):\n",
    "    tracks_df_merged2 = pd.concat([tracks_df_merged2,tracks_df_merged[keywords[i]]],ignore_index=True)"
   ]
  },
  {
   "cell_type": "code",
   "execution_count": 117,
   "metadata": {},
   "outputs": [],
   "source": [
    "def explore_data(df):\n",
    "    print(\"**** Dimensions or Shape (rows x columns)\")\n",
    "    display(df.shape)\n",
    "    print(\"**** Column Names\")\n",
    "    display(df.columns)\n",
    "    print(\"**** Data Types\")\n",
    "    display(df.dtypes)\n",
    "    print(\"**** Descriptive Statistics\")\n",
    "    display(df.describe())\n",
    "    print(\"**** Head\")\n",
    "    display(df.head())\n",
    "    print(\"**** Null Checks\")\n",
    "    display(df.isnull().sum())"
   ]
  },
  {
   "cell_type": "code",
   "execution_count": 118,
   "metadata": {},
   "outputs": [
    {
     "name": "stdout",
     "output_type": "stream",
     "text": [
      "**** Dimensions or Shape (rows x columns)\n"
     ]
    },
    {
     "data": {
      "text/plain": [
       "(1494, 6)"
      ]
     },
     "metadata": {},
     "output_type": "display_data"
    },
    {
     "name": "stdout",
     "output_type": "stream",
     "text": [
      "**** Column Names\n"
     ]
    },
    {
     "data": {
      "text/plain": [
       "Index(['playlist_id', 'playlist_name', 'playlist_total_tracks', 'owner_id',\n",
       "       'owner_name', 'total_followers'],\n",
       "      dtype='object')"
      ]
     },
     "metadata": {},
     "output_type": "display_data"
    },
    {
     "name": "stdout",
     "output_type": "stream",
     "text": [
      "**** Data Types\n"
     ]
    },
    {
     "data": {
      "text/plain": [
       "playlist_id              object\n",
       "playlist_name            object\n",
       "playlist_total_tracks     int64\n",
       "owner_id                 object\n",
       "owner_name               object\n",
       "total_followers           int64\n",
       "dtype: object"
      ]
     },
     "metadata": {},
     "output_type": "display_data"
    },
    {
     "name": "stdout",
     "output_type": "stream",
     "text": [
      "**** Descriptive Statistics\n"
     ]
    },
    {
     "data": {
      "text/html": [
       "<div>\n",
       "<style scoped>\n",
       "    .dataframe tbody tr th:only-of-type {\n",
       "        vertical-align: middle;\n",
       "    }\n",
       "\n",
       "    .dataframe tbody tr th {\n",
       "        vertical-align: top;\n",
       "    }\n",
       "\n",
       "    .dataframe thead th {\n",
       "        text-align: right;\n",
       "    }\n",
       "</style>\n",
       "<table border=\"1\" class=\"dataframe\">\n",
       "  <thead>\n",
       "    <tr style=\"text-align: right;\">\n",
       "      <th></th>\n",
       "      <th>playlist_total_tracks</th>\n",
       "      <th>total_followers</th>\n",
       "    </tr>\n",
       "  </thead>\n",
       "  <tbody>\n",
       "    <tr>\n",
       "      <th>count</th>\n",
       "      <td>1494.000000</td>\n",
       "      <td>1.494000e+03</td>\n",
       "    </tr>\n",
       "    <tr>\n",
       "      <th>mean</th>\n",
       "      <td>128.172021</td>\n",
       "      <td>1.974136e+05</td>\n",
       "    </tr>\n",
       "    <tr>\n",
       "      <th>std</th>\n",
       "      <td>225.006287</td>\n",
       "      <td>7.016438e+05</td>\n",
       "    </tr>\n",
       "    <tr>\n",
       "      <th>min</th>\n",
       "      <td>2.000000</td>\n",
       "      <td>0.000000e+00</td>\n",
       "    </tr>\n",
       "    <tr>\n",
       "      <th>25%</th>\n",
       "      <td>50.000000</td>\n",
       "      <td>1.430500e+03</td>\n",
       "    </tr>\n",
       "    <tr>\n",
       "      <th>50%</th>\n",
       "      <td>80.000000</td>\n",
       "      <td>1.626500e+04</td>\n",
       "    </tr>\n",
       "    <tr>\n",
       "      <th>75%</th>\n",
       "      <td>131.000000</td>\n",
       "      <td>1.012410e+05</td>\n",
       "    </tr>\n",
       "    <tr>\n",
       "      <th>max</th>\n",
       "      <td>5197.000000</td>\n",
       "      <td>1.358868e+07</td>\n",
       "    </tr>\n",
       "  </tbody>\n",
       "</table>\n",
       "</div>"
      ],
      "text/plain": [
       "       playlist_total_tracks  total_followers\n",
       "count            1494.000000     1.494000e+03\n",
       "mean              128.172021     1.974136e+05\n",
       "std               225.006287     7.016438e+05\n",
       "min                 2.000000     0.000000e+00\n",
       "25%                50.000000     1.430500e+03\n",
       "50%                80.000000     1.626500e+04\n",
       "75%               131.000000     1.012410e+05\n",
       "max              5197.000000     1.358868e+07"
      ]
     },
     "metadata": {},
     "output_type": "display_data"
    },
    {
     "name": "stdout",
     "output_type": "stream",
     "text": [
      "**** Head\n"
     ]
    },
    {
     "data": {
      "text/html": [
       "<div>\n",
       "<style scoped>\n",
       "    .dataframe tbody tr th:only-of-type {\n",
       "        vertical-align: middle;\n",
       "    }\n",
       "\n",
       "    .dataframe tbody tr th {\n",
       "        vertical-align: top;\n",
       "    }\n",
       "\n",
       "    .dataframe thead th {\n",
       "        text-align: right;\n",
       "    }\n",
       "</style>\n",
       "<table border=\"1\" class=\"dataframe\">\n",
       "  <thead>\n",
       "    <tr style=\"text-align: right;\">\n",
       "      <th></th>\n",
       "      <th>playlist_id</th>\n",
       "      <th>playlist_name</th>\n",
       "      <th>playlist_total_tracks</th>\n",
       "      <th>owner_id</th>\n",
       "      <th>owner_name</th>\n",
       "      <th>total_followers</th>\n",
       "    </tr>\n",
       "  </thead>\n",
       "  <tbody>\n",
       "    <tr>\n",
       "      <th>0</th>\n",
       "      <td>37i9dQZF1DWZQaaqNMbbXa</td>\n",
       "      <td>Dance Pop Hits</td>\n",
       "      <td>150</td>\n",
       "      <td>spotify</td>\n",
       "      <td>Spotify</td>\n",
       "      <td>196168</td>\n",
       "    </tr>\n",
       "    <tr>\n",
       "      <th>1</th>\n",
       "      <td>6dtY8MCZ4ExwDvsfs5EARz</td>\n",
       "      <td>Dance Pop Hits 2021 🕺💃</td>\n",
       "      <td>61</td>\n",
       "      <td>topsify</td>\n",
       "      <td>Topsify</td>\n",
       "      <td>86201</td>\n",
       "    </tr>\n",
       "    <tr>\n",
       "      <th>2</th>\n",
       "      <td>4SdfG4cPG3skmTiQLozZGh</td>\n",
       "      <td>Dance Pop Tunes</td>\n",
       "      <td>105</td>\n",
       "      <td>sonymusicnl</td>\n",
       "      <td>Filtr Nederland</td>\n",
       "      <td>64588</td>\n",
       "    </tr>\n",
       "    <tr>\n",
       "      <th>3</th>\n",
       "      <td>6RAGRcbf29KQhJpP3eD8cu</td>\n",
       "      <td>Best Music For Gaming 2021 🎮 Future Bass &amp; Dan...</td>\n",
       "      <td>98</td>\n",
       "      <td>magicmusicsquad</td>\n",
       "      <td>Magic Records</td>\n",
       "      <td>54152</td>\n",
       "    </tr>\n",
       "    <tr>\n",
       "      <th>4</th>\n",
       "      <td>37i9dQZF1DWWOGXILUAh53</td>\n",
       "      <td>Fresh Dance Pop</td>\n",
       "      <td>99</td>\n",
       "      <td>spotify</td>\n",
       "      <td>Spotify</td>\n",
       "      <td>50608</td>\n",
       "    </tr>\n",
       "  </tbody>\n",
       "</table>\n",
       "</div>"
      ],
      "text/plain": [
       "              playlist_id                                      playlist_name  \\\n",
       "0  37i9dQZF1DWZQaaqNMbbXa                                     Dance Pop Hits   \n",
       "1  6dtY8MCZ4ExwDvsfs5EARz                             Dance Pop Hits 2021 🕺💃   \n",
       "2  4SdfG4cPG3skmTiQLozZGh                                   Dance Pop Tunes    \n",
       "3  6RAGRcbf29KQhJpP3eD8cu  Best Music For Gaming 2021 🎮 Future Bass & Dan...   \n",
       "4  37i9dQZF1DWWOGXILUAh53                                    Fresh Dance Pop   \n",
       "\n",
       "   playlist_total_tracks         owner_id       owner_name  total_followers  \n",
       "0                    150          spotify          Spotify           196168  \n",
       "1                     61          topsify          Topsify            86201  \n",
       "2                    105      sonymusicnl  Filtr Nederland            64588  \n",
       "3                     98  magicmusicsquad    Magic Records            54152  \n",
       "4                     99          spotify          Spotify            50608  "
      ]
     },
     "metadata": {},
     "output_type": "display_data"
    },
    {
     "name": "stdout",
     "output_type": "stream",
     "text": [
      "**** Null Checks\n"
     ]
    },
    {
     "data": {
      "text/plain": [
       "playlist_id              0\n",
       "playlist_name            0\n",
       "playlist_total_tracks    0\n",
       "owner_id                 0\n",
       "owner_name               0\n",
       "total_followers          0\n",
       "dtype: int64"
      ]
     },
     "metadata": {},
     "output_type": "display_data"
    }
   ],
   "source": [
    "explore_data(tracks_df_merged2)"
   ]
  },
  {
   "cell_type": "markdown",
   "metadata": {},
   "source": [
    "## Save merged data"
   ]
  },
  {
   "cell_type": "code",
   "execution_count": 119,
   "metadata": {},
   "outputs": [],
   "source": [
    "tracks_df_merged2.to_csv(\"data/genres_df.csv\", index=False)"
   ]
  },
  {
   "cell_type": "markdown",
   "metadata": {},
   "source": [
    "## 2. Compare histograms of 2 playlist sets"
   ]
  },
  {
   "cell_type": "code",
   "execution_count": null,
   "metadata": {
    "ExecuteTime": {
     "end_time": "2021-02-02T11:22:10.069065Z",
     "start_time": "2021-02-02T11:22:03.489609Z"
    },
    "tags": []
   },
   "outputs": [],
   "source": [
    "for col in ['popularity', 'danceability', 'energy', 'key',\n",
    "       'loudness', 'mode', 'speechiness', 'acousticness', 'instrumentalness',\n",
    "       'liveness', 'valence', 'tempo']:\n",
    "    fig = plt.figure()\n",
    "    ax= fig.add_subplot(111)\n",
    "    \n",
    "    sns.distplot(tracks1_df[col], ax=ax, label= KEYWORD1)\n",
    "    sns.distplot(tracks2_df[col], ax=ax, label= KEYWORD2)\n",
    "    plt.title(\"%s vs %s: %s \" % (KEYWORD1,KEYWORD2,col))\n",
    "    plt.ylabel('Frequency')\n",
    "    plt.legend(frameon=False)\n",
    "    plt.show()\n"
   ]
  },
  {
   "cell_type": "markdown",
   "metadata": {},
   "source": [
    ">Q: What feature/s best distinguish the 2 categories from each other? Does it make sense to use this as a feature for a classification model?"
   ]
  },
  {
   "cell_type": "markdown",
   "metadata": {},
   "source": [
    "## 3. Feature Engineering"
   ]
  },
  {
   "cell_type": "code",
   "execution_count": null,
   "metadata": {
    "ExecuteTime": {
     "end_time": "2021-02-02T11:27:11.541466Z",
     "start_time": "2021-02-02T11:27:11.522376Z"
    }
   },
   "outputs": [],
   "source": [
    "#get union of two playlist tracks list\n",
    "tracks_df = pd.concat([tracks1_df,tracks2_df])\n",
    "tracks1_df.shape, tracks2_df.shape, tracks_df.shape"
   ]
  },
  {
   "cell_type": "code",
   "execution_count": null,
   "metadata": {
    "ExecuteTime": {
     "end_time": "2021-02-02T11:27:12.435024Z",
     "start_time": "2021-02-02T11:27:12.418087Z"
    }
   },
   "outputs": [],
   "source": [
    "#retain only distinct tracks per keyword\n",
    "tracks_df =tracks_df.drop_duplicates(subset='track_id')\n",
    "tracks_df.shape"
   ]
  },
  {
   "cell_type": "code",
   "execution_count": null,
   "metadata": {
    "ExecuteTime": {
     "end_time": "2021-02-02T11:27:16.600435Z",
     "start_time": "2021-02-02T11:27:15.967388Z"
    }
   },
   "outputs": [],
   "source": [
    "#Normalize loudness\n",
    "from sklearn.preprocessing import MinMaxScaler\n",
    "scaler = MinMaxScaler()\n",
    "\n",
    "tracks_df['loudness'] = scaler.fit_transform(tracks_df[['loudness']])\n",
    "tracks_df['loudness'].describe()\n"
   ]
  },
  {
   "cell_type": "code",
   "execution_count": null,
   "metadata": {
    "ExecuteTime": {
     "end_time": "2021-02-02T11:27:19.737318Z",
     "start_time": "2021-02-02T11:27:19.717486Z"
    }
   },
   "outputs": [],
   "source": [
    "#Normalize tempo\n",
    "tracks_df['tempo'] =  scaler.fit_transform(tracks_df[['tempo']])\n",
    "#check\n",
    "tracks_df['tempo'].describe()\n"
   ]
  },
  {
   "cell_type": "code",
   "execution_count": null,
   "metadata": {
    "ExecuteTime": {
     "end_time": "2021-02-02T11:28:08.102417Z",
     "start_time": "2021-02-02T11:28:08.096019Z"
    }
   },
   "outputs": [],
   "source": [
    "# map genres to numbers\n",
    "tracks_df['genre_id'] = tracks_df['genre'].map({KEYWORD1:1,KEYWORD2:2})"
   ]
  },
  {
   "cell_type": "markdown",
   "metadata": {},
   "source": [
    "## 4. Preview possible groupings"
   ]
  },
  {
   "cell_type": "markdown",
   "metadata": {},
   "source": [
    ">Q: Pick the 2 best distinguishing features of the 2 playlist sets and plot each row as a scatterplot/distplot colored by genre\n"
   ]
  },
  {
   "cell_type": "code",
   "execution_count": null,
   "metadata": {
    "ExecuteTime": {
     "end_time": "2021-02-02T11:28:30.278162Z",
     "start_time": "2021-02-02T11:28:29.801279Z"
    }
   },
   "outputs": [],
   "source": [
    "sns.scatterplot(data=tracks_df, x='energy', y='tempo', hue='genre')"
   ]
  },
  {
   "cell_type": "code",
   "execution_count": null,
   "metadata": {
    "ExecuteTime": {
     "end_time": "2021-02-02T11:29:25.077930Z",
     "start_time": "2021-02-02T11:29:22.925929Z"
    }
   },
   "outputs": [],
   "source": [
    "fig = plt.figure()\n",
    "ax= fig.add_subplot(111)\n",
    "\n",
    "colormaps = ['Reds','Blues']\n",
    "for n,genre in enumerate([KEYWORD1,KEYWORD2]):\n",
    "    df=tracks_df[tracks_df['genre']==genre]\n",
    "    sns.kdeplot(df['energy'],df['tempo'], ax=ax,\\\n",
    "                shade=True, shade_lowest=False, alpha=0.5, cmap=colormaps[n],\\\n",
    "                label=genre)\n",
    "    \n",
    "plt.legend(frameon=False)\n"
   ]
  },
  {
   "cell_type": "markdown",
   "metadata": {},
   "source": [
    "> Q: How would you interpret the resulting scatterplot/distribution?"
   ]
  },
  {
   "cell_type": "markdown",
   "metadata": {},
   "source": [
    "## 5. Model Tuning: kNN"
   ]
  },
  {
   "cell_type": "code",
   "execution_count": null,
   "metadata": {
    "ExecuteTime": {
     "end_time": "2021-02-02T11:30:24.003889Z",
     "start_time": "2021-02-02T11:30:23.877382Z"
    }
   },
   "outputs": [],
   "source": [
    "from sklearn.model_selection import train_test_split, cross_val_score\n",
    "from sklearn.neighbors import KNeighborsClassifier \n",
    "from sklearn.metrics import accuracy_score,roc_curve, auc, confusion_matrix, classification_report"
   ]
  },
  {
   "cell_type": "markdown",
   "metadata": {},
   "source": [
    "Select audio features to use for the model"
   ]
  },
  {
   "cell_type": "code",
   "execution_count": null,
   "metadata": {
    "ExecuteTime": {
     "end_time": "2021-02-02T11:31:46.858620Z",
     "start_time": "2021-02-02T11:31:46.844373Z"
    }
   },
   "outputs": [],
   "source": [
    "# create feature matrix (X)\n",
    "feature_cols = ['energy','tempo','speechiness']\n",
    "X = tracks_df[feature_cols]\n",
    "y = tracks_df['genre_id']\n",
    "\n",
    "# creating training set, test set and checking shapes \n",
    "X_train,X_test,Y_train,Y_test = train_test_split(X,y, test_size=0.2)\n",
    "print(\"Shape of X_Train:\"+str(X_train.shape))\n",
    "print(\"Shape of y_Train:\"+str(Y_train.shape))\n",
    "print(\"Shape of X_Test:\"+str(X_test.shape))\n",
    "print(\"Shape of y_Test:\"+str(Y_test.shape))\n"
   ]
  },
  {
   "cell_type": "markdown",
   "metadata": {},
   "source": [
    "Perform KNN using K= [1..50] and validate using k-fold k = 5"
   ]
  },
  {
   "cell_type": "code",
   "execution_count": null,
   "metadata": {
    "ExecuteTime": {
     "end_time": "2021-02-02T11:34:46.489000Z",
     "start_time": "2021-02-02T11:34:38.008758Z"
    },
    "scrolled": true,
    "tags": []
   },
   "outputs": [],
   "source": [
    "cv_scores = []\n",
    "neighbors = np.arange(2,51)\n",
    "\n",
    "for k in neighbors:\n",
    "    print('Fitting for k=%d' % k)\n",
    "    knn = KNeighborsClassifier(n_neighbors=k)\n",
    "    scores = cross_val_score(knn, X_train, Y_train, cv=5, scoring='accuracy')\n",
    "    cv_scores.append(scores.mean())"
   ]
  },
  {
   "cell_type": "markdown",
   "metadata": {},
   "source": [
    "Choose optimal value of K"
   ]
  },
  {
   "cell_type": "code",
   "execution_count": null,
   "metadata": {
    "ExecuteTime": {
     "end_time": "2021-02-02T11:36:04.994854Z",
     "start_time": "2021-02-02T11:36:04.723845Z"
    },
    "tags": []
   },
   "outputs": [],
   "source": [
    "# changing to misclassification error\n",
    "mse = [1 - x for x in cv_scores]\n",
    "\n",
    "# determining best k\n",
    "optimal_k = neighbors[mse.index(min(mse))]\n",
    "print(\"The optimal number of neighbors is {}\".format(optimal_k))\n",
    "\n",
    "# plot misclassification error vs k\n",
    "plt.plot(neighbors, mse)\n",
    "plt.xlabel(\"Number of Neighbors K\")\n",
    "plt.ylabel(\"Misclassification Error\")\n",
    "plt.show()"
   ]
  },
  {
   "cell_type": "markdown",
   "metadata": {},
   "source": [
    "Compute accuracy of optimal K for the testing set"
   ]
  },
  {
   "cell_type": "code",
   "execution_count": null,
   "metadata": {
    "ExecuteTime": {
     "end_time": "2021-02-02T11:37:25.935196Z",
     "start_time": "2021-02-02T11:37:25.873193Z"
    }
   },
   "outputs": [],
   "source": [
    "knn_optimal = KNeighborsClassifier(n_neighbors=optimal_k)\n",
    "\n",
    "# fitting the model\n",
    "knn_optimal.fit(X_train, Y_train)\n",
    "\n",
    "# predict the response\n",
    "pred = knn_optimal.predict(X_test)\n",
    "\n",
    "# evaluate accuracy\n",
    "acc = accuracy_score(Y_test, pred) * 100\n",
    "print('\\nThe accuracy of the knn classifier for k = %d is %f%%' % (optimal_k, acc))"
   ]
  },
  {
   "cell_type": "code",
   "execution_count": null,
   "metadata": {},
   "outputs": [],
   "source": []
  },
  {
   "cell_type": "code",
   "execution_count": null,
   "metadata": {},
   "outputs": [],
   "source": [
    "print(confusion_matrix(y,knn_optimal.predict(X)))"
   ]
  },
  {
   "cell_type": "markdown",
   "metadata": {},
   "source": [
    "Create a classification report"
   ]
  },
  {
   "cell_type": "code",
   "execution_count": null,
   "metadata": {
    "ExecuteTime": {
     "end_time": "2021-02-02T11:38:11.704518Z",
     "start_time": "2021-02-02T11:38:11.502144Z"
    }
   },
   "outputs": [],
   "source": [
    "print(classification_report(y,knn_optimal.predict(X)))"
   ]
  },
  {
   "cell_type": "markdown",
   "metadata": {},
   "source": [
    "- accuracy = all correct /all\n",
    "- precision =  TP/TP+FP\n",
    "- recall = TP/TP+FN\n",
    "- f1-score = weighted average of Precision and Recall\n",
    "        F1 Score = 2*(Recall * Precision) / (Recall + Precision)\n",
    "- support = number of items in the class\n",
    "\n",
    "- macro ave = average of the unweighted mean per label\n",
    "- weighted ave = average of the weighted mean per label\n"
   ]
  },
  {
   "cell_type": "markdown",
   "metadata": {},
   "source": [
    "Plot an ROC curve for each position type prediction using the optimal KNN model"
   ]
  },
  {
   "cell_type": "code",
   "execution_count": null,
   "metadata": {
    "ExecuteTime": {
     "end_time": "2021-02-02T11:39:25.928529Z",
     "start_time": "2021-02-02T11:39:25.484616Z"
    }
   },
   "outputs": [],
   "source": [
    "y_scores = knn_optimal.predict_proba(X_test)\n",
    "genres = tracks_df['genre'].unique()\n",
    "\n",
    "fig = plt.figure(figsize=[8,5])\n",
    "\n",
    "for i in np.arange(len(genres)):\n",
    "    genre_id = i+1\n",
    "    y_test =[1 if k==genre_id else 0 for k in Y_test]\n",
    "    fpr, tpr, thresholds = roc_curve(y_test, y_scores[:, i])\n",
    "    roc_auc = auc(fpr, tpr)\n",
    "\n",
    "    ax = fig.add_subplot('1'+str(len(genres))+str(i))\n",
    "    plt.plot(fpr, tpr, 'b', label = 'AUC = %0.2f' % roc_auc)\n",
    "    plt.legend(loc = 'lower right')\n",
    "    plt.plot([0, 1], [0, 1],'r--')\n",
    "    plt.xlim([0, 1])\n",
    "    plt.ylim([0, 1])\n",
    "    plt.ylabel('True Positive Rate')\n",
    "    plt.xlabel('False Positive Rate')\n",
    "    plt.title('Y = '+str(genres[i]))\n"
   ]
  },
  {
   "cell_type": "markdown",
   "metadata": {},
   "source": [
    "## 6. Model Tuning: SVM"
   ]
  },
  {
   "cell_type": "raw",
   "metadata": {
    "ExecuteTime": {
     "end_time": "2021-02-02T11:41:23.043741Z",
     "start_time": "2021-02-02T11:41:23.034309Z"
    }
   },
   "source": [
    "from sklearn.svm import SVC"
   ]
  },
  {
   "cell_type": "raw",
   "metadata": {
    "ExecuteTime": {
     "end_time": "2021-02-02T11:41:23.569898Z",
     "start_time": "2021-02-02T11:41:23.557361Z"
    }
   },
   "source": [
    "# https://scikit-learn.org/stable/auto_examples/svm/plot_iris_svc.html#sphx-glr-auto-examples-svm-plot-iris-svc-py\n",
    "def make_meshgrid(x, y, h=.02):\n",
    "    \"\"\"Create a mesh of points to plot in\n",
    "\n",
    "    Parameters\n",
    "    ----------\n",
    "    x: data to base x-axis meshgrid on\n",
    "    y: data to base y-axis meshgrid on\n",
    "    h: stepsize for meshgrid, optional\n",
    "\n",
    "    Returns\n",
    "    -------\n",
    "    xx, yy : ndarray\n",
    "    \"\"\"\n",
    "    xmgn= (x.max()-x.min())*0.25\n",
    "    ymgn = (y.max()-y.min())*0.25\n",
    "    \n",
    "    x_min, x_max = x.min() - xmgn, x.max() + xmgn\n",
    "    y_min, y_max = y.min() - ymgn, y.max() + ymgn\n",
    "    \n",
    "    xx, yy = np.meshgrid(np.arange(x_min, x_max, h),\n",
    "                         np.arange(y_min, y_max, h))\n",
    "    return xx, yy\n",
    "\n",
    "\n",
    "def plot_contours(ax, clf, xx, yy, xlims,ylims, **params):\n",
    "    \"\"\"Plot the decision boundaries for a classifier.\n",
    "\n",
    "    Parameters\n",
    "    ----------\n",
    "    ax: matplotlib axes object\n",
    "    clf: a classifier\n",
    "    xx: meshgrid ndarray\n",
    "    yy: meshgrid ndarray\n",
    "    params: dictionary of params to pass to contourf, optional\n",
    "    \"\"\"\n",
    "    Z = clf.predict(np.c_[xx.ravel(), yy.ravel()])\n",
    "    Z = Z.reshape(xx.shape)\n",
    "    out = ax.contourf(xx, yy, Z, **params)\n",
    "    ax.set_ylim(ylims)\n",
    "    ax.set_xlim(xlims)\n",
    "    \n",
    "    return out\n",
    "\n",
    "#visualize support vectors\n",
    "def plot_vector_bounds(X,svm_model):\n",
    "    fig,ax=plt.subplots()\n",
    "\n",
    "    X0 = X.to_numpy()[:, 0]\n",
    "    X1 = X.to_numpy()[:, 1]\n",
    "    xx, yy = make_meshgrid(X0, X1)\n",
    "\n",
    "    plot_contours(ax, svm_model, xx, yy, [0,1],[0,1],\n",
    "                      cmap=plt.cm.coolwarm, alpha=0.8)\n",
    "    ax.scatter(X0, X1, c=y,cmap=plt.cm.coolwarm, s=20, edgecolors='k')"
   ]
  },
  {
   "cell_type": "raw",
   "metadata": {
    "ExecuteTime": {
     "end_time": "2021-02-02T13:05:53.202486Z",
     "start_time": "2021-02-02T13:05:53.187919Z"
    }
   },
   "source": [
    "# create feature matrix (X)\n",
    "#feature_cols = ['energy','tempo','loudness']\n",
    "feature_cols = ['energy','tempo']\n",
    "X = tracks_df[feature_cols]\n",
    "y = tracks_df['genre_id']\n",
    "\n",
    "# creating training set, test set and checking shapes \n",
    "X_train,X_test,Y_train,Y_test = train_test_split(X,y, test_size=0.2)\n",
    "print(\"Shape of X_Train:\"+str(X_train.shape))\n",
    "print(\"Shape of y_Train:\"+str(Y_train.shape))\n",
    "print(\"Shape of X_Test:\"+str(X_test.shape))\n",
    "print(\"Shape of y_Test:\"+str(Y_test.shape))\n"
   ]
  },
  {
   "cell_type": "raw",
   "metadata": {},
   "source": [
    ">Q: Go back to the scatter/distplot. What seems to be the appropriate kernel type to use for the classification?"
   ]
  },
  {
   "cell_type": "raw",
   "metadata": {},
   "source": [
    "Fit model and use at least 2 kernels"
   ]
  },
  {
   "cell_type": "raw",
   "metadata": {},
   "source": []
  },
  {
   "cell_type": "raw",
   "metadata": {
    "ExecuteTime": {
     "end_time": "2021-02-02T13:05:56.381855Z",
     "start_time": "2021-02-02T13:05:56.305390Z"
    }
   },
   "source": [
    "svm_model1 = SVC(kernel='linear')\n",
    "pred1 = svm_model1.fit(X_train, Y_train) "
   ]
  },
  {
   "cell_type": "raw",
   "metadata": {
    "ExecuteTime": {
     "end_time": "2021-02-02T13:05:57.750761Z",
     "start_time": "2021-02-02T13:05:57.549240Z"
    },
    "tags": []
   },
   "source": [
    "#plot bounds -- run only on two\n",
    "plot_vector_bounds(X,svm_model1)"
   ]
  },
  {
   "cell_type": "raw",
   "metadata": {
    "ExecuteTime": {
     "end_time": "2021-02-02T11:44:05.711317Z",
     "start_time": "2021-02-02T11:44:05.652717Z"
    }
   },
   "source": [
    "#show classification\n",
    "print(classification_report(y,svm_model1.predict(X)))"
   ]
  },
  {
   "cell_type": "raw",
   "metadata": {
    "ExecuteTime": {
     "end_time": "2021-02-02T11:45:09.832237Z",
     "start_time": "2021-02-02T11:45:09.655865Z"
    }
   },
   "source": [
    "#polynomial kernel\n",
    "svm_model2 = SVC(kernel='poly', degree=3, gamma=0.9)\n",
    "pred2 = svm_model2.fit(X, y) "
   ]
  },
  {
   "cell_type": "raw",
   "metadata": {
    "ExecuteTime": {
     "end_time": "2021-02-02T11:45:12.262188Z",
     "start_time": "2021-02-02T11:45:11.721062Z"
    }
   },
   "source": [
    "#plot bounds\n",
    "plot_vector_bounds(X,svm_model2)"
   ]
  },
  {
   "cell_type": "raw",
   "metadata": {
    "ExecuteTime": {
     "end_time": "2021-02-02T11:45:19.967238Z",
     "start_time": "2021-02-02T11:45:19.894749Z"
    }
   },
   "source": [
    "#show classification\n",
    "print(classification_report(y,svm_model2.predict(X)))"
   ]
  },
  {
   "cell_type": "raw",
   "metadata": {
    "ExecuteTime": {
     "end_time": "2021-02-02T11:45:57.773612Z",
     "start_time": "2021-02-02T11:45:57.547601Z"
    }
   },
   "source": [
    "#radial kernel\n",
    "svm_model3 = SVC(kernel='rbf', gamma=0.8)\n",
    "pred3 = svm_model3.fit(X, y) "
   ]
  },
  {
   "cell_type": "raw",
   "metadata": {
    "ExecuteTime": {
     "end_time": "2021-02-02T11:46:00.344386Z",
     "start_time": "2021-02-02T11:45:59.840938Z"
    }
   },
   "source": [
    "#plot bounds\n",
    "plot_vector_bounds(X,svm_model3)"
   ]
  },
  {
   "cell_type": "raw",
   "metadata": {
    "ExecuteTime": {
     "end_time": "2021-02-02T11:46:07.145198Z",
     "start_time": "2021-02-02T11:46:07.026260Z"
    }
   },
   "source": [
    "#show classification\n",
    "print(classification_report(y,svm_model3.predict(X)))"
   ]
  },
  {
   "cell_type": "markdown",
   "metadata": {},
   "source": [
    "## 7. Model Selection"
   ]
  },
  {
   "cell_type": "markdown",
   "metadata": {},
   "source": [
    "Which between KNN and SVM performed better? \n",
    "Create a column matching the predicted genre and probability of the better model to each of the tracks"
   ]
  },
  {
   "cell_type": "code",
   "execution_count": null,
   "metadata": {},
   "outputs": [],
   "source": []
  },
  {
   "cell_type": "code",
   "execution_count": null,
   "metadata": {},
   "outputs": [],
   "source": [
    "tracks_df[feature_cols].values.reshape(1,-1)"
   ]
  },
  {
   "cell_type": "code",
   "execution_count": null,
   "metadata": {},
   "outputs": [],
   "source": [
    "tracks_df.head()"
   ]
  },
  {
   "cell_type": "code",
   "execution_count": null,
   "metadata": {},
   "outputs": [],
   "source": [
    "tracks_df.shape"
   ]
  },
  {
   "cell_type": "code",
   "execution_count": null,
   "metadata": {},
   "outputs": [],
   "source": [
    "tracks_df = tracks_df.dropna()"
   ]
  },
  {
   "cell_type": "code",
   "execution_count": null,
   "metadata": {},
   "outputs": [],
   "source": [
    "#tracks_df = tracks_df[(~tracks_df.isnan())]"
   ]
  },
  {
   "cell_type": "code",
   "execution_count": null,
   "metadata": {},
   "outputs": [],
   "source": [
    "tracks_df.shape"
   ]
  },
  {
   "cell_type": "code",
   "execution_count": null,
   "metadata": {},
   "outputs": [],
   "source": [
    "tracks_df.columns"
   ]
  },
  {
   "cell_type": "code",
   "execution_count": null,
   "metadata": {},
   "outputs": [],
   "source": [
    "tracks_df['predicted_genre_id'] = tracks_df.apply(lambda x:  knn_optimal.predict(x[feature_cols].values.reshape(1,-1))[0]\\\n",
    "                                               , axis=1)"
   ]
  },
  {
   "cell_type": "code",
   "execution_count": null,
   "metadata": {
    "ExecuteTime": {
     "end_time": "2021-02-02T11:48:29.270158Z",
     "start_time": "2021-02-02T11:48:18.673265Z"
    }
   },
   "outputs": [],
   "source": [
    "tracks_df['predicted_genre_prob'] = tracks_df.apply(lambda x:  np.max(knn_optimal.predict_proba(x[feature_cols].values.reshape(1,-1)))\\\n",
    "                                                    , axis=1)\n",
    "tracks_df"
   ]
  },
  {
   "cell_type": "markdown",
   "metadata": {},
   "source": [
    "Check tracks mistakenly classified with but high probability "
   ]
  },
  {
   "cell_type": "code",
   "execution_count": null,
   "metadata": {
    "ExecuteTime": {
     "end_time": "2021-02-02T11:49:44.347259Z",
     "start_time": "2021-02-02T11:49:44.251937Z"
    },
    "scrolled": true
   },
   "outputs": [],
   "source": [
    "tracks_df[(tracks_df['predicted_genre_id']!=tracks_df['genre_id'])&(tracks_df['predicted_genre_prob']>0.9)]"
   ]
  },
  {
   "cell_type": "markdown",
   "metadata": {},
   "source": [
    "> Q: Focus on any of the songs you know that made it in the misclassified list (you may listen to some of them) \n",
    "    Does it make sense that the model misclassfied this song? Why or why not?"
   ]
  },
  {
   "cell_type": "markdown",
   "metadata": {},
   "source": [
    ">Q: Would this model correctly classify tracks from the Spotify charting tracks dataset?"
   ]
  },
  {
   "cell_type": "code",
   "execution_count": null,
   "metadata": {
    "ExecuteTime": {
     "end_time": "2021-02-02T11:50:21.723354Z",
     "start_time": "2021-02-02T11:50:21.631281Z"
    }
   },
   "outputs": [],
   "source": [
    "chart_tracks_df = pd.read_csv(\"data/spotify_daily_charts_tracks.csv\")\n",
    "\n",
    "#chart_tracks_df = chart_tracks_df[(~chart_tracks_df.isnan())]\n",
    "chart_tracks_df = chart_tracks_df = chart_tracks_df.dropna()\n",
    "\n",
    "chart_tracks_df.head()"
   ]
  },
  {
   "cell_type": "code",
   "execution_count": null,
   "metadata": {
    "ExecuteTime": {
     "end_time": "2021-02-02T11:50:36.424349Z",
     "start_time": "2021-02-02T11:50:25.362194Z"
    }
   },
   "outputs": [],
   "source": [
    "chart_tracks_df['predicted_genre_id'] = chart_tracks_df.apply(lambda x:  knn_optimal.predict(x[feature_cols].values.reshape(1,-1))[0]\\\n",
    "                                               , axis=1)\n",
    "chart_tracks_df['predicted_genre_prob'] = chart_tracks_df.apply(lambda x:  np.max(knn_optimal.predict_proba(x[feature_cols].values.reshape(1,-1)))\\\n",
    "                                                    , axis=1)\n",
    "chart_tracks_df.head()"
   ]
  },
  {
   "cell_type": "code",
   "execution_count": null,
   "metadata": {
    "ExecuteTime": {
     "end_time": "2021-02-02T11:50:36.517884Z",
     "start_time": "2021-02-02T11:50:36.431878Z"
    }
   },
   "outputs": [],
   "source": [
    "#Check tracks classified with higher probability\n",
    "chart_tracks_df.sort_values(['predicted_genre_prob'])[:10]"
   ]
  },
  {
   "cell_type": "code",
   "execution_count": null,
   "metadata": {
    "ExecuteTime": {
     "end_time": "2021-02-02T11:51:01.016245Z",
     "start_time": "2021-02-02T11:51:00.627389Z"
    }
   },
   "outputs": [],
   "source": [
    "#View histogram of probabilities\n",
    "chart_tracks_df['predicted_genre_prob'].hist()"
   ]
  },
  {
   "cell_type": "markdown",
   "metadata": {},
   "source": [
    "## Day 7 Exercise\n",
    "1. *Genre Classification (Individual)*\n",
    "\n",
    "    A. Choose up to 6 music genres and obtain track data from the genre's top 20 most-followed playlists in Spotify. A group may distribute the data gathering task by assigning a genre to each person and then pooling all the gathered data in one shared folder. Alternatively, you may also use the provided sample playlist data.\n",
    "    \n",
    "   B. Pick any 2 music genres as your groupings for the classification exercise and repeat Steps 1-7. Make sure to answer the guide questions for each step\n",
    "   \n",
    "   C. Increase the number of features included in the models and repeat Steps 1-7 (but skip code cells for plotting-- viz for >2D will not work). How does this affect the model scores? Find the combination of features that will give you the best accuracy score.\n",
    "   \n",
    "   D. CHALLENGE (optional) Modify the notebook to take in any 3 music genres as groupings and repeat Steps 1-7.\n",
    "   \n",
    "\n",
    "2. *(Optional, but useful to do ahead for your sprint project)*\n",
    "\n",
    "    There are almost [innumerable](https://www.musicgenreslist.com/) named music genres online, but a summarized list  may be found [here](https://www.blisshq.com/music-library-management-blog/2011/01/25/fundamental-music-genre-list/). Can you build a model that can predict **at least 5 genres** listed in the latter with **>70% classification accuracy**?\n",
    "    "
   ]
  },
  {
   "cell_type": "code",
   "execution_count": null,
   "metadata": {},
   "outputs": [],
   "source": []
  },
  {
   "cell_type": "code",
   "execution_count": null,
   "metadata": {},
   "outputs": [],
   "source": []
  }
 ],
 "metadata": {
  "kernelspec": {
   "display_name": "Python 3",
   "language": "python",
   "name": "python3"
  },
  "language_info": {
   "codemirror_mode": {
    "name": "ipython",
    "version": 3
   },
   "file_extension": ".py",
   "mimetype": "text/x-python",
   "name": "python",
   "nbconvert_exporter": "python",
   "pygments_lexer": "ipython3",
   "version": "3.8.8"
  }
 },
 "nbformat": 4,
 "nbformat_minor": 4
}
