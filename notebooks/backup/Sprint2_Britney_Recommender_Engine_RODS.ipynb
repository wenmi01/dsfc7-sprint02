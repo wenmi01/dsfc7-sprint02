{
 "cells": [
  {
   "cell_type": "markdown",
   "metadata": {},
   "source": [
    "# Britney Spears Recommender Model\n",
    "\n",
    "### Creating your own recommender engine pool and generating recommendations from a seed track"
   ]
  },
  {
   "cell_type": "code",
   "execution_count": 1,
   "metadata": {
    "ExecuteTime": {
     "end_time": "2021-01-21T15:12:52.278399Z",
     "start_time": "2021-01-21T15:12:46.980742Z"
    }
   },
   "outputs": [],
   "source": [
    "#import packages\n",
    "import pandas as pd\n",
    "import numpy as np\n",
    "\n",
    "import seaborn as sns\n",
    "import matplotlib.pyplot as plt\n",
    "\n",
    "\n",
    "from sklearn.model_selection import train_test_split, cross_val_score\n",
    "from sklearn.neighbors import KNeighborsClassifier \n",
    "from sklearn.metrics import accuracy_score,roc_curve, auc, confusion_matrix, classification_report\n",
    "from sklearn.metrics.pairwise import euclidean_distances, manhattan_distances, cosine_similarity\n",
    "\n",
    "from sklearn.preprocessing import MinMaxScaler\n",
    "scaler = MinMaxScaler()\n",
    "\n",
    "%matplotlib inline"
   ]
  },
  {
   "cell_type": "markdown",
   "metadata": {},
   "source": [
    "## Part 1. Recommender Engine Pool"
   ]
  },
  {
   "cell_type": "markdown",
   "metadata": {},
   "source": [
    "### 1. Clean Britney playlist data"
   ]
  },
  {
   "cell_type": "code",
   "execution_count": 2,
   "metadata": {},
   "outputs": [
    {
     "output_type": "execute_result",
     "data": {
      "text/plain": [
       "                 track_id              track_name               artist_id  \\\n",
       "0  3MjUtNVVq3C8Fn0MP3zhXa   ...Baby One More Time  26dSoYclwsYLMAKD3tpOr4   \n",
       "1  6I9VzXrHxO9rA9A5euc8Ak                   Toxic  26dSoYclwsYLMAKD3tpOr4   \n",
       "2  6naxalmIoLFWR0siv8dnQQ  Oops!...I Did It Again  26dSoYclwsYLMAKD3tpOr4   \n",
       "3  4fixebDZAVToLbUCuEloa2               Womanizer  26dSoYclwsYLMAKD3tpOr4   \n",
       "4  6ic8OlLUNEATToEFU3xmaH              Gimme More  26dSoYclwsYLMAKD3tpOr4   \n",
       "\n",
       "      artist_name                album_id  duration release_date  popularity  \\\n",
       "0  Britney Spears  3WNxdumkSMGMJRhEgK80qx    211066   1999-01-12          79   \n",
       "1  Britney Spears  0z7pVBGOD7HCIB7S8eLkLI    198800   2003-11-13          82   \n",
       "2  Britney Spears  5PmgtkodFl2Om3hMXONDll    211160   2000-05-16          79   \n",
       "3  Britney Spears  2tve5DGwub1TtbX1khPX5j    224400   2008-12-02          78   \n",
       "4  Britney Spears  1ePkYcH5ZQCb1b4tQeiEDj    251240   2007-10-25          83   \n",
       "\n",
       "   danceability  energy  ...  loudness  mode  speechiness  acousticness  \\\n",
       "0         0.759   0.699  ...    -5.745     0       0.0307        0.2020   \n",
       "1         0.774   0.838  ...    -3.914     0       0.1140        0.0249   \n",
       "2         0.751   0.834  ...    -5.444     0       0.0437        0.3000   \n",
       "3         0.724   0.695  ...    -5.226     1       0.0622        0.0730   \n",
       "4         0.788   0.844  ...    -3.131     1       0.0334        0.2500   \n",
       "\n",
       "   instrumentalness  liveness  valence    tempo             playlist_id  \\\n",
       "0          0.000131    0.4430    0.907   92.960  3MjUtNVVq3C8Fn0MP3zhXa   \n",
       "1          0.025000    0.2420    0.924  143.040  6I9VzXrHxO9rA9A5euc8Ak   \n",
       "2          0.000018    0.3550    0.894   95.053  6naxalmIoLFWR0siv8dnQQ   \n",
       "3          0.000000    0.0889    0.235  139.000  4fixebDZAVToLbUCuEloa2   \n",
       "4          0.000678    0.0723    0.382  113.324  6ic8OlLUNEATToEFU3xmaH   \n",
       "\n",
       "            playlist_name  \n",
       "0  3MjUtNVVq3C8Fn0MP3zhXa  \n",
       "1  6I9VzXrHxO9rA9A5euc8Ak  \n",
       "2  6naxalmIoLFWR0siv8dnQQ  \n",
       "3  4fixebDZAVToLbUCuEloa2  \n",
       "4  6ic8OlLUNEATToEFU3xmaH  \n",
       "\n",
       "[5 rows x 21 columns]"
      ],
      "text/html": "<div>\n<style scoped>\n    .dataframe tbody tr th:only-of-type {\n        vertical-align: middle;\n    }\n\n    .dataframe tbody tr th {\n        vertical-align: top;\n    }\n\n    .dataframe thead th {\n        text-align: right;\n    }\n</style>\n<table border=\"1\" class=\"dataframe\">\n  <thead>\n    <tr style=\"text-align: right;\">\n      <th></th>\n      <th>track_id</th>\n      <th>track_name</th>\n      <th>artist_id</th>\n      <th>artist_name</th>\n      <th>album_id</th>\n      <th>duration</th>\n      <th>release_date</th>\n      <th>popularity</th>\n      <th>danceability</th>\n      <th>energy</th>\n      <th>...</th>\n      <th>loudness</th>\n      <th>mode</th>\n      <th>speechiness</th>\n      <th>acousticness</th>\n      <th>instrumentalness</th>\n      <th>liveness</th>\n      <th>valence</th>\n      <th>tempo</th>\n      <th>playlist_id</th>\n      <th>playlist_name</th>\n    </tr>\n  </thead>\n  <tbody>\n    <tr>\n      <th>0</th>\n      <td>3MjUtNVVq3C8Fn0MP3zhXa</td>\n      <td>...Baby One More Time</td>\n      <td>26dSoYclwsYLMAKD3tpOr4</td>\n      <td>Britney Spears</td>\n      <td>3WNxdumkSMGMJRhEgK80qx</td>\n      <td>211066</td>\n      <td>1999-01-12</td>\n      <td>79</td>\n      <td>0.759</td>\n      <td>0.699</td>\n      <td>...</td>\n      <td>-5.745</td>\n      <td>0</td>\n      <td>0.0307</td>\n      <td>0.2020</td>\n      <td>0.000131</td>\n      <td>0.4430</td>\n      <td>0.907</td>\n      <td>92.960</td>\n      <td>3MjUtNVVq3C8Fn0MP3zhXa</td>\n      <td>3MjUtNVVq3C8Fn0MP3zhXa</td>\n    </tr>\n    <tr>\n      <th>1</th>\n      <td>6I9VzXrHxO9rA9A5euc8Ak</td>\n      <td>Toxic</td>\n      <td>26dSoYclwsYLMAKD3tpOr4</td>\n      <td>Britney Spears</td>\n      <td>0z7pVBGOD7HCIB7S8eLkLI</td>\n      <td>198800</td>\n      <td>2003-11-13</td>\n      <td>82</td>\n      <td>0.774</td>\n      <td>0.838</td>\n      <td>...</td>\n      <td>-3.914</td>\n      <td>0</td>\n      <td>0.1140</td>\n      <td>0.0249</td>\n      <td>0.025000</td>\n      <td>0.2420</td>\n      <td>0.924</td>\n      <td>143.040</td>\n      <td>6I9VzXrHxO9rA9A5euc8Ak</td>\n      <td>6I9VzXrHxO9rA9A5euc8Ak</td>\n    </tr>\n    <tr>\n      <th>2</th>\n      <td>6naxalmIoLFWR0siv8dnQQ</td>\n      <td>Oops!...I Did It Again</td>\n      <td>26dSoYclwsYLMAKD3tpOr4</td>\n      <td>Britney Spears</td>\n      <td>5PmgtkodFl2Om3hMXONDll</td>\n      <td>211160</td>\n      <td>2000-05-16</td>\n      <td>79</td>\n      <td>0.751</td>\n      <td>0.834</td>\n      <td>...</td>\n      <td>-5.444</td>\n      <td>0</td>\n      <td>0.0437</td>\n      <td>0.3000</td>\n      <td>0.000018</td>\n      <td>0.3550</td>\n      <td>0.894</td>\n      <td>95.053</td>\n      <td>6naxalmIoLFWR0siv8dnQQ</td>\n      <td>6naxalmIoLFWR0siv8dnQQ</td>\n    </tr>\n    <tr>\n      <th>3</th>\n      <td>4fixebDZAVToLbUCuEloa2</td>\n      <td>Womanizer</td>\n      <td>26dSoYclwsYLMAKD3tpOr4</td>\n      <td>Britney Spears</td>\n      <td>2tve5DGwub1TtbX1khPX5j</td>\n      <td>224400</td>\n      <td>2008-12-02</td>\n      <td>78</td>\n      <td>0.724</td>\n      <td>0.695</td>\n      <td>...</td>\n      <td>-5.226</td>\n      <td>1</td>\n      <td>0.0622</td>\n      <td>0.0730</td>\n      <td>0.000000</td>\n      <td>0.0889</td>\n      <td>0.235</td>\n      <td>139.000</td>\n      <td>4fixebDZAVToLbUCuEloa2</td>\n      <td>4fixebDZAVToLbUCuEloa2</td>\n    </tr>\n    <tr>\n      <th>4</th>\n      <td>6ic8OlLUNEATToEFU3xmaH</td>\n      <td>Gimme More</td>\n      <td>26dSoYclwsYLMAKD3tpOr4</td>\n      <td>Britney Spears</td>\n      <td>1ePkYcH5ZQCb1b4tQeiEDj</td>\n      <td>251240</td>\n      <td>2007-10-25</td>\n      <td>83</td>\n      <td>0.788</td>\n      <td>0.844</td>\n      <td>...</td>\n      <td>-3.131</td>\n      <td>1</td>\n      <td>0.0334</td>\n      <td>0.2500</td>\n      <td>0.000678</td>\n      <td>0.0723</td>\n      <td>0.382</td>\n      <td>113.324</td>\n      <td>6ic8OlLUNEATToEFU3xmaH</td>\n      <td>6ic8OlLUNEATToEFU3xmaH</td>\n    </tr>\n  </tbody>\n</table>\n<p>5 rows × 21 columns</p>\n</div>"
     },
     "metadata": {},
     "execution_count": 2
    }
   ],
   "source": [
    "britney_df = pd.read_csv('data/Britney Spears_playlist_tracks_data.csv')\n",
    "britney_df.head()"
   ]
  },
  {
   "cell_type": "code",
   "execution_count": 3,
   "metadata": {},
   "outputs": [
    {
     "output_type": "execute_result",
     "data": {
      "text/plain": [
       "(1192, 21)"
      ]
     },
     "metadata": {},
     "execution_count": 3
    }
   ],
   "source": [
    "britney_df =britney_df.drop_duplicates(subset='track_id')\n",
    "britney_df.shape"
   ]
  },
  {
   "cell_type": "code",
   "execution_count": 4,
   "metadata": {},
   "outputs": [
    {
     "output_type": "execute_result",
     "data": {
      "text/plain": [
       "                    track_id                                   track_name  \\\n",
       "0     3MjUtNVVq3C8Fn0MP3zhXa                        ...Baby One More Time   \n",
       "1     6I9VzXrHxO9rA9A5euc8Ak                                        Toxic   \n",
       "2     6naxalmIoLFWR0siv8dnQQ                       Oops!...I Did It Again   \n",
       "3     4fixebDZAVToLbUCuEloa2                                    Womanizer   \n",
       "4     6ic8OlLUNEATToEFU3xmaH                                   Gimme More   \n",
       "...                      ...                                          ...   \n",
       "1187  3K2lg4fY3CunPMeNlMnR32                       Are You Gonna Be There   \n",
       "1188  50haJiO2RhVsnTQ0Iu7lYS  For the Girl Who Has Everything - Radio Mix   \n",
       "1189  0T9Aq8S8WKdXXh6EXM8cB8                           If I'm Not the One   \n",
       "1190  0S2AEPvmKGcdRYgqQP7MXq                            Music of My Heart   \n",
       "1191  4VqXJoSWd0ldZ7h9pgkFWg                                 A Little Bit   \n",
       "\n",
       "                   artist_id      artist_name                album_id  \\\n",
       "0     26dSoYclwsYLMAKD3tpOr4   Britney Spears  3WNxdumkSMGMJRhEgK80qx   \n",
       "1     26dSoYclwsYLMAKD3tpOr4   Britney Spears  0z7pVBGOD7HCIB7S8eLkLI   \n",
       "2     26dSoYclwsYLMAKD3tpOr4   Britney Spears  5PmgtkodFl2Om3hMXONDll   \n",
       "3     26dSoYclwsYLMAKD3tpOr4   Britney Spears  2tve5DGwub1TtbX1khPX5j   \n",
       "4     26dSoYclwsYLMAKD3tpOr4   Britney Spears  1ePkYcH5ZQCb1b4tQeiEDj   \n",
       "...                      ...              ...                     ...   \n",
       "1187  6Ff53KvcvAj5U7Z1vojB5o           *NSYNC  3bhFoH4PFnY4ifK4981U8X   \n",
       "1188  6Ff53KvcvAj5U7Z1vojB5o           *NSYNC  3bhFoH4PFnY4ifK4981U8X   \n",
       "1189  6Ff53KvcvAj5U7Z1vojB5o           *NSYNC  3bhFoH4PFnY4ifK4981U8X   \n",
       "1190  6Ff53KvcvAj5U7Z1vojB5o           *NSYNC  3bhFoH4PFnY4ifK4981U8X   \n",
       "1191  2tFN9ubMXEhdAQvdQxcsma  Jessica Simpson  0QKZ96QQH4lxtr2e4aQLLE   \n",
       "\n",
       "      duration release_date  popularity  danceability  energy  ...  loudness  \\\n",
       "0       211066   1999-01-12          79         0.759   0.699  ...    -5.745   \n",
       "1       198800   2003-11-13          82         0.774   0.838  ...    -3.914   \n",
       "2       211160   2000-05-16          79         0.751   0.834  ...    -5.444   \n",
       "3       224400   2008-12-02          78         0.724   0.695  ...    -5.226   \n",
       "4       251240   2007-10-25          83         0.788   0.844  ...    -3.131   \n",
       "...        ...          ...         ...           ...     ...  ...       ...   \n",
       "1187    246586   2014-07-29          34         0.472   0.725  ...    -5.442   \n",
       "1188    236746   2014-07-29          28         0.579   0.617  ...    -6.667   \n",
       "1189    201413   2014-07-29          30         0.779   0.835  ...    -5.290   \n",
       "1190    270893   2014-07-29          30         0.537   0.606  ...    -7.029   \n",
       "1191    227440   2001-01-01          26         0.695   0.929  ...    -3.340   \n",
       "\n",
       "      mode  speechiness  acousticness  instrumentalness  liveness  valence  \\\n",
       "0        0       0.0307        0.2020          0.000131    0.4430    0.907   \n",
       "1        0       0.1140        0.0249          0.025000    0.2420    0.924   \n",
       "2        0       0.0437        0.3000          0.000018    0.3550    0.894   \n",
       "3        1       0.0622        0.0730          0.000000    0.0889    0.235   \n",
       "4        1       0.0334        0.2500          0.000678    0.0723    0.382   \n",
       "...    ...          ...           ...               ...       ...      ...   \n",
       "1187     1       0.0314        0.1980          0.000000    0.1390    0.409   \n",
       "1188     0       0.0291        0.1700          0.000000    0.0805    0.596   \n",
       "1189     0       0.0378        0.1620          0.000000    0.2550    0.936   \n",
       "1190     1       0.0382        0.3920          0.000000    0.0903    0.411   \n",
       "1191     0       0.0750        0.1420          0.000000    0.4100    0.796   \n",
       "\n",
       "        tempo             playlist_id           playlist_name  \n",
       "0      92.960  3MjUtNVVq3C8Fn0MP3zhXa  3MjUtNVVq3C8Fn0MP3zhXa  \n",
       "1     143.040  6I9VzXrHxO9rA9A5euc8Ak  6I9VzXrHxO9rA9A5euc8Ak  \n",
       "2      95.053  6naxalmIoLFWR0siv8dnQQ  6naxalmIoLFWR0siv8dnQQ  \n",
       "3     139.000  4fixebDZAVToLbUCuEloa2  4fixebDZAVToLbUCuEloa2  \n",
       "4     113.324  6ic8OlLUNEATToEFU3xmaH  6ic8OlLUNEATToEFU3xmaH  \n",
       "...       ...                     ...                     ...  \n",
       "1187   86.030  3K2lg4fY3CunPMeNlMnR32  3K2lg4fY3CunPMeNlMnR32  \n",
       "1188  170.181  50haJiO2RhVsnTQ0Iu7lYS  50haJiO2RhVsnTQ0Iu7lYS  \n",
       "1189  104.016  0T9Aq8S8WKdXXh6EXM8cB8  0T9Aq8S8WKdXXh6EXM8cB8  \n",
       "1190  112.080  0S2AEPvmKGcdRYgqQP7MXq  0S2AEPvmKGcdRYgqQP7MXq  \n",
       "1191   94.002  4VqXJoSWd0ldZ7h9pgkFWg  4VqXJoSWd0ldZ7h9pgkFWg  \n",
       "\n",
       "[1192 rows x 21 columns]"
      ],
      "text/html": "<div>\n<style scoped>\n    .dataframe tbody tr th:only-of-type {\n        vertical-align: middle;\n    }\n\n    .dataframe tbody tr th {\n        vertical-align: top;\n    }\n\n    .dataframe thead th {\n        text-align: right;\n    }\n</style>\n<table border=\"1\" class=\"dataframe\">\n  <thead>\n    <tr style=\"text-align: right;\">\n      <th></th>\n      <th>track_id</th>\n      <th>track_name</th>\n      <th>artist_id</th>\n      <th>artist_name</th>\n      <th>album_id</th>\n      <th>duration</th>\n      <th>release_date</th>\n      <th>popularity</th>\n      <th>danceability</th>\n      <th>energy</th>\n      <th>...</th>\n      <th>loudness</th>\n      <th>mode</th>\n      <th>speechiness</th>\n      <th>acousticness</th>\n      <th>instrumentalness</th>\n      <th>liveness</th>\n      <th>valence</th>\n      <th>tempo</th>\n      <th>playlist_id</th>\n      <th>playlist_name</th>\n    </tr>\n  </thead>\n  <tbody>\n    <tr>\n      <th>0</th>\n      <td>3MjUtNVVq3C8Fn0MP3zhXa</td>\n      <td>...Baby One More Time</td>\n      <td>26dSoYclwsYLMAKD3tpOr4</td>\n      <td>Britney Spears</td>\n      <td>3WNxdumkSMGMJRhEgK80qx</td>\n      <td>211066</td>\n      <td>1999-01-12</td>\n      <td>79</td>\n      <td>0.759</td>\n      <td>0.699</td>\n      <td>...</td>\n      <td>-5.745</td>\n      <td>0</td>\n      <td>0.0307</td>\n      <td>0.2020</td>\n      <td>0.000131</td>\n      <td>0.4430</td>\n      <td>0.907</td>\n      <td>92.960</td>\n      <td>3MjUtNVVq3C8Fn0MP3zhXa</td>\n      <td>3MjUtNVVq3C8Fn0MP3zhXa</td>\n    </tr>\n    <tr>\n      <th>1</th>\n      <td>6I9VzXrHxO9rA9A5euc8Ak</td>\n      <td>Toxic</td>\n      <td>26dSoYclwsYLMAKD3tpOr4</td>\n      <td>Britney Spears</td>\n      <td>0z7pVBGOD7HCIB7S8eLkLI</td>\n      <td>198800</td>\n      <td>2003-11-13</td>\n      <td>82</td>\n      <td>0.774</td>\n      <td>0.838</td>\n      <td>...</td>\n      <td>-3.914</td>\n      <td>0</td>\n      <td>0.1140</td>\n      <td>0.0249</td>\n      <td>0.025000</td>\n      <td>0.2420</td>\n      <td>0.924</td>\n      <td>143.040</td>\n      <td>6I9VzXrHxO9rA9A5euc8Ak</td>\n      <td>6I9VzXrHxO9rA9A5euc8Ak</td>\n    </tr>\n    <tr>\n      <th>2</th>\n      <td>6naxalmIoLFWR0siv8dnQQ</td>\n      <td>Oops!...I Did It Again</td>\n      <td>26dSoYclwsYLMAKD3tpOr4</td>\n      <td>Britney Spears</td>\n      <td>5PmgtkodFl2Om3hMXONDll</td>\n      <td>211160</td>\n      <td>2000-05-16</td>\n      <td>79</td>\n      <td>0.751</td>\n      <td>0.834</td>\n      <td>...</td>\n      <td>-5.444</td>\n      <td>0</td>\n      <td>0.0437</td>\n      <td>0.3000</td>\n      <td>0.000018</td>\n      <td>0.3550</td>\n      <td>0.894</td>\n      <td>95.053</td>\n      <td>6naxalmIoLFWR0siv8dnQQ</td>\n      <td>6naxalmIoLFWR0siv8dnQQ</td>\n    </tr>\n    <tr>\n      <th>3</th>\n      <td>4fixebDZAVToLbUCuEloa2</td>\n      <td>Womanizer</td>\n      <td>26dSoYclwsYLMAKD3tpOr4</td>\n      <td>Britney Spears</td>\n      <td>2tve5DGwub1TtbX1khPX5j</td>\n      <td>224400</td>\n      <td>2008-12-02</td>\n      <td>78</td>\n      <td>0.724</td>\n      <td>0.695</td>\n      <td>...</td>\n      <td>-5.226</td>\n      <td>1</td>\n      <td>0.0622</td>\n      <td>0.0730</td>\n      <td>0.000000</td>\n      <td>0.0889</td>\n      <td>0.235</td>\n      <td>139.000</td>\n      <td>4fixebDZAVToLbUCuEloa2</td>\n      <td>4fixebDZAVToLbUCuEloa2</td>\n    </tr>\n    <tr>\n      <th>4</th>\n      <td>6ic8OlLUNEATToEFU3xmaH</td>\n      <td>Gimme More</td>\n      <td>26dSoYclwsYLMAKD3tpOr4</td>\n      <td>Britney Spears</td>\n      <td>1ePkYcH5ZQCb1b4tQeiEDj</td>\n      <td>251240</td>\n      <td>2007-10-25</td>\n      <td>83</td>\n      <td>0.788</td>\n      <td>0.844</td>\n      <td>...</td>\n      <td>-3.131</td>\n      <td>1</td>\n      <td>0.0334</td>\n      <td>0.2500</td>\n      <td>0.000678</td>\n      <td>0.0723</td>\n      <td>0.382</td>\n      <td>113.324</td>\n      <td>6ic8OlLUNEATToEFU3xmaH</td>\n      <td>6ic8OlLUNEATToEFU3xmaH</td>\n    </tr>\n    <tr>\n      <th>...</th>\n      <td>...</td>\n      <td>...</td>\n      <td>...</td>\n      <td>...</td>\n      <td>...</td>\n      <td>...</td>\n      <td>...</td>\n      <td>...</td>\n      <td>...</td>\n      <td>...</td>\n      <td>...</td>\n      <td>...</td>\n      <td>...</td>\n      <td>...</td>\n      <td>...</td>\n      <td>...</td>\n      <td>...</td>\n      <td>...</td>\n      <td>...</td>\n      <td>...</td>\n      <td>...</td>\n    </tr>\n    <tr>\n      <th>1187</th>\n      <td>3K2lg4fY3CunPMeNlMnR32</td>\n      <td>Are You Gonna Be There</td>\n      <td>6Ff53KvcvAj5U7Z1vojB5o</td>\n      <td>*NSYNC</td>\n      <td>3bhFoH4PFnY4ifK4981U8X</td>\n      <td>246586</td>\n      <td>2014-07-29</td>\n      <td>34</td>\n      <td>0.472</td>\n      <td>0.725</td>\n      <td>...</td>\n      <td>-5.442</td>\n      <td>1</td>\n      <td>0.0314</td>\n      <td>0.1980</td>\n      <td>0.000000</td>\n      <td>0.1390</td>\n      <td>0.409</td>\n      <td>86.030</td>\n      <td>3K2lg4fY3CunPMeNlMnR32</td>\n      <td>3K2lg4fY3CunPMeNlMnR32</td>\n    </tr>\n    <tr>\n      <th>1188</th>\n      <td>50haJiO2RhVsnTQ0Iu7lYS</td>\n      <td>For the Girl Who Has Everything - Radio Mix</td>\n      <td>6Ff53KvcvAj5U7Z1vojB5o</td>\n      <td>*NSYNC</td>\n      <td>3bhFoH4PFnY4ifK4981U8X</td>\n      <td>236746</td>\n      <td>2014-07-29</td>\n      <td>28</td>\n      <td>0.579</td>\n      <td>0.617</td>\n      <td>...</td>\n      <td>-6.667</td>\n      <td>0</td>\n      <td>0.0291</td>\n      <td>0.1700</td>\n      <td>0.000000</td>\n      <td>0.0805</td>\n      <td>0.596</td>\n      <td>170.181</td>\n      <td>50haJiO2RhVsnTQ0Iu7lYS</td>\n      <td>50haJiO2RhVsnTQ0Iu7lYS</td>\n    </tr>\n    <tr>\n      <th>1189</th>\n      <td>0T9Aq8S8WKdXXh6EXM8cB8</td>\n      <td>If I'm Not the One</td>\n      <td>6Ff53KvcvAj5U7Z1vojB5o</td>\n      <td>*NSYNC</td>\n      <td>3bhFoH4PFnY4ifK4981U8X</td>\n      <td>201413</td>\n      <td>2014-07-29</td>\n      <td>30</td>\n      <td>0.779</td>\n      <td>0.835</td>\n      <td>...</td>\n      <td>-5.290</td>\n      <td>0</td>\n      <td>0.0378</td>\n      <td>0.1620</td>\n      <td>0.000000</td>\n      <td>0.2550</td>\n      <td>0.936</td>\n      <td>104.016</td>\n      <td>0T9Aq8S8WKdXXh6EXM8cB8</td>\n      <td>0T9Aq8S8WKdXXh6EXM8cB8</td>\n    </tr>\n    <tr>\n      <th>1190</th>\n      <td>0S2AEPvmKGcdRYgqQP7MXq</td>\n      <td>Music of My Heart</td>\n      <td>6Ff53KvcvAj5U7Z1vojB5o</td>\n      <td>*NSYNC</td>\n      <td>3bhFoH4PFnY4ifK4981U8X</td>\n      <td>270893</td>\n      <td>2014-07-29</td>\n      <td>30</td>\n      <td>0.537</td>\n      <td>0.606</td>\n      <td>...</td>\n      <td>-7.029</td>\n      <td>1</td>\n      <td>0.0382</td>\n      <td>0.3920</td>\n      <td>0.000000</td>\n      <td>0.0903</td>\n      <td>0.411</td>\n      <td>112.080</td>\n      <td>0S2AEPvmKGcdRYgqQP7MXq</td>\n      <td>0S2AEPvmKGcdRYgqQP7MXq</td>\n    </tr>\n    <tr>\n      <th>1191</th>\n      <td>4VqXJoSWd0ldZ7h9pgkFWg</td>\n      <td>A Little Bit</td>\n      <td>2tFN9ubMXEhdAQvdQxcsma</td>\n      <td>Jessica Simpson</td>\n      <td>0QKZ96QQH4lxtr2e4aQLLE</td>\n      <td>227440</td>\n      <td>2001-01-01</td>\n      <td>26</td>\n      <td>0.695</td>\n      <td>0.929</td>\n      <td>...</td>\n      <td>-3.340</td>\n      <td>0</td>\n      <td>0.0750</td>\n      <td>0.1420</td>\n      <td>0.000000</td>\n      <td>0.4100</td>\n      <td>0.796</td>\n      <td>94.002</td>\n      <td>4VqXJoSWd0ldZ7h9pgkFWg</td>\n      <td>4VqXJoSWd0ldZ7h9pgkFWg</td>\n    </tr>\n  </tbody>\n</table>\n<p>1192 rows × 21 columns</p>\n</div>"
     },
     "metadata": {},
     "execution_count": 4
    }
   ],
   "source": [
    "britney_df = britney_df.dropna()\n",
    "britney_df ## QUESTION 1"
   ]
  },
  {
   "cell_type": "markdown",
   "metadata": {},
   "source": [
    "### 2. Read training data "
   ]
  },
  {
   "cell_type": "code",
   "execution_count": 5,
   "metadata": {
    "ExecuteTime": {
     "end_time": "2021-01-21T15:12:52.636973Z",
     "start_time": "2021-01-21T15:12:52.282149Z"
    }
   },
   "outputs": [
    {
     "output_type": "stream",
     "name": "stdout",
     "text": [
      "Jazz\nPop\nReggae\nClassical\nCountry\n"
     ]
    }
   ],
   "source": [
    "genre_names = [\"Jazz\", \"Pop\", \"Reggae\", \"Classical\", \"Country\"]\n",
    "\n",
    "playlist_df_list = []\n",
    "track_df_list = []\n",
    "for genre in genre_names:\n",
    "    # read and process the playlist data for keyword\n",
    "    print(genre)\n",
    "    pdf = pd.read_csv('data/'+genre.lower()+'_playlist_data.csv')\n",
    "    pdf['genre'] = genre.lower().replace('&','n')\n",
    "    playlist_df_list.append(pdf)\n",
    "\n",
    "    tdf = pd.read_csv('data/'+genre.lower()+'_playlist_tracks_data.csv')\n",
    "    tdf['genre'] = genre.lower().replace('&','n')\n",
    "    tdf = tdf.drop(columns=['playlist_name'])\n",
    "    tdf = tdf.merge(pdf[['playlist_id','playlist_name']], on=['playlist_id'], how='left')\n",
    "    \n",
    "    track_df_list.append(tdf)\n",
    "    \n",
    "playlist_df = pd.concat(playlist_df_list)\n",
    "tracks_df = pd.concat(track_df_list)"
   ]
  },
  {
   "cell_type": "code",
   "execution_count": 6,
   "metadata": {
    "ExecuteTime": {
     "end_time": "2021-01-21T15:12:52.656009Z",
     "start_time": "2021-01-21T15:12:52.643350Z"
    }
   },
   "outputs": [
    {
     "output_type": "execute_result",
     "data": {
      "text/plain": [
       "((479, 7), (8856, 22))"
      ]
     },
     "metadata": {},
     "execution_count": 6
    }
   ],
   "source": [
    "tracks_df['genre'].value_counts()#check shape\n",
    "playlist_df.shape, tracks_df.shape"
   ]
  },
  {
   "cell_type": "code",
   "execution_count": 7,
   "metadata": {
    "ExecuteTime": {
     "end_time": "2021-01-21T15:12:52.673219Z",
     "start_time": "2021-01-21T15:12:52.666973Z"
    }
   },
   "outputs": [
    {
     "output_type": "stream",
     "name": "stdout",
     "text": [
      "Playlist dataset columns: ['playlist_id' 'playlist_name' 'playlist_total_tracks' 'owner_id'\n 'owner_name' 'total_followers' 'genre'] \n\nTracks dataset columns: ['track_id' 'track_name' 'artist_id' 'artist_name' 'album_id' 'duration'\n 'release_date' 'popularity' 'danceability' 'energy' 'key' 'loudness'\n 'mode' 'speechiness' 'acousticness' 'instrumentalness' 'liveness'\n 'valence' 'tempo' 'playlist_id' 'genre' 'playlist_name']\n"
     ]
    }
   ],
   "source": [
    "#check columns\n",
    "print(\"Playlist dataset columns: %s \\n\" % playlist_df.columns.values)\n",
    "print(\"Tracks dataset columns: %s\" % tracks_df.columns.values)"
   ]
  },
  {
   "cell_type": "code",
   "execution_count": 8,
   "metadata": {
    "ExecuteTime": {
     "end_time": "2021-01-21T15:12:52.715839Z",
     "start_time": "2021-01-21T15:12:52.676094Z"
    }
   },
   "outputs": [
    {
     "output_type": "execute_result",
     "data": {
      "text/plain": [
       "(8852, 22)"
      ]
     },
     "metadata": {},
     "execution_count": 8
    }
   ],
   "source": [
    "#check null rows\n",
    "playlist_df[playlist_df.isnull().any(1)]\n",
    "#tracks_df[tracks_df.isnull().any(1)]\n",
    "#remove null rows\n",
    "tracks_df = tracks_df[~tracks_df.isnull().any(1)]\n",
    "tracks_df.shape"
   ]
  },
  {
   "cell_type": "code",
   "execution_count": 9,
   "metadata": {
    "ExecuteTime": {
     "end_time": "2021-01-21T15:12:52.769684Z",
     "start_time": "2021-01-21T15:12:52.758544Z"
    }
   },
   "outputs": [
    {
     "output_type": "execute_result",
     "data": {
      "text/plain": [
       "(8746, 22)"
      ]
     },
     "metadata": {},
     "execution_count": 9
    }
   ],
   "source": [
    "# How many unique tracks are in the combined dataset?\n",
    "len(tracks_df['track_id'].unique())\n",
    "\n",
    "#retain only distinct tracks per keyword\n",
    "tracks_df =tracks_df.drop_duplicates(subset='track_id')\n",
    "tracks_df.shape"
   ]
  },
  {
   "cell_type": "code",
   "execution_count": 10,
   "metadata": {
    "ExecuteTime": {
     "end_time": "2021-01-21T15:12:53.100130Z",
     "start_time": "2021-01-21T15:12:52.794480Z"
    }
   },
   "outputs": [
    {
     "output_type": "execute_result",
     "data": {
      "text/plain": [
       "<AxesSubplot:>"
      ]
     },
     "metadata": {},
     "execution_count": 10
    },
    {
     "output_type": "display_data",
     "data": {
      "text/plain": "<Figure size 432x288 with 1 Axes>",
      "image/svg+xml": "<?xml version=\"1.0\" encoding=\"utf-8\" standalone=\"no\"?>\n<!DOCTYPE svg PUBLIC \"-//W3C//DTD SVG 1.1//EN\"\n  \"http://www.w3.org/Graphics/SVG/1.1/DTD/svg11.dtd\">\n<svg height=\"248.518125pt\" version=\"1.1\" viewBox=\"0 0 375.2875 248.518125\" width=\"375.2875pt\" xmlns=\"http://www.w3.org/2000/svg\" xmlns:xlink=\"http://www.w3.org/1999/xlink\">\n <metadata>\n  <rdf:RDF xmlns:cc=\"http://creativecommons.org/ns#\" xmlns:dc=\"http://purl.org/dc/elements/1.1/\" xmlns:rdf=\"http://www.w3.org/1999/02/22-rdf-syntax-ns#\">\n   <cc:Work>\n    <dc:type rdf:resource=\"http://purl.org/dc/dcmitype/StillImage\"/>\n    <dc:date>2021-06-04T06:09:10.420832</dc:date>\n    <dc:format>image/svg+xml</dc:format>\n    <dc:creator>\n     <cc:Agent>\n      <dc:title>Matplotlib v3.4.2, https://matplotlib.org/</dc:title>\n     </cc:Agent>\n    </dc:creator>\n   </cc:Work>\n  </rdf:RDF>\n </metadata>\n <defs>\n  <style type=\"text/css\">*{stroke-linecap:butt;stroke-linejoin:round;}</style>\n </defs>\n <g id=\"figure_1\">\n  <g id=\"patch_1\">\n   <path d=\"M 0 248.518125 \nL 375.2875 248.518125 \nL 375.2875 0 \nL 0 0 \nz\n\" style=\"fill:none;\"/>\n  </g>\n  <g id=\"axes_1\">\n   <g id=\"patch_2\">\n    <path d=\"M 33.2875 224.64 \nL 368.0875 224.64 \nL 368.0875 7.2 \nL 33.2875 7.2 \nz\n\" style=\"fill:#ffffff;\"/>\n   </g>\n   <g id=\"patch_3\">\n    <path clip-path=\"url(#paf92562f22)\" d=\"M 48.505682 224.64 \nL 78.942045 224.64 \nL 78.942045 17.554286 \nL 48.505682 17.554286 \nz\n\" style=\"fill:#1f77b4;\"/>\n   </g>\n   <g id=\"patch_4\">\n    <path clip-path=\"url(#paf92562f22)\" d=\"M 78.942045 224.64 \nL 109.378409 224.64 \nL 109.378409 217.341825 \nL 78.942045 217.341825 \nz\n\" style=\"fill:#1f77b4;\"/>\n   </g>\n   <g id=\"patch_5\">\n    <path clip-path=\"url(#paf92562f22)\" d=\"M 109.378409 224.64 \nL 139.814773 224.64 \nL 139.814773 222.35932 \nL 109.378409 222.35932 \nz\n\" style=\"fill:#1f77b4;\"/>\n   </g>\n   <g id=\"patch_6\">\n    <path clip-path=\"url(#paf92562f22)\" d=\"M 139.814773 224.64 \nL 170.251136 224.64 \nL 170.251136 223.271592 \nL 139.814773 223.271592 \nz\n\" style=\"fill:#1f77b4;\"/>\n   </g>\n   <g id=\"patch_7\">\n    <path clip-path=\"url(#paf92562f22)\" d=\"M 170.251136 224.64 \nL 200.6875 224.64 \nL 200.6875 224.64 \nL 170.251136 224.64 \nz\n\" style=\"fill:#1f77b4;\"/>\n   </g>\n   <g id=\"patch_8\">\n    <path clip-path=\"url(#paf92562f22)\" d=\"M 200.6875 224.64 \nL 231.123864 224.64 \nL 231.123864 224.64 \nL 200.6875 224.64 \nz\n\" style=\"fill:#1f77b4;\"/>\n   </g>\n   <g id=\"patch_9\">\n    <path clip-path=\"url(#paf92562f22)\" d=\"M 231.123864 224.64 \nL 261.560227 224.64 \nL 261.560227 224.64 \nL 231.123864 224.64 \nz\n\" style=\"fill:#1f77b4;\"/>\n   </g>\n   <g id=\"patch_10\">\n    <path clip-path=\"url(#paf92562f22)\" d=\"M 261.560227 224.64 \nL 291.996591 224.64 \nL 291.996591 224.64 \nL 261.560227 224.64 \nz\n\" style=\"fill:#1f77b4;\"/>\n   </g>\n   <g id=\"patch_11\">\n    <path clip-path=\"url(#paf92562f22)\" d=\"M 291.996591 224.64 \nL 322.432955 224.64 \nL 322.432955 224.64 \nL 291.996591 224.64 \nz\n\" style=\"fill:#1f77b4;\"/>\n   </g>\n   <g id=\"patch_12\">\n    <path clip-path=\"url(#paf92562f22)\" d=\"M 322.432955 224.64 \nL 352.869318 224.64 \nL 352.869318 224.183864 \nL 322.432955 224.183864 \nz\n\" style=\"fill:#1f77b4;\"/>\n   </g>\n   <g id=\"matplotlib.axis_1\">\n    <g id=\"xtick_1\">\n     <g id=\"line2d_1\">\n      <path clip-path=\"url(#paf92562f22)\" d=\"M 47.216396 224.64 \nL 47.216396 7.2 \n\" style=\"fill:none;stroke:#b0b0b0;stroke-linecap:square;stroke-width:0.8;\"/>\n     </g>\n     <g id=\"line2d_2\">\n      <defs>\n       <path d=\"M 0 0 \nL 0 3.5 \n\" id=\"m559e18e5c2\" style=\"stroke:#000000;stroke-width:0.8;\"/>\n      </defs>\n      <g>\n       <use style=\"stroke:#000000;stroke-width:0.8;\" x=\"47.216396\" xlink:href=\"#m559e18e5c2\" y=\"224.64\"/>\n      </g>\n     </g>\n     <g id=\"text_1\">\n      <!-- 0 -->\n      <g transform=\"translate(44.035146 239.238437)scale(0.1 -0.1)\">\n       <defs>\n        <path d=\"M 2034 4250 \nQ 1547 4250 1301 3770 \nQ 1056 3291 1056 2328 \nQ 1056 1369 1301 889 \nQ 1547 409 2034 409 \nQ 2525 409 2770 889 \nQ 3016 1369 3016 2328 \nQ 3016 3291 2770 3770 \nQ 2525 4250 2034 4250 \nz\nM 2034 4750 \nQ 2819 4750 3233 4129 \nQ 3647 3509 3647 2328 \nQ 3647 1150 3233 529 \nQ 2819 -91 2034 -91 \nQ 1250 -91 836 529 \nQ 422 1150 422 2328 \nQ 422 3509 836 4129 \nQ 1250 4750 2034 4750 \nz\n\" id=\"DejaVuSans-30\" transform=\"scale(0.015625)\"/>\n       </defs>\n       <use xlink:href=\"#DejaVuSans-30\"/>\n      </g>\n     </g>\n    </g>\n    <g id=\"xtick_2\">\n     <g id=\"line2d_3\">\n      <path clip-path=\"url(#paf92562f22)\" d=\"M 93.262332 224.64 \nL 93.262332 7.2 \n\" style=\"fill:none;stroke:#b0b0b0;stroke-linecap:square;stroke-width:0.8;\"/>\n     </g>\n     <g id=\"line2d_4\">\n      <g>\n       <use style=\"stroke:#000000;stroke-width:0.8;\" x=\"93.262332\" xlink:href=\"#m559e18e5c2\" y=\"224.64\"/>\n      </g>\n     </g>\n     <g id=\"text_2\">\n      <!-- 500 -->\n      <g transform=\"translate(83.718582 239.238437)scale(0.1 -0.1)\">\n       <defs>\n        <path d=\"M 691 4666 \nL 3169 4666 \nL 3169 4134 \nL 1269 4134 \nL 1269 2991 \nQ 1406 3038 1543 3061 \nQ 1681 3084 1819 3084 \nQ 2600 3084 3056 2656 \nQ 3513 2228 3513 1497 \nQ 3513 744 3044 326 \nQ 2575 -91 1722 -91 \nQ 1428 -91 1123 -41 \nQ 819 9 494 109 \nL 494 744 \nQ 775 591 1075 516 \nQ 1375 441 1709 441 \nQ 2250 441 2565 725 \nQ 2881 1009 2881 1497 \nQ 2881 1984 2565 2268 \nQ 2250 2553 1709 2553 \nQ 1456 2553 1204 2497 \nQ 953 2441 691 2322 \nL 691 4666 \nz\n\" id=\"DejaVuSans-35\" transform=\"scale(0.015625)\"/>\n       </defs>\n       <use xlink:href=\"#DejaVuSans-35\"/>\n       <use x=\"63.623047\" xlink:href=\"#DejaVuSans-30\"/>\n       <use x=\"127.246094\" xlink:href=\"#DejaVuSans-30\"/>\n      </g>\n     </g>\n    </g>\n    <g id=\"xtick_3\">\n     <g id=\"line2d_5\">\n      <path clip-path=\"url(#paf92562f22)\" d=\"M 139.308267 224.64 \nL 139.308267 7.2 \n\" style=\"fill:none;stroke:#b0b0b0;stroke-linecap:square;stroke-width:0.8;\"/>\n     </g>\n     <g id=\"line2d_6\">\n      <g>\n       <use style=\"stroke:#000000;stroke-width:0.8;\" x=\"139.308267\" xlink:href=\"#m559e18e5c2\" y=\"224.64\"/>\n      </g>\n     </g>\n     <g id=\"text_3\">\n      <!-- 1000 -->\n      <g transform=\"translate(126.583267 239.238437)scale(0.1 -0.1)\">\n       <defs>\n        <path d=\"M 794 531 \nL 1825 531 \nL 1825 4091 \nL 703 3866 \nL 703 4441 \nL 1819 4666 \nL 2450 4666 \nL 2450 531 \nL 3481 531 \nL 3481 0 \nL 794 0 \nL 794 531 \nz\n\" id=\"DejaVuSans-31\" transform=\"scale(0.015625)\"/>\n       </defs>\n       <use xlink:href=\"#DejaVuSans-31\"/>\n       <use x=\"63.623047\" xlink:href=\"#DejaVuSans-30\"/>\n       <use x=\"127.246094\" xlink:href=\"#DejaVuSans-30\"/>\n       <use x=\"190.869141\" xlink:href=\"#DejaVuSans-30\"/>\n      </g>\n     </g>\n    </g>\n    <g id=\"xtick_4\">\n     <g id=\"line2d_7\">\n      <path clip-path=\"url(#paf92562f22)\" d=\"M 185.354203 224.64 \nL 185.354203 7.2 \n\" style=\"fill:none;stroke:#b0b0b0;stroke-linecap:square;stroke-width:0.8;\"/>\n     </g>\n     <g id=\"line2d_8\">\n      <g>\n       <use style=\"stroke:#000000;stroke-width:0.8;\" x=\"185.354203\" xlink:href=\"#m559e18e5c2\" y=\"224.64\"/>\n      </g>\n     </g>\n     <g id=\"text_4\">\n      <!-- 1500 -->\n      <g transform=\"translate(172.629203 239.238437)scale(0.1 -0.1)\">\n       <use xlink:href=\"#DejaVuSans-31\"/>\n       <use x=\"63.623047\" xlink:href=\"#DejaVuSans-35\"/>\n       <use x=\"127.246094\" xlink:href=\"#DejaVuSans-30\"/>\n       <use x=\"190.869141\" xlink:href=\"#DejaVuSans-30\"/>\n      </g>\n     </g>\n    </g>\n    <g id=\"xtick_5\">\n     <g id=\"line2d_9\">\n      <path clip-path=\"url(#paf92562f22)\" d=\"M 231.400139 224.64 \nL 231.400139 7.2 \n\" style=\"fill:none;stroke:#b0b0b0;stroke-linecap:square;stroke-width:0.8;\"/>\n     </g>\n     <g id=\"line2d_10\">\n      <g>\n       <use style=\"stroke:#000000;stroke-width:0.8;\" x=\"231.400139\" xlink:href=\"#m559e18e5c2\" y=\"224.64\"/>\n      </g>\n     </g>\n     <g id=\"text_5\">\n      <!-- 2000 -->\n      <g transform=\"translate(218.675139 239.238437)scale(0.1 -0.1)\">\n       <defs>\n        <path d=\"M 1228 531 \nL 3431 531 \nL 3431 0 \nL 469 0 \nL 469 531 \nQ 828 903 1448 1529 \nQ 2069 2156 2228 2338 \nQ 2531 2678 2651 2914 \nQ 2772 3150 2772 3378 \nQ 2772 3750 2511 3984 \nQ 2250 4219 1831 4219 \nQ 1534 4219 1204 4116 \nQ 875 4013 500 3803 \nL 500 4441 \nQ 881 4594 1212 4672 \nQ 1544 4750 1819 4750 \nQ 2544 4750 2975 4387 \nQ 3406 4025 3406 3419 \nQ 3406 3131 3298 2873 \nQ 3191 2616 2906 2266 \nQ 2828 2175 2409 1742 \nQ 1991 1309 1228 531 \nz\n\" id=\"DejaVuSans-32\" transform=\"scale(0.015625)\"/>\n       </defs>\n       <use xlink:href=\"#DejaVuSans-32\"/>\n       <use x=\"63.623047\" xlink:href=\"#DejaVuSans-30\"/>\n       <use x=\"127.246094\" xlink:href=\"#DejaVuSans-30\"/>\n       <use x=\"190.869141\" xlink:href=\"#DejaVuSans-30\"/>\n      </g>\n     </g>\n    </g>\n    <g id=\"xtick_6\">\n     <g id=\"line2d_11\">\n      <path clip-path=\"url(#paf92562f22)\" d=\"M 277.446075 224.64 \nL 277.446075 7.2 \n\" style=\"fill:none;stroke:#b0b0b0;stroke-linecap:square;stroke-width:0.8;\"/>\n     </g>\n     <g id=\"line2d_12\">\n      <g>\n       <use style=\"stroke:#000000;stroke-width:0.8;\" x=\"277.446075\" xlink:href=\"#m559e18e5c2\" y=\"224.64\"/>\n      </g>\n     </g>\n     <g id=\"text_6\">\n      <!-- 2500 -->\n      <g transform=\"translate(264.721075 239.238437)scale(0.1 -0.1)\">\n       <use xlink:href=\"#DejaVuSans-32\"/>\n       <use x=\"63.623047\" xlink:href=\"#DejaVuSans-35\"/>\n       <use x=\"127.246094\" xlink:href=\"#DejaVuSans-30\"/>\n       <use x=\"190.869141\" xlink:href=\"#DejaVuSans-30\"/>\n      </g>\n     </g>\n    </g>\n    <g id=\"xtick_7\">\n     <g id=\"line2d_13\">\n      <path clip-path=\"url(#paf92562f22)\" d=\"M 323.492011 224.64 \nL 323.492011 7.2 \n\" style=\"fill:none;stroke:#b0b0b0;stroke-linecap:square;stroke-width:0.8;\"/>\n     </g>\n     <g id=\"line2d_14\">\n      <g>\n       <use style=\"stroke:#000000;stroke-width:0.8;\" x=\"323.492011\" xlink:href=\"#m559e18e5c2\" y=\"224.64\"/>\n      </g>\n     </g>\n     <g id=\"text_7\">\n      <!-- 3000 -->\n      <g transform=\"translate(310.767011 239.238437)scale(0.1 -0.1)\">\n       <defs>\n        <path d=\"M 2597 2516 \nQ 3050 2419 3304 2112 \nQ 3559 1806 3559 1356 \nQ 3559 666 3084 287 \nQ 2609 -91 1734 -91 \nQ 1441 -91 1130 -33 \nQ 819 25 488 141 \nL 488 750 \nQ 750 597 1062 519 \nQ 1375 441 1716 441 \nQ 2309 441 2620 675 \nQ 2931 909 2931 1356 \nQ 2931 1769 2642 2001 \nQ 2353 2234 1838 2234 \nL 1294 2234 \nL 1294 2753 \nL 1863 2753 \nQ 2328 2753 2575 2939 \nQ 2822 3125 2822 3475 \nQ 2822 3834 2567 4026 \nQ 2313 4219 1838 4219 \nQ 1578 4219 1281 4162 \nQ 984 4106 628 3988 \nL 628 4550 \nQ 988 4650 1302 4700 \nQ 1616 4750 1894 4750 \nQ 2613 4750 3031 4423 \nQ 3450 4097 3450 3541 \nQ 3450 3153 3228 2886 \nQ 3006 2619 2597 2516 \nz\n\" id=\"DejaVuSans-33\" transform=\"scale(0.015625)\"/>\n       </defs>\n       <use xlink:href=\"#DejaVuSans-33\"/>\n       <use x=\"63.623047\" xlink:href=\"#DejaVuSans-30\"/>\n       <use x=\"127.246094\" xlink:href=\"#DejaVuSans-30\"/>\n       <use x=\"190.869141\" xlink:href=\"#DejaVuSans-30\"/>\n      </g>\n     </g>\n    </g>\n   </g>\n   <g id=\"matplotlib.axis_2\">\n    <g id=\"ytick_1\">\n     <g id=\"line2d_15\">\n      <path clip-path=\"url(#paf92562f22)\" d=\"M 33.2875 224.64 \nL 368.0875 224.64 \n\" style=\"fill:none;stroke:#b0b0b0;stroke-linecap:square;stroke-width:0.8;\"/>\n     </g>\n     <g id=\"line2d_16\">\n      <defs>\n       <path d=\"M 0 0 \nL -3.5 0 \n\" id=\"m587419dba3\" style=\"stroke:#000000;stroke-width:0.8;\"/>\n      </defs>\n      <g>\n       <use style=\"stroke:#000000;stroke-width:0.8;\" x=\"33.2875\" xlink:href=\"#m587419dba3\" y=\"224.64\"/>\n      </g>\n     </g>\n     <g id=\"text_8\">\n      <!-- 0 -->\n      <g transform=\"translate(19.925 228.439219)scale(0.1 -0.1)\">\n       <use xlink:href=\"#DejaVuSans-30\"/>\n      </g>\n     </g>\n    </g>\n    <g id=\"ytick_2\">\n     <g id=\"line2d_17\">\n      <path clip-path=\"url(#paf92562f22)\" d=\"M 33.2875 179.026407 \nL 368.0875 179.026407 \n\" style=\"fill:none;stroke:#b0b0b0;stroke-linecap:square;stroke-width:0.8;\"/>\n     </g>\n     <g id=\"line2d_18\">\n      <g>\n       <use style=\"stroke:#000000;stroke-width:0.8;\" x=\"33.2875\" xlink:href=\"#m587419dba3\" y=\"179.026407\"/>\n      </g>\n     </g>\n     <g id=\"text_9\">\n      <!-- 100 -->\n      <g transform=\"translate(7.2 182.825625)scale(0.1 -0.1)\">\n       <use xlink:href=\"#DejaVuSans-31\"/>\n       <use x=\"63.623047\" xlink:href=\"#DejaVuSans-30\"/>\n       <use x=\"127.246094\" xlink:href=\"#DejaVuSans-30\"/>\n      </g>\n     </g>\n    </g>\n    <g id=\"ytick_3\">\n     <g id=\"line2d_19\">\n      <path clip-path=\"url(#paf92562f22)\" d=\"M 33.2875 133.412813 \nL 368.0875 133.412813 \n\" style=\"fill:none;stroke:#b0b0b0;stroke-linecap:square;stroke-width:0.8;\"/>\n     </g>\n     <g id=\"line2d_20\">\n      <g>\n       <use style=\"stroke:#000000;stroke-width:0.8;\" x=\"33.2875\" xlink:href=\"#m587419dba3\" y=\"133.412813\"/>\n      </g>\n     </g>\n     <g id=\"text_10\">\n      <!-- 200 -->\n      <g transform=\"translate(7.2 137.212032)scale(0.1 -0.1)\">\n       <use xlink:href=\"#DejaVuSans-32\"/>\n       <use x=\"63.623047\" xlink:href=\"#DejaVuSans-30\"/>\n       <use x=\"127.246094\" xlink:href=\"#DejaVuSans-30\"/>\n      </g>\n     </g>\n    </g>\n    <g id=\"ytick_4\">\n     <g id=\"line2d_21\">\n      <path clip-path=\"url(#paf92562f22)\" d=\"M 33.2875 87.79922 \nL 368.0875 87.79922 \n\" style=\"fill:none;stroke:#b0b0b0;stroke-linecap:square;stroke-width:0.8;\"/>\n     </g>\n     <g id=\"line2d_22\">\n      <g>\n       <use style=\"stroke:#000000;stroke-width:0.8;\" x=\"33.2875\" xlink:href=\"#m587419dba3\" y=\"87.79922\"/>\n      </g>\n     </g>\n     <g id=\"text_11\">\n      <!-- 300 -->\n      <g transform=\"translate(7.2 91.598438)scale(0.1 -0.1)\">\n       <use xlink:href=\"#DejaVuSans-33\"/>\n       <use x=\"63.623047\" xlink:href=\"#DejaVuSans-30\"/>\n       <use x=\"127.246094\" xlink:href=\"#DejaVuSans-30\"/>\n      </g>\n     </g>\n    </g>\n    <g id=\"ytick_5\">\n     <g id=\"line2d_23\">\n      <path clip-path=\"url(#paf92562f22)\" d=\"M 33.2875 42.185626 \nL 368.0875 42.185626 \n\" style=\"fill:none;stroke:#b0b0b0;stroke-linecap:square;stroke-width:0.8;\"/>\n     </g>\n     <g id=\"line2d_24\">\n      <g>\n       <use style=\"stroke:#000000;stroke-width:0.8;\" x=\"33.2875\" xlink:href=\"#m587419dba3\" y=\"42.185626\"/>\n      </g>\n     </g>\n     <g id=\"text_12\">\n      <!-- 400 -->\n      <g transform=\"translate(7.2 45.984845)scale(0.1 -0.1)\">\n       <defs>\n        <path d=\"M 2419 4116 \nL 825 1625 \nL 2419 1625 \nL 2419 4116 \nz\nM 2253 4666 \nL 3047 4666 \nL 3047 1625 \nL 3713 1625 \nL 3713 1100 \nL 3047 1100 \nL 3047 0 \nL 2419 0 \nL 2419 1100 \nL 313 1100 \nL 313 1709 \nL 2253 4666 \nz\n\" id=\"DejaVuSans-34\" transform=\"scale(0.015625)\"/>\n       </defs>\n       <use xlink:href=\"#DejaVuSans-34\"/>\n       <use x=\"63.623047\" xlink:href=\"#DejaVuSans-30\"/>\n       <use x=\"127.246094\" xlink:href=\"#DejaVuSans-30\"/>\n      </g>\n     </g>\n    </g>\n   </g>\n   <g id=\"patch_13\">\n    <path d=\"M 33.2875 224.64 \nL 33.2875 7.2 \n\" style=\"fill:none;stroke:#000000;stroke-linecap:square;stroke-linejoin:miter;stroke-width:0.8;\"/>\n   </g>\n   <g id=\"patch_14\">\n    <path d=\"M 368.0875 224.64 \nL 368.0875 7.2 \n\" style=\"fill:none;stroke:#000000;stroke-linecap:square;stroke-linejoin:miter;stroke-width:0.8;\"/>\n   </g>\n   <g id=\"patch_15\">\n    <path d=\"M 33.2875 224.64 \nL 368.0875 224.64 \n\" style=\"fill:none;stroke:#000000;stroke-linecap:square;stroke-linejoin:miter;stroke-width:0.8;\"/>\n   </g>\n   <g id=\"patch_16\">\n    <path d=\"M 33.2875 7.2 \nL 368.0875 7.2 \n\" style=\"fill:none;stroke:#000000;stroke-linecap:square;stroke-linejoin:miter;stroke-width:0.8;\"/>\n   </g>\n  </g>\n </g>\n <defs>\n  <clipPath id=\"paf92562f22\">\n   <rect height=\"217.44\" width=\"334.8\" x=\"33.2875\" y=\"7.2\"/>\n  </clipPath>\n </defs>\n</svg>\n",
      "image/png": "[encoded data removed]"
     },
     "metadata": {
      "needs_background": "light"
     }
    }
   ],
   "source": [
    "# What is the distribution of playlist's total tracks?\n",
    "playlist_df['playlist_total_tracks'].hist()"
   ]
  },
  {
   "cell_type": "code",
   "execution_count": 11,
   "metadata": {
    "ExecuteTime": {
     "end_time": "2021-01-21T15:12:53.321673Z",
     "start_time": "2021-01-21T15:12:53.102990Z"
    }
   },
   "outputs": [
    {
     "output_type": "execute_result",
     "data": {
      "text/plain": [
       "<AxesSubplot:>"
      ]
     },
     "metadata": {},
     "execution_count": 11
    },
    {
     "output_type": "display_data",
     "data": {
      "text/plain": "<Figure size 432x288 with 1 Axes>",
      "image/svg+xml": "<?xml version=\"1.0\" encoding=\"utf-8\" standalone=\"no\"?>\n<!DOCTYPE svg PUBLIC \"-//W3C//DTD SVG 1.1//EN\"\n  \"http://www.w3.org/Graphics/SVG/1.1/DTD/svg11.dtd\">\n<svg height=\"261.19625pt\" version=\"1.1\" viewBox=\"0 0 375.2875 261.19625\" width=\"375.2875pt\" xmlns=\"http://www.w3.org/2000/svg\" xmlns:xlink=\"http://www.w3.org/1999/xlink\">\n <metadata>\n  <rdf:RDF xmlns:cc=\"http://creativecommons.org/ns#\" xmlns:dc=\"http://purl.org/dc/elements/1.1/\" xmlns:rdf=\"http://www.w3.org/1999/02/22-rdf-syntax-ns#\">\n   <cc:Work>\n    <dc:type rdf:resource=\"http://purl.org/dc/dcmitype/StillImage\"/>\n    <dc:date>2021-06-04T06:09:10.667930</dc:date>\n    <dc:format>image/svg+xml</dc:format>\n    <dc:creator>\n     <cc:Agent>\n      <dc:title>Matplotlib v3.4.2, https://matplotlib.org/</dc:title>\n     </cc:Agent>\n    </dc:creator>\n   </cc:Work>\n  </rdf:RDF>\n </metadata>\n <defs>\n  <style type=\"text/css\">*{stroke-linecap:butt;stroke-linejoin:round;}</style>\n </defs>\n <g id=\"figure_1\">\n  <g id=\"patch_1\">\n   <path d=\"M 0 261.19625 \nL 375.2875 261.19625 \nL 375.2875 0 \nL 0 0 \nz\n\" style=\"fill:none;\"/>\n  </g>\n  <g id=\"axes_1\">\n   <g id=\"patch_2\">\n    <path d=\"M 33.2875 224.64 \nL 368.0875 224.64 \nL 368.0875 7.2 \nL 33.2875 7.2 \nz\n\" style=\"fill:#ffffff;\"/>\n   </g>\n   <g id=\"patch_3\">\n    <path clip-path=\"url(#p1a94cbf049)\" d=\"M 48.505682 224.64 \nL 78.942045 224.64 \nL 78.942045 17.554286 \nL 48.505682 17.554286 \nz\n\" style=\"fill:#1f77b4;\"/>\n   </g>\n   <g id=\"patch_4\">\n    <path clip-path=\"url(#p1a94cbf049)\" d=\"M 78.942045 224.64 \nL 109.378409 224.64 \nL 109.378409 216.781837 \nL 78.942045 216.781837 \nz\n\" style=\"fill:#1f77b4;\"/>\n   </g>\n   <g id=\"patch_5\">\n    <path clip-path=\"url(#p1a94cbf049)\" d=\"M 109.378409 224.64 \nL 139.814773 224.64 \nL 139.814773 220.942041 \nL 109.378409 220.942041 \nz\n\" style=\"fill:#1f77b4;\"/>\n   </g>\n   <g id=\"patch_6\">\n    <path clip-path=\"url(#p1a94cbf049)\" d=\"M 139.814773 224.64 \nL 170.251136 224.64 \nL 170.251136 223.253265 \nL 139.814773 223.253265 \nz\n\" style=\"fill:#1f77b4;\"/>\n   </g>\n   <g id=\"patch_7\">\n    <path clip-path=\"url(#p1a94cbf049)\" d=\"M 170.251136 224.64 \nL 200.6875 224.64 \nL 200.6875 224.177755 \nL 170.251136 224.177755 \nz\n\" style=\"fill:#1f77b4;\"/>\n   </g>\n   <g id=\"patch_8\">\n    <path clip-path=\"url(#p1a94cbf049)\" d=\"M 200.6875 224.64 \nL 231.123864 224.64 \nL 231.123864 224.64 \nL 200.6875 224.64 \nz\n\" style=\"fill:#1f77b4;\"/>\n   </g>\n   <g id=\"patch_9\">\n    <path clip-path=\"url(#p1a94cbf049)\" d=\"M 231.123864 224.64 \nL 261.560227 224.64 \nL 261.560227 224.177755 \nL 231.123864 224.177755 \nz\n\" style=\"fill:#1f77b4;\"/>\n   </g>\n   <g id=\"patch_10\">\n    <path clip-path=\"url(#p1a94cbf049)\" d=\"M 261.560227 224.64 \nL 291.996591 224.64 \nL 291.996591 224.64 \nL 261.560227 224.64 \nz\n\" style=\"fill:#1f77b4;\"/>\n   </g>\n   <g id=\"patch_11\">\n    <path clip-path=\"url(#p1a94cbf049)\" d=\"M 291.996591 224.64 \nL 322.432955 224.64 \nL 322.432955 224.64 \nL 291.996591 224.64 \nz\n\" style=\"fill:#1f77b4;\"/>\n   </g>\n   <g id=\"patch_12\">\n    <path clip-path=\"url(#p1a94cbf049)\" d=\"M 322.432955 224.64 \nL 352.869318 224.64 \nL 352.869318 224.177755 \nL 322.432955 224.177755 \nz\n\" style=\"fill:#1f77b4;\"/>\n   </g>\n   <g id=\"matplotlib.axis_1\">\n    <g id=\"xtick_1\">\n     <g id=\"line2d_1\">\n      <path clip-path=\"url(#p1a94cbf049)\" d=\"M 48.505592 224.64 \nL 48.505592 7.2 \n\" style=\"fill:none;stroke:#b0b0b0;stroke-linecap:square;stroke-width:0.8;\"/>\n     </g>\n     <g id=\"line2d_2\">\n      <defs>\n       <path d=\"M 0 0 \nL 0 3.5 \n\" id=\"ma2f64f1e4d\" style=\"stroke:#000000;stroke-width:0.8;\"/>\n      </defs>\n      <g>\n       <use style=\"stroke:#000000;stroke-width:0.8;\" x=\"48.505592\" xlink:href=\"#ma2f64f1e4d\" y=\"224.64\"/>\n      </g>\n     </g>\n     <g id=\"text_1\">\n      <!-- 0.0 -->\n      <g transform=\"translate(40.55403 239.238437)scale(0.1 -0.1)\">\n       <defs>\n        <path d=\"M 2034 4250 \nQ 1547 4250 1301 3770 \nQ 1056 3291 1056 2328 \nQ 1056 1369 1301 889 \nQ 1547 409 2034 409 \nQ 2525 409 2770 889 \nQ 3016 1369 3016 2328 \nQ 3016 3291 2770 3770 \nQ 2525 4250 2034 4250 \nz\nM 2034 4750 \nQ 2819 4750 3233 4129 \nQ 3647 3509 3647 2328 \nQ 3647 1150 3233 529 \nQ 2819 -91 2034 -91 \nQ 1250 -91 836 529 \nQ 422 1150 422 2328 \nQ 422 3509 836 4129 \nQ 1250 4750 2034 4750 \nz\n\" id=\"DejaVuSans-30\" transform=\"scale(0.015625)\"/>\n        <path d=\"M 684 794 \nL 1344 794 \nL 1344 0 \nL 684 0 \nL 684 794 \nz\n\" id=\"DejaVuSans-2e\" transform=\"scale(0.015625)\"/>\n       </defs>\n       <use xlink:href=\"#DejaVuSans-30\"/>\n       <use x=\"63.623047\" xlink:href=\"#DejaVuSans-2e\"/>\n       <use x=\"95.410156\" xlink:href=\"#DejaVuSans-30\"/>\n      </g>\n     </g>\n    </g>\n    <g id=\"xtick_2\">\n     <g id=\"line2d_3\">\n      <path clip-path=\"url(#p1a94cbf049)\" d=\"M 108.305679 224.64 \nL 108.305679 7.2 \n\" style=\"fill:none;stroke:#b0b0b0;stroke-linecap:square;stroke-width:0.8;\"/>\n     </g>\n     <g id=\"line2d_4\">\n      <g>\n       <use style=\"stroke:#000000;stroke-width:0.8;\" x=\"108.305679\" xlink:href=\"#ma2f64f1e4d\" y=\"224.64\"/>\n      </g>\n     </g>\n     <g id=\"text_2\">\n      <!-- 0.2 -->\n      <g transform=\"translate(100.354117 239.238437)scale(0.1 -0.1)\">\n       <defs>\n        <path d=\"M 1228 531 \nL 3431 531 \nL 3431 0 \nL 469 0 \nL 469 531 \nQ 828 903 1448 1529 \nQ 2069 2156 2228 2338 \nQ 2531 2678 2651 2914 \nQ 2772 3150 2772 3378 \nQ 2772 3750 2511 3984 \nQ 2250 4219 1831 4219 \nQ 1534 4219 1204 4116 \nQ 875 4013 500 3803 \nL 500 4441 \nQ 881 4594 1212 4672 \nQ 1544 4750 1819 4750 \nQ 2544 4750 2975 4387 \nQ 3406 4025 3406 3419 \nQ 3406 3131 3298 2873 \nQ 3191 2616 2906 2266 \nQ 2828 2175 2409 1742 \nQ 1991 1309 1228 531 \nz\n\" id=\"DejaVuSans-32\" transform=\"scale(0.015625)\"/>\n       </defs>\n       <use xlink:href=\"#DejaVuSans-30\"/>\n       <use x=\"63.623047\" xlink:href=\"#DejaVuSans-2e\"/>\n       <use x=\"95.410156\" xlink:href=\"#DejaVuSans-32\"/>\n      </g>\n     </g>\n    </g>\n    <g id=\"xtick_3\">\n     <g id=\"line2d_5\">\n      <path clip-path=\"url(#p1a94cbf049)\" d=\"M 168.105766 224.64 \nL 168.105766 7.2 \n\" style=\"fill:none;stroke:#b0b0b0;stroke-linecap:square;stroke-width:0.8;\"/>\n     </g>\n     <g id=\"line2d_6\">\n      <g>\n       <use style=\"stroke:#000000;stroke-width:0.8;\" x=\"168.105766\" xlink:href=\"#ma2f64f1e4d\" y=\"224.64\"/>\n      </g>\n     </g>\n     <g id=\"text_3\">\n      <!-- 0.4 -->\n      <g transform=\"translate(160.154204 239.238437)scale(0.1 -0.1)\">\n       <defs>\n        <path d=\"M 2419 4116 \nL 825 1625 \nL 2419 1625 \nL 2419 4116 \nz\nM 2253 4666 \nL 3047 4666 \nL 3047 1625 \nL 3713 1625 \nL 3713 1100 \nL 3047 1100 \nL 3047 0 \nL 2419 0 \nL 2419 1100 \nL 313 1100 \nL 313 1709 \nL 2253 4666 \nz\n\" id=\"DejaVuSans-34\" transform=\"scale(0.015625)\"/>\n       </defs>\n       <use xlink:href=\"#DejaVuSans-30\"/>\n       <use x=\"63.623047\" xlink:href=\"#DejaVuSans-2e\"/>\n       <use x=\"95.410156\" xlink:href=\"#DejaVuSans-34\"/>\n      </g>\n     </g>\n    </g>\n    <g id=\"xtick_4\">\n     <g id=\"line2d_7\">\n      <path clip-path=\"url(#p1a94cbf049)\" d=\"M 227.905854 224.64 \nL 227.905854 7.2 \n\" style=\"fill:none;stroke:#b0b0b0;stroke-linecap:square;stroke-width:0.8;\"/>\n     </g>\n     <g id=\"line2d_8\">\n      <g>\n       <use style=\"stroke:#000000;stroke-width:0.8;\" x=\"227.905854\" xlink:href=\"#ma2f64f1e4d\" y=\"224.64\"/>\n      </g>\n     </g>\n     <g id=\"text_4\">\n      <!-- 0.6 -->\n      <g transform=\"translate(219.954291 239.238437)scale(0.1 -0.1)\">\n       <defs>\n        <path d=\"M 2113 2584 \nQ 1688 2584 1439 2293 \nQ 1191 2003 1191 1497 \nQ 1191 994 1439 701 \nQ 1688 409 2113 409 \nQ 2538 409 2786 701 \nQ 3034 994 3034 1497 \nQ 3034 2003 2786 2293 \nQ 2538 2584 2113 2584 \nz\nM 3366 4563 \nL 3366 3988 \nQ 3128 4100 2886 4159 \nQ 2644 4219 2406 4219 \nQ 1781 4219 1451 3797 \nQ 1122 3375 1075 2522 \nQ 1259 2794 1537 2939 \nQ 1816 3084 2150 3084 \nQ 2853 3084 3261 2657 \nQ 3669 2231 3669 1497 \nQ 3669 778 3244 343 \nQ 2819 -91 2113 -91 \nQ 1303 -91 875 529 \nQ 447 1150 447 2328 \nQ 447 3434 972 4092 \nQ 1497 4750 2381 4750 \nQ 2619 4750 2861 4703 \nQ 3103 4656 3366 4563 \nz\n\" id=\"DejaVuSans-36\" transform=\"scale(0.015625)\"/>\n       </defs>\n       <use xlink:href=\"#DejaVuSans-30\"/>\n       <use x=\"63.623047\" xlink:href=\"#DejaVuSans-2e\"/>\n       <use x=\"95.410156\" xlink:href=\"#DejaVuSans-36\"/>\n      </g>\n     </g>\n    </g>\n    <g id=\"xtick_5\">\n     <g id=\"line2d_9\">\n      <path clip-path=\"url(#p1a94cbf049)\" d=\"M 287.705941 224.64 \nL 287.705941 7.2 \n\" style=\"fill:none;stroke:#b0b0b0;stroke-linecap:square;stroke-width:0.8;\"/>\n     </g>\n     <g id=\"line2d_10\">\n      <g>\n       <use style=\"stroke:#000000;stroke-width:0.8;\" x=\"287.705941\" xlink:href=\"#ma2f64f1e4d\" y=\"224.64\"/>\n      </g>\n     </g>\n     <g id=\"text_5\">\n      <!-- 0.8 -->\n      <g transform=\"translate(279.754378 239.238437)scale(0.1 -0.1)\">\n       <defs>\n        <path d=\"M 2034 2216 \nQ 1584 2216 1326 1975 \nQ 1069 1734 1069 1313 \nQ 1069 891 1326 650 \nQ 1584 409 2034 409 \nQ 2484 409 2743 651 \nQ 3003 894 3003 1313 \nQ 3003 1734 2745 1975 \nQ 2488 2216 2034 2216 \nz\nM 1403 2484 \nQ 997 2584 770 2862 \nQ 544 3141 544 3541 \nQ 544 4100 942 4425 \nQ 1341 4750 2034 4750 \nQ 2731 4750 3128 4425 \nQ 3525 4100 3525 3541 \nQ 3525 3141 3298 2862 \nQ 3072 2584 2669 2484 \nQ 3125 2378 3379 2068 \nQ 3634 1759 3634 1313 \nQ 3634 634 3220 271 \nQ 2806 -91 2034 -91 \nQ 1263 -91 848 271 \nQ 434 634 434 1313 \nQ 434 1759 690 2068 \nQ 947 2378 1403 2484 \nz\nM 1172 3481 \nQ 1172 3119 1398 2916 \nQ 1625 2713 2034 2713 \nQ 2441 2713 2670 2916 \nQ 2900 3119 2900 3481 \nQ 2900 3844 2670 4047 \nQ 2441 4250 2034 4250 \nQ 1625 4250 1398 4047 \nQ 1172 3844 1172 3481 \nz\n\" id=\"DejaVuSans-38\" transform=\"scale(0.015625)\"/>\n       </defs>\n       <use xlink:href=\"#DejaVuSans-30\"/>\n       <use x=\"63.623047\" xlink:href=\"#DejaVuSans-2e\"/>\n       <use x=\"95.410156\" xlink:href=\"#DejaVuSans-38\"/>\n      </g>\n     </g>\n    </g>\n    <g id=\"xtick_6\">\n     <g id=\"line2d_11\">\n      <path clip-path=\"url(#p1a94cbf049)\" d=\"M 347.506028 224.64 \nL 347.506028 7.2 \n\" style=\"fill:none;stroke:#b0b0b0;stroke-linecap:square;stroke-width:0.8;\"/>\n     </g>\n     <g id=\"line2d_12\">\n      <g>\n       <use style=\"stroke:#000000;stroke-width:0.8;\" x=\"347.506028\" xlink:href=\"#ma2f64f1e4d\" y=\"224.64\"/>\n      </g>\n     </g>\n     <g id=\"text_6\">\n      <!-- 1.0 -->\n      <g transform=\"translate(339.554465 239.238437)scale(0.1 -0.1)\">\n       <defs>\n        <path d=\"M 794 531 \nL 1825 531 \nL 1825 4091 \nL 703 3866 \nL 703 4441 \nL 1819 4666 \nL 2450 4666 \nL 2450 531 \nL 3481 531 \nL 3481 0 \nL 794 0 \nL 794 531 \nz\n\" id=\"DejaVuSans-31\" transform=\"scale(0.015625)\"/>\n       </defs>\n       <use xlink:href=\"#DejaVuSans-31\"/>\n       <use x=\"63.623047\" xlink:href=\"#DejaVuSans-2e\"/>\n       <use x=\"95.410156\" xlink:href=\"#DejaVuSans-30\"/>\n      </g>\n     </g>\n    </g>\n    <g id=\"text_7\">\n     <!-- 1e7 -->\n     <g transform=\"translate(349.209375 251.916562)scale(0.1 -0.1)\">\n      <defs>\n       <path d=\"M 3597 1894 \nL 3597 1613 \nL 953 1613 \nQ 991 1019 1311 708 \nQ 1631 397 2203 397 \nQ 2534 397 2845 478 \nQ 3156 559 3463 722 \nL 3463 178 \nQ 3153 47 2828 -22 \nQ 2503 -91 2169 -91 \nQ 1331 -91 842 396 \nQ 353 884 353 1716 \nQ 353 2575 817 3079 \nQ 1281 3584 2069 3584 \nQ 2775 3584 3186 3129 \nQ 3597 2675 3597 1894 \nz\nM 3022 2063 \nQ 3016 2534 2758 2815 \nQ 2500 3097 2075 3097 \nQ 1594 3097 1305 2825 \nQ 1016 2553 972 2059 \nL 3022 2063 \nz\n\" id=\"DejaVuSans-65\" transform=\"scale(0.015625)\"/>\n       <path d=\"M 525 4666 \nL 3525 4666 \nL 3525 4397 \nL 1831 0 \nL 1172 0 \nL 2766 4134 \nL 525 4134 \nL 525 4666 \nz\n\" id=\"DejaVuSans-37\" transform=\"scale(0.015625)\"/>\n      </defs>\n      <use xlink:href=\"#DejaVuSans-31\"/>\n      <use x=\"63.623047\" xlink:href=\"#DejaVuSans-65\"/>\n      <use x=\"125.146484\" xlink:href=\"#DejaVuSans-37\"/>\n     </g>\n    </g>\n   </g>\n   <g id=\"matplotlib.axis_2\">\n    <g id=\"ytick_1\">\n     <g id=\"line2d_13\">\n      <path clip-path=\"url(#p1a94cbf049)\" d=\"M 33.2875 224.64 \nL 368.0875 224.64 \n\" style=\"fill:none;stroke:#b0b0b0;stroke-linecap:square;stroke-width:0.8;\"/>\n     </g>\n     <g id=\"line2d_14\">\n      <defs>\n       <path d=\"M 0 0 \nL -3.5 0 \n\" id=\"m6b894ac9d0\" style=\"stroke:#000000;stroke-width:0.8;\"/>\n      </defs>\n      <g>\n       <use style=\"stroke:#000000;stroke-width:0.8;\" x=\"33.2875\" xlink:href=\"#m6b894ac9d0\" y=\"224.64\"/>\n      </g>\n     </g>\n     <g id=\"text_8\">\n      <!-- 0 -->\n      <g transform=\"translate(19.925 228.439219)scale(0.1 -0.1)\">\n       <use xlink:href=\"#DejaVuSans-30\"/>\n      </g>\n     </g>\n    </g>\n    <g id=\"ytick_2\">\n     <g id=\"line2d_15\">\n      <path clip-path=\"url(#p1a94cbf049)\" d=\"M 33.2875 178.41551 \nL 368.0875 178.41551 \n\" style=\"fill:none;stroke:#b0b0b0;stroke-linecap:square;stroke-width:0.8;\"/>\n     </g>\n     <g id=\"line2d_16\">\n      <g>\n       <use style=\"stroke:#000000;stroke-width:0.8;\" x=\"33.2875\" xlink:href=\"#m6b894ac9d0\" y=\"178.41551\"/>\n      </g>\n     </g>\n     <g id=\"text_9\">\n      <!-- 100 -->\n      <g transform=\"translate(7.2 182.214729)scale(0.1 -0.1)\">\n       <use xlink:href=\"#DejaVuSans-31\"/>\n       <use x=\"63.623047\" xlink:href=\"#DejaVuSans-30\"/>\n       <use x=\"127.246094\" xlink:href=\"#DejaVuSans-30\"/>\n      </g>\n     </g>\n    </g>\n    <g id=\"ytick_3\">\n     <g id=\"line2d_17\">\n      <path clip-path=\"url(#p1a94cbf049)\" d=\"M 33.2875 132.19102 \nL 368.0875 132.19102 \n\" style=\"fill:none;stroke:#b0b0b0;stroke-linecap:square;stroke-width:0.8;\"/>\n     </g>\n     <g id=\"line2d_18\">\n      <g>\n       <use style=\"stroke:#000000;stroke-width:0.8;\" x=\"33.2875\" xlink:href=\"#m6b894ac9d0\" y=\"132.19102\"/>\n      </g>\n     </g>\n     <g id=\"text_10\">\n      <!-- 200 -->\n      <g transform=\"translate(7.2 135.990239)scale(0.1 -0.1)\">\n       <use xlink:href=\"#DejaVuSans-32\"/>\n       <use x=\"63.623047\" xlink:href=\"#DejaVuSans-30\"/>\n       <use x=\"127.246094\" xlink:href=\"#DejaVuSans-30\"/>\n      </g>\n     </g>\n    </g>\n    <g id=\"ytick_4\">\n     <g id=\"line2d_19\">\n      <path clip-path=\"url(#p1a94cbf049)\" d=\"M 33.2875 85.966531 \nL 368.0875 85.966531 \n\" style=\"fill:none;stroke:#b0b0b0;stroke-linecap:square;stroke-width:0.8;\"/>\n     </g>\n     <g id=\"line2d_20\">\n      <g>\n       <use style=\"stroke:#000000;stroke-width:0.8;\" x=\"33.2875\" xlink:href=\"#m6b894ac9d0\" y=\"85.966531\"/>\n      </g>\n     </g>\n     <g id=\"text_11\">\n      <!-- 300 -->\n      <g transform=\"translate(7.2 89.765749)scale(0.1 -0.1)\">\n       <defs>\n        <path d=\"M 2597 2516 \nQ 3050 2419 3304 2112 \nQ 3559 1806 3559 1356 \nQ 3559 666 3084 287 \nQ 2609 -91 1734 -91 \nQ 1441 -91 1130 -33 \nQ 819 25 488 141 \nL 488 750 \nQ 750 597 1062 519 \nQ 1375 441 1716 441 \nQ 2309 441 2620 675 \nQ 2931 909 2931 1356 \nQ 2931 1769 2642 2001 \nQ 2353 2234 1838 2234 \nL 1294 2234 \nL 1294 2753 \nL 1863 2753 \nQ 2328 2753 2575 2939 \nQ 2822 3125 2822 3475 \nQ 2822 3834 2567 4026 \nQ 2313 4219 1838 4219 \nQ 1578 4219 1281 4162 \nQ 984 4106 628 3988 \nL 628 4550 \nQ 988 4650 1302 4700 \nQ 1616 4750 1894 4750 \nQ 2613 4750 3031 4423 \nQ 3450 4097 3450 3541 \nQ 3450 3153 3228 2886 \nQ 3006 2619 2597 2516 \nz\n\" id=\"DejaVuSans-33\" transform=\"scale(0.015625)\"/>\n       </defs>\n       <use xlink:href=\"#DejaVuSans-33\"/>\n       <use x=\"63.623047\" xlink:href=\"#DejaVuSans-30\"/>\n       <use x=\"127.246094\" xlink:href=\"#DejaVuSans-30\"/>\n      </g>\n     </g>\n    </g>\n    <g id=\"ytick_5\">\n     <g id=\"line2d_21\">\n      <path clip-path=\"url(#p1a94cbf049)\" d=\"M 33.2875 39.742041 \nL 368.0875 39.742041 \n\" style=\"fill:none;stroke:#b0b0b0;stroke-linecap:square;stroke-width:0.8;\"/>\n     </g>\n     <g id=\"line2d_22\">\n      <g>\n       <use style=\"stroke:#000000;stroke-width:0.8;\" x=\"33.2875\" xlink:href=\"#m6b894ac9d0\" y=\"39.742041\"/>\n      </g>\n     </g>\n     <g id=\"text_12\">\n      <!-- 400 -->\n      <g transform=\"translate(7.2 43.54126)scale(0.1 -0.1)\">\n       <use xlink:href=\"#DejaVuSans-34\"/>\n       <use x=\"63.623047\" xlink:href=\"#DejaVuSans-30\"/>\n       <use x=\"127.246094\" xlink:href=\"#DejaVuSans-30\"/>\n      </g>\n     </g>\n    </g>\n   </g>\n   <g id=\"patch_13\">\n    <path d=\"M 33.2875 224.64 \nL 33.2875 7.2 \n\" style=\"fill:none;stroke:#000000;stroke-linecap:square;stroke-linejoin:miter;stroke-width:0.8;\"/>\n   </g>\n   <g id=\"patch_14\">\n    <path d=\"M 368.0875 224.64 \nL 368.0875 7.2 \n\" style=\"fill:none;stroke:#000000;stroke-linecap:square;stroke-linejoin:miter;stroke-width:0.8;\"/>\n   </g>\n   <g id=\"patch_15\">\n    <path d=\"M 33.2875 224.64 \nL 368.0875 224.64 \n\" style=\"fill:none;stroke:#000000;stroke-linecap:square;stroke-linejoin:miter;stroke-width:0.8;\"/>\n   </g>\n   <g id=\"patch_16\">\n    <path d=\"M 33.2875 7.2 \nL 368.0875 7.2 \n\" style=\"fill:none;stroke:#000000;stroke-linecap:square;stroke-linejoin:miter;stroke-width:0.8;\"/>\n   </g>\n  </g>\n </g>\n <defs>\n  <clipPath id=\"p1a94cbf049\">\n   <rect height=\"217.44\" width=\"334.8\" x=\"33.2875\" y=\"7.2\"/>\n  </clipPath>\n </defs>\n</svg>\n",
      "image/png": "[encoded data removed]"
     },
     "metadata": {
      "needs_background": "light"
     }
    }
   ],
   "source": [
    "# What is the distribution of playlist's total tracks?\n",
    "playlist_df['total_followers'].hist()"
   ]
  },
  {
   "cell_type": "code",
   "execution_count": 12,
   "metadata": {
    "ExecuteTime": {
     "end_time": "2021-01-21T15:12:53.671378Z",
     "start_time": "2021-01-21T15:12:53.327018Z"
    }
   },
   "outputs": [
    {
     "output_type": "execute_result",
     "data": {
      "text/plain": [
       "classical    0.272925\n",
       "jazz         0.199634\n",
       "pop          0.188772\n",
       "reggae       0.186028\n",
       "country      0.152641\n",
       "Name: genre, dtype: float64"
      ]
     },
     "metadata": {},
     "execution_count": 12
    }
   ],
   "source": [
    "#tally of tracks\n",
    "#tracks_df['genre'].value_counts()\n",
    "tracks_df['genre'].value_counts(normalize=True)"
   ]
  },
  {
   "cell_type": "markdown",
   "metadata": {},
   "source": [
    "### 2. Refine the training data"
   ]
  },
  {
   "cell_type": "code",
   "execution_count": 13,
   "metadata": {
    "ExecuteTime": {
     "end_time": "2021-01-21T15:12:53.688262Z",
     "start_time": "2021-01-21T15:12:53.673620Z"
    }
   },
   "outputs": [
    {
     "output_type": "execute_result",
     "data": {
      "text/plain": [
       "              playlist_id      playlist_name  playlist_total_tracks owner_id  \\\n",
       "0  37i9dQZF1DWVqfgj8NZEp1  Coffee Table Jazz                    140  spotify   \n",
       "1  37i9dQZF1DXbITWG1ZJKYt      Jazz Classics                    100  spotify   \n",
       "2  37i9dQZF1DX4wta20PHgwo    Late Night Jazz                     80  spotify   \n",
       "3  37i9dQZF1DX0SM0LYsmbMT         Jazz Vibes                    350  spotify   \n",
       "4  37i9dQZF1DWTbzY5gOVvKd      Jazzy Romance                     60  spotify   \n",
       "\n",
       "  owner_name  total_followers genre  \n",
       "0    Spotify          2282279  jazz  \n",
       "1    Spotify          1905763  jazz  \n",
       "2    Spotify          1852668  jazz  \n",
       "3    Spotify          1775132  jazz  \n",
       "4    Spotify           996283  jazz  "
      ],
      "text/html": "<div>\n<style scoped>\n    .dataframe tbody tr th:only-of-type {\n        vertical-align: middle;\n    }\n\n    .dataframe tbody tr th {\n        vertical-align: top;\n    }\n\n    .dataframe thead th {\n        text-align: right;\n    }\n</style>\n<table border=\"1\" class=\"dataframe\">\n  <thead>\n    <tr style=\"text-align: right;\">\n      <th></th>\n      <th>playlist_id</th>\n      <th>playlist_name</th>\n      <th>playlist_total_tracks</th>\n      <th>owner_id</th>\n      <th>owner_name</th>\n      <th>total_followers</th>\n      <th>genre</th>\n    </tr>\n  </thead>\n  <tbody>\n    <tr>\n      <th>0</th>\n      <td>37i9dQZF1DWVqfgj8NZEp1</td>\n      <td>Coffee Table Jazz</td>\n      <td>140</td>\n      <td>spotify</td>\n      <td>Spotify</td>\n      <td>2282279</td>\n      <td>jazz</td>\n    </tr>\n    <tr>\n      <th>1</th>\n      <td>37i9dQZF1DXbITWG1ZJKYt</td>\n      <td>Jazz Classics</td>\n      <td>100</td>\n      <td>spotify</td>\n      <td>Spotify</td>\n      <td>1905763</td>\n      <td>jazz</td>\n    </tr>\n    <tr>\n      <th>2</th>\n      <td>37i9dQZF1DX4wta20PHgwo</td>\n      <td>Late Night Jazz</td>\n      <td>80</td>\n      <td>spotify</td>\n      <td>Spotify</td>\n      <td>1852668</td>\n      <td>jazz</td>\n    </tr>\n    <tr>\n      <th>3</th>\n      <td>37i9dQZF1DX0SM0LYsmbMT</td>\n      <td>Jazz Vibes</td>\n      <td>350</td>\n      <td>spotify</td>\n      <td>Spotify</td>\n      <td>1775132</td>\n      <td>jazz</td>\n    </tr>\n    <tr>\n      <th>4</th>\n      <td>37i9dQZF1DWTbzY5gOVvKd</td>\n      <td>Jazzy Romance</td>\n      <td>60</td>\n      <td>spotify</td>\n      <td>Spotify</td>\n      <td>996283</td>\n      <td>jazz</td>\n    </tr>\n  </tbody>\n</table>\n</div>"
     },
     "metadata": {},
     "execution_count": 13
    }
   ],
   "source": [
    "#get top 5 playlists per genre\n",
    "top_playlists_df = playlist_df.groupby('genre').head(5)\n",
    "top_playlists_df.head()"
   ]
  },
  {
   "cell_type": "code",
   "execution_count": 14,
   "metadata": {
    "ExecuteTime": {
     "end_time": "2021-01-21T15:12:53.706525Z",
     "start_time": "2021-01-21T15:12:53.691178Z"
    }
   },
   "outputs": [
    {
     "output_type": "execute_result",
     "data": {
      "text/plain": [
       "jazz         712\n",
       "pop          502\n",
       "classical    473\n",
       "reggae       466\n",
       "country      254\n",
       "Name: genre, dtype: int64"
      ]
     },
     "metadata": {},
     "execution_count": 14
    }
   ],
   "source": [
    "tracks_df = tracks_df[tracks_df['playlist_id'].isin(top_playlists_df['playlist_id'].values)]\n",
    "tracks_df['genre'].value_counts()"
   ]
  },
  {
   "cell_type": "markdown",
   "metadata": {},
   "source": [
    "### 3. Feature Engineering"
   ]
  },
  {
   "cell_type": "markdown",
   "metadata": {},
   "source": [
    "##### Conversions/Normalizations"
   ]
  },
  {
   "cell_type": "code",
   "execution_count": 15,
   "metadata": {
    "ExecuteTime": {
     "end_time": "2021-01-21T15:12:53.713900Z",
     "start_time": "2021-01-21T15:12:53.709413Z"
    }
   },
   "outputs": [],
   "source": [
    "#convert duration from ms to mins\n",
    "tracks_df['duration_mins']=tracks_df['duration']/60000"
   ]
  },
  {
   "cell_type": "code",
   "execution_count": 16,
   "metadata": {
    "ExecuteTime": {
     "end_time": "2021-01-21T15:12:55.732448Z",
     "start_time": "2021-01-21T15:12:53.717230Z"
    }
   },
   "outputs": [
    {
     "output_type": "execute_result",
     "data": {
      "text/plain": [
       "count    2407.000000\n",
       "mean        0.762869\n",
       "std         0.174076\n",
       "min         0.000000\n",
       "25%         0.663653\n",
       "50%         0.826147\n",
       "75%         0.894885\n",
       "max         1.000000\n",
       "Name: loudness, dtype: float64"
      ]
     },
     "metadata": {},
     "execution_count": 16
    }
   ],
   "source": [
    "tracks_df['loudness'] = scaler.fit_transform(tracks_df[['loudness']])\n",
    "tracks_df['loudness'].describe()"
   ]
  },
  {
   "cell_type": "code",
   "execution_count": 17,
   "metadata": {
    "ExecuteTime": {
     "end_time": "2021-01-21T15:12:55.756376Z",
     "start_time": "2021-01-21T15:12:55.734859Z"
    }
   },
   "outputs": [
    {
     "output_type": "execute_result",
     "data": {
      "text/plain": [
       "count    2407.000000\n",
       "mean        0.527422\n",
       "std         0.154373\n",
       "min         0.000000\n",
       "25%         0.409178\n",
       "50%         0.486401\n",
       "75%         0.623485\n",
       "max         1.000000\n",
       "Name: tempo, dtype: float64"
      ]
     },
     "metadata": {},
     "execution_count": 17
    }
   ],
   "source": [
    "#Normalize tempo\n",
    "tracks_df['tempo'] =  scaler.fit_transform(tracks_df[['tempo']])\n",
    "#check\n",
    "tracks_df['tempo'].describe()"
   ]
  },
  {
   "cell_type": "markdown",
   "metadata": {},
   "source": [
    "###### Categorical Encoding"
   ]
  },
  {
   "cell_type": "code",
   "execution_count": 18,
   "metadata": {
    "ExecuteTime": {
     "end_time": "2021-01-21T15:12:55.771503Z",
     "start_time": "2021-01-21T15:12:55.759010Z"
    }
   },
   "outputs": [
    {
     "output_type": "execute_result",
     "data": {
      "text/plain": [
       "track_id              object\n",
       "track_name            object\n",
       "artist_id             object\n",
       "artist_name           object\n",
       "album_id              object\n",
       "duration               int64\n",
       "release_date          object\n",
       "popularity             int64\n",
       "danceability         float64\n",
       "energy               float64\n",
       "key                    int64\n",
       "loudness             float64\n",
       "mode                   int64\n",
       "speechiness          float64\n",
       "acousticness         float64\n",
       "instrumentalness     float64\n",
       "liveness             float64\n",
       "valence              float64\n",
       "tempo                float64\n",
       "playlist_id           object\n",
       "genre               category\n",
       "playlist_name         object\n",
       "duration_mins        float64\n",
       "dtype: object"
      ]
     },
     "metadata": {},
     "execution_count": 18
    }
   ],
   "source": [
    "tracks_df[\"genre\"] = tracks_df[\"genre\"].astype('category')\n",
    "tracks_df.dtypes"
   ]
  },
  {
   "cell_type": "code",
   "execution_count": 19,
   "metadata": {
    "ExecuteTime": {
     "end_time": "2021-01-21T15:12:55.784436Z",
     "start_time": "2021-01-21T15:12:55.774867Z"
    }
   },
   "outputs": [
    {
     "output_type": "execute_result",
     "data": {
      "text/plain": [
       "jazz         712\n",
       "pop          502\n",
       "classical    473\n",
       "reggae       466\n",
       "country      254\n",
       "Name: genre, dtype: int64"
      ]
     },
     "metadata": {},
     "execution_count": 19
    }
   ],
   "source": [
    "tracks_df['genre'].value_counts()"
   ]
  },
  {
   "cell_type": "code",
   "execution_count": 20,
   "metadata": {
    "ExecuteTime": {
     "end_time": "2021-01-21T15:12:55.822459Z",
     "start_time": "2021-01-21T15:12:55.786994Z"
    }
   },
   "outputs": [
    {
     "output_type": "execute_result",
     "data": {
      "text/plain": [
       "                 track_id               track_name               artist_id  \\\n",
       "0  2wOlZrHUpRP9hQbqbV9Ae5                 Together  0Cioop2zjxXxtcPUme7R46   \n",
       "1  2yiISACbYnL2hApy1ffKKs  Misty - Remastered 2020  6C65D20ASusYqHGSIktfED   \n",
       "2  2R1vQwYTC0sl93C6oyVuHC               Simplicity  0FAC6FNPb4LsY5uyp0xTWF   \n",
       "3  7zzaZggdFuadOs0R7SuJlp                 My Ideal  5CSkWcdoRvgBQDwJTZZstJ   \n",
       "4  7LIFp3v3CaTCvcG6fmceIg                   Clouds  7c7414LKkYnuDPlkrwDg9a   \n",
       "\n",
       "         artist_name                album_id  duration release_date  \\\n",
       "0    Matthew Halsall  1fcREbFQfCqfwxXkxGgvV7    672520   2009-10-26   \n",
       "1      Erroll Garner  41sYqKPEygmvQrLXKpzWJU    167121   2020-04-17   \n",
       "2       Edward Simon  4GDYdHheKfIOBMjqOgTK6k    309586   2020-10-09   \n",
       "3     Jerry Bergonzi  2T8WUL1jRlaGIqj36oD5O5    219766   2021-01-15   \n",
       "4  Portraits in Jazz  3LEyIlY9P6z9Mvp6dpxk9d    283650   2020-11-27   \n",
       "\n",
       "   popularity  danceability  energy  ...  acousticness  instrumentalness  \\\n",
       "0          61         0.401  0.0236  ...         0.978           0.57900   \n",
       "1          62         0.327  0.1450  ...         0.945           0.88400   \n",
       "2          58         0.493  0.1070  ...         0.881           0.90600   \n",
       "3          45         0.526  0.0767  ...         0.802           0.00195   \n",
       "4          56         0.338  0.1650  ...         0.977           0.31500   \n",
       "\n",
       "   liveness  valence     tempo             playlist_id  genre  \\\n",
       "0    0.1020    0.163  0.516468  37i9dQZF1DWVqfgj8NZEp1   jazz   \n",
       "1    0.0910    0.136  0.836329  37i9dQZF1DWVqfgj8NZEp1   jazz   \n",
       "2    0.1220    0.126  0.426777  37i9dQZF1DWVqfgj8NZEp1   jazz   \n",
       "3    0.0978    0.247  0.526978  37i9dQZF1DWVqfgj8NZEp1   jazz   \n",
       "4    0.1220    0.174  0.356400  37i9dQZF1DWVqfgj8NZEp1   jazz   \n",
       "\n",
       "       playlist_name  duration_mins genre_id  \n",
       "0  Coffee Table Jazz      11.208667        2  \n",
       "1  Coffee Table Jazz       2.785350        2  \n",
       "2  Coffee Table Jazz       5.159767        2  \n",
       "3  Coffee Table Jazz       3.662767        2  \n",
       "4  Coffee Table Jazz       4.727500        2  \n",
       "\n",
       "[5 rows x 24 columns]"
      ],
      "text/html": "<div>\n<style scoped>\n    .dataframe tbody tr th:only-of-type {\n        vertical-align: middle;\n    }\n\n    .dataframe tbody tr th {\n        vertical-align: top;\n    }\n\n    .dataframe thead th {\n        text-align: right;\n    }\n</style>\n<table border=\"1\" class=\"dataframe\">\n  <thead>\n    <tr style=\"text-align: right;\">\n      <th></th>\n      <th>track_id</th>\n      <th>track_name</th>\n      <th>artist_id</th>\n      <th>artist_name</th>\n      <th>album_id</th>\n      <th>duration</th>\n      <th>release_date</th>\n      <th>popularity</th>\n      <th>danceability</th>\n      <th>energy</th>\n      <th>...</th>\n      <th>acousticness</th>\n      <th>instrumentalness</th>\n      <th>liveness</th>\n      <th>valence</th>\n      <th>tempo</th>\n      <th>playlist_id</th>\n      <th>genre</th>\n      <th>playlist_name</th>\n      <th>duration_mins</th>\n      <th>genre_id</th>\n    </tr>\n  </thead>\n  <tbody>\n    <tr>\n      <th>0</th>\n      <td>2wOlZrHUpRP9hQbqbV9Ae5</td>\n      <td>Together</td>\n      <td>0Cioop2zjxXxtcPUme7R46</td>\n      <td>Matthew Halsall</td>\n      <td>1fcREbFQfCqfwxXkxGgvV7</td>\n      <td>672520</td>\n      <td>2009-10-26</td>\n      <td>61</td>\n      <td>0.401</td>\n      <td>0.0236</td>\n      <td>...</td>\n      <td>0.978</td>\n      <td>0.57900</td>\n      <td>0.1020</td>\n      <td>0.163</td>\n      <td>0.516468</td>\n      <td>37i9dQZF1DWVqfgj8NZEp1</td>\n      <td>jazz</td>\n      <td>Coffee Table Jazz</td>\n      <td>11.208667</td>\n      <td>2</td>\n    </tr>\n    <tr>\n      <th>1</th>\n      <td>2yiISACbYnL2hApy1ffKKs</td>\n      <td>Misty - Remastered 2020</td>\n      <td>6C65D20ASusYqHGSIktfED</td>\n      <td>Erroll Garner</td>\n      <td>41sYqKPEygmvQrLXKpzWJU</td>\n      <td>167121</td>\n      <td>2020-04-17</td>\n      <td>62</td>\n      <td>0.327</td>\n      <td>0.1450</td>\n      <td>...</td>\n      <td>0.945</td>\n      <td>0.88400</td>\n      <td>0.0910</td>\n      <td>0.136</td>\n      <td>0.836329</td>\n      <td>37i9dQZF1DWVqfgj8NZEp1</td>\n      <td>jazz</td>\n      <td>Coffee Table Jazz</td>\n      <td>2.785350</td>\n      <td>2</td>\n    </tr>\n    <tr>\n      <th>2</th>\n      <td>2R1vQwYTC0sl93C6oyVuHC</td>\n      <td>Simplicity</td>\n      <td>0FAC6FNPb4LsY5uyp0xTWF</td>\n      <td>Edward Simon</td>\n      <td>4GDYdHheKfIOBMjqOgTK6k</td>\n      <td>309586</td>\n      <td>2020-10-09</td>\n      <td>58</td>\n      <td>0.493</td>\n      <td>0.1070</td>\n      <td>...</td>\n      <td>0.881</td>\n      <td>0.90600</td>\n      <td>0.1220</td>\n      <td>0.126</td>\n      <td>0.426777</td>\n      <td>37i9dQZF1DWVqfgj8NZEp1</td>\n      <td>jazz</td>\n      <td>Coffee Table Jazz</td>\n      <td>5.159767</td>\n      <td>2</td>\n    </tr>\n    <tr>\n      <th>3</th>\n      <td>7zzaZggdFuadOs0R7SuJlp</td>\n      <td>My Ideal</td>\n      <td>5CSkWcdoRvgBQDwJTZZstJ</td>\n      <td>Jerry Bergonzi</td>\n      <td>2T8WUL1jRlaGIqj36oD5O5</td>\n      <td>219766</td>\n      <td>2021-01-15</td>\n      <td>45</td>\n      <td>0.526</td>\n      <td>0.0767</td>\n      <td>...</td>\n      <td>0.802</td>\n      <td>0.00195</td>\n      <td>0.0978</td>\n      <td>0.247</td>\n      <td>0.526978</td>\n      <td>37i9dQZF1DWVqfgj8NZEp1</td>\n      <td>jazz</td>\n      <td>Coffee Table Jazz</td>\n      <td>3.662767</td>\n      <td>2</td>\n    </tr>\n    <tr>\n      <th>4</th>\n      <td>7LIFp3v3CaTCvcG6fmceIg</td>\n      <td>Clouds</td>\n      <td>7c7414LKkYnuDPlkrwDg9a</td>\n      <td>Portraits in Jazz</td>\n      <td>3LEyIlY9P6z9Mvp6dpxk9d</td>\n      <td>283650</td>\n      <td>2020-11-27</td>\n      <td>56</td>\n      <td>0.338</td>\n      <td>0.1650</td>\n      <td>...</td>\n      <td>0.977</td>\n      <td>0.31500</td>\n      <td>0.1220</td>\n      <td>0.174</td>\n      <td>0.356400</td>\n      <td>37i9dQZF1DWVqfgj8NZEp1</td>\n      <td>jazz</td>\n      <td>Coffee Table Jazz</td>\n      <td>4.727500</td>\n      <td>2</td>\n    </tr>\n  </tbody>\n</table>\n<p>5 rows × 24 columns</p>\n</div>"
     },
     "metadata": {},
     "execution_count": 20
    }
   ],
   "source": [
    "tracks_df['genre_id'] = tracks_df[\"genre\"].cat.codes\n",
    "tracks_df.head()"
   ]
  },
  {
   "cell_type": "code",
   "execution_count": 21,
   "metadata": {
    "ExecuteTime": {
     "end_time": "2021-01-21T15:12:55.838100Z",
     "start_time": "2021-01-21T15:12:55.825564Z"
    }
   },
   "outputs": [
    {
     "output_type": "execute_result",
     "data": {
      "text/plain": [
       "{2: 'jazz', 3: 'pop', 4: 'reggae', 0: 'classical', 1: 'country'}"
      ]
     },
     "metadata": {},
     "execution_count": 21
    }
   ],
   "source": [
    "genre_lookup = dict(tracks_df.groupby('genre_id').head(1)[['genre_id','genre']].values)\n",
    "genre_lookup"
   ]
  },
  {
   "cell_type": "markdown",
   "metadata": {},
   "source": [
    "## 4. Train a KNN model"
   ]
  },
  {
   "cell_type": "code",
   "execution_count": 22,
   "metadata": {
    "ExecuteTime": {
     "end_time": "2021-01-21T15:12:56.763506Z",
     "start_time": "2021-01-21T15:12:56.759866Z"
    }
   },
   "outputs": [],
   "source": [
    "#test plot for a genre and 2 predictors\n",
    "\n",
    "# fig = plt.figure()\n",
    "# ax= fig.add_subplot(111)\n",
    "\n",
    "# colormaps = ['Reds','Blues']\n",
    "# genre = 'pop'\n",
    "# label = [\"not \"+genre,genre]\n",
    "# for n,genre_bool in enumerate([0,1]):\n",
    "#     df=tracks_df[tracks_df['genre_'+genre]==genre_bool]\n",
    "#     sns.kdeplot(df['energy'],df['tempo'], ax=ax,\\\n",
    "#                 shade=True, shade_lowest=False, alpha=0.5, cmap=colormaps[n],\\\n",
    "#                 label=label[n])\n",
    "    \n",
    "# plt.legend(frameon=False)\n"
   ]
  },
  {
   "cell_type": "markdown",
   "metadata": {},
   "source": [
    "Tuning the model"
   ]
  },
  {
   "cell_type": "code",
   "execution_count": 23,
   "metadata": {
    "ExecuteTime": {
     "end_time": "2021-01-21T15:13:40.275752Z",
     "start_time": "2021-01-21T15:12:56.766924Z"
    },
    "scrolled": true
   },
   "outputs": [
    {
     "output_type": "stream",
     "name": "stdout",
     "text": [
      "\nTuning kNN classification model with K-Fold=4...\nShape of X_Train:(1925, 9)\nShape of y_Train:(1925,)\nShape of X_Test:(482, 9)\nShape of y_Test:(482,)\nFinding best k...\n"
     ]
    },
    {
     "output_type": "display_data",
     "data": {
      "text/plain": "<Figure size 432x288 with 1 Axes>",
      "image/svg+xml": "<?xml version=\"1.0\" encoding=\"utf-8\" standalone=\"no\"?>\n<!DOCTYPE svg PUBLIC \"-//W3C//DTD SVG 1.1//EN\"\n  \"http://www.w3.org/Graphics/SVG/1.1/DTD/svg11.dtd\">\n<svg height=\"264.219503pt\" version=\"1.1\" viewBox=\"0 0 392.14375 264.219503\" width=\"392.14375pt\" xmlns=\"http://www.w3.org/2000/svg\" xmlns:xlink=\"http://www.w3.org/1999/xlink\">\n <metadata>\n  <rdf:RDF xmlns:cc=\"http://creativecommons.org/ns#\" xmlns:dc=\"http://purl.org/dc/elements/1.1/\" xmlns:rdf=\"http://www.w3.org/1999/02/22-rdf-syntax-ns#\">\n   <cc:Work>\n    <dc:type rdf:resource=\"http://purl.org/dc/dcmitype/StillImage\"/>\n    <dc:date>2021-06-04T06:09:17.282296</dc:date>\n    <dc:format>image/svg+xml</dc:format>\n    <dc:creator>\n     <cc:Agent>\n      <dc:title>Matplotlib v3.4.2, https://matplotlib.org/</dc:title>\n     </cc:Agent>\n    </dc:creator>\n   </cc:Work>\n  </rdf:RDF>\n </metadata>\n <defs>\n  <style type=\"text/css\">*{stroke-linecap:butt;stroke-linejoin:round;}</style>\n </defs>\n <g id=\"figure_1\">\n  <g id=\"patch_1\">\n   <path d=\"M 0 264.219503 \nL 392.14375 264.219503 \nL 392.14375 0 \nL 0 0 \nz\n\" style=\"fill:none;\"/>\n  </g>\n  <g id=\"axes_1\">\n   <g id=\"patch_2\">\n    <path d=\"M 50.14375 226.663253 \nL 384.94375 226.663253 \nL 384.94375 9.223253 \nL 50.14375 9.223253 \nz\n\" style=\"fill:#ffffff;\"/>\n   </g>\n   <g id=\"matplotlib.axis_1\">\n    <g id=\"xtick_1\">\n     <g id=\"line2d_1\">\n      <defs>\n       <path d=\"M 0 0 \nL 0 3.5 \n\" id=\"mb2933d6087\" style=\"stroke:#000000;stroke-width:0.8;\"/>\n      </defs>\n      <g>\n       <use style=\"stroke:#000000;stroke-width:0.8;\" x=\"52.680114\" xlink:href=\"#mb2933d6087\" y=\"226.663253\"/>\n      </g>\n     </g>\n     <g id=\"text_1\">\n      <!-- 0 -->\n      <g transform=\"translate(49.498864 241.26169)scale(0.1 -0.1)\">\n       <defs>\n        <path d=\"M 2034 4250 \nQ 1547 4250 1301 3770 \nQ 1056 3291 1056 2328 \nQ 1056 1369 1301 889 \nQ 1547 409 2034 409 \nQ 2525 409 2770 889 \nQ 3016 1369 3016 2328 \nQ 3016 3291 2770 3770 \nQ 2525 4250 2034 4250 \nz\nM 2034 4750 \nQ 2819 4750 3233 4129 \nQ 3647 3509 3647 2328 \nQ 3647 1150 3233 529 \nQ 2819 -91 2034 -91 \nQ 1250 -91 836 529 \nQ 422 1150 422 2328 \nQ 422 3509 836 4129 \nQ 1250 4750 2034 4750 \nz\n\" id=\"DejaVuSans-30\" transform=\"scale(0.015625)\"/>\n       </defs>\n       <use xlink:href=\"#DejaVuSans-30\"/>\n      </g>\n     </g>\n    </g>\n    <g id=\"xtick_2\">\n     <g id=\"line2d_2\">\n      <g>\n       <use style=\"stroke:#000000;stroke-width:0.8;\" x=\"116.089205\" xlink:href=\"#mb2933d6087\" y=\"226.663253\"/>\n      </g>\n     </g>\n     <g id=\"text_2\">\n      <!-- 10 -->\n      <g transform=\"translate(109.726705 241.26169)scale(0.1 -0.1)\">\n       <defs>\n        <path d=\"M 794 531 \nL 1825 531 \nL 1825 4091 \nL 703 3866 \nL 703 4441 \nL 1819 4666 \nL 2450 4666 \nL 2450 531 \nL 3481 531 \nL 3481 0 \nL 794 0 \nL 794 531 \nz\n\" id=\"DejaVuSans-31\" transform=\"scale(0.015625)\"/>\n       </defs>\n       <use xlink:href=\"#DejaVuSans-31\"/>\n       <use x=\"63.623047\" xlink:href=\"#DejaVuSans-30\"/>\n      </g>\n     </g>\n    </g>\n    <g id=\"xtick_3\">\n     <g id=\"line2d_3\">\n      <g>\n       <use style=\"stroke:#000000;stroke-width:0.8;\" x=\"179.498295\" xlink:href=\"#mb2933d6087\" y=\"226.663253\"/>\n      </g>\n     </g>\n     <g id=\"text_3\">\n      <!-- 20 -->\n      <g transform=\"translate(173.135795 241.26169)scale(0.1 -0.1)\">\n       <defs>\n        <path d=\"M 1228 531 \nL 3431 531 \nL 3431 0 \nL 469 0 \nL 469 531 \nQ 828 903 1448 1529 \nQ 2069 2156 2228 2338 \nQ 2531 2678 2651 2914 \nQ 2772 3150 2772 3378 \nQ 2772 3750 2511 3984 \nQ 2250 4219 1831 4219 \nQ 1534 4219 1204 4116 \nQ 875 4013 500 3803 \nL 500 4441 \nQ 881 4594 1212 4672 \nQ 1544 4750 1819 4750 \nQ 2544 4750 2975 4387 \nQ 3406 4025 3406 3419 \nQ 3406 3131 3298 2873 \nQ 3191 2616 2906 2266 \nQ 2828 2175 2409 1742 \nQ 1991 1309 1228 531 \nz\n\" id=\"DejaVuSans-32\" transform=\"scale(0.015625)\"/>\n       </defs>\n       <use xlink:href=\"#DejaVuSans-32\"/>\n       <use x=\"63.623047\" xlink:href=\"#DejaVuSans-30\"/>\n      </g>\n     </g>\n    </g>\n    <g id=\"xtick_4\">\n     <g id=\"line2d_4\">\n      <g>\n       <use style=\"stroke:#000000;stroke-width:0.8;\" x=\"242.907386\" xlink:href=\"#mb2933d6087\" y=\"226.663253\"/>\n      </g>\n     </g>\n     <g id=\"text_4\">\n      <!-- 30 -->\n      <g transform=\"translate(236.544886 241.26169)scale(0.1 -0.1)\">\n       <defs>\n        <path d=\"M 2597 2516 \nQ 3050 2419 3304 2112 \nQ 3559 1806 3559 1356 \nQ 3559 666 3084 287 \nQ 2609 -91 1734 -91 \nQ 1441 -91 1130 -33 \nQ 819 25 488 141 \nL 488 750 \nQ 750 597 1062 519 \nQ 1375 441 1716 441 \nQ 2309 441 2620 675 \nQ 2931 909 2931 1356 \nQ 2931 1769 2642 2001 \nQ 2353 2234 1838 2234 \nL 1294 2234 \nL 1294 2753 \nL 1863 2753 \nQ 2328 2753 2575 2939 \nQ 2822 3125 2822 3475 \nQ 2822 3834 2567 4026 \nQ 2313 4219 1838 4219 \nQ 1578 4219 1281 4162 \nQ 984 4106 628 3988 \nL 628 4550 \nQ 988 4650 1302 4700 \nQ 1616 4750 1894 4750 \nQ 2613 4750 3031 4423 \nQ 3450 4097 3450 3541 \nQ 3450 3153 3228 2886 \nQ 3006 2619 2597 2516 \nz\n\" id=\"DejaVuSans-33\" transform=\"scale(0.015625)\"/>\n       </defs>\n       <use xlink:href=\"#DejaVuSans-33\"/>\n       <use x=\"63.623047\" xlink:href=\"#DejaVuSans-30\"/>\n      </g>\n     </g>\n    </g>\n    <g id=\"xtick_5\">\n     <g id=\"line2d_5\">\n      <g>\n       <use style=\"stroke:#000000;stroke-width:0.8;\" x=\"306.316477\" xlink:href=\"#mb2933d6087\" y=\"226.663253\"/>\n      </g>\n     </g>\n     <g id=\"text_5\">\n      <!-- 40 -->\n      <g transform=\"translate(299.953977 241.26169)scale(0.1 -0.1)\">\n       <defs>\n        <path d=\"M 2419 4116 \nL 825 1625 \nL 2419 1625 \nL 2419 4116 \nz\nM 2253 4666 \nL 3047 4666 \nL 3047 1625 \nL 3713 1625 \nL 3713 1100 \nL 3047 1100 \nL 3047 0 \nL 2419 0 \nL 2419 1100 \nL 313 1100 \nL 313 1709 \nL 2253 4666 \nz\n\" id=\"DejaVuSans-34\" transform=\"scale(0.015625)\"/>\n       </defs>\n       <use xlink:href=\"#DejaVuSans-34\"/>\n       <use x=\"63.623047\" xlink:href=\"#DejaVuSans-30\"/>\n      </g>\n     </g>\n    </g>\n    <g id=\"xtick_6\">\n     <g id=\"line2d_6\">\n      <g>\n       <use style=\"stroke:#000000;stroke-width:0.8;\" x=\"369.725568\" xlink:href=\"#mb2933d6087\" y=\"226.663253\"/>\n      </g>\n     </g>\n     <g id=\"text_6\">\n      <!-- 50 -->\n      <g transform=\"translate(363.363068 241.26169)scale(0.1 -0.1)\">\n       <defs>\n        <path d=\"M 691 4666 \nL 3169 4666 \nL 3169 4134 \nL 1269 4134 \nL 1269 2991 \nQ 1406 3038 1543 3061 \nQ 1681 3084 1819 3084 \nQ 2600 3084 3056 2656 \nQ 3513 2228 3513 1497 \nQ 3513 744 3044 326 \nQ 2575 -91 1722 -91 \nQ 1428 -91 1123 -41 \nQ 819 9 494 109 \nL 494 744 \nQ 775 591 1075 516 \nQ 1375 441 1709 441 \nQ 2250 441 2565 725 \nQ 2881 1009 2881 1497 \nQ 2881 1984 2565 2268 \nQ 2250 2553 1709 2553 \nQ 1456 2553 1204 2497 \nQ 953 2441 691 2322 \nL 691 4666 \nz\n\" id=\"DejaVuSans-35\" transform=\"scale(0.015625)\"/>\n       </defs>\n       <use xlink:href=\"#DejaVuSans-35\"/>\n       <use x=\"63.623047\" xlink:href=\"#DejaVuSans-30\"/>\n      </g>\n     </g>\n    </g>\n    <g id=\"text_7\">\n     <!-- Number of Neighbors K -->\n     <g transform=\"translate(159.149219 254.939815)scale(0.1 -0.1)\">\n      <defs>\n       <path d=\"M 628 4666 \nL 1478 4666 \nL 3547 763 \nL 3547 4666 \nL 4159 4666 \nL 4159 0 \nL 3309 0 \nL 1241 3903 \nL 1241 0 \nL 628 0 \nL 628 4666 \nz\n\" id=\"DejaVuSans-4e\" transform=\"scale(0.015625)\"/>\n       <path d=\"M 544 1381 \nL 544 3500 \nL 1119 3500 \nL 1119 1403 \nQ 1119 906 1312 657 \nQ 1506 409 1894 409 \nQ 2359 409 2629 706 \nQ 2900 1003 2900 1516 \nL 2900 3500 \nL 3475 3500 \nL 3475 0 \nL 2900 0 \nL 2900 538 \nQ 2691 219 2414 64 \nQ 2138 -91 1772 -91 \nQ 1169 -91 856 284 \nQ 544 659 544 1381 \nz\nM 1991 3584 \nL 1991 3584 \nz\n\" id=\"DejaVuSans-75\" transform=\"scale(0.015625)\"/>\n       <path d=\"M 3328 2828 \nQ 3544 3216 3844 3400 \nQ 4144 3584 4550 3584 \nQ 5097 3584 5394 3201 \nQ 5691 2819 5691 2113 \nL 5691 0 \nL 5113 0 \nL 5113 2094 \nQ 5113 2597 4934 2840 \nQ 4756 3084 4391 3084 \nQ 3944 3084 3684 2787 \nQ 3425 2491 3425 1978 \nL 3425 0 \nL 2847 0 \nL 2847 2094 \nQ 2847 2600 2669 2842 \nQ 2491 3084 2119 3084 \nQ 1678 3084 1418 2786 \nQ 1159 2488 1159 1978 \nL 1159 0 \nL 581 0 \nL 581 3500 \nL 1159 3500 \nL 1159 2956 \nQ 1356 3278 1631 3431 \nQ 1906 3584 2284 3584 \nQ 2666 3584 2933 3390 \nQ 3200 3197 3328 2828 \nz\n\" id=\"DejaVuSans-6d\" transform=\"scale(0.015625)\"/>\n       <path d=\"M 3116 1747 \nQ 3116 2381 2855 2742 \nQ 2594 3103 2138 3103 \nQ 1681 3103 1420 2742 \nQ 1159 2381 1159 1747 \nQ 1159 1113 1420 752 \nQ 1681 391 2138 391 \nQ 2594 391 2855 752 \nQ 3116 1113 3116 1747 \nz\nM 1159 2969 \nQ 1341 3281 1617 3432 \nQ 1894 3584 2278 3584 \nQ 2916 3584 3314 3078 \nQ 3713 2572 3713 1747 \nQ 3713 922 3314 415 \nQ 2916 -91 2278 -91 \nQ 1894 -91 1617 61 \nQ 1341 213 1159 525 \nL 1159 0 \nL 581 0 \nL 581 4863 \nL 1159 4863 \nL 1159 2969 \nz\n\" id=\"DejaVuSans-62\" transform=\"scale(0.015625)\"/>\n       <path d=\"M 3597 1894 \nL 3597 1613 \nL 953 1613 \nQ 991 1019 1311 708 \nQ 1631 397 2203 397 \nQ 2534 397 2845 478 \nQ 3156 559 3463 722 \nL 3463 178 \nQ 3153 47 2828 -22 \nQ 2503 -91 2169 -91 \nQ 1331 -91 842 396 \nQ 353 884 353 1716 \nQ 353 2575 817 3079 \nQ 1281 3584 2069 3584 \nQ 2775 3584 3186 3129 \nQ 3597 2675 3597 1894 \nz\nM 3022 2063 \nQ 3016 2534 2758 2815 \nQ 2500 3097 2075 3097 \nQ 1594 3097 1305 2825 \nQ 1016 2553 972 2059 \nL 3022 2063 \nz\n\" id=\"DejaVuSans-65\" transform=\"scale(0.015625)\"/>\n       <path d=\"M 2631 2963 \nQ 2534 3019 2420 3045 \nQ 2306 3072 2169 3072 \nQ 1681 3072 1420 2755 \nQ 1159 2438 1159 1844 \nL 1159 0 \nL 581 0 \nL 581 3500 \nL 1159 3500 \nL 1159 2956 \nQ 1341 3275 1631 3429 \nQ 1922 3584 2338 3584 \nQ 2397 3584 2469 3576 \nQ 2541 3569 2628 3553 \nL 2631 2963 \nz\n\" id=\"DejaVuSans-72\" transform=\"scale(0.015625)\"/>\n       <path id=\"DejaVuSans-20\" transform=\"scale(0.015625)\"/>\n       <path d=\"M 1959 3097 \nQ 1497 3097 1228 2736 \nQ 959 2375 959 1747 \nQ 959 1119 1226 758 \nQ 1494 397 1959 397 \nQ 2419 397 2687 759 \nQ 2956 1122 2956 1747 \nQ 2956 2369 2687 2733 \nQ 2419 3097 1959 3097 \nz\nM 1959 3584 \nQ 2709 3584 3137 3096 \nQ 3566 2609 3566 1747 \nQ 3566 888 3137 398 \nQ 2709 -91 1959 -91 \nQ 1206 -91 779 398 \nQ 353 888 353 1747 \nQ 353 2609 779 3096 \nQ 1206 3584 1959 3584 \nz\n\" id=\"DejaVuSans-6f\" transform=\"scale(0.015625)\"/>\n       <path d=\"M 2375 4863 \nL 2375 4384 \nL 1825 4384 \nQ 1516 4384 1395 4259 \nQ 1275 4134 1275 3809 \nL 1275 3500 \nL 2222 3500 \nL 2222 3053 \nL 1275 3053 \nL 1275 0 \nL 697 0 \nL 697 3053 \nL 147 3053 \nL 147 3500 \nL 697 3500 \nL 697 3744 \nQ 697 4328 969 4595 \nQ 1241 4863 1831 4863 \nL 2375 4863 \nz\n\" id=\"DejaVuSans-66\" transform=\"scale(0.015625)\"/>\n       <path d=\"M 603 3500 \nL 1178 3500 \nL 1178 0 \nL 603 0 \nL 603 3500 \nz\nM 603 4863 \nL 1178 4863 \nL 1178 4134 \nL 603 4134 \nL 603 4863 \nz\n\" id=\"DejaVuSans-69\" transform=\"scale(0.015625)\"/>\n       <path d=\"M 2906 1791 \nQ 2906 2416 2648 2759 \nQ 2391 3103 1925 3103 \nQ 1463 3103 1205 2759 \nQ 947 2416 947 1791 \nQ 947 1169 1205 825 \nQ 1463 481 1925 481 \nQ 2391 481 2648 825 \nQ 2906 1169 2906 1791 \nz\nM 3481 434 \nQ 3481 -459 3084 -895 \nQ 2688 -1331 1869 -1331 \nQ 1566 -1331 1297 -1286 \nQ 1028 -1241 775 -1147 \nL 775 -588 \nQ 1028 -725 1275 -790 \nQ 1522 -856 1778 -856 \nQ 2344 -856 2625 -561 \nQ 2906 -266 2906 331 \nL 2906 616 \nQ 2728 306 2450 153 \nQ 2172 0 1784 0 \nQ 1141 0 747 490 \nQ 353 981 353 1791 \nQ 353 2603 747 3093 \nQ 1141 3584 1784 3584 \nQ 2172 3584 2450 3431 \nQ 2728 3278 2906 2969 \nL 2906 3500 \nL 3481 3500 \nL 3481 434 \nz\n\" id=\"DejaVuSans-67\" transform=\"scale(0.015625)\"/>\n       <path d=\"M 3513 2113 \nL 3513 0 \nL 2938 0 \nL 2938 2094 \nQ 2938 2591 2744 2837 \nQ 2550 3084 2163 3084 \nQ 1697 3084 1428 2787 \nQ 1159 2491 1159 1978 \nL 1159 0 \nL 581 0 \nL 581 4863 \nL 1159 4863 \nL 1159 2956 \nQ 1366 3272 1645 3428 \nQ 1925 3584 2291 3584 \nQ 2894 3584 3203 3211 \nQ 3513 2838 3513 2113 \nz\n\" id=\"DejaVuSans-68\" transform=\"scale(0.015625)\"/>\n       <path d=\"M 2834 3397 \nL 2834 2853 \nQ 2591 2978 2328 3040 \nQ 2066 3103 1784 3103 \nQ 1356 3103 1142 2972 \nQ 928 2841 928 2578 \nQ 928 2378 1081 2264 \nQ 1234 2150 1697 2047 \nL 1894 2003 \nQ 2506 1872 2764 1633 \nQ 3022 1394 3022 966 \nQ 3022 478 2636 193 \nQ 2250 -91 1575 -91 \nQ 1294 -91 989 -36 \nQ 684 19 347 128 \nL 347 722 \nQ 666 556 975 473 \nQ 1284 391 1588 391 \nQ 1994 391 2212 530 \nQ 2431 669 2431 922 \nQ 2431 1156 2273 1281 \nQ 2116 1406 1581 1522 \nL 1381 1569 \nQ 847 1681 609 1914 \nQ 372 2147 372 2553 \nQ 372 3047 722 3315 \nQ 1072 3584 1716 3584 \nQ 2034 3584 2315 3537 \nQ 2597 3491 2834 3397 \nz\n\" id=\"DejaVuSans-73\" transform=\"scale(0.015625)\"/>\n       <path d=\"M 628 4666 \nL 1259 4666 \nL 1259 2694 \nL 3353 4666 \nL 4166 4666 \nL 1850 2491 \nL 4331 0 \nL 3500 0 \nL 1259 2247 \nL 1259 0 \nL 628 0 \nL 628 4666 \nz\n\" id=\"DejaVuSans-4b\" transform=\"scale(0.015625)\"/>\n      </defs>\n      <use xlink:href=\"#DejaVuSans-4e\"/>\n      <use x=\"74.804688\" xlink:href=\"#DejaVuSans-75\"/>\n      <use x=\"138.183594\" xlink:href=\"#DejaVuSans-6d\"/>\n      <use x=\"235.595703\" xlink:href=\"#DejaVuSans-62\"/>\n      <use x=\"299.072266\" xlink:href=\"#DejaVuSans-65\"/>\n      <use x=\"360.595703\" xlink:href=\"#DejaVuSans-72\"/>\n      <use x=\"401.708984\" xlink:href=\"#DejaVuSans-20\"/>\n      <use x=\"433.496094\" xlink:href=\"#DejaVuSans-6f\"/>\n      <use x=\"494.677734\" xlink:href=\"#DejaVuSans-66\"/>\n      <use x=\"529.882812\" xlink:href=\"#DejaVuSans-20\"/>\n      <use x=\"561.669922\" xlink:href=\"#DejaVuSans-4e\"/>\n      <use x=\"636.474609\" xlink:href=\"#DejaVuSans-65\"/>\n      <use x=\"697.998047\" xlink:href=\"#DejaVuSans-69\"/>\n      <use x=\"725.78125\" xlink:href=\"#DejaVuSans-67\"/>\n      <use x=\"789.257812\" xlink:href=\"#DejaVuSans-68\"/>\n      <use x=\"852.636719\" xlink:href=\"#DejaVuSans-62\"/>\n      <use x=\"916.113281\" xlink:href=\"#DejaVuSans-6f\"/>\n      <use x=\"977.294922\" xlink:href=\"#DejaVuSans-72\"/>\n      <use x=\"1018.408203\" xlink:href=\"#DejaVuSans-73\"/>\n      <use x=\"1070.507812\" xlink:href=\"#DejaVuSans-20\"/>\n      <use x=\"1102.294922\" xlink:href=\"#DejaVuSans-4b\"/>\n     </g>\n    </g>\n   </g>\n   <g id=\"matplotlib.axis_2\">\n    <g id=\"ytick_1\">\n     <g id=\"line2d_7\">\n      <defs>\n       <path d=\"M 0 0 \nL -3.5 0 \n\" id=\"m57b370c490\" style=\"stroke:#000000;stroke-width:0.8;\"/>\n      </defs>\n      <g>\n       <use style=\"stroke:#000000;stroke-width:0.8;\" x=\"50.14375\" xlink:href=\"#m57b370c490\" y=\"219.096094\"/>\n      </g>\n     </g>\n     <g id=\"text_8\">\n      <!-- 0.26 -->\n      <g transform=\"translate(20.878125 222.895312)scale(0.1 -0.1)\">\n       <defs>\n        <path d=\"M 684 794 \nL 1344 794 \nL 1344 0 \nL 684 0 \nL 684 794 \nz\n\" id=\"DejaVuSans-2e\" transform=\"scale(0.015625)\"/>\n        <path d=\"M 2113 2584 \nQ 1688 2584 1439 2293 \nQ 1191 2003 1191 1497 \nQ 1191 994 1439 701 \nQ 1688 409 2113 409 \nQ 2538 409 2786 701 \nQ 3034 994 3034 1497 \nQ 3034 2003 2786 2293 \nQ 2538 2584 2113 2584 \nz\nM 3366 4563 \nL 3366 3988 \nQ 3128 4100 2886 4159 \nQ 2644 4219 2406 4219 \nQ 1781 4219 1451 3797 \nQ 1122 3375 1075 2522 \nQ 1259 2794 1537 2939 \nQ 1816 3084 2150 3084 \nQ 2853 3084 3261 2657 \nQ 3669 2231 3669 1497 \nQ 3669 778 3244 343 \nQ 2819 -91 2113 -91 \nQ 1303 -91 875 529 \nQ 447 1150 447 2328 \nQ 447 3434 972 4092 \nQ 1497 4750 2381 4750 \nQ 2619 4750 2861 4703 \nQ 3103 4656 3366 4563 \nz\n\" id=\"DejaVuSans-36\" transform=\"scale(0.015625)\"/>\n       </defs>\n       <use xlink:href=\"#DejaVuSans-30\"/>\n       <use x=\"63.623047\" xlink:href=\"#DejaVuSans-2e\"/>\n       <use x=\"95.410156\" xlink:href=\"#DejaVuSans-32\"/>\n       <use x=\"159.033203\" xlink:href=\"#DejaVuSans-36\"/>\n      </g>\n     </g>\n    </g>\n    <g id=\"ytick_2\">\n     <g id=\"line2d_8\">\n      <g>\n       <use style=\"stroke:#000000;stroke-width:0.8;\" x=\"50.14375\" xlink:href=\"#m57b370c490\" y=\"189.367969\"/>\n      </g>\n     </g>\n     <g id=\"text_9\">\n      <!-- 0.27 -->\n      <g transform=\"translate(20.878125 193.167187)scale(0.1 -0.1)\">\n       <defs>\n        <path d=\"M 525 4666 \nL 3525 4666 \nL 3525 4397 \nL 1831 0 \nL 1172 0 \nL 2766 4134 \nL 525 4134 \nL 525 4666 \nz\n\" id=\"DejaVuSans-37\" transform=\"scale(0.015625)\"/>\n       </defs>\n       <use xlink:href=\"#DejaVuSans-30\"/>\n       <use x=\"63.623047\" xlink:href=\"#DejaVuSans-2e\"/>\n       <use x=\"95.410156\" xlink:href=\"#DejaVuSans-32\"/>\n       <use x=\"159.033203\" xlink:href=\"#DejaVuSans-37\"/>\n      </g>\n     </g>\n    </g>\n    <g id=\"ytick_3\">\n     <g id=\"line2d_9\">\n      <g>\n       <use style=\"stroke:#000000;stroke-width:0.8;\" x=\"50.14375\" xlink:href=\"#m57b370c490\" y=\"159.639844\"/>\n      </g>\n     </g>\n     <g id=\"text_10\">\n      <!-- 0.28 -->\n      <g transform=\"translate(20.878125 163.439062)scale(0.1 -0.1)\">\n       <defs>\n        <path d=\"M 2034 2216 \nQ 1584 2216 1326 1975 \nQ 1069 1734 1069 1313 \nQ 1069 891 1326 650 \nQ 1584 409 2034 409 \nQ 2484 409 2743 651 \nQ 3003 894 3003 1313 \nQ 3003 1734 2745 1975 \nQ 2488 2216 2034 2216 \nz\nM 1403 2484 \nQ 997 2584 770 2862 \nQ 544 3141 544 3541 \nQ 544 4100 942 4425 \nQ 1341 4750 2034 4750 \nQ 2731 4750 3128 4425 \nQ 3525 4100 3525 3541 \nQ 3525 3141 3298 2862 \nQ 3072 2584 2669 2484 \nQ 3125 2378 3379 2068 \nQ 3634 1759 3634 1313 \nQ 3634 634 3220 271 \nQ 2806 -91 2034 -91 \nQ 1263 -91 848 271 \nQ 434 634 434 1313 \nQ 434 1759 690 2068 \nQ 947 2378 1403 2484 \nz\nM 1172 3481 \nQ 1172 3119 1398 2916 \nQ 1625 2713 2034 2713 \nQ 2441 2713 2670 2916 \nQ 2900 3119 2900 3481 \nQ 2900 3844 2670 4047 \nQ 2441 4250 2034 4250 \nQ 1625 4250 1398 4047 \nQ 1172 3844 1172 3481 \nz\n\" id=\"DejaVuSans-38\" transform=\"scale(0.015625)\"/>\n       </defs>\n       <use xlink:href=\"#DejaVuSans-30\"/>\n       <use x=\"63.623047\" xlink:href=\"#DejaVuSans-2e\"/>\n       <use x=\"95.410156\" xlink:href=\"#DejaVuSans-32\"/>\n       <use x=\"159.033203\" xlink:href=\"#DejaVuSans-38\"/>\n      </g>\n     </g>\n    </g>\n    <g id=\"ytick_4\">\n     <g id=\"line2d_10\">\n      <g>\n       <use style=\"stroke:#000000;stroke-width:0.8;\" x=\"50.14375\" xlink:href=\"#m57b370c490\" y=\"129.911719\"/>\n      </g>\n     </g>\n     <g id=\"text_11\">\n      <!-- 0.29 -->\n      <g transform=\"translate(20.878125 133.710938)scale(0.1 -0.1)\">\n       <defs>\n        <path d=\"M 703 97 \nL 703 672 \nQ 941 559 1184 500 \nQ 1428 441 1663 441 \nQ 2288 441 2617 861 \nQ 2947 1281 2994 2138 \nQ 2813 1869 2534 1725 \nQ 2256 1581 1919 1581 \nQ 1219 1581 811 2004 \nQ 403 2428 403 3163 \nQ 403 3881 828 4315 \nQ 1253 4750 1959 4750 \nQ 2769 4750 3195 4129 \nQ 3622 3509 3622 2328 \nQ 3622 1225 3098 567 \nQ 2575 -91 1691 -91 \nQ 1453 -91 1209 -44 \nQ 966 3 703 97 \nz\nM 1959 2075 \nQ 2384 2075 2632 2365 \nQ 2881 2656 2881 3163 \nQ 2881 3666 2632 3958 \nQ 2384 4250 1959 4250 \nQ 1534 4250 1286 3958 \nQ 1038 3666 1038 3163 \nQ 1038 2656 1286 2365 \nQ 1534 2075 1959 2075 \nz\n\" id=\"DejaVuSans-39\" transform=\"scale(0.015625)\"/>\n       </defs>\n       <use xlink:href=\"#DejaVuSans-30\"/>\n       <use x=\"63.623047\" xlink:href=\"#DejaVuSans-2e\"/>\n       <use x=\"95.410156\" xlink:href=\"#DejaVuSans-32\"/>\n       <use x=\"159.033203\" xlink:href=\"#DejaVuSans-39\"/>\n      </g>\n     </g>\n    </g>\n    <g id=\"ytick_5\">\n     <g id=\"line2d_11\">\n      <g>\n       <use style=\"stroke:#000000;stroke-width:0.8;\" x=\"50.14375\" xlink:href=\"#m57b370c490\" y=\"100.183594\"/>\n      </g>\n     </g>\n     <g id=\"text_12\">\n      <!-- 0.30 -->\n      <g transform=\"translate(20.878125 103.982813)scale(0.1 -0.1)\">\n       <use xlink:href=\"#DejaVuSans-30\"/>\n       <use x=\"63.623047\" xlink:href=\"#DejaVuSans-2e\"/>\n       <use x=\"95.410156\" xlink:href=\"#DejaVuSans-33\"/>\n       <use x=\"159.033203\" xlink:href=\"#DejaVuSans-30\"/>\n      </g>\n     </g>\n    </g>\n    <g id=\"ytick_6\">\n     <g id=\"line2d_12\">\n      <g>\n       <use style=\"stroke:#000000;stroke-width:0.8;\" x=\"50.14375\" xlink:href=\"#m57b370c490\" y=\"70.455469\"/>\n      </g>\n     </g>\n     <g id=\"text_13\">\n      <!-- 0.31 -->\n      <g transform=\"translate(20.878125 74.254688)scale(0.1 -0.1)\">\n       <use xlink:href=\"#DejaVuSans-30\"/>\n       <use x=\"63.623047\" xlink:href=\"#DejaVuSans-2e\"/>\n       <use x=\"95.410156\" xlink:href=\"#DejaVuSans-33\"/>\n       <use x=\"159.033203\" xlink:href=\"#DejaVuSans-31\"/>\n      </g>\n     </g>\n    </g>\n    <g id=\"ytick_7\">\n     <g id=\"line2d_13\">\n      <g>\n       <use style=\"stroke:#000000;stroke-width:0.8;\" x=\"50.14375\" xlink:href=\"#m57b370c490\" y=\"40.727344\"/>\n      </g>\n     </g>\n     <g id=\"text_14\">\n      <!-- 0.32 -->\n      <g transform=\"translate(20.878125 44.526562)scale(0.1 -0.1)\">\n       <use xlink:href=\"#DejaVuSans-30\"/>\n       <use x=\"63.623047\" xlink:href=\"#DejaVuSans-2e\"/>\n       <use x=\"95.410156\" xlink:href=\"#DejaVuSans-33\"/>\n       <use x=\"159.033203\" xlink:href=\"#DejaVuSans-32\"/>\n      </g>\n     </g>\n    </g>\n    <g id=\"ytick_8\">\n     <g id=\"line2d_14\">\n      <g>\n       <use style=\"stroke:#000000;stroke-width:0.8;\" x=\"50.14375\" xlink:href=\"#m57b370c490\" y=\"10.999219\"/>\n      </g>\n     </g>\n     <g id=\"text_15\">\n      <!-- 0.33 -->\n      <g transform=\"translate(20.878125 14.798438)scale(0.1 -0.1)\">\n       <use xlink:href=\"#DejaVuSans-30\"/>\n       <use x=\"63.623047\" xlink:href=\"#DejaVuSans-2e\"/>\n       <use x=\"95.410156\" xlink:href=\"#DejaVuSans-33\"/>\n       <use x=\"159.033203\" xlink:href=\"#DejaVuSans-33\"/>\n      </g>\n     </g>\n    </g>\n    <g id=\"text_16\">\n     <!-- Misclassification Error -->\n     <g transform=\"translate(14.798438 172.365909)rotate(-90)scale(0.1 -0.1)\">\n      <defs>\n       <path d=\"M 628 4666 \nL 1569 4666 \nL 2759 1491 \nL 3956 4666 \nL 4897 4666 \nL 4897 0 \nL 4281 0 \nL 4281 4097 \nL 3078 897 \nL 2444 897 \nL 1241 4097 \nL 1241 0 \nL 628 0 \nL 628 4666 \nz\n\" id=\"DejaVuSans-4d\" transform=\"scale(0.015625)\"/>\n       <path d=\"M 3122 3366 \nL 3122 2828 \nQ 2878 2963 2633 3030 \nQ 2388 3097 2138 3097 \nQ 1578 3097 1268 2742 \nQ 959 2388 959 1747 \nQ 959 1106 1268 751 \nQ 1578 397 2138 397 \nQ 2388 397 2633 464 \nQ 2878 531 3122 666 \nL 3122 134 \nQ 2881 22 2623 -34 \nQ 2366 -91 2075 -91 \nQ 1284 -91 818 406 \nQ 353 903 353 1747 \nQ 353 2603 823 3093 \nQ 1294 3584 2113 3584 \nQ 2378 3584 2631 3529 \nQ 2884 3475 3122 3366 \nz\n\" id=\"DejaVuSans-63\" transform=\"scale(0.015625)\"/>\n       <path d=\"M 603 4863 \nL 1178 4863 \nL 1178 0 \nL 603 0 \nL 603 4863 \nz\n\" id=\"DejaVuSans-6c\" transform=\"scale(0.015625)\"/>\n       <path d=\"M 2194 1759 \nQ 1497 1759 1228 1600 \nQ 959 1441 959 1056 \nQ 959 750 1161 570 \nQ 1363 391 1709 391 \nQ 2188 391 2477 730 \nQ 2766 1069 2766 1631 \nL 2766 1759 \nL 2194 1759 \nz\nM 3341 1997 \nL 3341 0 \nL 2766 0 \nL 2766 531 \nQ 2569 213 2275 61 \nQ 1981 -91 1556 -91 \nQ 1019 -91 701 211 \nQ 384 513 384 1019 \nQ 384 1609 779 1909 \nQ 1175 2209 1959 2209 \nL 2766 2209 \nL 2766 2266 \nQ 2766 2663 2505 2880 \nQ 2244 3097 1772 3097 \nQ 1472 3097 1187 3025 \nQ 903 2953 641 2809 \nL 641 3341 \nQ 956 3463 1253 3523 \nQ 1550 3584 1831 3584 \nQ 2591 3584 2966 3190 \nQ 3341 2797 3341 1997 \nz\n\" id=\"DejaVuSans-61\" transform=\"scale(0.015625)\"/>\n       <path d=\"M 1172 4494 \nL 1172 3500 \nL 2356 3500 \nL 2356 3053 \nL 1172 3053 \nL 1172 1153 \nQ 1172 725 1289 603 \nQ 1406 481 1766 481 \nL 2356 481 \nL 2356 0 \nL 1766 0 \nQ 1100 0 847 248 \nQ 594 497 594 1153 \nL 594 3053 \nL 172 3053 \nL 172 3500 \nL 594 3500 \nL 594 4494 \nL 1172 4494 \nz\n\" id=\"DejaVuSans-74\" transform=\"scale(0.015625)\"/>\n       <path d=\"M 3513 2113 \nL 3513 0 \nL 2938 0 \nL 2938 2094 \nQ 2938 2591 2744 2837 \nQ 2550 3084 2163 3084 \nQ 1697 3084 1428 2787 \nQ 1159 2491 1159 1978 \nL 1159 0 \nL 581 0 \nL 581 3500 \nL 1159 3500 \nL 1159 2956 \nQ 1366 3272 1645 3428 \nQ 1925 3584 2291 3584 \nQ 2894 3584 3203 3211 \nQ 3513 2838 3513 2113 \nz\n\" id=\"DejaVuSans-6e\" transform=\"scale(0.015625)\"/>\n       <path d=\"M 628 4666 \nL 3578 4666 \nL 3578 4134 \nL 1259 4134 \nL 1259 2753 \nL 3481 2753 \nL 3481 2222 \nL 1259 2222 \nL 1259 531 \nL 3634 531 \nL 3634 0 \nL 628 0 \nL 628 4666 \nz\n\" id=\"DejaVuSans-45\" transform=\"scale(0.015625)\"/>\n      </defs>\n      <use xlink:href=\"#DejaVuSans-4d\"/>\n      <use x=\"86.279297\" xlink:href=\"#DejaVuSans-69\"/>\n      <use x=\"114.0625\" xlink:href=\"#DejaVuSans-73\"/>\n      <use x=\"166.162109\" xlink:href=\"#DejaVuSans-63\"/>\n      <use x=\"221.142578\" xlink:href=\"#DejaVuSans-6c\"/>\n      <use x=\"248.925781\" xlink:href=\"#DejaVuSans-61\"/>\n      <use x=\"310.205078\" xlink:href=\"#DejaVuSans-73\"/>\n      <use x=\"362.304688\" xlink:href=\"#DejaVuSans-73\"/>\n      <use x=\"414.404297\" xlink:href=\"#DejaVuSans-69\"/>\n      <use x=\"442.1875\" xlink:href=\"#DejaVuSans-66\"/>\n      <use x=\"477.392578\" xlink:href=\"#DejaVuSans-69\"/>\n      <use x=\"505.175781\" xlink:href=\"#DejaVuSans-63\"/>\n      <use x=\"560.15625\" xlink:href=\"#DejaVuSans-61\"/>\n      <use x=\"621.435547\" xlink:href=\"#DejaVuSans-74\"/>\n      <use x=\"660.644531\" xlink:href=\"#DejaVuSans-69\"/>\n      <use x=\"688.427734\" xlink:href=\"#DejaVuSans-6f\"/>\n      <use x=\"749.609375\" xlink:href=\"#DejaVuSans-6e\"/>\n      <use x=\"812.988281\" xlink:href=\"#DejaVuSans-20\"/>\n      <use x=\"844.775391\" xlink:href=\"#DejaVuSans-45\"/>\n      <use x=\"907.958984\" xlink:href=\"#DejaVuSans-72\"/>\n      <use x=\"947.322266\" xlink:href=\"#DejaVuSans-72\"/>\n      <use x=\"986.185547\" xlink:href=\"#DejaVuSans-6f\"/>\n      <use x=\"1047.367188\" xlink:href=\"#DejaVuSans-72\"/>\n     </g>\n    </g>\n   </g>\n   <g id=\"line2d_15\">\n    <path clip-path=\"url(#pcab1dae4f3)\" d=\"M 65.361932 19.106889 \nL 71.702841 167.361435 \nL 78.04375 170.450071 \nL 84.384659 185.893253 \nL 90.725568 156.551207 \nL 97.066477 188.981889 \nL 103.407386 190.526207 \nL 109.748295 190.526207 \nL 116.089205 171.994389 \nL 122.430114 181.260298 \nL 128.771023 178.171662 \nL 135.111932 187.437571 \nL 141.452841 201.336435 \nL 147.79375 209.058026 \nL 154.134659 199.792116 \nL 160.475568 205.969389 \nL 166.816477 216.779616 \nL 173.157386 209.058026 \nL 179.498295 204.425071 \nL 185.839205 192.070526 \nL 192.180114 216.779616 \nL 198.521023 201.336435 \nL 204.861932 198.247798 \nL 211.202841 201.336435 \nL 217.54375 201.336435 \nL 223.884659 204.425071 \nL 230.225568 195.159162 \nL 236.566477 195.159162 \nL 242.907386 207.513707 \nL 249.248295 209.058026 \nL 255.589205 204.425071 \nL 261.930114 202.880753 \nL 268.271023 204.425071 \nL 274.611932 207.513707 \nL 280.952841 198.247798 \nL 287.29375 181.260298 \nL 293.634659 187.437571 \nL 299.975568 192.070526 \nL 306.316477 199.792116 \nL 312.657386 198.247798 \nL 318.998295 201.336435 \nL 325.339205 195.159162 \nL 331.680114 188.981889 \nL 338.021023 193.614844 \nL 344.361932 182.804616 \nL 350.702841 188.981889 \nL 357.04375 179.71598 \nL 363.384659 171.994389 \nL 369.725568 171.994389 \n\" style=\"fill:none;stroke:#1f77b4;stroke-linecap:square;stroke-width:1.5;\"/>\n   </g>\n   <g id=\"patch_3\">\n    <path d=\"M 50.14375 226.663253 \nL 50.14375 9.223253 \n\" style=\"fill:none;stroke:#000000;stroke-linecap:square;stroke-linejoin:miter;stroke-width:0.8;\"/>\n   </g>\n   <g id=\"patch_4\">\n    <path d=\"M 384.94375 226.663253 \nL 384.94375 9.223253 \n\" style=\"fill:none;stroke:#000000;stroke-linecap:square;stroke-linejoin:miter;stroke-width:0.8;\"/>\n   </g>\n   <g id=\"patch_5\">\n    <path d=\"M 50.14375 226.663253 \nL 384.94375 226.663253 \n\" style=\"fill:none;stroke:#000000;stroke-linecap:square;stroke-linejoin:miter;stroke-width:0.8;\"/>\n   </g>\n   <g id=\"patch_6\">\n    <path d=\"M 50.14375 9.223253 \nL 384.94375 9.223253 \n\" style=\"fill:none;stroke:#000000;stroke-linecap:square;stroke-linejoin:miter;stroke-width:0.8;\"/>\n   </g>\n  </g>\n </g>\n <defs>\n  <clipPath id=\"pcab1dae4f3\">\n   <rect height=\"217.44\" width=\"334.8\" x=\"50.14375\" y=\"9.223253\"/>\n  </clipPath>\n </defs>\n</svg>\n",
      "image/png": "[encoded data removed]"
     },
     "metadata": {
      "needs_background": "light"
     }
    },
    {
     "output_type": "stream",
     "name": "stdout",
     "text": [
      "The optimal number of neighbors is 18 with score 73%\n\nTuning kNN classification model with K-Fold=5...\nShape of X_Train:(1925, 9)\nShape of y_Train:(1925,)\nShape of X_Test:(482, 9)\nShape of y_Test:(482,)\nFinding best k...\n"
     ]
    },
    {
     "output_type": "display_data",
     "data": {
      "text/plain": "<Figure size 432x288 with 1 Axes>",
      "image/svg+xml": "<?xml version=\"1.0\" encoding=\"utf-8\" standalone=\"no\"?>\n<!DOCTYPE svg PUBLIC \"-//W3C//DTD SVG 1.1//EN\"\n  \"http://www.w3.org/Graphics/SVG/1.1/DTD/svg11.dtd\">\n<svg height=\"262.19625pt\" version=\"1.1\" viewBox=\"0 0 392.14375 262.19625\" width=\"392.14375pt\" xmlns=\"http://www.w3.org/2000/svg\" xmlns:xlink=\"http://www.w3.org/1999/xlink\">\n <metadata>\n  <rdf:RDF xmlns:cc=\"http://creativecommons.org/ns#\" xmlns:dc=\"http://purl.org/dc/elements/1.1/\" xmlns:rdf=\"http://www.w3.org/1999/02/22-rdf-syntax-ns#\">\n   <cc:Work>\n    <dc:type rdf:resource=\"http://purl.org/dc/dcmitype/StillImage\"/>\n    <dc:date>2021-06-04T06:09:22.604973</dc:date>\n    <dc:format>image/svg+xml</dc:format>\n    <dc:creator>\n     <cc:Agent>\n      <dc:title>Matplotlib v3.4.2, https://matplotlib.org/</dc:title>\n     </cc:Agent>\n    </dc:creator>\n   </cc:Work>\n  </rdf:RDF>\n </metadata>\n <defs>\n  <style type=\"text/css\">*{stroke-linecap:butt;stroke-linejoin:round;}</style>\n </defs>\n <g id=\"figure_1\">\n  <g id=\"patch_1\">\n   <path d=\"M 0 262.19625 \nL 392.14375 262.19625 \nL 392.14375 0 \nL 0 0 \nz\n\" style=\"fill:none;\"/>\n  </g>\n  <g id=\"axes_1\">\n   <g id=\"patch_2\">\n    <path d=\"M 50.14375 224.64 \nL 384.94375 224.64 \nL 384.94375 7.2 \nL 50.14375 7.2 \nz\n\" style=\"fill:#ffffff;\"/>\n   </g>\n   <g id=\"matplotlib.axis_1\">\n    <g id=\"xtick_1\">\n     <g id=\"line2d_1\">\n      <defs>\n       <path d=\"M 0 0 \nL 0 3.5 \n\" id=\"m9a6fc3323a\" style=\"stroke:#000000;stroke-width:0.8;\"/>\n      </defs>\n      <g>\n       <use style=\"stroke:#000000;stroke-width:0.8;\" x=\"52.680114\" xlink:href=\"#m9a6fc3323a\" y=\"224.64\"/>\n      </g>\n     </g>\n     <g id=\"text_1\">\n      <!-- 0 -->\n      <g transform=\"translate(49.498864 239.238437)scale(0.1 -0.1)\">\n       <defs>\n        <path d=\"M 2034 4250 \nQ 1547 4250 1301 3770 \nQ 1056 3291 1056 2328 \nQ 1056 1369 1301 889 \nQ 1547 409 2034 409 \nQ 2525 409 2770 889 \nQ 3016 1369 3016 2328 \nQ 3016 3291 2770 3770 \nQ 2525 4250 2034 4250 \nz\nM 2034 4750 \nQ 2819 4750 3233 4129 \nQ 3647 3509 3647 2328 \nQ 3647 1150 3233 529 \nQ 2819 -91 2034 -91 \nQ 1250 -91 836 529 \nQ 422 1150 422 2328 \nQ 422 3509 836 4129 \nQ 1250 4750 2034 4750 \nz\n\" id=\"DejaVuSans-30\" transform=\"scale(0.015625)\"/>\n       </defs>\n       <use xlink:href=\"#DejaVuSans-30\"/>\n      </g>\n     </g>\n    </g>\n    <g id=\"xtick_2\">\n     <g id=\"line2d_2\">\n      <g>\n       <use style=\"stroke:#000000;stroke-width:0.8;\" x=\"116.089205\" xlink:href=\"#m9a6fc3323a\" y=\"224.64\"/>\n      </g>\n     </g>\n     <g id=\"text_2\">\n      <!-- 10 -->\n      <g transform=\"translate(109.726705 239.238437)scale(0.1 -0.1)\">\n       <defs>\n        <path d=\"M 794 531 \nL 1825 531 \nL 1825 4091 \nL 703 3866 \nL 703 4441 \nL 1819 4666 \nL 2450 4666 \nL 2450 531 \nL 3481 531 \nL 3481 0 \nL 794 0 \nL 794 531 \nz\n\" id=\"DejaVuSans-31\" transform=\"scale(0.015625)\"/>\n       </defs>\n       <use xlink:href=\"#DejaVuSans-31\"/>\n       <use x=\"63.623047\" xlink:href=\"#DejaVuSans-30\"/>\n      </g>\n     </g>\n    </g>\n    <g id=\"xtick_3\">\n     <g id=\"line2d_3\">\n      <g>\n       <use style=\"stroke:#000000;stroke-width:0.8;\" x=\"179.498295\" xlink:href=\"#m9a6fc3323a\" y=\"224.64\"/>\n      </g>\n     </g>\n     <g id=\"text_3\">\n      <!-- 20 -->\n      <g transform=\"translate(173.135795 239.238437)scale(0.1 -0.1)\">\n       <defs>\n        <path d=\"M 1228 531 \nL 3431 531 \nL 3431 0 \nL 469 0 \nL 469 531 \nQ 828 903 1448 1529 \nQ 2069 2156 2228 2338 \nQ 2531 2678 2651 2914 \nQ 2772 3150 2772 3378 \nQ 2772 3750 2511 3984 \nQ 2250 4219 1831 4219 \nQ 1534 4219 1204 4116 \nQ 875 4013 500 3803 \nL 500 4441 \nQ 881 4594 1212 4672 \nQ 1544 4750 1819 4750 \nQ 2544 4750 2975 4387 \nQ 3406 4025 3406 3419 \nQ 3406 3131 3298 2873 \nQ 3191 2616 2906 2266 \nQ 2828 2175 2409 1742 \nQ 1991 1309 1228 531 \nz\n\" id=\"DejaVuSans-32\" transform=\"scale(0.015625)\"/>\n       </defs>\n       <use xlink:href=\"#DejaVuSans-32\"/>\n       <use x=\"63.623047\" xlink:href=\"#DejaVuSans-30\"/>\n      </g>\n     </g>\n    </g>\n    <g id=\"xtick_4\">\n     <g id=\"line2d_4\">\n      <g>\n       <use style=\"stroke:#000000;stroke-width:0.8;\" x=\"242.907386\" xlink:href=\"#m9a6fc3323a\" y=\"224.64\"/>\n      </g>\n     </g>\n     <g id=\"text_4\">\n      <!-- 30 -->\n      <g transform=\"translate(236.544886 239.238437)scale(0.1 -0.1)\">\n       <defs>\n        <path d=\"M 2597 2516 \nQ 3050 2419 3304 2112 \nQ 3559 1806 3559 1356 \nQ 3559 666 3084 287 \nQ 2609 -91 1734 -91 \nQ 1441 -91 1130 -33 \nQ 819 25 488 141 \nL 488 750 \nQ 750 597 1062 519 \nQ 1375 441 1716 441 \nQ 2309 441 2620 675 \nQ 2931 909 2931 1356 \nQ 2931 1769 2642 2001 \nQ 2353 2234 1838 2234 \nL 1294 2234 \nL 1294 2753 \nL 1863 2753 \nQ 2328 2753 2575 2939 \nQ 2822 3125 2822 3475 \nQ 2822 3834 2567 4026 \nQ 2313 4219 1838 4219 \nQ 1578 4219 1281 4162 \nQ 984 4106 628 3988 \nL 628 4550 \nQ 988 4650 1302 4700 \nQ 1616 4750 1894 4750 \nQ 2613 4750 3031 4423 \nQ 3450 4097 3450 3541 \nQ 3450 3153 3228 2886 \nQ 3006 2619 2597 2516 \nz\n\" id=\"DejaVuSans-33\" transform=\"scale(0.015625)\"/>\n       </defs>\n       <use xlink:href=\"#DejaVuSans-33\"/>\n       <use x=\"63.623047\" xlink:href=\"#DejaVuSans-30\"/>\n      </g>\n     </g>\n    </g>\n    <g id=\"xtick_5\">\n     <g id=\"line2d_5\">\n      <g>\n       <use style=\"stroke:#000000;stroke-width:0.8;\" x=\"306.316477\" xlink:href=\"#m9a6fc3323a\" y=\"224.64\"/>\n      </g>\n     </g>\n     <g id=\"text_5\">\n      <!-- 40 -->\n      <g transform=\"translate(299.953977 239.238437)scale(0.1 -0.1)\">\n       <defs>\n        <path d=\"M 2419 4116 \nL 825 1625 \nL 2419 1625 \nL 2419 4116 \nz\nM 2253 4666 \nL 3047 4666 \nL 3047 1625 \nL 3713 1625 \nL 3713 1100 \nL 3047 1100 \nL 3047 0 \nL 2419 0 \nL 2419 1100 \nL 313 1100 \nL 313 1709 \nL 2253 4666 \nz\n\" id=\"DejaVuSans-34\" transform=\"scale(0.015625)\"/>\n       </defs>\n       <use xlink:href=\"#DejaVuSans-34\"/>\n       <use x=\"63.623047\" xlink:href=\"#DejaVuSans-30\"/>\n      </g>\n     </g>\n    </g>\n    <g id=\"xtick_6\">\n     <g id=\"line2d_6\">\n      <g>\n       <use style=\"stroke:#000000;stroke-width:0.8;\" x=\"369.725568\" xlink:href=\"#m9a6fc3323a\" y=\"224.64\"/>\n      </g>\n     </g>\n     <g id=\"text_6\">\n      <!-- 50 -->\n      <g transform=\"translate(363.363068 239.238437)scale(0.1 -0.1)\">\n       <defs>\n        <path d=\"M 691 4666 \nL 3169 4666 \nL 3169 4134 \nL 1269 4134 \nL 1269 2991 \nQ 1406 3038 1543 3061 \nQ 1681 3084 1819 3084 \nQ 2600 3084 3056 2656 \nQ 3513 2228 3513 1497 \nQ 3513 744 3044 326 \nQ 2575 -91 1722 -91 \nQ 1428 -91 1123 -41 \nQ 819 9 494 109 \nL 494 744 \nQ 775 591 1075 516 \nQ 1375 441 1709 441 \nQ 2250 441 2565 725 \nQ 2881 1009 2881 1497 \nQ 2881 1984 2565 2268 \nQ 2250 2553 1709 2553 \nQ 1456 2553 1204 2497 \nQ 953 2441 691 2322 \nL 691 4666 \nz\n\" id=\"DejaVuSans-35\" transform=\"scale(0.015625)\"/>\n       </defs>\n       <use xlink:href=\"#DejaVuSans-35\"/>\n       <use x=\"63.623047\" xlink:href=\"#DejaVuSans-30\"/>\n      </g>\n     </g>\n    </g>\n    <g id=\"text_7\">\n     <!-- Number of Neighbors K -->\n     <g transform=\"translate(159.149219 252.916562)scale(0.1 -0.1)\">\n      <defs>\n       <path d=\"M 628 4666 \nL 1478 4666 \nL 3547 763 \nL 3547 4666 \nL 4159 4666 \nL 4159 0 \nL 3309 0 \nL 1241 3903 \nL 1241 0 \nL 628 0 \nL 628 4666 \nz\n\" id=\"DejaVuSans-4e\" transform=\"scale(0.015625)\"/>\n       <path d=\"M 544 1381 \nL 544 3500 \nL 1119 3500 \nL 1119 1403 \nQ 1119 906 1312 657 \nQ 1506 409 1894 409 \nQ 2359 409 2629 706 \nQ 2900 1003 2900 1516 \nL 2900 3500 \nL 3475 3500 \nL 3475 0 \nL 2900 0 \nL 2900 538 \nQ 2691 219 2414 64 \nQ 2138 -91 1772 -91 \nQ 1169 -91 856 284 \nQ 544 659 544 1381 \nz\nM 1991 3584 \nL 1991 3584 \nz\n\" id=\"DejaVuSans-75\" transform=\"scale(0.015625)\"/>\n       <path d=\"M 3328 2828 \nQ 3544 3216 3844 3400 \nQ 4144 3584 4550 3584 \nQ 5097 3584 5394 3201 \nQ 5691 2819 5691 2113 \nL 5691 0 \nL 5113 0 \nL 5113 2094 \nQ 5113 2597 4934 2840 \nQ 4756 3084 4391 3084 \nQ 3944 3084 3684 2787 \nQ 3425 2491 3425 1978 \nL 3425 0 \nL 2847 0 \nL 2847 2094 \nQ 2847 2600 2669 2842 \nQ 2491 3084 2119 3084 \nQ 1678 3084 1418 2786 \nQ 1159 2488 1159 1978 \nL 1159 0 \nL 581 0 \nL 581 3500 \nL 1159 3500 \nL 1159 2956 \nQ 1356 3278 1631 3431 \nQ 1906 3584 2284 3584 \nQ 2666 3584 2933 3390 \nQ 3200 3197 3328 2828 \nz\n\" id=\"DejaVuSans-6d\" transform=\"scale(0.015625)\"/>\n       <path d=\"M 3116 1747 \nQ 3116 2381 2855 2742 \nQ 2594 3103 2138 3103 \nQ 1681 3103 1420 2742 \nQ 1159 2381 1159 1747 \nQ 1159 1113 1420 752 \nQ 1681 391 2138 391 \nQ 2594 391 2855 752 \nQ 3116 1113 3116 1747 \nz\nM 1159 2969 \nQ 1341 3281 1617 3432 \nQ 1894 3584 2278 3584 \nQ 2916 3584 3314 3078 \nQ 3713 2572 3713 1747 \nQ 3713 922 3314 415 \nQ 2916 -91 2278 -91 \nQ 1894 -91 1617 61 \nQ 1341 213 1159 525 \nL 1159 0 \nL 581 0 \nL 581 4863 \nL 1159 4863 \nL 1159 2969 \nz\n\" id=\"DejaVuSans-62\" transform=\"scale(0.015625)\"/>\n       <path d=\"M 3597 1894 \nL 3597 1613 \nL 953 1613 \nQ 991 1019 1311 708 \nQ 1631 397 2203 397 \nQ 2534 397 2845 478 \nQ 3156 559 3463 722 \nL 3463 178 \nQ 3153 47 2828 -22 \nQ 2503 -91 2169 -91 \nQ 1331 -91 842 396 \nQ 353 884 353 1716 \nQ 353 2575 817 3079 \nQ 1281 3584 2069 3584 \nQ 2775 3584 3186 3129 \nQ 3597 2675 3597 1894 \nz\nM 3022 2063 \nQ 3016 2534 2758 2815 \nQ 2500 3097 2075 3097 \nQ 1594 3097 1305 2825 \nQ 1016 2553 972 2059 \nL 3022 2063 \nz\n\" id=\"DejaVuSans-65\" transform=\"scale(0.015625)\"/>\n       <path d=\"M 2631 2963 \nQ 2534 3019 2420 3045 \nQ 2306 3072 2169 3072 \nQ 1681 3072 1420 2755 \nQ 1159 2438 1159 1844 \nL 1159 0 \nL 581 0 \nL 581 3500 \nL 1159 3500 \nL 1159 2956 \nQ 1341 3275 1631 3429 \nQ 1922 3584 2338 3584 \nQ 2397 3584 2469 3576 \nQ 2541 3569 2628 3553 \nL 2631 2963 \nz\n\" id=\"DejaVuSans-72\" transform=\"scale(0.015625)\"/>\n       <path id=\"DejaVuSans-20\" transform=\"scale(0.015625)\"/>\n       <path d=\"M 1959 3097 \nQ 1497 3097 1228 2736 \nQ 959 2375 959 1747 \nQ 959 1119 1226 758 \nQ 1494 397 1959 397 \nQ 2419 397 2687 759 \nQ 2956 1122 2956 1747 \nQ 2956 2369 2687 2733 \nQ 2419 3097 1959 3097 \nz\nM 1959 3584 \nQ 2709 3584 3137 3096 \nQ 3566 2609 3566 1747 \nQ 3566 888 3137 398 \nQ 2709 -91 1959 -91 \nQ 1206 -91 779 398 \nQ 353 888 353 1747 \nQ 353 2609 779 3096 \nQ 1206 3584 1959 3584 \nz\n\" id=\"DejaVuSans-6f\" transform=\"scale(0.015625)\"/>\n       <path d=\"M 2375 4863 \nL 2375 4384 \nL 1825 4384 \nQ 1516 4384 1395 4259 \nQ 1275 4134 1275 3809 \nL 1275 3500 \nL 2222 3500 \nL 2222 3053 \nL 1275 3053 \nL 1275 0 \nL 697 0 \nL 697 3053 \nL 147 3053 \nL 147 3500 \nL 697 3500 \nL 697 3744 \nQ 697 4328 969 4595 \nQ 1241 4863 1831 4863 \nL 2375 4863 \nz\n\" id=\"DejaVuSans-66\" transform=\"scale(0.015625)\"/>\n       <path d=\"M 603 3500 \nL 1178 3500 \nL 1178 0 \nL 603 0 \nL 603 3500 \nz\nM 603 4863 \nL 1178 4863 \nL 1178 4134 \nL 603 4134 \nL 603 4863 \nz\n\" id=\"DejaVuSans-69\" transform=\"scale(0.015625)\"/>\n       <path d=\"M 2906 1791 \nQ 2906 2416 2648 2759 \nQ 2391 3103 1925 3103 \nQ 1463 3103 1205 2759 \nQ 947 2416 947 1791 \nQ 947 1169 1205 825 \nQ 1463 481 1925 481 \nQ 2391 481 2648 825 \nQ 2906 1169 2906 1791 \nz\nM 3481 434 \nQ 3481 -459 3084 -895 \nQ 2688 -1331 1869 -1331 \nQ 1566 -1331 1297 -1286 \nQ 1028 -1241 775 -1147 \nL 775 -588 \nQ 1028 -725 1275 -790 \nQ 1522 -856 1778 -856 \nQ 2344 -856 2625 -561 \nQ 2906 -266 2906 331 \nL 2906 616 \nQ 2728 306 2450 153 \nQ 2172 0 1784 0 \nQ 1141 0 747 490 \nQ 353 981 353 1791 \nQ 353 2603 747 3093 \nQ 1141 3584 1784 3584 \nQ 2172 3584 2450 3431 \nQ 2728 3278 2906 2969 \nL 2906 3500 \nL 3481 3500 \nL 3481 434 \nz\n\" id=\"DejaVuSans-67\" transform=\"scale(0.015625)\"/>\n       <path d=\"M 3513 2113 \nL 3513 0 \nL 2938 0 \nL 2938 2094 \nQ 2938 2591 2744 2837 \nQ 2550 3084 2163 3084 \nQ 1697 3084 1428 2787 \nQ 1159 2491 1159 1978 \nL 1159 0 \nL 581 0 \nL 581 4863 \nL 1159 4863 \nL 1159 2956 \nQ 1366 3272 1645 3428 \nQ 1925 3584 2291 3584 \nQ 2894 3584 3203 3211 \nQ 3513 2838 3513 2113 \nz\n\" id=\"DejaVuSans-68\" transform=\"scale(0.015625)\"/>\n       <path d=\"M 2834 3397 \nL 2834 2853 \nQ 2591 2978 2328 3040 \nQ 2066 3103 1784 3103 \nQ 1356 3103 1142 2972 \nQ 928 2841 928 2578 \nQ 928 2378 1081 2264 \nQ 1234 2150 1697 2047 \nL 1894 2003 \nQ 2506 1872 2764 1633 \nQ 3022 1394 3022 966 \nQ 3022 478 2636 193 \nQ 2250 -91 1575 -91 \nQ 1294 -91 989 -36 \nQ 684 19 347 128 \nL 347 722 \nQ 666 556 975 473 \nQ 1284 391 1588 391 \nQ 1994 391 2212 530 \nQ 2431 669 2431 922 \nQ 2431 1156 2273 1281 \nQ 2116 1406 1581 1522 \nL 1381 1569 \nQ 847 1681 609 1914 \nQ 372 2147 372 2553 \nQ 372 3047 722 3315 \nQ 1072 3584 1716 3584 \nQ 2034 3584 2315 3537 \nQ 2597 3491 2834 3397 \nz\n\" id=\"DejaVuSans-73\" transform=\"scale(0.015625)\"/>\n       <path d=\"M 628 4666 \nL 1259 4666 \nL 1259 2694 \nL 3353 4666 \nL 4166 4666 \nL 1850 2491 \nL 4331 0 \nL 3500 0 \nL 1259 2247 \nL 1259 0 \nL 628 0 \nL 628 4666 \nz\n\" id=\"DejaVuSans-4b\" transform=\"scale(0.015625)\"/>\n      </defs>\n      <use xlink:href=\"#DejaVuSans-4e\"/>\n      <use x=\"74.804688\" xlink:href=\"#DejaVuSans-75\"/>\n      <use x=\"138.183594\" xlink:href=\"#DejaVuSans-6d\"/>\n      <use x=\"235.595703\" xlink:href=\"#DejaVuSans-62\"/>\n      <use x=\"299.072266\" xlink:href=\"#DejaVuSans-65\"/>\n      <use x=\"360.595703\" xlink:href=\"#DejaVuSans-72\"/>\n      <use x=\"401.708984\" xlink:href=\"#DejaVuSans-20\"/>\n      <use x=\"433.496094\" xlink:href=\"#DejaVuSans-6f\"/>\n      <use x=\"494.677734\" xlink:href=\"#DejaVuSans-66\"/>\n      <use x=\"529.882812\" xlink:href=\"#DejaVuSans-20\"/>\n      <use x=\"561.669922\" xlink:href=\"#DejaVuSans-4e\"/>\n      <use x=\"636.474609\" xlink:href=\"#DejaVuSans-65\"/>\n      <use x=\"697.998047\" xlink:href=\"#DejaVuSans-69\"/>\n      <use x=\"725.78125\" xlink:href=\"#DejaVuSans-67\"/>\n      <use x=\"789.257812\" xlink:href=\"#DejaVuSans-68\"/>\n      <use x=\"852.636719\" xlink:href=\"#DejaVuSans-62\"/>\n      <use x=\"916.113281\" xlink:href=\"#DejaVuSans-6f\"/>\n      <use x=\"977.294922\" xlink:href=\"#DejaVuSans-72\"/>\n      <use x=\"1018.408203\" xlink:href=\"#DejaVuSans-73\"/>\n      <use x=\"1070.507812\" xlink:href=\"#DejaVuSans-20\"/>\n      <use x=\"1102.294922\" xlink:href=\"#DejaVuSans-4b\"/>\n     </g>\n    </g>\n   </g>\n   <g id=\"matplotlib.axis_2\">\n    <g id=\"ytick_1\">\n     <g id=\"line2d_7\">\n      <defs>\n       <path d=\"M 0 0 \nL -3.5 0 \n\" id=\"m68196ce9a7\" style=\"stroke:#000000;stroke-width:0.8;\"/>\n      </defs>\n      <g>\n       <use style=\"stroke:#000000;stroke-width:0.8;\" x=\"50.14375\" xlink:href=\"#m68196ce9a7\" y=\"221.23185\"/>\n      </g>\n     </g>\n     <g id=\"text_8\">\n      <!-- 0.25 -->\n      <g transform=\"translate(20.878125 225.031068)scale(0.1 -0.1)\">\n       <defs>\n        <path d=\"M 684 794 \nL 1344 794 \nL 1344 0 \nL 684 0 \nL 684 794 \nz\n\" id=\"DejaVuSans-2e\" transform=\"scale(0.015625)\"/>\n       </defs>\n       <use xlink:href=\"#DejaVuSans-30\"/>\n       <use x=\"63.623047\" xlink:href=\"#DejaVuSans-2e\"/>\n       <use x=\"95.410156\" xlink:href=\"#DejaVuSans-32\"/>\n       <use x=\"159.033203\" xlink:href=\"#DejaVuSans-35\"/>\n      </g>\n     </g>\n    </g>\n    <g id=\"ytick_2\">\n     <g id=\"line2d_8\">\n      <g>\n       <use style=\"stroke:#000000;stroke-width:0.8;\" x=\"50.14375\" xlink:href=\"#m68196ce9a7\" y=\"194.989091\"/>\n      </g>\n     </g>\n     <g id=\"text_9\">\n      <!-- 0.26 -->\n      <g transform=\"translate(20.878125 198.78831)scale(0.1 -0.1)\">\n       <defs>\n        <path d=\"M 2113 2584 \nQ 1688 2584 1439 2293 \nQ 1191 2003 1191 1497 \nQ 1191 994 1439 701 \nQ 1688 409 2113 409 \nQ 2538 409 2786 701 \nQ 3034 994 3034 1497 \nQ 3034 2003 2786 2293 \nQ 2538 2584 2113 2584 \nz\nM 3366 4563 \nL 3366 3988 \nQ 3128 4100 2886 4159 \nQ 2644 4219 2406 4219 \nQ 1781 4219 1451 3797 \nQ 1122 3375 1075 2522 \nQ 1259 2794 1537 2939 \nQ 1816 3084 2150 3084 \nQ 2853 3084 3261 2657 \nQ 3669 2231 3669 1497 \nQ 3669 778 3244 343 \nQ 2819 -91 2113 -91 \nQ 1303 -91 875 529 \nQ 447 1150 447 2328 \nQ 447 3434 972 4092 \nQ 1497 4750 2381 4750 \nQ 2619 4750 2861 4703 \nQ 3103 4656 3366 4563 \nz\n\" id=\"DejaVuSans-36\" transform=\"scale(0.015625)\"/>\n       </defs>\n       <use xlink:href=\"#DejaVuSans-30\"/>\n       <use x=\"63.623047\" xlink:href=\"#DejaVuSans-2e\"/>\n       <use x=\"95.410156\" xlink:href=\"#DejaVuSans-32\"/>\n       <use x=\"159.033203\" xlink:href=\"#DejaVuSans-36\"/>\n      </g>\n     </g>\n    </g>\n    <g id=\"ytick_3\">\n     <g id=\"line2d_9\">\n      <g>\n       <use style=\"stroke:#000000;stroke-width:0.8;\" x=\"50.14375\" xlink:href=\"#m68196ce9a7\" y=\"168.746332\"/>\n      </g>\n     </g>\n     <g id=\"text_10\">\n      <!-- 0.27 -->\n      <g transform=\"translate(20.878125 172.545551)scale(0.1 -0.1)\">\n       <defs>\n        <path d=\"M 525 4666 \nL 3525 4666 \nL 3525 4397 \nL 1831 0 \nL 1172 0 \nL 2766 4134 \nL 525 4134 \nL 525 4666 \nz\n\" id=\"DejaVuSans-37\" transform=\"scale(0.015625)\"/>\n       </defs>\n       <use xlink:href=\"#DejaVuSans-30\"/>\n       <use x=\"63.623047\" xlink:href=\"#DejaVuSans-2e\"/>\n       <use x=\"95.410156\" xlink:href=\"#DejaVuSans-32\"/>\n       <use x=\"159.033203\" xlink:href=\"#DejaVuSans-37\"/>\n      </g>\n     </g>\n    </g>\n    <g id=\"ytick_4\">\n     <g id=\"line2d_10\">\n      <g>\n       <use style=\"stroke:#000000;stroke-width:0.8;\" x=\"50.14375\" xlink:href=\"#m68196ce9a7\" y=\"142.503574\"/>\n      </g>\n     </g>\n     <g id=\"text_11\">\n      <!-- 0.28 -->\n      <g transform=\"translate(20.878125 146.302792)scale(0.1 -0.1)\">\n       <defs>\n        <path d=\"M 2034 2216 \nQ 1584 2216 1326 1975 \nQ 1069 1734 1069 1313 \nQ 1069 891 1326 650 \nQ 1584 409 2034 409 \nQ 2484 409 2743 651 \nQ 3003 894 3003 1313 \nQ 3003 1734 2745 1975 \nQ 2488 2216 2034 2216 \nz\nM 1403 2484 \nQ 997 2584 770 2862 \nQ 544 3141 544 3541 \nQ 544 4100 942 4425 \nQ 1341 4750 2034 4750 \nQ 2731 4750 3128 4425 \nQ 3525 4100 3525 3541 \nQ 3525 3141 3298 2862 \nQ 3072 2584 2669 2484 \nQ 3125 2378 3379 2068 \nQ 3634 1759 3634 1313 \nQ 3634 634 3220 271 \nQ 2806 -91 2034 -91 \nQ 1263 -91 848 271 \nQ 434 634 434 1313 \nQ 434 1759 690 2068 \nQ 947 2378 1403 2484 \nz\nM 1172 3481 \nQ 1172 3119 1398 2916 \nQ 1625 2713 2034 2713 \nQ 2441 2713 2670 2916 \nQ 2900 3119 2900 3481 \nQ 2900 3844 2670 4047 \nQ 2441 4250 2034 4250 \nQ 1625 4250 1398 4047 \nQ 1172 3844 1172 3481 \nz\n\" id=\"DejaVuSans-38\" transform=\"scale(0.015625)\"/>\n       </defs>\n       <use xlink:href=\"#DejaVuSans-30\"/>\n       <use x=\"63.623047\" xlink:href=\"#DejaVuSans-2e\"/>\n       <use x=\"95.410156\" xlink:href=\"#DejaVuSans-32\"/>\n       <use x=\"159.033203\" xlink:href=\"#DejaVuSans-38\"/>\n      </g>\n     </g>\n    </g>\n    <g id=\"ytick_5\">\n     <g id=\"line2d_11\">\n      <g>\n       <use style=\"stroke:#000000;stroke-width:0.8;\" x=\"50.14375\" xlink:href=\"#m68196ce9a7\" y=\"116.260815\"/>\n      </g>\n     </g>\n     <g id=\"text_12\">\n      <!-- 0.29 -->\n      <g transform=\"translate(20.878125 120.060034)scale(0.1 -0.1)\">\n       <defs>\n        <path d=\"M 703 97 \nL 703 672 \nQ 941 559 1184 500 \nQ 1428 441 1663 441 \nQ 2288 441 2617 861 \nQ 2947 1281 2994 2138 \nQ 2813 1869 2534 1725 \nQ 2256 1581 1919 1581 \nQ 1219 1581 811 2004 \nQ 403 2428 403 3163 \nQ 403 3881 828 4315 \nQ 1253 4750 1959 4750 \nQ 2769 4750 3195 4129 \nQ 3622 3509 3622 2328 \nQ 3622 1225 3098 567 \nQ 2575 -91 1691 -91 \nQ 1453 -91 1209 -44 \nQ 966 3 703 97 \nz\nM 1959 2075 \nQ 2384 2075 2632 2365 \nQ 2881 2656 2881 3163 \nQ 2881 3666 2632 3958 \nQ 2384 4250 1959 4250 \nQ 1534 4250 1286 3958 \nQ 1038 3666 1038 3163 \nQ 1038 2656 1286 2365 \nQ 1534 2075 1959 2075 \nz\n\" id=\"DejaVuSans-39\" transform=\"scale(0.015625)\"/>\n       </defs>\n       <use xlink:href=\"#DejaVuSans-30\"/>\n       <use x=\"63.623047\" xlink:href=\"#DejaVuSans-2e\"/>\n       <use x=\"95.410156\" xlink:href=\"#DejaVuSans-32\"/>\n       <use x=\"159.033203\" xlink:href=\"#DejaVuSans-39\"/>\n      </g>\n     </g>\n    </g>\n    <g id=\"ytick_6\">\n     <g id=\"line2d_12\">\n      <g>\n       <use style=\"stroke:#000000;stroke-width:0.8;\" x=\"50.14375\" xlink:href=\"#m68196ce9a7\" y=\"90.018056\"/>\n      </g>\n     </g>\n     <g id=\"text_13\">\n      <!-- 0.30 -->\n      <g transform=\"translate(20.878125 93.817275)scale(0.1 -0.1)\">\n       <use xlink:href=\"#DejaVuSans-30\"/>\n       <use x=\"63.623047\" xlink:href=\"#DejaVuSans-2e\"/>\n       <use x=\"95.410156\" xlink:href=\"#DejaVuSans-33\"/>\n       <use x=\"159.033203\" xlink:href=\"#DejaVuSans-30\"/>\n      </g>\n     </g>\n    </g>\n    <g id=\"ytick_7\">\n     <g id=\"line2d_13\">\n      <g>\n       <use style=\"stroke:#000000;stroke-width:0.8;\" x=\"50.14375\" xlink:href=\"#m68196ce9a7\" y=\"63.775298\"/>\n      </g>\n     </g>\n     <g id=\"text_14\">\n      <!-- 0.31 -->\n      <g transform=\"translate(20.878125 67.574517)scale(0.1 -0.1)\">\n       <use xlink:href=\"#DejaVuSans-30\"/>\n       <use x=\"63.623047\" xlink:href=\"#DejaVuSans-2e\"/>\n       <use x=\"95.410156\" xlink:href=\"#DejaVuSans-33\"/>\n       <use x=\"159.033203\" xlink:href=\"#DejaVuSans-31\"/>\n      </g>\n     </g>\n    </g>\n    <g id=\"ytick_8\">\n     <g id=\"line2d_14\">\n      <g>\n       <use style=\"stroke:#000000;stroke-width:0.8;\" x=\"50.14375\" xlink:href=\"#m68196ce9a7\" y=\"37.532539\"/>\n      </g>\n     </g>\n     <g id=\"text_15\">\n      <!-- 0.32 -->\n      <g transform=\"translate(20.878125 41.331758)scale(0.1 -0.1)\">\n       <use xlink:href=\"#DejaVuSans-30\"/>\n       <use x=\"63.623047\" xlink:href=\"#DejaVuSans-2e\"/>\n       <use x=\"95.410156\" xlink:href=\"#DejaVuSans-33\"/>\n       <use x=\"159.033203\" xlink:href=\"#DejaVuSans-32\"/>\n      </g>\n     </g>\n    </g>\n    <g id=\"ytick_9\">\n     <g id=\"line2d_15\">\n      <g>\n       <use style=\"stroke:#000000;stroke-width:0.8;\" x=\"50.14375\" xlink:href=\"#m68196ce9a7\" y=\"11.289781\"/>\n      </g>\n     </g>\n     <g id=\"text_16\">\n      <!-- 0.33 -->\n      <g transform=\"translate(20.878125 15.088999)scale(0.1 -0.1)\">\n       <use xlink:href=\"#DejaVuSans-30\"/>\n       <use x=\"63.623047\" xlink:href=\"#DejaVuSans-2e\"/>\n       <use x=\"95.410156\" xlink:href=\"#DejaVuSans-33\"/>\n       <use x=\"159.033203\" xlink:href=\"#DejaVuSans-33\"/>\n      </g>\n     </g>\n    </g>\n    <g id=\"text_17\">\n     <!-- Misclassification Error -->\n     <g transform=\"translate(14.798438 170.342656)rotate(-90)scale(0.1 -0.1)\">\n      <defs>\n       <path d=\"M 628 4666 \nL 1569 4666 \nL 2759 1491 \nL 3956 4666 \nL 4897 4666 \nL 4897 0 \nL 4281 0 \nL 4281 4097 \nL 3078 897 \nL 2444 897 \nL 1241 4097 \nL 1241 0 \nL 628 0 \nL 628 4666 \nz\n\" id=\"DejaVuSans-4d\" transform=\"scale(0.015625)\"/>\n       <path d=\"M 3122 3366 \nL 3122 2828 \nQ 2878 2963 2633 3030 \nQ 2388 3097 2138 3097 \nQ 1578 3097 1268 2742 \nQ 959 2388 959 1747 \nQ 959 1106 1268 751 \nQ 1578 397 2138 397 \nQ 2388 397 2633 464 \nQ 2878 531 3122 666 \nL 3122 134 \nQ 2881 22 2623 -34 \nQ 2366 -91 2075 -91 \nQ 1284 -91 818 406 \nQ 353 903 353 1747 \nQ 353 2603 823 3093 \nQ 1294 3584 2113 3584 \nQ 2378 3584 2631 3529 \nQ 2884 3475 3122 3366 \nz\n\" id=\"DejaVuSans-63\" transform=\"scale(0.015625)\"/>\n       <path d=\"M 603 4863 \nL 1178 4863 \nL 1178 0 \nL 603 0 \nL 603 4863 \nz\n\" id=\"DejaVuSans-6c\" transform=\"scale(0.015625)\"/>\n       <path d=\"M 2194 1759 \nQ 1497 1759 1228 1600 \nQ 959 1441 959 1056 \nQ 959 750 1161 570 \nQ 1363 391 1709 391 \nQ 2188 391 2477 730 \nQ 2766 1069 2766 1631 \nL 2766 1759 \nL 2194 1759 \nz\nM 3341 1997 \nL 3341 0 \nL 2766 0 \nL 2766 531 \nQ 2569 213 2275 61 \nQ 1981 -91 1556 -91 \nQ 1019 -91 701 211 \nQ 384 513 384 1019 \nQ 384 1609 779 1909 \nQ 1175 2209 1959 2209 \nL 2766 2209 \nL 2766 2266 \nQ 2766 2663 2505 2880 \nQ 2244 3097 1772 3097 \nQ 1472 3097 1187 3025 \nQ 903 2953 641 2809 \nL 641 3341 \nQ 956 3463 1253 3523 \nQ 1550 3584 1831 3584 \nQ 2591 3584 2966 3190 \nQ 3341 2797 3341 1997 \nz\n\" id=\"DejaVuSans-61\" transform=\"scale(0.015625)\"/>\n       <path d=\"M 1172 4494 \nL 1172 3500 \nL 2356 3500 \nL 2356 3053 \nL 1172 3053 \nL 1172 1153 \nQ 1172 725 1289 603 \nQ 1406 481 1766 481 \nL 2356 481 \nL 2356 0 \nL 1766 0 \nQ 1100 0 847 248 \nQ 594 497 594 1153 \nL 594 3053 \nL 172 3053 \nL 172 3500 \nL 594 3500 \nL 594 4494 \nL 1172 4494 \nz\n\" id=\"DejaVuSans-74\" transform=\"scale(0.015625)\"/>\n       <path d=\"M 3513 2113 \nL 3513 0 \nL 2938 0 \nL 2938 2094 \nQ 2938 2591 2744 2837 \nQ 2550 3084 2163 3084 \nQ 1697 3084 1428 2787 \nQ 1159 2491 1159 1978 \nL 1159 0 \nL 581 0 \nL 581 3500 \nL 1159 3500 \nL 1159 2956 \nQ 1366 3272 1645 3428 \nQ 1925 3584 2291 3584 \nQ 2894 3584 3203 3211 \nQ 3513 2838 3513 2113 \nz\n\" id=\"DejaVuSans-6e\" transform=\"scale(0.015625)\"/>\n       <path d=\"M 628 4666 \nL 3578 4666 \nL 3578 4134 \nL 1259 4134 \nL 1259 2753 \nL 3481 2753 \nL 3481 2222 \nL 1259 2222 \nL 1259 531 \nL 3634 531 \nL 3634 0 \nL 628 0 \nL 628 4666 \nz\n\" id=\"DejaVuSans-45\" transform=\"scale(0.015625)\"/>\n      </defs>\n      <use xlink:href=\"#DejaVuSans-4d\"/>\n      <use x=\"86.279297\" xlink:href=\"#DejaVuSans-69\"/>\n      <use x=\"114.0625\" xlink:href=\"#DejaVuSans-73\"/>\n      <use x=\"166.162109\" xlink:href=\"#DejaVuSans-63\"/>\n      <use x=\"221.142578\" xlink:href=\"#DejaVuSans-6c\"/>\n      <use x=\"248.925781\" xlink:href=\"#DejaVuSans-61\"/>\n      <use x=\"310.205078\" xlink:href=\"#DejaVuSans-73\"/>\n      <use x=\"362.304688\" xlink:href=\"#DejaVuSans-73\"/>\n      <use x=\"414.404297\" xlink:href=\"#DejaVuSans-69\"/>\n      <use x=\"442.1875\" xlink:href=\"#DejaVuSans-66\"/>\n      <use x=\"477.392578\" xlink:href=\"#DejaVuSans-69\"/>\n      <use x=\"505.175781\" xlink:href=\"#DejaVuSans-63\"/>\n      <use x=\"560.15625\" xlink:href=\"#DejaVuSans-61\"/>\n      <use x=\"621.435547\" xlink:href=\"#DejaVuSans-74\"/>\n      <use x=\"660.644531\" xlink:href=\"#DejaVuSans-69\"/>\n      <use x=\"688.427734\" xlink:href=\"#DejaVuSans-6f\"/>\n      <use x=\"749.609375\" xlink:href=\"#DejaVuSans-6e\"/>\n      <use x=\"812.988281\" xlink:href=\"#DejaVuSans-20\"/>\n      <use x=\"844.775391\" xlink:href=\"#DejaVuSans-45\"/>\n      <use x=\"907.958984\" xlink:href=\"#DejaVuSans-72\"/>\n      <use x=\"947.322266\" xlink:href=\"#DejaVuSans-72\"/>\n      <use x=\"986.185547\" xlink:href=\"#DejaVuSans-6f\"/>\n      <use x=\"1047.367188\" xlink:href=\"#DejaVuSans-72\"/>\n     </g>\n    </g>\n   </g>\n   <g id=\"line2d_16\">\n    <path clip-path=\"url(#p3ef8bfd17b)\" d=\"M 65.361932 17.083636 \nL 71.702841 137.050533 \nL 78.04375 130.234232 \nL 84.384659 175.221818 \nL 90.725568 157.499436 \nL 97.066477 173.858558 \nL 103.407386 192.944201 \nL 109.748295 180.674859 \nL 116.089205 169.768777 \nL 122.430114 172.495298 \nL 128.771023 188.85442 \nL 135.111932 177.948339 \nL 141.452841 180.674859 \nL 147.79375 186.1279 \nL 154.134659 180.674859 \nL 160.475568 198.397241 \nL 166.816477 183.401379 \nL 173.157386 207.940063 \nL 179.498295 207.940063 \nL 185.839205 214.756364 \nL 192.180114 205.213542 \nL 198.521023 212.029843 \nL 204.861932 206.576803 \nL 211.202841 203.850282 \nL 217.54375 213.393103 \nL 223.884659 209.303323 \nL 230.225568 199.760502 \nL 236.566477 210.666583 \nL 242.907386 210.666583 \nL 249.248295 202.487022 \nL 255.589205 205.213542 \nL 261.930114 192.944201 \nL 268.271023 199.760502 \nL 274.611932 191.58094 \nL 280.952841 199.760502 \nL 287.29375 197.033981 \nL 293.634659 202.487022 \nL 299.975568 199.760502 \nL 306.316477 195.670721 \nL 312.657386 201.123762 \nL 318.998295 190.21768 \nL 325.339205 197.033981 \nL 331.680114 187.49116 \nL 338.021023 190.21768 \nL 344.361932 191.58094 \nL 350.702841 188.85442 \nL 357.04375 191.58094 \nL 363.384659 184.764639 \nL 369.725568 194.307461 \n\" style=\"fill:none;stroke:#1f77b4;stroke-linecap:square;stroke-width:1.5;\"/>\n   </g>\n   <g id=\"patch_3\">\n    <path d=\"M 50.14375 224.64 \nL 50.14375 7.2 \n\" style=\"fill:none;stroke:#000000;stroke-linecap:square;stroke-linejoin:miter;stroke-width:0.8;\"/>\n   </g>\n   <g id=\"patch_4\">\n    <path d=\"M 384.94375 224.64 \nL 384.94375 7.2 \n\" style=\"fill:none;stroke:#000000;stroke-linecap:square;stroke-linejoin:miter;stroke-width:0.8;\"/>\n   </g>\n   <g id=\"patch_5\">\n    <path d=\"M 50.14375 224.64 \nL 384.94375 224.64 \n\" style=\"fill:none;stroke:#000000;stroke-linecap:square;stroke-linejoin:miter;stroke-width:0.8;\"/>\n   </g>\n   <g id=\"patch_6\">\n    <path d=\"M 50.14375 7.2 \nL 384.94375 7.2 \n\" style=\"fill:none;stroke:#000000;stroke-linecap:square;stroke-linejoin:miter;stroke-width:0.8;\"/>\n   </g>\n  </g>\n </g>\n <defs>\n  <clipPath id=\"p3ef8bfd17b\">\n   <rect height=\"217.44\" width=\"334.8\" x=\"50.14375\" y=\"7.2\"/>\n  </clipPath>\n </defs>\n</svg>\n",
      "image/png": "[encoded data removed]"
     },
     "metadata": {
      "needs_background": "light"
     }
    },
    {
     "output_type": "stream",
     "name": "stdout",
     "text": [
      "The optimal number of neighbors is 21 with score 74%\n\nTuning kNN classification model with K-Fold=8...\nShape of X_Train:(1925, 9)\nShape of y_Train:(1925,)\nShape of X_Test:(482, 9)\nShape of y_Test:(482,)\nFinding best k...\n"
     ]
    },
    {
     "output_type": "display_data",
     "data": {
      "text/plain": "<Figure size 432x288 with 1 Axes>",
      "image/svg+xml": "<?xml version=\"1.0\" encoding=\"utf-8\" standalone=\"no\"?>\n<!DOCTYPE svg PUBLIC \"-//W3C//DTD SVG 1.1//EN\"\n  \"http://www.w3.org/Graphics/SVG/1.1/DTD/svg11.dtd\">\n<svg height=\"262.19625pt\" version=\"1.1\" viewBox=\"0 0 392.14375 262.19625\" width=\"392.14375pt\" xmlns=\"http://www.w3.org/2000/svg\" xmlns:xlink=\"http://www.w3.org/1999/xlink\">\n <metadata>\n  <rdf:RDF xmlns:cc=\"http://creativecommons.org/ns#\" xmlns:dc=\"http://purl.org/dc/elements/1.1/\" xmlns:rdf=\"http://www.w3.org/1999/02/22-rdf-syntax-ns#\">\n   <cc:Work>\n    <dc:type rdf:resource=\"http://purl.org/dc/dcmitype/StillImage\"/>\n    <dc:date>2021-06-04T06:09:28.001237</dc:date>\n    <dc:format>image/svg+xml</dc:format>\n    <dc:creator>\n     <cc:Agent>\n      <dc:title>Matplotlib v3.4.2, https://matplotlib.org/</dc:title>\n     </cc:Agent>\n    </dc:creator>\n   </cc:Work>\n  </rdf:RDF>\n </metadata>\n <defs>\n  <style type=\"text/css\">*{stroke-linecap:butt;stroke-linejoin:round;}</style>\n </defs>\n <g id=\"figure_1\">\n  <g id=\"patch_1\">\n   <path d=\"M 0 262.19625 \nL 392.14375 262.19625 \nL 392.14375 0 \nL 0 0 \nz\n\" style=\"fill:none;\"/>\n  </g>\n  <g id=\"axes_1\">\n   <g id=\"patch_2\">\n    <path d=\"M 50.14375 224.64 \nL 384.94375 224.64 \nL 384.94375 7.2 \nL 50.14375 7.2 \nz\n\" style=\"fill:#ffffff;\"/>\n   </g>\n   <g id=\"matplotlib.axis_1\">\n    <g id=\"xtick_1\">\n     <g id=\"line2d_1\">\n      <defs>\n       <path d=\"M 0 0 \nL 0 3.5 \n\" id=\"ma5f7b66f46\" style=\"stroke:#000000;stroke-width:0.8;\"/>\n      </defs>\n      <g>\n       <use style=\"stroke:#000000;stroke-width:0.8;\" x=\"52.680114\" xlink:href=\"#ma5f7b66f46\" y=\"224.64\"/>\n      </g>\n     </g>\n     <g id=\"text_1\">\n      <!-- 0 -->\n      <g transform=\"translate(49.498864 239.238437)scale(0.1 -0.1)\">\n       <defs>\n        <path d=\"M 2034 4250 \nQ 1547 4250 1301 3770 \nQ 1056 3291 1056 2328 \nQ 1056 1369 1301 889 \nQ 1547 409 2034 409 \nQ 2525 409 2770 889 \nQ 3016 1369 3016 2328 \nQ 3016 3291 2770 3770 \nQ 2525 4250 2034 4250 \nz\nM 2034 4750 \nQ 2819 4750 3233 4129 \nQ 3647 3509 3647 2328 \nQ 3647 1150 3233 529 \nQ 2819 -91 2034 -91 \nQ 1250 -91 836 529 \nQ 422 1150 422 2328 \nQ 422 3509 836 4129 \nQ 1250 4750 2034 4750 \nz\n\" id=\"DejaVuSans-30\" transform=\"scale(0.015625)\"/>\n       </defs>\n       <use xlink:href=\"#DejaVuSans-30\"/>\n      </g>\n     </g>\n    </g>\n    <g id=\"xtick_2\">\n     <g id=\"line2d_2\">\n      <g>\n       <use style=\"stroke:#000000;stroke-width:0.8;\" x=\"116.089205\" xlink:href=\"#ma5f7b66f46\" y=\"224.64\"/>\n      </g>\n     </g>\n     <g id=\"text_2\">\n      <!-- 10 -->\n      <g transform=\"translate(109.726705 239.238437)scale(0.1 -0.1)\">\n       <defs>\n        <path d=\"M 794 531 \nL 1825 531 \nL 1825 4091 \nL 703 3866 \nL 703 4441 \nL 1819 4666 \nL 2450 4666 \nL 2450 531 \nL 3481 531 \nL 3481 0 \nL 794 0 \nL 794 531 \nz\n\" id=\"DejaVuSans-31\" transform=\"scale(0.015625)\"/>\n       </defs>\n       <use xlink:href=\"#DejaVuSans-31\"/>\n       <use x=\"63.623047\" xlink:href=\"#DejaVuSans-30\"/>\n      </g>\n     </g>\n    </g>\n    <g id=\"xtick_3\">\n     <g id=\"line2d_3\">\n      <g>\n       <use style=\"stroke:#000000;stroke-width:0.8;\" x=\"179.498295\" xlink:href=\"#ma5f7b66f46\" y=\"224.64\"/>\n      </g>\n     </g>\n     <g id=\"text_3\">\n      <!-- 20 -->\n      <g transform=\"translate(173.135795 239.238437)scale(0.1 -0.1)\">\n       <defs>\n        <path d=\"M 1228 531 \nL 3431 531 \nL 3431 0 \nL 469 0 \nL 469 531 \nQ 828 903 1448 1529 \nQ 2069 2156 2228 2338 \nQ 2531 2678 2651 2914 \nQ 2772 3150 2772 3378 \nQ 2772 3750 2511 3984 \nQ 2250 4219 1831 4219 \nQ 1534 4219 1204 4116 \nQ 875 4013 500 3803 \nL 500 4441 \nQ 881 4594 1212 4672 \nQ 1544 4750 1819 4750 \nQ 2544 4750 2975 4387 \nQ 3406 4025 3406 3419 \nQ 3406 3131 3298 2873 \nQ 3191 2616 2906 2266 \nQ 2828 2175 2409 1742 \nQ 1991 1309 1228 531 \nz\n\" id=\"DejaVuSans-32\" transform=\"scale(0.015625)\"/>\n       </defs>\n       <use xlink:href=\"#DejaVuSans-32\"/>\n       <use x=\"63.623047\" xlink:href=\"#DejaVuSans-30\"/>\n      </g>\n     </g>\n    </g>\n    <g id=\"xtick_4\">\n     <g id=\"line2d_4\">\n      <g>\n       <use style=\"stroke:#000000;stroke-width:0.8;\" x=\"242.907386\" xlink:href=\"#ma5f7b66f46\" y=\"224.64\"/>\n      </g>\n     </g>\n     <g id=\"text_4\">\n      <!-- 30 -->\n      <g transform=\"translate(236.544886 239.238437)scale(0.1 -0.1)\">\n       <defs>\n        <path d=\"M 2597 2516 \nQ 3050 2419 3304 2112 \nQ 3559 1806 3559 1356 \nQ 3559 666 3084 287 \nQ 2609 -91 1734 -91 \nQ 1441 -91 1130 -33 \nQ 819 25 488 141 \nL 488 750 \nQ 750 597 1062 519 \nQ 1375 441 1716 441 \nQ 2309 441 2620 675 \nQ 2931 909 2931 1356 \nQ 2931 1769 2642 2001 \nQ 2353 2234 1838 2234 \nL 1294 2234 \nL 1294 2753 \nL 1863 2753 \nQ 2328 2753 2575 2939 \nQ 2822 3125 2822 3475 \nQ 2822 3834 2567 4026 \nQ 2313 4219 1838 4219 \nQ 1578 4219 1281 4162 \nQ 984 4106 628 3988 \nL 628 4550 \nQ 988 4650 1302 4700 \nQ 1616 4750 1894 4750 \nQ 2613 4750 3031 4423 \nQ 3450 4097 3450 3541 \nQ 3450 3153 3228 2886 \nQ 3006 2619 2597 2516 \nz\n\" id=\"DejaVuSans-33\" transform=\"scale(0.015625)\"/>\n       </defs>\n       <use xlink:href=\"#DejaVuSans-33\"/>\n       <use x=\"63.623047\" xlink:href=\"#DejaVuSans-30\"/>\n      </g>\n     </g>\n    </g>\n    <g id=\"xtick_5\">\n     <g id=\"line2d_5\">\n      <g>\n       <use style=\"stroke:#000000;stroke-width:0.8;\" x=\"306.316477\" xlink:href=\"#ma5f7b66f46\" y=\"224.64\"/>\n      </g>\n     </g>\n     <g id=\"text_5\">\n      <!-- 40 -->\n      <g transform=\"translate(299.953977 239.238437)scale(0.1 -0.1)\">\n       <defs>\n        <path d=\"M 2419 4116 \nL 825 1625 \nL 2419 1625 \nL 2419 4116 \nz\nM 2253 4666 \nL 3047 4666 \nL 3047 1625 \nL 3713 1625 \nL 3713 1100 \nL 3047 1100 \nL 3047 0 \nL 2419 0 \nL 2419 1100 \nL 313 1100 \nL 313 1709 \nL 2253 4666 \nz\n\" id=\"DejaVuSans-34\" transform=\"scale(0.015625)\"/>\n       </defs>\n       <use xlink:href=\"#DejaVuSans-34\"/>\n       <use x=\"63.623047\" xlink:href=\"#DejaVuSans-30\"/>\n      </g>\n     </g>\n    </g>\n    <g id=\"xtick_6\">\n     <g id=\"line2d_6\">\n      <g>\n       <use style=\"stroke:#000000;stroke-width:0.8;\" x=\"369.725568\" xlink:href=\"#ma5f7b66f46\" y=\"224.64\"/>\n      </g>\n     </g>\n     <g id=\"text_6\">\n      <!-- 50 -->\n      <g transform=\"translate(363.363068 239.238437)scale(0.1 -0.1)\">\n       <defs>\n        <path d=\"M 691 4666 \nL 3169 4666 \nL 3169 4134 \nL 1269 4134 \nL 1269 2991 \nQ 1406 3038 1543 3061 \nQ 1681 3084 1819 3084 \nQ 2600 3084 3056 2656 \nQ 3513 2228 3513 1497 \nQ 3513 744 3044 326 \nQ 2575 -91 1722 -91 \nQ 1428 -91 1123 -41 \nQ 819 9 494 109 \nL 494 744 \nQ 775 591 1075 516 \nQ 1375 441 1709 441 \nQ 2250 441 2565 725 \nQ 2881 1009 2881 1497 \nQ 2881 1984 2565 2268 \nQ 2250 2553 1709 2553 \nQ 1456 2553 1204 2497 \nQ 953 2441 691 2322 \nL 691 4666 \nz\n\" id=\"DejaVuSans-35\" transform=\"scale(0.015625)\"/>\n       </defs>\n       <use xlink:href=\"#DejaVuSans-35\"/>\n       <use x=\"63.623047\" xlink:href=\"#DejaVuSans-30\"/>\n      </g>\n     </g>\n    </g>\n    <g id=\"text_7\">\n     <!-- Number of Neighbors K -->\n     <g transform=\"translate(159.149219 252.916562)scale(0.1 -0.1)\">\n      <defs>\n       <path d=\"M 628 4666 \nL 1478 4666 \nL 3547 763 \nL 3547 4666 \nL 4159 4666 \nL 4159 0 \nL 3309 0 \nL 1241 3903 \nL 1241 0 \nL 628 0 \nL 628 4666 \nz\n\" id=\"DejaVuSans-4e\" transform=\"scale(0.015625)\"/>\n       <path d=\"M 544 1381 \nL 544 3500 \nL 1119 3500 \nL 1119 1403 \nQ 1119 906 1312 657 \nQ 1506 409 1894 409 \nQ 2359 409 2629 706 \nQ 2900 1003 2900 1516 \nL 2900 3500 \nL 3475 3500 \nL 3475 0 \nL 2900 0 \nL 2900 538 \nQ 2691 219 2414 64 \nQ 2138 -91 1772 -91 \nQ 1169 -91 856 284 \nQ 544 659 544 1381 \nz\nM 1991 3584 \nL 1991 3584 \nz\n\" id=\"DejaVuSans-75\" transform=\"scale(0.015625)\"/>\n       <path d=\"M 3328 2828 \nQ 3544 3216 3844 3400 \nQ 4144 3584 4550 3584 \nQ 5097 3584 5394 3201 \nQ 5691 2819 5691 2113 \nL 5691 0 \nL 5113 0 \nL 5113 2094 \nQ 5113 2597 4934 2840 \nQ 4756 3084 4391 3084 \nQ 3944 3084 3684 2787 \nQ 3425 2491 3425 1978 \nL 3425 0 \nL 2847 0 \nL 2847 2094 \nQ 2847 2600 2669 2842 \nQ 2491 3084 2119 3084 \nQ 1678 3084 1418 2786 \nQ 1159 2488 1159 1978 \nL 1159 0 \nL 581 0 \nL 581 3500 \nL 1159 3500 \nL 1159 2956 \nQ 1356 3278 1631 3431 \nQ 1906 3584 2284 3584 \nQ 2666 3584 2933 3390 \nQ 3200 3197 3328 2828 \nz\n\" id=\"DejaVuSans-6d\" transform=\"scale(0.015625)\"/>\n       <path d=\"M 3116 1747 \nQ 3116 2381 2855 2742 \nQ 2594 3103 2138 3103 \nQ 1681 3103 1420 2742 \nQ 1159 2381 1159 1747 \nQ 1159 1113 1420 752 \nQ 1681 391 2138 391 \nQ 2594 391 2855 752 \nQ 3116 1113 3116 1747 \nz\nM 1159 2969 \nQ 1341 3281 1617 3432 \nQ 1894 3584 2278 3584 \nQ 2916 3584 3314 3078 \nQ 3713 2572 3713 1747 \nQ 3713 922 3314 415 \nQ 2916 -91 2278 -91 \nQ 1894 -91 1617 61 \nQ 1341 213 1159 525 \nL 1159 0 \nL 581 0 \nL 581 4863 \nL 1159 4863 \nL 1159 2969 \nz\n\" id=\"DejaVuSans-62\" transform=\"scale(0.015625)\"/>\n       <path d=\"M 3597 1894 \nL 3597 1613 \nL 953 1613 \nQ 991 1019 1311 708 \nQ 1631 397 2203 397 \nQ 2534 397 2845 478 \nQ 3156 559 3463 722 \nL 3463 178 \nQ 3153 47 2828 -22 \nQ 2503 -91 2169 -91 \nQ 1331 -91 842 396 \nQ 353 884 353 1716 \nQ 353 2575 817 3079 \nQ 1281 3584 2069 3584 \nQ 2775 3584 3186 3129 \nQ 3597 2675 3597 1894 \nz\nM 3022 2063 \nQ 3016 2534 2758 2815 \nQ 2500 3097 2075 3097 \nQ 1594 3097 1305 2825 \nQ 1016 2553 972 2059 \nL 3022 2063 \nz\n\" id=\"DejaVuSans-65\" transform=\"scale(0.015625)\"/>\n       <path d=\"M 2631 2963 \nQ 2534 3019 2420 3045 \nQ 2306 3072 2169 3072 \nQ 1681 3072 1420 2755 \nQ 1159 2438 1159 1844 \nL 1159 0 \nL 581 0 \nL 581 3500 \nL 1159 3500 \nL 1159 2956 \nQ 1341 3275 1631 3429 \nQ 1922 3584 2338 3584 \nQ 2397 3584 2469 3576 \nQ 2541 3569 2628 3553 \nL 2631 2963 \nz\n\" id=\"DejaVuSans-72\" transform=\"scale(0.015625)\"/>\n       <path id=\"DejaVuSans-20\" transform=\"scale(0.015625)\"/>\n       <path d=\"M 1959 3097 \nQ 1497 3097 1228 2736 \nQ 959 2375 959 1747 \nQ 959 1119 1226 758 \nQ 1494 397 1959 397 \nQ 2419 397 2687 759 \nQ 2956 1122 2956 1747 \nQ 2956 2369 2687 2733 \nQ 2419 3097 1959 3097 \nz\nM 1959 3584 \nQ 2709 3584 3137 3096 \nQ 3566 2609 3566 1747 \nQ 3566 888 3137 398 \nQ 2709 -91 1959 -91 \nQ 1206 -91 779 398 \nQ 353 888 353 1747 \nQ 353 2609 779 3096 \nQ 1206 3584 1959 3584 \nz\n\" id=\"DejaVuSans-6f\" transform=\"scale(0.015625)\"/>\n       <path d=\"M 2375 4863 \nL 2375 4384 \nL 1825 4384 \nQ 1516 4384 1395 4259 \nQ 1275 4134 1275 3809 \nL 1275 3500 \nL 2222 3500 \nL 2222 3053 \nL 1275 3053 \nL 1275 0 \nL 697 0 \nL 697 3053 \nL 147 3053 \nL 147 3500 \nL 697 3500 \nL 697 3744 \nQ 697 4328 969 4595 \nQ 1241 4863 1831 4863 \nL 2375 4863 \nz\n\" id=\"DejaVuSans-66\" transform=\"scale(0.015625)\"/>\n       <path d=\"M 603 3500 \nL 1178 3500 \nL 1178 0 \nL 603 0 \nL 603 3500 \nz\nM 603 4863 \nL 1178 4863 \nL 1178 4134 \nL 603 4134 \nL 603 4863 \nz\n\" id=\"DejaVuSans-69\" transform=\"scale(0.015625)\"/>\n       <path d=\"M 2906 1791 \nQ 2906 2416 2648 2759 \nQ 2391 3103 1925 3103 \nQ 1463 3103 1205 2759 \nQ 947 2416 947 1791 \nQ 947 1169 1205 825 \nQ 1463 481 1925 481 \nQ 2391 481 2648 825 \nQ 2906 1169 2906 1791 \nz\nM 3481 434 \nQ 3481 -459 3084 -895 \nQ 2688 -1331 1869 -1331 \nQ 1566 -1331 1297 -1286 \nQ 1028 -1241 775 -1147 \nL 775 -588 \nQ 1028 -725 1275 -790 \nQ 1522 -856 1778 -856 \nQ 2344 -856 2625 -561 \nQ 2906 -266 2906 331 \nL 2906 616 \nQ 2728 306 2450 153 \nQ 2172 0 1784 0 \nQ 1141 0 747 490 \nQ 353 981 353 1791 \nQ 353 2603 747 3093 \nQ 1141 3584 1784 3584 \nQ 2172 3584 2450 3431 \nQ 2728 3278 2906 2969 \nL 2906 3500 \nL 3481 3500 \nL 3481 434 \nz\n\" id=\"DejaVuSans-67\" transform=\"scale(0.015625)\"/>\n       <path d=\"M 3513 2113 \nL 3513 0 \nL 2938 0 \nL 2938 2094 \nQ 2938 2591 2744 2837 \nQ 2550 3084 2163 3084 \nQ 1697 3084 1428 2787 \nQ 1159 2491 1159 1978 \nL 1159 0 \nL 581 0 \nL 581 4863 \nL 1159 4863 \nL 1159 2956 \nQ 1366 3272 1645 3428 \nQ 1925 3584 2291 3584 \nQ 2894 3584 3203 3211 \nQ 3513 2838 3513 2113 \nz\n\" id=\"DejaVuSans-68\" transform=\"scale(0.015625)\"/>\n       <path d=\"M 2834 3397 \nL 2834 2853 \nQ 2591 2978 2328 3040 \nQ 2066 3103 1784 3103 \nQ 1356 3103 1142 2972 \nQ 928 2841 928 2578 \nQ 928 2378 1081 2264 \nQ 1234 2150 1697 2047 \nL 1894 2003 \nQ 2506 1872 2764 1633 \nQ 3022 1394 3022 966 \nQ 3022 478 2636 193 \nQ 2250 -91 1575 -91 \nQ 1294 -91 989 -36 \nQ 684 19 347 128 \nL 347 722 \nQ 666 556 975 473 \nQ 1284 391 1588 391 \nQ 1994 391 2212 530 \nQ 2431 669 2431 922 \nQ 2431 1156 2273 1281 \nQ 2116 1406 1581 1522 \nL 1381 1569 \nQ 847 1681 609 1914 \nQ 372 2147 372 2553 \nQ 372 3047 722 3315 \nQ 1072 3584 1716 3584 \nQ 2034 3584 2315 3537 \nQ 2597 3491 2834 3397 \nz\n\" id=\"DejaVuSans-73\" transform=\"scale(0.015625)\"/>\n       <path d=\"M 628 4666 \nL 1259 4666 \nL 1259 2694 \nL 3353 4666 \nL 4166 4666 \nL 1850 2491 \nL 4331 0 \nL 3500 0 \nL 1259 2247 \nL 1259 0 \nL 628 0 \nL 628 4666 \nz\n\" id=\"DejaVuSans-4b\" transform=\"scale(0.015625)\"/>\n      </defs>\n      <use xlink:href=\"#DejaVuSans-4e\"/>\n      <use x=\"74.804688\" xlink:href=\"#DejaVuSans-75\"/>\n      <use x=\"138.183594\" xlink:href=\"#DejaVuSans-6d\"/>\n      <use x=\"235.595703\" xlink:href=\"#DejaVuSans-62\"/>\n      <use x=\"299.072266\" xlink:href=\"#DejaVuSans-65\"/>\n      <use x=\"360.595703\" xlink:href=\"#DejaVuSans-72\"/>\n      <use x=\"401.708984\" xlink:href=\"#DejaVuSans-20\"/>\n      <use x=\"433.496094\" xlink:href=\"#DejaVuSans-6f\"/>\n      <use x=\"494.677734\" xlink:href=\"#DejaVuSans-66\"/>\n      <use x=\"529.882812\" xlink:href=\"#DejaVuSans-20\"/>\n      <use x=\"561.669922\" xlink:href=\"#DejaVuSans-4e\"/>\n      <use x=\"636.474609\" xlink:href=\"#DejaVuSans-65\"/>\n      <use x=\"697.998047\" xlink:href=\"#DejaVuSans-69\"/>\n      <use x=\"725.78125\" xlink:href=\"#DejaVuSans-67\"/>\n      <use x=\"789.257812\" xlink:href=\"#DejaVuSans-68\"/>\n      <use x=\"852.636719\" xlink:href=\"#DejaVuSans-62\"/>\n      <use x=\"916.113281\" xlink:href=\"#DejaVuSans-6f\"/>\n      <use x=\"977.294922\" xlink:href=\"#DejaVuSans-72\"/>\n      <use x=\"1018.408203\" xlink:href=\"#DejaVuSans-73\"/>\n      <use x=\"1070.507812\" xlink:href=\"#DejaVuSans-20\"/>\n      <use x=\"1102.294922\" xlink:href=\"#DejaVuSans-4b\"/>\n     </g>\n    </g>\n   </g>\n   <g id=\"matplotlib.axis_2\">\n    <g id=\"ytick_1\">\n     <g id=\"line2d_7\">\n      <defs>\n       <path d=\"M 0 0 \nL -3.5 0 \n\" id=\"maa7678de4b\" style=\"stroke:#000000;stroke-width:0.8;\"/>\n      </defs>\n      <g>\n       <use style=\"stroke:#000000;stroke-width:0.8;\" x=\"50.14375\" xlink:href=\"#maa7678de4b\" y=\"204.263462\"/>\n      </g>\n     </g>\n     <g id=\"text_8\">\n      <!-- 0.27 -->\n      <g transform=\"translate(20.878125 208.062681)scale(0.1 -0.1)\">\n       <defs>\n        <path d=\"M 684 794 \nL 1344 794 \nL 1344 0 \nL 684 0 \nL 684 794 \nz\n\" id=\"DejaVuSans-2e\" transform=\"scale(0.015625)\"/>\n        <path d=\"M 525 4666 \nL 3525 4666 \nL 3525 4397 \nL 1831 0 \nL 1172 0 \nL 2766 4134 \nL 525 4134 \nL 525 4666 \nz\n\" id=\"DejaVuSans-37\" transform=\"scale(0.015625)\"/>\n       </defs>\n       <use xlink:href=\"#DejaVuSans-30\"/>\n       <use x=\"63.623047\" xlink:href=\"#DejaVuSans-2e\"/>\n       <use x=\"95.410156\" xlink:href=\"#DejaVuSans-32\"/>\n       <use x=\"159.033203\" xlink:href=\"#DejaVuSans-37\"/>\n      </g>\n     </g>\n    </g>\n    <g id=\"ytick_2\">\n     <g id=\"line2d_8\">\n      <g>\n       <use style=\"stroke:#000000;stroke-width:0.8;\" x=\"50.14375\" xlink:href=\"#maa7678de4b\" y=\"178.200448\"/>\n      </g>\n     </g>\n     <g id=\"text_9\">\n      <!-- 0.28 -->\n      <g transform=\"translate(20.878125 181.999667)scale(0.1 -0.1)\">\n       <defs>\n        <path d=\"M 2034 2216 \nQ 1584 2216 1326 1975 \nQ 1069 1734 1069 1313 \nQ 1069 891 1326 650 \nQ 1584 409 2034 409 \nQ 2484 409 2743 651 \nQ 3003 894 3003 1313 \nQ 3003 1734 2745 1975 \nQ 2488 2216 2034 2216 \nz\nM 1403 2484 \nQ 997 2584 770 2862 \nQ 544 3141 544 3541 \nQ 544 4100 942 4425 \nQ 1341 4750 2034 4750 \nQ 2731 4750 3128 4425 \nQ 3525 4100 3525 3541 \nQ 3525 3141 3298 2862 \nQ 3072 2584 2669 2484 \nQ 3125 2378 3379 2068 \nQ 3634 1759 3634 1313 \nQ 3634 634 3220 271 \nQ 2806 -91 2034 -91 \nQ 1263 -91 848 271 \nQ 434 634 434 1313 \nQ 434 1759 690 2068 \nQ 947 2378 1403 2484 \nz\nM 1172 3481 \nQ 1172 3119 1398 2916 \nQ 1625 2713 2034 2713 \nQ 2441 2713 2670 2916 \nQ 2900 3119 2900 3481 \nQ 2900 3844 2670 4047 \nQ 2441 4250 2034 4250 \nQ 1625 4250 1398 4047 \nQ 1172 3844 1172 3481 \nz\n\" id=\"DejaVuSans-38\" transform=\"scale(0.015625)\"/>\n       </defs>\n       <use xlink:href=\"#DejaVuSans-30\"/>\n       <use x=\"63.623047\" xlink:href=\"#DejaVuSans-2e\"/>\n       <use x=\"95.410156\" xlink:href=\"#DejaVuSans-32\"/>\n       <use x=\"159.033203\" xlink:href=\"#DejaVuSans-38\"/>\n      </g>\n     </g>\n    </g>\n    <g id=\"ytick_3\">\n     <g id=\"line2d_9\">\n      <g>\n       <use style=\"stroke:#000000;stroke-width:0.8;\" x=\"50.14375\" xlink:href=\"#maa7678de4b\" y=\"152.137435\"/>\n      </g>\n     </g>\n     <g id=\"text_10\">\n      <!-- 0.29 -->\n      <g transform=\"translate(20.878125 155.936653)scale(0.1 -0.1)\">\n       <defs>\n        <path d=\"M 703 97 \nL 703 672 \nQ 941 559 1184 500 \nQ 1428 441 1663 441 \nQ 2288 441 2617 861 \nQ 2947 1281 2994 2138 \nQ 2813 1869 2534 1725 \nQ 2256 1581 1919 1581 \nQ 1219 1581 811 2004 \nQ 403 2428 403 3163 \nQ 403 3881 828 4315 \nQ 1253 4750 1959 4750 \nQ 2769 4750 3195 4129 \nQ 3622 3509 3622 2328 \nQ 3622 1225 3098 567 \nQ 2575 -91 1691 -91 \nQ 1453 -91 1209 -44 \nQ 966 3 703 97 \nz\nM 1959 2075 \nQ 2384 2075 2632 2365 \nQ 2881 2656 2881 3163 \nQ 2881 3666 2632 3958 \nQ 2384 4250 1959 4250 \nQ 1534 4250 1286 3958 \nQ 1038 3666 1038 3163 \nQ 1038 2656 1286 2365 \nQ 1534 2075 1959 2075 \nz\n\" id=\"DejaVuSans-39\" transform=\"scale(0.015625)\"/>\n       </defs>\n       <use xlink:href=\"#DejaVuSans-30\"/>\n       <use x=\"63.623047\" xlink:href=\"#DejaVuSans-2e\"/>\n       <use x=\"95.410156\" xlink:href=\"#DejaVuSans-32\"/>\n       <use x=\"159.033203\" xlink:href=\"#DejaVuSans-39\"/>\n      </g>\n     </g>\n    </g>\n    <g id=\"ytick_4\">\n     <g id=\"line2d_10\">\n      <g>\n       <use style=\"stroke:#000000;stroke-width:0.8;\" x=\"50.14375\" xlink:href=\"#maa7678de4b\" y=\"126.074421\"/>\n      </g>\n     </g>\n     <g id=\"text_11\">\n      <!-- 0.30 -->\n      <g transform=\"translate(20.878125 129.87364)scale(0.1 -0.1)\">\n       <use xlink:href=\"#DejaVuSans-30\"/>\n       <use x=\"63.623047\" xlink:href=\"#DejaVuSans-2e\"/>\n       <use x=\"95.410156\" xlink:href=\"#DejaVuSans-33\"/>\n       <use x=\"159.033203\" xlink:href=\"#DejaVuSans-30\"/>\n      </g>\n     </g>\n    </g>\n    <g id=\"ytick_5\">\n     <g id=\"line2d_11\">\n      <g>\n       <use style=\"stroke:#000000;stroke-width:0.8;\" x=\"50.14375\" xlink:href=\"#maa7678de4b\" y=\"100.011407\"/>\n      </g>\n     </g>\n     <g id=\"text_12\">\n      <!-- 0.31 -->\n      <g transform=\"translate(20.878125 103.810626)scale(0.1 -0.1)\">\n       <use xlink:href=\"#DejaVuSans-30\"/>\n       <use x=\"63.623047\" xlink:href=\"#DejaVuSans-2e\"/>\n       <use x=\"95.410156\" xlink:href=\"#DejaVuSans-33\"/>\n       <use x=\"159.033203\" xlink:href=\"#DejaVuSans-31\"/>\n      </g>\n     </g>\n    </g>\n    <g id=\"ytick_6\">\n     <g id=\"line2d_12\">\n      <g>\n       <use style=\"stroke:#000000;stroke-width:0.8;\" x=\"50.14375\" xlink:href=\"#maa7678de4b\" y=\"73.948394\"/>\n      </g>\n     </g>\n     <g id=\"text_13\">\n      <!-- 0.32 -->\n      <g transform=\"translate(20.878125 77.747612)scale(0.1 -0.1)\">\n       <use xlink:href=\"#DejaVuSans-30\"/>\n       <use x=\"63.623047\" xlink:href=\"#DejaVuSans-2e\"/>\n       <use x=\"95.410156\" xlink:href=\"#DejaVuSans-33\"/>\n       <use x=\"159.033203\" xlink:href=\"#DejaVuSans-32\"/>\n      </g>\n     </g>\n    </g>\n    <g id=\"ytick_7\">\n     <g id=\"line2d_13\">\n      <g>\n       <use style=\"stroke:#000000;stroke-width:0.8;\" x=\"50.14375\" xlink:href=\"#maa7678de4b\" y=\"47.88538\"/>\n      </g>\n     </g>\n     <g id=\"text_14\">\n      <!-- 0.33 -->\n      <g transform=\"translate(20.878125 51.684599)scale(0.1 -0.1)\">\n       <use xlink:href=\"#DejaVuSans-30\"/>\n       <use x=\"63.623047\" xlink:href=\"#DejaVuSans-2e\"/>\n       <use x=\"95.410156\" xlink:href=\"#DejaVuSans-33\"/>\n       <use x=\"159.033203\" xlink:href=\"#DejaVuSans-33\"/>\n      </g>\n     </g>\n    </g>\n    <g id=\"ytick_8\">\n     <g id=\"line2d_14\">\n      <g>\n       <use style=\"stroke:#000000;stroke-width:0.8;\" x=\"50.14375\" xlink:href=\"#maa7678de4b\" y=\"21.822366\"/>\n      </g>\n     </g>\n     <g id=\"text_15\">\n      <!-- 0.34 -->\n      <g transform=\"translate(20.878125 25.621585)scale(0.1 -0.1)\">\n       <use xlink:href=\"#DejaVuSans-30\"/>\n       <use x=\"63.623047\" xlink:href=\"#DejaVuSans-2e\"/>\n       <use x=\"95.410156\" xlink:href=\"#DejaVuSans-33\"/>\n       <use x=\"159.033203\" xlink:href=\"#DejaVuSans-34\"/>\n      </g>\n     </g>\n    </g>\n    <g id=\"text_16\">\n     <!-- Misclassification Error -->\n     <g transform=\"translate(14.798438 170.342656)rotate(-90)scale(0.1 -0.1)\">\n      <defs>\n       <path d=\"M 628 4666 \nL 1569 4666 \nL 2759 1491 \nL 3956 4666 \nL 4897 4666 \nL 4897 0 \nL 4281 0 \nL 4281 4097 \nL 3078 897 \nL 2444 897 \nL 1241 4097 \nL 1241 0 \nL 628 0 \nL 628 4666 \nz\n\" id=\"DejaVuSans-4d\" transform=\"scale(0.015625)\"/>\n       <path d=\"M 3122 3366 \nL 3122 2828 \nQ 2878 2963 2633 3030 \nQ 2388 3097 2138 3097 \nQ 1578 3097 1268 2742 \nQ 959 2388 959 1747 \nQ 959 1106 1268 751 \nQ 1578 397 2138 397 \nQ 2388 397 2633 464 \nQ 2878 531 3122 666 \nL 3122 134 \nQ 2881 22 2623 -34 \nQ 2366 -91 2075 -91 \nQ 1284 -91 818 406 \nQ 353 903 353 1747 \nQ 353 2603 823 3093 \nQ 1294 3584 2113 3584 \nQ 2378 3584 2631 3529 \nQ 2884 3475 3122 3366 \nz\n\" id=\"DejaVuSans-63\" transform=\"scale(0.015625)\"/>\n       <path d=\"M 603 4863 \nL 1178 4863 \nL 1178 0 \nL 603 0 \nL 603 4863 \nz\n\" id=\"DejaVuSans-6c\" transform=\"scale(0.015625)\"/>\n       <path d=\"M 2194 1759 \nQ 1497 1759 1228 1600 \nQ 959 1441 959 1056 \nQ 959 750 1161 570 \nQ 1363 391 1709 391 \nQ 2188 391 2477 730 \nQ 2766 1069 2766 1631 \nL 2766 1759 \nL 2194 1759 \nz\nM 3341 1997 \nL 3341 0 \nL 2766 0 \nL 2766 531 \nQ 2569 213 2275 61 \nQ 1981 -91 1556 -91 \nQ 1019 -91 701 211 \nQ 384 513 384 1019 \nQ 384 1609 779 1909 \nQ 1175 2209 1959 2209 \nL 2766 2209 \nL 2766 2266 \nQ 2766 2663 2505 2880 \nQ 2244 3097 1772 3097 \nQ 1472 3097 1187 3025 \nQ 903 2953 641 2809 \nL 641 3341 \nQ 956 3463 1253 3523 \nQ 1550 3584 1831 3584 \nQ 2591 3584 2966 3190 \nQ 3341 2797 3341 1997 \nz\n\" id=\"DejaVuSans-61\" transform=\"scale(0.015625)\"/>\n       <path d=\"M 1172 4494 \nL 1172 3500 \nL 2356 3500 \nL 2356 3053 \nL 1172 3053 \nL 1172 1153 \nQ 1172 725 1289 603 \nQ 1406 481 1766 481 \nL 2356 481 \nL 2356 0 \nL 1766 0 \nQ 1100 0 847 248 \nQ 594 497 594 1153 \nL 594 3053 \nL 172 3053 \nL 172 3500 \nL 594 3500 \nL 594 4494 \nL 1172 4494 \nz\n\" id=\"DejaVuSans-74\" transform=\"scale(0.015625)\"/>\n       <path d=\"M 3513 2113 \nL 3513 0 \nL 2938 0 \nL 2938 2094 \nQ 2938 2591 2744 2837 \nQ 2550 3084 2163 3084 \nQ 1697 3084 1428 2787 \nQ 1159 2491 1159 1978 \nL 1159 0 \nL 581 0 \nL 581 3500 \nL 1159 3500 \nL 1159 2956 \nQ 1366 3272 1645 3428 \nQ 1925 3584 2291 3584 \nQ 2894 3584 3203 3211 \nQ 3513 2838 3513 2113 \nz\n\" id=\"DejaVuSans-6e\" transform=\"scale(0.015625)\"/>\n       <path d=\"M 628 4666 \nL 3578 4666 \nL 3578 4134 \nL 1259 4134 \nL 1259 2753 \nL 3481 2753 \nL 3481 2222 \nL 1259 2222 \nL 1259 531 \nL 3634 531 \nL 3634 0 \nL 628 0 \nL 628 4666 \nz\n\" id=\"DejaVuSans-45\" transform=\"scale(0.015625)\"/>\n      </defs>\n      <use xlink:href=\"#DejaVuSans-4d\"/>\n      <use x=\"86.279297\" xlink:href=\"#DejaVuSans-69\"/>\n      <use x=\"114.0625\" xlink:href=\"#DejaVuSans-73\"/>\n      <use x=\"166.162109\" xlink:href=\"#DejaVuSans-63\"/>\n      <use x=\"221.142578\" xlink:href=\"#DejaVuSans-6c\"/>\n      <use x=\"248.925781\" xlink:href=\"#DejaVuSans-61\"/>\n      <use x=\"310.205078\" xlink:href=\"#DejaVuSans-73\"/>\n      <use x=\"362.304688\" xlink:href=\"#DejaVuSans-73\"/>\n      <use x=\"414.404297\" xlink:href=\"#DejaVuSans-69\"/>\n      <use x=\"442.1875\" xlink:href=\"#DejaVuSans-66\"/>\n      <use x=\"477.392578\" xlink:href=\"#DejaVuSans-69\"/>\n      <use x=\"505.175781\" xlink:href=\"#DejaVuSans-63\"/>\n      <use x=\"560.15625\" xlink:href=\"#DejaVuSans-61\"/>\n      <use x=\"621.435547\" xlink:href=\"#DejaVuSans-74\"/>\n      <use x=\"660.644531\" xlink:href=\"#DejaVuSans-69\"/>\n      <use x=\"688.427734\" xlink:href=\"#DejaVuSans-6f\"/>\n      <use x=\"749.609375\" xlink:href=\"#DejaVuSans-6e\"/>\n      <use x=\"812.988281\" xlink:href=\"#DejaVuSans-20\"/>\n      <use x=\"844.775391\" xlink:href=\"#DejaVuSans-45\"/>\n      <use x=\"907.958984\" xlink:href=\"#DejaVuSans-72\"/>\n      <use x=\"947.322266\" xlink:href=\"#DejaVuSans-72\"/>\n      <use x=\"986.185547\" xlink:href=\"#DejaVuSans-6f\"/>\n      <use x=\"1047.367188\" xlink:href=\"#DejaVuSans-72\"/>\n     </g>\n    </g>\n   </g>\n   <g id=\"line2d_15\">\n    <path clip-path=\"url(#p4ae642bb44)\" d=\"M 65.361932 17.083636 \nL 71.702841 122.689614 \nL 78.04375 144.352379 \nL 84.384659 191.739676 \nL 90.725568 164.66122 \nL 97.066477 195.801445 \nL 103.407386 195.801445 \nL 109.748295 203.924981 \nL 116.089205 198.50929 \nL 122.430114 199.863213 \nL 128.771023 191.739676 \nL 135.111932 203.924981 \nL 141.452841 195.801445 \nL 147.79375 199.863213 \nL 154.134659 203.924981 \nL 160.475568 199.863213 \nL 166.816477 199.863213 \nL 173.157386 203.924981 \nL 179.498295 190.385753 \nL 185.839205 209.340672 \nL 192.180114 209.340672 \nL 198.521023 209.340672 \nL 204.861932 212.048518 \nL 211.202841 209.340672 \nL 217.54375 214.756364 \nL 223.884659 207.98675 \nL 230.225568 212.048518 \nL 236.566477 205.278904 \nL 242.907386 213.402441 \nL 249.248295 203.924981 \nL 255.589205 206.632827 \nL 261.930114 203.924981 \nL 268.271023 195.801445 \nL 274.611932 205.278904 \nL 280.952841 209.340672 \nL 287.29375 205.278904 \nL 293.634659 202.571059 \nL 299.975568 202.571059 \nL 306.316477 209.340672 \nL 312.657386 199.863213 \nL 318.998295 213.402441 \nL 325.339205 205.278904 \nL 331.680114 199.863213 \nL 338.021023 194.447522 \nL 344.361932 199.863213 \nL 350.702841 191.739676 \nL 357.04375 190.385753 \nL 363.384659 201.217136 \nL 369.725568 207.98675 \n\" style=\"fill:none;stroke:#1f77b4;stroke-linecap:square;stroke-width:1.5;\"/>\n   </g>\n   <g id=\"patch_3\">\n    <path d=\"M 50.14375 224.64 \nL 50.14375 7.2 \n\" style=\"fill:none;stroke:#000000;stroke-linecap:square;stroke-linejoin:miter;stroke-width:0.8;\"/>\n   </g>\n   <g id=\"patch_4\">\n    <path d=\"M 384.94375 224.64 \nL 384.94375 7.2 \n\" style=\"fill:none;stroke:#000000;stroke-linecap:square;stroke-linejoin:miter;stroke-width:0.8;\"/>\n   </g>\n   <g id=\"patch_5\">\n    <path d=\"M 50.14375 224.64 \nL 384.94375 224.64 \n\" style=\"fill:none;stroke:#000000;stroke-linecap:square;stroke-linejoin:miter;stroke-width:0.8;\"/>\n   </g>\n   <g id=\"patch_6\">\n    <path d=\"M 50.14375 7.2 \nL 384.94375 7.2 \n\" style=\"fill:none;stroke:#000000;stroke-linecap:square;stroke-linejoin:miter;stroke-width:0.8;\"/>\n   </g>\n  </g>\n </g>\n <defs>\n  <clipPath id=\"p4ae642bb44\">\n   <rect height=\"217.44\" width=\"334.8\" x=\"50.14375\" y=\"7.2\"/>\n  </clipPath>\n </defs>\n</svg>\n",
      "image/png": "[encoded data removed]"
     },
     "metadata": {
      "needs_background": "light"
     }
    },
    {
     "output_type": "stream",
     "name": "stdout",
     "text": [
      "The optimal number of neighbors is 26 with score 73%\n\nTuning kNN classification model with K-Fold=10...\nShape of X_Train:(1925, 9)\nShape of y_Train:(1925,)\nShape of X_Test:(482, 9)\nShape of y_Test:(482,)\nFinding best k...\n"
     ]
    },
    {
     "output_type": "display_data",
     "data": {
      "text/plain": "<Figure size 432x288 with 1 Axes>",
      "image/svg+xml": "<?xml version=\"1.0\" encoding=\"utf-8\" standalone=\"no\"?>\n<!DOCTYPE svg PUBLIC \"-//W3C//DTD SVG 1.1//EN\"\n  \"http://www.w3.org/Graphics/SVG/1.1/DTD/svg11.dtd\">\n<svg height=\"262.19625pt\" version=\"1.1\" viewBox=\"0 0 392.14375 262.19625\" width=\"392.14375pt\" xmlns=\"http://www.w3.org/2000/svg\" xmlns:xlink=\"http://www.w3.org/1999/xlink\">\n <metadata>\n  <rdf:RDF xmlns:cc=\"http://creativecommons.org/ns#\" xmlns:dc=\"http://purl.org/dc/elements/1.1/\" xmlns:rdf=\"http://www.w3.org/1999/02/22-rdf-syntax-ns#\">\n   <cc:Work>\n    <dc:type rdf:resource=\"http://purl.org/dc/dcmitype/StillImage\"/>\n    <dc:date>2021-06-04T06:09:33.284104</dc:date>\n    <dc:format>image/svg+xml</dc:format>\n    <dc:creator>\n     <cc:Agent>\n      <dc:title>Matplotlib v3.4.2, https://matplotlib.org/</dc:title>\n     </cc:Agent>\n    </dc:creator>\n   </cc:Work>\n  </rdf:RDF>\n </metadata>\n <defs>\n  <style type=\"text/css\">*{stroke-linecap:butt;stroke-linejoin:round;}</style>\n </defs>\n <g id=\"figure_1\">\n  <g id=\"patch_1\">\n   <path d=\"M 0 262.19625 \nL 392.14375 262.19625 \nL 392.14375 0 \nL 0 0 \nz\n\" style=\"fill:none;\"/>\n  </g>\n  <g id=\"axes_1\">\n   <g id=\"patch_2\">\n    <path d=\"M 50.14375 224.64 \nL 384.94375 224.64 \nL 384.94375 7.2 \nL 50.14375 7.2 \nz\n\" style=\"fill:#ffffff;\"/>\n   </g>\n   <g id=\"matplotlib.axis_1\">\n    <g id=\"xtick_1\">\n     <g id=\"line2d_1\">\n      <defs>\n       <path d=\"M 0 0 \nL 0 3.5 \n\" id=\"md08dfe4225\" style=\"stroke:#000000;stroke-width:0.8;\"/>\n      </defs>\n      <g>\n       <use style=\"stroke:#000000;stroke-width:0.8;\" x=\"52.680114\" xlink:href=\"#md08dfe4225\" y=\"224.64\"/>\n      </g>\n     </g>\n     <g id=\"text_1\">\n      <!-- 0 -->\n      <g transform=\"translate(49.498864 239.238437)scale(0.1 -0.1)\">\n       <defs>\n        <path d=\"M 2034 4250 \nQ 1547 4250 1301 3770 \nQ 1056 3291 1056 2328 \nQ 1056 1369 1301 889 \nQ 1547 409 2034 409 \nQ 2525 409 2770 889 \nQ 3016 1369 3016 2328 \nQ 3016 3291 2770 3770 \nQ 2525 4250 2034 4250 \nz\nM 2034 4750 \nQ 2819 4750 3233 4129 \nQ 3647 3509 3647 2328 \nQ 3647 1150 3233 529 \nQ 2819 -91 2034 -91 \nQ 1250 -91 836 529 \nQ 422 1150 422 2328 \nQ 422 3509 836 4129 \nQ 1250 4750 2034 4750 \nz\n\" id=\"DejaVuSans-30\" transform=\"scale(0.015625)\"/>\n       </defs>\n       <use xlink:href=\"#DejaVuSans-30\"/>\n      </g>\n     </g>\n    </g>\n    <g id=\"xtick_2\">\n     <g id=\"line2d_2\">\n      <g>\n       <use style=\"stroke:#000000;stroke-width:0.8;\" x=\"116.089205\" xlink:href=\"#md08dfe4225\" y=\"224.64\"/>\n      </g>\n     </g>\n     <g id=\"text_2\">\n      <!-- 10 -->\n      <g transform=\"translate(109.726705 239.238437)scale(0.1 -0.1)\">\n       <defs>\n        <path d=\"M 794 531 \nL 1825 531 \nL 1825 4091 \nL 703 3866 \nL 703 4441 \nL 1819 4666 \nL 2450 4666 \nL 2450 531 \nL 3481 531 \nL 3481 0 \nL 794 0 \nL 794 531 \nz\n\" id=\"DejaVuSans-31\" transform=\"scale(0.015625)\"/>\n       </defs>\n       <use xlink:href=\"#DejaVuSans-31\"/>\n       <use x=\"63.623047\" xlink:href=\"#DejaVuSans-30\"/>\n      </g>\n     </g>\n    </g>\n    <g id=\"xtick_3\">\n     <g id=\"line2d_3\">\n      <g>\n       <use style=\"stroke:#000000;stroke-width:0.8;\" x=\"179.498295\" xlink:href=\"#md08dfe4225\" y=\"224.64\"/>\n      </g>\n     </g>\n     <g id=\"text_3\">\n      <!-- 20 -->\n      <g transform=\"translate(173.135795 239.238437)scale(0.1 -0.1)\">\n       <defs>\n        <path d=\"M 1228 531 \nL 3431 531 \nL 3431 0 \nL 469 0 \nL 469 531 \nQ 828 903 1448 1529 \nQ 2069 2156 2228 2338 \nQ 2531 2678 2651 2914 \nQ 2772 3150 2772 3378 \nQ 2772 3750 2511 3984 \nQ 2250 4219 1831 4219 \nQ 1534 4219 1204 4116 \nQ 875 4013 500 3803 \nL 500 4441 \nQ 881 4594 1212 4672 \nQ 1544 4750 1819 4750 \nQ 2544 4750 2975 4387 \nQ 3406 4025 3406 3419 \nQ 3406 3131 3298 2873 \nQ 3191 2616 2906 2266 \nQ 2828 2175 2409 1742 \nQ 1991 1309 1228 531 \nz\n\" id=\"DejaVuSans-32\" transform=\"scale(0.015625)\"/>\n       </defs>\n       <use xlink:href=\"#DejaVuSans-32\"/>\n       <use x=\"63.623047\" xlink:href=\"#DejaVuSans-30\"/>\n      </g>\n     </g>\n    </g>\n    <g id=\"xtick_4\">\n     <g id=\"line2d_4\">\n      <g>\n       <use style=\"stroke:#000000;stroke-width:0.8;\" x=\"242.907386\" xlink:href=\"#md08dfe4225\" y=\"224.64\"/>\n      </g>\n     </g>\n     <g id=\"text_4\">\n      <!-- 30 -->\n      <g transform=\"translate(236.544886 239.238437)scale(0.1 -0.1)\">\n       <defs>\n        <path d=\"M 2597 2516 \nQ 3050 2419 3304 2112 \nQ 3559 1806 3559 1356 \nQ 3559 666 3084 287 \nQ 2609 -91 1734 -91 \nQ 1441 -91 1130 -33 \nQ 819 25 488 141 \nL 488 750 \nQ 750 597 1062 519 \nQ 1375 441 1716 441 \nQ 2309 441 2620 675 \nQ 2931 909 2931 1356 \nQ 2931 1769 2642 2001 \nQ 2353 2234 1838 2234 \nL 1294 2234 \nL 1294 2753 \nL 1863 2753 \nQ 2328 2753 2575 2939 \nQ 2822 3125 2822 3475 \nQ 2822 3834 2567 4026 \nQ 2313 4219 1838 4219 \nQ 1578 4219 1281 4162 \nQ 984 4106 628 3988 \nL 628 4550 \nQ 988 4650 1302 4700 \nQ 1616 4750 1894 4750 \nQ 2613 4750 3031 4423 \nQ 3450 4097 3450 3541 \nQ 3450 3153 3228 2886 \nQ 3006 2619 2597 2516 \nz\n\" id=\"DejaVuSans-33\" transform=\"scale(0.015625)\"/>\n       </defs>\n       <use xlink:href=\"#DejaVuSans-33\"/>\n       <use x=\"63.623047\" xlink:href=\"#DejaVuSans-30\"/>\n      </g>\n     </g>\n    </g>\n    <g id=\"xtick_5\">\n     <g id=\"line2d_5\">\n      <g>\n       <use style=\"stroke:#000000;stroke-width:0.8;\" x=\"306.316477\" xlink:href=\"#md08dfe4225\" y=\"224.64\"/>\n      </g>\n     </g>\n     <g id=\"text_5\">\n      <!-- 40 -->\n      <g transform=\"translate(299.953977 239.238437)scale(0.1 -0.1)\">\n       <defs>\n        <path d=\"M 2419 4116 \nL 825 1625 \nL 2419 1625 \nL 2419 4116 \nz\nM 2253 4666 \nL 3047 4666 \nL 3047 1625 \nL 3713 1625 \nL 3713 1100 \nL 3047 1100 \nL 3047 0 \nL 2419 0 \nL 2419 1100 \nL 313 1100 \nL 313 1709 \nL 2253 4666 \nz\n\" id=\"DejaVuSans-34\" transform=\"scale(0.015625)\"/>\n       </defs>\n       <use xlink:href=\"#DejaVuSans-34\"/>\n       <use x=\"63.623047\" xlink:href=\"#DejaVuSans-30\"/>\n      </g>\n     </g>\n    </g>\n    <g id=\"xtick_6\">\n     <g id=\"line2d_6\">\n      <g>\n       <use style=\"stroke:#000000;stroke-width:0.8;\" x=\"369.725568\" xlink:href=\"#md08dfe4225\" y=\"224.64\"/>\n      </g>\n     </g>\n     <g id=\"text_6\">\n      <!-- 50 -->\n      <g transform=\"translate(363.363068 239.238437)scale(0.1 -0.1)\">\n       <defs>\n        <path d=\"M 691 4666 \nL 3169 4666 \nL 3169 4134 \nL 1269 4134 \nL 1269 2991 \nQ 1406 3038 1543 3061 \nQ 1681 3084 1819 3084 \nQ 2600 3084 3056 2656 \nQ 3513 2228 3513 1497 \nQ 3513 744 3044 326 \nQ 2575 -91 1722 -91 \nQ 1428 -91 1123 -41 \nQ 819 9 494 109 \nL 494 744 \nQ 775 591 1075 516 \nQ 1375 441 1709 441 \nQ 2250 441 2565 725 \nQ 2881 1009 2881 1497 \nQ 2881 1984 2565 2268 \nQ 2250 2553 1709 2553 \nQ 1456 2553 1204 2497 \nQ 953 2441 691 2322 \nL 691 4666 \nz\n\" id=\"DejaVuSans-35\" transform=\"scale(0.015625)\"/>\n       </defs>\n       <use xlink:href=\"#DejaVuSans-35\"/>\n       <use x=\"63.623047\" xlink:href=\"#DejaVuSans-30\"/>\n      </g>\n     </g>\n    </g>\n    <g id=\"text_7\">\n     <!-- Number of Neighbors K -->\n     <g transform=\"translate(159.149219 252.916562)scale(0.1 -0.1)\">\n      <defs>\n       <path d=\"M 628 4666 \nL 1478 4666 \nL 3547 763 \nL 3547 4666 \nL 4159 4666 \nL 4159 0 \nL 3309 0 \nL 1241 3903 \nL 1241 0 \nL 628 0 \nL 628 4666 \nz\n\" id=\"DejaVuSans-4e\" transform=\"scale(0.015625)\"/>\n       <path d=\"M 544 1381 \nL 544 3500 \nL 1119 3500 \nL 1119 1403 \nQ 1119 906 1312 657 \nQ 1506 409 1894 409 \nQ 2359 409 2629 706 \nQ 2900 1003 2900 1516 \nL 2900 3500 \nL 3475 3500 \nL 3475 0 \nL 2900 0 \nL 2900 538 \nQ 2691 219 2414 64 \nQ 2138 -91 1772 -91 \nQ 1169 -91 856 284 \nQ 544 659 544 1381 \nz\nM 1991 3584 \nL 1991 3584 \nz\n\" id=\"DejaVuSans-75\" transform=\"scale(0.015625)\"/>\n       <path d=\"M 3328 2828 \nQ 3544 3216 3844 3400 \nQ 4144 3584 4550 3584 \nQ 5097 3584 5394 3201 \nQ 5691 2819 5691 2113 \nL 5691 0 \nL 5113 0 \nL 5113 2094 \nQ 5113 2597 4934 2840 \nQ 4756 3084 4391 3084 \nQ 3944 3084 3684 2787 \nQ 3425 2491 3425 1978 \nL 3425 0 \nL 2847 0 \nL 2847 2094 \nQ 2847 2600 2669 2842 \nQ 2491 3084 2119 3084 \nQ 1678 3084 1418 2786 \nQ 1159 2488 1159 1978 \nL 1159 0 \nL 581 0 \nL 581 3500 \nL 1159 3500 \nL 1159 2956 \nQ 1356 3278 1631 3431 \nQ 1906 3584 2284 3584 \nQ 2666 3584 2933 3390 \nQ 3200 3197 3328 2828 \nz\n\" id=\"DejaVuSans-6d\" transform=\"scale(0.015625)\"/>\n       <path d=\"M 3116 1747 \nQ 3116 2381 2855 2742 \nQ 2594 3103 2138 3103 \nQ 1681 3103 1420 2742 \nQ 1159 2381 1159 1747 \nQ 1159 1113 1420 752 \nQ 1681 391 2138 391 \nQ 2594 391 2855 752 \nQ 3116 1113 3116 1747 \nz\nM 1159 2969 \nQ 1341 3281 1617 3432 \nQ 1894 3584 2278 3584 \nQ 2916 3584 3314 3078 \nQ 3713 2572 3713 1747 \nQ 3713 922 3314 415 \nQ 2916 -91 2278 -91 \nQ 1894 -91 1617 61 \nQ 1341 213 1159 525 \nL 1159 0 \nL 581 0 \nL 581 4863 \nL 1159 4863 \nL 1159 2969 \nz\n\" id=\"DejaVuSans-62\" transform=\"scale(0.015625)\"/>\n       <path d=\"M 3597 1894 \nL 3597 1613 \nL 953 1613 \nQ 991 1019 1311 708 \nQ 1631 397 2203 397 \nQ 2534 397 2845 478 \nQ 3156 559 3463 722 \nL 3463 178 \nQ 3153 47 2828 -22 \nQ 2503 -91 2169 -91 \nQ 1331 -91 842 396 \nQ 353 884 353 1716 \nQ 353 2575 817 3079 \nQ 1281 3584 2069 3584 \nQ 2775 3584 3186 3129 \nQ 3597 2675 3597 1894 \nz\nM 3022 2063 \nQ 3016 2534 2758 2815 \nQ 2500 3097 2075 3097 \nQ 1594 3097 1305 2825 \nQ 1016 2553 972 2059 \nL 3022 2063 \nz\n\" id=\"DejaVuSans-65\" transform=\"scale(0.015625)\"/>\n       <path d=\"M 2631 2963 \nQ 2534 3019 2420 3045 \nQ 2306 3072 2169 3072 \nQ 1681 3072 1420 2755 \nQ 1159 2438 1159 1844 \nL 1159 0 \nL 581 0 \nL 581 3500 \nL 1159 3500 \nL 1159 2956 \nQ 1341 3275 1631 3429 \nQ 1922 3584 2338 3584 \nQ 2397 3584 2469 3576 \nQ 2541 3569 2628 3553 \nL 2631 2963 \nz\n\" id=\"DejaVuSans-72\" transform=\"scale(0.015625)\"/>\n       <path id=\"DejaVuSans-20\" transform=\"scale(0.015625)\"/>\n       <path d=\"M 1959 3097 \nQ 1497 3097 1228 2736 \nQ 959 2375 959 1747 \nQ 959 1119 1226 758 \nQ 1494 397 1959 397 \nQ 2419 397 2687 759 \nQ 2956 1122 2956 1747 \nQ 2956 2369 2687 2733 \nQ 2419 3097 1959 3097 \nz\nM 1959 3584 \nQ 2709 3584 3137 3096 \nQ 3566 2609 3566 1747 \nQ 3566 888 3137 398 \nQ 2709 -91 1959 -91 \nQ 1206 -91 779 398 \nQ 353 888 353 1747 \nQ 353 2609 779 3096 \nQ 1206 3584 1959 3584 \nz\n\" id=\"DejaVuSans-6f\" transform=\"scale(0.015625)\"/>\n       <path d=\"M 2375 4863 \nL 2375 4384 \nL 1825 4384 \nQ 1516 4384 1395 4259 \nQ 1275 4134 1275 3809 \nL 1275 3500 \nL 2222 3500 \nL 2222 3053 \nL 1275 3053 \nL 1275 0 \nL 697 0 \nL 697 3053 \nL 147 3053 \nL 147 3500 \nL 697 3500 \nL 697 3744 \nQ 697 4328 969 4595 \nQ 1241 4863 1831 4863 \nL 2375 4863 \nz\n\" id=\"DejaVuSans-66\" transform=\"scale(0.015625)\"/>\n       <path d=\"M 603 3500 \nL 1178 3500 \nL 1178 0 \nL 603 0 \nL 603 3500 \nz\nM 603 4863 \nL 1178 4863 \nL 1178 4134 \nL 603 4134 \nL 603 4863 \nz\n\" id=\"DejaVuSans-69\" transform=\"scale(0.015625)\"/>\n       <path d=\"M 2906 1791 \nQ 2906 2416 2648 2759 \nQ 2391 3103 1925 3103 \nQ 1463 3103 1205 2759 \nQ 947 2416 947 1791 \nQ 947 1169 1205 825 \nQ 1463 481 1925 481 \nQ 2391 481 2648 825 \nQ 2906 1169 2906 1791 \nz\nM 3481 434 \nQ 3481 -459 3084 -895 \nQ 2688 -1331 1869 -1331 \nQ 1566 -1331 1297 -1286 \nQ 1028 -1241 775 -1147 \nL 775 -588 \nQ 1028 -725 1275 -790 \nQ 1522 -856 1778 -856 \nQ 2344 -856 2625 -561 \nQ 2906 -266 2906 331 \nL 2906 616 \nQ 2728 306 2450 153 \nQ 2172 0 1784 0 \nQ 1141 0 747 490 \nQ 353 981 353 1791 \nQ 353 2603 747 3093 \nQ 1141 3584 1784 3584 \nQ 2172 3584 2450 3431 \nQ 2728 3278 2906 2969 \nL 2906 3500 \nL 3481 3500 \nL 3481 434 \nz\n\" id=\"DejaVuSans-67\" transform=\"scale(0.015625)\"/>\n       <path d=\"M 3513 2113 \nL 3513 0 \nL 2938 0 \nL 2938 2094 \nQ 2938 2591 2744 2837 \nQ 2550 3084 2163 3084 \nQ 1697 3084 1428 2787 \nQ 1159 2491 1159 1978 \nL 1159 0 \nL 581 0 \nL 581 4863 \nL 1159 4863 \nL 1159 2956 \nQ 1366 3272 1645 3428 \nQ 1925 3584 2291 3584 \nQ 2894 3584 3203 3211 \nQ 3513 2838 3513 2113 \nz\n\" id=\"DejaVuSans-68\" transform=\"scale(0.015625)\"/>\n       <path d=\"M 2834 3397 \nL 2834 2853 \nQ 2591 2978 2328 3040 \nQ 2066 3103 1784 3103 \nQ 1356 3103 1142 2972 \nQ 928 2841 928 2578 \nQ 928 2378 1081 2264 \nQ 1234 2150 1697 2047 \nL 1894 2003 \nQ 2506 1872 2764 1633 \nQ 3022 1394 3022 966 \nQ 3022 478 2636 193 \nQ 2250 -91 1575 -91 \nQ 1294 -91 989 -36 \nQ 684 19 347 128 \nL 347 722 \nQ 666 556 975 473 \nQ 1284 391 1588 391 \nQ 1994 391 2212 530 \nQ 2431 669 2431 922 \nQ 2431 1156 2273 1281 \nQ 2116 1406 1581 1522 \nL 1381 1569 \nQ 847 1681 609 1914 \nQ 372 2147 372 2553 \nQ 372 3047 722 3315 \nQ 1072 3584 1716 3584 \nQ 2034 3584 2315 3537 \nQ 2597 3491 2834 3397 \nz\n\" id=\"DejaVuSans-73\" transform=\"scale(0.015625)\"/>\n       <path d=\"M 628 4666 \nL 1259 4666 \nL 1259 2694 \nL 3353 4666 \nL 4166 4666 \nL 1850 2491 \nL 4331 0 \nL 3500 0 \nL 1259 2247 \nL 1259 0 \nL 628 0 \nL 628 4666 \nz\n\" id=\"DejaVuSans-4b\" transform=\"scale(0.015625)\"/>\n      </defs>\n      <use xlink:href=\"#DejaVuSans-4e\"/>\n      <use x=\"74.804688\" xlink:href=\"#DejaVuSans-75\"/>\n      <use x=\"138.183594\" xlink:href=\"#DejaVuSans-6d\"/>\n      <use x=\"235.595703\" xlink:href=\"#DejaVuSans-62\"/>\n      <use x=\"299.072266\" xlink:href=\"#DejaVuSans-65\"/>\n      <use x=\"360.595703\" xlink:href=\"#DejaVuSans-72\"/>\n      <use x=\"401.708984\" xlink:href=\"#DejaVuSans-20\"/>\n      <use x=\"433.496094\" xlink:href=\"#DejaVuSans-6f\"/>\n      <use x=\"494.677734\" xlink:href=\"#DejaVuSans-66\"/>\n      <use x=\"529.882812\" xlink:href=\"#DejaVuSans-20\"/>\n      <use x=\"561.669922\" xlink:href=\"#DejaVuSans-4e\"/>\n      <use x=\"636.474609\" xlink:href=\"#DejaVuSans-65\"/>\n      <use x=\"697.998047\" xlink:href=\"#DejaVuSans-69\"/>\n      <use x=\"725.78125\" xlink:href=\"#DejaVuSans-67\"/>\n      <use x=\"789.257812\" xlink:href=\"#DejaVuSans-68\"/>\n      <use x=\"852.636719\" xlink:href=\"#DejaVuSans-62\"/>\n      <use x=\"916.113281\" xlink:href=\"#DejaVuSans-6f\"/>\n      <use x=\"977.294922\" xlink:href=\"#DejaVuSans-72\"/>\n      <use x=\"1018.408203\" xlink:href=\"#DejaVuSans-73\"/>\n      <use x=\"1070.507812\" xlink:href=\"#DejaVuSans-20\"/>\n      <use x=\"1102.294922\" xlink:href=\"#DejaVuSans-4b\"/>\n     </g>\n    </g>\n   </g>\n   <g id=\"matplotlib.axis_2\">\n    <g id=\"ytick_1\">\n     <g id=\"line2d_7\">\n      <defs>\n       <path d=\"M 0 0 \nL -3.5 0 \n\" id=\"mf9af678147\" style=\"stroke:#000000;stroke-width:0.8;\"/>\n      </defs>\n      <g>\n       <use style=\"stroke:#000000;stroke-width:0.8;\" x=\"50.14375\" xlink:href=\"#mf9af678147\" y=\"221.923886\"/>\n      </g>\n     </g>\n     <g id=\"text_8\">\n      <!-- 0.25 -->\n      <g transform=\"translate(20.878125 225.723105)scale(0.1 -0.1)\">\n       <defs>\n        <path d=\"M 684 794 \nL 1344 794 \nL 1344 0 \nL 684 0 \nL 684 794 \nz\n\" id=\"DejaVuSans-2e\" transform=\"scale(0.015625)\"/>\n       </defs>\n       <use xlink:href=\"#DejaVuSans-30\"/>\n       <use x=\"63.623047\" xlink:href=\"#DejaVuSans-2e\"/>\n       <use x=\"95.410156\" xlink:href=\"#DejaVuSans-32\"/>\n       <use x=\"159.033203\" xlink:href=\"#DejaVuSans-35\"/>\n      </g>\n     </g>\n    </g>\n    <g id=\"ytick_2\">\n     <g id=\"line2d_8\">\n      <g>\n       <use style=\"stroke:#000000;stroke-width:0.8;\" x=\"50.14375\" xlink:href=\"#mf9af678147\" y=\"192.876558\"/>\n      </g>\n     </g>\n     <g id=\"text_9\">\n      <!-- 0.26 -->\n      <g transform=\"translate(20.878125 196.675777)scale(0.1 -0.1)\">\n       <defs>\n        <path d=\"M 2113 2584 \nQ 1688 2584 1439 2293 \nQ 1191 2003 1191 1497 \nQ 1191 994 1439 701 \nQ 1688 409 2113 409 \nQ 2538 409 2786 701 \nQ 3034 994 3034 1497 \nQ 3034 2003 2786 2293 \nQ 2538 2584 2113 2584 \nz\nM 3366 4563 \nL 3366 3988 \nQ 3128 4100 2886 4159 \nQ 2644 4219 2406 4219 \nQ 1781 4219 1451 3797 \nQ 1122 3375 1075 2522 \nQ 1259 2794 1537 2939 \nQ 1816 3084 2150 3084 \nQ 2853 3084 3261 2657 \nQ 3669 2231 3669 1497 \nQ 3669 778 3244 343 \nQ 2819 -91 2113 -91 \nQ 1303 -91 875 529 \nQ 447 1150 447 2328 \nQ 447 3434 972 4092 \nQ 1497 4750 2381 4750 \nQ 2619 4750 2861 4703 \nQ 3103 4656 3366 4563 \nz\n\" id=\"DejaVuSans-36\" transform=\"scale(0.015625)\"/>\n       </defs>\n       <use xlink:href=\"#DejaVuSans-30\"/>\n       <use x=\"63.623047\" xlink:href=\"#DejaVuSans-2e\"/>\n       <use x=\"95.410156\" xlink:href=\"#DejaVuSans-32\"/>\n       <use x=\"159.033203\" xlink:href=\"#DejaVuSans-36\"/>\n      </g>\n     </g>\n    </g>\n    <g id=\"ytick_3\">\n     <g id=\"line2d_9\">\n      <g>\n       <use style=\"stroke:#000000;stroke-width:0.8;\" x=\"50.14375\" xlink:href=\"#mf9af678147\" y=\"163.82923\"/>\n      </g>\n     </g>\n     <g id=\"text_10\">\n      <!-- 0.27 -->\n      <g transform=\"translate(20.878125 167.628448)scale(0.1 -0.1)\">\n       <defs>\n        <path d=\"M 525 4666 \nL 3525 4666 \nL 3525 4397 \nL 1831 0 \nL 1172 0 \nL 2766 4134 \nL 525 4134 \nL 525 4666 \nz\n\" id=\"DejaVuSans-37\" transform=\"scale(0.015625)\"/>\n       </defs>\n       <use xlink:href=\"#DejaVuSans-30\"/>\n       <use x=\"63.623047\" xlink:href=\"#DejaVuSans-2e\"/>\n       <use x=\"95.410156\" xlink:href=\"#DejaVuSans-32\"/>\n       <use x=\"159.033203\" xlink:href=\"#DejaVuSans-37\"/>\n      </g>\n     </g>\n    </g>\n    <g id=\"ytick_4\">\n     <g id=\"line2d_10\">\n      <g>\n       <use style=\"stroke:#000000;stroke-width:0.8;\" x=\"50.14375\" xlink:href=\"#mf9af678147\" y=\"134.781901\"/>\n      </g>\n     </g>\n     <g id=\"text_11\">\n      <!-- 0.28 -->\n      <g transform=\"translate(20.878125 138.58112)scale(0.1 -0.1)\">\n       <defs>\n        <path d=\"M 2034 2216 \nQ 1584 2216 1326 1975 \nQ 1069 1734 1069 1313 \nQ 1069 891 1326 650 \nQ 1584 409 2034 409 \nQ 2484 409 2743 651 \nQ 3003 894 3003 1313 \nQ 3003 1734 2745 1975 \nQ 2488 2216 2034 2216 \nz\nM 1403 2484 \nQ 997 2584 770 2862 \nQ 544 3141 544 3541 \nQ 544 4100 942 4425 \nQ 1341 4750 2034 4750 \nQ 2731 4750 3128 4425 \nQ 3525 4100 3525 3541 \nQ 3525 3141 3298 2862 \nQ 3072 2584 2669 2484 \nQ 3125 2378 3379 2068 \nQ 3634 1759 3634 1313 \nQ 3634 634 3220 271 \nQ 2806 -91 2034 -91 \nQ 1263 -91 848 271 \nQ 434 634 434 1313 \nQ 434 1759 690 2068 \nQ 947 2378 1403 2484 \nz\nM 1172 3481 \nQ 1172 3119 1398 2916 \nQ 1625 2713 2034 2713 \nQ 2441 2713 2670 2916 \nQ 2900 3119 2900 3481 \nQ 2900 3844 2670 4047 \nQ 2441 4250 2034 4250 \nQ 1625 4250 1398 4047 \nQ 1172 3844 1172 3481 \nz\n\" id=\"DejaVuSans-38\" transform=\"scale(0.015625)\"/>\n       </defs>\n       <use xlink:href=\"#DejaVuSans-30\"/>\n       <use x=\"63.623047\" xlink:href=\"#DejaVuSans-2e\"/>\n       <use x=\"95.410156\" xlink:href=\"#DejaVuSans-32\"/>\n       <use x=\"159.033203\" xlink:href=\"#DejaVuSans-38\"/>\n      </g>\n     </g>\n    </g>\n    <g id=\"ytick_5\">\n     <g id=\"line2d_11\">\n      <g>\n       <use style=\"stroke:#000000;stroke-width:0.8;\" x=\"50.14375\" xlink:href=\"#mf9af678147\" y=\"105.734573\"/>\n      </g>\n     </g>\n     <g id=\"text_12\">\n      <!-- 0.29 -->\n      <g transform=\"translate(20.878125 109.533792)scale(0.1 -0.1)\">\n       <defs>\n        <path d=\"M 703 97 \nL 703 672 \nQ 941 559 1184 500 \nQ 1428 441 1663 441 \nQ 2288 441 2617 861 \nQ 2947 1281 2994 2138 \nQ 2813 1869 2534 1725 \nQ 2256 1581 1919 1581 \nQ 1219 1581 811 2004 \nQ 403 2428 403 3163 \nQ 403 3881 828 4315 \nQ 1253 4750 1959 4750 \nQ 2769 4750 3195 4129 \nQ 3622 3509 3622 2328 \nQ 3622 1225 3098 567 \nQ 2575 -91 1691 -91 \nQ 1453 -91 1209 -44 \nQ 966 3 703 97 \nz\nM 1959 2075 \nQ 2384 2075 2632 2365 \nQ 2881 2656 2881 3163 \nQ 2881 3666 2632 3958 \nQ 2384 4250 1959 4250 \nQ 1534 4250 1286 3958 \nQ 1038 3666 1038 3163 \nQ 1038 2656 1286 2365 \nQ 1534 2075 1959 2075 \nz\n\" id=\"DejaVuSans-39\" transform=\"scale(0.015625)\"/>\n       </defs>\n       <use xlink:href=\"#DejaVuSans-30\"/>\n       <use x=\"63.623047\" xlink:href=\"#DejaVuSans-2e\"/>\n       <use x=\"95.410156\" xlink:href=\"#DejaVuSans-32\"/>\n       <use x=\"159.033203\" xlink:href=\"#DejaVuSans-39\"/>\n      </g>\n     </g>\n    </g>\n    <g id=\"ytick_6\">\n     <g id=\"line2d_12\">\n      <g>\n       <use style=\"stroke:#000000;stroke-width:0.8;\" x=\"50.14375\" xlink:href=\"#mf9af678147\" y=\"76.687245\"/>\n      </g>\n     </g>\n     <g id=\"text_13\">\n      <!-- 0.30 -->\n      <g transform=\"translate(20.878125 80.486464)scale(0.1 -0.1)\">\n       <use xlink:href=\"#DejaVuSans-30\"/>\n       <use x=\"63.623047\" xlink:href=\"#DejaVuSans-2e\"/>\n       <use x=\"95.410156\" xlink:href=\"#DejaVuSans-33\"/>\n       <use x=\"159.033203\" xlink:href=\"#DejaVuSans-30\"/>\n      </g>\n     </g>\n    </g>\n    <g id=\"ytick_7\">\n     <g id=\"line2d_13\">\n      <g>\n       <use style=\"stroke:#000000;stroke-width:0.8;\" x=\"50.14375\" xlink:href=\"#mf9af678147\" y=\"47.639917\"/>\n      </g>\n     </g>\n     <g id=\"text_14\">\n      <!-- 0.31 -->\n      <g transform=\"translate(20.878125 51.439135)scale(0.1 -0.1)\">\n       <use xlink:href=\"#DejaVuSans-30\"/>\n       <use x=\"63.623047\" xlink:href=\"#DejaVuSans-2e\"/>\n       <use x=\"95.410156\" xlink:href=\"#DejaVuSans-33\"/>\n       <use x=\"159.033203\" xlink:href=\"#DejaVuSans-31\"/>\n      </g>\n     </g>\n    </g>\n    <g id=\"ytick_8\">\n     <g id=\"line2d_14\">\n      <g>\n       <use style=\"stroke:#000000;stroke-width:0.8;\" x=\"50.14375\" xlink:href=\"#mf9af678147\" y=\"18.592588\"/>\n      </g>\n     </g>\n     <g id=\"text_15\">\n      <!-- 0.32 -->\n      <g transform=\"translate(20.878125 22.391807)scale(0.1 -0.1)\">\n       <use xlink:href=\"#DejaVuSans-30\"/>\n       <use x=\"63.623047\" xlink:href=\"#DejaVuSans-2e\"/>\n       <use x=\"95.410156\" xlink:href=\"#DejaVuSans-33\"/>\n       <use x=\"159.033203\" xlink:href=\"#DejaVuSans-32\"/>\n      </g>\n     </g>\n    </g>\n    <g id=\"text_16\">\n     <!-- Misclassification Error -->\n     <g transform=\"translate(14.798438 170.342656)rotate(-90)scale(0.1 -0.1)\">\n      <defs>\n       <path d=\"M 628 4666 \nL 1569 4666 \nL 2759 1491 \nL 3956 4666 \nL 4897 4666 \nL 4897 0 \nL 4281 0 \nL 4281 4097 \nL 3078 897 \nL 2444 897 \nL 1241 4097 \nL 1241 0 \nL 628 0 \nL 628 4666 \nz\n\" id=\"DejaVuSans-4d\" transform=\"scale(0.015625)\"/>\n       <path d=\"M 3122 3366 \nL 3122 2828 \nQ 2878 2963 2633 3030 \nQ 2388 3097 2138 3097 \nQ 1578 3097 1268 2742 \nQ 959 2388 959 1747 \nQ 959 1106 1268 751 \nQ 1578 397 2138 397 \nQ 2388 397 2633 464 \nQ 2878 531 3122 666 \nL 3122 134 \nQ 2881 22 2623 -34 \nQ 2366 -91 2075 -91 \nQ 1284 -91 818 406 \nQ 353 903 353 1747 \nQ 353 2603 823 3093 \nQ 1294 3584 2113 3584 \nQ 2378 3584 2631 3529 \nQ 2884 3475 3122 3366 \nz\n\" id=\"DejaVuSans-63\" transform=\"scale(0.015625)\"/>\n       <path d=\"M 603 4863 \nL 1178 4863 \nL 1178 0 \nL 603 0 \nL 603 4863 \nz\n\" id=\"DejaVuSans-6c\" transform=\"scale(0.015625)\"/>\n       <path d=\"M 2194 1759 \nQ 1497 1759 1228 1600 \nQ 959 1441 959 1056 \nQ 959 750 1161 570 \nQ 1363 391 1709 391 \nQ 2188 391 2477 730 \nQ 2766 1069 2766 1631 \nL 2766 1759 \nL 2194 1759 \nz\nM 3341 1997 \nL 3341 0 \nL 2766 0 \nL 2766 531 \nQ 2569 213 2275 61 \nQ 1981 -91 1556 -91 \nQ 1019 -91 701 211 \nQ 384 513 384 1019 \nQ 384 1609 779 1909 \nQ 1175 2209 1959 2209 \nL 2766 2209 \nL 2766 2266 \nQ 2766 2663 2505 2880 \nQ 2244 3097 1772 3097 \nQ 1472 3097 1187 3025 \nQ 903 2953 641 2809 \nL 641 3341 \nQ 956 3463 1253 3523 \nQ 1550 3584 1831 3584 \nQ 2591 3584 2966 3190 \nQ 3341 2797 3341 1997 \nz\n\" id=\"DejaVuSans-61\" transform=\"scale(0.015625)\"/>\n       <path d=\"M 1172 4494 \nL 1172 3500 \nL 2356 3500 \nL 2356 3053 \nL 1172 3053 \nL 1172 1153 \nQ 1172 725 1289 603 \nQ 1406 481 1766 481 \nL 2356 481 \nL 2356 0 \nL 1766 0 \nQ 1100 0 847 248 \nQ 594 497 594 1153 \nL 594 3053 \nL 172 3053 \nL 172 3500 \nL 594 3500 \nL 594 4494 \nL 1172 4494 \nz\n\" id=\"DejaVuSans-74\" transform=\"scale(0.015625)\"/>\n       <path d=\"M 3513 2113 \nL 3513 0 \nL 2938 0 \nL 2938 2094 \nQ 2938 2591 2744 2837 \nQ 2550 3084 2163 3084 \nQ 1697 3084 1428 2787 \nQ 1159 2491 1159 1978 \nL 1159 0 \nL 581 0 \nL 581 3500 \nL 1159 3500 \nL 1159 2956 \nQ 1366 3272 1645 3428 \nQ 1925 3584 2291 3584 \nQ 2894 3584 3203 3211 \nQ 3513 2838 3513 2113 \nz\n\" id=\"DejaVuSans-6e\" transform=\"scale(0.015625)\"/>\n       <path d=\"M 628 4666 \nL 3578 4666 \nL 3578 4134 \nL 1259 4134 \nL 1259 2753 \nL 3481 2753 \nL 3481 2222 \nL 1259 2222 \nL 1259 531 \nL 3634 531 \nL 3634 0 \nL 628 0 \nL 628 4666 \nz\n\" id=\"DejaVuSans-45\" transform=\"scale(0.015625)\"/>\n      </defs>\n      <use xlink:href=\"#DejaVuSans-4d\"/>\n      <use x=\"86.279297\" xlink:href=\"#DejaVuSans-69\"/>\n      <use x=\"114.0625\" xlink:href=\"#DejaVuSans-73\"/>\n      <use x=\"166.162109\" xlink:href=\"#DejaVuSans-63\"/>\n      <use x=\"221.142578\" xlink:href=\"#DejaVuSans-6c\"/>\n      <use x=\"248.925781\" xlink:href=\"#DejaVuSans-61\"/>\n      <use x=\"310.205078\" xlink:href=\"#DejaVuSans-73\"/>\n      <use x=\"362.304688\" xlink:href=\"#DejaVuSans-73\"/>\n      <use x=\"414.404297\" xlink:href=\"#DejaVuSans-69\"/>\n      <use x=\"442.1875\" xlink:href=\"#DejaVuSans-66\"/>\n      <use x=\"477.392578\" xlink:href=\"#DejaVuSans-69\"/>\n      <use x=\"505.175781\" xlink:href=\"#DejaVuSans-63\"/>\n      <use x=\"560.15625\" xlink:href=\"#DejaVuSans-61\"/>\n      <use x=\"621.435547\" xlink:href=\"#DejaVuSans-74\"/>\n      <use x=\"660.644531\" xlink:href=\"#DejaVuSans-69\"/>\n      <use x=\"688.427734\" xlink:href=\"#DejaVuSans-6f\"/>\n      <use x=\"749.609375\" xlink:href=\"#DejaVuSans-6e\"/>\n      <use x=\"812.988281\" xlink:href=\"#DejaVuSans-20\"/>\n      <use x=\"844.775391\" xlink:href=\"#DejaVuSans-45\"/>\n      <use x=\"907.958984\" xlink:href=\"#DejaVuSans-72\"/>\n      <use x=\"947.322266\" xlink:href=\"#DejaVuSans-72\"/>\n      <use x=\"986.185547\" xlink:href=\"#DejaVuSans-6f\"/>\n      <use x=\"1047.367188\" xlink:href=\"#DejaVuSans-72\"/>\n     </g>\n    </g>\n   </g>\n   <g id=\"line2d_15\">\n    <path clip-path=\"url(#pdb3130349e)\" d=\"M 65.361932 17.083636 \nL 71.702841 139.308758 \nL 78.04375 146.853518 \nL 84.384659 187.595226 \nL 90.725568 190.61313 \nL 97.066477 195.139986 \nL 103.407386 211.738459 \nL 109.748295 210.229507 \nL 116.089205 213.247412 \nL 122.430114 214.756364 \nL 128.771023 198.15789 \nL 135.111932 192.122082 \nL 141.452841 213.247412 \nL 147.79375 193.631034 \nL 154.134659 208.720555 \nL 160.475568 201.175795 \nL 166.816477 204.193699 \nL 173.157386 202.684747 \nL 179.498295 193.631034 \nL 185.839205 193.631034 \nL 192.180114 183.068369 \nL 198.521023 174.014656 \nL 204.861932 177.032561 \nL 211.202841 177.032561 \nL 217.54375 198.15789 \nL 223.884659 178.541513 \nL 230.225568 169.4878 \nL 236.566477 163.451992 \nL 242.907386 158.925135 \nL 249.248295 160.434087 \nL 255.589205 163.451992 \nL 261.930114 160.434087 \nL 268.271023 154.398279 \nL 274.611932 161.94304 \nL 280.952841 161.94304 \nL 287.29375 164.960944 \nL 293.634659 163.451992 \nL 299.975568 163.451992 \nL 306.316477 167.978848 \nL 312.657386 155.907231 \nL 318.998295 175.523609 \nL 325.339205 158.925135 \nL 331.680114 170.996752 \nL 338.021023 152.889327 \nL 344.361932 163.451992 \nL 350.702841 160.434087 \nL 357.04375 160.434087 \nL 363.384659 155.907231 \nL 369.725568 163.451992 \n\" style=\"fill:none;stroke:#1f77b4;stroke-linecap:square;stroke-width:1.5;\"/>\n   </g>\n   <g id=\"patch_3\">\n    <path d=\"M 50.14375 224.64 \nL 50.14375 7.2 \n\" style=\"fill:none;stroke:#000000;stroke-linecap:square;stroke-linejoin:miter;stroke-width:0.8;\"/>\n   </g>\n   <g id=\"patch_4\">\n    <path d=\"M 384.94375 224.64 \nL 384.94375 7.2 \n\" style=\"fill:none;stroke:#000000;stroke-linecap:square;stroke-linejoin:miter;stroke-width:0.8;\"/>\n   </g>\n   <g id=\"patch_5\">\n    <path d=\"M 50.14375 224.64 \nL 384.94375 224.64 \n\" style=\"fill:none;stroke:#000000;stroke-linecap:square;stroke-linejoin:miter;stroke-width:0.8;\"/>\n   </g>\n   <g id=\"patch_6\">\n    <path d=\"M 50.14375 7.2 \nL 384.94375 7.2 \n\" style=\"fill:none;stroke:#000000;stroke-linecap:square;stroke-linejoin:miter;stroke-width:0.8;\"/>\n   </g>\n  </g>\n </g>\n <defs>\n  <clipPath id=\"pdb3130349e\">\n   <rect height=\"217.44\" width=\"334.8\" x=\"50.14375\" y=\"7.2\"/>\n  </clipPath>\n </defs>\n</svg>\n",
      "image/png": "[encoded data removed]"
     },
     "metadata": {
      "needs_background": "light"
     }
    },
    {
     "output_type": "stream",
     "name": "stdout",
     "text": [
      "The optimal number of neighbors is 11 with score 74%\n"
     ]
    }
   ],
   "source": [
    "#Select audio features to use for the model\n",
    "feature_cols = ['danceability', 'energy',\\\n",
    "       'loudness', 'speechiness', 'acousticness', 'instrumentalness',\\\n",
    "       'liveness', 'valence', 'tempo']\n",
    "\n",
    "results_optimal_k = []  ## Q3\n",
    "\n",
    "kfolds= [4,5,8,10]\n",
    "\n",
    "for d in kfolds:\n",
    "    print('\\nTuning kNN classification model with K-Fold=%d...' % d)\n",
    "    # create feature matrix (X)\n",
    "    X = tracks_df[feature_cols]\n",
    "    y = tracks_df['genre_id']\n",
    "\n",
    "    # creating training set, test set and checking shapes \n",
    "    X_train,X_test,Y_train,Y_test = train_test_split(X,y, test_size=0.2)\n",
    "    print(\"Shape of X_Train:\"+str(X_train.shape))\n",
    "    print(\"Shape of y_Train:\"+str(Y_train.shape))\n",
    "    print(\"Shape of X_Test:\"+str(X_test.shape))\n",
    "    print(\"Shape of y_Test:\"+str(Y_test.shape))\n",
    "    \n",
    "    #train model\n",
    "    cv_scores = []\n",
    "    neighbors=np.arange(2,51)\n",
    "    print('Finding best k...')\n",
    "    \n",
    "    #Perform KNN using K= [1..50] and validate using k-fold k = 5\n",
    "    for k in neighbors:\n",
    "        #print('Fitting for k=%d' % k)\n",
    "        knn = KNeighborsClassifier(n_neighbors=k)\n",
    "        scores = cross_val_score(knn, X_train, Y_train, cv=5, scoring='accuracy')\n",
    "        cv_scores.append(scores.mean())\n",
    "        \n",
    "    # changeto misclassification error\n",
    "    mse = [1 - x for x in cv_scores]\n",
    "\n",
    "    # determining best k\n",
    "    optimal_k = neighbors[mse.index(min(mse))]\n",
    "    results_optimal_k.append(optimal_k)   ## Q3\n",
    "    \n",
    "    knn_optimal = KNeighborsClassifier(n_neighbors=k)\n",
    "    knn_optimal.fit(X, y)\n",
    "    # plot misclassification error vs k\n",
    "    plt.plot(neighbors, mse)\n",
    "    plt.xlabel(\"Number of Neighbors K\")\n",
    "    plt.ylabel(\"Misclassification Error\")\n",
    "    plt.show()\n",
    "    \n",
    "    print(\"The optimal number of neighbors is %d with score %d%%\" % (optimal_k, 100*(1-min(mse))))\n"
   ]
  },
  {
   "cell_type": "code",
   "execution_count": 24,
   "metadata": {
    "ExecuteTime": {
     "end_time": "2021-01-21T15:13:40.284369Z",
     "start_time": "2021-01-21T15:13:40.278341Z"
    }
   },
   "outputs": [
    {
     "output_type": "execute_result",
     "data": {
      "text/plain": [
       "[18, 21, 26, 11]"
      ]
     },
     "metadata": {},
     "execution_count": 24
    }
   ],
   "source": [
    "results_optimal_k"
   ]
  },
  {
   "cell_type": "markdown",
   "metadata": {},
   "source": [
    "### 5. Model Prediction"
   ]
  },
  {
   "cell_type": "code",
   "execution_count": 25,
   "metadata": {
    "ExecuteTime": {
     "end_time": "2021-01-21T15:13:40.347640Z",
     "start_time": "2021-01-21T15:13:40.287636Z"
    },
    "scrolled": true
   },
   "outputs": [
    {
     "output_type": "execute_result",
     "data": {
      "text/plain": [
       "                 track_id            track_name               artist_id  \\\n",
       "0  0kN8xEmgMW9mh7UmDYHlJP  Versace on the Floor  0du5cEVh5yTK9QJze8zA0C   \n",
       "1  5uCax9HTNlzGybIStD3vDh  Say You Won't Let Go  4IWBUUAFIplrNtaOHcJPRM   \n",
       "2  7BKLCZ1jbUBVqRi2FVlTVw                Closer  69GGBxA162lTqCwzJG5jLp   \n",
       "3  2rizacJSyD9S1IQUxUxnsK           All We Know  69GGBxA162lTqCwzJG5jLp   \n",
       "4  5MFzQMkrl1FOOng9tq6R9r      Don't Wanna Know  04gDigrS5kc9YWfZHwBETP   \n",
       "\n",
       "        artist_name                album_id  duration release_date  \\\n",
       "0        Bruno Mars  4PgleR09JVnm3zY1fW3XBA    261240   2016-11-17   \n",
       "1      James Arthur  7oiJYvEJHsmYtrgviAVIBD    211466   2016-10-28   \n",
       "2  The Chainsmokers  0rSLgV8p5FzfnqlEk4GzxE    244960   2016-07-29   \n",
       "3  The Chainsmokers  0xmaV6EtJ4M3ebZUPRnhyb    194080   2016-09-29   \n",
       "4          Maroon 5  0fvTn3WXF39kQs9i3bnNpP    214480   2016-10-11   \n",
       "\n",
       "   popularity  danceability  energy   key  loudness  mode  speechiness  \\\n",
       "0          76         0.578   0.574   2.0    -6.209   1.0       0.0454   \n",
       "1          85         0.358   0.557  10.0    -7.398   1.0       0.0590   \n",
       "2          85         0.748   0.524   8.0    -5.599   1.0       0.0338   \n",
       "3          69         0.662   0.586   0.0    -8.821   1.0       0.0307   \n",
       "4           0         0.783   0.623   7.0    -6.126   1.0       0.0800   \n",
       "\n",
       "   acousticness  instrumentalness  liveness  valence    tempo  \n",
       "0         0.196           0.00000    0.0830    0.301  174.152  \n",
       "1         0.695           0.00000    0.0902    0.494   85.043  \n",
       "2         0.414           0.00000    0.1110    0.661   95.010  \n",
       "3         0.097           0.00272    0.1150    0.296   90.000  \n",
       "4         0.338           0.00000    0.0975    0.447  100.048  "
      ],
      "text/html": "<div>\n<style scoped>\n    .dataframe tbody tr th:only-of-type {\n        vertical-align: middle;\n    }\n\n    .dataframe tbody tr th {\n        vertical-align: top;\n    }\n\n    .dataframe thead th {\n        text-align: right;\n    }\n</style>\n<table border=\"1\" class=\"dataframe\">\n  <thead>\n    <tr style=\"text-align: right;\">\n      <th></th>\n      <th>track_id</th>\n      <th>track_name</th>\n      <th>artist_id</th>\n      <th>artist_name</th>\n      <th>album_id</th>\n      <th>duration</th>\n      <th>release_date</th>\n      <th>popularity</th>\n      <th>danceability</th>\n      <th>energy</th>\n      <th>key</th>\n      <th>loudness</th>\n      <th>mode</th>\n      <th>speechiness</th>\n      <th>acousticness</th>\n      <th>instrumentalness</th>\n      <th>liveness</th>\n      <th>valence</th>\n      <th>tempo</th>\n    </tr>\n  </thead>\n  <tbody>\n    <tr>\n      <th>0</th>\n      <td>0kN8xEmgMW9mh7UmDYHlJP</td>\n      <td>Versace on the Floor</td>\n      <td>0du5cEVh5yTK9QJze8zA0C</td>\n      <td>Bruno Mars</td>\n      <td>4PgleR09JVnm3zY1fW3XBA</td>\n      <td>261240</td>\n      <td>2016-11-17</td>\n      <td>76</td>\n      <td>0.578</td>\n      <td>0.574</td>\n      <td>2.0</td>\n      <td>-6.209</td>\n      <td>1.0</td>\n      <td>0.0454</td>\n      <td>0.196</td>\n      <td>0.00000</td>\n      <td>0.0830</td>\n      <td>0.301</td>\n      <td>174.152</td>\n    </tr>\n    <tr>\n      <th>1</th>\n      <td>5uCax9HTNlzGybIStD3vDh</td>\n      <td>Say You Won't Let Go</td>\n      <td>4IWBUUAFIplrNtaOHcJPRM</td>\n      <td>James Arthur</td>\n      <td>7oiJYvEJHsmYtrgviAVIBD</td>\n      <td>211466</td>\n      <td>2016-10-28</td>\n      <td>85</td>\n      <td>0.358</td>\n      <td>0.557</td>\n      <td>10.0</td>\n      <td>-7.398</td>\n      <td>1.0</td>\n      <td>0.0590</td>\n      <td>0.695</td>\n      <td>0.00000</td>\n      <td>0.0902</td>\n      <td>0.494</td>\n      <td>85.043</td>\n    </tr>\n    <tr>\n      <th>2</th>\n      <td>7BKLCZ1jbUBVqRi2FVlTVw</td>\n      <td>Closer</td>\n      <td>69GGBxA162lTqCwzJG5jLp</td>\n      <td>The Chainsmokers</td>\n      <td>0rSLgV8p5FzfnqlEk4GzxE</td>\n      <td>244960</td>\n      <td>2016-07-29</td>\n      <td>85</td>\n      <td>0.748</td>\n      <td>0.524</td>\n      <td>8.0</td>\n      <td>-5.599</td>\n      <td>1.0</td>\n      <td>0.0338</td>\n      <td>0.414</td>\n      <td>0.00000</td>\n      <td>0.1110</td>\n      <td>0.661</td>\n      <td>95.010</td>\n    </tr>\n    <tr>\n      <th>3</th>\n      <td>2rizacJSyD9S1IQUxUxnsK</td>\n      <td>All We Know</td>\n      <td>69GGBxA162lTqCwzJG5jLp</td>\n      <td>The Chainsmokers</td>\n      <td>0xmaV6EtJ4M3ebZUPRnhyb</td>\n      <td>194080</td>\n      <td>2016-09-29</td>\n      <td>69</td>\n      <td>0.662</td>\n      <td>0.586</td>\n      <td>0.0</td>\n      <td>-8.821</td>\n      <td>1.0</td>\n      <td>0.0307</td>\n      <td>0.097</td>\n      <td>0.00272</td>\n      <td>0.1150</td>\n      <td>0.296</td>\n      <td>90.000</td>\n    </tr>\n    <tr>\n      <th>4</th>\n      <td>5MFzQMkrl1FOOng9tq6R9r</td>\n      <td>Don't Wanna Know</td>\n      <td>04gDigrS5kc9YWfZHwBETP</td>\n      <td>Maroon 5</td>\n      <td>0fvTn3WXF39kQs9i3bnNpP</td>\n      <td>214480</td>\n      <td>2016-10-11</td>\n      <td>0</td>\n      <td>0.783</td>\n      <td>0.623</td>\n      <td>7.0</td>\n      <td>-6.126</td>\n      <td>1.0</td>\n      <td>0.0800</td>\n      <td>0.338</td>\n      <td>0.00000</td>\n      <td>0.0975</td>\n      <td>0.447</td>\n      <td>100.048</td>\n    </tr>\n  </tbody>\n</table>\n</div>"
     },
     "metadata": {},
     "execution_count": 25
    }
   ],
   "source": [
    "#Predict genres of the charting tracks\n",
    "chart_tracks_df = pd.read_csv(\"data/spotify_daily_charts_tracks.csv\")\n",
    "chart_tracks_df.head()"
   ]
  },
  {
   "cell_type": "code",
   "execution_count": 26,
   "metadata": {
    "ExecuteTime": {
     "end_time": "2021-01-21T15:13:40.365275Z",
     "start_time": "2021-01-21T15:13:40.350457Z"
    }
   },
   "outputs": [],
   "source": [
    "#normalize loudness and tempo\n",
    "chart_tracks_df['loudness'] = scaler.fit_transform(chart_tracks_df[['loudness']])\n",
    "chart_tracks_df['tempo'] =  scaler.fit_transform(chart_tracks_df[['tempo']])"
   ]
  },
  {
   "cell_type": "markdown",
   "metadata": {},
   "source": [
    "Test the model with external data by predicting the genres of the spotify charting tracks!"
   ]
  },
  {
   "cell_type": "code",
   "execution_count": 27,
   "metadata": {
    "ExecuteTime": {
     "end_time": "2021-01-21T15:13:49.302804Z",
     "start_time": "2021-01-21T15:13:40.369326Z"
    },
    "scrolled": true
   },
   "outputs": [
    {
     "output_type": "stream",
     "name": "stdout",
     "text": [
      "Predicting with optimal k: 11\n"
     ]
    }
   ],
   "source": [
    "chart_tracks_df = chart_tracks_df.dropna()\n",
    "#Predict genres of the spotify charts\n",
    "feature_cols = ['danceability', 'energy', 'loudness', 'speechiness', 'acousticness', 'instrumentalness',\\\n",
    "                'liveness', 'valence', 'tempo']\n",
    "genres = [genre_lookup[i] for i in np.arange(len(genre_names))]\n",
    "\n",
    "n=3 #pick kfold=10\n",
    "print(\"Predicting with optimal k: %d\" %(results_optimal_k[n]))\n",
    "\n",
    "knn_optimal = KNeighborsClassifier(n_neighbors=results_optimal_k[n])\n",
    "X = tracks_df[feature_cols]\n",
    "y = tracks_df['genre_id']\n",
    "knn_optimal.fit(X, y)\n",
    "\n",
    "chart_tracks_df['predicted_genre_id'] = chart_tracks_df.apply(lambda x:  knn_optimal.predict(x[feature_cols].values.reshape(1,-1))[0]\\\n",
    "                                               , axis=1)\n",
    "chart_tracks_df['predicted_genre'] = chart_tracks_df['predicted_genre_id'].apply(lambda x: genre_lookup[x])\n",
    "chart_tracks_df['predicted_genre_prob'] = chart_tracks_df.apply(lambda x:  np.max(knn_optimal.predict_proba(x[feature_cols].values.reshape(1,-1)))\\\n",
    "                                                    , axis=1)\n",
    "chart_tracks_df['all_genre_prob'] = chart_tracks_df.apply(lambda x:  knn_optimal.predict_proba(x[feature_cols].values.reshape(1,-1))[0]\\\n",
    "                                                    , axis=1)\n"
   ]
  },
  {
   "cell_type": "code",
   "execution_count": 28,
   "metadata": {
    "ExecuteTime": {
     "end_time": "2021-01-21T15:13:49.362188Z",
     "start_time": "2021-01-21T15:13:49.304806Z"
    },
    "scrolled": true
   },
   "outputs": [
    {
     "output_type": "execute_result",
     "data": {
      "text/plain": [
       "                    track_id                      track_name  \\\n",
       "2415  2mlGPkAx4kwF8Df0GlScsC                       Buttercup   \n",
       "1266  5B03nSG8pLE48jh7kmasuL             Levels - Radio Edit   \n",
       "547   0lMbuWUpfTWhEmOKxppEau  Rollin (feat. Future & Khalid)   \n",
       "1097  6wdCelHrPh7UfliNjwRTUv                          Leaves   \n",
       "122   6mICuAdrwEjh6Y6lroV2Kg         Chantaje (feat. Maluma)   \n",
       "\n",
       "                   artist_id    artist_name                album_id  duration  \\\n",
       "2415  1vVHevk2PD45epYnDi9CCc   Jack Stauber  1RHa1VdX6lsLbeedgsV1cb    208026   \n",
       "1266  1vCWHaC5f2uS3yhpwWbIA6         Avicii  16WbLPydnmtI3gQJ4MHZ9J    201920   \n",
       "547   7CajNmpbOovFoOoasH2HaY  Calvin Harris  2HaqChIDc5go3qxVunBDK0    272653   \n",
       "1097  4DAcJXcjX0zlQAZAPAx4Zb        Ben&Ben  5Yl1Bi501CuE72jaVK4e3y    310708   \n",
       "122   0EmeFodog0BfCgMzAIvKQp        Shakira  6bUxh58rYTL67FS8dyTKMN    195840   \n",
       "\n",
       "     release_date  popularity  danceability  energy  ...  valence     tempo  \\\n",
       "2415   2017-03-25          76         0.705   0.373  ...    0.551  0.415179   \n",
       "1266   2013-01-01          42         0.579   0.887  ...    0.472  0.452067   \n",
       "547    2017-06-30          64         0.753   0.760  ...    0.657  0.242318   \n",
       "1097   2017-03-31          69         0.447   0.160  ...    0.205  0.404515   \n",
       "122    2017-05-26          75         0.852   0.773  ...    0.907  0.304348   \n",
       "\n",
       "      predicted_genre_id  predicted_genre  predicted_genre_prob  \\\n",
       "2415                   2             jazz                   1.0   \n",
       "1266                   2             jazz                   1.0   \n",
       "547                    4           reggae                   1.0   \n",
       "1097                   2             jazz                   1.0   \n",
       "122                    4           reggae                   1.0   \n",
       "\n",
       "      predicted_classical_prob  predicted_country_prob  predicted_jazz_prob  \\\n",
       "2415                       0.0                0.181818             0.000000   \n",
       "1266                       0.0                0.363636             0.090909   \n",
       "547                        0.0                0.000000             0.000000   \n",
       "1097                       0.0                0.090909             0.090909   \n",
       "122                        0.0                0.000000             0.000000   \n",
       "\n",
       "      predicted_pop_prob  predicted_reggae_prob  \n",
       "2415            0.272727               0.545455  \n",
       "1266            0.454545               0.090909  \n",
       "547             0.000000               1.000000  \n",
       "1097            0.545455               0.272727  \n",
       "122             0.000000               1.000000  \n",
       "\n",
       "[5 rows x 27 columns]"
      ],
      "text/html": "<div>\n<style scoped>\n    .dataframe tbody tr th:only-of-type {\n        vertical-align: middle;\n    }\n\n    .dataframe tbody tr th {\n        vertical-align: top;\n    }\n\n    .dataframe thead th {\n        text-align: right;\n    }\n</style>\n<table border=\"1\" class=\"dataframe\">\n  <thead>\n    <tr style=\"text-align: right;\">\n      <th></th>\n      <th>track_id</th>\n      <th>track_name</th>\n      <th>artist_id</th>\n      <th>artist_name</th>\n      <th>album_id</th>\n      <th>duration</th>\n      <th>release_date</th>\n      <th>popularity</th>\n      <th>danceability</th>\n      <th>energy</th>\n      <th>...</th>\n      <th>valence</th>\n      <th>tempo</th>\n      <th>predicted_genre_id</th>\n      <th>predicted_genre</th>\n      <th>predicted_genre_prob</th>\n      <th>predicted_classical_prob</th>\n      <th>predicted_country_prob</th>\n      <th>predicted_jazz_prob</th>\n      <th>predicted_pop_prob</th>\n      <th>predicted_reggae_prob</th>\n    </tr>\n  </thead>\n  <tbody>\n    <tr>\n      <th>2415</th>\n      <td>2mlGPkAx4kwF8Df0GlScsC</td>\n      <td>Buttercup</td>\n      <td>1vVHevk2PD45epYnDi9CCc</td>\n      <td>Jack Stauber</td>\n      <td>1RHa1VdX6lsLbeedgsV1cb</td>\n      <td>208026</td>\n      <td>2017-03-25</td>\n      <td>76</td>\n      <td>0.705</td>\n      <td>0.373</td>\n      <td>...</td>\n      <td>0.551</td>\n      <td>0.415179</td>\n      <td>2</td>\n      <td>jazz</td>\n      <td>1.0</td>\n      <td>0.0</td>\n      <td>0.181818</td>\n      <td>0.000000</td>\n      <td>0.272727</td>\n      <td>0.545455</td>\n    </tr>\n    <tr>\n      <th>1266</th>\n      <td>5B03nSG8pLE48jh7kmasuL</td>\n      <td>Levels - Radio Edit</td>\n      <td>1vCWHaC5f2uS3yhpwWbIA6</td>\n      <td>Avicii</td>\n      <td>16WbLPydnmtI3gQJ4MHZ9J</td>\n      <td>201920</td>\n      <td>2013-01-01</td>\n      <td>42</td>\n      <td>0.579</td>\n      <td>0.887</td>\n      <td>...</td>\n      <td>0.472</td>\n      <td>0.452067</td>\n      <td>2</td>\n      <td>jazz</td>\n      <td>1.0</td>\n      <td>0.0</td>\n      <td>0.363636</td>\n      <td>0.090909</td>\n      <td>0.454545</td>\n      <td>0.090909</td>\n    </tr>\n    <tr>\n      <th>547</th>\n      <td>0lMbuWUpfTWhEmOKxppEau</td>\n      <td>Rollin (feat. Future &amp; Khalid)</td>\n      <td>7CajNmpbOovFoOoasH2HaY</td>\n      <td>Calvin Harris</td>\n      <td>2HaqChIDc5go3qxVunBDK0</td>\n      <td>272653</td>\n      <td>2017-06-30</td>\n      <td>64</td>\n      <td>0.753</td>\n      <td>0.760</td>\n      <td>...</td>\n      <td>0.657</td>\n      <td>0.242318</td>\n      <td>4</td>\n      <td>reggae</td>\n      <td>1.0</td>\n      <td>0.0</td>\n      <td>0.000000</td>\n      <td>0.000000</td>\n      <td>0.000000</td>\n      <td>1.000000</td>\n    </tr>\n    <tr>\n      <th>1097</th>\n      <td>6wdCelHrPh7UfliNjwRTUv</td>\n      <td>Leaves</td>\n      <td>4DAcJXcjX0zlQAZAPAx4Zb</td>\n      <td>Ben&amp;Ben</td>\n      <td>5Yl1Bi501CuE72jaVK4e3y</td>\n      <td>310708</td>\n      <td>2017-03-31</td>\n      <td>69</td>\n      <td>0.447</td>\n      <td>0.160</td>\n      <td>...</td>\n      <td>0.205</td>\n      <td>0.404515</td>\n      <td>2</td>\n      <td>jazz</td>\n      <td>1.0</td>\n      <td>0.0</td>\n      <td>0.090909</td>\n      <td>0.090909</td>\n      <td>0.545455</td>\n      <td>0.272727</td>\n    </tr>\n    <tr>\n      <th>122</th>\n      <td>6mICuAdrwEjh6Y6lroV2Kg</td>\n      <td>Chantaje (feat. Maluma)</td>\n      <td>0EmeFodog0BfCgMzAIvKQp</td>\n      <td>Shakira</td>\n      <td>6bUxh58rYTL67FS8dyTKMN</td>\n      <td>195840</td>\n      <td>2017-05-26</td>\n      <td>75</td>\n      <td>0.852</td>\n      <td>0.773</td>\n      <td>...</td>\n      <td>0.907</td>\n      <td>0.304348</td>\n      <td>4</td>\n      <td>reggae</td>\n      <td>1.0</td>\n      <td>0.0</td>\n      <td>0.000000</td>\n      <td>0.000000</td>\n      <td>0.000000</td>\n      <td>1.000000</td>\n    </tr>\n  </tbody>\n</table>\n<p>5 rows × 27 columns</p>\n</div>"
     },
     "metadata": {},
     "execution_count": 28
    }
   ],
   "source": [
    "#explode genre probabilities into separate columns\n",
    "charts_predicted_genre_prob = pd.DataFrame(chart_tracks_df[\"all_genre_prob\"].to_list(),\n",
    "                                           columns=['predicted_'+g+'_prob' for g in genres])\n",
    "charts_predicted_genre_prob['track_id'] = chart_tracks_df['track_id']\n",
    "chart_tracks_df = pd.merge(chart_tracks_df,charts_predicted_genre_prob, how='left', on='track_id')\n",
    "chart_tracks_df = chart_tracks_df.drop(columns='all_genre_prob')\n",
    "chart_tracks_df = chart_tracks_df.sort_values('predicted_genre_prob', ascending=False)\n",
    "chart_tracks_df.head()"
   ]
  },
  {
   "cell_type": "markdown",
   "metadata": {},
   "source": [
    "Check out tracks with highest assigned probability"
   ]
  },
  {
   "cell_type": "code",
   "execution_count": 29,
   "metadata": {
    "ExecuteTime": {
     "end_time": "2021-01-21T15:13:49.401423Z",
     "start_time": "2021-01-21T15:13:49.365144Z"
    }
   },
   "outputs": [
    {
     "output_type": "execute_result",
     "data": {
      "text/plain": [
       "          artist_name                  track_name  predicted_genre_id  \\\n",
       "2834            HONNE                      dear P                   0   \n",
       "2770        Lady Gaga               Chromatica II                   0   \n",
       "1000  Gary Valenciano           Pasko Na Sinta Ko                   0   \n",
       "1115   Austyn Johnson  A Million Dreams (Reprise)                   0   \n",
       "1116     Loren Allred      Never Enough (Reprise)                   0   \n",
       "...               ...                         ...                 ...   \n",
       "3064           Clairo                       Sofia                   4   \n",
       "1111     Hugh Jackman                  Come Alive                   4   \n",
       "3049             LANY                cowboy in LA                   4   \n",
       "2232             Lauv            fuck, i'm lonely                   4   \n",
       "2239      Tones And I                Dance Monkey                   4   \n",
       "\n",
       "     predicted_genre  predicted_genre_prob  \n",
       "2834       classical              1.000000  \n",
       "2770       classical              0.909091  \n",
       "1000       classical              0.909091  \n",
       "1115       classical              0.818182  \n",
       "1116       classical              0.727273  \n",
       "...              ...                   ...  \n",
       "3064          reggae              0.363636  \n",
       "1111          reggae              0.363636  \n",
       "3049          reggae              0.363636  \n",
       "2232          reggae              0.363636  \n",
       "2239          reggae              0.363636  \n",
       "\n",
       "[3489 rows x 5 columns]"
      ],
      "text/html": "<div>\n<style scoped>\n    .dataframe tbody tr th:only-of-type {\n        vertical-align: middle;\n    }\n\n    .dataframe tbody tr th {\n        vertical-align: top;\n    }\n\n    .dataframe thead th {\n        text-align: right;\n    }\n</style>\n<table border=\"1\" class=\"dataframe\">\n  <thead>\n    <tr style=\"text-align: right;\">\n      <th></th>\n      <th>artist_name</th>\n      <th>track_name</th>\n      <th>predicted_genre_id</th>\n      <th>predicted_genre</th>\n      <th>predicted_genre_prob</th>\n    </tr>\n  </thead>\n  <tbody>\n    <tr>\n      <th>2834</th>\n      <td>HONNE</td>\n      <td>dear P</td>\n      <td>0</td>\n      <td>classical</td>\n      <td>1.000000</td>\n    </tr>\n    <tr>\n      <th>2770</th>\n      <td>Lady Gaga</td>\n      <td>Chromatica II</td>\n      <td>0</td>\n      <td>classical</td>\n      <td>0.909091</td>\n    </tr>\n    <tr>\n      <th>1000</th>\n      <td>Gary Valenciano</td>\n      <td>Pasko Na Sinta Ko</td>\n      <td>0</td>\n      <td>classical</td>\n      <td>0.909091</td>\n    </tr>\n    <tr>\n      <th>1115</th>\n      <td>Austyn Johnson</td>\n      <td>A Million Dreams (Reprise)</td>\n      <td>0</td>\n      <td>classical</td>\n      <td>0.818182</td>\n    </tr>\n    <tr>\n      <th>1116</th>\n      <td>Loren Allred</td>\n      <td>Never Enough (Reprise)</td>\n      <td>0</td>\n      <td>classical</td>\n      <td>0.727273</td>\n    </tr>\n    <tr>\n      <th>...</th>\n      <td>...</td>\n      <td>...</td>\n      <td>...</td>\n      <td>...</td>\n      <td>...</td>\n    </tr>\n    <tr>\n      <th>3064</th>\n      <td>Clairo</td>\n      <td>Sofia</td>\n      <td>4</td>\n      <td>reggae</td>\n      <td>0.363636</td>\n    </tr>\n    <tr>\n      <th>1111</th>\n      <td>Hugh Jackman</td>\n      <td>Come Alive</td>\n      <td>4</td>\n      <td>reggae</td>\n      <td>0.363636</td>\n    </tr>\n    <tr>\n      <th>3049</th>\n      <td>LANY</td>\n      <td>cowboy in LA</td>\n      <td>4</td>\n      <td>reggae</td>\n      <td>0.363636</td>\n    </tr>\n    <tr>\n      <th>2232</th>\n      <td>Lauv</td>\n      <td>fuck, i'm lonely</td>\n      <td>4</td>\n      <td>reggae</td>\n      <td>0.363636</td>\n    </tr>\n    <tr>\n      <th>2239</th>\n      <td>Tones And I</td>\n      <td>Dance Monkey</td>\n      <td>4</td>\n      <td>reggae</td>\n      <td>0.363636</td>\n    </tr>\n  </tbody>\n</table>\n<p>3489 rows × 5 columns</p>\n</div>"
     },
     "metadata": {},
     "execution_count": 29
    }
   ],
   "source": [
    "chart_tracks_df.groupby('predicted_genre_id').head()[['artist_name','track_name','predicted_genre_id', 'predicted_genre','predicted_genre_prob']]  ## QUESTION 2\n",
    "\n",
    "chart_tracks_df[['artist_name','track_name','predicted_genre_id', 'predicted_genre','predicted_genre_prob']].sort_values(['predicted_genre_id', 'predicted_genre_prob'], ascending=[True, False])"
   ]
  },
  {
   "cell_type": "markdown",
   "metadata": {},
   "source": [
    "View histogram of predicted genre probabilities"
   ]
  },
  {
   "cell_type": "code",
   "execution_count": 30,
   "metadata": {
    "ExecuteTime": {
     "end_time": "2021-01-21T15:13:49.620237Z",
     "start_time": "2021-01-21T15:13:49.404373Z"
    }
   },
   "outputs": [
    {
     "output_type": "execute_result",
     "data": {
      "text/plain": [
       "<AxesSubplot:>"
      ]
     },
     "metadata": {},
     "execution_count": 30
    },
    {
     "output_type": "display_data",
     "data": {
      "text/plain": "<Figure size 432x288 with 1 Axes>",
      "image/svg+xml": "<?xml version=\"1.0\" encoding=\"utf-8\" standalone=\"no\"?>\n<!DOCTYPE svg PUBLIC \"-//W3C//DTD SVG 1.1//EN\"\n  \"http://www.w3.org/Graphics/SVG/1.1/DTD/svg11.dtd\">\n<svg height=\"248.518125pt\" version=\"1.1\" viewBox=\"0 0 375.2875 248.518125\" width=\"375.2875pt\" xmlns=\"http://www.w3.org/2000/svg\" xmlns:xlink=\"http://www.w3.org/1999/xlink\">\n <metadata>\n  <rdf:RDF xmlns:cc=\"http://creativecommons.org/ns#\" xmlns:dc=\"http://purl.org/dc/elements/1.1/\" xmlns:rdf=\"http://www.w3.org/1999/02/22-rdf-syntax-ns#\">\n   <cc:Work>\n    <dc:type rdf:resource=\"http://purl.org/dc/dcmitype/StillImage\"/>\n    <dc:date>2021-06-04T06:09:44.558892</dc:date>\n    <dc:format>image/svg+xml</dc:format>\n    <dc:creator>\n     <cc:Agent>\n      <dc:title>Matplotlib v3.4.2, https://matplotlib.org/</dc:title>\n     </cc:Agent>\n    </dc:creator>\n   </cc:Work>\n  </rdf:RDF>\n </metadata>\n <defs>\n  <style type=\"text/css\">*{stroke-linecap:butt;stroke-linejoin:round;}</style>\n </defs>\n <g id=\"figure_1\">\n  <g id=\"patch_1\">\n   <path d=\"M 0 248.518125 \nL 375.2875 248.518125 \nL 375.2875 0 \nL 0 0 \nz\n\" style=\"fill:none;\"/>\n  </g>\n  <g id=\"axes_1\">\n   <g id=\"patch_2\">\n    <path d=\"M 33.2875 224.64 \nL 368.0875 224.64 \nL 368.0875 7.2 \nL 33.2875 7.2 \nz\n\" style=\"fill:#ffffff;\"/>\n   </g>\n   <g id=\"patch_3\">\n    <path clip-path=\"url(#pb9f5d326af)\" d=\"M 48.505682 224.64 \nL 78.942045 224.64 \nL 78.942045 220.559493 \nL 48.505682 220.559493 \nz\n\" style=\"fill:#1f77b4;\"/>\n   </g>\n   <g id=\"patch_4\">\n    <path clip-path=\"url(#pb9f5d326af)\" d=\"M 78.942045 224.64 \nL 109.378409 224.64 \nL 109.378409 147.875468 \nL 78.942045 147.875468 \nz\n\" style=\"fill:#1f77b4;\"/>\n   </g>\n   <g id=\"patch_5\">\n    <path clip-path=\"url(#pb9f5d326af)\" d=\"M 109.378409 224.64 \nL 139.814773 224.64 \nL 139.814773 59.379479 \nL 109.378409 59.379479 \nz\n\" style=\"fill:#1f77b4;\"/>\n   </g>\n   <g id=\"patch_6\">\n    <path clip-path=\"url(#pb9f5d326af)\" d=\"M 139.814773 224.64 \nL 170.251136 224.64 \nL 170.251136 17.554286 \nL 139.814773 17.554286 \nz\n\" style=\"fill:#1f77b4;\"/>\n   </g>\n   <g id=\"patch_7\">\n    <path clip-path=\"url(#pb9f5d326af)\" d=\"M 170.251136 224.64 \nL 200.6875 224.64 \nL 200.6875 224.64 \nL 170.251136 224.64 \nz\n\" style=\"fill:#1f77b4;\"/>\n   </g>\n   <g id=\"patch_8\">\n    <path clip-path=\"url(#pb9f5d326af)\" d=\"M 200.6875 224.64 \nL 231.123864 224.64 \nL 231.123864 72.131063 \nL 200.6875 72.131063 \nz\n\" style=\"fill:#1f77b4;\"/>\n   </g>\n   <g id=\"patch_9\">\n    <path clip-path=\"url(#pb9f5d326af)\" d=\"M 231.123864 224.64 \nL 261.560227 224.64 \nL 261.560227 106.305306 \nL 231.123864 106.305306 \nz\n\" style=\"fill:#1f77b4;\"/>\n   </g>\n   <g id=\"patch_10\">\n    <path clip-path=\"url(#pb9f5d326af)\" d=\"M 261.560227 224.64 \nL 291.996591 224.64 \nL 291.996591 137.674201 \nL 261.560227 137.674201 \nz\n\" style=\"fill:#1f77b4;\"/>\n   </g>\n   <g id=\"patch_11\">\n    <path clip-path=\"url(#pb9f5d326af)\" d=\"M 291.996591 224.64 \nL 322.432955 224.64 \nL 322.432955 169.55316 \nL 291.996591 169.55316 \nz\n\" style=\"fill:#1f77b4;\"/>\n   </g>\n   <g id=\"patch_12\">\n    <path clip-path=\"url(#pb9f5d326af)\" d=\"M 322.432955 224.64 \nL 352.869318 224.64 \nL 352.869318 200.922055 \nL 322.432955 200.922055 \nz\n\" style=\"fill:#1f77b4;\"/>\n   </g>\n   <g id=\"matplotlib.axis_1\">\n    <g id=\"xtick_1\">\n     <g id=\"line2d_1\">\n      <path clip-path=\"url(#pb9f5d326af)\" d=\"M 59.919318 224.64 \nL 59.919318 7.2 \n\" style=\"fill:none;stroke:#b0b0b0;stroke-linecap:square;stroke-width:0.8;\"/>\n     </g>\n     <g id=\"line2d_2\">\n      <defs>\n       <path d=\"M 0 0 \nL 0 3.5 \n\" id=\"m91a9f71496\" style=\"stroke:#000000;stroke-width:0.8;\"/>\n      </defs>\n      <g>\n       <use style=\"stroke:#000000;stroke-width:0.8;\" x=\"59.919318\" xlink:href=\"#m91a9f71496\" y=\"224.64\"/>\n      </g>\n     </g>\n     <g id=\"text_1\">\n      <!-- 0.3 -->\n      <g transform=\"translate(51.967756 239.238437)scale(0.1 -0.1)\">\n       <defs>\n        <path d=\"M 2034 4250 \nQ 1547 4250 1301 3770 \nQ 1056 3291 1056 2328 \nQ 1056 1369 1301 889 \nQ 1547 409 2034 409 \nQ 2525 409 2770 889 \nQ 3016 1369 3016 2328 \nQ 3016 3291 2770 3770 \nQ 2525 4250 2034 4250 \nz\nM 2034 4750 \nQ 2819 4750 3233 4129 \nQ 3647 3509 3647 2328 \nQ 3647 1150 3233 529 \nQ 2819 -91 2034 -91 \nQ 1250 -91 836 529 \nQ 422 1150 422 2328 \nQ 422 3509 836 4129 \nQ 1250 4750 2034 4750 \nz\n\" id=\"DejaVuSans-30\" transform=\"scale(0.015625)\"/>\n        <path d=\"M 684 794 \nL 1344 794 \nL 1344 0 \nL 684 0 \nL 684 794 \nz\n\" id=\"DejaVuSans-2e\" transform=\"scale(0.015625)\"/>\n        <path d=\"M 2597 2516 \nQ 3050 2419 3304 2112 \nQ 3559 1806 3559 1356 \nQ 3559 666 3084 287 \nQ 2609 -91 1734 -91 \nQ 1441 -91 1130 -33 \nQ 819 25 488 141 \nL 488 750 \nQ 750 597 1062 519 \nQ 1375 441 1716 441 \nQ 2309 441 2620 675 \nQ 2931 909 2931 1356 \nQ 2931 1769 2642 2001 \nQ 2353 2234 1838 2234 \nL 1294 2234 \nL 1294 2753 \nL 1863 2753 \nQ 2328 2753 2575 2939 \nQ 2822 3125 2822 3475 \nQ 2822 3834 2567 4026 \nQ 2313 4219 1838 4219 \nQ 1578 4219 1281 4162 \nQ 984 4106 628 3988 \nL 628 4550 \nQ 988 4650 1302 4700 \nQ 1616 4750 1894 4750 \nQ 2613 4750 3031 4423 \nQ 3450 4097 3450 3541 \nQ 3450 3153 3228 2886 \nQ 3006 2619 2597 2516 \nz\n\" id=\"DejaVuSans-33\" transform=\"scale(0.015625)\"/>\n       </defs>\n       <use xlink:href=\"#DejaVuSans-30\"/>\n       <use x=\"63.623047\" xlink:href=\"#DejaVuSans-2e\"/>\n       <use x=\"95.410156\" xlink:href=\"#DejaVuSans-33\"/>\n      </g>\n     </g>\n    </g>\n    <g id=\"xtick_2\">\n     <g id=\"line2d_3\">\n      <path clip-path=\"url(#pb9f5d326af)\" d=\"M 101.769318 224.64 \nL 101.769318 7.2 \n\" style=\"fill:none;stroke:#b0b0b0;stroke-linecap:square;stroke-width:0.8;\"/>\n     </g>\n     <g id=\"line2d_4\">\n      <g>\n       <use style=\"stroke:#000000;stroke-width:0.8;\" x=\"101.769318\" xlink:href=\"#m91a9f71496\" y=\"224.64\"/>\n      </g>\n     </g>\n     <g id=\"text_2\">\n      <!-- 0.4 -->\n      <g transform=\"translate(93.817756 239.238437)scale(0.1 -0.1)\">\n       <defs>\n        <path d=\"M 2419 4116 \nL 825 1625 \nL 2419 1625 \nL 2419 4116 \nz\nM 2253 4666 \nL 3047 4666 \nL 3047 1625 \nL 3713 1625 \nL 3713 1100 \nL 3047 1100 \nL 3047 0 \nL 2419 0 \nL 2419 1100 \nL 313 1100 \nL 313 1709 \nL 2253 4666 \nz\n\" id=\"DejaVuSans-34\" transform=\"scale(0.015625)\"/>\n       </defs>\n       <use xlink:href=\"#DejaVuSans-30\"/>\n       <use x=\"63.623047\" xlink:href=\"#DejaVuSans-2e\"/>\n       <use x=\"95.410156\" xlink:href=\"#DejaVuSans-34\"/>\n      </g>\n     </g>\n    </g>\n    <g id=\"xtick_3\">\n     <g id=\"line2d_5\">\n      <path clip-path=\"url(#pb9f5d326af)\" d=\"M 143.619318 224.64 \nL 143.619318 7.2 \n\" style=\"fill:none;stroke:#b0b0b0;stroke-linecap:square;stroke-width:0.8;\"/>\n     </g>\n     <g id=\"line2d_6\">\n      <g>\n       <use style=\"stroke:#000000;stroke-width:0.8;\" x=\"143.619318\" xlink:href=\"#m91a9f71496\" y=\"224.64\"/>\n      </g>\n     </g>\n     <g id=\"text_3\">\n      <!-- 0.5 -->\n      <g transform=\"translate(135.667756 239.238437)scale(0.1 -0.1)\">\n       <defs>\n        <path d=\"M 691 4666 \nL 3169 4666 \nL 3169 4134 \nL 1269 4134 \nL 1269 2991 \nQ 1406 3038 1543 3061 \nQ 1681 3084 1819 3084 \nQ 2600 3084 3056 2656 \nQ 3513 2228 3513 1497 \nQ 3513 744 3044 326 \nQ 2575 -91 1722 -91 \nQ 1428 -91 1123 -41 \nQ 819 9 494 109 \nL 494 744 \nQ 775 591 1075 516 \nQ 1375 441 1709 441 \nQ 2250 441 2565 725 \nQ 2881 1009 2881 1497 \nQ 2881 1984 2565 2268 \nQ 2250 2553 1709 2553 \nQ 1456 2553 1204 2497 \nQ 953 2441 691 2322 \nL 691 4666 \nz\n\" id=\"DejaVuSans-35\" transform=\"scale(0.015625)\"/>\n       </defs>\n       <use xlink:href=\"#DejaVuSans-30\"/>\n       <use x=\"63.623047\" xlink:href=\"#DejaVuSans-2e\"/>\n       <use x=\"95.410156\" xlink:href=\"#DejaVuSans-35\"/>\n      </g>\n     </g>\n    </g>\n    <g id=\"xtick_4\">\n     <g id=\"line2d_7\">\n      <path clip-path=\"url(#pb9f5d326af)\" d=\"M 185.469318 224.64 \nL 185.469318 7.2 \n\" style=\"fill:none;stroke:#b0b0b0;stroke-linecap:square;stroke-width:0.8;\"/>\n     </g>\n     <g id=\"line2d_8\">\n      <g>\n       <use style=\"stroke:#000000;stroke-width:0.8;\" x=\"185.469318\" xlink:href=\"#m91a9f71496\" y=\"224.64\"/>\n      </g>\n     </g>\n     <g id=\"text_4\">\n      <!-- 0.6 -->\n      <g transform=\"translate(177.517756 239.238437)scale(0.1 -0.1)\">\n       <defs>\n        <path d=\"M 2113 2584 \nQ 1688 2584 1439 2293 \nQ 1191 2003 1191 1497 \nQ 1191 994 1439 701 \nQ 1688 409 2113 409 \nQ 2538 409 2786 701 \nQ 3034 994 3034 1497 \nQ 3034 2003 2786 2293 \nQ 2538 2584 2113 2584 \nz\nM 3366 4563 \nL 3366 3988 \nQ 3128 4100 2886 4159 \nQ 2644 4219 2406 4219 \nQ 1781 4219 1451 3797 \nQ 1122 3375 1075 2522 \nQ 1259 2794 1537 2939 \nQ 1816 3084 2150 3084 \nQ 2853 3084 3261 2657 \nQ 3669 2231 3669 1497 \nQ 3669 778 3244 343 \nQ 2819 -91 2113 -91 \nQ 1303 -91 875 529 \nQ 447 1150 447 2328 \nQ 447 3434 972 4092 \nQ 1497 4750 2381 4750 \nQ 2619 4750 2861 4703 \nQ 3103 4656 3366 4563 \nz\n\" id=\"DejaVuSans-36\" transform=\"scale(0.015625)\"/>\n       </defs>\n       <use xlink:href=\"#DejaVuSans-30\"/>\n       <use x=\"63.623047\" xlink:href=\"#DejaVuSans-2e\"/>\n       <use x=\"95.410156\" xlink:href=\"#DejaVuSans-36\"/>\n      </g>\n     </g>\n    </g>\n    <g id=\"xtick_5\">\n     <g id=\"line2d_9\">\n      <path clip-path=\"url(#pb9f5d326af)\" d=\"M 227.319318 224.64 \nL 227.319318 7.2 \n\" style=\"fill:none;stroke:#b0b0b0;stroke-linecap:square;stroke-width:0.8;\"/>\n     </g>\n     <g id=\"line2d_10\">\n      <g>\n       <use style=\"stroke:#000000;stroke-width:0.8;\" x=\"227.319318\" xlink:href=\"#m91a9f71496\" y=\"224.64\"/>\n      </g>\n     </g>\n     <g id=\"text_5\">\n      <!-- 0.7 -->\n      <g transform=\"translate(219.367756 239.238437)scale(0.1 -0.1)\">\n       <defs>\n        <path d=\"M 525 4666 \nL 3525 4666 \nL 3525 4397 \nL 1831 0 \nL 1172 0 \nL 2766 4134 \nL 525 4134 \nL 525 4666 \nz\n\" id=\"DejaVuSans-37\" transform=\"scale(0.015625)\"/>\n       </defs>\n       <use xlink:href=\"#DejaVuSans-30\"/>\n       <use x=\"63.623047\" xlink:href=\"#DejaVuSans-2e\"/>\n       <use x=\"95.410156\" xlink:href=\"#DejaVuSans-37\"/>\n      </g>\n     </g>\n    </g>\n    <g id=\"xtick_6\">\n     <g id=\"line2d_11\">\n      <path clip-path=\"url(#pb9f5d326af)\" d=\"M 269.169318 224.64 \nL 269.169318 7.2 \n\" style=\"fill:none;stroke:#b0b0b0;stroke-linecap:square;stroke-width:0.8;\"/>\n     </g>\n     <g id=\"line2d_12\">\n      <g>\n       <use style=\"stroke:#000000;stroke-width:0.8;\" x=\"269.169318\" xlink:href=\"#m91a9f71496\" y=\"224.64\"/>\n      </g>\n     </g>\n     <g id=\"text_6\">\n      <!-- 0.8 -->\n      <g transform=\"translate(261.217756 239.238437)scale(0.1 -0.1)\">\n       <defs>\n        <path d=\"M 2034 2216 \nQ 1584 2216 1326 1975 \nQ 1069 1734 1069 1313 \nQ 1069 891 1326 650 \nQ 1584 409 2034 409 \nQ 2484 409 2743 651 \nQ 3003 894 3003 1313 \nQ 3003 1734 2745 1975 \nQ 2488 2216 2034 2216 \nz\nM 1403 2484 \nQ 997 2584 770 2862 \nQ 544 3141 544 3541 \nQ 544 4100 942 4425 \nQ 1341 4750 2034 4750 \nQ 2731 4750 3128 4425 \nQ 3525 4100 3525 3541 \nQ 3525 3141 3298 2862 \nQ 3072 2584 2669 2484 \nQ 3125 2378 3379 2068 \nQ 3634 1759 3634 1313 \nQ 3634 634 3220 271 \nQ 2806 -91 2034 -91 \nQ 1263 -91 848 271 \nQ 434 634 434 1313 \nQ 434 1759 690 2068 \nQ 947 2378 1403 2484 \nz\nM 1172 3481 \nQ 1172 3119 1398 2916 \nQ 1625 2713 2034 2713 \nQ 2441 2713 2670 2916 \nQ 2900 3119 2900 3481 \nQ 2900 3844 2670 4047 \nQ 2441 4250 2034 4250 \nQ 1625 4250 1398 4047 \nQ 1172 3844 1172 3481 \nz\n\" id=\"DejaVuSans-38\" transform=\"scale(0.015625)\"/>\n       </defs>\n       <use xlink:href=\"#DejaVuSans-30\"/>\n       <use x=\"63.623047\" xlink:href=\"#DejaVuSans-2e\"/>\n       <use x=\"95.410156\" xlink:href=\"#DejaVuSans-38\"/>\n      </g>\n     </g>\n    </g>\n    <g id=\"xtick_7\">\n     <g id=\"line2d_13\">\n      <path clip-path=\"url(#pb9f5d326af)\" d=\"M 311.019318 224.64 \nL 311.019318 7.2 \n\" style=\"fill:none;stroke:#b0b0b0;stroke-linecap:square;stroke-width:0.8;\"/>\n     </g>\n     <g id=\"line2d_14\">\n      <g>\n       <use style=\"stroke:#000000;stroke-width:0.8;\" x=\"311.019318\" xlink:href=\"#m91a9f71496\" y=\"224.64\"/>\n      </g>\n     </g>\n     <g id=\"text_7\">\n      <!-- 0.9 -->\n      <g transform=\"translate(303.067756 239.238437)scale(0.1 -0.1)\">\n       <defs>\n        <path d=\"M 703 97 \nL 703 672 \nQ 941 559 1184 500 \nQ 1428 441 1663 441 \nQ 2288 441 2617 861 \nQ 2947 1281 2994 2138 \nQ 2813 1869 2534 1725 \nQ 2256 1581 1919 1581 \nQ 1219 1581 811 2004 \nQ 403 2428 403 3163 \nQ 403 3881 828 4315 \nQ 1253 4750 1959 4750 \nQ 2769 4750 3195 4129 \nQ 3622 3509 3622 2328 \nQ 3622 1225 3098 567 \nQ 2575 -91 1691 -91 \nQ 1453 -91 1209 -44 \nQ 966 3 703 97 \nz\nM 1959 2075 \nQ 2384 2075 2632 2365 \nQ 2881 2656 2881 3163 \nQ 2881 3666 2632 3958 \nQ 2384 4250 1959 4250 \nQ 1534 4250 1286 3958 \nQ 1038 3666 1038 3163 \nQ 1038 2656 1286 2365 \nQ 1534 2075 1959 2075 \nz\n\" id=\"DejaVuSans-39\" transform=\"scale(0.015625)\"/>\n       </defs>\n       <use xlink:href=\"#DejaVuSans-30\"/>\n       <use x=\"63.623047\" xlink:href=\"#DejaVuSans-2e\"/>\n       <use x=\"95.410156\" xlink:href=\"#DejaVuSans-39\"/>\n      </g>\n     </g>\n    </g>\n    <g id=\"xtick_8\">\n     <g id=\"line2d_15\">\n      <path clip-path=\"url(#pb9f5d326af)\" d=\"M 352.869318 224.64 \nL 352.869318 7.2 \n\" style=\"fill:none;stroke:#b0b0b0;stroke-linecap:square;stroke-width:0.8;\"/>\n     </g>\n     <g id=\"line2d_16\">\n      <g>\n       <use style=\"stroke:#000000;stroke-width:0.8;\" x=\"352.869318\" xlink:href=\"#m91a9f71496\" y=\"224.64\"/>\n      </g>\n     </g>\n     <g id=\"text_8\">\n      <!-- 1.0 -->\n      <g transform=\"translate(344.917756 239.238437)scale(0.1 -0.1)\">\n       <defs>\n        <path d=\"M 794 531 \nL 1825 531 \nL 1825 4091 \nL 703 3866 \nL 703 4441 \nL 1819 4666 \nL 2450 4666 \nL 2450 531 \nL 3481 531 \nL 3481 0 \nL 794 0 \nL 794 531 \nz\n\" id=\"DejaVuSans-31\" transform=\"scale(0.015625)\"/>\n       </defs>\n       <use xlink:href=\"#DejaVuSans-31\"/>\n       <use x=\"63.623047\" xlink:href=\"#DejaVuSans-2e\"/>\n       <use x=\"95.410156\" xlink:href=\"#DejaVuSans-30\"/>\n      </g>\n     </g>\n    </g>\n   </g>\n   <g id=\"matplotlib.axis_2\">\n    <g id=\"ytick_1\">\n     <g id=\"line2d_17\">\n      <path clip-path=\"url(#pb9f5d326af)\" d=\"M 33.2875 224.64 \nL 368.0875 224.64 \n\" style=\"fill:none;stroke:#b0b0b0;stroke-linecap:square;stroke-width:0.8;\"/>\n     </g>\n     <g id=\"line2d_18\">\n      <defs>\n       <path d=\"M 0 0 \nL -3.5 0 \n\" id=\"ma9fcb0e0b3\" style=\"stroke:#000000;stroke-width:0.8;\"/>\n      </defs>\n      <g>\n       <use style=\"stroke:#000000;stroke-width:0.8;\" x=\"33.2875\" xlink:href=\"#ma9fcb0e0b3\" y=\"224.64\"/>\n      </g>\n     </g>\n     <g id=\"text_9\">\n      <!-- 0 -->\n      <g transform=\"translate(19.925 228.439219)scale(0.1 -0.1)\">\n       <use xlink:href=\"#DejaVuSans-30\"/>\n      </g>\n     </g>\n    </g>\n    <g id=\"ytick_2\">\n     <g id=\"line2d_19\">\n      <path clip-path=\"url(#pb9f5d326af)\" d=\"M 33.2875 199.136833 \nL 368.0875 199.136833 \n\" style=\"fill:none;stroke:#b0b0b0;stroke-linecap:square;stroke-width:0.8;\"/>\n     </g>\n     <g id=\"line2d_20\">\n      <g>\n       <use style=\"stroke:#000000;stroke-width:0.8;\" x=\"33.2875\" xlink:href=\"#ma9fcb0e0b3\" y=\"199.136833\"/>\n      </g>\n     </g>\n     <g id=\"text_10\">\n      <!-- 100 -->\n      <g transform=\"translate(7.2 202.936052)scale(0.1 -0.1)\">\n       <use xlink:href=\"#DejaVuSans-31\"/>\n       <use x=\"63.623047\" xlink:href=\"#DejaVuSans-30\"/>\n       <use x=\"127.246094\" xlink:href=\"#DejaVuSans-30\"/>\n      </g>\n     </g>\n    </g>\n    <g id=\"ytick_3\">\n     <g id=\"line2d_21\">\n      <path clip-path=\"url(#pb9f5d326af)\" d=\"M 33.2875 173.633666 \nL 368.0875 173.633666 \n\" style=\"fill:none;stroke:#b0b0b0;stroke-linecap:square;stroke-width:0.8;\"/>\n     </g>\n     <g id=\"line2d_22\">\n      <g>\n       <use style=\"stroke:#000000;stroke-width:0.8;\" x=\"33.2875\" xlink:href=\"#ma9fcb0e0b3\" y=\"173.633666\"/>\n      </g>\n     </g>\n     <g id=\"text_11\">\n      <!-- 200 -->\n      <g transform=\"translate(7.2 177.432885)scale(0.1 -0.1)\">\n       <defs>\n        <path d=\"M 1228 531 \nL 3431 531 \nL 3431 0 \nL 469 0 \nL 469 531 \nQ 828 903 1448 1529 \nQ 2069 2156 2228 2338 \nQ 2531 2678 2651 2914 \nQ 2772 3150 2772 3378 \nQ 2772 3750 2511 3984 \nQ 2250 4219 1831 4219 \nQ 1534 4219 1204 4116 \nQ 875 4013 500 3803 \nL 500 4441 \nQ 881 4594 1212 4672 \nQ 1544 4750 1819 4750 \nQ 2544 4750 2975 4387 \nQ 3406 4025 3406 3419 \nQ 3406 3131 3298 2873 \nQ 3191 2616 2906 2266 \nQ 2828 2175 2409 1742 \nQ 1991 1309 1228 531 \nz\n\" id=\"DejaVuSans-32\" transform=\"scale(0.015625)\"/>\n       </defs>\n       <use xlink:href=\"#DejaVuSans-32\"/>\n       <use x=\"63.623047\" xlink:href=\"#DejaVuSans-30\"/>\n       <use x=\"127.246094\" xlink:href=\"#DejaVuSans-30\"/>\n      </g>\n     </g>\n    </g>\n    <g id=\"ytick_4\">\n     <g id=\"line2d_23\">\n      <path clip-path=\"url(#pb9f5d326af)\" d=\"M 33.2875 148.1305 \nL 368.0875 148.1305 \n\" style=\"fill:none;stroke:#b0b0b0;stroke-linecap:square;stroke-width:0.8;\"/>\n     </g>\n     <g id=\"line2d_24\">\n      <g>\n       <use style=\"stroke:#000000;stroke-width:0.8;\" x=\"33.2875\" xlink:href=\"#ma9fcb0e0b3\" y=\"148.1305\"/>\n      </g>\n     </g>\n     <g id=\"text_12\">\n      <!-- 300 -->\n      <g transform=\"translate(7.2 151.929718)scale(0.1 -0.1)\">\n       <use xlink:href=\"#DejaVuSans-33\"/>\n       <use x=\"63.623047\" xlink:href=\"#DejaVuSans-30\"/>\n       <use x=\"127.246094\" xlink:href=\"#DejaVuSans-30\"/>\n      </g>\n     </g>\n    </g>\n    <g id=\"ytick_5\">\n     <g id=\"line2d_25\">\n      <path clip-path=\"url(#pb9f5d326af)\" d=\"M 33.2875 122.627333 \nL 368.0875 122.627333 \n\" style=\"fill:none;stroke:#b0b0b0;stroke-linecap:square;stroke-width:0.8;\"/>\n     </g>\n     <g id=\"line2d_26\">\n      <g>\n       <use style=\"stroke:#000000;stroke-width:0.8;\" x=\"33.2875\" xlink:href=\"#ma9fcb0e0b3\" y=\"122.627333\"/>\n      </g>\n     </g>\n     <g id=\"text_13\">\n      <!-- 400 -->\n      <g transform=\"translate(7.2 126.426552)scale(0.1 -0.1)\">\n       <use xlink:href=\"#DejaVuSans-34\"/>\n       <use x=\"63.623047\" xlink:href=\"#DejaVuSans-30\"/>\n       <use x=\"127.246094\" xlink:href=\"#DejaVuSans-30\"/>\n      </g>\n     </g>\n    </g>\n    <g id=\"ytick_6\">\n     <g id=\"line2d_27\">\n      <path clip-path=\"url(#pb9f5d326af)\" d=\"M 33.2875 97.124166 \nL 368.0875 97.124166 \n\" style=\"fill:none;stroke:#b0b0b0;stroke-linecap:square;stroke-width:0.8;\"/>\n     </g>\n     <g id=\"line2d_28\">\n      <g>\n       <use style=\"stroke:#000000;stroke-width:0.8;\" x=\"33.2875\" xlink:href=\"#ma9fcb0e0b3\" y=\"97.124166\"/>\n      </g>\n     </g>\n     <g id=\"text_14\">\n      <!-- 500 -->\n      <g transform=\"translate(7.2 100.923385)scale(0.1 -0.1)\">\n       <use xlink:href=\"#DejaVuSans-35\"/>\n       <use x=\"63.623047\" xlink:href=\"#DejaVuSans-30\"/>\n       <use x=\"127.246094\" xlink:href=\"#DejaVuSans-30\"/>\n      </g>\n     </g>\n    </g>\n    <g id=\"ytick_7\">\n     <g id=\"line2d_29\">\n      <path clip-path=\"url(#pb9f5d326af)\" d=\"M 33.2875 71.620999 \nL 368.0875 71.620999 \n\" style=\"fill:none;stroke:#b0b0b0;stroke-linecap:square;stroke-width:0.8;\"/>\n     </g>\n     <g id=\"line2d_30\">\n      <g>\n       <use style=\"stroke:#000000;stroke-width:0.8;\" x=\"33.2875\" xlink:href=\"#ma9fcb0e0b3\" y=\"71.620999\"/>\n      </g>\n     </g>\n     <g id=\"text_15\">\n      <!-- 600 -->\n      <g transform=\"translate(7.2 75.420218)scale(0.1 -0.1)\">\n       <use xlink:href=\"#DejaVuSans-36\"/>\n       <use x=\"63.623047\" xlink:href=\"#DejaVuSans-30\"/>\n       <use x=\"127.246094\" xlink:href=\"#DejaVuSans-30\"/>\n      </g>\n     </g>\n    </g>\n    <g id=\"ytick_8\">\n     <g id=\"line2d_31\">\n      <path clip-path=\"url(#pb9f5d326af)\" d=\"M 33.2875 46.117833 \nL 368.0875 46.117833 \n\" style=\"fill:none;stroke:#b0b0b0;stroke-linecap:square;stroke-width:0.8;\"/>\n     </g>\n     <g id=\"line2d_32\">\n      <g>\n       <use style=\"stroke:#000000;stroke-width:0.8;\" x=\"33.2875\" xlink:href=\"#ma9fcb0e0b3\" y=\"46.117833\"/>\n      </g>\n     </g>\n     <g id=\"text_16\">\n      <!-- 700 -->\n      <g transform=\"translate(7.2 49.917051)scale(0.1 -0.1)\">\n       <use xlink:href=\"#DejaVuSans-37\"/>\n       <use x=\"63.623047\" xlink:href=\"#DejaVuSans-30\"/>\n       <use x=\"127.246094\" xlink:href=\"#DejaVuSans-30\"/>\n      </g>\n     </g>\n    </g>\n    <g id=\"ytick_9\">\n     <g id=\"line2d_33\">\n      <path clip-path=\"url(#pb9f5d326af)\" d=\"M 33.2875 20.614666 \nL 368.0875 20.614666 \n\" style=\"fill:none;stroke:#b0b0b0;stroke-linecap:square;stroke-width:0.8;\"/>\n     </g>\n     <g id=\"line2d_34\">\n      <g>\n       <use style=\"stroke:#000000;stroke-width:0.8;\" x=\"33.2875\" xlink:href=\"#ma9fcb0e0b3\" y=\"20.614666\"/>\n      </g>\n     </g>\n     <g id=\"text_17\">\n      <!-- 800 -->\n      <g transform=\"translate(7.2 24.413884)scale(0.1 -0.1)\">\n       <use xlink:href=\"#DejaVuSans-38\"/>\n       <use x=\"63.623047\" xlink:href=\"#DejaVuSans-30\"/>\n       <use x=\"127.246094\" xlink:href=\"#DejaVuSans-30\"/>\n      </g>\n     </g>\n    </g>\n   </g>\n   <g id=\"patch_13\">\n    <path d=\"M 33.2875 224.64 \nL 33.2875 7.2 \n\" style=\"fill:none;stroke:#000000;stroke-linecap:square;stroke-linejoin:miter;stroke-width:0.8;\"/>\n   </g>\n   <g id=\"patch_14\">\n    <path d=\"M 368.0875 224.64 \nL 368.0875 7.2 \n\" style=\"fill:none;stroke:#000000;stroke-linecap:square;stroke-linejoin:miter;stroke-width:0.8;\"/>\n   </g>\n   <g id=\"patch_15\">\n    <path d=\"M 33.2875 224.64 \nL 368.0875 224.64 \n\" style=\"fill:none;stroke:#000000;stroke-linecap:square;stroke-linejoin:miter;stroke-width:0.8;\"/>\n   </g>\n   <g id=\"patch_16\">\n    <path d=\"M 33.2875 7.2 \nL 368.0875 7.2 \n\" style=\"fill:none;stroke:#000000;stroke-linecap:square;stroke-linejoin:miter;stroke-width:0.8;\"/>\n   </g>\n  </g>\n </g>\n <defs>\n  <clipPath id=\"pb9f5d326af\">\n   <rect height=\"217.44\" width=\"334.8\" x=\"33.2875\" y=\"7.2\"/>\n  </clipPath>\n </defs>\n</svg>\n",
      "image/png": "[encoded data removed]"
     },
     "metadata": {
      "needs_background": "light"
     }
    }
   ],
   "source": [
    "chart_tracks_df['predicted_genre_prob'].hist()"
   ]
  },
  {
   "cell_type": "markdown",
   "metadata": {
    "ExecuteTime": {
     "end_time": "2020-10-12T17:44:50.844307Z",
     "start_time": "2020-10-12T17:44:50.836325Z"
    }
   },
   "source": [
    "Check out tally of predicted genres"
   ]
  },
  {
   "cell_type": "code",
   "execution_count": 31,
   "metadata": {
    "ExecuteTime": {
     "end_time": "2021-01-21T15:13:49.631189Z",
     "start_time": "2021-01-21T15:13:49.623019Z"
    }
   },
   "outputs": [
    {
     "output_type": "execute_result",
     "data": {
      "text/plain": [
       "pop          1334\n",
       "reggae        953\n",
       "country       665\n",
       "jazz          518\n",
       "classical      19\n",
       "Name: predicted_genre, dtype: int64"
      ]
     },
     "metadata": {},
     "execution_count": 31
    }
   ],
   "source": [
    "chart_tracks_df['predicted_genre'].value_counts()"
   ]
  },
  {
   "cell_type": "markdown",
   "metadata": {},
   "source": [
    ">Q **Spot Check**: Check out a song you're familiar with and see if the predicted genres and probabilities makes sense"
   ]
  },
  {
   "cell_type": "code",
   "execution_count": 32,
   "metadata": {
    "ExecuteTime": {
     "end_time": "2021-02-03T06:38:58.383436Z",
     "start_time": "2021-02-03T06:38:58.252538Z"
    }
   },
   "outputs": [
    {
     "output_type": "execute_result",
     "data": {
      "text/plain": [
       "                   track_id   track_name               artist_id artist_name  \\\n",
       "762  64GRDrL1efgXclrhVCeuA0  Lay Me Down  2wY79sveU1sp5g7SokKOiI   Sam Smith   \n",
       "\n",
       "                   album_id  duration release_date  popularity  danceability  \\\n",
       "762  0vrWqbRQEMKqhTGcDLQK7x    219535   2015-11-06          75         0.468   \n",
       "\n",
       "     energy  ...  valence     tempo  predicted_genre_id  predicted_genre  \\\n",
       "762    0.19  ...    0.326  0.447624                   2             jazz   \n",
       "\n",
       "     predicted_genre_prob  predicted_classical_prob  predicted_country_prob  \\\n",
       "762                   1.0                       0.0                0.090909   \n",
       "\n",
       "     predicted_jazz_prob  predicted_pop_prob  predicted_reggae_prob  \n",
       "762                  0.0            0.363636               0.545455  \n",
       "\n",
       "[1 rows x 27 columns]"
      ],
      "text/html": "<div>\n<style scoped>\n    .dataframe tbody tr th:only-of-type {\n        vertical-align: middle;\n    }\n\n    .dataframe tbody tr th {\n        vertical-align: top;\n    }\n\n    .dataframe thead th {\n        text-align: right;\n    }\n</style>\n<table border=\"1\" class=\"dataframe\">\n  <thead>\n    <tr style=\"text-align: right;\">\n      <th></th>\n      <th>track_id</th>\n      <th>track_name</th>\n      <th>artist_id</th>\n      <th>artist_name</th>\n      <th>album_id</th>\n      <th>duration</th>\n      <th>release_date</th>\n      <th>popularity</th>\n      <th>danceability</th>\n      <th>energy</th>\n      <th>...</th>\n      <th>valence</th>\n      <th>tempo</th>\n      <th>predicted_genre_id</th>\n      <th>predicted_genre</th>\n      <th>predicted_genre_prob</th>\n      <th>predicted_classical_prob</th>\n      <th>predicted_country_prob</th>\n      <th>predicted_jazz_prob</th>\n      <th>predicted_pop_prob</th>\n      <th>predicted_reggae_prob</th>\n    </tr>\n  </thead>\n  <tbody>\n    <tr>\n      <th>762</th>\n      <td>64GRDrL1efgXclrhVCeuA0</td>\n      <td>Lay Me Down</td>\n      <td>2wY79sveU1sp5g7SokKOiI</td>\n      <td>Sam Smith</td>\n      <td>0vrWqbRQEMKqhTGcDLQK7x</td>\n      <td>219535</td>\n      <td>2015-11-06</td>\n      <td>75</td>\n      <td>0.468</td>\n      <td>0.19</td>\n      <td>...</td>\n      <td>0.326</td>\n      <td>0.447624</td>\n      <td>2</td>\n      <td>jazz</td>\n      <td>1.0</td>\n      <td>0.0</td>\n      <td>0.090909</td>\n      <td>0.0</td>\n      <td>0.363636</td>\n      <td>0.545455</td>\n    </tr>\n  </tbody>\n</table>\n<p>1 rows × 27 columns</p>\n</div>"
     },
     "metadata": {},
     "execution_count": 32
    }
   ],
   "source": [
    "this_song = 'Lay Me Down'\n",
    "chart_tracks_df[chart_tracks_df['track_name'].str.contains('Lay Me Down')]"
   ]
  },
  {
   "cell_type": "code",
   "execution_count": 33,
   "metadata": {
    "ExecuteTime": {
     "end_time": "2021-01-21T15:13:49.757245Z",
     "start_time": "2021-01-21T15:13:49.669794Z"
    }
   },
   "outputs": [],
   "source": [
    "#save data\n",
    "chart_tracks_df.to_csv(\"data/spotify_daily_charts_tracks_predicted_genres.csv\", index=False, encoding='utf-8')"
   ]
  },
  {
   "cell_type": "markdown",
   "metadata": {},
   "source": [
    "## Part 2. Recommender Engine"
   ]
  },
  {
   "cell_type": "code",
   "execution_count": 34,
   "metadata": {},
   "outputs": [
    {
     "output_type": "execute_result",
     "data": {
      "text/plain": [
       "                    track_id                      track_name  \\\n",
       "2415  2mlGPkAx4kwF8Df0GlScsC                       Buttercup   \n",
       "1266  5B03nSG8pLE48jh7kmasuL             Levels - Radio Edit   \n",
       "547   0lMbuWUpfTWhEmOKxppEau  Rollin (feat. Future & Khalid)   \n",
       "1097  6wdCelHrPh7UfliNjwRTUv                          Leaves   \n",
       "122   6mICuAdrwEjh6Y6lroV2Kg         Chantaje (feat. Maluma)   \n",
       "\n",
       "                   artist_id    artist_name                album_id  duration  \\\n",
       "2415  1vVHevk2PD45epYnDi9CCc   Jack Stauber  1RHa1VdX6lsLbeedgsV1cb    208026   \n",
       "1266  1vCWHaC5f2uS3yhpwWbIA6         Avicii  16WbLPydnmtI3gQJ4MHZ9J    201920   \n",
       "547   7CajNmpbOovFoOoasH2HaY  Calvin Harris  2HaqChIDc5go3qxVunBDK0    272653   \n",
       "1097  4DAcJXcjX0zlQAZAPAx4Zb        Ben&Ben  5Yl1Bi501CuE72jaVK4e3y    310708   \n",
       "122   0EmeFodog0BfCgMzAIvKQp        Shakira  6bUxh58rYTL67FS8dyTKMN    195840   \n",
       "\n",
       "     release_date  popularity  danceability  energy  ...  valence     tempo  \\\n",
       "2415   2017-03-25          76         0.705   0.373  ...    0.551  0.415179   \n",
       "1266   2013-01-01          42         0.579   0.887  ...    0.472  0.452067   \n",
       "547    2017-06-30          64         0.753   0.760  ...    0.657  0.242318   \n",
       "1097   2017-03-31          69         0.447   0.160  ...    0.205  0.404515   \n",
       "122    2017-05-26          75         0.852   0.773  ...    0.907  0.304348   \n",
       "\n",
       "      predicted_genre_id  predicted_genre  predicted_genre_prob  \\\n",
       "2415                   2             jazz                   1.0   \n",
       "1266                   2             jazz                   1.0   \n",
       "547                    4           reggae                   1.0   \n",
       "1097                   2             jazz                   1.0   \n",
       "122                    4           reggae                   1.0   \n",
       "\n",
       "      predicted_classical_prob  predicted_country_prob  predicted_jazz_prob  \\\n",
       "2415                       0.0                0.181818             0.000000   \n",
       "1266                       0.0                0.363636             0.090909   \n",
       "547                        0.0                0.000000             0.000000   \n",
       "1097                       0.0                0.090909             0.090909   \n",
       "122                        0.0                0.000000             0.000000   \n",
       "\n",
       "      predicted_pop_prob  predicted_reggae_prob  \n",
       "2415            0.272727               0.545455  \n",
       "1266            0.454545               0.090909  \n",
       "547             0.000000               1.000000  \n",
       "1097            0.545455               0.272727  \n",
       "122             0.000000               1.000000  \n",
       "\n",
       "[5 rows x 27 columns]"
      ],
      "text/html": "<div>\n<style scoped>\n    .dataframe tbody tr th:only-of-type {\n        vertical-align: middle;\n    }\n\n    .dataframe tbody tr th {\n        vertical-align: top;\n    }\n\n    .dataframe thead th {\n        text-align: right;\n    }\n</style>\n<table border=\"1\" class=\"dataframe\">\n  <thead>\n    <tr style=\"text-align: right;\">\n      <th></th>\n      <th>track_id</th>\n      <th>track_name</th>\n      <th>artist_id</th>\n      <th>artist_name</th>\n      <th>album_id</th>\n      <th>duration</th>\n      <th>release_date</th>\n      <th>popularity</th>\n      <th>danceability</th>\n      <th>energy</th>\n      <th>...</th>\n      <th>valence</th>\n      <th>tempo</th>\n      <th>predicted_genre_id</th>\n      <th>predicted_genre</th>\n      <th>predicted_genre_prob</th>\n      <th>predicted_classical_prob</th>\n      <th>predicted_country_prob</th>\n      <th>predicted_jazz_prob</th>\n      <th>predicted_pop_prob</th>\n      <th>predicted_reggae_prob</th>\n    </tr>\n  </thead>\n  <tbody>\n    <tr>\n      <th>2415</th>\n      <td>2mlGPkAx4kwF8Df0GlScsC</td>\n      <td>Buttercup</td>\n      <td>1vVHevk2PD45epYnDi9CCc</td>\n      <td>Jack Stauber</td>\n      <td>1RHa1VdX6lsLbeedgsV1cb</td>\n      <td>208026</td>\n      <td>2017-03-25</td>\n      <td>76</td>\n      <td>0.705</td>\n      <td>0.373</td>\n      <td>...</td>\n      <td>0.551</td>\n      <td>0.415179</td>\n      <td>2</td>\n      <td>jazz</td>\n      <td>1.0</td>\n      <td>0.0</td>\n      <td>0.181818</td>\n      <td>0.000000</td>\n      <td>0.272727</td>\n      <td>0.545455</td>\n    </tr>\n    <tr>\n      <th>1266</th>\n      <td>5B03nSG8pLE48jh7kmasuL</td>\n      <td>Levels - Radio Edit</td>\n      <td>1vCWHaC5f2uS3yhpwWbIA6</td>\n      <td>Avicii</td>\n      <td>16WbLPydnmtI3gQJ4MHZ9J</td>\n      <td>201920</td>\n      <td>2013-01-01</td>\n      <td>42</td>\n      <td>0.579</td>\n      <td>0.887</td>\n      <td>...</td>\n      <td>0.472</td>\n      <td>0.452067</td>\n      <td>2</td>\n      <td>jazz</td>\n      <td>1.0</td>\n      <td>0.0</td>\n      <td>0.363636</td>\n      <td>0.090909</td>\n      <td>0.454545</td>\n      <td>0.090909</td>\n    </tr>\n    <tr>\n      <th>547</th>\n      <td>0lMbuWUpfTWhEmOKxppEau</td>\n      <td>Rollin (feat. Future &amp; Khalid)</td>\n      <td>7CajNmpbOovFoOoasH2HaY</td>\n      <td>Calvin Harris</td>\n      <td>2HaqChIDc5go3qxVunBDK0</td>\n      <td>272653</td>\n      <td>2017-06-30</td>\n      <td>64</td>\n      <td>0.753</td>\n      <td>0.760</td>\n      <td>...</td>\n      <td>0.657</td>\n      <td>0.242318</td>\n      <td>4</td>\n      <td>reggae</td>\n      <td>1.0</td>\n      <td>0.0</td>\n      <td>0.000000</td>\n      <td>0.000000</td>\n      <td>0.000000</td>\n      <td>1.000000</td>\n    </tr>\n    <tr>\n      <th>1097</th>\n      <td>6wdCelHrPh7UfliNjwRTUv</td>\n      <td>Leaves</td>\n      <td>4DAcJXcjX0zlQAZAPAx4Zb</td>\n      <td>Ben&amp;Ben</td>\n      <td>5Yl1Bi501CuE72jaVK4e3y</td>\n      <td>310708</td>\n      <td>2017-03-31</td>\n      <td>69</td>\n      <td>0.447</td>\n      <td>0.160</td>\n      <td>...</td>\n      <td>0.205</td>\n      <td>0.404515</td>\n      <td>2</td>\n      <td>jazz</td>\n      <td>1.0</td>\n      <td>0.0</td>\n      <td>0.090909</td>\n      <td>0.090909</td>\n      <td>0.545455</td>\n      <td>0.272727</td>\n    </tr>\n    <tr>\n      <th>122</th>\n      <td>6mICuAdrwEjh6Y6lroV2Kg</td>\n      <td>Chantaje (feat. Maluma)</td>\n      <td>0EmeFodog0BfCgMzAIvKQp</td>\n      <td>Shakira</td>\n      <td>6bUxh58rYTL67FS8dyTKMN</td>\n      <td>195840</td>\n      <td>2017-05-26</td>\n      <td>75</td>\n      <td>0.852</td>\n      <td>0.773</td>\n      <td>...</td>\n      <td>0.907</td>\n      <td>0.304348</td>\n      <td>4</td>\n      <td>reggae</td>\n      <td>1.0</td>\n      <td>0.0</td>\n      <td>0.000000</td>\n      <td>0.000000</td>\n      <td>0.000000</td>\n      <td>1.000000</td>\n    </tr>\n  </tbody>\n</table>\n<p>5 rows × 27 columns</p>\n</div>"
     },
     "metadata": {},
     "execution_count": 34
    }
   ],
   "source": [
    "chart_tracks_df.head()"
   ]
  },
  {
   "cell_type": "code",
   "execution_count": 35,
   "metadata": {},
   "outputs": [
    {
     "output_type": "execute_result",
     "data": {
      "text/plain": [
       "Index(['track_id', 'track_name', 'artist_id', 'artist_name', 'album_id',\n",
       "       'duration', 'release_date', 'popularity', 'danceability', 'energy',\n",
       "       'key', 'loudness', 'mode', 'speechiness', 'acousticness',\n",
       "       'instrumentalness', 'liveness', 'valence', 'tempo',\n",
       "       'predicted_genre_id', 'predicted_genre', 'predicted_genre_prob',\n",
       "       'predicted_classical_prob', 'predicted_country_prob',\n",
       "       'predicted_jazz_prob', 'predicted_pop_prob', 'predicted_reggae_prob'],\n",
       "      dtype='object')"
      ]
     },
     "metadata": {},
     "execution_count": 35
    }
   ],
   "source": [
    "chart_tracks_df.columns"
   ]
  },
  {
   "cell_type": "code",
   "execution_count": 36,
   "metadata": {},
   "outputs": [
    {
     "output_type": "execute_result",
     "data": {
      "text/plain": [
       "                    track_id                                   track_name  \\\n",
       "0     3MjUtNVVq3C8Fn0MP3zhXa                        ...Baby One More Time   \n",
       "1     6I9VzXrHxO9rA9A5euc8Ak                                        Toxic   \n",
       "2     6naxalmIoLFWR0siv8dnQQ                       Oops!...I Did It Again   \n",
       "3     4fixebDZAVToLbUCuEloa2                                    Womanizer   \n",
       "4     6ic8OlLUNEATToEFU3xmaH                                   Gimme More   \n",
       "...                      ...                                          ...   \n",
       "1187  3K2lg4fY3CunPMeNlMnR32                       Are You Gonna Be There   \n",
       "1188  50haJiO2RhVsnTQ0Iu7lYS  For the Girl Who Has Everything - Radio Mix   \n",
       "1189  0T9Aq8S8WKdXXh6EXM8cB8                           If I'm Not the One   \n",
       "1190  0S2AEPvmKGcdRYgqQP7MXq                            Music of My Heart   \n",
       "1191  4VqXJoSWd0ldZ7h9pgkFWg                                 A Little Bit   \n",
       "\n",
       "                   artist_id      artist_name                album_id  \\\n",
       "0     26dSoYclwsYLMAKD3tpOr4   Britney Spears  3WNxdumkSMGMJRhEgK80qx   \n",
       "1     26dSoYclwsYLMAKD3tpOr4   Britney Spears  0z7pVBGOD7HCIB7S8eLkLI   \n",
       "2     26dSoYclwsYLMAKD3tpOr4   Britney Spears  5PmgtkodFl2Om3hMXONDll   \n",
       "3     26dSoYclwsYLMAKD3tpOr4   Britney Spears  2tve5DGwub1TtbX1khPX5j   \n",
       "4     26dSoYclwsYLMAKD3tpOr4   Britney Spears  1ePkYcH5ZQCb1b4tQeiEDj   \n",
       "...                      ...              ...                     ...   \n",
       "1187  6Ff53KvcvAj5U7Z1vojB5o           *NSYNC  3bhFoH4PFnY4ifK4981U8X   \n",
       "1188  6Ff53KvcvAj5U7Z1vojB5o           *NSYNC  3bhFoH4PFnY4ifK4981U8X   \n",
       "1189  6Ff53KvcvAj5U7Z1vojB5o           *NSYNC  3bhFoH4PFnY4ifK4981U8X   \n",
       "1190  6Ff53KvcvAj5U7Z1vojB5o           *NSYNC  3bhFoH4PFnY4ifK4981U8X   \n",
       "1191  2tFN9ubMXEhdAQvdQxcsma  Jessica Simpson  0QKZ96QQH4lxtr2e4aQLLE   \n",
       "\n",
       "      duration release_date  popularity  danceability  energy  ...  loudness  \\\n",
       "0       211066   1999-01-12          79         0.759   0.699  ...  0.713767   \n",
       "1       198800   2003-11-13          82         0.774   0.838  ...  0.807438   \n",
       "2       211160   2000-05-16          79         0.751   0.834  ...  0.729166   \n",
       "3       224400   2008-12-02          78         0.724   0.695  ...  0.740318   \n",
       "4       251240   2007-10-25          83         0.788   0.844  ...  0.847496   \n",
       "...        ...          ...         ...           ...     ...  ...       ...   \n",
       "1187    246586   2014-07-29          34         0.472   0.725  ...  0.729268   \n",
       "1188    236746   2014-07-29          28         0.579   0.617  ...  0.666598   \n",
       "1189    201413   2014-07-29          30         0.779   0.835  ...  0.737044   \n",
       "1190    270893   2014-07-29          30         0.537   0.606  ...  0.648079   \n",
       "1191    227440   2001-01-01          26         0.695   0.929  ...  0.836804   \n",
       "\n",
       "      mode  speechiness  acousticness  instrumentalness  liveness  valence  \\\n",
       "0        0       0.0307        0.2020          0.000131    0.4430    0.907   \n",
       "1        0       0.1140        0.0249          0.025000    0.2420    0.924   \n",
       "2        0       0.0437        0.3000          0.000018    0.3550    0.894   \n",
       "3        1       0.0622        0.0730          0.000000    0.0889    0.235   \n",
       "4        1       0.0334        0.2500          0.000678    0.0723    0.382   \n",
       "...    ...          ...           ...               ...       ...      ...   \n",
       "1187     1       0.0314        0.1980          0.000000    0.1390    0.409   \n",
       "1188     0       0.0291        0.1700          0.000000    0.0805    0.596   \n",
       "1189     0       0.0378        0.1620          0.000000    0.2550    0.936   \n",
       "1190     1       0.0382        0.3920          0.000000    0.0903    0.411   \n",
       "1191     0       0.0750        0.1420          0.000000    0.4100    0.796   \n",
       "\n",
       "         tempo             playlist_id           playlist_name  \n",
       "0     0.218504  3MjUtNVVq3C8Fn0MP3zhXa  3MjUtNVVq3C8Fn0MP3zhXa  \n",
       "1     0.550393  6I9VzXrHxO9rA9A5euc8Ak  6I9VzXrHxO9rA9A5euc8Ak  \n",
       "2     0.232375  6naxalmIoLFWR0siv8dnQQ  6naxalmIoLFWR0siv8dnQQ  \n",
       "3     0.523619  4fixebDZAVToLbUCuEloa2  4fixebDZAVToLbUCuEloa2  \n",
       "4     0.353460  6ic8OlLUNEATToEFU3xmaH  6ic8OlLUNEATToEFU3xmaH  \n",
       "...        ...                     ...                     ...  \n",
       "1187  0.172578  3K2lg4fY3CunPMeNlMnR32  3K2lg4fY3CunPMeNlMnR32  \n",
       "1188  0.730261  50haJiO2RhVsnTQ0Iu7lYS  50haJiO2RhVsnTQ0Iu7lYS  \n",
       "1189  0.291774  0T9Aq8S8WKdXXh6EXM8cB8  0T9Aq8S8WKdXXh6EXM8cB8  \n",
       "1190  0.345216  0S2AEPvmKGcdRYgqQP7MXq  0S2AEPvmKGcdRYgqQP7MXq  \n",
       "1191  0.225410  4VqXJoSWd0ldZ7h9pgkFWg  4VqXJoSWd0ldZ7h9pgkFWg  \n",
       "\n",
       "[1192 rows x 21 columns]"
      ],
      "text/html": "<div>\n<style scoped>\n    .dataframe tbody tr th:only-of-type {\n        vertical-align: middle;\n    }\n\n    .dataframe tbody tr th {\n        vertical-align: top;\n    }\n\n    .dataframe thead th {\n        text-align: right;\n    }\n</style>\n<table border=\"1\" class=\"dataframe\">\n  <thead>\n    <tr style=\"text-align: right;\">\n      <th></th>\n      <th>track_id</th>\n      <th>track_name</th>\n      <th>artist_id</th>\n      <th>artist_name</th>\n      <th>album_id</th>\n      <th>duration</th>\n      <th>release_date</th>\n      <th>popularity</th>\n      <th>danceability</th>\n      <th>energy</th>\n      <th>...</th>\n      <th>loudness</th>\n      <th>mode</th>\n      <th>speechiness</th>\n      <th>acousticness</th>\n      <th>instrumentalness</th>\n      <th>liveness</th>\n      <th>valence</th>\n      <th>tempo</th>\n      <th>playlist_id</th>\n      <th>playlist_name</th>\n    </tr>\n  </thead>\n  <tbody>\n    <tr>\n      <th>0</th>\n      <td>3MjUtNVVq3C8Fn0MP3zhXa</td>\n      <td>...Baby One More Time</td>\n      <td>26dSoYclwsYLMAKD3tpOr4</td>\n      <td>Britney Spears</td>\n      <td>3WNxdumkSMGMJRhEgK80qx</td>\n      <td>211066</td>\n      <td>1999-01-12</td>\n      <td>79</td>\n      <td>0.759</td>\n      <td>0.699</td>\n      <td>...</td>\n      <td>0.713767</td>\n      <td>0</td>\n      <td>0.0307</td>\n      <td>0.2020</td>\n      <td>0.000131</td>\n      <td>0.4430</td>\n      <td>0.907</td>\n      <td>0.218504</td>\n      <td>3MjUtNVVq3C8Fn0MP3zhXa</td>\n      <td>3MjUtNVVq3C8Fn0MP3zhXa</td>\n    </tr>\n    <tr>\n      <th>1</th>\n      <td>6I9VzXrHxO9rA9A5euc8Ak</td>\n      <td>Toxic</td>\n      <td>26dSoYclwsYLMAKD3tpOr4</td>\n      <td>Britney Spears</td>\n      <td>0z7pVBGOD7HCIB7S8eLkLI</td>\n      <td>198800</td>\n      <td>2003-11-13</td>\n      <td>82</td>\n      <td>0.774</td>\n      <td>0.838</td>\n      <td>...</td>\n      <td>0.807438</td>\n      <td>0</td>\n      <td>0.1140</td>\n      <td>0.0249</td>\n      <td>0.025000</td>\n      <td>0.2420</td>\n      <td>0.924</td>\n      <td>0.550393</td>\n      <td>6I9VzXrHxO9rA9A5euc8Ak</td>\n      <td>6I9VzXrHxO9rA9A5euc8Ak</td>\n    </tr>\n    <tr>\n      <th>2</th>\n      <td>6naxalmIoLFWR0siv8dnQQ</td>\n      <td>Oops!...I Did It Again</td>\n      <td>26dSoYclwsYLMAKD3tpOr4</td>\n      <td>Britney Spears</td>\n      <td>5PmgtkodFl2Om3hMXONDll</td>\n      <td>211160</td>\n      <td>2000-05-16</td>\n      <td>79</td>\n      <td>0.751</td>\n      <td>0.834</td>\n      <td>...</td>\n      <td>0.729166</td>\n      <td>0</td>\n      <td>0.0437</td>\n      <td>0.3000</td>\n      <td>0.000018</td>\n      <td>0.3550</td>\n      <td>0.894</td>\n      <td>0.232375</td>\n      <td>6naxalmIoLFWR0siv8dnQQ</td>\n      <td>6naxalmIoLFWR0siv8dnQQ</td>\n    </tr>\n    <tr>\n      <th>3</th>\n      <td>4fixebDZAVToLbUCuEloa2</td>\n      <td>Womanizer</td>\n      <td>26dSoYclwsYLMAKD3tpOr4</td>\n      <td>Britney Spears</td>\n      <td>2tve5DGwub1TtbX1khPX5j</td>\n      <td>224400</td>\n      <td>2008-12-02</td>\n      <td>78</td>\n      <td>0.724</td>\n      <td>0.695</td>\n      <td>...</td>\n      <td>0.740318</td>\n      <td>1</td>\n      <td>0.0622</td>\n      <td>0.0730</td>\n      <td>0.000000</td>\n      <td>0.0889</td>\n      <td>0.235</td>\n      <td>0.523619</td>\n      <td>4fixebDZAVToLbUCuEloa2</td>\n      <td>4fixebDZAVToLbUCuEloa2</td>\n    </tr>\n    <tr>\n      <th>4</th>\n      <td>6ic8OlLUNEATToEFU3xmaH</td>\n      <td>Gimme More</td>\n      <td>26dSoYclwsYLMAKD3tpOr4</td>\n      <td>Britney Spears</td>\n      <td>1ePkYcH5ZQCb1b4tQeiEDj</td>\n      <td>251240</td>\n      <td>2007-10-25</td>\n      <td>83</td>\n      <td>0.788</td>\n      <td>0.844</td>\n      <td>...</td>\n      <td>0.847496</td>\n      <td>1</td>\n      <td>0.0334</td>\n      <td>0.2500</td>\n      <td>0.000678</td>\n      <td>0.0723</td>\n      <td>0.382</td>\n      <td>0.353460</td>\n      <td>6ic8OlLUNEATToEFU3xmaH</td>\n      <td>6ic8OlLUNEATToEFU3xmaH</td>\n    </tr>\n    <tr>\n      <th>...</th>\n      <td>...</td>\n      <td>...</td>\n      <td>...</td>\n      <td>...</td>\n      <td>...</td>\n      <td>...</td>\n      <td>...</td>\n      <td>...</td>\n      <td>...</td>\n      <td>...</td>\n      <td>...</td>\n      <td>...</td>\n      <td>...</td>\n      <td>...</td>\n      <td>...</td>\n      <td>...</td>\n      <td>...</td>\n      <td>...</td>\n      <td>...</td>\n      <td>...</td>\n      <td>...</td>\n    </tr>\n    <tr>\n      <th>1187</th>\n      <td>3K2lg4fY3CunPMeNlMnR32</td>\n      <td>Are You Gonna Be There</td>\n      <td>6Ff53KvcvAj5U7Z1vojB5o</td>\n      <td>*NSYNC</td>\n      <td>3bhFoH4PFnY4ifK4981U8X</td>\n      <td>246586</td>\n      <td>2014-07-29</td>\n      <td>34</td>\n      <td>0.472</td>\n      <td>0.725</td>\n      <td>...</td>\n      <td>0.729268</td>\n      <td>1</td>\n      <td>0.0314</td>\n      <td>0.1980</td>\n      <td>0.000000</td>\n      <td>0.1390</td>\n      <td>0.409</td>\n      <td>0.172578</td>\n      <td>3K2lg4fY3CunPMeNlMnR32</td>\n      <td>3K2lg4fY3CunPMeNlMnR32</td>\n    </tr>\n    <tr>\n      <th>1188</th>\n      <td>50haJiO2RhVsnTQ0Iu7lYS</td>\n      <td>For the Girl Who Has Everything - Radio Mix</td>\n      <td>6Ff53KvcvAj5U7Z1vojB5o</td>\n      <td>*NSYNC</td>\n      <td>3bhFoH4PFnY4ifK4981U8X</td>\n      <td>236746</td>\n      <td>2014-07-29</td>\n      <td>28</td>\n      <td>0.579</td>\n      <td>0.617</td>\n      <td>...</td>\n      <td>0.666598</td>\n      <td>0</td>\n      <td>0.0291</td>\n      <td>0.1700</td>\n      <td>0.000000</td>\n      <td>0.0805</td>\n      <td>0.596</td>\n      <td>0.730261</td>\n      <td>50haJiO2RhVsnTQ0Iu7lYS</td>\n      <td>50haJiO2RhVsnTQ0Iu7lYS</td>\n    </tr>\n    <tr>\n      <th>1189</th>\n      <td>0T9Aq8S8WKdXXh6EXM8cB8</td>\n      <td>If I'm Not the One</td>\n      <td>6Ff53KvcvAj5U7Z1vojB5o</td>\n      <td>*NSYNC</td>\n      <td>3bhFoH4PFnY4ifK4981U8X</td>\n      <td>201413</td>\n      <td>2014-07-29</td>\n      <td>30</td>\n      <td>0.779</td>\n      <td>0.835</td>\n      <td>...</td>\n      <td>0.737044</td>\n      <td>0</td>\n      <td>0.0378</td>\n      <td>0.1620</td>\n      <td>0.000000</td>\n      <td>0.2550</td>\n      <td>0.936</td>\n      <td>0.291774</td>\n      <td>0T9Aq8S8WKdXXh6EXM8cB8</td>\n      <td>0T9Aq8S8WKdXXh6EXM8cB8</td>\n    </tr>\n    <tr>\n      <th>1190</th>\n      <td>0S2AEPvmKGcdRYgqQP7MXq</td>\n      <td>Music of My Heart</td>\n      <td>6Ff53KvcvAj5U7Z1vojB5o</td>\n      <td>*NSYNC</td>\n      <td>3bhFoH4PFnY4ifK4981U8X</td>\n      <td>270893</td>\n      <td>2014-07-29</td>\n      <td>30</td>\n      <td>0.537</td>\n      <td>0.606</td>\n      <td>...</td>\n      <td>0.648079</td>\n      <td>1</td>\n      <td>0.0382</td>\n      <td>0.3920</td>\n      <td>0.000000</td>\n      <td>0.0903</td>\n      <td>0.411</td>\n      <td>0.345216</td>\n      <td>0S2AEPvmKGcdRYgqQP7MXq</td>\n      <td>0S2AEPvmKGcdRYgqQP7MXq</td>\n    </tr>\n    <tr>\n      <th>1191</th>\n      <td>4VqXJoSWd0ldZ7h9pgkFWg</td>\n      <td>A Little Bit</td>\n      <td>2tFN9ubMXEhdAQvdQxcsma</td>\n      <td>Jessica Simpson</td>\n      <td>0QKZ96QQH4lxtr2e4aQLLE</td>\n      <td>227440</td>\n      <td>2001-01-01</td>\n      <td>26</td>\n      <td>0.695</td>\n      <td>0.929</td>\n      <td>...</td>\n      <td>0.836804</td>\n      <td>0</td>\n      <td>0.0750</td>\n      <td>0.1420</td>\n      <td>0.000000</td>\n      <td>0.4100</td>\n      <td>0.796</td>\n      <td>0.225410</td>\n      <td>4VqXJoSWd0ldZ7h9pgkFWg</td>\n      <td>4VqXJoSWd0ldZ7h9pgkFWg</td>\n    </tr>\n  </tbody>\n</table>\n<p>1192 rows × 21 columns</p>\n</div>"
     },
     "metadata": {},
     "execution_count": 36
    }
   ],
   "source": [
    "#read data\n",
    "britney_df=pd.read_csv(\"data/Britney Spears_playlist_tracks_data.csv\")\n",
    "#normalize loudness and tempo\n",
    "scaler = MinMaxScaler()\n",
    "britney_df['loudness'] = scaler.fit_transform(britney_df[['loudness']])\n",
    "britney_df['tempo'] =  scaler.fit_transform(britney_df[['tempo']])\n",
    "britney_df  ## QUESTION 1\n"
   ]
  },
  {
   "cell_type": "code",
   "execution_count": 37,
   "metadata": {},
   "outputs": [],
   "source": [
    "# Input seed track here\n",
    "seed_track_name = 'Oops!...I Did It Again'"
   ]
  },
  {
   "cell_type": "code",
   "execution_count": 38,
   "metadata": {},
   "outputs": [],
   "source": [
    "feature_cols = ['danceability', 'energy',\\\n",
    "       'loudness', 'speechiness', 'acousticness', 'instrumentalness',\\\n",
    "       'liveness', 'valence', 'tempo']"
   ]
  },
  {
   "cell_type": "code",
   "execution_count": 39,
   "metadata": {},
   "outputs": [],
   "source": [
    "# seed_track_data = chart_tracks_df[chart_tracks_df['track_name']==seed_track_name].iloc[0]\n",
    "# seed_track_data[feature_cols]"
   ]
  },
  {
   "cell_type": "code",
   "execution_count": 40,
   "metadata": {},
   "outputs": [
    {
     "output_type": "execute_result",
     "data": {
      "text/plain": [
       "danceability          0.7740\n",
       "energy                0.8380\n",
       "loudness             -3.9140\n",
       "speechiness           0.1140\n",
       "acousticness          0.0249\n",
       "instrumentalness      0.0250\n",
       "liveness              0.2420\n",
       "valence               0.9240\n",
       "tempo               143.0400\n",
       "Name: 1, dtype: float64"
      ]
     },
     "metadata": {},
     "execution_count": 40
    }
   ],
   "source": [
    "seed_track_data = pd.read_csv('data/Britney Spears_playlist_tracks_data.csv')\n",
    "seed_track_data = seed_track_data[feature_cols].iloc[1]\n",
    "seed_track_data"
   ]
  },
  {
   "cell_type": "code",
   "execution_count": 41,
   "metadata": {},
   "outputs": [
    {
     "output_type": "execute_result",
     "data": {
      "text/plain": [
       "danceability                         0.774\n",
       "energy                               0.838\n",
       "loudness                            -3.914\n",
       "speechiness                          0.114\n",
       "acousticness                        0.0249\n",
       "instrumentalness                     0.025\n",
       "liveness                             0.242\n",
       "valence                              0.924\n",
       "tempo                               143.04\n",
       "track_id            6naxalmIoLFWR0siv8dnQQ\n",
       "Name: 1, dtype: object"
      ]
     },
     "metadata": {},
     "execution_count": 41
    }
   ],
   "source": [
    "seed_track_data['track_id'] = '6naxalmIoLFWR0siv8dnQQ'\n",
    "seed_track_data"
   ]
  },
  {
   "cell_type": "code",
   "execution_count": 42,
   "metadata": {},
   "outputs": [],
   "source": [
    "from sklearn.metrics.pairwise import euclidean_distances, manhattan_distances, cosine_similarity"
   ]
  },
  {
   "cell_type": "code",
   "execution_count": 43,
   "metadata": {},
   "outputs": [
    {
     "output_type": "execute_result",
     "data": {
      "text/plain": [
       "                                             track_name     artist_name  \\\n",
       "2571                                    Blueberry Faygo       Lil Mosey   \n",
       "1823  Wonderful Christmastime [Edited Version] - Rem...  Paul McCartney   \n",
       "3239                              Cozy Little Christmas      Katy Perry   \n",
       "450                                           Attention    Charlie Puth   \n",
       "94                                    Cake By The Ocean            DNCE   \n",
       "1299                                 Shout Out to My Ex      Little Mix   \n",
       "3222  Wonderful Christmastime - Edited Version / Rem...  Paul McCartney   \n",
       "29                                   Shout Out to My Ex      Little Mix   \n",
       "1467                         all the kids are depressed   Jeremy Zucker   \n",
       "43                                     I Feel It Coming      The Weeknd   \n",
       "\n",
       "      euclidean_dist predicted_genre  danceability  energy  loudness  \\\n",
       "2571           0.000             pop         0.774   0.554  0.669028   \n",
       "1823           0.000          reggae         0.774   0.511  0.627881   \n",
       "3239           0.000             pop         0.774   0.608  0.736377   \n",
       "450            0.000          reggae         0.774   0.626  0.811382   \n",
       "94             0.000          reggae         0.774   0.764  0.769908   \n",
       "1299           0.000             pop         0.774   0.739  0.828168   \n",
       "3222           0.000          reggae         0.774   0.511  0.627881   \n",
       "29             0.000             pop         0.774   0.739  0.828168   \n",
       "1467           0.001            jazz         0.773   0.437  0.653797   \n",
       "43             0.001          reggae         0.773   0.819  0.749396   \n",
       "\n",
       "      speechiness  acousticness  instrumentalness  liveness  valence     tempo  \n",
       "2571       0.0383        0.2070          0.000000    0.1320    0.349  0.285888  \n",
       "1823       0.0319        0.3220          0.000000    0.0672    0.771  0.259442  \n",
       "3239       0.1280        0.1280          0.000000    0.0895    0.560  0.522539  \n",
       "450        0.0432        0.0969          0.000031    0.0848    0.777  0.292085  \n",
       "94         0.0518        0.1560          0.000000    0.0383    0.912  0.408724  \n",
       "1299       0.0952        0.0316          0.000006    0.1190    0.823  0.451827  \n",
       "3222       0.0319        0.3220          0.000000    0.0672    0.771  0.259442  \n",
       "29         0.0952        0.0316          0.000006    0.1190    0.823  0.451827  \n",
       "1467       0.0963        0.8360          0.000024    0.5440    0.707  0.315590  \n",
       "43         0.1180        0.4260          0.000000    0.0679    0.585  0.248699  "
      ],
      "text/html": "<div>\n<style scoped>\n    .dataframe tbody tr th:only-of-type {\n        vertical-align: middle;\n    }\n\n    .dataframe tbody tr th {\n        vertical-align: top;\n    }\n\n    .dataframe thead th {\n        text-align: right;\n    }\n</style>\n<table border=\"1\" class=\"dataframe\">\n  <thead>\n    <tr style=\"text-align: right;\">\n      <th></th>\n      <th>track_name</th>\n      <th>artist_name</th>\n      <th>euclidean_dist</th>\n      <th>predicted_genre</th>\n      <th>danceability</th>\n      <th>energy</th>\n      <th>loudness</th>\n      <th>speechiness</th>\n      <th>acousticness</th>\n      <th>instrumentalness</th>\n      <th>liveness</th>\n      <th>valence</th>\n      <th>tempo</th>\n    </tr>\n  </thead>\n  <tbody>\n    <tr>\n      <th>2571</th>\n      <td>Blueberry Faygo</td>\n      <td>Lil Mosey</td>\n      <td>0.000</td>\n      <td>pop</td>\n      <td>0.774</td>\n      <td>0.554</td>\n      <td>0.669028</td>\n      <td>0.0383</td>\n      <td>0.2070</td>\n      <td>0.000000</td>\n      <td>0.1320</td>\n      <td>0.349</td>\n      <td>0.285888</td>\n    </tr>\n    <tr>\n      <th>1823</th>\n      <td>Wonderful Christmastime [Edited Version] - Rem...</td>\n      <td>Paul McCartney</td>\n      <td>0.000</td>\n      <td>reggae</td>\n      <td>0.774</td>\n      <td>0.511</td>\n      <td>0.627881</td>\n      <td>0.0319</td>\n      <td>0.3220</td>\n      <td>0.000000</td>\n      <td>0.0672</td>\n      <td>0.771</td>\n      <td>0.259442</td>\n    </tr>\n    <tr>\n      <th>3239</th>\n      <td>Cozy Little Christmas</td>\n      <td>Katy Perry</td>\n      <td>0.000</td>\n      <td>pop</td>\n      <td>0.774</td>\n      <td>0.608</td>\n      <td>0.736377</td>\n      <td>0.1280</td>\n      <td>0.1280</td>\n      <td>0.000000</td>\n      <td>0.0895</td>\n      <td>0.560</td>\n      <td>0.522539</td>\n    </tr>\n    <tr>\n      <th>450</th>\n      <td>Attention</td>\n      <td>Charlie Puth</td>\n      <td>0.000</td>\n      <td>reggae</td>\n      <td>0.774</td>\n      <td>0.626</td>\n      <td>0.811382</td>\n      <td>0.0432</td>\n      <td>0.0969</td>\n      <td>0.000031</td>\n      <td>0.0848</td>\n      <td>0.777</td>\n      <td>0.292085</td>\n    </tr>\n    <tr>\n      <th>94</th>\n      <td>Cake By The Ocean</td>\n      <td>DNCE</td>\n      <td>0.000</td>\n      <td>reggae</td>\n      <td>0.774</td>\n      <td>0.764</td>\n      <td>0.769908</td>\n      <td>0.0518</td>\n      <td>0.1560</td>\n      <td>0.000000</td>\n      <td>0.0383</td>\n      <td>0.912</td>\n      <td>0.408724</td>\n    </tr>\n    <tr>\n      <th>1299</th>\n      <td>Shout Out to My Ex</td>\n      <td>Little Mix</td>\n      <td>0.000</td>\n      <td>pop</td>\n      <td>0.774</td>\n      <td>0.739</td>\n      <td>0.828168</td>\n      <td>0.0952</td>\n      <td>0.0316</td>\n      <td>0.000006</td>\n      <td>0.1190</td>\n      <td>0.823</td>\n      <td>0.451827</td>\n    </tr>\n    <tr>\n      <th>3222</th>\n      <td>Wonderful Christmastime - Edited Version / Rem...</td>\n      <td>Paul McCartney</td>\n      <td>0.000</td>\n      <td>reggae</td>\n      <td>0.774</td>\n      <td>0.511</td>\n      <td>0.627881</td>\n      <td>0.0319</td>\n      <td>0.3220</td>\n      <td>0.000000</td>\n      <td>0.0672</td>\n      <td>0.771</td>\n      <td>0.259442</td>\n    </tr>\n    <tr>\n      <th>29</th>\n      <td>Shout Out to My Ex</td>\n      <td>Little Mix</td>\n      <td>0.000</td>\n      <td>pop</td>\n      <td>0.774</td>\n      <td>0.739</td>\n      <td>0.828168</td>\n      <td>0.0952</td>\n      <td>0.0316</td>\n      <td>0.000006</td>\n      <td>0.1190</td>\n      <td>0.823</td>\n      <td>0.451827</td>\n    </tr>\n    <tr>\n      <th>1467</th>\n      <td>all the kids are depressed</td>\n      <td>Jeremy Zucker</td>\n      <td>0.001</td>\n      <td>jazz</td>\n      <td>0.773</td>\n      <td>0.437</td>\n      <td>0.653797</td>\n      <td>0.0963</td>\n      <td>0.8360</td>\n      <td>0.000024</td>\n      <td>0.5440</td>\n      <td>0.707</td>\n      <td>0.315590</td>\n    </tr>\n    <tr>\n      <th>43</th>\n      <td>I Feel It Coming</td>\n      <td>The Weeknd</td>\n      <td>0.001</td>\n      <td>reggae</td>\n      <td>0.773</td>\n      <td>0.819</td>\n      <td>0.749396</td>\n      <td>0.1180</td>\n      <td>0.4260</td>\n      <td>0.000000</td>\n      <td>0.0679</td>\n      <td>0.585</td>\n      <td>0.248699</td>\n    </tr>\n  </tbody>\n</table>\n</div>"
     },
     "metadata": {},
     "execution_count": 43
    }
   ],
   "source": [
    "chart_tracks_df['euclidean_dist'] = chart_tracks_df.apply(lambda x: euclidean_distances(x[feature_cols].values.reshape(-1, 1),\\\n",
    "                                                                  seed_track_data[feature_cols].values.reshape(-1, 1))\\\n",
    "                                                                  .flatten()[0], axis=1)\n",
    "#get top 10 nearest to seed_track_data\n",
    "recommendation_df = chart_tracks_df[chart_tracks_df['track_id']!=seed_track_data['track_id']].sort_values('euclidean_dist')[:10]\n",
    "recommendation_df[['track_name','artist_name','euclidean_dist','predicted_genre']+feature_cols]"
   ]
  },
  {
   "cell_type": "code",
   "execution_count": 44,
   "metadata": {},
   "outputs": [
    {
     "output_type": "execute_result",
     "data": {
      "text/plain": [
       "                                             track_name     artist_name  \\\n",
       "450                                           Attention    Charlie Puth   \n",
       "94                                    Cake By The Ocean            DNCE   \n",
       "1823  Wonderful Christmastime [Edited Version] - Rem...  Paul McCartney   \n",
       "2571                                    Blueberry Faygo       Lil Mosey   \n",
       "3222  Wonderful Christmastime - Edited Version / Rem...  Paul McCartney   \n",
       "3239                              Cozy Little Christmas      Katy Perry   \n",
       "1299                                 Shout Out to My Ex      Little Mix   \n",
       "29                                   Shout Out to My Ex      Little Mix   \n",
       "615                                           All Stars  Martin Solveig   \n",
       "2780                                             OXYGEN           TWICE   \n",
       "\n",
       "      manhattan_dist predicted_genre  danceability  energy  loudness  \\\n",
       "450            0.000          reggae         0.774   0.626  0.811382   \n",
       "94             0.000          reggae         0.774   0.764  0.769908   \n",
       "1823           0.000          reggae         0.774   0.511  0.627881   \n",
       "2571           0.000             pop         0.774   0.554  0.669028   \n",
       "3222           0.000          reggae         0.774   0.511  0.627881   \n",
       "3239           0.000             pop         0.774   0.608  0.736377   \n",
       "1299           0.000             pop         0.774   0.739  0.828168   \n",
       "29             0.000             pop         0.774   0.739  0.828168   \n",
       "615            0.001          reggae         0.775   0.722  0.849458   \n",
       "2780           0.001             pop         0.775   0.870  0.820962   \n",
       "\n",
       "      speechiness  acousticness  instrumentalness  liveness  valence     tempo  \n",
       "450        0.0432        0.0969          0.000031    0.0848    0.777  0.292085  \n",
       "94         0.0518        0.1560          0.000000    0.0383    0.912  0.408724  \n",
       "1823       0.0319        0.3220          0.000000    0.0672    0.771  0.259442  \n",
       "2571       0.0383        0.2070          0.000000    0.1320    0.349  0.285888  \n",
       "3222       0.0319        0.3220          0.000000    0.0672    0.771  0.259442  \n",
       "3239       0.1280        0.1280          0.000000    0.0895    0.560  0.522539  \n",
       "1299       0.0952        0.0316          0.000006    0.1190    0.823  0.451827  \n",
       "29         0.0952        0.0316          0.000006    0.1190    0.823  0.451827  \n",
       "615        0.0463        0.1510          0.000724    0.0580    0.649  0.439736  \n",
       "2780       0.0576        0.0564          0.000003    0.2730    0.501  0.476156  "
      ],
      "text/html": "<div>\n<style scoped>\n    .dataframe tbody tr th:only-of-type {\n        vertical-align: middle;\n    }\n\n    .dataframe tbody tr th {\n        vertical-align: top;\n    }\n\n    .dataframe thead th {\n        text-align: right;\n    }\n</style>\n<table border=\"1\" class=\"dataframe\">\n  <thead>\n    <tr style=\"text-align: right;\">\n      <th></th>\n      <th>track_name</th>\n      <th>artist_name</th>\n      <th>manhattan_dist</th>\n      <th>predicted_genre</th>\n      <th>danceability</th>\n      <th>energy</th>\n      <th>loudness</th>\n      <th>speechiness</th>\n      <th>acousticness</th>\n      <th>instrumentalness</th>\n      <th>liveness</th>\n      <th>valence</th>\n      <th>tempo</th>\n    </tr>\n  </thead>\n  <tbody>\n    <tr>\n      <th>450</th>\n      <td>Attention</td>\n      <td>Charlie Puth</td>\n      <td>0.000</td>\n      <td>reggae</td>\n      <td>0.774</td>\n      <td>0.626</td>\n      <td>0.811382</td>\n      <td>0.0432</td>\n      <td>0.0969</td>\n      <td>0.000031</td>\n      <td>0.0848</td>\n      <td>0.777</td>\n      <td>0.292085</td>\n    </tr>\n    <tr>\n      <th>94</th>\n      <td>Cake By The Ocean</td>\n      <td>DNCE</td>\n      <td>0.000</td>\n      <td>reggae</td>\n      <td>0.774</td>\n      <td>0.764</td>\n      <td>0.769908</td>\n      <td>0.0518</td>\n      <td>0.1560</td>\n      <td>0.000000</td>\n      <td>0.0383</td>\n      <td>0.912</td>\n      <td>0.408724</td>\n    </tr>\n    <tr>\n      <th>1823</th>\n      <td>Wonderful Christmastime [Edited Version] - Rem...</td>\n      <td>Paul McCartney</td>\n      <td>0.000</td>\n      <td>reggae</td>\n      <td>0.774</td>\n      <td>0.511</td>\n      <td>0.627881</td>\n      <td>0.0319</td>\n      <td>0.3220</td>\n      <td>0.000000</td>\n      <td>0.0672</td>\n      <td>0.771</td>\n      <td>0.259442</td>\n    </tr>\n    <tr>\n      <th>2571</th>\n      <td>Blueberry Faygo</td>\n      <td>Lil Mosey</td>\n      <td>0.000</td>\n      <td>pop</td>\n      <td>0.774</td>\n      <td>0.554</td>\n      <td>0.669028</td>\n      <td>0.0383</td>\n      <td>0.2070</td>\n      <td>0.000000</td>\n      <td>0.1320</td>\n      <td>0.349</td>\n      <td>0.285888</td>\n    </tr>\n    <tr>\n      <th>3222</th>\n      <td>Wonderful Christmastime - Edited Version / Rem...</td>\n      <td>Paul McCartney</td>\n      <td>0.000</td>\n      <td>reggae</td>\n      <td>0.774</td>\n      <td>0.511</td>\n      <td>0.627881</td>\n      <td>0.0319</td>\n      <td>0.3220</td>\n      <td>0.000000</td>\n      <td>0.0672</td>\n      <td>0.771</td>\n      <td>0.259442</td>\n    </tr>\n    <tr>\n      <th>3239</th>\n      <td>Cozy Little Christmas</td>\n      <td>Katy Perry</td>\n      <td>0.000</td>\n      <td>pop</td>\n      <td>0.774</td>\n      <td>0.608</td>\n      <td>0.736377</td>\n      <td>0.1280</td>\n      <td>0.1280</td>\n      <td>0.000000</td>\n      <td>0.0895</td>\n      <td>0.560</td>\n      <td>0.522539</td>\n    </tr>\n    <tr>\n      <th>1299</th>\n      <td>Shout Out to My Ex</td>\n      <td>Little Mix</td>\n      <td>0.000</td>\n      <td>pop</td>\n      <td>0.774</td>\n      <td>0.739</td>\n      <td>0.828168</td>\n      <td>0.0952</td>\n      <td>0.0316</td>\n      <td>0.000006</td>\n      <td>0.1190</td>\n      <td>0.823</td>\n      <td>0.451827</td>\n    </tr>\n    <tr>\n      <th>29</th>\n      <td>Shout Out to My Ex</td>\n      <td>Little Mix</td>\n      <td>0.000</td>\n      <td>pop</td>\n      <td>0.774</td>\n      <td>0.739</td>\n      <td>0.828168</td>\n      <td>0.0952</td>\n      <td>0.0316</td>\n      <td>0.000006</td>\n      <td>0.1190</td>\n      <td>0.823</td>\n      <td>0.451827</td>\n    </tr>\n    <tr>\n      <th>615</th>\n      <td>All Stars</td>\n      <td>Martin Solveig</td>\n      <td>0.001</td>\n      <td>reggae</td>\n      <td>0.775</td>\n      <td>0.722</td>\n      <td>0.849458</td>\n      <td>0.0463</td>\n      <td>0.1510</td>\n      <td>0.000724</td>\n      <td>0.0580</td>\n      <td>0.649</td>\n      <td>0.439736</td>\n    </tr>\n    <tr>\n      <th>2780</th>\n      <td>OXYGEN</td>\n      <td>TWICE</td>\n      <td>0.001</td>\n      <td>pop</td>\n      <td>0.775</td>\n      <td>0.870</td>\n      <td>0.820962</td>\n      <td>0.0576</td>\n      <td>0.0564</td>\n      <td>0.000003</td>\n      <td>0.2730</td>\n      <td>0.501</td>\n      <td>0.476156</td>\n    </tr>\n  </tbody>\n</table>\n</div>"
     },
     "metadata": {},
     "execution_count": 44
    }
   ],
   "source": [
    "chart_tracks_df['manhattan_dist'] = chart_tracks_df.apply(lambda x: manhattan_distances(x[feature_cols].values.reshape(-1, 1),\\\n",
    "                                                                  seed_track_data[feature_cols].values.reshape(-1, 1))\\\n",
    "                                                                  .flatten()[0], axis=1)\n",
    "#get top 10 nearest to seed_track_data\n",
    "recommendation_df = chart_tracks_df[chart_tracks_df['track_id']!=seed_track_data['track_id']].sort_values('manhattan_dist')[:10]\n",
    "recommendation_df[['track_name','artist_name','manhattan_dist','predicted_genre']+feature_cols]"
   ]
  },
  {
   "cell_type": "code",
   "execution_count": 45,
   "metadata": {},
   "outputs": [
    {
     "output_type": "execute_result",
     "data": {
      "text/plain": [
       "                                             track_name           artist_name  \\\n",
       "3244                          Snowfall on Christmas Eve  The Rossman Ensemble   \n",
       "1600  Kahit Maputi Na Ang Buhok ko - From \"The Hows ...      Moira Dela Torre   \n",
       "1781                                            Demonyo           juan karlos   \n",
       "3412                     Untouchable (Taylor’s Version)          Taylor Swift   \n",
       "1529         Closer You and I - From \"Loving in Tandem\"    Michael Pangilinan   \n",
       "755                         Dusk Till Dawn - Radio Edit                  ZAYN   \n",
       "808                                                Pray             Sam Smith   \n",
       "1011                                           Bibingka               Ben&Ben   \n",
       "2977                             The Bells At Christmas        Jose Mari Chan   \n",
       "1085                                      The Good Side           Troye Sivan   \n",
       "\n",
       "      cosine_dist predicted_genre  danceability  energy  loudness  \\\n",
       "3244     0.300439          reggae         0.575   0.411  0.536663   \n",
       "1600     0.331884         country         0.264   0.273  0.638649   \n",
       "1781     0.334029             pop         0.415   0.508  0.617441   \n",
       "3412     0.349277             pop         0.393   0.531  0.742600   \n",
       "1529     0.349364             pop         0.207   0.535  0.713613   \n",
       "755      0.356358             pop         0.258   0.437  0.722907   \n",
       "808      0.360518             pop         0.381   0.379  0.609621   \n",
       "1011     0.367287            jazz         0.356   0.229  0.502149   \n",
       "2977     0.369371         country         0.227   0.352  0.572242   \n",
       "1085     0.375492            jazz         0.424   0.259  0.316929   \n",
       "\n",
       "      speechiness  acousticness  instrumentalness  liveness  valence     tempo  \n",
       "3244       0.0722        0.0251          0.069300    0.0751   0.4620  1.000000  \n",
       "1600       0.0312        0.5350          0.000000    0.2070   0.3150  0.911930  \n",
       "1781       0.0363        0.0509          0.016200    0.1030   0.1140  0.837889  \n",
       "3412       0.0329        0.0181          0.000000    0.1690   0.2240  0.909555  \n",
       "1529       0.0414        0.2010          0.000000    0.3360   0.2640  0.906589  \n",
       "755        0.0390        0.1010          0.000001    0.1060   0.0967  0.784350  \n",
       "808        0.0501        0.2920          0.000003    0.0864   0.1530  0.753732  \n",
       "1011       0.0328        0.7970          0.000000    0.1120   0.4310  0.932217  \n",
       "2977       0.0321        0.3160          0.000001    0.1290   0.6760  0.856871  \n",
       "1085       0.0531        0.4180          0.002470    0.3540   0.3160  0.696434  "
      ],
      "text/html": "<div>\n<style scoped>\n    .dataframe tbody tr th:only-of-type {\n        vertical-align: middle;\n    }\n\n    .dataframe tbody tr th {\n        vertical-align: top;\n    }\n\n    .dataframe thead th {\n        text-align: right;\n    }\n</style>\n<table border=\"1\" class=\"dataframe\">\n  <thead>\n    <tr style=\"text-align: right;\">\n      <th></th>\n      <th>track_name</th>\n      <th>artist_name</th>\n      <th>cosine_dist</th>\n      <th>predicted_genre</th>\n      <th>danceability</th>\n      <th>energy</th>\n      <th>loudness</th>\n      <th>speechiness</th>\n      <th>acousticness</th>\n      <th>instrumentalness</th>\n      <th>liveness</th>\n      <th>valence</th>\n      <th>tempo</th>\n    </tr>\n  </thead>\n  <tbody>\n    <tr>\n      <th>3244</th>\n      <td>Snowfall on Christmas Eve</td>\n      <td>The Rossman Ensemble</td>\n      <td>0.300439</td>\n      <td>reggae</td>\n      <td>0.575</td>\n      <td>0.411</td>\n      <td>0.536663</td>\n      <td>0.0722</td>\n      <td>0.0251</td>\n      <td>0.069300</td>\n      <td>0.0751</td>\n      <td>0.4620</td>\n      <td>1.000000</td>\n    </tr>\n    <tr>\n      <th>1600</th>\n      <td>Kahit Maputi Na Ang Buhok ko - From \"The Hows ...</td>\n      <td>Moira Dela Torre</td>\n      <td>0.331884</td>\n      <td>country</td>\n      <td>0.264</td>\n      <td>0.273</td>\n      <td>0.638649</td>\n      <td>0.0312</td>\n      <td>0.5350</td>\n      <td>0.000000</td>\n      <td>0.2070</td>\n      <td>0.3150</td>\n      <td>0.911930</td>\n    </tr>\n    <tr>\n      <th>1781</th>\n      <td>Demonyo</td>\n      <td>juan karlos</td>\n      <td>0.334029</td>\n      <td>pop</td>\n      <td>0.415</td>\n      <td>0.508</td>\n      <td>0.617441</td>\n      <td>0.0363</td>\n      <td>0.0509</td>\n      <td>0.016200</td>\n      <td>0.1030</td>\n      <td>0.1140</td>\n      <td>0.837889</td>\n    </tr>\n    <tr>\n      <th>3412</th>\n      <td>Untouchable (Taylor’s Version)</td>\n      <td>Taylor Swift</td>\n      <td>0.349277</td>\n      <td>pop</td>\n      <td>0.393</td>\n      <td>0.531</td>\n      <td>0.742600</td>\n      <td>0.0329</td>\n      <td>0.0181</td>\n      <td>0.000000</td>\n      <td>0.1690</td>\n      <td>0.2240</td>\n      <td>0.909555</td>\n    </tr>\n    <tr>\n      <th>1529</th>\n      <td>Closer You and I - From \"Loving in Tandem\"</td>\n      <td>Michael Pangilinan</td>\n      <td>0.349364</td>\n      <td>pop</td>\n      <td>0.207</td>\n      <td>0.535</td>\n      <td>0.713613</td>\n      <td>0.0414</td>\n      <td>0.2010</td>\n      <td>0.000000</td>\n      <td>0.3360</td>\n      <td>0.2640</td>\n      <td>0.906589</td>\n    </tr>\n    <tr>\n      <th>755</th>\n      <td>Dusk Till Dawn - Radio Edit</td>\n      <td>ZAYN</td>\n      <td>0.356358</td>\n      <td>pop</td>\n      <td>0.258</td>\n      <td>0.437</td>\n      <td>0.722907</td>\n      <td>0.0390</td>\n      <td>0.1010</td>\n      <td>0.000001</td>\n      <td>0.1060</td>\n      <td>0.0967</td>\n      <td>0.784350</td>\n    </tr>\n    <tr>\n      <th>808</th>\n      <td>Pray</td>\n      <td>Sam Smith</td>\n      <td>0.360518</td>\n      <td>pop</td>\n      <td>0.381</td>\n      <td>0.379</td>\n      <td>0.609621</td>\n      <td>0.0501</td>\n      <td>0.2920</td>\n      <td>0.000003</td>\n      <td>0.0864</td>\n      <td>0.1530</td>\n      <td>0.753732</td>\n    </tr>\n    <tr>\n      <th>1011</th>\n      <td>Bibingka</td>\n      <td>Ben&amp;Ben</td>\n      <td>0.367287</td>\n      <td>jazz</td>\n      <td>0.356</td>\n      <td>0.229</td>\n      <td>0.502149</td>\n      <td>0.0328</td>\n      <td>0.7970</td>\n      <td>0.000000</td>\n      <td>0.1120</td>\n      <td>0.4310</td>\n      <td>0.932217</td>\n    </tr>\n    <tr>\n      <th>2977</th>\n      <td>The Bells At Christmas</td>\n      <td>Jose Mari Chan</td>\n      <td>0.369371</td>\n      <td>country</td>\n      <td>0.227</td>\n      <td>0.352</td>\n      <td>0.572242</td>\n      <td>0.0321</td>\n      <td>0.3160</td>\n      <td>0.000001</td>\n      <td>0.1290</td>\n      <td>0.6760</td>\n      <td>0.856871</td>\n    </tr>\n    <tr>\n      <th>1085</th>\n      <td>The Good Side</td>\n      <td>Troye Sivan</td>\n      <td>0.375492</td>\n      <td>jazz</td>\n      <td>0.424</td>\n      <td>0.259</td>\n      <td>0.316929</td>\n      <td>0.0531</td>\n      <td>0.4180</td>\n      <td>0.002470</td>\n      <td>0.3540</td>\n      <td>0.3160</td>\n      <td>0.696434</td>\n    </tr>\n  </tbody>\n</table>\n</div>"
     },
     "metadata": {},
     "execution_count": 45
    }
   ],
   "source": [
    "#compute cosine distances, audio features only\n",
    "chart_tracks_df['cosine_dist'] = chart_tracks_df.apply(lambda x: 1-cosine_similarity(x[feature_cols].values.reshape(1, -1),\\\n",
    "                                                                  seed_track_data[feature_cols].values.reshape(1, -1))\\\n",
    "                                                                  .flatten()[0], axis=1)\n",
    "\n",
    "chart_tracks_df.sort_values(by='cosine_dist',ascending=False).head()\n",
    "\n",
    "#get top 10 nearest to seed_track_data\n",
    "recommendation_df = chart_tracks_df[chart_tracks_df['track_id']!=seed_track_data['track_id']].sort_values('cosine_dist')[:10]\n",
    "recommendation_df[['track_name','artist_name','cosine_dist','predicted_genre']+feature_cols]"
   ]
  },
  {
   "cell_type": "code",
   "execution_count": 46,
   "metadata": {},
   "outputs": [
    {
     "output_type": "execute_result",
     "data": {
      "text/plain": [
       "array([[<AxesSubplot:title={'center':'euclidean_dist'}>,\n",
       "        <AxesSubplot:title={'center':'manhattan_dist'}>],\n",
       "       [<AxesSubplot:title={'center':'cosine_dist'}>, <AxesSubplot:>]],\n",
       "      dtype=object)"
      ]
     },
     "metadata": {},
     "execution_count": 46
    },
    {
     "output_type": "display_data",
     "data": {
      "text/plain": "<Figure size 432x288 with 4 Axes>",
      "image/svg+xml": "<?xml version=\"1.0\" encoding=\"utf-8\" standalone=\"no\"?>\n<!DOCTYPE svg PUBLIC \"-//W3C//DTD SVG 1.1//EN\"\n  \"http://www.w3.org/Graphics/SVG/1.1/DTD/svg11.dtd\">\n<svg height=\"263.63625pt\" version=\"1.1\" viewBox=\"0 0 376.622462 263.63625\" width=\"376.622462pt\" xmlns=\"http://www.w3.org/2000/svg\" xmlns:xlink=\"http://www.w3.org/1999/xlink\">\n <metadata>\n  <rdf:RDF xmlns:cc=\"http://creativecommons.org/ns#\" xmlns:dc=\"http://purl.org/dc/elements/1.1/\" xmlns:rdf=\"http://www.w3.org/1999/02/22-rdf-syntax-ns#\">\n   <cc:Work>\n    <dc:type rdf:resource=\"http://purl.org/dc/dcmitype/StillImage\"/>\n    <dc:date>2021-06-04T06:09:56.019041</dc:date>\n    <dc:format>image/svg+xml</dc:format>\n    <dc:creator>\n     <cc:Agent>\n      <dc:title>Matplotlib v3.4.2, https://matplotlib.org/</dc:title>\n     </cc:Agent>\n    </dc:creator>\n   </cc:Work>\n  </rdf:RDF>\n </metadata>\n <defs>\n  <style type=\"text/css\">*{stroke-linecap:butt;stroke-linejoin:round;}</style>\n </defs>\n <g id=\"figure_1\">\n  <g id=\"patch_1\">\n   <path d=\"M 0 263.63625 \nL 376.622462 263.63625 \nL 376.622462 0 \nL 0 0 \nz\n\" style=\"fill:none;\"/>\n  </g>\n  <g id=\"axes_1\">\n   <g id=\"patch_2\">\n    <path d=\"M 33.2875 116.857255 \nL 178.852717 116.857255 \nL 178.852717 22.318125 \nL 33.2875 22.318125 \nz\n\" style=\"fill:#ffffff;\"/>\n   </g>\n   <g id=\"patch_3\">\n    <path clip-path=\"url(#pb5ecdecf04)\" d=\"M 39.904101 116.857255 \nL 53.137302 116.857255 \nL 53.137302 26.819988 \nL 39.904101 26.819988 \nz\n\" style=\"fill:#1f77b4;\"/>\n   </g>\n   <g id=\"patch_4\">\n    <path clip-path=\"url(#pb5ecdecf04)\" d=\"M 53.137302 116.857255 \nL 66.370504 116.857255 \nL 66.370504 31.792034 \nL 53.137302 31.792034 \nz\n\" style=\"fill:#1f77b4;\"/>\n   </g>\n   <g id=\"patch_5\">\n    <path clip-path=\"url(#pb5ecdecf04)\" d=\"M 66.370504 116.857255 \nL 79.603706 116.857255 \nL 79.603706 49.734635 \nL 66.370504 49.734635 \nz\n\" style=\"fill:#1f77b4;\"/>\n   </g>\n   <g id=\"patch_6\">\n    <path clip-path=\"url(#pb5ecdecf04)\" d=\"M 79.603706 116.857255 \nL 92.836907 116.857255 \nL 92.836907 68.217675 \nL 79.603706 68.217675 \nz\n\" style=\"fill:#1f77b4;\"/>\n   </g>\n   <g id=\"patch_7\">\n    <path clip-path=\"url(#pb5ecdecf04)\" d=\"M 92.836907 116.857255 \nL 106.070109 116.857255 \nL 106.070109 80.323526 \nL 92.836907 80.323526 \nz\n\" style=\"fill:#1f77b4;\"/>\n   </g>\n   <g id=\"patch_8\">\n    <path clip-path=\"url(#pb5ecdecf04)\" d=\"M 106.070109 116.857255 \nL 119.30331 116.857255 \nL 119.30331 95.023488 \nL 106.070109 95.023488 \nz\n\" style=\"fill:#1f77b4;\"/>\n   </g>\n   <g id=\"patch_9\">\n    <path clip-path=\"url(#pb5ecdecf04)\" d=\"M 119.30331 116.857255 \nL 132.536512 116.857255 \nL 132.536512 103.886701 \nL 119.30331 103.886701 \nz\n\" style=\"fill:#1f77b4;\"/>\n   </g>\n   <g id=\"patch_10\">\n    <path clip-path=\"url(#pb5ecdecf04)\" d=\"M 132.536512 116.857255 \nL 145.769713 116.857255 \nL 145.769713 108.642571 \nL 132.536512 108.642571 \nz\n\" style=\"fill:#1f77b4;\"/>\n   </g>\n   <g id=\"patch_11\">\n    <path clip-path=\"url(#pb5ecdecf04)\" d=\"M 145.769713 116.857255 \nL 159.002915 116.857255 \nL 159.002915 111.669034 \nL 145.769713 111.669034 \nz\n\" style=\"fill:#1f77b4;\"/>\n   </g>\n   <g id=\"patch_12\">\n    <path clip-path=\"url(#pb5ecdecf04)\" d=\"M 159.002915 116.857255 \nL 172.236117 116.857255 \nL 172.236117 115.344024 \nL 159.002915 115.344024 \nz\n\" style=\"fill:#1f77b4;\"/>\n   </g>\n   <g id=\"matplotlib.axis_1\">\n    <g id=\"xtick_1\">\n     <g id=\"line2d_1\">\n      <path clip-path=\"url(#pb5ecdecf04)\" d=\"M 39.904101 116.857255 \nL 39.904101 22.318125 \n\" style=\"fill:none;stroke:#b0b0b0;stroke-linecap:square;stroke-width:0.8;\"/>\n     </g>\n     <g id=\"line2d_2\">\n      <defs>\n       <path d=\"M 0 0 \nL 0 3.5 \n\" id=\"mbf1a5574cd\" style=\"stroke:#000000;stroke-width:0.8;\"/>\n      </defs>\n      <g>\n       <use style=\"stroke:#000000;stroke-width:0.8;\" x=\"39.904101\" xlink:href=\"#mbf1a5574cd\" y=\"116.857255\"/>\n      </g>\n     </g>\n     <g id=\"text_1\">\n      <!-- 0.0 -->\n      <g transform=\"translate(31.952538 131.455693)scale(0.1 -0.1)\">\n       <defs>\n        <path d=\"M 2034 4250 \nQ 1547 4250 1301 3770 \nQ 1056 3291 1056 2328 \nQ 1056 1369 1301 889 \nQ 1547 409 2034 409 \nQ 2525 409 2770 889 \nQ 3016 1369 3016 2328 \nQ 3016 3291 2770 3770 \nQ 2525 4250 2034 4250 \nz\nM 2034 4750 \nQ 2819 4750 3233 4129 \nQ 3647 3509 3647 2328 \nQ 3647 1150 3233 529 \nQ 2819 -91 2034 -91 \nQ 1250 -91 836 529 \nQ 422 1150 422 2328 \nQ 422 3509 836 4129 \nQ 1250 4750 2034 4750 \nz\n\" id=\"DejaVuSans-30\" transform=\"scale(0.015625)\"/>\n        <path d=\"M 684 794 \nL 1344 794 \nL 1344 0 \nL 684 0 \nL 684 794 \nz\n\" id=\"DejaVuSans-2e\" transform=\"scale(0.015625)\"/>\n       </defs>\n       <use xlink:href=\"#DejaVuSans-30\"/>\n       <use x=\"63.623047\" xlink:href=\"#DejaVuSans-2e\"/>\n       <use x=\"95.410156\" xlink:href=\"#DejaVuSans-30\"/>\n      </g>\n     </g>\n    </g>\n    <g id=\"xtick_2\">\n     <g id=\"line2d_3\">\n      <path clip-path=\"url(#pb5ecdecf04)\" d=\"M 84.014773 116.857255 \nL 84.014773 22.318125 \n\" style=\"fill:none;stroke:#b0b0b0;stroke-linecap:square;stroke-width:0.8;\"/>\n     </g>\n     <g id=\"line2d_4\">\n      <g>\n       <use style=\"stroke:#000000;stroke-width:0.8;\" x=\"84.014773\" xlink:href=\"#mbf1a5574cd\" y=\"116.857255\"/>\n      </g>\n     </g>\n     <g id=\"text_2\">\n      <!-- 0.2 -->\n      <g transform=\"translate(76.06321 131.455693)scale(0.1 -0.1)\">\n       <defs>\n        <path d=\"M 1228 531 \nL 3431 531 \nL 3431 0 \nL 469 0 \nL 469 531 \nQ 828 903 1448 1529 \nQ 2069 2156 2228 2338 \nQ 2531 2678 2651 2914 \nQ 2772 3150 2772 3378 \nQ 2772 3750 2511 3984 \nQ 2250 4219 1831 4219 \nQ 1534 4219 1204 4116 \nQ 875 4013 500 3803 \nL 500 4441 \nQ 881 4594 1212 4672 \nQ 1544 4750 1819 4750 \nQ 2544 4750 2975 4387 \nQ 3406 4025 3406 3419 \nQ 3406 3131 3298 2873 \nQ 3191 2616 2906 2266 \nQ 2828 2175 2409 1742 \nQ 1991 1309 1228 531 \nz\n\" id=\"DejaVuSans-32\" transform=\"scale(0.015625)\"/>\n       </defs>\n       <use xlink:href=\"#DejaVuSans-30\"/>\n       <use x=\"63.623047\" xlink:href=\"#DejaVuSans-2e\"/>\n       <use x=\"95.410156\" xlink:href=\"#DejaVuSans-32\"/>\n      </g>\n     </g>\n    </g>\n    <g id=\"xtick_3\">\n     <g id=\"line2d_5\">\n      <path clip-path=\"url(#pb5ecdecf04)\" d=\"M 128.125445 116.857255 \nL 128.125445 22.318125 \n\" style=\"fill:none;stroke:#b0b0b0;stroke-linecap:square;stroke-width:0.8;\"/>\n     </g>\n     <g id=\"line2d_6\">\n      <g>\n       <use style=\"stroke:#000000;stroke-width:0.8;\" x=\"128.125445\" xlink:href=\"#mbf1a5574cd\" y=\"116.857255\"/>\n      </g>\n     </g>\n     <g id=\"text_3\">\n      <!-- 0.4 -->\n      <g transform=\"translate(120.173882 131.455693)scale(0.1 -0.1)\">\n       <defs>\n        <path d=\"M 2419 4116 \nL 825 1625 \nL 2419 1625 \nL 2419 4116 \nz\nM 2253 4666 \nL 3047 4666 \nL 3047 1625 \nL 3713 1625 \nL 3713 1100 \nL 3047 1100 \nL 3047 0 \nL 2419 0 \nL 2419 1100 \nL 313 1100 \nL 313 1709 \nL 2253 4666 \nz\n\" id=\"DejaVuSans-34\" transform=\"scale(0.015625)\"/>\n       </defs>\n       <use xlink:href=\"#DejaVuSans-30\"/>\n       <use x=\"63.623047\" xlink:href=\"#DejaVuSans-2e\"/>\n       <use x=\"95.410156\" xlink:href=\"#DejaVuSans-34\"/>\n      </g>\n     </g>\n    </g>\n    <g id=\"xtick_4\">\n     <g id=\"line2d_7\">\n      <path clip-path=\"url(#pb5ecdecf04)\" d=\"M 172.236117 116.857255 \nL 172.236117 22.318125 \n\" style=\"fill:none;stroke:#b0b0b0;stroke-linecap:square;stroke-width:0.8;\"/>\n     </g>\n     <g id=\"line2d_8\">\n      <g>\n       <use style=\"stroke:#000000;stroke-width:0.8;\" x=\"172.236117\" xlink:href=\"#mbf1a5574cd\" y=\"116.857255\"/>\n      </g>\n     </g>\n     <g id=\"text_4\">\n      <!-- 0.6 -->\n      <g transform=\"translate(164.284554 131.455693)scale(0.1 -0.1)\">\n       <defs>\n        <path d=\"M 2113 2584 \nQ 1688 2584 1439 2293 \nQ 1191 2003 1191 1497 \nQ 1191 994 1439 701 \nQ 1688 409 2113 409 \nQ 2538 409 2786 701 \nQ 3034 994 3034 1497 \nQ 3034 2003 2786 2293 \nQ 2538 2584 2113 2584 \nz\nM 3366 4563 \nL 3366 3988 \nQ 3128 4100 2886 4159 \nQ 2644 4219 2406 4219 \nQ 1781 4219 1451 3797 \nQ 1122 3375 1075 2522 \nQ 1259 2794 1537 2939 \nQ 1816 3084 2150 3084 \nQ 2853 3084 3261 2657 \nQ 3669 2231 3669 1497 \nQ 3669 778 3244 343 \nQ 2819 -91 2113 -91 \nQ 1303 -91 875 529 \nQ 447 1150 447 2328 \nQ 447 3434 972 4092 \nQ 1497 4750 2381 4750 \nQ 2619 4750 2861 4703 \nQ 3103 4656 3366 4563 \nz\n\" id=\"DejaVuSans-36\" transform=\"scale(0.015625)\"/>\n       </defs>\n       <use xlink:href=\"#DejaVuSans-30\"/>\n       <use x=\"63.623047\" xlink:href=\"#DejaVuSans-2e\"/>\n       <use x=\"95.410156\" xlink:href=\"#DejaVuSans-36\"/>\n      </g>\n     </g>\n    </g>\n   </g>\n   <g id=\"matplotlib.axis_2\">\n    <g id=\"ytick_1\">\n     <g id=\"line2d_9\">\n      <path clip-path=\"url(#pb5ecdecf04)\" d=\"M 33.2875 116.857255 \nL 178.852717 116.857255 \n\" style=\"fill:none;stroke:#b0b0b0;stroke-linecap:square;stroke-width:0.8;\"/>\n     </g>\n     <g id=\"line2d_10\">\n      <defs>\n       <path d=\"M 0 0 \nL -3.5 0 \n\" id=\"m57a41d2da0\" style=\"stroke:#000000;stroke-width:0.8;\"/>\n      </defs>\n      <g>\n       <use style=\"stroke:#000000;stroke-width:0.8;\" x=\"33.2875\" xlink:href=\"#m57a41d2da0\" y=\"116.857255\"/>\n      </g>\n     </g>\n     <g id=\"text_5\">\n      <!-- 0 -->\n      <g transform=\"translate(19.925 120.656474)scale(0.1 -0.1)\">\n       <use xlink:href=\"#DejaVuSans-30\"/>\n      </g>\n     </g>\n    </g>\n    <g id=\"ytick_2\">\n     <g id=\"line2d_11\">\n      <path clip-path=\"url(#pb5ecdecf04)\" d=\"M 33.2875 89.835267 \nL 178.852717 89.835267 \n\" style=\"fill:none;stroke:#b0b0b0;stroke-linecap:square;stroke-width:0.8;\"/>\n     </g>\n     <g id=\"line2d_12\">\n      <g>\n       <use style=\"stroke:#000000;stroke-width:0.8;\" x=\"33.2875\" xlink:href=\"#m57a41d2da0\" y=\"89.835267\"/>\n      </g>\n     </g>\n     <g id=\"text_6\">\n      <!-- 250 -->\n      <g transform=\"translate(7.2 93.634485)scale(0.1 -0.1)\">\n       <defs>\n        <path d=\"M 691 4666 \nL 3169 4666 \nL 3169 4134 \nL 1269 4134 \nL 1269 2991 \nQ 1406 3038 1543 3061 \nQ 1681 3084 1819 3084 \nQ 2600 3084 3056 2656 \nQ 3513 2228 3513 1497 \nQ 3513 744 3044 326 \nQ 2575 -91 1722 -91 \nQ 1428 -91 1123 -41 \nQ 819 9 494 109 \nL 494 744 \nQ 775 591 1075 516 \nQ 1375 441 1709 441 \nQ 2250 441 2565 725 \nQ 2881 1009 2881 1497 \nQ 2881 1984 2565 2268 \nQ 2250 2553 1709 2553 \nQ 1456 2553 1204 2497 \nQ 953 2441 691 2322 \nL 691 4666 \nz\n\" id=\"DejaVuSans-35\" transform=\"scale(0.015625)\"/>\n       </defs>\n       <use xlink:href=\"#DejaVuSans-32\"/>\n       <use x=\"63.623047\" xlink:href=\"#DejaVuSans-35\"/>\n       <use x=\"127.246094\" xlink:href=\"#DejaVuSans-30\"/>\n      </g>\n     </g>\n    </g>\n    <g id=\"ytick_3\">\n     <g id=\"line2d_13\">\n      <path clip-path=\"url(#pb5ecdecf04)\" d=\"M 33.2875 62.813278 \nL 178.852717 62.813278 \n\" style=\"fill:none;stroke:#b0b0b0;stroke-linecap:square;stroke-width:0.8;\"/>\n     </g>\n     <g id=\"line2d_14\">\n      <g>\n       <use style=\"stroke:#000000;stroke-width:0.8;\" x=\"33.2875\" xlink:href=\"#m57a41d2da0\" y=\"62.813278\"/>\n      </g>\n     </g>\n     <g id=\"text_7\">\n      <!-- 500 -->\n      <g transform=\"translate(7.2 66.612496)scale(0.1 -0.1)\">\n       <use xlink:href=\"#DejaVuSans-35\"/>\n       <use x=\"63.623047\" xlink:href=\"#DejaVuSans-30\"/>\n       <use x=\"127.246094\" xlink:href=\"#DejaVuSans-30\"/>\n      </g>\n     </g>\n    </g>\n    <g id=\"ytick_4\">\n     <g id=\"line2d_15\">\n      <path clip-path=\"url(#pb5ecdecf04)\" d=\"M 33.2875 35.791289 \nL 178.852717 35.791289 \n\" style=\"fill:none;stroke:#b0b0b0;stroke-linecap:square;stroke-width:0.8;\"/>\n     </g>\n     <g id=\"line2d_16\">\n      <g>\n       <use style=\"stroke:#000000;stroke-width:0.8;\" x=\"33.2875\" xlink:href=\"#m57a41d2da0\" y=\"35.791289\"/>\n      </g>\n     </g>\n     <g id=\"text_8\">\n      <!-- 750 -->\n      <g transform=\"translate(7.2 39.590507)scale(0.1 -0.1)\">\n       <defs>\n        <path d=\"M 525 4666 \nL 3525 4666 \nL 3525 4397 \nL 1831 0 \nL 1172 0 \nL 2766 4134 \nL 525 4134 \nL 525 4666 \nz\n\" id=\"DejaVuSans-37\" transform=\"scale(0.015625)\"/>\n       </defs>\n       <use xlink:href=\"#DejaVuSans-37\"/>\n       <use x=\"63.623047\" xlink:href=\"#DejaVuSans-35\"/>\n       <use x=\"127.246094\" xlink:href=\"#DejaVuSans-30\"/>\n      </g>\n     </g>\n    </g>\n   </g>\n   <g id=\"patch_13\">\n    <path d=\"M 33.2875 116.857255 \nL 33.2875 22.318125 \n\" style=\"fill:none;stroke:#000000;stroke-linecap:square;stroke-linejoin:miter;stroke-width:0.8;\"/>\n   </g>\n   <g id=\"patch_14\">\n    <path d=\"M 178.852717 116.857255 \nL 178.852717 22.318125 \n\" style=\"fill:none;stroke:#000000;stroke-linecap:square;stroke-linejoin:miter;stroke-width:0.8;\"/>\n   </g>\n   <g id=\"patch_15\">\n    <path d=\"M 33.2875 116.857255 \nL 178.852717 116.857255 \n\" style=\"fill:none;stroke:#000000;stroke-linecap:square;stroke-linejoin:miter;stroke-width:0.8;\"/>\n   </g>\n   <g id=\"patch_16\">\n    <path d=\"M 33.2875 22.318125 \nL 178.852717 22.318125 \n\" style=\"fill:none;stroke:#000000;stroke-linecap:square;stroke-linejoin:miter;stroke-width:0.8;\"/>\n   </g>\n   <g id=\"text_9\">\n    <!-- euclidean_dist -->\n    <g transform=\"translate(63.008859 16.318125)scale(0.12 -0.12)\">\n     <defs>\n      <path d=\"M 3597 1894 \nL 3597 1613 \nL 953 1613 \nQ 991 1019 1311 708 \nQ 1631 397 2203 397 \nQ 2534 397 2845 478 \nQ 3156 559 3463 722 \nL 3463 178 \nQ 3153 47 2828 -22 \nQ 2503 -91 2169 -91 \nQ 1331 -91 842 396 \nQ 353 884 353 1716 \nQ 353 2575 817 3079 \nQ 1281 3584 2069 3584 \nQ 2775 3584 3186 3129 \nQ 3597 2675 3597 1894 \nz\nM 3022 2063 \nQ 3016 2534 2758 2815 \nQ 2500 3097 2075 3097 \nQ 1594 3097 1305 2825 \nQ 1016 2553 972 2059 \nL 3022 2063 \nz\n\" id=\"DejaVuSans-65\" transform=\"scale(0.015625)\"/>\n      <path d=\"M 544 1381 \nL 544 3500 \nL 1119 3500 \nL 1119 1403 \nQ 1119 906 1312 657 \nQ 1506 409 1894 409 \nQ 2359 409 2629 706 \nQ 2900 1003 2900 1516 \nL 2900 3500 \nL 3475 3500 \nL 3475 0 \nL 2900 0 \nL 2900 538 \nQ 2691 219 2414 64 \nQ 2138 -91 1772 -91 \nQ 1169 -91 856 284 \nQ 544 659 544 1381 \nz\nM 1991 3584 \nL 1991 3584 \nz\n\" id=\"DejaVuSans-75\" transform=\"scale(0.015625)\"/>\n      <path d=\"M 3122 3366 \nL 3122 2828 \nQ 2878 2963 2633 3030 \nQ 2388 3097 2138 3097 \nQ 1578 3097 1268 2742 \nQ 959 2388 959 1747 \nQ 959 1106 1268 751 \nQ 1578 397 2138 397 \nQ 2388 397 2633 464 \nQ 2878 531 3122 666 \nL 3122 134 \nQ 2881 22 2623 -34 \nQ 2366 -91 2075 -91 \nQ 1284 -91 818 406 \nQ 353 903 353 1747 \nQ 353 2603 823 3093 \nQ 1294 3584 2113 3584 \nQ 2378 3584 2631 3529 \nQ 2884 3475 3122 3366 \nz\n\" id=\"DejaVuSans-63\" transform=\"scale(0.015625)\"/>\n      <path d=\"M 603 4863 \nL 1178 4863 \nL 1178 0 \nL 603 0 \nL 603 4863 \nz\n\" id=\"DejaVuSans-6c\" transform=\"scale(0.015625)\"/>\n      <path d=\"M 603 3500 \nL 1178 3500 \nL 1178 0 \nL 603 0 \nL 603 3500 \nz\nM 603 4863 \nL 1178 4863 \nL 1178 4134 \nL 603 4134 \nL 603 4863 \nz\n\" id=\"DejaVuSans-69\" transform=\"scale(0.015625)\"/>\n      <path d=\"M 2906 2969 \nL 2906 4863 \nL 3481 4863 \nL 3481 0 \nL 2906 0 \nL 2906 525 \nQ 2725 213 2448 61 \nQ 2172 -91 1784 -91 \nQ 1150 -91 751 415 \nQ 353 922 353 1747 \nQ 353 2572 751 3078 \nQ 1150 3584 1784 3584 \nQ 2172 3584 2448 3432 \nQ 2725 3281 2906 2969 \nz\nM 947 1747 \nQ 947 1113 1208 752 \nQ 1469 391 1925 391 \nQ 2381 391 2643 752 \nQ 2906 1113 2906 1747 \nQ 2906 2381 2643 2742 \nQ 2381 3103 1925 3103 \nQ 1469 3103 1208 2742 \nQ 947 2381 947 1747 \nz\n\" id=\"DejaVuSans-64\" transform=\"scale(0.015625)\"/>\n      <path d=\"M 2194 1759 \nQ 1497 1759 1228 1600 \nQ 959 1441 959 1056 \nQ 959 750 1161 570 \nQ 1363 391 1709 391 \nQ 2188 391 2477 730 \nQ 2766 1069 2766 1631 \nL 2766 1759 \nL 2194 1759 \nz\nM 3341 1997 \nL 3341 0 \nL 2766 0 \nL 2766 531 \nQ 2569 213 2275 61 \nQ 1981 -91 1556 -91 \nQ 1019 -91 701 211 \nQ 384 513 384 1019 \nQ 384 1609 779 1909 \nQ 1175 2209 1959 2209 \nL 2766 2209 \nL 2766 2266 \nQ 2766 2663 2505 2880 \nQ 2244 3097 1772 3097 \nQ 1472 3097 1187 3025 \nQ 903 2953 641 2809 \nL 641 3341 \nQ 956 3463 1253 3523 \nQ 1550 3584 1831 3584 \nQ 2591 3584 2966 3190 \nQ 3341 2797 3341 1997 \nz\n\" id=\"DejaVuSans-61\" transform=\"scale(0.015625)\"/>\n      <path d=\"M 3513 2113 \nL 3513 0 \nL 2938 0 \nL 2938 2094 \nQ 2938 2591 2744 2837 \nQ 2550 3084 2163 3084 \nQ 1697 3084 1428 2787 \nQ 1159 2491 1159 1978 \nL 1159 0 \nL 581 0 \nL 581 3500 \nL 1159 3500 \nL 1159 2956 \nQ 1366 3272 1645 3428 \nQ 1925 3584 2291 3584 \nQ 2894 3584 3203 3211 \nQ 3513 2838 3513 2113 \nz\n\" id=\"DejaVuSans-6e\" transform=\"scale(0.015625)\"/>\n      <path d=\"M 3263 -1063 \nL 3263 -1509 \nL -63 -1509 \nL -63 -1063 \nL 3263 -1063 \nz\n\" id=\"DejaVuSans-5f\" transform=\"scale(0.015625)\"/>\n      <path d=\"M 2834 3397 \nL 2834 2853 \nQ 2591 2978 2328 3040 \nQ 2066 3103 1784 3103 \nQ 1356 3103 1142 2972 \nQ 928 2841 928 2578 \nQ 928 2378 1081 2264 \nQ 1234 2150 1697 2047 \nL 1894 2003 \nQ 2506 1872 2764 1633 \nQ 3022 1394 3022 966 \nQ 3022 478 2636 193 \nQ 2250 -91 1575 -91 \nQ 1294 -91 989 -36 \nQ 684 19 347 128 \nL 347 722 \nQ 666 556 975 473 \nQ 1284 391 1588 391 \nQ 1994 391 2212 530 \nQ 2431 669 2431 922 \nQ 2431 1156 2273 1281 \nQ 2116 1406 1581 1522 \nL 1381 1569 \nQ 847 1681 609 1914 \nQ 372 2147 372 2553 \nQ 372 3047 722 3315 \nQ 1072 3584 1716 3584 \nQ 2034 3584 2315 3537 \nQ 2597 3491 2834 3397 \nz\n\" id=\"DejaVuSans-73\" transform=\"scale(0.015625)\"/>\n      <path d=\"M 1172 4494 \nL 1172 3500 \nL 2356 3500 \nL 2356 3053 \nL 1172 3053 \nL 1172 1153 \nQ 1172 725 1289 603 \nQ 1406 481 1766 481 \nL 2356 481 \nL 2356 0 \nL 1766 0 \nQ 1100 0 847 248 \nQ 594 497 594 1153 \nL 594 3053 \nL 172 3053 \nL 172 3500 \nL 594 3500 \nL 594 4494 \nL 1172 4494 \nz\n\" id=\"DejaVuSans-74\" transform=\"scale(0.015625)\"/>\n     </defs>\n     <use xlink:href=\"#DejaVuSans-65\"/>\n     <use x=\"61.523438\" xlink:href=\"#DejaVuSans-75\"/>\n     <use x=\"124.902344\" xlink:href=\"#DejaVuSans-63\"/>\n     <use x=\"179.882812\" xlink:href=\"#DejaVuSans-6c\"/>\n     <use x=\"207.666016\" xlink:href=\"#DejaVuSans-69\"/>\n     <use x=\"235.449219\" xlink:href=\"#DejaVuSans-64\"/>\n     <use x=\"298.925781\" xlink:href=\"#DejaVuSans-65\"/>\n     <use x=\"360.449219\" xlink:href=\"#DejaVuSans-61\"/>\n     <use x=\"421.728516\" xlink:href=\"#DejaVuSans-6e\"/>\n     <use x=\"485.107422\" xlink:href=\"#DejaVuSans-5f\"/>\n     <use x=\"535.107422\" xlink:href=\"#DejaVuSans-64\"/>\n     <use x=\"598.583984\" xlink:href=\"#DejaVuSans-69\"/>\n     <use x=\"626.367188\" xlink:href=\"#DejaVuSans-73\"/>\n     <use x=\"678.466797\" xlink:href=\"#DejaVuSans-74\"/>\n    </g>\n   </g>\n  </g>\n  <g id=\"axes_2\">\n   <g id=\"patch_17\">\n    <path d=\"M 222.522283 116.857255 \nL 368.0875 116.857255 \nL 368.0875 22.318125 \nL 222.522283 22.318125 \nz\n\" style=\"fill:#ffffff;\"/>\n   </g>\n   <g id=\"patch_18\">\n    <path clip-path=\"url(#p4548c353e4)\" d=\"M 229.138883 116.857255 \nL 242.372085 116.857255 \nL 242.372085 26.819988 \nL 229.138883 26.819988 \nz\n\" style=\"fill:#1f77b4;\"/>\n   </g>\n   <g id=\"patch_19\">\n    <path clip-path=\"url(#p4548c353e4)\" d=\"M 242.372085 116.857255 \nL 255.605287 116.857255 \nL 255.605287 29.85739 \nL 242.372085 29.85739 \nz\n\" style=\"fill:#1f77b4;\"/>\n   </g>\n   <g id=\"patch_20\">\n    <path clip-path=\"url(#p4548c353e4)\" d=\"M 255.605287 116.857255 \nL 268.838488 116.857255 \nL 268.838488 50.685288 \nL 255.605287 50.685288 \nz\n\" style=\"fill:#1f77b4;\"/>\n   </g>\n   <g id=\"patch_21\">\n    <path clip-path=\"url(#p4548c353e4)\" d=\"M 268.838488 116.857255 \nL 282.07169 116.857255 \nL 282.07169 68.150348 \nL 268.838488 68.150348 \nz\n\" style=\"fill:#1f77b4;\"/>\n   </g>\n   <g id=\"patch_22\">\n    <path clip-path=\"url(#p4548c353e4)\" d=\"M 282.07169 116.857255 \nL 295.304891 116.857255 \nL 295.304891 80.191477 \nL 282.07169 80.191477 \nz\n\" style=\"fill:#1f77b4;\"/>\n   </g>\n   <g id=\"patch_23\">\n    <path clip-path=\"url(#p4548c353e4)\" d=\"M 295.304891 116.857255 \nL 308.538093 116.857255 \nL 308.538093 94.944571 \nL 295.304891 94.944571 \nz\n\" style=\"fill:#1f77b4;\"/>\n   </g>\n   <g id=\"patch_24\">\n    <path clip-path=\"url(#p4548c353e4)\" d=\"M 308.538093 116.857255 \nL 321.771294 116.857255 \nL 321.771294 103.839819 \nL 308.538093 103.839819 \nz\n\" style=\"fill:#1f77b4;\"/>\n   </g>\n   <g id=\"patch_25\">\n    <path clip-path=\"url(#p4548c353e4)\" d=\"M 321.771294 116.857255 \nL 335.004496 116.857255 \nL 335.004496 108.612879 \nL 321.771294 108.612879 \nz\n\" style=\"fill:#1f77b4;\"/>\n   </g>\n   <g id=\"patch_26\">\n    <path clip-path=\"url(#p4548c353e4)\" d=\"M 335.004496 116.857255 \nL 348.237698 116.857255 \nL 348.237698 111.650281 \nL 335.004496 111.650281 \nz\n\" style=\"fill:#1f77b4;\"/>\n   </g>\n   <g id=\"patch_27\">\n    <path clip-path=\"url(#p4548c353e4)\" d=\"M 348.237698 116.857255 \nL 361.470899 116.857255 \nL 361.470899 115.338555 \nL 348.237698 115.338555 \nz\n\" style=\"fill:#1f77b4;\"/>\n   </g>\n   <g id=\"matplotlib.axis_3\">\n    <g id=\"xtick_5\">\n     <g id=\"line2d_17\">\n      <path clip-path=\"url(#p4548c353e4)\" d=\"M 229.138883 116.857255 \nL 229.138883 22.318125 \n\" style=\"fill:none;stroke:#b0b0b0;stroke-linecap:square;stroke-width:0.8;\"/>\n     </g>\n     <g id=\"line2d_18\">\n      <g>\n       <use style=\"stroke:#000000;stroke-width:0.8;\" x=\"229.138883\" xlink:href=\"#mbf1a5574cd\" y=\"116.857255\"/>\n      </g>\n     </g>\n     <g id=\"text_10\">\n      <!-- 0.0 -->\n      <g transform=\"translate(221.187321 131.455693)scale(0.1 -0.1)\">\n       <use xlink:href=\"#DejaVuSans-30\"/>\n       <use x=\"63.623047\" xlink:href=\"#DejaVuSans-2e\"/>\n       <use x=\"95.410156\" xlink:href=\"#DejaVuSans-30\"/>\n      </g>\n     </g>\n    </g>\n    <g id=\"xtick_6\">\n     <g id=\"line2d_19\">\n      <path clip-path=\"url(#p4548c353e4)\" d=\"M 273.249555 116.857255 \nL 273.249555 22.318125 \n\" style=\"fill:none;stroke:#b0b0b0;stroke-linecap:square;stroke-width:0.8;\"/>\n     </g>\n     <g id=\"line2d_20\">\n      <g>\n       <use style=\"stroke:#000000;stroke-width:0.8;\" x=\"273.249555\" xlink:href=\"#mbf1a5574cd\" y=\"116.857255\"/>\n      </g>\n     </g>\n     <g id=\"text_11\">\n      <!-- 0.2 -->\n      <g transform=\"translate(265.297993 131.455693)scale(0.1 -0.1)\">\n       <use xlink:href=\"#DejaVuSans-30\"/>\n       <use x=\"63.623047\" xlink:href=\"#DejaVuSans-2e\"/>\n       <use x=\"95.410156\" xlink:href=\"#DejaVuSans-32\"/>\n      </g>\n     </g>\n    </g>\n    <g id=\"xtick_7\">\n     <g id=\"line2d_21\">\n      <path clip-path=\"url(#p4548c353e4)\" d=\"M 317.360227 116.857255 \nL 317.360227 22.318125 \n\" style=\"fill:none;stroke:#b0b0b0;stroke-linecap:square;stroke-width:0.8;\"/>\n     </g>\n     <g id=\"line2d_22\">\n      <g>\n       <use style=\"stroke:#000000;stroke-width:0.8;\" x=\"317.360227\" xlink:href=\"#mbf1a5574cd\" y=\"116.857255\"/>\n      </g>\n     </g>\n     <g id=\"text_12\">\n      <!-- 0.4 -->\n      <g transform=\"translate(309.408665 131.455693)scale(0.1 -0.1)\">\n       <use xlink:href=\"#DejaVuSans-30\"/>\n       <use x=\"63.623047\" xlink:href=\"#DejaVuSans-2e\"/>\n       <use x=\"95.410156\" xlink:href=\"#DejaVuSans-34\"/>\n      </g>\n     </g>\n    </g>\n    <g id=\"xtick_8\">\n     <g id=\"line2d_23\">\n      <path clip-path=\"url(#p4548c353e4)\" d=\"M 361.470899 116.857255 \nL 361.470899 22.318125 \n\" style=\"fill:none;stroke:#b0b0b0;stroke-linecap:square;stroke-width:0.8;\"/>\n     </g>\n     <g id=\"line2d_24\">\n      <g>\n       <use style=\"stroke:#000000;stroke-width:0.8;\" x=\"361.470899\" xlink:href=\"#mbf1a5574cd\" y=\"116.857255\"/>\n      </g>\n     </g>\n     <g id=\"text_13\">\n      <!-- 0.6 -->\n      <g transform=\"translate(353.519337 131.455693)scale(0.1 -0.1)\">\n       <use xlink:href=\"#DejaVuSans-30\"/>\n       <use x=\"63.623047\" xlink:href=\"#DejaVuSans-2e\"/>\n       <use x=\"95.410156\" xlink:href=\"#DejaVuSans-36\"/>\n      </g>\n     </g>\n    </g>\n   </g>\n   <g id=\"matplotlib.axis_4\">\n    <g id=\"ytick_5\">\n     <g id=\"line2d_25\">\n      <path clip-path=\"url(#p4548c353e4)\" d=\"M 222.522283 116.857255 \nL 368.0875 116.857255 \n\" style=\"fill:none;stroke:#b0b0b0;stroke-linecap:square;stroke-width:0.8;\"/>\n     </g>\n     <g id=\"line2d_26\">\n      <g>\n       <use style=\"stroke:#000000;stroke-width:0.8;\" x=\"222.522283\" xlink:href=\"#m57a41d2da0\" y=\"116.857255\"/>\n      </g>\n     </g>\n     <g id=\"text_14\">\n      <!-- 0 -->\n      <g transform=\"translate(209.159783 120.656474)scale(0.1 -0.1)\">\n       <use xlink:href=\"#DejaVuSans-30\"/>\n      </g>\n     </g>\n    </g>\n    <g id=\"ytick_6\">\n     <g id=\"line2d_27\">\n      <path clip-path=\"url(#p4548c353e4)\" d=\"M 222.522283 89.737597 \nL 368.0875 89.737597 \n\" style=\"fill:none;stroke:#b0b0b0;stroke-linecap:square;stroke-width:0.8;\"/>\n     </g>\n     <g id=\"line2d_28\">\n      <g>\n       <use style=\"stroke:#000000;stroke-width:0.8;\" x=\"222.522283\" xlink:href=\"#m57a41d2da0\" y=\"89.737597\"/>\n      </g>\n     </g>\n     <g id=\"text_15\">\n      <!-- 250 -->\n      <g transform=\"translate(196.434783 93.536815)scale(0.1 -0.1)\">\n       <use xlink:href=\"#DejaVuSans-32\"/>\n       <use x=\"63.623047\" xlink:href=\"#DejaVuSans-35\"/>\n       <use x=\"127.246094\" xlink:href=\"#DejaVuSans-30\"/>\n      </g>\n     </g>\n    </g>\n    <g id=\"ytick_7\">\n     <g id=\"line2d_29\">\n      <path clip-path=\"url(#p4548c353e4)\" d=\"M 222.522283 62.617938 \nL 368.0875 62.617938 \n\" style=\"fill:none;stroke:#b0b0b0;stroke-linecap:square;stroke-width:0.8;\"/>\n     </g>\n     <g id=\"line2d_30\">\n      <g>\n       <use style=\"stroke:#000000;stroke-width:0.8;\" x=\"222.522283\" xlink:href=\"#m57a41d2da0\" y=\"62.617938\"/>\n      </g>\n     </g>\n     <g id=\"text_16\">\n      <!-- 500 -->\n      <g transform=\"translate(196.434783 66.417157)scale(0.1 -0.1)\">\n       <use xlink:href=\"#DejaVuSans-35\"/>\n       <use x=\"63.623047\" xlink:href=\"#DejaVuSans-30\"/>\n       <use x=\"127.246094\" xlink:href=\"#DejaVuSans-30\"/>\n      </g>\n     </g>\n    </g>\n    <g id=\"ytick_8\">\n     <g id=\"line2d_31\">\n      <path clip-path=\"url(#p4548c353e4)\" d=\"M 222.522283 35.498279 \nL 368.0875 35.498279 \n\" style=\"fill:none;stroke:#b0b0b0;stroke-linecap:square;stroke-width:0.8;\"/>\n     </g>\n     <g id=\"line2d_32\">\n      <g>\n       <use style=\"stroke:#000000;stroke-width:0.8;\" x=\"222.522283\" xlink:href=\"#m57a41d2da0\" y=\"35.498279\"/>\n      </g>\n     </g>\n     <g id=\"text_17\">\n      <!-- 750 -->\n      <g transform=\"translate(196.434783 39.297498)scale(0.1 -0.1)\">\n       <use xlink:href=\"#DejaVuSans-37\"/>\n       <use x=\"63.623047\" xlink:href=\"#DejaVuSans-35\"/>\n       <use x=\"127.246094\" xlink:href=\"#DejaVuSans-30\"/>\n      </g>\n     </g>\n    </g>\n   </g>\n   <g id=\"patch_28\">\n    <path d=\"M 222.522283 116.857255 \nL 222.522283 22.318125 \n\" style=\"fill:none;stroke:#000000;stroke-linecap:square;stroke-linejoin:miter;stroke-width:0.8;\"/>\n   </g>\n   <g id=\"patch_29\">\n    <path d=\"M 368.0875 116.857255 \nL 368.0875 22.318125 \n\" style=\"fill:none;stroke:#000000;stroke-linecap:square;stroke-linejoin:miter;stroke-width:0.8;\"/>\n   </g>\n   <g id=\"patch_30\">\n    <path d=\"M 222.522283 116.857255 \nL 368.0875 116.857255 \n\" style=\"fill:none;stroke:#000000;stroke-linecap:square;stroke-linejoin:miter;stroke-width:0.8;\"/>\n   </g>\n   <g id=\"patch_31\">\n    <path d=\"M 222.522283 22.318125 \nL 368.0875 22.318125 \n\" style=\"fill:none;stroke:#000000;stroke-linecap:square;stroke-linejoin:miter;stroke-width:0.8;\"/>\n   </g>\n   <g id=\"text_18\">\n    <!-- manhattan_dist -->\n    <g transform=\"translate(248.364266 16.318125)scale(0.12 -0.12)\">\n     <defs>\n      <path d=\"M 3328 2828 \nQ 3544 3216 3844 3400 \nQ 4144 3584 4550 3584 \nQ 5097 3584 5394 3201 \nQ 5691 2819 5691 2113 \nL 5691 0 \nL 5113 0 \nL 5113 2094 \nQ 5113 2597 4934 2840 \nQ 4756 3084 4391 3084 \nQ 3944 3084 3684 2787 \nQ 3425 2491 3425 1978 \nL 3425 0 \nL 2847 0 \nL 2847 2094 \nQ 2847 2600 2669 2842 \nQ 2491 3084 2119 3084 \nQ 1678 3084 1418 2786 \nQ 1159 2488 1159 1978 \nL 1159 0 \nL 581 0 \nL 581 3500 \nL 1159 3500 \nL 1159 2956 \nQ 1356 3278 1631 3431 \nQ 1906 3584 2284 3584 \nQ 2666 3584 2933 3390 \nQ 3200 3197 3328 2828 \nz\n\" id=\"DejaVuSans-6d\" transform=\"scale(0.015625)\"/>\n      <path d=\"M 3513 2113 \nL 3513 0 \nL 2938 0 \nL 2938 2094 \nQ 2938 2591 2744 2837 \nQ 2550 3084 2163 3084 \nQ 1697 3084 1428 2787 \nQ 1159 2491 1159 1978 \nL 1159 0 \nL 581 0 \nL 581 4863 \nL 1159 4863 \nL 1159 2956 \nQ 1366 3272 1645 3428 \nQ 1925 3584 2291 3584 \nQ 2894 3584 3203 3211 \nQ 3513 2838 3513 2113 \nz\n\" id=\"DejaVuSans-68\" transform=\"scale(0.015625)\"/>\n     </defs>\n     <use xlink:href=\"#DejaVuSans-6d\"/>\n     <use x=\"97.412109\" xlink:href=\"#DejaVuSans-61\"/>\n     <use x=\"158.691406\" xlink:href=\"#DejaVuSans-6e\"/>\n     <use x=\"222.070312\" xlink:href=\"#DejaVuSans-68\"/>\n     <use x=\"285.449219\" xlink:href=\"#DejaVuSans-61\"/>\n     <use x=\"346.728516\" xlink:href=\"#DejaVuSans-74\"/>\n     <use x=\"385.9375\" xlink:href=\"#DejaVuSans-74\"/>\n     <use x=\"425.146484\" xlink:href=\"#DejaVuSans-61\"/>\n     <use x=\"486.425781\" xlink:href=\"#DejaVuSans-6e\"/>\n     <use x=\"549.804688\" xlink:href=\"#DejaVuSans-5f\"/>\n     <use x=\"599.804688\" xlink:href=\"#DejaVuSans-64\"/>\n     <use x=\"663.28125\" xlink:href=\"#DejaVuSans-69\"/>\n     <use x=\"691.064453\" xlink:href=\"#DejaVuSans-73\"/>\n     <use x=\"743.164062\" xlink:href=\"#DejaVuSans-74\"/>\n    </g>\n   </g>\n  </g>\n  <g id=\"axes_3\">\n   <g id=\"patch_32\">\n    <path d=\"M 33.2875 239.758125 \nL 178.852717 239.758125 \nL 178.852717 145.218995 \nL 33.2875 145.218995 \nz\n\" style=\"fill:#ffffff;\"/>\n   </g>\n   <g id=\"patch_33\">\n    <path clip-path=\"url(#p5184c72906)\" d=\"M 39.904101 239.758125 \nL 53.137302 239.758125 \nL 53.137302 238.838335 \nL 39.904101 238.838335 \nz\n\" style=\"fill:#1f77b4;\"/>\n   </g>\n   <g id=\"patch_34\">\n    <path clip-path=\"url(#p5184c72906)\" d=\"M 53.137302 239.758125 \nL 66.370504 239.758125 \nL 66.370504 234.852576 \nL 53.137302 234.852576 \nz\n\" style=\"fill:#1f77b4;\"/>\n   </g>\n   <g id=\"patch_35\">\n    <path clip-path=\"url(#p5184c72906)\" d=\"M 66.370504 239.758125 \nL 79.603706 239.758125 \nL 79.603706 225.041477 \nL 66.370504 225.041477 \nz\n\" style=\"fill:#1f77b4;\"/>\n   </g>\n   <g id=\"patch_36\">\n    <path clip-path=\"url(#p5184c72906)\" d=\"M 79.603706 239.758125 \nL 92.836907 239.758125 \nL 92.836907 209.813835 \nL 79.603706 209.813835 \nz\n\" style=\"fill:#1f77b4;\"/>\n   </g>\n   <g id=\"patch_37\">\n    <path clip-path=\"url(#p5184c72906)\" d=\"M 92.836907 239.758125 \nL 106.070109 239.758125 \nL 106.070109 187.943262 \nL 92.836907 187.943262 \nz\n\" style=\"fill:#1f77b4;\"/>\n   </g>\n   <g id=\"patch_38\">\n    <path clip-path=\"url(#p5184c72906)\" d=\"M 106.070109 239.758125 \nL 119.30331 239.758125 \nL 119.30331 175.270593 \nL 106.070109 175.270593 \nz\n\" style=\"fill:#1f77b4;\"/>\n   </g>\n   <g id=\"patch_39\">\n    <path clip-path=\"url(#p5184c72906)\" d=\"M 119.30331 239.758125 \nL 132.536512 239.758125 \nL 132.536512 149.720858 \nL 119.30331 149.720858 \nz\n\" style=\"fill:#1f77b4;\"/>\n   </g>\n   <g id=\"patch_40\">\n    <path clip-path=\"url(#p5184c72906)\" d=\"M 132.536512 239.758125 \nL 145.769713 239.758125 \nL 145.769713 163.619914 \nL 132.536512 163.619914 \nz\n\" style=\"fill:#1f77b4;\"/>\n   </g>\n   <g id=\"patch_41\">\n    <path clip-path=\"url(#p5184c72906)\" d=\"M 145.769713 239.758125 \nL 159.002915 239.758125 \nL 159.002915 217.785353 \nL 145.769713 217.785353 \nz\n\" style=\"fill:#1f77b4;\"/>\n   </g>\n   <g id=\"patch_42\">\n    <path clip-path=\"url(#p5184c72906)\" d=\"M 159.002915 239.758125 \nL 172.236117 239.758125 \nL 172.236117 238.122942 \nL 159.002915 238.122942 \nz\n\" style=\"fill:#1f77b4;\"/>\n   </g>\n   <g id=\"matplotlib.axis_5\">\n    <g id=\"xtick_9\">\n     <g id=\"line2d_33\">\n      <path clip-path=\"url(#p5184c72906)\" d=\"M 58.422679 239.758125 \nL 58.422679 145.218995 \n\" style=\"fill:none;stroke:#b0b0b0;stroke-linecap:square;stroke-width:0.8;\"/>\n     </g>\n     <g id=\"line2d_34\">\n      <g>\n       <use style=\"stroke:#000000;stroke-width:0.8;\" x=\"58.422679\" xlink:href=\"#mbf1a5574cd\" y=\"239.758125\"/>\n      </g>\n     </g>\n     <g id=\"text_19\">\n      <!-- 0.4 -->\n      <g transform=\"translate(50.471117 254.356563)scale(0.1 -0.1)\">\n       <use xlink:href=\"#DejaVuSans-30\"/>\n       <use x=\"63.623047\" xlink:href=\"#DejaVuSans-2e\"/>\n       <use x=\"95.410156\" xlink:href=\"#DejaVuSans-34\"/>\n      </g>\n     </g>\n    </g>\n    <g id=\"xtick_10\">\n     <g id=\"line2d_35\">\n      <path clip-path=\"url(#p5184c72906)\" d=\"M 95.623156 239.758125 \nL 95.623156 145.218995 \n\" style=\"fill:none;stroke:#b0b0b0;stroke-linecap:square;stroke-width:0.8;\"/>\n     </g>\n     <g id=\"line2d_36\">\n      <g>\n       <use style=\"stroke:#000000;stroke-width:0.8;\" x=\"95.623156\" xlink:href=\"#mbf1a5574cd\" y=\"239.758125\"/>\n      </g>\n     </g>\n     <g id=\"text_20\">\n      <!-- 0.6 -->\n      <g transform=\"translate(87.671593 254.356563)scale(0.1 -0.1)\">\n       <use xlink:href=\"#DejaVuSans-30\"/>\n       <use x=\"63.623047\" xlink:href=\"#DejaVuSans-2e\"/>\n       <use x=\"95.410156\" xlink:href=\"#DejaVuSans-36\"/>\n      </g>\n     </g>\n    </g>\n    <g id=\"xtick_11\">\n     <g id=\"line2d_37\">\n      <path clip-path=\"url(#p5184c72906)\" d=\"M 132.823633 239.758125 \nL 132.823633 145.218995 \n\" style=\"fill:none;stroke:#b0b0b0;stroke-linecap:square;stroke-width:0.8;\"/>\n     </g>\n     <g id=\"line2d_38\">\n      <g>\n       <use style=\"stroke:#000000;stroke-width:0.8;\" x=\"132.823633\" xlink:href=\"#mbf1a5574cd\" y=\"239.758125\"/>\n      </g>\n     </g>\n     <g id=\"text_21\">\n      <!-- 0.8 -->\n      <g transform=\"translate(124.87207 254.356563)scale(0.1 -0.1)\">\n       <defs>\n        <path d=\"M 2034 2216 \nQ 1584 2216 1326 1975 \nQ 1069 1734 1069 1313 \nQ 1069 891 1326 650 \nQ 1584 409 2034 409 \nQ 2484 409 2743 651 \nQ 3003 894 3003 1313 \nQ 3003 1734 2745 1975 \nQ 2488 2216 2034 2216 \nz\nM 1403 2484 \nQ 997 2584 770 2862 \nQ 544 3141 544 3541 \nQ 544 4100 942 4425 \nQ 1341 4750 2034 4750 \nQ 2731 4750 3128 4425 \nQ 3525 4100 3525 3541 \nQ 3525 3141 3298 2862 \nQ 3072 2584 2669 2484 \nQ 3125 2378 3379 2068 \nQ 3634 1759 3634 1313 \nQ 3634 634 3220 271 \nQ 2806 -91 2034 -91 \nQ 1263 -91 848 271 \nQ 434 634 434 1313 \nQ 434 1759 690 2068 \nQ 947 2378 1403 2484 \nz\nM 1172 3481 \nQ 1172 3119 1398 2916 \nQ 1625 2713 2034 2713 \nQ 2441 2713 2670 2916 \nQ 2900 3119 2900 3481 \nQ 2900 3844 2670 4047 \nQ 2441 4250 2034 4250 \nQ 1625 4250 1398 4047 \nQ 1172 3844 1172 3481 \nz\n\" id=\"DejaVuSans-38\" transform=\"scale(0.015625)\"/>\n       </defs>\n       <use xlink:href=\"#DejaVuSans-30\"/>\n       <use x=\"63.623047\" xlink:href=\"#DejaVuSans-2e\"/>\n       <use x=\"95.410156\" xlink:href=\"#DejaVuSans-38\"/>\n      </g>\n     </g>\n    </g>\n    <g id=\"xtick_12\">\n     <g id=\"line2d_39\">\n      <path clip-path=\"url(#p5184c72906)\" d=\"M 170.02411 239.758125 \nL 170.02411 145.218995 \n\" style=\"fill:none;stroke:#b0b0b0;stroke-linecap:square;stroke-width:0.8;\"/>\n     </g>\n     <g id=\"line2d_40\">\n      <g>\n       <use style=\"stroke:#000000;stroke-width:0.8;\" x=\"170.02411\" xlink:href=\"#mbf1a5574cd\" y=\"239.758125\"/>\n      </g>\n     </g>\n     <g id=\"text_22\">\n      <!-- 1.0 -->\n      <g transform=\"translate(162.072547 254.356563)scale(0.1 -0.1)\">\n       <defs>\n        <path d=\"M 794 531 \nL 1825 531 \nL 1825 4091 \nL 703 3866 \nL 703 4441 \nL 1819 4666 \nL 2450 4666 \nL 2450 531 \nL 3481 531 \nL 3481 0 \nL 794 0 \nL 794 531 \nz\n\" id=\"DejaVuSans-31\" transform=\"scale(0.015625)\"/>\n       </defs>\n       <use xlink:href=\"#DejaVuSans-31\"/>\n       <use x=\"63.623047\" xlink:href=\"#DejaVuSans-2e\"/>\n       <use x=\"95.410156\" xlink:href=\"#DejaVuSans-30\"/>\n      </g>\n     </g>\n    </g>\n   </g>\n   <g id=\"matplotlib.axis_6\">\n    <g id=\"ytick_9\">\n     <g id=\"line2d_41\">\n      <path clip-path=\"url(#p5184c72906)\" d=\"M 33.2875 239.758125 \nL 178.852717 239.758125 \n\" style=\"fill:none;stroke:#b0b0b0;stroke-linecap:square;stroke-width:0.8;\"/>\n     </g>\n     <g id=\"line2d_42\">\n      <g>\n       <use style=\"stroke:#000000;stroke-width:0.8;\" x=\"33.2875\" xlink:href=\"#m57a41d2da0\" y=\"239.758125\"/>\n      </g>\n     </g>\n     <g id=\"text_23\">\n      <!-- 0 -->\n      <g transform=\"translate(19.925 243.557344)scale(0.1 -0.1)\">\n       <use xlink:href=\"#DejaVuSans-30\"/>\n      </g>\n     </g>\n    </g>\n    <g id=\"ytick_10\">\n     <g id=\"line2d_43\">\n      <path clip-path=\"url(#p5184c72906)\" d=\"M 33.2875 214.20839 \nL 178.852717 214.20839 \n\" style=\"fill:none;stroke:#b0b0b0;stroke-linecap:square;stroke-width:0.8;\"/>\n     </g>\n     <g id=\"line2d_44\">\n      <g>\n       <use style=\"stroke:#000000;stroke-width:0.8;\" x=\"33.2875\" xlink:href=\"#m57a41d2da0\" y=\"214.20839\"/>\n      </g>\n     </g>\n     <g id=\"text_24\">\n      <!-- 250 -->\n      <g transform=\"translate(7.2 218.007608)scale(0.1 -0.1)\">\n       <use xlink:href=\"#DejaVuSans-32\"/>\n       <use x=\"63.623047\" xlink:href=\"#DejaVuSans-35\"/>\n       <use x=\"127.246094\" xlink:href=\"#DejaVuSans-30\"/>\n      </g>\n     </g>\n    </g>\n    <g id=\"ytick_11\">\n     <g id=\"line2d_45\">\n      <path clip-path=\"url(#p5184c72906)\" d=\"M 33.2875 188.658654 \nL 178.852717 188.658654 \n\" style=\"fill:none;stroke:#b0b0b0;stroke-linecap:square;stroke-width:0.8;\"/>\n     </g>\n     <g id=\"line2d_46\">\n      <g>\n       <use style=\"stroke:#000000;stroke-width:0.8;\" x=\"33.2875\" xlink:href=\"#m57a41d2da0\" y=\"188.658654\"/>\n      </g>\n     </g>\n     <g id=\"text_25\">\n      <!-- 500 -->\n      <g transform=\"translate(7.2 192.457873)scale(0.1 -0.1)\">\n       <use xlink:href=\"#DejaVuSans-35\"/>\n       <use x=\"63.623047\" xlink:href=\"#DejaVuSans-30\"/>\n       <use x=\"127.246094\" xlink:href=\"#DejaVuSans-30\"/>\n      </g>\n     </g>\n    </g>\n    <g id=\"ytick_12\">\n     <g id=\"line2d_47\">\n      <path clip-path=\"url(#p5184c72906)\" d=\"M 33.2875 163.108919 \nL 178.852717 163.108919 \n\" style=\"fill:none;stroke:#b0b0b0;stroke-linecap:square;stroke-width:0.8;\"/>\n     </g>\n     <g id=\"line2d_48\">\n      <g>\n       <use style=\"stroke:#000000;stroke-width:0.8;\" x=\"33.2875\" xlink:href=\"#m57a41d2da0\" y=\"163.108919\"/>\n      </g>\n     </g>\n     <g id=\"text_26\">\n      <!-- 750 -->\n      <g transform=\"translate(7.2 166.908138)scale(0.1 -0.1)\">\n       <use xlink:href=\"#DejaVuSans-37\"/>\n       <use x=\"63.623047\" xlink:href=\"#DejaVuSans-35\"/>\n       <use x=\"127.246094\" xlink:href=\"#DejaVuSans-30\"/>\n      </g>\n     </g>\n    </g>\n   </g>\n   <g id=\"patch_43\">\n    <path d=\"M 33.2875 239.758125 \nL 33.2875 145.218995 \n\" style=\"fill:none;stroke:#000000;stroke-linecap:square;stroke-linejoin:miter;stroke-width:0.8;\"/>\n   </g>\n   <g id=\"patch_44\">\n    <path d=\"M 178.852717 239.758125 \nL 178.852717 145.218995 \n\" style=\"fill:none;stroke:#000000;stroke-linecap:square;stroke-linejoin:miter;stroke-width:0.8;\"/>\n   </g>\n   <g id=\"patch_45\">\n    <path d=\"M 33.2875 239.758125 \nL 178.852717 239.758125 \n\" style=\"fill:none;stroke:#000000;stroke-linecap:square;stroke-linejoin:miter;stroke-width:0.8;\"/>\n   </g>\n   <g id=\"patch_46\">\n    <path d=\"M 33.2875 145.218995 \nL 178.852717 145.218995 \n\" style=\"fill:none;stroke:#000000;stroke-linecap:square;stroke-linejoin:miter;stroke-width:0.8;\"/>\n   </g>\n   <g id=\"text_27\">\n    <!-- cosine_dist -->\n    <g transform=\"translate(72.859171 139.218995)scale(0.12 -0.12)\">\n     <defs>\n      <path d=\"M 1959 3097 \nQ 1497 3097 1228 2736 \nQ 959 2375 959 1747 \nQ 959 1119 1226 758 \nQ 1494 397 1959 397 \nQ 2419 397 2687 759 \nQ 2956 1122 2956 1747 \nQ 2956 2369 2687 2733 \nQ 2419 3097 1959 3097 \nz\nM 1959 3584 \nQ 2709 3584 3137 3096 \nQ 3566 2609 3566 1747 \nQ 3566 888 3137 398 \nQ 2709 -91 1959 -91 \nQ 1206 -91 779 398 \nQ 353 888 353 1747 \nQ 353 2609 779 3096 \nQ 1206 3584 1959 3584 \nz\n\" id=\"DejaVuSans-6f\" transform=\"scale(0.015625)\"/>\n     </defs>\n     <use xlink:href=\"#DejaVuSans-63\"/>\n     <use x=\"54.980469\" xlink:href=\"#DejaVuSans-6f\"/>\n     <use x=\"116.162109\" xlink:href=\"#DejaVuSans-73\"/>\n     <use x=\"168.261719\" xlink:href=\"#DejaVuSans-69\"/>\n     <use x=\"196.044922\" xlink:href=\"#DejaVuSans-6e\"/>\n     <use x=\"259.423828\" xlink:href=\"#DejaVuSans-65\"/>\n     <use x=\"320.947266\" xlink:href=\"#DejaVuSans-5f\"/>\n     <use x=\"370.947266\" xlink:href=\"#DejaVuSans-64\"/>\n     <use x=\"434.423828\" xlink:href=\"#DejaVuSans-69\"/>\n     <use x=\"462.207031\" xlink:href=\"#DejaVuSans-73\"/>\n     <use x=\"514.306641\" xlink:href=\"#DejaVuSans-74\"/>\n    </g>\n   </g>\n  </g>\n </g>\n <defs>\n  <clipPath id=\"pb5ecdecf04\">\n   <rect height=\"94.53913\" width=\"145.565217\" x=\"33.2875\" y=\"22.318125\"/>\n  </clipPath>\n  <clipPath id=\"p4548c353e4\">\n   <rect height=\"94.53913\" width=\"145.565217\" x=\"222.522283\" y=\"22.318125\"/>\n  </clipPath>\n  <clipPath id=\"p5184c72906\">\n   <rect height=\"94.53913\" width=\"145.565217\" x=\"33.2875\" y=\"145.218995\"/>\n  </clipPath>\n </defs>\n</svg>\n",
      "image/png": "[encoded data removed]"
     },
     "metadata": {
      "needs_background": "light"
     }
    }
   ],
   "source": [
    "chart_tracks_df[['euclidean_dist','manhattan_dist','cosine_dist']].hist()"
   ]
  },
  {
   "cell_type": "markdown",
   "metadata": {},
   "source": [
    "Modify similarity criteria"
   ]
  },
  {
   "cell_type": "code",
   "execution_count": null,
   "metadata": {},
   "outputs": [],
   "source": []
  },
  {
   "cell_type": "code",
   "execution_count": null,
   "metadata": {},
   "outputs": [],
   "source": []
  },
  {
   "cell_type": "code",
   "execution_count": null,
   "metadata": {},
   "outputs": [],
   "source": []
  },
  {
   "cell_type": "code",
   "execution_count": null,
   "metadata": {},
   "outputs": [],
   "source": []
  },
  {
   "cell_type": "code",
   "execution_count": null,
   "metadata": {},
   "outputs": [],
   "source": []
  },
  {
   "cell_type": "code",
   "execution_count": null,
   "metadata": {},
   "outputs": [],
   "source": []
  },
  {
   "cell_type": "code",
   "execution_count": null,
   "metadata": {},
   "outputs": [],
   "source": []
  },
  {
   "cell_type": "code",
   "execution_count": 47,
   "metadata": {},
   "outputs": [
    {
     "output_type": "execute_result",
     "data": {
      "text/plain": [
       "                    track_id                                   track_name  \\\n",
       "0     3MjUtNVVq3C8Fn0MP3zhXa                        ...Baby One More Time   \n",
       "1     6I9VzXrHxO9rA9A5euc8Ak                                        Toxic   \n",
       "2     6naxalmIoLFWR0siv8dnQQ                       Oops!...I Did It Again   \n",
       "3     4fixebDZAVToLbUCuEloa2                                    Womanizer   \n",
       "4     6ic8OlLUNEATToEFU3xmaH                                   Gimme More   \n",
       "...                      ...                                          ...   \n",
       "1187  3K2lg4fY3CunPMeNlMnR32                       Are You Gonna Be There   \n",
       "1188  50haJiO2RhVsnTQ0Iu7lYS  For the Girl Who Has Everything - Radio Mix   \n",
       "1189  0T9Aq8S8WKdXXh6EXM8cB8                           If I'm Not the One   \n",
       "1190  0S2AEPvmKGcdRYgqQP7MXq                            Music of My Heart   \n",
       "1191  4VqXJoSWd0ldZ7h9pgkFWg                                 A Little Bit   \n",
       "\n",
       "                   artist_id      artist_name                album_id  \\\n",
       "0     26dSoYclwsYLMAKD3tpOr4   Britney Spears  3WNxdumkSMGMJRhEgK80qx   \n",
       "1     26dSoYclwsYLMAKD3tpOr4   Britney Spears  0z7pVBGOD7HCIB7S8eLkLI   \n",
       "2     26dSoYclwsYLMAKD3tpOr4   Britney Spears  5PmgtkodFl2Om3hMXONDll   \n",
       "3     26dSoYclwsYLMAKD3tpOr4   Britney Spears  2tve5DGwub1TtbX1khPX5j   \n",
       "4     26dSoYclwsYLMAKD3tpOr4   Britney Spears  1ePkYcH5ZQCb1b4tQeiEDj   \n",
       "...                      ...              ...                     ...   \n",
       "1187  6Ff53KvcvAj5U7Z1vojB5o           *NSYNC  3bhFoH4PFnY4ifK4981U8X   \n",
       "1188  6Ff53KvcvAj5U7Z1vojB5o           *NSYNC  3bhFoH4PFnY4ifK4981U8X   \n",
       "1189  6Ff53KvcvAj5U7Z1vojB5o           *NSYNC  3bhFoH4PFnY4ifK4981U8X   \n",
       "1190  6Ff53KvcvAj5U7Z1vojB5o           *NSYNC  3bhFoH4PFnY4ifK4981U8X   \n",
       "1191  2tFN9ubMXEhdAQvdQxcsma  Jessica Simpson  0QKZ96QQH4lxtr2e4aQLLE   \n",
       "\n",
       "      duration release_date  popularity  danceability  energy  ...  loudness  \\\n",
       "0       211066   1999-01-12          79         0.759   0.699  ...    -5.745   \n",
       "1       198800   2003-11-13          82         0.774   0.838  ...    -3.914   \n",
       "2       211160   2000-05-16          79         0.751   0.834  ...    -5.444   \n",
       "3       224400   2008-12-02          78         0.724   0.695  ...    -5.226   \n",
       "4       251240   2007-10-25          83         0.788   0.844  ...    -3.131   \n",
       "...        ...          ...         ...           ...     ...  ...       ...   \n",
       "1187    246586   2014-07-29          34         0.472   0.725  ...    -5.442   \n",
       "1188    236746   2014-07-29          28         0.579   0.617  ...    -6.667   \n",
       "1189    201413   2014-07-29          30         0.779   0.835  ...    -5.290   \n",
       "1190    270893   2014-07-29          30         0.537   0.606  ...    -7.029   \n",
       "1191    227440   2001-01-01          26         0.695   0.929  ...    -3.340   \n",
       "\n",
       "      mode  speechiness  acousticness  instrumentalness  liveness  valence  \\\n",
       "0        0       0.0307        0.2020          0.000131    0.4430    0.907   \n",
       "1        0       0.1140        0.0249          0.025000    0.2420    0.924   \n",
       "2        0       0.0437        0.3000          0.000018    0.3550    0.894   \n",
       "3        1       0.0622        0.0730          0.000000    0.0889    0.235   \n",
       "4        1       0.0334        0.2500          0.000678    0.0723    0.382   \n",
       "...    ...          ...           ...               ...       ...      ...   \n",
       "1187     1       0.0314        0.1980          0.000000    0.1390    0.409   \n",
       "1188     0       0.0291        0.1700          0.000000    0.0805    0.596   \n",
       "1189     0       0.0378        0.1620          0.000000    0.2550    0.936   \n",
       "1190     1       0.0382        0.3920          0.000000    0.0903    0.411   \n",
       "1191     0       0.0750        0.1420          0.000000    0.4100    0.796   \n",
       "\n",
       "        tempo             playlist_id           playlist_name  \n",
       "0      92.960  3MjUtNVVq3C8Fn0MP3zhXa  3MjUtNVVq3C8Fn0MP3zhXa  \n",
       "1     143.040  6I9VzXrHxO9rA9A5euc8Ak  6I9VzXrHxO9rA9A5euc8Ak  \n",
       "2      95.053  6naxalmIoLFWR0siv8dnQQ  6naxalmIoLFWR0siv8dnQQ  \n",
       "3     139.000  4fixebDZAVToLbUCuEloa2  4fixebDZAVToLbUCuEloa2  \n",
       "4     113.324  6ic8OlLUNEATToEFU3xmaH  6ic8OlLUNEATToEFU3xmaH  \n",
       "...       ...                     ...                     ...  \n",
       "1187   86.030  3K2lg4fY3CunPMeNlMnR32  3K2lg4fY3CunPMeNlMnR32  \n",
       "1188  170.181  50haJiO2RhVsnTQ0Iu7lYS  50haJiO2RhVsnTQ0Iu7lYS  \n",
       "1189  104.016  0T9Aq8S8WKdXXh6EXM8cB8  0T9Aq8S8WKdXXh6EXM8cB8  \n",
       "1190  112.080  0S2AEPvmKGcdRYgqQP7MXq  0S2AEPvmKGcdRYgqQP7MXq  \n",
       "1191   94.002  4VqXJoSWd0ldZ7h9pgkFWg  4VqXJoSWd0ldZ7h9pgkFWg  \n",
       "\n",
       "[1192 rows x 21 columns]"
      ],
      "text/html": "<div>\n<style scoped>\n    .dataframe tbody tr th:only-of-type {\n        vertical-align: middle;\n    }\n\n    .dataframe tbody tr th {\n        vertical-align: top;\n    }\n\n    .dataframe thead th {\n        text-align: right;\n    }\n</style>\n<table border=\"1\" class=\"dataframe\">\n  <thead>\n    <tr style=\"text-align: right;\">\n      <th></th>\n      <th>track_id</th>\n      <th>track_name</th>\n      <th>artist_id</th>\n      <th>artist_name</th>\n      <th>album_id</th>\n      <th>duration</th>\n      <th>release_date</th>\n      <th>popularity</th>\n      <th>danceability</th>\n      <th>energy</th>\n      <th>...</th>\n      <th>loudness</th>\n      <th>mode</th>\n      <th>speechiness</th>\n      <th>acousticness</th>\n      <th>instrumentalness</th>\n      <th>liveness</th>\n      <th>valence</th>\n      <th>tempo</th>\n      <th>playlist_id</th>\n      <th>playlist_name</th>\n    </tr>\n  </thead>\n  <tbody>\n    <tr>\n      <th>0</th>\n      <td>3MjUtNVVq3C8Fn0MP3zhXa</td>\n      <td>...Baby One More Time</td>\n      <td>26dSoYclwsYLMAKD3tpOr4</td>\n      <td>Britney Spears</td>\n      <td>3WNxdumkSMGMJRhEgK80qx</td>\n      <td>211066</td>\n      <td>1999-01-12</td>\n      <td>79</td>\n      <td>0.759</td>\n      <td>0.699</td>\n      <td>...</td>\n      <td>-5.745</td>\n      <td>0</td>\n      <td>0.0307</td>\n      <td>0.2020</td>\n      <td>0.000131</td>\n      <td>0.4430</td>\n      <td>0.907</td>\n      <td>92.960</td>\n      <td>3MjUtNVVq3C8Fn0MP3zhXa</td>\n      <td>3MjUtNVVq3C8Fn0MP3zhXa</td>\n    </tr>\n    <tr>\n      <th>1</th>\n      <td>6I9VzXrHxO9rA9A5euc8Ak</td>\n      <td>Toxic</td>\n      <td>26dSoYclwsYLMAKD3tpOr4</td>\n      <td>Britney Spears</td>\n      <td>0z7pVBGOD7HCIB7S8eLkLI</td>\n      <td>198800</td>\n      <td>2003-11-13</td>\n      <td>82</td>\n      <td>0.774</td>\n      <td>0.838</td>\n      <td>...</td>\n      <td>-3.914</td>\n      <td>0</td>\n      <td>0.1140</td>\n      <td>0.0249</td>\n      <td>0.025000</td>\n      <td>0.2420</td>\n      <td>0.924</td>\n      <td>143.040</td>\n      <td>6I9VzXrHxO9rA9A5euc8Ak</td>\n      <td>6I9VzXrHxO9rA9A5euc8Ak</td>\n    </tr>\n    <tr>\n      <th>2</th>\n      <td>6naxalmIoLFWR0siv8dnQQ</td>\n      <td>Oops!...I Did It Again</td>\n      <td>26dSoYclwsYLMAKD3tpOr4</td>\n      <td>Britney Spears</td>\n      <td>5PmgtkodFl2Om3hMXONDll</td>\n      <td>211160</td>\n      <td>2000-05-16</td>\n      <td>79</td>\n      <td>0.751</td>\n      <td>0.834</td>\n      <td>...</td>\n      <td>-5.444</td>\n      <td>0</td>\n      <td>0.0437</td>\n      <td>0.3000</td>\n      <td>0.000018</td>\n      <td>0.3550</td>\n      <td>0.894</td>\n      <td>95.053</td>\n      <td>6naxalmIoLFWR0siv8dnQQ</td>\n      <td>6naxalmIoLFWR0siv8dnQQ</td>\n    </tr>\n    <tr>\n      <th>3</th>\n      <td>4fixebDZAVToLbUCuEloa2</td>\n      <td>Womanizer</td>\n      <td>26dSoYclwsYLMAKD3tpOr4</td>\n      <td>Britney Spears</td>\n      <td>2tve5DGwub1TtbX1khPX5j</td>\n      <td>224400</td>\n      <td>2008-12-02</td>\n      <td>78</td>\n      <td>0.724</td>\n      <td>0.695</td>\n      <td>...</td>\n      <td>-5.226</td>\n      <td>1</td>\n      <td>0.0622</td>\n      <td>0.0730</td>\n      <td>0.000000</td>\n      <td>0.0889</td>\n      <td>0.235</td>\n      <td>139.000</td>\n      <td>4fixebDZAVToLbUCuEloa2</td>\n      <td>4fixebDZAVToLbUCuEloa2</td>\n    </tr>\n    <tr>\n      <th>4</th>\n      <td>6ic8OlLUNEATToEFU3xmaH</td>\n      <td>Gimme More</td>\n      <td>26dSoYclwsYLMAKD3tpOr4</td>\n      <td>Britney Spears</td>\n      <td>1ePkYcH5ZQCb1b4tQeiEDj</td>\n      <td>251240</td>\n      <td>2007-10-25</td>\n      <td>83</td>\n      <td>0.788</td>\n      <td>0.844</td>\n      <td>...</td>\n      <td>-3.131</td>\n      <td>1</td>\n      <td>0.0334</td>\n      <td>0.2500</td>\n      <td>0.000678</td>\n      <td>0.0723</td>\n      <td>0.382</td>\n      <td>113.324</td>\n      <td>6ic8OlLUNEATToEFU3xmaH</td>\n      <td>6ic8OlLUNEATToEFU3xmaH</td>\n    </tr>\n    <tr>\n      <th>...</th>\n      <td>...</td>\n      <td>...</td>\n      <td>...</td>\n      <td>...</td>\n      <td>...</td>\n      <td>...</td>\n      <td>...</td>\n      <td>...</td>\n      <td>...</td>\n      <td>...</td>\n      <td>...</td>\n      <td>...</td>\n      <td>...</td>\n      <td>...</td>\n      <td>...</td>\n      <td>...</td>\n      <td>...</td>\n      <td>...</td>\n      <td>...</td>\n      <td>...</td>\n      <td>...</td>\n    </tr>\n    <tr>\n      <th>1187</th>\n      <td>3K2lg4fY3CunPMeNlMnR32</td>\n      <td>Are You Gonna Be There</td>\n      <td>6Ff53KvcvAj5U7Z1vojB5o</td>\n      <td>*NSYNC</td>\n      <td>3bhFoH4PFnY4ifK4981U8X</td>\n      <td>246586</td>\n      <td>2014-07-29</td>\n      <td>34</td>\n      <td>0.472</td>\n      <td>0.725</td>\n      <td>...</td>\n      <td>-5.442</td>\n      <td>1</td>\n      <td>0.0314</td>\n      <td>0.1980</td>\n      <td>0.000000</td>\n      <td>0.1390</td>\n      <td>0.409</td>\n      <td>86.030</td>\n      <td>3K2lg4fY3CunPMeNlMnR32</td>\n      <td>3K2lg4fY3CunPMeNlMnR32</td>\n    </tr>\n    <tr>\n      <th>1188</th>\n      <td>50haJiO2RhVsnTQ0Iu7lYS</td>\n      <td>For the Girl Who Has Everything - Radio Mix</td>\n      <td>6Ff53KvcvAj5U7Z1vojB5o</td>\n      <td>*NSYNC</td>\n      <td>3bhFoH4PFnY4ifK4981U8X</td>\n      <td>236746</td>\n      <td>2014-07-29</td>\n      <td>28</td>\n      <td>0.579</td>\n      <td>0.617</td>\n      <td>...</td>\n      <td>-6.667</td>\n      <td>0</td>\n      <td>0.0291</td>\n      <td>0.1700</td>\n      <td>0.000000</td>\n      <td>0.0805</td>\n      <td>0.596</td>\n      <td>170.181</td>\n      <td>50haJiO2RhVsnTQ0Iu7lYS</td>\n      <td>50haJiO2RhVsnTQ0Iu7lYS</td>\n    </tr>\n    <tr>\n      <th>1189</th>\n      <td>0T9Aq8S8WKdXXh6EXM8cB8</td>\n      <td>If I'm Not the One</td>\n      <td>6Ff53KvcvAj5U7Z1vojB5o</td>\n      <td>*NSYNC</td>\n      <td>3bhFoH4PFnY4ifK4981U8X</td>\n      <td>201413</td>\n      <td>2014-07-29</td>\n      <td>30</td>\n      <td>0.779</td>\n      <td>0.835</td>\n      <td>...</td>\n      <td>-5.290</td>\n      <td>0</td>\n      <td>0.0378</td>\n      <td>0.1620</td>\n      <td>0.000000</td>\n      <td>0.2550</td>\n      <td>0.936</td>\n      <td>104.016</td>\n      <td>0T9Aq8S8WKdXXh6EXM8cB8</td>\n      <td>0T9Aq8S8WKdXXh6EXM8cB8</td>\n    </tr>\n    <tr>\n      <th>1190</th>\n      <td>0S2AEPvmKGcdRYgqQP7MXq</td>\n      <td>Music of My Heart</td>\n      <td>6Ff53KvcvAj5U7Z1vojB5o</td>\n      <td>*NSYNC</td>\n      <td>3bhFoH4PFnY4ifK4981U8X</td>\n      <td>270893</td>\n      <td>2014-07-29</td>\n      <td>30</td>\n      <td>0.537</td>\n      <td>0.606</td>\n      <td>...</td>\n      <td>-7.029</td>\n      <td>1</td>\n      <td>0.0382</td>\n      <td>0.3920</td>\n      <td>0.000000</td>\n      <td>0.0903</td>\n      <td>0.411</td>\n      <td>112.080</td>\n      <td>0S2AEPvmKGcdRYgqQP7MXq</td>\n      <td>0S2AEPvmKGcdRYgqQP7MXq</td>\n    </tr>\n    <tr>\n      <th>1191</th>\n      <td>4VqXJoSWd0ldZ7h9pgkFWg</td>\n      <td>A Little Bit</td>\n      <td>2tFN9ubMXEhdAQvdQxcsma</td>\n      <td>Jessica Simpson</td>\n      <td>0QKZ96QQH4lxtr2e4aQLLE</td>\n      <td>227440</td>\n      <td>2001-01-01</td>\n      <td>26</td>\n      <td>0.695</td>\n      <td>0.929</td>\n      <td>...</td>\n      <td>-3.340</td>\n      <td>0</td>\n      <td>0.0750</td>\n      <td>0.1420</td>\n      <td>0.000000</td>\n      <td>0.4100</td>\n      <td>0.796</td>\n      <td>94.002</td>\n      <td>4VqXJoSWd0ldZ7h9pgkFWg</td>\n      <td>4VqXJoSWd0ldZ7h9pgkFWg</td>\n    </tr>\n  </tbody>\n</table>\n<p>1192 rows × 21 columns</p>\n</div>"
     },
     "metadata": {},
     "execution_count": 47
    }
   ],
   "source": [
    "bs_df = pd.read_csv('data/Britney Spears_playlist_tracks_data.csv')\n",
    "bs_df"
   ]
  },
  {
   "cell_type": "code",
   "execution_count": 48,
   "metadata": {},
   "outputs": [
    {
     "output_type": "execute_result",
     "data": {
      "text/plain": [
       "                   track_id  \\\n",
       "0    3MjUtNVVq3C8Fn0MP3zhXa   \n",
       "1    6I9VzXrHxO9rA9A5euc8Ak   \n",
       "2    6naxalmIoLFWR0siv8dnQQ   \n",
       "3    4fixebDZAVToLbUCuEloa2   \n",
       "4    6ic8OlLUNEATToEFU3xmaH   \n",
       "..                      ...   \n",
       "537  5GP8vMD6WaOffDeJfbit0m   \n",
       "538  0cG2rnJV6G9GqYHOesbM4U   \n",
       "539  6H01lZiYF1zWlPqpJlu9as   \n",
       "851  0FzZkbdKATBMU4fKHXah3R   \n",
       "854  61iJ9cAYgB5rJamvuChwEn   \n",
       "\n",
       "                                            track_name  \\\n",
       "0                                ...Baby One More Time   \n",
       "1                                                Toxic   \n",
       "2                               Oops!...I Did It Again   \n",
       "3                                            Womanizer   \n",
       "4                                           Gimme More   \n",
       "..                                                 ...   \n",
       "537   Gimme More (\"Kimme More\" Remix) (feat. Lil' Kim)   \n",
       "538                           Radar - Tonal Club Remix   \n",
       "539                            Gimme More - Remastered   \n",
       "851  From the Bottom of My Broken Heart - Radio Edi...   \n",
       "854                        Someday (I Will Understand)   \n",
       "\n",
       "                  artist_id     artist_name                album_id  duration  \\\n",
       "0    26dSoYclwsYLMAKD3tpOr4  Britney Spears  3WNxdumkSMGMJRhEgK80qx    211066   \n",
       "1    26dSoYclwsYLMAKD3tpOr4  Britney Spears  0z7pVBGOD7HCIB7S8eLkLI    198800   \n",
       "2    26dSoYclwsYLMAKD3tpOr4  Britney Spears  5PmgtkodFl2Om3hMXONDll    211160   \n",
       "3    26dSoYclwsYLMAKD3tpOr4  Britney Spears  2tve5DGwub1TtbX1khPX5j    224400   \n",
       "4    26dSoYclwsYLMAKD3tpOr4  Britney Spears  1ePkYcH5ZQCb1b4tQeiEDj    251240   \n",
       "..                      ...             ...                     ...       ...   \n",
       "537  26dSoYclwsYLMAKD3tpOr4  Britney Spears  5OKcpFYgWvyiYhEG6Bdoyc    252720   \n",
       "538  26dSoYclwsYLMAKD3tpOr4  Britney Spears  6KyOIN8ljZIuggUSvcCnuI    295413   \n",
       "539  26dSoYclwsYLMAKD3tpOr4  Britney Spears  2ti2e8J05nwg9ikcMjW8aS    251840   \n",
       "851  26dSoYclwsYLMAKD3tpOr4  Britney Spears  325wcm5wMnlfjmKZ8PXIIn    274133   \n",
       "854  26dSoYclwsYLMAKD3tpOr4  Britney Spears  1vTd9YWAo7zQVhWlDg5wE0    216933   \n",
       "\n",
       "    release_date  popularity  danceability  energy  key  loudness  mode  \\\n",
       "0     1999-01-12          79         0.759   0.699    0    -5.745     0   \n",
       "1     2003-11-13          82         0.774   0.838    5    -3.914     0   \n",
       "2     2000-05-16          79         0.751   0.834    1    -5.444     0   \n",
       "3     2008-12-02          78         0.724   0.695   11    -5.226     1   \n",
       "4     2007-10-25          83         0.788   0.844    2    -3.131     1   \n",
       "..           ...         ...           ...     ...  ...       ...   ...   \n",
       "537   2008-01-08          43         0.782   0.887    2    -2.356     1   \n",
       "538   2011-10-07          21         0.661   0.834    1    -5.451     0   \n",
       "539   2014-07-29          55         0.793   0.849    2    -3.429     1   \n",
       "851   2009-11-09          27         0.667   0.602    7    -6.707     1   \n",
       "854   2005-09-27          36         0.523   0.561    0    -9.444     0   \n",
       "\n",
       "     speechiness  acousticness  instrumentalness  liveness  valence    tempo  \n",
       "0         0.0307      0.202000          0.000131    0.4430    0.907   92.960  \n",
       "1         0.1140      0.024900          0.025000    0.2420    0.924  143.040  \n",
       "2         0.0437      0.300000          0.000018    0.3550    0.894   95.053  \n",
       "3         0.0622      0.073000          0.000000    0.0889    0.235  139.000  \n",
       "4         0.0334      0.250000          0.000678    0.0723    0.382  113.324  \n",
       "..           ...           ...               ...       ...      ...      ...  \n",
       "537       0.0743      0.265000          0.000013    0.1860    0.490  113.303  \n",
       "538       0.0490      0.000112          0.662000    0.1360    0.110  127.997  \n",
       "539       0.0330      0.293000          0.004170    0.0630    0.405  113.298  \n",
       "851       0.0299      0.335000          0.000000    0.3700    0.635   74.970  \n",
       "854       0.0275      0.732000          0.000025    0.1260    0.176  135.972  \n",
       "\n",
       "[191 rows x 19 columns]"
      ],
      "text/html": "<div>\n<style scoped>\n    .dataframe tbody tr th:only-of-type {\n        vertical-align: middle;\n    }\n\n    .dataframe tbody tr th {\n        vertical-align: top;\n    }\n\n    .dataframe thead th {\n        text-align: right;\n    }\n</style>\n<table border=\"1\" class=\"dataframe\">\n  <thead>\n    <tr style=\"text-align: right;\">\n      <th></th>\n      <th>track_id</th>\n      <th>track_name</th>\n      <th>artist_id</th>\n      <th>artist_name</th>\n      <th>album_id</th>\n      <th>duration</th>\n      <th>release_date</th>\n      <th>popularity</th>\n      <th>danceability</th>\n      <th>energy</th>\n      <th>key</th>\n      <th>loudness</th>\n      <th>mode</th>\n      <th>speechiness</th>\n      <th>acousticness</th>\n      <th>instrumentalness</th>\n      <th>liveness</th>\n      <th>valence</th>\n      <th>tempo</th>\n    </tr>\n  </thead>\n  <tbody>\n    <tr>\n      <th>0</th>\n      <td>3MjUtNVVq3C8Fn0MP3zhXa</td>\n      <td>...Baby One More Time</td>\n      <td>26dSoYclwsYLMAKD3tpOr4</td>\n      <td>Britney Spears</td>\n      <td>3WNxdumkSMGMJRhEgK80qx</td>\n      <td>211066</td>\n      <td>1999-01-12</td>\n      <td>79</td>\n      <td>0.759</td>\n      <td>0.699</td>\n      <td>0</td>\n      <td>-5.745</td>\n      <td>0</td>\n      <td>0.0307</td>\n      <td>0.202000</td>\n      <td>0.000131</td>\n      <td>0.4430</td>\n      <td>0.907</td>\n      <td>92.960</td>\n    </tr>\n    <tr>\n      <th>1</th>\n      <td>6I9VzXrHxO9rA9A5euc8Ak</td>\n      <td>Toxic</td>\n      <td>26dSoYclwsYLMAKD3tpOr4</td>\n      <td>Britney Spears</td>\n      <td>0z7pVBGOD7HCIB7S8eLkLI</td>\n      <td>198800</td>\n      <td>2003-11-13</td>\n      <td>82</td>\n      <td>0.774</td>\n      <td>0.838</td>\n      <td>5</td>\n      <td>-3.914</td>\n      <td>0</td>\n      <td>0.1140</td>\n      <td>0.024900</td>\n      <td>0.025000</td>\n      <td>0.2420</td>\n      <td>0.924</td>\n      <td>143.040</td>\n    </tr>\n    <tr>\n      <th>2</th>\n      <td>6naxalmIoLFWR0siv8dnQQ</td>\n      <td>Oops!...I Did It Again</td>\n      <td>26dSoYclwsYLMAKD3tpOr4</td>\n      <td>Britney Spears</td>\n      <td>5PmgtkodFl2Om3hMXONDll</td>\n      <td>211160</td>\n      <td>2000-05-16</td>\n      <td>79</td>\n      <td>0.751</td>\n      <td>0.834</td>\n      <td>1</td>\n      <td>-5.444</td>\n      <td>0</td>\n      <td>0.0437</td>\n      <td>0.300000</td>\n      <td>0.000018</td>\n      <td>0.3550</td>\n      <td>0.894</td>\n      <td>95.053</td>\n    </tr>\n    <tr>\n      <th>3</th>\n      <td>4fixebDZAVToLbUCuEloa2</td>\n      <td>Womanizer</td>\n      <td>26dSoYclwsYLMAKD3tpOr4</td>\n      <td>Britney Spears</td>\n      <td>2tve5DGwub1TtbX1khPX5j</td>\n      <td>224400</td>\n      <td>2008-12-02</td>\n      <td>78</td>\n      <td>0.724</td>\n      <td>0.695</td>\n      <td>11</td>\n      <td>-5.226</td>\n      <td>1</td>\n      <td>0.0622</td>\n      <td>0.073000</td>\n      <td>0.000000</td>\n      <td>0.0889</td>\n      <td>0.235</td>\n      <td>139.000</td>\n    </tr>\n    <tr>\n      <th>4</th>\n      <td>6ic8OlLUNEATToEFU3xmaH</td>\n      <td>Gimme More</td>\n      <td>26dSoYclwsYLMAKD3tpOr4</td>\n      <td>Britney Spears</td>\n      <td>1ePkYcH5ZQCb1b4tQeiEDj</td>\n      <td>251240</td>\n      <td>2007-10-25</td>\n      <td>83</td>\n      <td>0.788</td>\n      <td>0.844</td>\n      <td>2</td>\n      <td>-3.131</td>\n      <td>1</td>\n      <td>0.0334</td>\n      <td>0.250000</td>\n      <td>0.000678</td>\n      <td>0.0723</td>\n      <td>0.382</td>\n      <td>113.324</td>\n    </tr>\n    <tr>\n      <th>...</th>\n      <td>...</td>\n      <td>...</td>\n      <td>...</td>\n      <td>...</td>\n      <td>...</td>\n      <td>...</td>\n      <td>...</td>\n      <td>...</td>\n      <td>...</td>\n      <td>...</td>\n      <td>...</td>\n      <td>...</td>\n      <td>...</td>\n      <td>...</td>\n      <td>...</td>\n      <td>...</td>\n      <td>...</td>\n      <td>...</td>\n      <td>...</td>\n    </tr>\n    <tr>\n      <th>537</th>\n      <td>5GP8vMD6WaOffDeJfbit0m</td>\n      <td>Gimme More (\"Kimme More\" Remix) (feat. Lil' Kim)</td>\n      <td>26dSoYclwsYLMAKD3tpOr4</td>\n      <td>Britney Spears</td>\n      <td>5OKcpFYgWvyiYhEG6Bdoyc</td>\n      <td>252720</td>\n      <td>2008-01-08</td>\n      <td>43</td>\n      <td>0.782</td>\n      <td>0.887</td>\n      <td>2</td>\n      <td>-2.356</td>\n      <td>1</td>\n      <td>0.0743</td>\n      <td>0.265000</td>\n      <td>0.000013</td>\n      <td>0.1860</td>\n      <td>0.490</td>\n      <td>113.303</td>\n    </tr>\n    <tr>\n      <th>538</th>\n      <td>0cG2rnJV6G9GqYHOesbM4U</td>\n      <td>Radar - Tonal Club Remix</td>\n      <td>26dSoYclwsYLMAKD3tpOr4</td>\n      <td>Britney Spears</td>\n      <td>6KyOIN8ljZIuggUSvcCnuI</td>\n      <td>295413</td>\n      <td>2011-10-07</td>\n      <td>21</td>\n      <td>0.661</td>\n      <td>0.834</td>\n      <td>1</td>\n      <td>-5.451</td>\n      <td>0</td>\n      <td>0.0490</td>\n      <td>0.000112</td>\n      <td>0.662000</td>\n      <td>0.1360</td>\n      <td>0.110</td>\n      <td>127.997</td>\n    </tr>\n    <tr>\n      <th>539</th>\n      <td>6H01lZiYF1zWlPqpJlu9as</td>\n      <td>Gimme More - Remastered</td>\n      <td>26dSoYclwsYLMAKD3tpOr4</td>\n      <td>Britney Spears</td>\n      <td>2ti2e8J05nwg9ikcMjW8aS</td>\n      <td>251840</td>\n      <td>2014-07-29</td>\n      <td>55</td>\n      <td>0.793</td>\n      <td>0.849</td>\n      <td>2</td>\n      <td>-3.429</td>\n      <td>1</td>\n      <td>0.0330</td>\n      <td>0.293000</td>\n      <td>0.004170</td>\n      <td>0.0630</td>\n      <td>0.405</td>\n      <td>113.298</td>\n    </tr>\n    <tr>\n      <th>851</th>\n      <td>0FzZkbdKATBMU4fKHXah3R</td>\n      <td>From the Bottom of My Broken Heart - Radio Edi...</td>\n      <td>26dSoYclwsYLMAKD3tpOr4</td>\n      <td>Britney Spears</td>\n      <td>325wcm5wMnlfjmKZ8PXIIn</td>\n      <td>274133</td>\n      <td>2009-11-09</td>\n      <td>27</td>\n      <td>0.667</td>\n      <td>0.602</td>\n      <td>7</td>\n      <td>-6.707</td>\n      <td>1</td>\n      <td>0.0299</td>\n      <td>0.335000</td>\n      <td>0.000000</td>\n      <td>0.3700</td>\n      <td>0.635</td>\n      <td>74.970</td>\n    </tr>\n    <tr>\n      <th>854</th>\n      <td>61iJ9cAYgB5rJamvuChwEn</td>\n      <td>Someday (I Will Understand)</td>\n      <td>26dSoYclwsYLMAKD3tpOr4</td>\n      <td>Britney Spears</td>\n      <td>1vTd9YWAo7zQVhWlDg5wE0</td>\n      <td>216933</td>\n      <td>2005-09-27</td>\n      <td>36</td>\n      <td>0.523</td>\n      <td>0.561</td>\n      <td>0</td>\n      <td>-9.444</td>\n      <td>0</td>\n      <td>0.0275</td>\n      <td>0.732000</td>\n      <td>0.000025</td>\n      <td>0.1260</td>\n      <td>0.176</td>\n      <td>135.972</td>\n    </tr>\n  </tbody>\n</table>\n<p>191 rows × 19 columns</p>\n</div>"
     },
     "metadata": {},
     "execution_count": 48
    }
   ],
   "source": [
    "bs_df = bs_df[bs_df.artist_name == 'Britney Spears'].drop_duplicates()[bs_df.columns[:-2]]\n",
    "bs_df = bs_df.drop_duplicates(subset='track_name')\n",
    "bs_df"
   ]
  },
  {
   "cell_type": "code",
   "execution_count": 49,
   "metadata": {},
   "outputs": [
    {
     "output_type": "execute_result",
     "data": {
      "text/plain": [
       "                    track_id              track_name               artist_id  \\\n",
       "0     0kN8xEmgMW9mh7UmDYHlJP    Versace on the Floor  0du5cEVh5yTK9QJze8zA0C   \n",
       "1     5uCax9HTNlzGybIStD3vDh    Say You Won't Let Go  4IWBUUAFIplrNtaOHcJPRM   \n",
       "2     7BKLCZ1jbUBVqRi2FVlTVw                  Closer  69GGBxA162lTqCwzJG5jLp   \n",
       "3     2rizacJSyD9S1IQUxUxnsK             All We Know  69GGBxA162lTqCwzJG5jLp   \n",
       "4     5MFzQMkrl1FOOng9tq6R9r        Don't Wanna Know  04gDigrS5kc9YWfZHwBETP   \n",
       "...                      ...                     ...                     ...   \n",
       "3490  2zrhoHlFKxFTRF5aMyxMoQ              Next Level  6YVMFz59CuY7ngCxTxjpxE   \n",
       "3491  2UbVnbE5FH6008mAm6Mmgw                     Run  5Pwc4xIPtQLFEnJriah9YJ   \n",
       "3492  7I9RoRcJ0N9rvN4p4KWPsH               Paraluman  3Dr5ezvDdYsycy1gfaZWSL   \n",
       "3493  2RFzaIg3tJhvJdNIUqvr9R        Got It Like That  0UntV1Bw2hk3fbRrm9eMP6   \n",
       "3494  1K3qfNiMOzI5cbILMuWnRN  Pajama Party (Cypher1)  1HkpK55jsORzgtOURbOeQH   \n",
       "\n",
       "           artist_name                album_id  duration release_date  \\\n",
       "0           Bruno Mars  4PgleR09JVnm3zY1fW3XBA    261240   2016-11-17   \n",
       "1         James Arthur  7oiJYvEJHsmYtrgviAVIBD    211466   2016-10-28   \n",
       "2     The Chainsmokers  0rSLgV8p5FzfnqlEk4GzxE    244960   2016-07-29   \n",
       "3     The Chainsmokers  0xmaV6EtJ4M3ebZUPRnhyb    194080   2016-09-29   \n",
       "4             Maroon 5  0fvTn3WXF39kQs9i3bnNpP    214480   2016-10-11   \n",
       "...                ...                     ...       ...          ...   \n",
       "3490             aespa  2CzbrboOLzeRoaaH1N5K0N    221573   2021-05-17   \n",
       "3491       OneRepublic  4d0a5uamW9NWRc1KXFeErI    169010   2021-05-05   \n",
       "3492             raven  2eKPpTGmSRX3bfBZm9QxiN    224578   2021-02-18   \n",
       "3493               B.I  4LIOJLYeTXrz6rvfk0O6xK    178775   2021-05-14   \n",
       "3494         1096 Gang  26qu71y2e7oTldH96Bb0lv    323476   2021-01-09   \n",
       "\n",
       "      popularity  danceability  energy   key  loudness  mode  speechiness  \\\n",
       "0             76         0.578   0.574   2.0    -6.209   1.0       0.0454   \n",
       "1             85         0.358   0.557  10.0    -7.398   1.0       0.0590   \n",
       "2             85         0.748   0.524   8.0    -5.599   1.0       0.0338   \n",
       "3             69         0.662   0.586   0.0    -8.821   1.0       0.0307   \n",
       "4              0         0.783   0.623   7.0    -6.126   1.0       0.0800   \n",
       "...          ...           ...     ...   ...       ...   ...          ...   \n",
       "3490          74         0.820   0.852  11.0    -2.567   0.0       0.1660   \n",
       "3491          82         0.682   0.720  11.0    -8.173   0.0       0.0381   \n",
       "3492          58         0.745   0.497   2.0    -5.767   1.0       0.1360   \n",
       "3493          64         0.803   0.519   5.0    -8.210   1.0       0.0359   \n",
       "3494          63           NaN     NaN   NaN       NaN   NaN          NaN   \n",
       "\n",
       "      acousticness  instrumentalness  liveness  valence    tempo  \n",
       "0          0.19600          0.000000    0.0830    0.301  174.152  \n",
       "1          0.69500          0.000000    0.0902    0.494   85.043  \n",
       "2          0.41400          0.000000    0.1110    0.661   95.010  \n",
       "3          0.09700          0.002720    0.1150    0.296   90.000  \n",
       "4          0.33800          0.000000    0.0975    0.447  100.048  \n",
       "...            ...               ...       ...      ...      ...  \n",
       "3490       0.48800          0.000006    0.0907    0.820  109.036  \n",
       "3491       0.32600          0.000000    0.1480    0.673  117.003  \n",
       "3492       0.00611          0.033000    0.1830    0.438   75.019  \n",
       "3493       0.08500          0.000078    0.3060    0.644   97.966  \n",
       "3494           NaN               NaN       NaN      NaN      NaN  \n",
       "\n",
       "[3491 rows x 19 columns]"
      ],
      "text/html": "<div>\n<style scoped>\n    .dataframe tbody tr th:only-of-type {\n        vertical-align: middle;\n    }\n\n    .dataframe tbody tr th {\n        vertical-align: top;\n    }\n\n    .dataframe thead th {\n        text-align: right;\n    }\n</style>\n<table border=\"1\" class=\"dataframe\">\n  <thead>\n    <tr style=\"text-align: right;\">\n      <th></th>\n      <th>track_id</th>\n      <th>track_name</th>\n      <th>artist_id</th>\n      <th>artist_name</th>\n      <th>album_id</th>\n      <th>duration</th>\n      <th>release_date</th>\n      <th>popularity</th>\n      <th>danceability</th>\n      <th>energy</th>\n      <th>key</th>\n      <th>loudness</th>\n      <th>mode</th>\n      <th>speechiness</th>\n      <th>acousticness</th>\n      <th>instrumentalness</th>\n      <th>liveness</th>\n      <th>valence</th>\n      <th>tempo</th>\n    </tr>\n  </thead>\n  <tbody>\n    <tr>\n      <th>0</th>\n      <td>0kN8xEmgMW9mh7UmDYHlJP</td>\n      <td>Versace on the Floor</td>\n      <td>0du5cEVh5yTK9QJze8zA0C</td>\n      <td>Bruno Mars</td>\n      <td>4PgleR09JVnm3zY1fW3XBA</td>\n      <td>261240</td>\n      <td>2016-11-17</td>\n      <td>76</td>\n      <td>0.578</td>\n      <td>0.574</td>\n      <td>2.0</td>\n      <td>-6.209</td>\n      <td>1.0</td>\n      <td>0.0454</td>\n      <td>0.19600</td>\n      <td>0.000000</td>\n      <td>0.0830</td>\n      <td>0.301</td>\n      <td>174.152</td>\n    </tr>\n    <tr>\n      <th>1</th>\n      <td>5uCax9HTNlzGybIStD3vDh</td>\n      <td>Say You Won't Let Go</td>\n      <td>4IWBUUAFIplrNtaOHcJPRM</td>\n      <td>James Arthur</td>\n      <td>7oiJYvEJHsmYtrgviAVIBD</td>\n      <td>211466</td>\n      <td>2016-10-28</td>\n      <td>85</td>\n      <td>0.358</td>\n      <td>0.557</td>\n      <td>10.0</td>\n      <td>-7.398</td>\n      <td>1.0</td>\n      <td>0.0590</td>\n      <td>0.69500</td>\n      <td>0.000000</td>\n      <td>0.0902</td>\n      <td>0.494</td>\n      <td>85.043</td>\n    </tr>\n    <tr>\n      <th>2</th>\n      <td>7BKLCZ1jbUBVqRi2FVlTVw</td>\n      <td>Closer</td>\n      <td>69GGBxA162lTqCwzJG5jLp</td>\n      <td>The Chainsmokers</td>\n      <td>0rSLgV8p5FzfnqlEk4GzxE</td>\n      <td>244960</td>\n      <td>2016-07-29</td>\n      <td>85</td>\n      <td>0.748</td>\n      <td>0.524</td>\n      <td>8.0</td>\n      <td>-5.599</td>\n      <td>1.0</td>\n      <td>0.0338</td>\n      <td>0.41400</td>\n      <td>0.000000</td>\n      <td>0.1110</td>\n      <td>0.661</td>\n      <td>95.010</td>\n    </tr>\n    <tr>\n      <th>3</th>\n      <td>2rizacJSyD9S1IQUxUxnsK</td>\n      <td>All We Know</td>\n      <td>69GGBxA162lTqCwzJG5jLp</td>\n      <td>The Chainsmokers</td>\n      <td>0xmaV6EtJ4M3ebZUPRnhyb</td>\n      <td>194080</td>\n      <td>2016-09-29</td>\n      <td>69</td>\n      <td>0.662</td>\n      <td>0.586</td>\n      <td>0.0</td>\n      <td>-8.821</td>\n      <td>1.0</td>\n      <td>0.0307</td>\n      <td>0.09700</td>\n      <td>0.002720</td>\n      <td>0.1150</td>\n      <td>0.296</td>\n      <td>90.000</td>\n    </tr>\n    <tr>\n      <th>4</th>\n      <td>5MFzQMkrl1FOOng9tq6R9r</td>\n      <td>Don't Wanna Know</td>\n      <td>04gDigrS5kc9YWfZHwBETP</td>\n      <td>Maroon 5</td>\n      <td>0fvTn3WXF39kQs9i3bnNpP</td>\n      <td>214480</td>\n      <td>2016-10-11</td>\n      <td>0</td>\n      <td>0.783</td>\n      <td>0.623</td>\n      <td>7.0</td>\n      <td>-6.126</td>\n      <td>1.0</td>\n      <td>0.0800</td>\n      <td>0.33800</td>\n      <td>0.000000</td>\n      <td>0.0975</td>\n      <td>0.447</td>\n      <td>100.048</td>\n    </tr>\n    <tr>\n      <th>...</th>\n      <td>...</td>\n      <td>...</td>\n      <td>...</td>\n      <td>...</td>\n      <td>...</td>\n      <td>...</td>\n      <td>...</td>\n      <td>...</td>\n      <td>...</td>\n      <td>...</td>\n      <td>...</td>\n      <td>...</td>\n      <td>...</td>\n      <td>...</td>\n      <td>...</td>\n      <td>...</td>\n      <td>...</td>\n      <td>...</td>\n      <td>...</td>\n    </tr>\n    <tr>\n      <th>3490</th>\n      <td>2zrhoHlFKxFTRF5aMyxMoQ</td>\n      <td>Next Level</td>\n      <td>6YVMFz59CuY7ngCxTxjpxE</td>\n      <td>aespa</td>\n      <td>2CzbrboOLzeRoaaH1N5K0N</td>\n      <td>221573</td>\n      <td>2021-05-17</td>\n      <td>74</td>\n      <td>0.820</td>\n      <td>0.852</td>\n      <td>11.0</td>\n      <td>-2.567</td>\n      <td>0.0</td>\n      <td>0.1660</td>\n      <td>0.48800</td>\n      <td>0.000006</td>\n      <td>0.0907</td>\n      <td>0.820</td>\n      <td>109.036</td>\n    </tr>\n    <tr>\n      <th>3491</th>\n      <td>2UbVnbE5FH6008mAm6Mmgw</td>\n      <td>Run</td>\n      <td>5Pwc4xIPtQLFEnJriah9YJ</td>\n      <td>OneRepublic</td>\n      <td>4d0a5uamW9NWRc1KXFeErI</td>\n      <td>169010</td>\n      <td>2021-05-05</td>\n      <td>82</td>\n      <td>0.682</td>\n      <td>0.720</td>\n      <td>11.0</td>\n      <td>-8.173</td>\n      <td>0.0</td>\n      <td>0.0381</td>\n      <td>0.32600</td>\n      <td>0.000000</td>\n      <td>0.1480</td>\n      <td>0.673</td>\n      <td>117.003</td>\n    </tr>\n    <tr>\n      <th>3492</th>\n      <td>7I9RoRcJ0N9rvN4p4KWPsH</td>\n      <td>Paraluman</td>\n      <td>3Dr5ezvDdYsycy1gfaZWSL</td>\n      <td>raven</td>\n      <td>2eKPpTGmSRX3bfBZm9QxiN</td>\n      <td>224578</td>\n      <td>2021-02-18</td>\n      <td>58</td>\n      <td>0.745</td>\n      <td>0.497</td>\n      <td>2.0</td>\n      <td>-5.767</td>\n      <td>1.0</td>\n      <td>0.1360</td>\n      <td>0.00611</td>\n      <td>0.033000</td>\n      <td>0.1830</td>\n      <td>0.438</td>\n      <td>75.019</td>\n    </tr>\n    <tr>\n      <th>3493</th>\n      <td>2RFzaIg3tJhvJdNIUqvr9R</td>\n      <td>Got It Like That</td>\n      <td>0UntV1Bw2hk3fbRrm9eMP6</td>\n      <td>B.I</td>\n      <td>4LIOJLYeTXrz6rvfk0O6xK</td>\n      <td>178775</td>\n      <td>2021-05-14</td>\n      <td>64</td>\n      <td>0.803</td>\n      <td>0.519</td>\n      <td>5.0</td>\n      <td>-8.210</td>\n      <td>1.0</td>\n      <td>0.0359</td>\n      <td>0.08500</td>\n      <td>0.000078</td>\n      <td>0.3060</td>\n      <td>0.644</td>\n      <td>97.966</td>\n    </tr>\n    <tr>\n      <th>3494</th>\n      <td>1K3qfNiMOzI5cbILMuWnRN</td>\n      <td>Pajama Party (Cypher1)</td>\n      <td>1HkpK55jsORzgtOURbOeQH</td>\n      <td>1096 Gang</td>\n      <td>26qu71y2e7oTldH96Bb0lv</td>\n      <td>323476</td>\n      <td>2021-01-09</td>\n      <td>63</td>\n      <td>NaN</td>\n      <td>NaN</td>\n      <td>NaN</td>\n      <td>NaN</td>\n      <td>NaN</td>\n      <td>NaN</td>\n      <td>NaN</td>\n      <td>NaN</td>\n      <td>NaN</td>\n      <td>NaN</td>\n      <td>NaN</td>\n    </tr>\n  </tbody>\n</table>\n<p>3491 rows × 19 columns</p>\n</div>"
     },
     "metadata": {},
     "execution_count": 49
    }
   ],
   "source": [
    "chart_df = pd.read_csv(\"data/spotify_daily_charts_tracks.csv\").drop_duplicates()\n",
    "chart_df = chart_df[chart_df.artist_name != 'Britney Spears']\n",
    "chart_df"
   ]
  },
  {
   "cell_type": "code",
   "execution_count": 50,
   "metadata": {},
   "outputs": [
    {
     "output_type": "execute_result",
     "data": {
      "text/plain": [
       "                    track_id              track_name               artist_id  \\\n",
       "0     3MjUtNVVq3C8Fn0MP3zhXa   ...Baby One More Time  26dSoYclwsYLMAKD3tpOr4   \n",
       "1     6I9VzXrHxO9rA9A5euc8Ak                   Toxic  26dSoYclwsYLMAKD3tpOr4   \n",
       "2     6naxalmIoLFWR0siv8dnQQ  Oops!...I Did It Again  26dSoYclwsYLMAKD3tpOr4   \n",
       "3     4fixebDZAVToLbUCuEloa2               Womanizer  26dSoYclwsYLMAKD3tpOr4   \n",
       "4     6ic8OlLUNEATToEFU3xmaH              Gimme More  26dSoYclwsYLMAKD3tpOr4   \n",
       "...                      ...                     ...                     ...   \n",
       "3489  6Fz2TpxUD0YvAPsuG8nDMJ                    MAPA  3g7vYcdDXnqnDKYFwqXBJP   \n",
       "3490  2zrhoHlFKxFTRF5aMyxMoQ              Next Level  6YVMFz59CuY7ngCxTxjpxE   \n",
       "3491  2UbVnbE5FH6008mAm6Mmgw                     Run  5Pwc4xIPtQLFEnJriah9YJ   \n",
       "3492  7I9RoRcJ0N9rvN4p4KWPsH               Paraluman  3Dr5ezvDdYsycy1gfaZWSL   \n",
       "3493  2RFzaIg3tJhvJdNIUqvr9R        Got It Like That  0UntV1Bw2hk3fbRrm9eMP6   \n",
       "\n",
       "         artist_name                album_id  duration release_date  \\\n",
       "0     Britney Spears  3WNxdumkSMGMJRhEgK80qx    211066   1999-01-12   \n",
       "1     Britney Spears  0z7pVBGOD7HCIB7S8eLkLI    198800   2003-11-13   \n",
       "2     Britney Spears  5PmgtkodFl2Om3hMXONDll    211160   2000-05-16   \n",
       "3     Britney Spears  2tve5DGwub1TtbX1khPX5j    224400   2008-12-02   \n",
       "4     Britney Spears  1ePkYcH5ZQCb1b4tQeiEDj    251240   2007-10-25   \n",
       "...              ...                     ...       ...          ...   \n",
       "3489            SB19  4Qhx57hNp0CUmUbO2igtAq    275420   2021-05-16   \n",
       "3490           aespa  2CzbrboOLzeRoaaH1N5K0N    221573   2021-05-17   \n",
       "3491     OneRepublic  4d0a5uamW9NWRc1KXFeErI    169010   2021-05-05   \n",
       "3492           raven  2eKPpTGmSRX3bfBZm9QxiN    224578   2021-02-18   \n",
       "3493             B.I  4LIOJLYeTXrz6rvfk0O6xK    178775   2021-05-14   \n",
       "\n",
       "      popularity  danceability  energy   key  loudness  mode  speechiness  \\\n",
       "0             79         0.759   0.699   0.0    -5.745   0.0       0.0307   \n",
       "1             82         0.774   0.838   5.0    -3.914   0.0       0.1140   \n",
       "2             79         0.751   0.834   1.0    -5.444   0.0       0.0437   \n",
       "3             78         0.724   0.695  11.0    -5.226   1.0       0.0622   \n",
       "4             83         0.788   0.844   2.0    -3.131   1.0       0.0334   \n",
       "...          ...           ...     ...   ...       ...   ...          ...   \n",
       "3489          58         0.561   0.651   9.0    -4.862   1.0       0.0689   \n",
       "3490          74         0.820   0.852  11.0    -2.567   0.0       0.1660   \n",
       "3491          82         0.682   0.720  11.0    -8.173   0.0       0.0381   \n",
       "3492          58         0.745   0.497   2.0    -5.767   1.0       0.1360   \n",
       "3493          64         0.803   0.519   5.0    -8.210   1.0       0.0359   \n",
       "\n",
       "      acousticness  instrumentalness  liveness  valence    tempo  \n",
       "0          0.20200          0.000131    0.4430    0.907   92.960  \n",
       "1          0.02490          0.025000    0.2420    0.924  143.040  \n",
       "2          0.30000          0.000018    0.3550    0.894   95.053  \n",
       "3          0.07300          0.000000    0.0889    0.235  139.000  \n",
       "4          0.25000          0.000678    0.0723    0.382  113.324  \n",
       "...            ...               ...       ...      ...      ...  \n",
       "3489       0.30900          0.000000    0.3780    0.355  129.957  \n",
       "3490       0.48800          0.000006    0.0907    0.820  109.036  \n",
       "3491       0.32600          0.000000    0.1480    0.673  117.003  \n",
       "3492       0.00611          0.033000    0.1830    0.438   75.019  \n",
       "3493       0.08500          0.000078    0.3060    0.644   97.966  \n",
       "\n",
       "[3676 rows x 19 columns]"
      ],
      "text/html": "<div>\n<style scoped>\n    .dataframe tbody tr th:only-of-type {\n        vertical-align: middle;\n    }\n\n    .dataframe tbody tr th {\n        vertical-align: top;\n    }\n\n    .dataframe thead th {\n        text-align: right;\n    }\n</style>\n<table border=\"1\" class=\"dataframe\">\n  <thead>\n    <tr style=\"text-align: right;\">\n      <th></th>\n      <th>track_id</th>\n      <th>track_name</th>\n      <th>artist_id</th>\n      <th>artist_name</th>\n      <th>album_id</th>\n      <th>duration</th>\n      <th>release_date</th>\n      <th>popularity</th>\n      <th>danceability</th>\n      <th>energy</th>\n      <th>key</th>\n      <th>loudness</th>\n      <th>mode</th>\n      <th>speechiness</th>\n      <th>acousticness</th>\n      <th>instrumentalness</th>\n      <th>liveness</th>\n      <th>valence</th>\n      <th>tempo</th>\n    </tr>\n  </thead>\n  <tbody>\n    <tr>\n      <th>0</th>\n      <td>3MjUtNVVq3C8Fn0MP3zhXa</td>\n      <td>...Baby One More Time</td>\n      <td>26dSoYclwsYLMAKD3tpOr4</td>\n      <td>Britney Spears</td>\n      <td>3WNxdumkSMGMJRhEgK80qx</td>\n      <td>211066</td>\n      <td>1999-01-12</td>\n      <td>79</td>\n      <td>0.759</td>\n      <td>0.699</td>\n      <td>0.0</td>\n      <td>-5.745</td>\n      <td>0.0</td>\n      <td>0.0307</td>\n      <td>0.20200</td>\n      <td>0.000131</td>\n      <td>0.4430</td>\n      <td>0.907</td>\n      <td>92.960</td>\n    </tr>\n    <tr>\n      <th>1</th>\n      <td>6I9VzXrHxO9rA9A5euc8Ak</td>\n      <td>Toxic</td>\n      <td>26dSoYclwsYLMAKD3tpOr4</td>\n      <td>Britney Spears</td>\n      <td>0z7pVBGOD7HCIB7S8eLkLI</td>\n      <td>198800</td>\n      <td>2003-11-13</td>\n      <td>82</td>\n      <td>0.774</td>\n      <td>0.838</td>\n      <td>5.0</td>\n      <td>-3.914</td>\n      <td>0.0</td>\n      <td>0.1140</td>\n      <td>0.02490</td>\n      <td>0.025000</td>\n      <td>0.2420</td>\n      <td>0.924</td>\n      <td>143.040</td>\n    </tr>\n    <tr>\n      <th>2</th>\n      <td>6naxalmIoLFWR0siv8dnQQ</td>\n      <td>Oops!...I Did It Again</td>\n      <td>26dSoYclwsYLMAKD3tpOr4</td>\n      <td>Britney Spears</td>\n      <td>5PmgtkodFl2Om3hMXONDll</td>\n      <td>211160</td>\n      <td>2000-05-16</td>\n      <td>79</td>\n      <td>0.751</td>\n      <td>0.834</td>\n      <td>1.0</td>\n      <td>-5.444</td>\n      <td>0.0</td>\n      <td>0.0437</td>\n      <td>0.30000</td>\n      <td>0.000018</td>\n      <td>0.3550</td>\n      <td>0.894</td>\n      <td>95.053</td>\n    </tr>\n    <tr>\n      <th>3</th>\n      <td>4fixebDZAVToLbUCuEloa2</td>\n      <td>Womanizer</td>\n      <td>26dSoYclwsYLMAKD3tpOr4</td>\n      <td>Britney Spears</td>\n      <td>2tve5DGwub1TtbX1khPX5j</td>\n      <td>224400</td>\n      <td>2008-12-02</td>\n      <td>78</td>\n      <td>0.724</td>\n      <td>0.695</td>\n      <td>11.0</td>\n      <td>-5.226</td>\n      <td>1.0</td>\n      <td>0.0622</td>\n      <td>0.07300</td>\n      <td>0.000000</td>\n      <td>0.0889</td>\n      <td>0.235</td>\n      <td>139.000</td>\n    </tr>\n    <tr>\n      <th>4</th>\n      <td>6ic8OlLUNEATToEFU3xmaH</td>\n      <td>Gimme More</td>\n      <td>26dSoYclwsYLMAKD3tpOr4</td>\n      <td>Britney Spears</td>\n      <td>1ePkYcH5ZQCb1b4tQeiEDj</td>\n      <td>251240</td>\n      <td>2007-10-25</td>\n      <td>83</td>\n      <td>0.788</td>\n      <td>0.844</td>\n      <td>2.0</td>\n      <td>-3.131</td>\n      <td>1.0</td>\n      <td>0.0334</td>\n      <td>0.25000</td>\n      <td>0.000678</td>\n      <td>0.0723</td>\n      <td>0.382</td>\n      <td>113.324</td>\n    </tr>\n    <tr>\n      <th>...</th>\n      <td>...</td>\n      <td>...</td>\n      <td>...</td>\n      <td>...</td>\n      <td>...</td>\n      <td>...</td>\n      <td>...</td>\n      <td>...</td>\n      <td>...</td>\n      <td>...</td>\n      <td>...</td>\n      <td>...</td>\n      <td>...</td>\n      <td>...</td>\n      <td>...</td>\n      <td>...</td>\n      <td>...</td>\n      <td>...</td>\n      <td>...</td>\n    </tr>\n    <tr>\n      <th>3489</th>\n      <td>6Fz2TpxUD0YvAPsuG8nDMJ</td>\n      <td>MAPA</td>\n      <td>3g7vYcdDXnqnDKYFwqXBJP</td>\n      <td>SB19</td>\n      <td>4Qhx57hNp0CUmUbO2igtAq</td>\n      <td>275420</td>\n      <td>2021-05-16</td>\n      <td>58</td>\n      <td>0.561</td>\n      <td>0.651</td>\n      <td>9.0</td>\n      <td>-4.862</td>\n      <td>1.0</td>\n      <td>0.0689</td>\n      <td>0.30900</td>\n      <td>0.000000</td>\n      <td>0.3780</td>\n      <td>0.355</td>\n      <td>129.957</td>\n    </tr>\n    <tr>\n      <th>3490</th>\n      <td>2zrhoHlFKxFTRF5aMyxMoQ</td>\n      <td>Next Level</td>\n      <td>6YVMFz59CuY7ngCxTxjpxE</td>\n      <td>aespa</td>\n      <td>2CzbrboOLzeRoaaH1N5K0N</td>\n      <td>221573</td>\n      <td>2021-05-17</td>\n      <td>74</td>\n      <td>0.820</td>\n      <td>0.852</td>\n      <td>11.0</td>\n      <td>-2.567</td>\n      <td>0.0</td>\n      <td>0.1660</td>\n      <td>0.48800</td>\n      <td>0.000006</td>\n      <td>0.0907</td>\n      <td>0.820</td>\n      <td>109.036</td>\n    </tr>\n    <tr>\n      <th>3491</th>\n      <td>2UbVnbE5FH6008mAm6Mmgw</td>\n      <td>Run</td>\n      <td>5Pwc4xIPtQLFEnJriah9YJ</td>\n      <td>OneRepublic</td>\n      <td>4d0a5uamW9NWRc1KXFeErI</td>\n      <td>169010</td>\n      <td>2021-05-05</td>\n      <td>82</td>\n      <td>0.682</td>\n      <td>0.720</td>\n      <td>11.0</td>\n      <td>-8.173</td>\n      <td>0.0</td>\n      <td>0.0381</td>\n      <td>0.32600</td>\n      <td>0.000000</td>\n      <td>0.1480</td>\n      <td>0.673</td>\n      <td>117.003</td>\n    </tr>\n    <tr>\n      <th>3492</th>\n      <td>7I9RoRcJ0N9rvN4p4KWPsH</td>\n      <td>Paraluman</td>\n      <td>3Dr5ezvDdYsycy1gfaZWSL</td>\n      <td>raven</td>\n      <td>2eKPpTGmSRX3bfBZm9QxiN</td>\n      <td>224578</td>\n      <td>2021-02-18</td>\n      <td>58</td>\n      <td>0.745</td>\n      <td>0.497</td>\n      <td>2.0</td>\n      <td>-5.767</td>\n      <td>1.0</td>\n      <td>0.1360</td>\n      <td>0.00611</td>\n      <td>0.033000</td>\n      <td>0.1830</td>\n      <td>0.438</td>\n      <td>75.019</td>\n    </tr>\n    <tr>\n      <th>3493</th>\n      <td>2RFzaIg3tJhvJdNIUqvr9R</td>\n      <td>Got It Like That</td>\n      <td>0UntV1Bw2hk3fbRrm9eMP6</td>\n      <td>B.I</td>\n      <td>4LIOJLYeTXrz6rvfk0O6xK</td>\n      <td>178775</td>\n      <td>2021-05-14</td>\n      <td>64</td>\n      <td>0.803</td>\n      <td>0.519</td>\n      <td>5.0</td>\n      <td>-8.210</td>\n      <td>1.0</td>\n      <td>0.0359</td>\n      <td>0.08500</td>\n      <td>0.000078</td>\n      <td>0.3060</td>\n      <td>0.644</td>\n      <td>97.966</td>\n    </tr>\n  </tbody>\n</table>\n<p>3676 rows × 19 columns</p>\n</div>"
     },
     "metadata": {},
     "execution_count": 50
    }
   ],
   "source": [
    "combined_df = pd.concat([bs_df, chart_df]).dropna()\n",
    "combined_df"
   ]
  },
  {
   "cell_type": "code",
   "execution_count": null,
   "metadata": {},
   "outputs": [],
   "source": []
  },
  {
   "cell_type": "code",
   "execution_count": 51,
   "metadata": {},
   "outputs": [
    {
     "output_type": "execute_result",
     "data": {
      "text/plain": [
       "                    track_id              track_name               artist_id  \\\n",
       "0     3MjUtNVVq3C8Fn0MP3zhXa   ...Baby One More Time  26dSoYclwsYLMAKD3tpOr4   \n",
       "1     6I9VzXrHxO9rA9A5euc8Ak                   Toxic  26dSoYclwsYLMAKD3tpOr4   \n",
       "2     6naxalmIoLFWR0siv8dnQQ  Oops!...I Did It Again  26dSoYclwsYLMAKD3tpOr4   \n",
       "3     4fixebDZAVToLbUCuEloa2               Womanizer  26dSoYclwsYLMAKD3tpOr4   \n",
       "4     6ic8OlLUNEATToEFU3xmaH              Gimme More  26dSoYclwsYLMAKD3tpOr4   \n",
       "...                      ...                     ...                     ...   \n",
       "3489  6Fz2TpxUD0YvAPsuG8nDMJ                    MAPA  3g7vYcdDXnqnDKYFwqXBJP   \n",
       "3490  2zrhoHlFKxFTRF5aMyxMoQ              Next Level  6YVMFz59CuY7ngCxTxjpxE   \n",
       "3491  2UbVnbE5FH6008mAm6Mmgw                     Run  5Pwc4xIPtQLFEnJriah9YJ   \n",
       "3492  7I9RoRcJ0N9rvN4p4KWPsH               Paraluman  3Dr5ezvDdYsycy1gfaZWSL   \n",
       "3493  2RFzaIg3tJhvJdNIUqvr9R        Got It Like That  0UntV1Bw2hk3fbRrm9eMP6   \n",
       "\n",
       "         artist_name                album_id  duration release_date  \\\n",
       "0     Britney Spears  3WNxdumkSMGMJRhEgK80qx    211066   1999-01-12   \n",
       "1     Britney Spears  0z7pVBGOD7HCIB7S8eLkLI    198800   2003-11-13   \n",
       "2     Britney Spears  5PmgtkodFl2Om3hMXONDll    211160   2000-05-16   \n",
       "3     Britney Spears  2tve5DGwub1TtbX1khPX5j    224400   2008-12-02   \n",
       "4     Britney Spears  1ePkYcH5ZQCb1b4tQeiEDj    251240   2007-10-25   \n",
       "...              ...                     ...       ...          ...   \n",
       "3489            SB19  4Qhx57hNp0CUmUbO2igtAq    275420   2021-05-16   \n",
       "3490           aespa  2CzbrboOLzeRoaaH1N5K0N    221573   2021-05-17   \n",
       "3491     OneRepublic  4d0a5uamW9NWRc1KXFeErI    169010   2021-05-05   \n",
       "3492           raven  2eKPpTGmSRX3bfBZm9QxiN    224578   2021-02-18   \n",
       "3493             B.I  4LIOJLYeTXrz6rvfk0O6xK    178775   2021-05-14   \n",
       "\n",
       "      popularity  danceability  energy   key  loudness  mode  speechiness  \\\n",
       "0             79         0.759   0.699   0.0  0.757625   0.0       0.0307   \n",
       "1             82         0.774   0.838   5.0  0.832590   0.0       0.1140   \n",
       "2             79         0.751   0.834   1.0  0.769949   0.0       0.0437   \n",
       "3             78         0.724   0.695  11.0  0.778874   1.0       0.0622   \n",
       "4             83         0.788   0.844   2.0  0.864647   1.0       0.0334   \n",
       "...          ...           ...     ...   ...       ...   ...          ...   \n",
       "3489          58         0.561   0.651   9.0  0.793777   1.0       0.0689   \n",
       "3490          74         0.820   0.852  11.0  0.887738   0.0       0.1660   \n",
       "3491          82         0.682   0.720  11.0  0.658219   0.0       0.0381   \n",
       "3492          58         0.745   0.497   2.0  0.756725   1.0       0.1360   \n",
       "3493          64         0.803   0.519   5.0  0.656704   1.0       0.0359   \n",
       "\n",
       "      acousticness  instrumentalness  liveness  valence     tempo  \n",
       "0          0.20200          0.000131    0.4430    0.907  0.248514  \n",
       "1          0.02490          0.025000    0.2420    0.924  0.556664  \n",
       "2          0.30000          0.000018    0.3550    0.894  0.261393  \n",
       "3          0.07300          0.000000    0.0889    0.235  0.531806  \n",
       "4          0.25000          0.000678    0.0723    0.382  0.373817  \n",
       "...            ...               ...       ...      ...       ...  \n",
       "3489       0.30900          0.000000    0.3780    0.355  0.476163  \n",
       "3490       0.48800          0.000006    0.0907    0.820  0.347432  \n",
       "3491       0.32600          0.000000    0.1480    0.673  0.396455  \n",
       "3492       0.00611          0.033000    0.1830    0.438  0.138120  \n",
       "3493       0.08500          0.000078    0.3060    0.644  0.279317  \n",
       "\n",
       "[3676 rows x 19 columns]"
      ],
      "text/html": "<div>\n<style scoped>\n    .dataframe tbody tr th:only-of-type {\n        vertical-align: middle;\n    }\n\n    .dataframe tbody tr th {\n        vertical-align: top;\n    }\n\n    .dataframe thead th {\n        text-align: right;\n    }\n</style>\n<table border=\"1\" class=\"dataframe\">\n  <thead>\n    <tr style=\"text-align: right;\">\n      <th></th>\n      <th>track_id</th>\n      <th>track_name</th>\n      <th>artist_id</th>\n      <th>artist_name</th>\n      <th>album_id</th>\n      <th>duration</th>\n      <th>release_date</th>\n      <th>popularity</th>\n      <th>danceability</th>\n      <th>energy</th>\n      <th>key</th>\n      <th>loudness</th>\n      <th>mode</th>\n      <th>speechiness</th>\n      <th>acousticness</th>\n      <th>instrumentalness</th>\n      <th>liveness</th>\n      <th>valence</th>\n      <th>tempo</th>\n    </tr>\n  </thead>\n  <tbody>\n    <tr>\n      <th>0</th>\n      <td>3MjUtNVVq3C8Fn0MP3zhXa</td>\n      <td>...Baby One More Time</td>\n      <td>26dSoYclwsYLMAKD3tpOr4</td>\n      <td>Britney Spears</td>\n      <td>3WNxdumkSMGMJRhEgK80qx</td>\n      <td>211066</td>\n      <td>1999-01-12</td>\n      <td>79</td>\n      <td>0.759</td>\n      <td>0.699</td>\n      <td>0.0</td>\n      <td>0.757625</td>\n      <td>0.0</td>\n      <td>0.0307</td>\n      <td>0.20200</td>\n      <td>0.000131</td>\n      <td>0.4430</td>\n      <td>0.907</td>\n      <td>0.248514</td>\n    </tr>\n    <tr>\n      <th>1</th>\n      <td>6I9VzXrHxO9rA9A5euc8Ak</td>\n      <td>Toxic</td>\n      <td>26dSoYclwsYLMAKD3tpOr4</td>\n      <td>Britney Spears</td>\n      <td>0z7pVBGOD7HCIB7S8eLkLI</td>\n      <td>198800</td>\n      <td>2003-11-13</td>\n      <td>82</td>\n      <td>0.774</td>\n      <td>0.838</td>\n      <td>5.0</td>\n      <td>0.832590</td>\n      <td>0.0</td>\n      <td>0.1140</td>\n      <td>0.02490</td>\n      <td>0.025000</td>\n      <td>0.2420</td>\n      <td>0.924</td>\n      <td>0.556664</td>\n    </tr>\n    <tr>\n      <th>2</th>\n      <td>6naxalmIoLFWR0siv8dnQQ</td>\n      <td>Oops!...I Did It Again</td>\n      <td>26dSoYclwsYLMAKD3tpOr4</td>\n      <td>Britney Spears</td>\n      <td>5PmgtkodFl2Om3hMXONDll</td>\n      <td>211160</td>\n      <td>2000-05-16</td>\n      <td>79</td>\n      <td>0.751</td>\n      <td>0.834</td>\n      <td>1.0</td>\n      <td>0.769949</td>\n      <td>0.0</td>\n      <td>0.0437</td>\n      <td>0.30000</td>\n      <td>0.000018</td>\n      <td>0.3550</td>\n      <td>0.894</td>\n      <td>0.261393</td>\n    </tr>\n    <tr>\n      <th>3</th>\n      <td>4fixebDZAVToLbUCuEloa2</td>\n      <td>Womanizer</td>\n      <td>26dSoYclwsYLMAKD3tpOr4</td>\n      <td>Britney Spears</td>\n      <td>2tve5DGwub1TtbX1khPX5j</td>\n      <td>224400</td>\n      <td>2008-12-02</td>\n      <td>78</td>\n      <td>0.724</td>\n      <td>0.695</td>\n      <td>11.0</td>\n      <td>0.778874</td>\n      <td>1.0</td>\n      <td>0.0622</td>\n      <td>0.07300</td>\n      <td>0.000000</td>\n      <td>0.0889</td>\n      <td>0.235</td>\n      <td>0.531806</td>\n    </tr>\n    <tr>\n      <th>4</th>\n      <td>6ic8OlLUNEATToEFU3xmaH</td>\n      <td>Gimme More</td>\n      <td>26dSoYclwsYLMAKD3tpOr4</td>\n      <td>Britney Spears</td>\n      <td>1ePkYcH5ZQCb1b4tQeiEDj</td>\n      <td>251240</td>\n      <td>2007-10-25</td>\n      <td>83</td>\n      <td>0.788</td>\n      <td>0.844</td>\n      <td>2.0</td>\n      <td>0.864647</td>\n      <td>1.0</td>\n      <td>0.0334</td>\n      <td>0.25000</td>\n      <td>0.000678</td>\n      <td>0.0723</td>\n      <td>0.382</td>\n      <td>0.373817</td>\n    </tr>\n    <tr>\n      <th>...</th>\n      <td>...</td>\n      <td>...</td>\n      <td>...</td>\n      <td>...</td>\n      <td>...</td>\n      <td>...</td>\n      <td>...</td>\n      <td>...</td>\n      <td>...</td>\n      <td>...</td>\n      <td>...</td>\n      <td>...</td>\n      <td>...</td>\n      <td>...</td>\n      <td>...</td>\n      <td>...</td>\n      <td>...</td>\n      <td>...</td>\n      <td>...</td>\n    </tr>\n    <tr>\n      <th>3489</th>\n      <td>6Fz2TpxUD0YvAPsuG8nDMJ</td>\n      <td>MAPA</td>\n      <td>3g7vYcdDXnqnDKYFwqXBJP</td>\n      <td>SB19</td>\n      <td>4Qhx57hNp0CUmUbO2igtAq</td>\n      <td>275420</td>\n      <td>2021-05-16</td>\n      <td>58</td>\n      <td>0.561</td>\n      <td>0.651</td>\n      <td>9.0</td>\n      <td>0.793777</td>\n      <td>1.0</td>\n      <td>0.0689</td>\n      <td>0.30900</td>\n      <td>0.000000</td>\n      <td>0.3780</td>\n      <td>0.355</td>\n      <td>0.476163</td>\n    </tr>\n    <tr>\n      <th>3490</th>\n      <td>2zrhoHlFKxFTRF5aMyxMoQ</td>\n      <td>Next Level</td>\n      <td>6YVMFz59CuY7ngCxTxjpxE</td>\n      <td>aespa</td>\n      <td>2CzbrboOLzeRoaaH1N5K0N</td>\n      <td>221573</td>\n      <td>2021-05-17</td>\n      <td>74</td>\n      <td>0.820</td>\n      <td>0.852</td>\n      <td>11.0</td>\n      <td>0.887738</td>\n      <td>0.0</td>\n      <td>0.1660</td>\n      <td>0.48800</td>\n      <td>0.000006</td>\n      <td>0.0907</td>\n      <td>0.820</td>\n      <td>0.347432</td>\n    </tr>\n    <tr>\n      <th>3491</th>\n      <td>2UbVnbE5FH6008mAm6Mmgw</td>\n      <td>Run</td>\n      <td>5Pwc4xIPtQLFEnJriah9YJ</td>\n      <td>OneRepublic</td>\n      <td>4d0a5uamW9NWRc1KXFeErI</td>\n      <td>169010</td>\n      <td>2021-05-05</td>\n      <td>82</td>\n      <td>0.682</td>\n      <td>0.720</td>\n      <td>11.0</td>\n      <td>0.658219</td>\n      <td>0.0</td>\n      <td>0.0381</td>\n      <td>0.32600</td>\n      <td>0.000000</td>\n      <td>0.1480</td>\n      <td>0.673</td>\n      <td>0.396455</td>\n    </tr>\n    <tr>\n      <th>3492</th>\n      <td>7I9RoRcJ0N9rvN4p4KWPsH</td>\n      <td>Paraluman</td>\n      <td>3Dr5ezvDdYsycy1gfaZWSL</td>\n      <td>raven</td>\n      <td>2eKPpTGmSRX3bfBZm9QxiN</td>\n      <td>224578</td>\n      <td>2021-02-18</td>\n      <td>58</td>\n      <td>0.745</td>\n      <td>0.497</td>\n      <td>2.0</td>\n      <td>0.756725</td>\n      <td>1.0</td>\n      <td>0.1360</td>\n      <td>0.00611</td>\n      <td>0.033000</td>\n      <td>0.1830</td>\n      <td>0.438</td>\n      <td>0.138120</td>\n    </tr>\n    <tr>\n      <th>3493</th>\n      <td>2RFzaIg3tJhvJdNIUqvr9R</td>\n      <td>Got It Like That</td>\n      <td>0UntV1Bw2hk3fbRrm9eMP6</td>\n      <td>B.I</td>\n      <td>4LIOJLYeTXrz6rvfk0O6xK</td>\n      <td>178775</td>\n      <td>2021-05-14</td>\n      <td>64</td>\n      <td>0.803</td>\n      <td>0.519</td>\n      <td>5.0</td>\n      <td>0.656704</td>\n      <td>1.0</td>\n      <td>0.0359</td>\n      <td>0.08500</td>\n      <td>0.000078</td>\n      <td>0.3060</td>\n      <td>0.644</td>\n      <td>0.279317</td>\n    </tr>\n  </tbody>\n</table>\n<p>3676 rows × 19 columns</p>\n</div>"
     },
     "metadata": {},
     "execution_count": 51
    }
   ],
   "source": [
    "# feature scaling\n",
    "combined_df[['loudness', 'tempo']] = scaler.fit_transform(combined_df[['loudness', 'tempo']])\n",
    "combined_df"
   ]
  },
  {
   "cell_type": "code",
   "execution_count": null,
   "metadata": {},
   "outputs": [],
   "source": []
  },
  {
   "cell_type": "code",
   "execution_count": 52,
   "metadata": {},
   "outputs": [
    {
     "output_type": "execute_result",
     "data": {
      "text/plain": [
       "                    track_id              track_name               artist_id  \\\n",
       "0     3MjUtNVVq3C8Fn0MP3zhXa   ...Baby One More Time  26dSoYclwsYLMAKD3tpOr4   \n",
       "1     6I9VzXrHxO9rA9A5euc8Ak                   Toxic  26dSoYclwsYLMAKD3tpOr4   \n",
       "2     6naxalmIoLFWR0siv8dnQQ  Oops!...I Did It Again  26dSoYclwsYLMAKD3tpOr4   \n",
       "3     4fixebDZAVToLbUCuEloa2               Womanizer  26dSoYclwsYLMAKD3tpOr4   \n",
       "4     6ic8OlLUNEATToEFU3xmaH              Gimme More  26dSoYclwsYLMAKD3tpOr4   \n",
       "...                      ...                     ...                     ...   \n",
       "3671  6Fz2TpxUD0YvAPsuG8nDMJ                    MAPA  3g7vYcdDXnqnDKYFwqXBJP   \n",
       "3672  2zrhoHlFKxFTRF5aMyxMoQ              Next Level  6YVMFz59CuY7ngCxTxjpxE   \n",
       "3673  2UbVnbE5FH6008mAm6Mmgw                     Run  5Pwc4xIPtQLFEnJriah9YJ   \n",
       "3674  7I9RoRcJ0N9rvN4p4KWPsH               Paraluman  3Dr5ezvDdYsycy1gfaZWSL   \n",
       "3675  2RFzaIg3tJhvJdNIUqvr9R        Got It Like That  0UntV1Bw2hk3fbRrm9eMP6   \n",
       "\n",
       "         artist_name                album_id  duration release_date  \\\n",
       "0     Britney Spears  3WNxdumkSMGMJRhEgK80qx    211066   1999-01-12   \n",
       "1     Britney Spears  0z7pVBGOD7HCIB7S8eLkLI    198800   2003-11-13   \n",
       "2     Britney Spears  5PmgtkodFl2Om3hMXONDll    211160   2000-05-16   \n",
       "3     Britney Spears  2tve5DGwub1TtbX1khPX5j    224400   2008-12-02   \n",
       "4     Britney Spears  1ePkYcH5ZQCb1b4tQeiEDj    251240   2007-10-25   \n",
       "...              ...                     ...       ...          ...   \n",
       "3671            SB19  4Qhx57hNp0CUmUbO2igtAq    275420   2021-05-16   \n",
       "3672           aespa  2CzbrboOLzeRoaaH1N5K0N    221573   2021-05-17   \n",
       "3673     OneRepublic  4d0a5uamW9NWRc1KXFeErI    169010   2021-05-05   \n",
       "3674           raven  2eKPpTGmSRX3bfBZm9QxiN    224578   2021-02-18   \n",
       "3675             B.I  4LIOJLYeTXrz6rvfk0O6xK    178775   2021-05-14   \n",
       "\n",
       "      popularity  danceability  energy  ...  mode  speechiness  acousticness  \\\n",
       "0             79         0.759   0.699  ...   0.0       0.0307       0.20200   \n",
       "1             82         0.774   0.838  ...   0.0       0.1140       0.02490   \n",
       "2             79         0.751   0.834  ...   0.0       0.0437       0.30000   \n",
       "3             78         0.724   0.695  ...   1.0       0.0622       0.07300   \n",
       "4             83         0.788   0.844  ...   1.0       0.0334       0.25000   \n",
       "...          ...           ...     ...  ...   ...          ...           ...   \n",
       "3671          58         0.561   0.651  ...   1.0       0.0689       0.30900   \n",
       "3672          74         0.820   0.852  ...   0.0       0.1660       0.48800   \n",
       "3673          82         0.682   0.720  ...   0.0       0.0381       0.32600   \n",
       "3674          58         0.745   0.497  ...   1.0       0.1360       0.00611   \n",
       "3675          64         0.803   0.519  ...   1.0       0.0359       0.08500   \n",
       "\n",
       "      instrumentalness  liveness  valence     tempo  predicted_genre_id  \\\n",
       "0             0.000131    0.4430    0.907  0.248514                   4   \n",
       "1             0.025000    0.2420    0.924  0.556664                   3   \n",
       "2             0.000018    0.3550    0.894  0.261393                   4   \n",
       "3             0.000000    0.0889    0.235  0.531806                   3   \n",
       "4             0.000678    0.0723    0.382  0.373817                   4   \n",
       "...                ...       ...      ...       ...                 ...   \n",
       "3671          0.000000    0.3780    0.355  0.476163                   1   \n",
       "3672          0.000006    0.0907    0.820  0.347432                   4   \n",
       "3673          0.000000    0.1480    0.673  0.396455                   4   \n",
       "3674          0.033000    0.1830    0.438  0.138120                   4   \n",
       "3675          0.000078    0.3060    0.644  0.279317                   4   \n",
       "\n",
       "      predicted_genre  predicted_genre_prob  \n",
       "0              reggae              0.727273  \n",
       "1                 pop              0.545455  \n",
       "2              reggae              0.909091  \n",
       "3                 pop              0.727273  \n",
       "4              reggae              0.909091  \n",
       "...               ...                   ...  \n",
       "3671          country              0.545455  \n",
       "3672           reggae              0.818182  \n",
       "3673           reggae              0.454545  \n",
       "3674           reggae              0.727273  \n",
       "3675           reggae              0.727273  \n",
       "\n",
       "[3676 rows x 22 columns]"
      ],
      "text/html": "<div>\n<style scoped>\n    .dataframe tbody tr th:only-of-type {\n        vertical-align: middle;\n    }\n\n    .dataframe tbody tr th {\n        vertical-align: top;\n    }\n\n    .dataframe thead th {\n        text-align: right;\n    }\n</style>\n<table border=\"1\" class=\"dataframe\">\n  <thead>\n    <tr style=\"text-align: right;\">\n      <th></th>\n      <th>track_id</th>\n      <th>track_name</th>\n      <th>artist_id</th>\n      <th>artist_name</th>\n      <th>album_id</th>\n      <th>duration</th>\n      <th>release_date</th>\n      <th>popularity</th>\n      <th>danceability</th>\n      <th>energy</th>\n      <th>...</th>\n      <th>mode</th>\n      <th>speechiness</th>\n      <th>acousticness</th>\n      <th>instrumentalness</th>\n      <th>liveness</th>\n      <th>valence</th>\n      <th>tempo</th>\n      <th>predicted_genre_id</th>\n      <th>predicted_genre</th>\n      <th>predicted_genre_prob</th>\n    </tr>\n  </thead>\n  <tbody>\n    <tr>\n      <th>0</th>\n      <td>3MjUtNVVq3C8Fn0MP3zhXa</td>\n      <td>...Baby One More Time</td>\n      <td>26dSoYclwsYLMAKD3tpOr4</td>\n      <td>Britney Spears</td>\n      <td>3WNxdumkSMGMJRhEgK80qx</td>\n      <td>211066</td>\n      <td>1999-01-12</td>\n      <td>79</td>\n      <td>0.759</td>\n      <td>0.699</td>\n      <td>...</td>\n      <td>0.0</td>\n      <td>0.0307</td>\n      <td>0.20200</td>\n      <td>0.000131</td>\n      <td>0.4430</td>\n      <td>0.907</td>\n      <td>0.248514</td>\n      <td>4</td>\n      <td>reggae</td>\n      <td>0.727273</td>\n    </tr>\n    <tr>\n      <th>1</th>\n      <td>6I9VzXrHxO9rA9A5euc8Ak</td>\n      <td>Toxic</td>\n      <td>26dSoYclwsYLMAKD3tpOr4</td>\n      <td>Britney Spears</td>\n      <td>0z7pVBGOD7HCIB7S8eLkLI</td>\n      <td>198800</td>\n      <td>2003-11-13</td>\n      <td>82</td>\n      <td>0.774</td>\n      <td>0.838</td>\n      <td>...</td>\n      <td>0.0</td>\n      <td>0.1140</td>\n      <td>0.02490</td>\n      <td>0.025000</td>\n      <td>0.2420</td>\n      <td>0.924</td>\n      <td>0.556664</td>\n      <td>3</td>\n      <td>pop</td>\n      <td>0.545455</td>\n    </tr>\n    <tr>\n      <th>2</th>\n      <td>6naxalmIoLFWR0siv8dnQQ</td>\n      <td>Oops!...I Did It Again</td>\n      <td>26dSoYclwsYLMAKD3tpOr4</td>\n      <td>Britney Spears</td>\n      <td>5PmgtkodFl2Om3hMXONDll</td>\n      <td>211160</td>\n      <td>2000-05-16</td>\n      <td>79</td>\n      <td>0.751</td>\n      <td>0.834</td>\n      <td>...</td>\n      <td>0.0</td>\n      <td>0.0437</td>\n      <td>0.30000</td>\n      <td>0.000018</td>\n      <td>0.3550</td>\n      <td>0.894</td>\n      <td>0.261393</td>\n      <td>4</td>\n      <td>reggae</td>\n      <td>0.909091</td>\n    </tr>\n    <tr>\n      <th>3</th>\n      <td>4fixebDZAVToLbUCuEloa2</td>\n      <td>Womanizer</td>\n      <td>26dSoYclwsYLMAKD3tpOr4</td>\n      <td>Britney Spears</td>\n      <td>2tve5DGwub1TtbX1khPX5j</td>\n      <td>224400</td>\n      <td>2008-12-02</td>\n      <td>78</td>\n      <td>0.724</td>\n      <td>0.695</td>\n      <td>...</td>\n      <td>1.0</td>\n      <td>0.0622</td>\n      <td>0.07300</td>\n      <td>0.000000</td>\n      <td>0.0889</td>\n      <td>0.235</td>\n      <td>0.531806</td>\n      <td>3</td>\n      <td>pop</td>\n      <td>0.727273</td>\n    </tr>\n    <tr>\n      <th>4</th>\n      <td>6ic8OlLUNEATToEFU3xmaH</td>\n      <td>Gimme More</td>\n      <td>26dSoYclwsYLMAKD3tpOr4</td>\n      <td>Britney Spears</td>\n      <td>1ePkYcH5ZQCb1b4tQeiEDj</td>\n      <td>251240</td>\n      <td>2007-10-25</td>\n      <td>83</td>\n      <td>0.788</td>\n      <td>0.844</td>\n      <td>...</td>\n      <td>1.0</td>\n      <td>0.0334</td>\n      <td>0.25000</td>\n      <td>0.000678</td>\n      <td>0.0723</td>\n      <td>0.382</td>\n      <td>0.373817</td>\n      <td>4</td>\n      <td>reggae</td>\n      <td>0.909091</td>\n    </tr>\n    <tr>\n      <th>...</th>\n      <td>...</td>\n      <td>...</td>\n      <td>...</td>\n      <td>...</td>\n      <td>...</td>\n      <td>...</td>\n      <td>...</td>\n      <td>...</td>\n      <td>...</td>\n      <td>...</td>\n      <td>...</td>\n      <td>...</td>\n      <td>...</td>\n      <td>...</td>\n      <td>...</td>\n      <td>...</td>\n      <td>...</td>\n      <td>...</td>\n      <td>...</td>\n      <td>...</td>\n      <td>...</td>\n    </tr>\n    <tr>\n      <th>3671</th>\n      <td>6Fz2TpxUD0YvAPsuG8nDMJ</td>\n      <td>MAPA</td>\n      <td>3g7vYcdDXnqnDKYFwqXBJP</td>\n      <td>SB19</td>\n      <td>4Qhx57hNp0CUmUbO2igtAq</td>\n      <td>275420</td>\n      <td>2021-05-16</td>\n      <td>58</td>\n      <td>0.561</td>\n      <td>0.651</td>\n      <td>...</td>\n      <td>1.0</td>\n      <td>0.0689</td>\n      <td>0.30900</td>\n      <td>0.000000</td>\n      <td>0.3780</td>\n      <td>0.355</td>\n      <td>0.476163</td>\n      <td>1</td>\n      <td>country</td>\n      <td>0.545455</td>\n    </tr>\n    <tr>\n      <th>3672</th>\n      <td>2zrhoHlFKxFTRF5aMyxMoQ</td>\n      <td>Next Level</td>\n      <td>6YVMFz59CuY7ngCxTxjpxE</td>\n      <td>aespa</td>\n      <td>2CzbrboOLzeRoaaH1N5K0N</td>\n      <td>221573</td>\n      <td>2021-05-17</td>\n      <td>74</td>\n      <td>0.820</td>\n      <td>0.852</td>\n      <td>...</td>\n      <td>0.0</td>\n      <td>0.1660</td>\n      <td>0.48800</td>\n      <td>0.000006</td>\n      <td>0.0907</td>\n      <td>0.820</td>\n      <td>0.347432</td>\n      <td>4</td>\n      <td>reggae</td>\n      <td>0.818182</td>\n    </tr>\n    <tr>\n      <th>3673</th>\n      <td>2UbVnbE5FH6008mAm6Mmgw</td>\n      <td>Run</td>\n      <td>5Pwc4xIPtQLFEnJriah9YJ</td>\n      <td>OneRepublic</td>\n      <td>4d0a5uamW9NWRc1KXFeErI</td>\n      <td>169010</td>\n      <td>2021-05-05</td>\n      <td>82</td>\n      <td>0.682</td>\n      <td>0.720</td>\n      <td>...</td>\n      <td>0.0</td>\n      <td>0.0381</td>\n      <td>0.32600</td>\n      <td>0.000000</td>\n      <td>0.1480</td>\n      <td>0.673</td>\n      <td>0.396455</td>\n      <td>4</td>\n      <td>reggae</td>\n      <td>0.454545</td>\n    </tr>\n    <tr>\n      <th>3674</th>\n      <td>7I9RoRcJ0N9rvN4p4KWPsH</td>\n      <td>Paraluman</td>\n      <td>3Dr5ezvDdYsycy1gfaZWSL</td>\n      <td>raven</td>\n      <td>2eKPpTGmSRX3bfBZm9QxiN</td>\n      <td>224578</td>\n      <td>2021-02-18</td>\n      <td>58</td>\n      <td>0.745</td>\n      <td>0.497</td>\n      <td>...</td>\n      <td>1.0</td>\n      <td>0.1360</td>\n      <td>0.00611</td>\n      <td>0.033000</td>\n      <td>0.1830</td>\n      <td>0.438</td>\n      <td>0.138120</td>\n      <td>4</td>\n      <td>reggae</td>\n      <td>0.727273</td>\n    </tr>\n    <tr>\n      <th>3675</th>\n      <td>2RFzaIg3tJhvJdNIUqvr9R</td>\n      <td>Got It Like That</td>\n      <td>0UntV1Bw2hk3fbRrm9eMP6</td>\n      <td>B.I</td>\n      <td>4LIOJLYeTXrz6rvfk0O6xK</td>\n      <td>178775</td>\n      <td>2021-05-14</td>\n      <td>64</td>\n      <td>0.803</td>\n      <td>0.519</td>\n      <td>...</td>\n      <td>1.0</td>\n      <td>0.0359</td>\n      <td>0.08500</td>\n      <td>0.000078</td>\n      <td>0.3060</td>\n      <td>0.644</td>\n      <td>0.279317</td>\n      <td>4</td>\n      <td>reggae</td>\n      <td>0.727273</td>\n    </tr>\n  </tbody>\n</table>\n<p>3676 rows × 22 columns</p>\n</div>"
     },
     "metadata": {},
     "execution_count": 52
    }
   ],
   "source": [
    "# genre clasification to combined df using knn_optimal classifcation model\n",
    "genres = [genre_lookup[i] for i in np.arange(len(genre_names))]\n",
    "\n",
    "combined_df['predicted_genre_id'] = combined_df.apply(lambda x:  knn_optimal.predict(x[feature_cols].values.reshape(1,-1))[0], axis=1)\n",
    "combined_df['predicted_genre'] = combined_df['predicted_genre_id'].apply(lambda x: genre_lookup[x])\n",
    "combined_df['predicted_genre_prob'] = combined_df.apply(lambda x:  np.max(knn_optimal.predict_proba(x[feature_cols].values.reshape(1,-1))), axis=1)\n",
    "# combined_df['all_genre_prob'] = combined_df.apply(lambda x:  knn_optimal.predict_proba(x[feature_cols].values.reshape(1,-1))[0], axis=1)   ## Q4\n",
    "\n",
    "predictions_df = combined_df.reset_index(drop=True)\n",
    "predictions_df"
   ]
  },
  {
   "cell_type": "code",
   "execution_count": null,
   "metadata": {},
   "outputs": [],
   "source": []
  },
  {
   "cell_type": "code",
   "execution_count": 53,
   "metadata": {},
   "outputs": [],
   "source": [
    "# save dataset\n",
    "predictions_df.to_csv('data/genre_predictions.csv', index=False)"
   ]
  },
  {
   "cell_type": "code",
   "execution_count": null,
   "metadata": {},
   "outputs": [],
   "source": []
  },
  {
   "cell_type": "code",
   "execution_count": 54,
   "metadata": {},
   "outputs": [
    {
     "output_type": "execute_result",
     "data": {
      "text/plain": [
       "                    track_id              track_name               artist_id  \\\n",
       "0     3MjUtNVVq3C8Fn0MP3zhXa   ...Baby One More Time  26dSoYclwsYLMAKD3tpOr4   \n",
       "1     6I9VzXrHxO9rA9A5euc8Ak                   Toxic  26dSoYclwsYLMAKD3tpOr4   \n",
       "2     6naxalmIoLFWR0siv8dnQQ  Oops!...I Did It Again  26dSoYclwsYLMAKD3tpOr4   \n",
       "3     4fixebDZAVToLbUCuEloa2               Womanizer  26dSoYclwsYLMAKD3tpOr4   \n",
       "4     6ic8OlLUNEATToEFU3xmaH              Gimme More  26dSoYclwsYLMAKD3tpOr4   \n",
       "...                      ...                     ...                     ...   \n",
       "3671  6Fz2TpxUD0YvAPsuG8nDMJ                    MAPA  3g7vYcdDXnqnDKYFwqXBJP   \n",
       "3672  2zrhoHlFKxFTRF5aMyxMoQ              Next Level  6YVMFz59CuY7ngCxTxjpxE   \n",
       "3673  2UbVnbE5FH6008mAm6Mmgw                     Run  5Pwc4xIPtQLFEnJriah9YJ   \n",
       "3674  7I9RoRcJ0N9rvN4p4KWPsH               Paraluman  3Dr5ezvDdYsycy1gfaZWSL   \n",
       "3675  2RFzaIg3tJhvJdNIUqvr9R        Got It Like That  0UntV1Bw2hk3fbRrm9eMP6   \n",
       "\n",
       "         artist_name                album_id  duration release_date  \\\n",
       "0     Britney Spears  3WNxdumkSMGMJRhEgK80qx    211066   1999-01-12   \n",
       "1     Britney Spears  0z7pVBGOD7HCIB7S8eLkLI    198800   2003-11-13   \n",
       "2     Britney Spears  5PmgtkodFl2Om3hMXONDll    211160   2000-05-16   \n",
       "3     Britney Spears  2tve5DGwub1TtbX1khPX5j    224400   2008-12-02   \n",
       "4     Britney Spears  1ePkYcH5ZQCb1b4tQeiEDj    251240   2007-10-25   \n",
       "...              ...                     ...       ...          ...   \n",
       "3671            SB19  4Qhx57hNp0CUmUbO2igtAq    275420   2021-05-16   \n",
       "3672           aespa  2CzbrboOLzeRoaaH1N5K0N    221573   2021-05-17   \n",
       "3673     OneRepublic  4d0a5uamW9NWRc1KXFeErI    169010   2021-05-05   \n",
       "3674           raven  2eKPpTGmSRX3bfBZm9QxiN    224578   2021-02-18   \n",
       "3675             B.I  4LIOJLYeTXrz6rvfk0O6xK    178775   2021-05-14   \n",
       "\n",
       "      popularity  danceability  energy  ...  mode  speechiness  acousticness  \\\n",
       "0             79         0.759   0.699  ...   0.0       0.0307       0.20200   \n",
       "1             82         0.774   0.838  ...   0.0       0.1140       0.02490   \n",
       "2             79         0.751   0.834  ...   0.0       0.0437       0.30000   \n",
       "3             78         0.724   0.695  ...   1.0       0.0622       0.07300   \n",
       "4             83         0.788   0.844  ...   1.0       0.0334       0.25000   \n",
       "...          ...           ...     ...  ...   ...          ...           ...   \n",
       "3671          58         0.561   0.651  ...   1.0       0.0689       0.30900   \n",
       "3672          74         0.820   0.852  ...   0.0       0.1660       0.48800   \n",
       "3673          82         0.682   0.720  ...   0.0       0.0381       0.32600   \n",
       "3674          58         0.745   0.497  ...   1.0       0.1360       0.00611   \n",
       "3675          64         0.803   0.519  ...   1.0       0.0359       0.08500   \n",
       "\n",
       "      instrumentalness  liveness  valence     tempo  predicted_genre_id  \\\n",
       "0             0.000131    0.4430    0.907  0.248514                   4   \n",
       "1             0.025000    0.2420    0.924  0.556664                   3   \n",
       "2             0.000018    0.3550    0.894  0.261393                   4   \n",
       "3             0.000000    0.0889    0.235  0.531806                   3   \n",
       "4             0.000678    0.0723    0.382  0.373817                   4   \n",
       "...                ...       ...      ...       ...                 ...   \n",
       "3671          0.000000    0.3780    0.355  0.476163                   1   \n",
       "3672          0.000006    0.0907    0.820  0.347432                   4   \n",
       "3673          0.000000    0.1480    0.673  0.396455                   4   \n",
       "3674          0.033000    0.1830    0.438  0.138120                   4   \n",
       "3675          0.000078    0.3060    0.644  0.279317                   4   \n",
       "\n",
       "      predicted_genre  predicted_genre_prob  \n",
       "0              reggae              0.727273  \n",
       "1                 pop              0.545455  \n",
       "2              reggae              0.909091  \n",
       "3                 pop              0.727273  \n",
       "4              reggae              0.909091  \n",
       "...               ...                   ...  \n",
       "3671          country              0.545455  \n",
       "3672           reggae              0.818182  \n",
       "3673           reggae              0.454545  \n",
       "3674           reggae              0.727273  \n",
       "3675           reggae              0.727273  \n",
       "\n",
       "[3676 rows x 22 columns]"
      ],
      "text/html": "<div>\n<style scoped>\n    .dataframe tbody tr th:only-of-type {\n        vertical-align: middle;\n    }\n\n    .dataframe tbody tr th {\n        vertical-align: top;\n    }\n\n    .dataframe thead th {\n        text-align: right;\n    }\n</style>\n<table border=\"1\" class=\"dataframe\">\n  <thead>\n    <tr style=\"text-align: right;\">\n      <th></th>\n      <th>track_id</th>\n      <th>track_name</th>\n      <th>artist_id</th>\n      <th>artist_name</th>\n      <th>album_id</th>\n      <th>duration</th>\n      <th>release_date</th>\n      <th>popularity</th>\n      <th>danceability</th>\n      <th>energy</th>\n      <th>...</th>\n      <th>mode</th>\n      <th>speechiness</th>\n      <th>acousticness</th>\n      <th>instrumentalness</th>\n      <th>liveness</th>\n      <th>valence</th>\n      <th>tempo</th>\n      <th>predicted_genre_id</th>\n      <th>predicted_genre</th>\n      <th>predicted_genre_prob</th>\n    </tr>\n  </thead>\n  <tbody>\n    <tr>\n      <th>0</th>\n      <td>3MjUtNVVq3C8Fn0MP3zhXa</td>\n      <td>...Baby One More Time</td>\n      <td>26dSoYclwsYLMAKD3tpOr4</td>\n      <td>Britney Spears</td>\n      <td>3WNxdumkSMGMJRhEgK80qx</td>\n      <td>211066</td>\n      <td>1999-01-12</td>\n      <td>79</td>\n      <td>0.759</td>\n      <td>0.699</td>\n      <td>...</td>\n      <td>0.0</td>\n      <td>0.0307</td>\n      <td>0.20200</td>\n      <td>0.000131</td>\n      <td>0.4430</td>\n      <td>0.907</td>\n      <td>0.248514</td>\n      <td>4</td>\n      <td>reggae</td>\n      <td>0.727273</td>\n    </tr>\n    <tr>\n      <th>1</th>\n      <td>6I9VzXrHxO9rA9A5euc8Ak</td>\n      <td>Toxic</td>\n      <td>26dSoYclwsYLMAKD3tpOr4</td>\n      <td>Britney Spears</td>\n      <td>0z7pVBGOD7HCIB7S8eLkLI</td>\n      <td>198800</td>\n      <td>2003-11-13</td>\n      <td>82</td>\n      <td>0.774</td>\n      <td>0.838</td>\n      <td>...</td>\n      <td>0.0</td>\n      <td>0.1140</td>\n      <td>0.02490</td>\n      <td>0.025000</td>\n      <td>0.2420</td>\n      <td>0.924</td>\n      <td>0.556664</td>\n      <td>3</td>\n      <td>pop</td>\n      <td>0.545455</td>\n    </tr>\n    <tr>\n      <th>2</th>\n      <td>6naxalmIoLFWR0siv8dnQQ</td>\n      <td>Oops!...I Did It Again</td>\n      <td>26dSoYclwsYLMAKD3tpOr4</td>\n      <td>Britney Spears</td>\n      <td>5PmgtkodFl2Om3hMXONDll</td>\n      <td>211160</td>\n      <td>2000-05-16</td>\n      <td>79</td>\n      <td>0.751</td>\n      <td>0.834</td>\n      <td>...</td>\n      <td>0.0</td>\n      <td>0.0437</td>\n      <td>0.30000</td>\n      <td>0.000018</td>\n      <td>0.3550</td>\n      <td>0.894</td>\n      <td>0.261393</td>\n      <td>4</td>\n      <td>reggae</td>\n      <td>0.909091</td>\n    </tr>\n    <tr>\n      <th>3</th>\n      <td>4fixebDZAVToLbUCuEloa2</td>\n      <td>Womanizer</td>\n      <td>26dSoYclwsYLMAKD3tpOr4</td>\n      <td>Britney Spears</td>\n      <td>2tve5DGwub1TtbX1khPX5j</td>\n      <td>224400</td>\n      <td>2008-12-02</td>\n      <td>78</td>\n      <td>0.724</td>\n      <td>0.695</td>\n      <td>...</td>\n      <td>1.0</td>\n      <td>0.0622</td>\n      <td>0.07300</td>\n      <td>0.000000</td>\n      <td>0.0889</td>\n      <td>0.235</td>\n      <td>0.531806</td>\n      <td>3</td>\n      <td>pop</td>\n      <td>0.727273</td>\n    </tr>\n    <tr>\n      <th>4</th>\n      <td>6ic8OlLUNEATToEFU3xmaH</td>\n      <td>Gimme More</td>\n      <td>26dSoYclwsYLMAKD3tpOr4</td>\n      <td>Britney Spears</td>\n      <td>1ePkYcH5ZQCb1b4tQeiEDj</td>\n      <td>251240</td>\n      <td>2007-10-25</td>\n      <td>83</td>\n      <td>0.788</td>\n      <td>0.844</td>\n      <td>...</td>\n      <td>1.0</td>\n      <td>0.0334</td>\n      <td>0.25000</td>\n      <td>0.000678</td>\n      <td>0.0723</td>\n      <td>0.382</td>\n      <td>0.373817</td>\n      <td>4</td>\n      <td>reggae</td>\n      <td>0.909091</td>\n    </tr>\n    <tr>\n      <th>...</th>\n      <td>...</td>\n      <td>...</td>\n      <td>...</td>\n      <td>...</td>\n      <td>...</td>\n      <td>...</td>\n      <td>...</td>\n      <td>...</td>\n      <td>...</td>\n      <td>...</td>\n      <td>...</td>\n      <td>...</td>\n      <td>...</td>\n      <td>...</td>\n      <td>...</td>\n      <td>...</td>\n      <td>...</td>\n      <td>...</td>\n      <td>...</td>\n      <td>...</td>\n      <td>...</td>\n    </tr>\n    <tr>\n      <th>3671</th>\n      <td>6Fz2TpxUD0YvAPsuG8nDMJ</td>\n      <td>MAPA</td>\n      <td>3g7vYcdDXnqnDKYFwqXBJP</td>\n      <td>SB19</td>\n      <td>4Qhx57hNp0CUmUbO2igtAq</td>\n      <td>275420</td>\n      <td>2021-05-16</td>\n      <td>58</td>\n      <td>0.561</td>\n      <td>0.651</td>\n      <td>...</td>\n      <td>1.0</td>\n      <td>0.0689</td>\n      <td>0.30900</td>\n      <td>0.000000</td>\n      <td>0.3780</td>\n      <td>0.355</td>\n      <td>0.476163</td>\n      <td>1</td>\n      <td>country</td>\n      <td>0.545455</td>\n    </tr>\n    <tr>\n      <th>3672</th>\n      <td>2zrhoHlFKxFTRF5aMyxMoQ</td>\n      <td>Next Level</td>\n      <td>6YVMFz59CuY7ngCxTxjpxE</td>\n      <td>aespa</td>\n      <td>2CzbrboOLzeRoaaH1N5K0N</td>\n      <td>221573</td>\n      <td>2021-05-17</td>\n      <td>74</td>\n      <td>0.820</td>\n      <td>0.852</td>\n      <td>...</td>\n      <td>0.0</td>\n      <td>0.1660</td>\n      <td>0.48800</td>\n      <td>0.000006</td>\n      <td>0.0907</td>\n      <td>0.820</td>\n      <td>0.347432</td>\n      <td>4</td>\n      <td>reggae</td>\n      <td>0.818182</td>\n    </tr>\n    <tr>\n      <th>3673</th>\n      <td>2UbVnbE5FH6008mAm6Mmgw</td>\n      <td>Run</td>\n      <td>5Pwc4xIPtQLFEnJriah9YJ</td>\n      <td>OneRepublic</td>\n      <td>4d0a5uamW9NWRc1KXFeErI</td>\n      <td>169010</td>\n      <td>2021-05-05</td>\n      <td>82</td>\n      <td>0.682</td>\n      <td>0.720</td>\n      <td>...</td>\n      <td>0.0</td>\n      <td>0.0381</td>\n      <td>0.32600</td>\n      <td>0.000000</td>\n      <td>0.1480</td>\n      <td>0.673</td>\n      <td>0.396455</td>\n      <td>4</td>\n      <td>reggae</td>\n      <td>0.454545</td>\n    </tr>\n    <tr>\n      <th>3674</th>\n      <td>7I9RoRcJ0N9rvN4p4KWPsH</td>\n      <td>Paraluman</td>\n      <td>3Dr5ezvDdYsycy1gfaZWSL</td>\n      <td>raven</td>\n      <td>2eKPpTGmSRX3bfBZm9QxiN</td>\n      <td>224578</td>\n      <td>2021-02-18</td>\n      <td>58</td>\n      <td>0.745</td>\n      <td>0.497</td>\n      <td>...</td>\n      <td>1.0</td>\n      <td>0.1360</td>\n      <td>0.00611</td>\n      <td>0.033000</td>\n      <td>0.1830</td>\n      <td>0.438</td>\n      <td>0.138120</td>\n      <td>4</td>\n      <td>reggae</td>\n      <td>0.727273</td>\n    </tr>\n    <tr>\n      <th>3675</th>\n      <td>2RFzaIg3tJhvJdNIUqvr9R</td>\n      <td>Got It Like That</td>\n      <td>0UntV1Bw2hk3fbRrm9eMP6</td>\n      <td>B.I</td>\n      <td>4LIOJLYeTXrz6rvfk0O6xK</td>\n      <td>178775</td>\n      <td>2021-05-14</td>\n      <td>64</td>\n      <td>0.803</td>\n      <td>0.519</td>\n      <td>...</td>\n      <td>1.0</td>\n      <td>0.0359</td>\n      <td>0.08500</td>\n      <td>0.000078</td>\n      <td>0.3060</td>\n      <td>0.644</td>\n      <td>0.279317</td>\n      <td>4</td>\n      <td>reggae</td>\n      <td>0.727273</td>\n    </tr>\n  </tbody>\n</table>\n<p>3676 rows × 22 columns</p>\n</div>"
     },
     "metadata": {},
     "execution_count": 54
    }
   ],
   "source": [
    "predictions_df = pd.read_csv('data/genre_predictions.csv')\n",
    "predictions_df"
   ]
  },
  {
   "cell_type": "code",
   "execution_count": null,
   "metadata": {},
   "outputs": [],
   "source": []
  },
  {
   "cell_type": "code",
   "execution_count": 55,
   "metadata": {},
   "outputs": [
    {
     "output_type": "execute_result",
     "data": {
      "text/plain": [
       "                   track_id  \\\n",
       "0    3MjUtNVVq3C8Fn0MP3zhXa   \n",
       "1    6I9VzXrHxO9rA9A5euc8Ak   \n",
       "2    6naxalmIoLFWR0siv8dnQQ   \n",
       "3    4fixebDZAVToLbUCuEloa2   \n",
       "4    6ic8OlLUNEATToEFU3xmaH   \n",
       "..                      ...   \n",
       "186  5GP8vMD6WaOffDeJfbit0m   \n",
       "187  0cG2rnJV6G9GqYHOesbM4U   \n",
       "188  6H01lZiYF1zWlPqpJlu9as   \n",
       "189  0FzZkbdKATBMU4fKHXah3R   \n",
       "190  61iJ9cAYgB5rJamvuChwEn   \n",
       "\n",
       "                                            track_name  \\\n",
       "0                                ...Baby One More Time   \n",
       "1                                                Toxic   \n",
       "2                               Oops!...I Did It Again   \n",
       "3                                            Womanizer   \n",
       "4                                           Gimme More   \n",
       "..                                                 ...   \n",
       "186   Gimme More (\"Kimme More\" Remix) (feat. Lil' Kim)   \n",
       "187                           Radar - Tonal Club Remix   \n",
       "188                            Gimme More - Remastered   \n",
       "189  From the Bottom of My Broken Heart - Radio Edi...   \n",
       "190                        Someday (I Will Understand)   \n",
       "\n",
       "                  artist_id     artist_name                album_id  duration  \\\n",
       "0    26dSoYclwsYLMAKD3tpOr4  Britney Spears  3WNxdumkSMGMJRhEgK80qx    211066   \n",
       "1    26dSoYclwsYLMAKD3tpOr4  Britney Spears  0z7pVBGOD7HCIB7S8eLkLI    198800   \n",
       "2    26dSoYclwsYLMAKD3tpOr4  Britney Spears  5PmgtkodFl2Om3hMXONDll    211160   \n",
       "3    26dSoYclwsYLMAKD3tpOr4  Britney Spears  2tve5DGwub1TtbX1khPX5j    224400   \n",
       "4    26dSoYclwsYLMAKD3tpOr4  Britney Spears  1ePkYcH5ZQCb1b4tQeiEDj    251240   \n",
       "..                      ...             ...                     ...       ...   \n",
       "186  26dSoYclwsYLMAKD3tpOr4  Britney Spears  5OKcpFYgWvyiYhEG6Bdoyc    252720   \n",
       "187  26dSoYclwsYLMAKD3tpOr4  Britney Spears  6KyOIN8ljZIuggUSvcCnuI    295413   \n",
       "188  26dSoYclwsYLMAKD3tpOr4  Britney Spears  2ti2e8J05nwg9ikcMjW8aS    251840   \n",
       "189  26dSoYclwsYLMAKD3tpOr4  Britney Spears  325wcm5wMnlfjmKZ8PXIIn    274133   \n",
       "190  26dSoYclwsYLMAKD3tpOr4  Britney Spears  1vTd9YWAo7zQVhWlDg5wE0    216933   \n",
       "\n",
       "    release_date  popularity  danceability  energy  ...  mode  speechiness  \\\n",
       "0     1999-01-12          79         0.759   0.699  ...   0.0       0.0307   \n",
       "1     2003-11-13          82         0.774   0.838  ...   0.0       0.1140   \n",
       "2     2000-05-16          79         0.751   0.834  ...   0.0       0.0437   \n",
       "3     2008-12-02          78         0.724   0.695  ...   1.0       0.0622   \n",
       "4     2007-10-25          83         0.788   0.844  ...   1.0       0.0334   \n",
       "..           ...         ...           ...     ...  ...   ...          ...   \n",
       "186   2008-01-08          43         0.782   0.887  ...   1.0       0.0743   \n",
       "187   2011-10-07          21         0.661   0.834  ...   0.0       0.0490   \n",
       "188   2014-07-29          55         0.793   0.849  ...   1.0       0.0330   \n",
       "189   2009-11-09          27         0.667   0.602  ...   1.0       0.0299   \n",
       "190   2005-09-27          36         0.523   0.561  ...   0.0       0.0275   \n",
       "\n",
       "     acousticness  instrumentalness  liveness  valence     tempo  \\\n",
       "0        0.202000          0.000131    0.4430    0.907  0.248514   \n",
       "1        0.024900          0.025000    0.2420    0.924  0.556664   \n",
       "2        0.300000          0.000018    0.3550    0.894  0.261393   \n",
       "3        0.073000          0.000000    0.0889    0.235  0.531806   \n",
       "4        0.250000          0.000678    0.0723    0.382  0.373817   \n",
       "..            ...               ...       ...      ...       ...   \n",
       "186      0.265000          0.000013    0.1860    0.490  0.373688   \n",
       "187      0.000112          0.662000    0.1360    0.110  0.464102   \n",
       "188      0.293000          0.004170    0.0630    0.405  0.373657   \n",
       "189      0.335000          0.000000    0.3700    0.635  0.137819   \n",
       "190      0.732000          0.000025    0.1260    0.176  0.513174   \n",
       "\n",
       "     predicted_genre_id  predicted_genre  predicted_genre_prob  \n",
       "0                     4           reggae              0.727273  \n",
       "1                     3              pop              0.545455  \n",
       "2                     4           reggae              0.909091  \n",
       "3                     3              pop              0.727273  \n",
       "4                     4           reggae              0.909091  \n",
       "..                  ...              ...                   ...  \n",
       "186                   4           reggae              0.909091  \n",
       "187                   2             jazz              0.909091  \n",
       "188                   4           reggae              1.000000  \n",
       "189                   4           reggae              0.363636  \n",
       "190                   2             jazz              0.545455  \n",
       "\n",
       "[191 rows x 22 columns]"
      ],
      "text/html": "<div>\n<style scoped>\n    .dataframe tbody tr th:only-of-type {\n        vertical-align: middle;\n    }\n\n    .dataframe tbody tr th {\n        vertical-align: top;\n    }\n\n    .dataframe thead th {\n        text-align: right;\n    }\n</style>\n<table border=\"1\" class=\"dataframe\">\n  <thead>\n    <tr style=\"text-align: right;\">\n      <th></th>\n      <th>track_id</th>\n      <th>track_name</th>\n      <th>artist_id</th>\n      <th>artist_name</th>\n      <th>album_id</th>\n      <th>duration</th>\n      <th>release_date</th>\n      <th>popularity</th>\n      <th>danceability</th>\n      <th>energy</th>\n      <th>...</th>\n      <th>mode</th>\n      <th>speechiness</th>\n      <th>acousticness</th>\n      <th>instrumentalness</th>\n      <th>liveness</th>\n      <th>valence</th>\n      <th>tempo</th>\n      <th>predicted_genre_id</th>\n      <th>predicted_genre</th>\n      <th>predicted_genre_prob</th>\n    </tr>\n  </thead>\n  <tbody>\n    <tr>\n      <th>0</th>\n      <td>3MjUtNVVq3C8Fn0MP3zhXa</td>\n      <td>...Baby One More Time</td>\n      <td>26dSoYclwsYLMAKD3tpOr4</td>\n      <td>Britney Spears</td>\n      <td>3WNxdumkSMGMJRhEgK80qx</td>\n      <td>211066</td>\n      <td>1999-01-12</td>\n      <td>79</td>\n      <td>0.759</td>\n      <td>0.699</td>\n      <td>...</td>\n      <td>0.0</td>\n      <td>0.0307</td>\n      <td>0.202000</td>\n      <td>0.000131</td>\n      <td>0.4430</td>\n      <td>0.907</td>\n      <td>0.248514</td>\n      <td>4</td>\n      <td>reggae</td>\n      <td>0.727273</td>\n    </tr>\n    <tr>\n      <th>1</th>\n      <td>6I9VzXrHxO9rA9A5euc8Ak</td>\n      <td>Toxic</td>\n      <td>26dSoYclwsYLMAKD3tpOr4</td>\n      <td>Britney Spears</td>\n      <td>0z7pVBGOD7HCIB7S8eLkLI</td>\n      <td>198800</td>\n      <td>2003-11-13</td>\n      <td>82</td>\n      <td>0.774</td>\n      <td>0.838</td>\n      <td>...</td>\n      <td>0.0</td>\n      <td>0.1140</td>\n      <td>0.024900</td>\n      <td>0.025000</td>\n      <td>0.2420</td>\n      <td>0.924</td>\n      <td>0.556664</td>\n      <td>3</td>\n      <td>pop</td>\n      <td>0.545455</td>\n    </tr>\n    <tr>\n      <th>2</th>\n      <td>6naxalmIoLFWR0siv8dnQQ</td>\n      <td>Oops!...I Did It Again</td>\n      <td>26dSoYclwsYLMAKD3tpOr4</td>\n      <td>Britney Spears</td>\n      <td>5PmgtkodFl2Om3hMXONDll</td>\n      <td>211160</td>\n      <td>2000-05-16</td>\n      <td>79</td>\n      <td>0.751</td>\n      <td>0.834</td>\n      <td>...</td>\n      <td>0.0</td>\n      <td>0.0437</td>\n      <td>0.300000</td>\n      <td>0.000018</td>\n      <td>0.3550</td>\n      <td>0.894</td>\n      <td>0.261393</td>\n      <td>4</td>\n      <td>reggae</td>\n      <td>0.909091</td>\n    </tr>\n    <tr>\n      <th>3</th>\n      <td>4fixebDZAVToLbUCuEloa2</td>\n      <td>Womanizer</td>\n      <td>26dSoYclwsYLMAKD3tpOr4</td>\n      <td>Britney Spears</td>\n      <td>2tve5DGwub1TtbX1khPX5j</td>\n      <td>224400</td>\n      <td>2008-12-02</td>\n      <td>78</td>\n      <td>0.724</td>\n      <td>0.695</td>\n      <td>...</td>\n      <td>1.0</td>\n      <td>0.0622</td>\n      <td>0.073000</td>\n      <td>0.000000</td>\n      <td>0.0889</td>\n      <td>0.235</td>\n      <td>0.531806</td>\n      <td>3</td>\n      <td>pop</td>\n      <td>0.727273</td>\n    </tr>\n    <tr>\n      <th>4</th>\n      <td>6ic8OlLUNEATToEFU3xmaH</td>\n      <td>Gimme More</td>\n      <td>26dSoYclwsYLMAKD3tpOr4</td>\n      <td>Britney Spears</td>\n      <td>1ePkYcH5ZQCb1b4tQeiEDj</td>\n      <td>251240</td>\n      <td>2007-10-25</td>\n      <td>83</td>\n      <td>0.788</td>\n      <td>0.844</td>\n      <td>...</td>\n      <td>1.0</td>\n      <td>0.0334</td>\n      <td>0.250000</td>\n      <td>0.000678</td>\n      <td>0.0723</td>\n      <td>0.382</td>\n      <td>0.373817</td>\n      <td>4</td>\n      <td>reggae</td>\n      <td>0.909091</td>\n    </tr>\n    <tr>\n      <th>...</th>\n      <td>...</td>\n      <td>...</td>\n      <td>...</td>\n      <td>...</td>\n      <td>...</td>\n      <td>...</td>\n      <td>...</td>\n      <td>...</td>\n      <td>...</td>\n      <td>...</td>\n      <td>...</td>\n      <td>...</td>\n      <td>...</td>\n      <td>...</td>\n      <td>...</td>\n      <td>...</td>\n      <td>...</td>\n      <td>...</td>\n      <td>...</td>\n      <td>...</td>\n      <td>...</td>\n    </tr>\n    <tr>\n      <th>186</th>\n      <td>5GP8vMD6WaOffDeJfbit0m</td>\n      <td>Gimme More (\"Kimme More\" Remix) (feat. Lil' Kim)</td>\n      <td>26dSoYclwsYLMAKD3tpOr4</td>\n      <td>Britney Spears</td>\n      <td>5OKcpFYgWvyiYhEG6Bdoyc</td>\n      <td>252720</td>\n      <td>2008-01-08</td>\n      <td>43</td>\n      <td>0.782</td>\n      <td>0.887</td>\n      <td>...</td>\n      <td>1.0</td>\n      <td>0.0743</td>\n      <td>0.265000</td>\n      <td>0.000013</td>\n      <td>0.1860</td>\n      <td>0.490</td>\n      <td>0.373688</td>\n      <td>4</td>\n      <td>reggae</td>\n      <td>0.909091</td>\n    </tr>\n    <tr>\n      <th>187</th>\n      <td>0cG2rnJV6G9GqYHOesbM4U</td>\n      <td>Radar - Tonal Club Remix</td>\n      <td>26dSoYclwsYLMAKD3tpOr4</td>\n      <td>Britney Spears</td>\n      <td>6KyOIN8ljZIuggUSvcCnuI</td>\n      <td>295413</td>\n      <td>2011-10-07</td>\n      <td>21</td>\n      <td>0.661</td>\n      <td>0.834</td>\n      <td>...</td>\n      <td>0.0</td>\n      <td>0.0490</td>\n      <td>0.000112</td>\n      <td>0.662000</td>\n      <td>0.1360</td>\n      <td>0.110</td>\n      <td>0.464102</td>\n      <td>2</td>\n      <td>jazz</td>\n      <td>0.909091</td>\n    </tr>\n    <tr>\n      <th>188</th>\n      <td>6H01lZiYF1zWlPqpJlu9as</td>\n      <td>Gimme More - Remastered</td>\n      <td>26dSoYclwsYLMAKD3tpOr4</td>\n      <td>Britney Spears</td>\n      <td>2ti2e8J05nwg9ikcMjW8aS</td>\n      <td>251840</td>\n      <td>2014-07-29</td>\n      <td>55</td>\n      <td>0.793</td>\n      <td>0.849</td>\n      <td>...</td>\n      <td>1.0</td>\n      <td>0.0330</td>\n      <td>0.293000</td>\n      <td>0.004170</td>\n      <td>0.0630</td>\n      <td>0.405</td>\n      <td>0.373657</td>\n      <td>4</td>\n      <td>reggae</td>\n      <td>1.000000</td>\n    </tr>\n    <tr>\n      <th>189</th>\n      <td>0FzZkbdKATBMU4fKHXah3R</td>\n      <td>From the Bottom of My Broken Heart - Radio Edi...</td>\n      <td>26dSoYclwsYLMAKD3tpOr4</td>\n      <td>Britney Spears</td>\n      <td>325wcm5wMnlfjmKZ8PXIIn</td>\n      <td>274133</td>\n      <td>2009-11-09</td>\n      <td>27</td>\n      <td>0.667</td>\n      <td>0.602</td>\n      <td>...</td>\n      <td>1.0</td>\n      <td>0.0299</td>\n      <td>0.335000</td>\n      <td>0.000000</td>\n      <td>0.3700</td>\n      <td>0.635</td>\n      <td>0.137819</td>\n      <td>4</td>\n      <td>reggae</td>\n      <td>0.363636</td>\n    </tr>\n    <tr>\n      <th>190</th>\n      <td>61iJ9cAYgB5rJamvuChwEn</td>\n      <td>Someday (I Will Understand)</td>\n      <td>26dSoYclwsYLMAKD3tpOr4</td>\n      <td>Britney Spears</td>\n      <td>1vTd9YWAo7zQVhWlDg5wE0</td>\n      <td>216933</td>\n      <td>2005-09-27</td>\n      <td>36</td>\n      <td>0.523</td>\n      <td>0.561</td>\n      <td>...</td>\n      <td>0.0</td>\n      <td>0.0275</td>\n      <td>0.732000</td>\n      <td>0.000025</td>\n      <td>0.1260</td>\n      <td>0.176</td>\n      <td>0.513174</td>\n      <td>2</td>\n      <td>jazz</td>\n      <td>0.545455</td>\n    </tr>\n  </tbody>\n</table>\n<p>191 rows × 22 columns</p>\n</div>"
     },
     "metadata": {},
     "execution_count": 55
    }
   ],
   "source": [
    "britney_df = predictions_df[predictions_df.artist_name == 'Britney Spears']\n",
    "britney_df"
   ]
  },
  {
   "cell_type": "code",
   "execution_count": 56,
   "metadata": {},
   "outputs": [
    {
     "output_type": "execute_result",
     "data": {
      "text/plain": [
       "                    track_id            track_name               artist_id  \\\n",
       "191   0kN8xEmgMW9mh7UmDYHlJP  Versace on the Floor  0du5cEVh5yTK9QJze8zA0C   \n",
       "192   5uCax9HTNlzGybIStD3vDh  Say You Won't Let Go  4IWBUUAFIplrNtaOHcJPRM   \n",
       "193   7BKLCZ1jbUBVqRi2FVlTVw                Closer  69GGBxA162lTqCwzJG5jLp   \n",
       "194   2rizacJSyD9S1IQUxUxnsK           All We Know  69GGBxA162lTqCwzJG5jLp   \n",
       "195   5MFzQMkrl1FOOng9tq6R9r      Don't Wanna Know  04gDigrS5kc9YWfZHwBETP   \n",
       "...                      ...                   ...                     ...   \n",
       "3671  6Fz2TpxUD0YvAPsuG8nDMJ                  MAPA  3g7vYcdDXnqnDKYFwqXBJP   \n",
       "3672  2zrhoHlFKxFTRF5aMyxMoQ            Next Level  6YVMFz59CuY7ngCxTxjpxE   \n",
       "3673  2UbVnbE5FH6008mAm6Mmgw                   Run  5Pwc4xIPtQLFEnJriah9YJ   \n",
       "3674  7I9RoRcJ0N9rvN4p4KWPsH             Paraluman  3Dr5ezvDdYsycy1gfaZWSL   \n",
       "3675  2RFzaIg3tJhvJdNIUqvr9R      Got It Like That  0UntV1Bw2hk3fbRrm9eMP6   \n",
       "\n",
       "           artist_name                album_id  duration release_date  \\\n",
       "191         Bruno Mars  4PgleR09JVnm3zY1fW3XBA    261240   2016-11-17   \n",
       "192       James Arthur  7oiJYvEJHsmYtrgviAVIBD    211466   2016-10-28   \n",
       "193   The Chainsmokers  0rSLgV8p5FzfnqlEk4GzxE    244960   2016-07-29   \n",
       "194   The Chainsmokers  0xmaV6EtJ4M3ebZUPRnhyb    194080   2016-09-29   \n",
       "195           Maroon 5  0fvTn3WXF39kQs9i3bnNpP    214480   2016-10-11   \n",
       "...                ...                     ...       ...          ...   \n",
       "3671              SB19  4Qhx57hNp0CUmUbO2igtAq    275420   2021-05-16   \n",
       "3672             aespa  2CzbrboOLzeRoaaH1N5K0N    221573   2021-05-17   \n",
       "3673       OneRepublic  4d0a5uamW9NWRc1KXFeErI    169010   2021-05-05   \n",
       "3674             raven  2eKPpTGmSRX3bfBZm9QxiN    224578   2021-02-18   \n",
       "3675               B.I  4LIOJLYeTXrz6rvfk0O6xK    178775   2021-05-14   \n",
       "\n",
       "      popularity  danceability  energy  ...  mode  speechiness  acousticness  \\\n",
       "191           76         0.578   0.574  ...   1.0       0.0454       0.19600   \n",
       "192           85         0.358   0.557  ...   1.0       0.0590       0.69500   \n",
       "193           85         0.748   0.524  ...   1.0       0.0338       0.41400   \n",
       "194           69         0.662   0.586  ...   1.0       0.0307       0.09700   \n",
       "195            0         0.783   0.623  ...   1.0       0.0800       0.33800   \n",
       "...          ...           ...     ...  ...   ...          ...           ...   \n",
       "3671          58         0.561   0.651  ...   1.0       0.0689       0.30900   \n",
       "3672          74         0.820   0.852  ...   0.0       0.1660       0.48800   \n",
       "3673          82         0.682   0.720  ...   0.0       0.0381       0.32600   \n",
       "3674          58         0.745   0.497  ...   1.0       0.1360       0.00611   \n",
       "3675          64         0.803   0.519  ...   1.0       0.0359       0.08500   \n",
       "\n",
       "      instrumentalness  liveness  valence     tempo  predicted_genre_id  \\\n",
       "191           0.000000    0.0830    0.301  0.748102                   3   \n",
       "192           0.000000    0.0902    0.494  0.199799                   3   \n",
       "193           0.000000    0.1110    0.661  0.261128                   3   \n",
       "194           0.002720    0.1150    0.296  0.230301                   1   \n",
       "195           0.000000    0.0975    0.447  0.292128                   3   \n",
       "...                ...       ...      ...       ...                 ...   \n",
       "3671          0.000000    0.3780    0.355  0.476163                   1   \n",
       "3672          0.000006    0.0907    0.820  0.347432                   4   \n",
       "3673          0.000000    0.1480    0.673  0.396455                   4   \n",
       "3674          0.033000    0.1830    0.438  0.138120                   4   \n",
       "3675          0.000078    0.3060    0.644  0.279317                   4   \n",
       "\n",
       "      predicted_genre  predicted_genre_prob  \n",
       "191               pop              0.727273  \n",
       "192               pop              0.636364  \n",
       "193               pop              0.363636  \n",
       "194           country              0.454545  \n",
       "195               pop              0.363636  \n",
       "...               ...                   ...  \n",
       "3671          country              0.545455  \n",
       "3672           reggae              0.818182  \n",
       "3673           reggae              0.454545  \n",
       "3674           reggae              0.727273  \n",
       "3675           reggae              0.727273  \n",
       "\n",
       "[3485 rows x 22 columns]"
      ],
      "text/html": "<div>\n<style scoped>\n    .dataframe tbody tr th:only-of-type {\n        vertical-align: middle;\n    }\n\n    .dataframe tbody tr th {\n        vertical-align: top;\n    }\n\n    .dataframe thead th {\n        text-align: right;\n    }\n</style>\n<table border=\"1\" class=\"dataframe\">\n  <thead>\n    <tr style=\"text-align: right;\">\n      <th></th>\n      <th>track_id</th>\n      <th>track_name</th>\n      <th>artist_id</th>\n      <th>artist_name</th>\n      <th>album_id</th>\n      <th>duration</th>\n      <th>release_date</th>\n      <th>popularity</th>\n      <th>danceability</th>\n      <th>energy</th>\n      <th>...</th>\n      <th>mode</th>\n      <th>speechiness</th>\n      <th>acousticness</th>\n      <th>instrumentalness</th>\n      <th>liveness</th>\n      <th>valence</th>\n      <th>tempo</th>\n      <th>predicted_genre_id</th>\n      <th>predicted_genre</th>\n      <th>predicted_genre_prob</th>\n    </tr>\n  </thead>\n  <tbody>\n    <tr>\n      <th>191</th>\n      <td>0kN8xEmgMW9mh7UmDYHlJP</td>\n      <td>Versace on the Floor</td>\n      <td>0du5cEVh5yTK9QJze8zA0C</td>\n      <td>Bruno Mars</td>\n      <td>4PgleR09JVnm3zY1fW3XBA</td>\n      <td>261240</td>\n      <td>2016-11-17</td>\n      <td>76</td>\n      <td>0.578</td>\n      <td>0.574</td>\n      <td>...</td>\n      <td>1.0</td>\n      <td>0.0454</td>\n      <td>0.19600</td>\n      <td>0.000000</td>\n      <td>0.0830</td>\n      <td>0.301</td>\n      <td>0.748102</td>\n      <td>3</td>\n      <td>pop</td>\n      <td>0.727273</td>\n    </tr>\n    <tr>\n      <th>192</th>\n      <td>5uCax9HTNlzGybIStD3vDh</td>\n      <td>Say You Won't Let Go</td>\n      <td>4IWBUUAFIplrNtaOHcJPRM</td>\n      <td>James Arthur</td>\n      <td>7oiJYvEJHsmYtrgviAVIBD</td>\n      <td>211466</td>\n      <td>2016-10-28</td>\n      <td>85</td>\n      <td>0.358</td>\n      <td>0.557</td>\n      <td>...</td>\n      <td>1.0</td>\n      <td>0.0590</td>\n      <td>0.69500</td>\n      <td>0.000000</td>\n      <td>0.0902</td>\n      <td>0.494</td>\n      <td>0.199799</td>\n      <td>3</td>\n      <td>pop</td>\n      <td>0.636364</td>\n    </tr>\n    <tr>\n      <th>193</th>\n      <td>7BKLCZ1jbUBVqRi2FVlTVw</td>\n      <td>Closer</td>\n      <td>69GGBxA162lTqCwzJG5jLp</td>\n      <td>The Chainsmokers</td>\n      <td>0rSLgV8p5FzfnqlEk4GzxE</td>\n      <td>244960</td>\n      <td>2016-07-29</td>\n      <td>85</td>\n      <td>0.748</td>\n      <td>0.524</td>\n      <td>...</td>\n      <td>1.0</td>\n      <td>0.0338</td>\n      <td>0.41400</td>\n      <td>0.000000</td>\n      <td>0.1110</td>\n      <td>0.661</td>\n      <td>0.261128</td>\n      <td>3</td>\n      <td>pop</td>\n      <td>0.363636</td>\n    </tr>\n    <tr>\n      <th>194</th>\n      <td>2rizacJSyD9S1IQUxUxnsK</td>\n      <td>All We Know</td>\n      <td>69GGBxA162lTqCwzJG5jLp</td>\n      <td>The Chainsmokers</td>\n      <td>0xmaV6EtJ4M3ebZUPRnhyb</td>\n      <td>194080</td>\n      <td>2016-09-29</td>\n      <td>69</td>\n      <td>0.662</td>\n      <td>0.586</td>\n      <td>...</td>\n      <td>1.0</td>\n      <td>0.0307</td>\n      <td>0.09700</td>\n      <td>0.002720</td>\n      <td>0.1150</td>\n      <td>0.296</td>\n      <td>0.230301</td>\n      <td>1</td>\n      <td>country</td>\n      <td>0.454545</td>\n    </tr>\n    <tr>\n      <th>195</th>\n      <td>5MFzQMkrl1FOOng9tq6R9r</td>\n      <td>Don't Wanna Know</td>\n      <td>04gDigrS5kc9YWfZHwBETP</td>\n      <td>Maroon 5</td>\n      <td>0fvTn3WXF39kQs9i3bnNpP</td>\n      <td>214480</td>\n      <td>2016-10-11</td>\n      <td>0</td>\n      <td>0.783</td>\n      <td>0.623</td>\n      <td>...</td>\n      <td>1.0</td>\n      <td>0.0800</td>\n      <td>0.33800</td>\n      <td>0.000000</td>\n      <td>0.0975</td>\n      <td>0.447</td>\n      <td>0.292128</td>\n      <td>3</td>\n      <td>pop</td>\n      <td>0.363636</td>\n    </tr>\n    <tr>\n      <th>...</th>\n      <td>...</td>\n      <td>...</td>\n      <td>...</td>\n      <td>...</td>\n      <td>...</td>\n      <td>...</td>\n      <td>...</td>\n      <td>...</td>\n      <td>...</td>\n      <td>...</td>\n      <td>...</td>\n      <td>...</td>\n      <td>...</td>\n      <td>...</td>\n      <td>...</td>\n      <td>...</td>\n      <td>...</td>\n      <td>...</td>\n      <td>...</td>\n      <td>...</td>\n      <td>...</td>\n    </tr>\n    <tr>\n      <th>3671</th>\n      <td>6Fz2TpxUD0YvAPsuG8nDMJ</td>\n      <td>MAPA</td>\n      <td>3g7vYcdDXnqnDKYFwqXBJP</td>\n      <td>SB19</td>\n      <td>4Qhx57hNp0CUmUbO2igtAq</td>\n      <td>275420</td>\n      <td>2021-05-16</td>\n      <td>58</td>\n      <td>0.561</td>\n      <td>0.651</td>\n      <td>...</td>\n      <td>1.0</td>\n      <td>0.0689</td>\n      <td>0.30900</td>\n      <td>0.000000</td>\n      <td>0.3780</td>\n      <td>0.355</td>\n      <td>0.476163</td>\n      <td>1</td>\n      <td>country</td>\n      <td>0.545455</td>\n    </tr>\n    <tr>\n      <th>3672</th>\n      <td>2zrhoHlFKxFTRF5aMyxMoQ</td>\n      <td>Next Level</td>\n      <td>6YVMFz59CuY7ngCxTxjpxE</td>\n      <td>aespa</td>\n      <td>2CzbrboOLzeRoaaH1N5K0N</td>\n      <td>221573</td>\n      <td>2021-05-17</td>\n      <td>74</td>\n      <td>0.820</td>\n      <td>0.852</td>\n      <td>...</td>\n      <td>0.0</td>\n      <td>0.1660</td>\n      <td>0.48800</td>\n      <td>0.000006</td>\n      <td>0.0907</td>\n      <td>0.820</td>\n      <td>0.347432</td>\n      <td>4</td>\n      <td>reggae</td>\n      <td>0.818182</td>\n    </tr>\n    <tr>\n      <th>3673</th>\n      <td>2UbVnbE5FH6008mAm6Mmgw</td>\n      <td>Run</td>\n      <td>5Pwc4xIPtQLFEnJriah9YJ</td>\n      <td>OneRepublic</td>\n      <td>4d0a5uamW9NWRc1KXFeErI</td>\n      <td>169010</td>\n      <td>2021-05-05</td>\n      <td>82</td>\n      <td>0.682</td>\n      <td>0.720</td>\n      <td>...</td>\n      <td>0.0</td>\n      <td>0.0381</td>\n      <td>0.32600</td>\n      <td>0.000000</td>\n      <td>0.1480</td>\n      <td>0.673</td>\n      <td>0.396455</td>\n      <td>4</td>\n      <td>reggae</td>\n      <td>0.454545</td>\n    </tr>\n    <tr>\n      <th>3674</th>\n      <td>7I9RoRcJ0N9rvN4p4KWPsH</td>\n      <td>Paraluman</td>\n      <td>3Dr5ezvDdYsycy1gfaZWSL</td>\n      <td>raven</td>\n      <td>2eKPpTGmSRX3bfBZm9QxiN</td>\n      <td>224578</td>\n      <td>2021-02-18</td>\n      <td>58</td>\n      <td>0.745</td>\n      <td>0.497</td>\n      <td>...</td>\n      <td>1.0</td>\n      <td>0.1360</td>\n      <td>0.00611</td>\n      <td>0.033000</td>\n      <td>0.1830</td>\n      <td>0.438</td>\n      <td>0.138120</td>\n      <td>4</td>\n      <td>reggae</td>\n      <td>0.727273</td>\n    </tr>\n    <tr>\n      <th>3675</th>\n      <td>2RFzaIg3tJhvJdNIUqvr9R</td>\n      <td>Got It Like That</td>\n      <td>0UntV1Bw2hk3fbRrm9eMP6</td>\n      <td>B.I</td>\n      <td>4LIOJLYeTXrz6rvfk0O6xK</td>\n      <td>178775</td>\n      <td>2021-05-14</td>\n      <td>64</td>\n      <td>0.803</td>\n      <td>0.519</td>\n      <td>...</td>\n      <td>1.0</td>\n      <td>0.0359</td>\n      <td>0.08500</td>\n      <td>0.000078</td>\n      <td>0.3060</td>\n      <td>0.644</td>\n      <td>0.279317</td>\n      <td>4</td>\n      <td>reggae</td>\n      <td>0.727273</td>\n    </tr>\n  </tbody>\n</table>\n<p>3485 rows × 22 columns</p>\n</div>"
     },
     "metadata": {},
     "execution_count": 56
    }
   ],
   "source": [
    "others_df = predictions_df[predictions_df.artist_name != 'Britney Spears']\n",
    "others_df"
   ]
  },
  {
   "cell_type": "code",
   "execution_count": 57,
   "metadata": {},
   "outputs": [
    {
     "output_type": "execute_result",
     "data": {
      "text/plain": [
       "['reggae', 'pop', 'country', 'jazz']"
      ]
     },
     "metadata": {},
     "execution_count": 57
    }
   ],
   "source": [
    "# EDA - Britney's genres\n",
    "list(britney_df.predicted_genre.unique())"
   ]
  },
  {
   "cell_type": "code",
   "execution_count": 58,
   "metadata": {},
   "outputs": [
    {
     "output_type": "execute_result",
     "data": {
      "text/plain": [
       "['pop', 'country', 'reggae', 'jazz', 'classical']"
      ]
     },
     "metadata": {},
     "execution_count": 58
    }
   ],
   "source": [
    "# EDA - Other Artists' genres\n",
    "list(others_df.predicted_genre.unique())"
   ]
  },
  {
   "cell_type": "code",
   "execution_count": null,
   "metadata": {},
   "outputs": [],
   "source": []
  },
  {
   "cell_type": "code",
   "execution_count": 59,
   "metadata": {},
   "outputs": [
    {
     "output_type": "execute_result",
     "data": {
      "text/plain": [
       "  predicted_genre  danceability    energy  loudness  speechiness  \\\n",
       "0         country      0.618967  0.740767  0.746238     0.069890   \n",
       "1            jazz      0.587125  0.525500  0.580200     0.038488   \n",
       "2             pop      0.639161  0.761194  0.781138     0.063681   \n",
       "3          reggae      0.778484  0.741967  0.783057     0.071373   \n",
       "\n",
       "   acousticness  instrumentalness  liveness   valence     tempo  \n",
       "0      0.154996          0.017920  0.200130  0.618933  0.421168  \n",
       "1      0.466315          0.277891  0.142875  0.341250  0.441080  \n",
       "2      0.097241          0.014585  0.192935  0.553529  0.436139  \n",
       "3      0.136080          0.007737  0.151990  0.731769  0.384071  "
      ],
      "text/html": "<div>\n<style scoped>\n    .dataframe tbody tr th:only-of-type {\n        vertical-align: middle;\n    }\n\n    .dataframe tbody tr th {\n        vertical-align: top;\n    }\n\n    .dataframe thead th {\n        text-align: right;\n    }\n</style>\n<table border=\"1\" class=\"dataframe\">\n  <thead>\n    <tr style=\"text-align: right;\">\n      <th></th>\n      <th>predicted_genre</th>\n      <th>danceability</th>\n      <th>energy</th>\n      <th>loudness</th>\n      <th>speechiness</th>\n      <th>acousticness</th>\n      <th>instrumentalness</th>\n      <th>liveness</th>\n      <th>valence</th>\n      <th>tempo</th>\n    </tr>\n  </thead>\n  <tbody>\n    <tr>\n      <th>0</th>\n      <td>country</td>\n      <td>0.618967</td>\n      <td>0.740767</td>\n      <td>0.746238</td>\n      <td>0.069890</td>\n      <td>0.154996</td>\n      <td>0.017920</td>\n      <td>0.200130</td>\n      <td>0.618933</td>\n      <td>0.421168</td>\n    </tr>\n    <tr>\n      <th>1</th>\n      <td>jazz</td>\n      <td>0.587125</td>\n      <td>0.525500</td>\n      <td>0.580200</td>\n      <td>0.038488</td>\n      <td>0.466315</td>\n      <td>0.277891</td>\n      <td>0.142875</td>\n      <td>0.341250</td>\n      <td>0.441080</td>\n    </tr>\n    <tr>\n      <th>2</th>\n      <td>pop</td>\n      <td>0.639161</td>\n      <td>0.761194</td>\n      <td>0.781138</td>\n      <td>0.063681</td>\n      <td>0.097241</td>\n      <td>0.014585</td>\n      <td>0.192935</td>\n      <td>0.553529</td>\n      <td>0.436139</td>\n    </tr>\n    <tr>\n      <th>3</th>\n      <td>reggae</td>\n      <td>0.778484</td>\n      <td>0.741967</td>\n      <td>0.783057</td>\n      <td>0.071373</td>\n      <td>0.136080</td>\n      <td>0.007737</td>\n      <td>0.151990</td>\n      <td>0.731769</td>\n      <td>0.384071</td>\n    </tr>\n  </tbody>\n</table>\n</div>"
     },
     "metadata": {},
     "execution_count": 59
    }
   ],
   "source": [
    "# Britney's average audio features by genre\n",
    "britney_genre_df = britney_df.groupby('predicted_genre').mean()[feature_cols].reset_index()\n",
    "britney_genre_df"
   ]
  },
  {
   "cell_type": "code",
   "execution_count": 60,
   "metadata": {},
   "outputs": [
    {
     "output_type": "execute_result",
     "data": {
      "text/plain": [
       "   index                track_id  \\\n",
       "0   3022  61lfBHo44YaBIhAx1031CP   \n",
       "1   1190  6LivYvzWanzTQm8Tm3aTsa   \n",
       "2   1306  6f8b6mxNNDJdE5tC4MCTxt   \n",
       "3   2056  4eqne0oIdt9GW2ubiliny0   \n",
       "4   2958  0oQc0F6KUE7QY7k5TU6bic   \n",
       "5   1785  7uuEfUMuPeQ7RlSWa0cES2   \n",
       "6   2356  6lfxq3CG4xtTiEg7opyCyx   \n",
       "7   2052  4lelBtLnt1mEfH6MlVp5yG   \n",
       "8   3432  0tXPhc8LvM4dPvoRwI66XQ   \n",
       "9   2547  1Av69kr9JitqPWo7WJLS5q   \n",
       "\n",
       "                                          track_name               artist_id  \\\n",
       "0                                             dear P  0Vw76uk7P8yVtTClWyOhac   \n",
       "1                                  Pasko Na Sinta Ko  0RHiqaoRCsFLPeEuj3OQz4   \n",
       "2                             Never Enough (Reprise)  0LyOADBjj28cbvJWTXUEGA   \n",
       "3  Have Yourself A Merry Little Christmas - \"Meet...  0hItVPjwJLVZrFqOyIsxPf   \n",
       "4                                      Chromatica II  1HY2Jd0NmPuamShAr6KMms   \n",
       "5                         Can’t Help Falling in Love  7h4j9YTJJuAHzLCc3KCvYu   \n",
       "6                         Can't Help Falling In Love  7h4j9YTJJuAHzLCc3KCvYu   \n",
       "7                                   Pangako sa Pasko  7or90S16MNx8VogdeOqlKq   \n",
       "8                         I'll Be Home for Christmas  1GxkXlMwML1oSg5eLPiAz3   \n",
       "9                               Can We Kiss Forever?  4qIVPF0s71ZYW3qzhu5GkF   \n",
       "\n",
       "       artist_name                album_id  duration release_date  popularity  \\\n",
       "0            HONNE  3DG5MS8iKYcJROCnb1DYDf     61426   2020-07-03          42   \n",
       "1  Gary Valenciano  1xi5bo7CCSxIVySX4dLknK    246735         1996          26   \n",
       "2     Loren Allred  7ayBZIe1FHkNv0T5xFCX6F     80293   2017-12-08          65   \n",
       "3     Judy Garland  1VND54ojnKw7YyWMJdfpLA    162200   1994-01-01           0   \n",
       "4        Lady Gaga  05c49JgPmL4Uz2ZeqRx5SP     41866   2020-05-29          60   \n",
       "5     Kina Grannis  32BVrPjwweOQcHKKpxgE4l    201933   2018-08-10           0   \n",
       "6     Kina Grannis  2wMz3oVNS1bMXaEWY6QWmA    201933   2018-08-10          72   \n",
       "7  Cocoy Claravall  4Y92CJiB5353tKM4yLsJEO    368340   2018-12-16           6   \n",
       "8    Michael Bublé  3CKVXhODttZebJAzjUs2un    264826   2011-10-14          34   \n",
       "9             Kina  1B4ZnEKDAstlatD3ySlsBS    187898   2018-08-31           1   \n",
       "\n",
       "   danceability  ...  instrumentalness  liveness  valence     tempo  \\\n",
       "0         0.304  ...          0.655000    0.1350   0.4530  0.079997   \n",
       "1         0.279  ...          0.000227    0.0685   0.0942  0.176485   \n",
       "2         0.382  ...          0.000003    0.0832   0.1330  0.184066   \n",
       "3         0.273  ...          0.000905    0.1120   0.1110  0.071303   \n",
       "4         0.184  ...          0.893000    0.5270   0.1130  0.143073   \n",
       "5         0.266  ...          0.000071    0.1320   0.1430  0.794792   \n",
       "6         0.266  ...          0.000071    0.1320   0.1430  0.794792   \n",
       "7         0.303  ...          0.366000    0.3190   0.1480  0.272591   \n",
       "8         0.282  ...          0.000051    0.1590   0.1410  0.188028   \n",
       "9         0.493  ...          0.022300    0.0941   0.1190  0.352453   \n",
       "\n",
       "   predicted_genre_id  predicted_genre  predicted_genre_prob  euclidean_dist  \\\n",
       "0                   0        classical              1.000000        0.314967   \n",
       "1                   0        classical              0.909091        0.339967   \n",
       "2                   0        classical              0.727273        0.236967   \n",
       "3                   0        classical              0.636364        0.345967   \n",
       "4                   0        classical              0.909091        0.434967   \n",
       "5                   0        classical              0.636364        0.352967   \n",
       "6                   0        classical              0.636364        0.352967   \n",
       "7                   0        classical              0.545455        0.315967   \n",
       "8                   2             jazz              0.545455        0.336967   \n",
       "9                   2             jazz              0.545455        0.125967   \n",
       "\n",
       "   manhattan_dist  cosine_dist  \n",
       "0        0.314967     0.542580  \n",
       "1        0.339967     0.515635  \n",
       "2        0.236967     0.499846  \n",
       "3        0.345967     0.484715  \n",
       "4        0.434967     0.481744  \n",
       "5        0.352967     0.472788  \n",
       "6        0.352967     0.472788  \n",
       "7        0.315967     0.466421  \n",
       "8        0.336967     0.442741  \n",
       "9        0.125967     0.418010  \n",
       "\n",
       "[10 rows x 26 columns]"
      ],
      "text/html": "<div>\n<style scoped>\n    .dataframe tbody tr th:only-of-type {\n        vertical-align: middle;\n    }\n\n    .dataframe tbody tr th {\n        vertical-align: top;\n    }\n\n    .dataframe thead th {\n        text-align: right;\n    }\n</style>\n<table border=\"1\" class=\"dataframe\">\n  <thead>\n    <tr style=\"text-align: right;\">\n      <th></th>\n      <th>index</th>\n      <th>track_id</th>\n      <th>track_name</th>\n      <th>artist_id</th>\n      <th>artist_name</th>\n      <th>album_id</th>\n      <th>duration</th>\n      <th>release_date</th>\n      <th>popularity</th>\n      <th>danceability</th>\n      <th>...</th>\n      <th>instrumentalness</th>\n      <th>liveness</th>\n      <th>valence</th>\n      <th>tempo</th>\n      <th>predicted_genre_id</th>\n      <th>predicted_genre</th>\n      <th>predicted_genre_prob</th>\n      <th>euclidean_dist</th>\n      <th>manhattan_dist</th>\n      <th>cosine_dist</th>\n    </tr>\n  </thead>\n  <tbody>\n    <tr>\n      <th>0</th>\n      <td>3022</td>\n      <td>61lfBHo44YaBIhAx1031CP</td>\n      <td>dear P</td>\n      <td>0Vw76uk7P8yVtTClWyOhac</td>\n      <td>HONNE</td>\n      <td>3DG5MS8iKYcJROCnb1DYDf</td>\n      <td>61426</td>\n      <td>2020-07-03</td>\n      <td>42</td>\n      <td>0.304</td>\n      <td>...</td>\n      <td>0.655000</td>\n      <td>0.1350</td>\n      <td>0.4530</td>\n      <td>0.079997</td>\n      <td>0</td>\n      <td>classical</td>\n      <td>1.000000</td>\n      <td>0.314967</td>\n      <td>0.314967</td>\n      <td>0.542580</td>\n    </tr>\n    <tr>\n      <th>1</th>\n      <td>1190</td>\n      <td>6LivYvzWanzTQm8Tm3aTsa</td>\n      <td>Pasko Na Sinta Ko</td>\n      <td>0RHiqaoRCsFLPeEuj3OQz4</td>\n      <td>Gary Valenciano</td>\n      <td>1xi5bo7CCSxIVySX4dLknK</td>\n      <td>246735</td>\n      <td>1996</td>\n      <td>26</td>\n      <td>0.279</td>\n      <td>...</td>\n      <td>0.000227</td>\n      <td>0.0685</td>\n      <td>0.0942</td>\n      <td>0.176485</td>\n      <td>0</td>\n      <td>classical</td>\n      <td>0.909091</td>\n      <td>0.339967</td>\n      <td>0.339967</td>\n      <td>0.515635</td>\n    </tr>\n    <tr>\n      <th>2</th>\n      <td>1306</td>\n      <td>6f8b6mxNNDJdE5tC4MCTxt</td>\n      <td>Never Enough (Reprise)</td>\n      <td>0LyOADBjj28cbvJWTXUEGA</td>\n      <td>Loren Allred</td>\n      <td>7ayBZIe1FHkNv0T5xFCX6F</td>\n      <td>80293</td>\n      <td>2017-12-08</td>\n      <td>65</td>\n      <td>0.382</td>\n      <td>...</td>\n      <td>0.000003</td>\n      <td>0.0832</td>\n      <td>0.1330</td>\n      <td>0.184066</td>\n      <td>0</td>\n      <td>classical</td>\n      <td>0.727273</td>\n      <td>0.236967</td>\n      <td>0.236967</td>\n      <td>0.499846</td>\n    </tr>\n    <tr>\n      <th>3</th>\n      <td>2056</td>\n      <td>4eqne0oIdt9GW2ubiliny0</td>\n      <td>Have Yourself A Merry Little Christmas - \"Meet...</td>\n      <td>0hItVPjwJLVZrFqOyIsxPf</td>\n      <td>Judy Garland</td>\n      <td>1VND54ojnKw7YyWMJdfpLA</td>\n      <td>162200</td>\n      <td>1994-01-01</td>\n      <td>0</td>\n      <td>0.273</td>\n      <td>...</td>\n      <td>0.000905</td>\n      <td>0.1120</td>\n      <td>0.1110</td>\n      <td>0.071303</td>\n      <td>0</td>\n      <td>classical</td>\n      <td>0.636364</td>\n      <td>0.345967</td>\n      <td>0.345967</td>\n      <td>0.484715</td>\n    </tr>\n    <tr>\n      <th>4</th>\n      <td>2958</td>\n      <td>0oQc0F6KUE7QY7k5TU6bic</td>\n      <td>Chromatica II</td>\n      <td>1HY2Jd0NmPuamShAr6KMms</td>\n      <td>Lady Gaga</td>\n      <td>05c49JgPmL4Uz2ZeqRx5SP</td>\n      <td>41866</td>\n      <td>2020-05-29</td>\n      <td>60</td>\n      <td>0.184</td>\n      <td>...</td>\n      <td>0.893000</td>\n      <td>0.5270</td>\n      <td>0.1130</td>\n      <td>0.143073</td>\n      <td>0</td>\n      <td>classical</td>\n      <td>0.909091</td>\n      <td>0.434967</td>\n      <td>0.434967</td>\n      <td>0.481744</td>\n    </tr>\n    <tr>\n      <th>5</th>\n      <td>1785</td>\n      <td>7uuEfUMuPeQ7RlSWa0cES2</td>\n      <td>Can’t Help Falling in Love</td>\n      <td>7h4j9YTJJuAHzLCc3KCvYu</td>\n      <td>Kina Grannis</td>\n      <td>32BVrPjwweOQcHKKpxgE4l</td>\n      <td>201933</td>\n      <td>2018-08-10</td>\n      <td>0</td>\n      <td>0.266</td>\n      <td>...</td>\n      <td>0.000071</td>\n      <td>0.1320</td>\n      <td>0.1430</td>\n      <td>0.794792</td>\n      <td>0</td>\n      <td>classical</td>\n      <td>0.636364</td>\n      <td>0.352967</td>\n      <td>0.352967</td>\n      <td>0.472788</td>\n    </tr>\n    <tr>\n      <th>6</th>\n      <td>2356</td>\n      <td>6lfxq3CG4xtTiEg7opyCyx</td>\n      <td>Can't Help Falling In Love</td>\n      <td>7h4j9YTJJuAHzLCc3KCvYu</td>\n      <td>Kina Grannis</td>\n      <td>2wMz3oVNS1bMXaEWY6QWmA</td>\n      <td>201933</td>\n      <td>2018-08-10</td>\n      <td>72</td>\n      <td>0.266</td>\n      <td>...</td>\n      <td>0.000071</td>\n      <td>0.1320</td>\n      <td>0.1430</td>\n      <td>0.794792</td>\n      <td>0</td>\n      <td>classical</td>\n      <td>0.636364</td>\n      <td>0.352967</td>\n      <td>0.352967</td>\n      <td>0.472788</td>\n    </tr>\n    <tr>\n      <th>7</th>\n      <td>2052</td>\n      <td>4lelBtLnt1mEfH6MlVp5yG</td>\n      <td>Pangako sa Pasko</td>\n      <td>7or90S16MNx8VogdeOqlKq</td>\n      <td>Cocoy Claravall</td>\n      <td>4Y92CJiB5353tKM4yLsJEO</td>\n      <td>368340</td>\n      <td>2018-12-16</td>\n      <td>6</td>\n      <td>0.303</td>\n      <td>...</td>\n      <td>0.366000</td>\n      <td>0.3190</td>\n      <td>0.1480</td>\n      <td>0.272591</td>\n      <td>0</td>\n      <td>classical</td>\n      <td>0.545455</td>\n      <td>0.315967</td>\n      <td>0.315967</td>\n      <td>0.466421</td>\n    </tr>\n    <tr>\n      <th>8</th>\n      <td>3432</td>\n      <td>0tXPhc8LvM4dPvoRwI66XQ</td>\n      <td>I'll Be Home for Christmas</td>\n      <td>1GxkXlMwML1oSg5eLPiAz3</td>\n      <td>Michael Bublé</td>\n      <td>3CKVXhODttZebJAzjUs2un</td>\n      <td>264826</td>\n      <td>2011-10-14</td>\n      <td>34</td>\n      <td>0.282</td>\n      <td>...</td>\n      <td>0.000051</td>\n      <td>0.1590</td>\n      <td>0.1410</td>\n      <td>0.188028</td>\n      <td>2</td>\n      <td>jazz</td>\n      <td>0.545455</td>\n      <td>0.336967</td>\n      <td>0.336967</td>\n      <td>0.442741</td>\n    </tr>\n    <tr>\n      <th>9</th>\n      <td>2547</td>\n      <td>1Av69kr9JitqPWo7WJLS5q</td>\n      <td>Can We Kiss Forever?</td>\n      <td>4qIVPF0s71ZYW3qzhu5GkF</td>\n      <td>Kina</td>\n      <td>1B4ZnEKDAstlatD3ySlsBS</td>\n      <td>187898</td>\n      <td>2018-08-31</td>\n      <td>1</td>\n      <td>0.493</td>\n      <td>...</td>\n      <td>0.022300</td>\n      <td>0.0941</td>\n      <td>0.1190</td>\n      <td>0.352453</td>\n      <td>2</td>\n      <td>jazz</td>\n      <td>0.545455</td>\n      <td>0.125967</td>\n      <td>0.125967</td>\n      <td>0.418010</td>\n    </tr>\n  </tbody>\n</table>\n<p>10 rows × 26 columns</p>\n</div>"
     },
     "metadata": {},
     "execution_count": 60
    }
   ],
   "source": [
    "# Compute distance/similarity by `COUNTRY` genre\n",
    "seedtrack_genre = britney_genre_df[britney_genre_df.predicted_genre == 'country']\n",
    "\n",
    "reco_country_df = others_df.copy()\n",
    "reco_country_df['euclidean_dist'] = others_df.apply(lambda x: euclidean_distances(x[feature_cols].values.reshape(-1, 1), seedtrack_genre[feature_cols].values.reshape(-1, 1)).flatten()[0], axis=1)\n",
    "reco_country_df['manhattan_dist'] = others_df.apply(lambda x: manhattan_distances(x[feature_cols].values.reshape(-1, 1), seedtrack_genre[feature_cols].values.reshape(-1, 1)).flatten()[0], axis=1)\n",
    "reco_country_df['cosine_dist'] = others_df.apply(lambda x: 1-cosine_similarity(x[feature_cols].values.reshape(1, -1), seedtrack_genre[feature_cols].values.reshape(1, -1)).flatten()[0], axis=1)\n",
    "\n",
    "# Top 10 recommendations by `cosine similarity`\n",
    "reco_country_df.sort_values('cosine_dist', ascending=False).head(10).reset_index()"
   ]
  },
  {
   "cell_type": "code",
   "execution_count": 61,
   "metadata": {},
   "outputs": [
    {
     "output_type": "execute_result",
     "data": {
      "text/plain": [
       "   index                track_id  \\\n",
       "0   3022  61lfBHo44YaBIhAx1031CP   \n",
       "1   2961  3CGZ7wfk4skmuyQgua1C1K   \n",
       "2   1190  6LivYvzWanzTQm8Tm3aTsa   \n",
       "3   2958  0oQc0F6KUE7QY7k5TU6bic   \n",
       "4   2056  4eqne0oIdt9GW2ubiliny0   \n",
       "5   1306  6f8b6mxNNDJdE5tC4MCTxt   \n",
       "6   2356  6lfxq3CG4xtTiEg7opyCyx   \n",
       "7   1785  7uuEfUMuPeQ7RlSWa0cES2   \n",
       "8   3352  4GVwjLRT7oSsKby7Vy8EHr   \n",
       "9    600  6U8VHaQxzECez4TSt0nmiP   \n",
       "\n",
       "                                          track_name               artist_id  \\\n",
       "0                                             dear P  0Vw76uk7P8yVtTClWyOhac   \n",
       "1                                       Chromatica I  1HY2Jd0NmPuamShAr6KMms   \n",
       "2                                  Pasko Na Sinta Ko  0RHiqaoRCsFLPeEuj3OQz4   \n",
       "3                                      Chromatica II  1HY2Jd0NmPuamShAr6KMms   \n",
       "4  Have Yourself A Merry Little Christmas - \"Meet...  0hItVPjwJLVZrFqOyIsxPf   \n",
       "5                             Never Enough (Reprise)  0LyOADBjj28cbvJWTXUEGA   \n",
       "6                         Can't Help Falling In Love  7h4j9YTJJuAHzLCc3KCvYu   \n",
       "7                         Can’t Help Falling in Love  7h4j9YTJJuAHzLCc3KCvYu   \n",
       "8                                               Skit  3Nrfpe0tUJi4K4DXYWgMUX   \n",
       "9                Everglow - Live from Spotify London  4gzpq5DPGxSnKTe4SA8HAU   \n",
       "\n",
       "       artist_name                album_id  duration release_date  popularity  \\\n",
       "0            HONNE  3DG5MS8iKYcJROCnb1DYDf     61426   2020-07-03          42   \n",
       "1        Lady Gaga  05c49JgPmL4Uz2ZeqRx5SP     60400   2020-05-29          58   \n",
       "2  Gary Valenciano  1xi5bo7CCSxIVySX4dLknK    246735         1996          26   \n",
       "3        Lady Gaga  05c49JgPmL4Uz2ZeqRx5SP     41866   2020-05-29          60   \n",
       "4     Judy Garland  1VND54ojnKw7YyWMJdfpLA    162200   1994-01-01           0   \n",
       "5     Loren Allred  7ayBZIe1FHkNv0T5xFCX6F     80293   2017-12-08          65   \n",
       "6     Kina Grannis  2wMz3oVNS1bMXaEWY6QWmA    201933   2018-08-10          72   \n",
       "7     Kina Grannis  32BVrPjwweOQcHKKpxgE4l    201933   2018-08-10           0   \n",
       "8              BTS  2qehskW9lYGWfYb0xPZkrS    179547   2020-11-20          64   \n",
       "9         Coldplay  573eP6oKtAJDqnpco7Fn9c    255853   2016-12-16          59   \n",
       "\n",
       "   danceability  ...  instrumentalness  liveness  valence     tempo  \\\n",
       "0         0.304  ...          0.655000    0.1350   0.4530  0.079997   \n",
       "1         0.231  ...          0.875000    0.3270   0.0588  0.081560   \n",
       "2         0.279  ...          0.000227    0.0685   0.0942  0.176485   \n",
       "3         0.184  ...          0.893000    0.5270   0.1130  0.143073   \n",
       "4         0.273  ...          0.000905    0.1120   0.1110  0.071303   \n",
       "5         0.382  ...          0.000003    0.0832   0.1330  0.184066   \n",
       "6         0.266  ...          0.000071    0.1320   0.1430  0.794792   \n",
       "7         0.266  ...          0.000071    0.1320   0.1430  0.794792   \n",
       "8         0.703  ...          0.000000    0.9080   0.5440  0.383034   \n",
       "9         0.536  ...          0.000479    0.9450   0.1250  0.124017   \n",
       "\n",
       "   predicted_genre_id  predicted_genre  predicted_genre_prob  euclidean_dist  \\\n",
       "0                   0        classical              1.000000        0.283125   \n",
       "1                   2             jazz              0.545455        0.356125   \n",
       "2                   0        classical              0.909091        0.308125   \n",
       "3                   0        classical              0.909091        0.403125   \n",
       "4                   0        classical              0.636364        0.314125   \n",
       "5                   0        classical              0.727273        0.205125   \n",
       "6                   0        classical              0.636364        0.321125   \n",
       "7                   0        classical              0.636364        0.321125   \n",
       "8                   2             jazz              0.636364        0.115875   \n",
       "9                   2             jazz              0.363636        0.051125   \n",
       "\n",
       "   manhattan_dist  cosine_dist  \n",
       "0        0.283125     0.314468  \n",
       "1        0.356125     0.308225  \n",
       "2        0.308125     0.290898  \n",
       "3        0.403125     0.285973  \n",
       "4        0.314125     0.283946  \n",
       "5        0.205125     0.280818  \n",
       "6        0.321125     0.272598  \n",
       "7        0.321125     0.272598  \n",
       "8        0.115875     0.260354  \n",
       "9        0.051125     0.254009  \n",
       "\n",
       "[10 rows x 26 columns]"
      ],
      "text/html": "<div>\n<style scoped>\n    .dataframe tbody tr th:only-of-type {\n        vertical-align: middle;\n    }\n\n    .dataframe tbody tr th {\n        vertical-align: top;\n    }\n\n    .dataframe thead th {\n        text-align: right;\n    }\n</style>\n<table border=\"1\" class=\"dataframe\">\n  <thead>\n    <tr style=\"text-align: right;\">\n      <th></th>\n      <th>index</th>\n      <th>track_id</th>\n      <th>track_name</th>\n      <th>artist_id</th>\n      <th>artist_name</th>\n      <th>album_id</th>\n      <th>duration</th>\n      <th>release_date</th>\n      <th>popularity</th>\n      <th>danceability</th>\n      <th>...</th>\n      <th>instrumentalness</th>\n      <th>liveness</th>\n      <th>valence</th>\n      <th>tempo</th>\n      <th>predicted_genre_id</th>\n      <th>predicted_genre</th>\n      <th>predicted_genre_prob</th>\n      <th>euclidean_dist</th>\n      <th>manhattan_dist</th>\n      <th>cosine_dist</th>\n    </tr>\n  </thead>\n  <tbody>\n    <tr>\n      <th>0</th>\n      <td>3022</td>\n      <td>61lfBHo44YaBIhAx1031CP</td>\n      <td>dear P</td>\n      <td>0Vw76uk7P8yVtTClWyOhac</td>\n      <td>HONNE</td>\n      <td>3DG5MS8iKYcJROCnb1DYDf</td>\n      <td>61426</td>\n      <td>2020-07-03</td>\n      <td>42</td>\n      <td>0.304</td>\n      <td>...</td>\n      <td>0.655000</td>\n      <td>0.1350</td>\n      <td>0.4530</td>\n      <td>0.079997</td>\n      <td>0</td>\n      <td>classical</td>\n      <td>1.000000</td>\n      <td>0.283125</td>\n      <td>0.283125</td>\n      <td>0.314468</td>\n    </tr>\n    <tr>\n      <th>1</th>\n      <td>2961</td>\n      <td>3CGZ7wfk4skmuyQgua1C1K</td>\n      <td>Chromatica I</td>\n      <td>1HY2Jd0NmPuamShAr6KMms</td>\n      <td>Lady Gaga</td>\n      <td>05c49JgPmL4Uz2ZeqRx5SP</td>\n      <td>60400</td>\n      <td>2020-05-29</td>\n      <td>58</td>\n      <td>0.231</td>\n      <td>...</td>\n      <td>0.875000</td>\n      <td>0.3270</td>\n      <td>0.0588</td>\n      <td>0.081560</td>\n      <td>2</td>\n      <td>jazz</td>\n      <td>0.545455</td>\n      <td>0.356125</td>\n      <td>0.356125</td>\n      <td>0.308225</td>\n    </tr>\n    <tr>\n      <th>2</th>\n      <td>1190</td>\n      <td>6LivYvzWanzTQm8Tm3aTsa</td>\n      <td>Pasko Na Sinta Ko</td>\n      <td>0RHiqaoRCsFLPeEuj3OQz4</td>\n      <td>Gary Valenciano</td>\n      <td>1xi5bo7CCSxIVySX4dLknK</td>\n      <td>246735</td>\n      <td>1996</td>\n      <td>26</td>\n      <td>0.279</td>\n      <td>...</td>\n      <td>0.000227</td>\n      <td>0.0685</td>\n      <td>0.0942</td>\n      <td>0.176485</td>\n      <td>0</td>\n      <td>classical</td>\n      <td>0.909091</td>\n      <td>0.308125</td>\n      <td>0.308125</td>\n      <td>0.290898</td>\n    </tr>\n    <tr>\n      <th>3</th>\n      <td>2958</td>\n      <td>0oQc0F6KUE7QY7k5TU6bic</td>\n      <td>Chromatica II</td>\n      <td>1HY2Jd0NmPuamShAr6KMms</td>\n      <td>Lady Gaga</td>\n      <td>05c49JgPmL4Uz2ZeqRx5SP</td>\n      <td>41866</td>\n      <td>2020-05-29</td>\n      <td>60</td>\n      <td>0.184</td>\n      <td>...</td>\n      <td>0.893000</td>\n      <td>0.5270</td>\n      <td>0.1130</td>\n      <td>0.143073</td>\n      <td>0</td>\n      <td>classical</td>\n      <td>0.909091</td>\n      <td>0.403125</td>\n      <td>0.403125</td>\n      <td>0.285973</td>\n    </tr>\n    <tr>\n      <th>4</th>\n      <td>2056</td>\n      <td>4eqne0oIdt9GW2ubiliny0</td>\n      <td>Have Yourself A Merry Little Christmas - \"Meet...</td>\n      <td>0hItVPjwJLVZrFqOyIsxPf</td>\n      <td>Judy Garland</td>\n      <td>1VND54ojnKw7YyWMJdfpLA</td>\n      <td>162200</td>\n      <td>1994-01-01</td>\n      <td>0</td>\n      <td>0.273</td>\n      <td>...</td>\n      <td>0.000905</td>\n      <td>0.1120</td>\n      <td>0.1110</td>\n      <td>0.071303</td>\n      <td>0</td>\n      <td>classical</td>\n      <td>0.636364</td>\n      <td>0.314125</td>\n      <td>0.314125</td>\n      <td>0.283946</td>\n    </tr>\n    <tr>\n      <th>5</th>\n      <td>1306</td>\n      <td>6f8b6mxNNDJdE5tC4MCTxt</td>\n      <td>Never Enough (Reprise)</td>\n      <td>0LyOADBjj28cbvJWTXUEGA</td>\n      <td>Loren Allred</td>\n      <td>7ayBZIe1FHkNv0T5xFCX6F</td>\n      <td>80293</td>\n      <td>2017-12-08</td>\n      <td>65</td>\n      <td>0.382</td>\n      <td>...</td>\n      <td>0.000003</td>\n      <td>0.0832</td>\n      <td>0.1330</td>\n      <td>0.184066</td>\n      <td>0</td>\n      <td>classical</td>\n      <td>0.727273</td>\n      <td>0.205125</td>\n      <td>0.205125</td>\n      <td>0.280818</td>\n    </tr>\n    <tr>\n      <th>6</th>\n      <td>2356</td>\n      <td>6lfxq3CG4xtTiEg7opyCyx</td>\n      <td>Can't Help Falling In Love</td>\n      <td>7h4j9YTJJuAHzLCc3KCvYu</td>\n      <td>Kina Grannis</td>\n      <td>2wMz3oVNS1bMXaEWY6QWmA</td>\n      <td>201933</td>\n      <td>2018-08-10</td>\n      <td>72</td>\n      <td>0.266</td>\n      <td>...</td>\n      <td>0.000071</td>\n      <td>0.1320</td>\n      <td>0.1430</td>\n      <td>0.794792</td>\n      <td>0</td>\n      <td>classical</td>\n      <td>0.636364</td>\n      <td>0.321125</td>\n      <td>0.321125</td>\n      <td>0.272598</td>\n    </tr>\n    <tr>\n      <th>7</th>\n      <td>1785</td>\n      <td>7uuEfUMuPeQ7RlSWa0cES2</td>\n      <td>Can’t Help Falling in Love</td>\n      <td>7h4j9YTJJuAHzLCc3KCvYu</td>\n      <td>Kina Grannis</td>\n      <td>32BVrPjwweOQcHKKpxgE4l</td>\n      <td>201933</td>\n      <td>2018-08-10</td>\n      <td>0</td>\n      <td>0.266</td>\n      <td>...</td>\n      <td>0.000071</td>\n      <td>0.1320</td>\n      <td>0.1430</td>\n      <td>0.794792</td>\n      <td>0</td>\n      <td>classical</td>\n      <td>0.636364</td>\n      <td>0.321125</td>\n      <td>0.321125</td>\n      <td>0.272598</td>\n    </tr>\n    <tr>\n      <th>8</th>\n      <td>3352</td>\n      <td>4GVwjLRT7oSsKby7Vy8EHr</td>\n      <td>Skit</td>\n      <td>3Nrfpe0tUJi4K4DXYWgMUX</td>\n      <td>BTS</td>\n      <td>2qehskW9lYGWfYb0xPZkrS</td>\n      <td>179547</td>\n      <td>2020-11-20</td>\n      <td>64</td>\n      <td>0.703</td>\n      <td>...</td>\n      <td>0.000000</td>\n      <td>0.9080</td>\n      <td>0.5440</td>\n      <td>0.383034</td>\n      <td>2</td>\n      <td>jazz</td>\n      <td>0.636364</td>\n      <td>0.115875</td>\n      <td>0.115875</td>\n      <td>0.260354</td>\n    </tr>\n    <tr>\n      <th>9</th>\n      <td>600</td>\n      <td>6U8VHaQxzECez4TSt0nmiP</td>\n      <td>Everglow - Live from Spotify London</td>\n      <td>4gzpq5DPGxSnKTe4SA8HAU</td>\n      <td>Coldplay</td>\n      <td>573eP6oKtAJDqnpco7Fn9c</td>\n      <td>255853</td>\n      <td>2016-12-16</td>\n      <td>59</td>\n      <td>0.536</td>\n      <td>...</td>\n      <td>0.000479</td>\n      <td>0.9450</td>\n      <td>0.1250</td>\n      <td>0.124017</td>\n      <td>2</td>\n      <td>jazz</td>\n      <td>0.363636</td>\n      <td>0.051125</td>\n      <td>0.051125</td>\n      <td>0.254009</td>\n    </tr>\n  </tbody>\n</table>\n<p>10 rows × 26 columns</p>\n</div>"
     },
     "metadata": {},
     "execution_count": 61
    }
   ],
   "source": [
    "# Compute distance/similarity by `JAZZ` genre\n",
    "seedtrack_genre = britney_genre_df[britney_genre_df.predicted_genre == 'jazz']\n",
    "\n",
    "reco_jazz_df = others_df.copy()\n",
    "reco_jazz_df['euclidean_dist'] = others_df.apply(lambda x: euclidean_distances(x[feature_cols].values.reshape(-1, 1), seedtrack_genre[feature_cols].values.reshape(-1, 1)).flatten()[0], axis=1)\n",
    "reco_jazz_df['manhattan_dist'] = others_df.apply(lambda x: manhattan_distances(x[feature_cols].values.reshape(-1, 1), seedtrack_genre[feature_cols].values.reshape(-1, 1)).flatten()[0], axis=1)\n",
    "reco_jazz_df['cosine_dist'] = others_df.apply(lambda x: 1-cosine_similarity(x[feature_cols].values.reshape(1, -1), seedtrack_genre[feature_cols].values.reshape(1, -1)).flatten()[0], axis=1)\n",
    "\n",
    "# Top 10 recommendations by `cosine similarity`\n",
    "reco_jazz_df.sort_values('cosine_dist', ascending=False).head(10).reset_index()"
   ]
  },
  {
   "cell_type": "code",
   "execution_count": 62,
   "metadata": {},
   "outputs": [
    {
     "output_type": "execute_result",
     "data": {
      "text/plain": [
       "   index                track_id  \\\n",
       "0   3022  61lfBHo44YaBIhAx1031CP   \n",
       "1   1190  6LivYvzWanzTQm8Tm3aTsa   \n",
       "2   1306  6f8b6mxNNDJdE5tC4MCTxt   \n",
       "3   2056  4eqne0oIdt9GW2ubiliny0   \n",
       "4   2052  4lelBtLnt1mEfH6MlVp5yG   \n",
       "5   1785  7uuEfUMuPeQ7RlSWa0cES2   \n",
       "6   2356  6lfxq3CG4xtTiEg7opyCyx   \n",
       "7   2958  0oQc0F6KUE7QY7k5TU6bic   \n",
       "8   3432  0tXPhc8LvM4dPvoRwI66XQ   \n",
       "9   2196  43zdsphuZLzwA9k4DJhU0I   \n",
       "\n",
       "                                          track_name               artist_id  \\\n",
       "0                                             dear P  0Vw76uk7P8yVtTClWyOhac   \n",
       "1                                  Pasko Na Sinta Ko  0RHiqaoRCsFLPeEuj3OQz4   \n",
       "2                             Never Enough (Reprise)  0LyOADBjj28cbvJWTXUEGA   \n",
       "3  Have Yourself A Merry Little Christmas - \"Meet...  0hItVPjwJLVZrFqOyIsxPf   \n",
       "4                                   Pangako sa Pasko  7or90S16MNx8VogdeOqlKq   \n",
       "5                         Can’t Help Falling in Love  7h4j9YTJJuAHzLCc3KCvYu   \n",
       "6                         Can't Help Falling In Love  7h4j9YTJJuAHzLCc3KCvYu   \n",
       "7                                      Chromatica II  1HY2Jd0NmPuamShAr6KMms   \n",
       "8                         I'll Be Home for Christmas  1GxkXlMwML1oSg5eLPiAz3   \n",
       "9                              when the party's over  6qqNVTkY8uBg9cP3Jd7DAH   \n",
       "\n",
       "       artist_name                album_id  duration release_date  popularity  \\\n",
       "0            HONNE  3DG5MS8iKYcJROCnb1DYDf     61426   2020-07-03          42   \n",
       "1  Gary Valenciano  1xi5bo7CCSxIVySX4dLknK    246735         1996          26   \n",
       "2     Loren Allred  7ayBZIe1FHkNv0T5xFCX6F     80293   2017-12-08          65   \n",
       "3     Judy Garland  1VND54ojnKw7YyWMJdfpLA    162200   1994-01-01           0   \n",
       "4  Cocoy Claravall  4Y92CJiB5353tKM4yLsJEO    368340   2018-12-16           6   \n",
       "5     Kina Grannis  32BVrPjwweOQcHKKpxgE4l    201933   2018-08-10           0   \n",
       "6     Kina Grannis  2wMz3oVNS1bMXaEWY6QWmA    201933   2018-08-10          72   \n",
       "7        Lady Gaga  05c49JgPmL4Uz2ZeqRx5SP     41866   2020-05-29          60   \n",
       "8    Michael Bublé  3CKVXhODttZebJAzjUs2un    264826   2011-10-14          34   \n",
       "9    Billie Eilish  0S0KGZnfBGSIssfF54WSJh    196077   2019-03-29          85   \n",
       "\n",
       "   danceability  ...  instrumentalness  liveness  valence     tempo  \\\n",
       "0         0.304  ...          0.655000    0.1350   0.4530  0.079997   \n",
       "1         0.279  ...          0.000227    0.0685   0.0942  0.176485   \n",
       "2         0.382  ...          0.000003    0.0832   0.1330  0.184066   \n",
       "3         0.273  ...          0.000905    0.1120   0.1110  0.071303   \n",
       "4         0.303  ...          0.366000    0.3190   0.1480  0.272591   \n",
       "5         0.266  ...          0.000071    0.1320   0.1430  0.794792   \n",
       "6         0.266  ...          0.000071    0.1320   0.1430  0.794792   \n",
       "7         0.184  ...          0.893000    0.5270   0.1130  0.143073   \n",
       "8         0.282  ...          0.000051    0.1590   0.1410  0.188028   \n",
       "9         0.367  ...          0.000040    0.0897   0.1980  0.185026   \n",
       "\n",
       "   predicted_genre_id  predicted_genre  predicted_genre_prob  euclidean_dist  \\\n",
       "0                   0        classical              1.000000        0.335161   \n",
       "1                   0        classical              0.909091        0.360161   \n",
       "2                   0        classical              0.727273        0.257161   \n",
       "3                   0        classical              0.636364        0.366161   \n",
       "4                   0        classical              0.545455        0.336161   \n",
       "5                   0        classical              0.636364        0.373161   \n",
       "6                   0        classical              0.636364        0.373161   \n",
       "7                   0        classical              0.909091        0.455161   \n",
       "8                   2             jazz              0.545455        0.357161   \n",
       "9                   2             jazz              0.909091        0.272161   \n",
       "\n",
       "   manhattan_dist  cosine_dist  \n",
       "0        0.335161     0.584691  \n",
       "1        0.360161     0.547845  \n",
       "2        0.257161     0.531358  \n",
       "3        0.366161     0.514705  \n",
       "4        0.336161     0.495549  \n",
       "5        0.373161     0.495516  \n",
       "6        0.373161     0.495516  \n",
       "7        0.455161     0.493582  \n",
       "8        0.357161     0.471376  \n",
       "9        0.272161     0.443638  \n",
       "\n",
       "[10 rows x 26 columns]"
      ],
      "text/html": "<div>\n<style scoped>\n    .dataframe tbody tr th:only-of-type {\n        vertical-align: middle;\n    }\n\n    .dataframe tbody tr th {\n        vertical-align: top;\n    }\n\n    .dataframe thead th {\n        text-align: right;\n    }\n</style>\n<table border=\"1\" class=\"dataframe\">\n  <thead>\n    <tr style=\"text-align: right;\">\n      <th></th>\n      <th>index</th>\n      <th>track_id</th>\n      <th>track_name</th>\n      <th>artist_id</th>\n      <th>artist_name</th>\n      <th>album_id</th>\n      <th>duration</th>\n      <th>release_date</th>\n      <th>popularity</th>\n      <th>danceability</th>\n      <th>...</th>\n      <th>instrumentalness</th>\n      <th>liveness</th>\n      <th>valence</th>\n      <th>tempo</th>\n      <th>predicted_genre_id</th>\n      <th>predicted_genre</th>\n      <th>predicted_genre_prob</th>\n      <th>euclidean_dist</th>\n      <th>manhattan_dist</th>\n      <th>cosine_dist</th>\n    </tr>\n  </thead>\n  <tbody>\n    <tr>\n      <th>0</th>\n      <td>3022</td>\n      <td>61lfBHo44YaBIhAx1031CP</td>\n      <td>dear P</td>\n      <td>0Vw76uk7P8yVtTClWyOhac</td>\n      <td>HONNE</td>\n      <td>3DG5MS8iKYcJROCnb1DYDf</td>\n      <td>61426</td>\n      <td>2020-07-03</td>\n      <td>42</td>\n      <td>0.304</td>\n      <td>...</td>\n      <td>0.655000</td>\n      <td>0.1350</td>\n      <td>0.4530</td>\n      <td>0.079997</td>\n      <td>0</td>\n      <td>classical</td>\n      <td>1.000000</td>\n      <td>0.335161</td>\n      <td>0.335161</td>\n      <td>0.584691</td>\n    </tr>\n    <tr>\n      <th>1</th>\n      <td>1190</td>\n      <td>6LivYvzWanzTQm8Tm3aTsa</td>\n      <td>Pasko Na Sinta Ko</td>\n      <td>0RHiqaoRCsFLPeEuj3OQz4</td>\n      <td>Gary Valenciano</td>\n      <td>1xi5bo7CCSxIVySX4dLknK</td>\n      <td>246735</td>\n      <td>1996</td>\n      <td>26</td>\n      <td>0.279</td>\n      <td>...</td>\n      <td>0.000227</td>\n      <td>0.0685</td>\n      <td>0.0942</td>\n      <td>0.176485</td>\n      <td>0</td>\n      <td>classical</td>\n      <td>0.909091</td>\n      <td>0.360161</td>\n      <td>0.360161</td>\n      <td>0.547845</td>\n    </tr>\n    <tr>\n      <th>2</th>\n      <td>1306</td>\n      <td>6f8b6mxNNDJdE5tC4MCTxt</td>\n      <td>Never Enough (Reprise)</td>\n      <td>0LyOADBjj28cbvJWTXUEGA</td>\n      <td>Loren Allred</td>\n      <td>7ayBZIe1FHkNv0T5xFCX6F</td>\n      <td>80293</td>\n      <td>2017-12-08</td>\n      <td>65</td>\n      <td>0.382</td>\n      <td>...</td>\n      <td>0.000003</td>\n      <td>0.0832</td>\n      <td>0.1330</td>\n      <td>0.184066</td>\n      <td>0</td>\n      <td>classical</td>\n      <td>0.727273</td>\n      <td>0.257161</td>\n      <td>0.257161</td>\n      <td>0.531358</td>\n    </tr>\n    <tr>\n      <th>3</th>\n      <td>2056</td>\n      <td>4eqne0oIdt9GW2ubiliny0</td>\n      <td>Have Yourself A Merry Little Christmas - \"Meet...</td>\n      <td>0hItVPjwJLVZrFqOyIsxPf</td>\n      <td>Judy Garland</td>\n      <td>1VND54ojnKw7YyWMJdfpLA</td>\n      <td>162200</td>\n      <td>1994-01-01</td>\n      <td>0</td>\n      <td>0.273</td>\n      <td>...</td>\n      <td>0.000905</td>\n      <td>0.1120</td>\n      <td>0.1110</td>\n      <td>0.071303</td>\n      <td>0</td>\n      <td>classical</td>\n      <td>0.636364</td>\n      <td>0.366161</td>\n      <td>0.366161</td>\n      <td>0.514705</td>\n    </tr>\n    <tr>\n      <th>4</th>\n      <td>2052</td>\n      <td>4lelBtLnt1mEfH6MlVp5yG</td>\n      <td>Pangako sa Pasko</td>\n      <td>7or90S16MNx8VogdeOqlKq</td>\n      <td>Cocoy Claravall</td>\n      <td>4Y92CJiB5353tKM4yLsJEO</td>\n      <td>368340</td>\n      <td>2018-12-16</td>\n      <td>6</td>\n      <td>0.303</td>\n      <td>...</td>\n      <td>0.366000</td>\n      <td>0.3190</td>\n      <td>0.1480</td>\n      <td>0.272591</td>\n      <td>0</td>\n      <td>classical</td>\n      <td>0.545455</td>\n      <td>0.336161</td>\n      <td>0.336161</td>\n      <td>0.495549</td>\n    </tr>\n    <tr>\n      <th>5</th>\n      <td>1785</td>\n      <td>7uuEfUMuPeQ7RlSWa0cES2</td>\n      <td>Can’t Help Falling in Love</td>\n      <td>7h4j9YTJJuAHzLCc3KCvYu</td>\n      <td>Kina Grannis</td>\n      <td>32BVrPjwweOQcHKKpxgE4l</td>\n      <td>201933</td>\n      <td>2018-08-10</td>\n      <td>0</td>\n      <td>0.266</td>\n      <td>...</td>\n      <td>0.000071</td>\n      <td>0.1320</td>\n      <td>0.1430</td>\n      <td>0.794792</td>\n      <td>0</td>\n      <td>classical</td>\n      <td>0.636364</td>\n      <td>0.373161</td>\n      <td>0.373161</td>\n      <td>0.495516</td>\n    </tr>\n    <tr>\n      <th>6</th>\n      <td>2356</td>\n      <td>6lfxq3CG4xtTiEg7opyCyx</td>\n      <td>Can't Help Falling In Love</td>\n      <td>7h4j9YTJJuAHzLCc3KCvYu</td>\n      <td>Kina Grannis</td>\n      <td>2wMz3oVNS1bMXaEWY6QWmA</td>\n      <td>201933</td>\n      <td>2018-08-10</td>\n      <td>72</td>\n      <td>0.266</td>\n      <td>...</td>\n      <td>0.000071</td>\n      <td>0.1320</td>\n      <td>0.1430</td>\n      <td>0.794792</td>\n      <td>0</td>\n      <td>classical</td>\n      <td>0.636364</td>\n      <td>0.373161</td>\n      <td>0.373161</td>\n      <td>0.495516</td>\n    </tr>\n    <tr>\n      <th>7</th>\n      <td>2958</td>\n      <td>0oQc0F6KUE7QY7k5TU6bic</td>\n      <td>Chromatica II</td>\n      <td>1HY2Jd0NmPuamShAr6KMms</td>\n      <td>Lady Gaga</td>\n      <td>05c49JgPmL4Uz2ZeqRx5SP</td>\n      <td>41866</td>\n      <td>2020-05-29</td>\n      <td>60</td>\n      <td>0.184</td>\n      <td>...</td>\n      <td>0.893000</td>\n      <td>0.5270</td>\n      <td>0.1130</td>\n      <td>0.143073</td>\n      <td>0</td>\n      <td>classical</td>\n      <td>0.909091</td>\n      <td>0.455161</td>\n      <td>0.455161</td>\n      <td>0.493582</td>\n    </tr>\n    <tr>\n      <th>8</th>\n      <td>3432</td>\n      <td>0tXPhc8LvM4dPvoRwI66XQ</td>\n      <td>I'll Be Home for Christmas</td>\n      <td>1GxkXlMwML1oSg5eLPiAz3</td>\n      <td>Michael Bublé</td>\n      <td>3CKVXhODttZebJAzjUs2un</td>\n      <td>264826</td>\n      <td>2011-10-14</td>\n      <td>34</td>\n      <td>0.282</td>\n      <td>...</td>\n      <td>0.000051</td>\n      <td>0.1590</td>\n      <td>0.1410</td>\n      <td>0.188028</td>\n      <td>2</td>\n      <td>jazz</td>\n      <td>0.545455</td>\n      <td>0.357161</td>\n      <td>0.357161</td>\n      <td>0.471376</td>\n    </tr>\n    <tr>\n      <th>9</th>\n      <td>2196</td>\n      <td>43zdsphuZLzwA9k4DJhU0I</td>\n      <td>when the party's over</td>\n      <td>6qqNVTkY8uBg9cP3Jd7DAH</td>\n      <td>Billie Eilish</td>\n      <td>0S0KGZnfBGSIssfF54WSJh</td>\n      <td>196077</td>\n      <td>2019-03-29</td>\n      <td>85</td>\n      <td>0.367</td>\n      <td>...</td>\n      <td>0.000040</td>\n      <td>0.0897</td>\n      <td>0.1980</td>\n      <td>0.185026</td>\n      <td>2</td>\n      <td>jazz</td>\n      <td>0.909091</td>\n      <td>0.272161</td>\n      <td>0.272161</td>\n      <td>0.443638</td>\n    </tr>\n  </tbody>\n</table>\n<p>10 rows × 26 columns</p>\n</div>"
     },
     "metadata": {},
     "execution_count": 62
    }
   ],
   "source": [
    "# Compute distance/similarity by `POP` genre\n",
    "seedtrack_genre = britney_genre_df[britney_genre_df.predicted_genre == 'pop']\n",
    "\n",
    "reco_pop_df = others_df.copy()\n",
    "reco_pop_df['euclidean_dist'] = others_df.apply(lambda x: euclidean_distances(x[feature_cols].values.reshape(-1, 1), seedtrack_genre[feature_cols].values.reshape(-1, 1)).flatten()[0], axis=1)\n",
    "reco_pop_df['manhattan_dist'] = others_df.apply(lambda x: manhattan_distances(x[feature_cols].values.reshape(-1, 1), seedtrack_genre[feature_cols].values.reshape(-1, 1)).flatten()[0], axis=1)\n",
    "reco_pop_df['cosine_dist'] = others_df.apply(lambda x: 1-cosine_similarity(x[feature_cols].values.reshape(1, -1), seedtrack_genre[feature_cols].values.reshape(1, -1)).flatten()[0], axis=1)\n",
    "\n",
    "# Top 10 recommendations by `cosine similarity`\n",
    "reco_pop_df.sort_values('cosine_dist', ascending=False).head(10).reset_index()"
   ]
  },
  {
   "cell_type": "code",
   "execution_count": 63,
   "metadata": {},
   "outputs": [
    {
     "output_type": "execute_result",
     "data": {
      "text/plain": [
       "   index                track_id  \\\n",
       "0   3022  61lfBHo44YaBIhAx1031CP   \n",
       "1   1190  6LivYvzWanzTQm8Tm3aTsa   \n",
       "2   2958  0oQc0F6KUE7QY7k5TU6bic   \n",
       "3   1785  7uuEfUMuPeQ7RlSWa0cES2   \n",
       "4   2356  6lfxq3CG4xtTiEg7opyCyx   \n",
       "5   1306  6f8b6mxNNDJdE5tC4MCTxt   \n",
       "6   2056  4eqne0oIdt9GW2ubiliny0   \n",
       "7   2052  4lelBtLnt1mEfH6MlVp5yG   \n",
       "8   3432  0tXPhc8LvM4dPvoRwI66XQ   \n",
       "9   1192  0gBc4Ksp2LSHbGTa1jBKTO   \n",
       "\n",
       "                                          track_name               artist_id  \\\n",
       "0                                             dear P  0Vw76uk7P8yVtTClWyOhac   \n",
       "1                                  Pasko Na Sinta Ko  0RHiqaoRCsFLPeEuj3OQz4   \n",
       "2                                      Chromatica II  1HY2Jd0NmPuamShAr6KMms   \n",
       "3                         Can’t Help Falling in Love  7h4j9YTJJuAHzLCc3KCvYu   \n",
       "4                         Can't Help Falling In Love  7h4j9YTJJuAHzLCc3KCvYu   \n",
       "5                             Never Enough (Reprise)  0LyOADBjj28cbvJWTXUEGA   \n",
       "6  Have Yourself A Merry Little Christmas - \"Meet...  0hItVPjwJLVZrFqOyIsxPf   \n",
       "7                                   Pangako sa Pasko  7or90S16MNx8VogdeOqlKq   \n",
       "8                         I'll Be Home for Christmas  1GxkXlMwML1oSg5eLPiAz3   \n",
       "9                       Angels We Have Heard on High  0SG7a26LiFGt8E0olaIOpx   \n",
       "\n",
       "       artist_name                album_id  duration release_date  popularity  \\\n",
       "0            HONNE  3DG5MS8iKYcJROCnb1DYDf     61426   2020-07-03          42   \n",
       "1  Gary Valenciano  1xi5bo7CCSxIVySX4dLknK    246735         1996          26   \n",
       "2        Lady Gaga  05c49JgPmL4Uz2ZeqRx5SP     41866   2020-05-29          60   \n",
       "3     Kina Grannis  32BVrPjwweOQcHKKpxgE4l    201933   2018-08-10           0   \n",
       "4     Kina Grannis  2wMz3oVNS1bMXaEWY6QWmA    201933   2018-08-10          72   \n",
       "5     Loren Allred  7ayBZIe1FHkNv0T5xFCX6F     80293   2017-12-08          65   \n",
       "6     Judy Garland  1VND54ojnKw7YyWMJdfpLA    162200   1994-01-01           0   \n",
       "7  Cocoy Claravall  4Y92CJiB5353tKM4yLsJEO    368340   2018-12-16           6   \n",
       "8    Michael Bublé  3CKVXhODttZebJAzjUs2un    264826   2011-10-14          34   \n",
       "9       Acapellago  3p6MrhUW16YC5DbaVtb70A    155989   2017-12-01           0   \n",
       "\n",
       "   danceability  ...  instrumentalness  liveness  valence     tempo  \\\n",
       "0         0.304  ...          0.655000    0.1350   0.4530  0.079997   \n",
       "1         0.279  ...          0.000227    0.0685   0.0942  0.176485   \n",
       "2         0.184  ...          0.893000    0.5270   0.1130  0.143073   \n",
       "3         0.266  ...          0.000071    0.1320   0.1430  0.794792   \n",
       "4         0.266  ...          0.000071    0.1320   0.1430  0.794792   \n",
       "5         0.382  ...          0.000003    0.0832   0.1330  0.184066   \n",
       "6         0.273  ...          0.000905    0.1120   0.1110  0.071303   \n",
       "7         0.303  ...          0.366000    0.3190   0.1480  0.272591   \n",
       "8         0.282  ...          0.000051    0.1590   0.1410  0.188028   \n",
       "9         0.174  ...          0.000053    0.3370   0.1830  0.851715   \n",
       "\n",
       "   predicted_genre_id  predicted_genre  predicted_genre_prob  euclidean_dist  \\\n",
       "0                   0        classical              1.000000        0.474484   \n",
       "1                   0        classical              0.909091        0.499484   \n",
       "2                   0        classical              0.909091        0.594484   \n",
       "3                   0        classical              0.636364        0.512484   \n",
       "4                   0        classical              0.636364        0.512484   \n",
       "5                   0        classical              0.727273        0.396484   \n",
       "6                   0        classical              0.636364        0.505484   \n",
       "7                   0        classical              0.545455        0.475484   \n",
       "8                   2             jazz              0.545455        0.496484   \n",
       "9                   0        classical              0.454545        0.604484   \n",
       "\n",
       "   manhattan_dist  cosine_dist  \n",
       "0        0.474484     0.541598  \n",
       "1        0.499484     0.526693  \n",
       "2        0.594484     0.518677  \n",
       "3        0.512484     0.507487  \n",
       "4        0.512484     0.507487  \n",
       "5        0.396484     0.504939  \n",
       "6        0.505484     0.500790  \n",
       "7        0.475484     0.493588  \n",
       "8        0.496484     0.461991  \n",
       "9        0.604484     0.434673  \n",
       "\n",
       "[10 rows x 26 columns]"
      ],
      "text/html": "<div>\n<style scoped>\n    .dataframe tbody tr th:only-of-type {\n        vertical-align: middle;\n    }\n\n    .dataframe tbody tr th {\n        vertical-align: top;\n    }\n\n    .dataframe thead th {\n        text-align: right;\n    }\n</style>\n<table border=\"1\" class=\"dataframe\">\n  <thead>\n    <tr style=\"text-align: right;\">\n      <th></th>\n      <th>index</th>\n      <th>track_id</th>\n      <th>track_name</th>\n      <th>artist_id</th>\n      <th>artist_name</th>\n      <th>album_id</th>\n      <th>duration</th>\n      <th>release_date</th>\n      <th>popularity</th>\n      <th>danceability</th>\n      <th>...</th>\n      <th>instrumentalness</th>\n      <th>liveness</th>\n      <th>valence</th>\n      <th>tempo</th>\n      <th>predicted_genre_id</th>\n      <th>predicted_genre</th>\n      <th>predicted_genre_prob</th>\n      <th>euclidean_dist</th>\n      <th>manhattan_dist</th>\n      <th>cosine_dist</th>\n    </tr>\n  </thead>\n  <tbody>\n    <tr>\n      <th>0</th>\n      <td>3022</td>\n      <td>61lfBHo44YaBIhAx1031CP</td>\n      <td>dear P</td>\n      <td>0Vw76uk7P8yVtTClWyOhac</td>\n      <td>HONNE</td>\n      <td>3DG5MS8iKYcJROCnb1DYDf</td>\n      <td>61426</td>\n      <td>2020-07-03</td>\n      <td>42</td>\n      <td>0.304</td>\n      <td>...</td>\n      <td>0.655000</td>\n      <td>0.1350</td>\n      <td>0.4530</td>\n      <td>0.079997</td>\n      <td>0</td>\n      <td>classical</td>\n      <td>1.000000</td>\n      <td>0.474484</td>\n      <td>0.474484</td>\n      <td>0.541598</td>\n    </tr>\n    <tr>\n      <th>1</th>\n      <td>1190</td>\n      <td>6LivYvzWanzTQm8Tm3aTsa</td>\n      <td>Pasko Na Sinta Ko</td>\n      <td>0RHiqaoRCsFLPeEuj3OQz4</td>\n      <td>Gary Valenciano</td>\n      <td>1xi5bo7CCSxIVySX4dLknK</td>\n      <td>246735</td>\n      <td>1996</td>\n      <td>26</td>\n      <td>0.279</td>\n      <td>...</td>\n      <td>0.000227</td>\n      <td>0.0685</td>\n      <td>0.0942</td>\n      <td>0.176485</td>\n      <td>0</td>\n      <td>classical</td>\n      <td>0.909091</td>\n      <td>0.499484</td>\n      <td>0.499484</td>\n      <td>0.526693</td>\n    </tr>\n    <tr>\n      <th>2</th>\n      <td>2958</td>\n      <td>0oQc0F6KUE7QY7k5TU6bic</td>\n      <td>Chromatica II</td>\n      <td>1HY2Jd0NmPuamShAr6KMms</td>\n      <td>Lady Gaga</td>\n      <td>05c49JgPmL4Uz2ZeqRx5SP</td>\n      <td>41866</td>\n      <td>2020-05-29</td>\n      <td>60</td>\n      <td>0.184</td>\n      <td>...</td>\n      <td>0.893000</td>\n      <td>0.5270</td>\n      <td>0.1130</td>\n      <td>0.143073</td>\n      <td>0</td>\n      <td>classical</td>\n      <td>0.909091</td>\n      <td>0.594484</td>\n      <td>0.594484</td>\n      <td>0.518677</td>\n    </tr>\n    <tr>\n      <th>3</th>\n      <td>1785</td>\n      <td>7uuEfUMuPeQ7RlSWa0cES2</td>\n      <td>Can’t Help Falling in Love</td>\n      <td>7h4j9YTJJuAHzLCc3KCvYu</td>\n      <td>Kina Grannis</td>\n      <td>32BVrPjwweOQcHKKpxgE4l</td>\n      <td>201933</td>\n      <td>2018-08-10</td>\n      <td>0</td>\n      <td>0.266</td>\n      <td>...</td>\n      <td>0.000071</td>\n      <td>0.1320</td>\n      <td>0.1430</td>\n      <td>0.794792</td>\n      <td>0</td>\n      <td>classical</td>\n      <td>0.636364</td>\n      <td>0.512484</td>\n      <td>0.512484</td>\n      <td>0.507487</td>\n    </tr>\n    <tr>\n      <th>4</th>\n      <td>2356</td>\n      <td>6lfxq3CG4xtTiEg7opyCyx</td>\n      <td>Can't Help Falling In Love</td>\n      <td>7h4j9YTJJuAHzLCc3KCvYu</td>\n      <td>Kina Grannis</td>\n      <td>2wMz3oVNS1bMXaEWY6QWmA</td>\n      <td>201933</td>\n      <td>2018-08-10</td>\n      <td>72</td>\n      <td>0.266</td>\n      <td>...</td>\n      <td>0.000071</td>\n      <td>0.1320</td>\n      <td>0.1430</td>\n      <td>0.794792</td>\n      <td>0</td>\n      <td>classical</td>\n      <td>0.636364</td>\n      <td>0.512484</td>\n      <td>0.512484</td>\n      <td>0.507487</td>\n    </tr>\n    <tr>\n      <th>5</th>\n      <td>1306</td>\n      <td>6f8b6mxNNDJdE5tC4MCTxt</td>\n      <td>Never Enough (Reprise)</td>\n      <td>0LyOADBjj28cbvJWTXUEGA</td>\n      <td>Loren Allred</td>\n      <td>7ayBZIe1FHkNv0T5xFCX6F</td>\n      <td>80293</td>\n      <td>2017-12-08</td>\n      <td>65</td>\n      <td>0.382</td>\n      <td>...</td>\n      <td>0.000003</td>\n      <td>0.0832</td>\n      <td>0.1330</td>\n      <td>0.184066</td>\n      <td>0</td>\n      <td>classical</td>\n      <td>0.727273</td>\n      <td>0.396484</td>\n      <td>0.396484</td>\n      <td>0.504939</td>\n    </tr>\n    <tr>\n      <th>6</th>\n      <td>2056</td>\n      <td>4eqne0oIdt9GW2ubiliny0</td>\n      <td>Have Yourself A Merry Little Christmas - \"Meet...</td>\n      <td>0hItVPjwJLVZrFqOyIsxPf</td>\n      <td>Judy Garland</td>\n      <td>1VND54ojnKw7YyWMJdfpLA</td>\n      <td>162200</td>\n      <td>1994-01-01</td>\n      <td>0</td>\n      <td>0.273</td>\n      <td>...</td>\n      <td>0.000905</td>\n      <td>0.1120</td>\n      <td>0.1110</td>\n      <td>0.071303</td>\n      <td>0</td>\n      <td>classical</td>\n      <td>0.636364</td>\n      <td>0.505484</td>\n      <td>0.505484</td>\n      <td>0.500790</td>\n    </tr>\n    <tr>\n      <th>7</th>\n      <td>2052</td>\n      <td>4lelBtLnt1mEfH6MlVp5yG</td>\n      <td>Pangako sa Pasko</td>\n      <td>7or90S16MNx8VogdeOqlKq</td>\n      <td>Cocoy Claravall</td>\n      <td>4Y92CJiB5353tKM4yLsJEO</td>\n      <td>368340</td>\n      <td>2018-12-16</td>\n      <td>6</td>\n      <td>0.303</td>\n      <td>...</td>\n      <td>0.366000</td>\n      <td>0.3190</td>\n      <td>0.1480</td>\n      <td>0.272591</td>\n      <td>0</td>\n      <td>classical</td>\n      <td>0.545455</td>\n      <td>0.475484</td>\n      <td>0.475484</td>\n      <td>0.493588</td>\n    </tr>\n    <tr>\n      <th>8</th>\n      <td>3432</td>\n      <td>0tXPhc8LvM4dPvoRwI66XQ</td>\n      <td>I'll Be Home for Christmas</td>\n      <td>1GxkXlMwML1oSg5eLPiAz3</td>\n      <td>Michael Bublé</td>\n      <td>3CKVXhODttZebJAzjUs2un</td>\n      <td>264826</td>\n      <td>2011-10-14</td>\n      <td>34</td>\n      <td>0.282</td>\n      <td>...</td>\n      <td>0.000051</td>\n      <td>0.1590</td>\n      <td>0.1410</td>\n      <td>0.188028</td>\n      <td>2</td>\n      <td>jazz</td>\n      <td>0.545455</td>\n      <td>0.496484</td>\n      <td>0.496484</td>\n      <td>0.461991</td>\n    </tr>\n    <tr>\n      <th>9</th>\n      <td>1192</td>\n      <td>0gBc4Ksp2LSHbGTa1jBKTO</td>\n      <td>Angels We Have Heard on High</td>\n      <td>0SG7a26LiFGt8E0olaIOpx</td>\n      <td>Acapellago</td>\n      <td>3p6MrhUW16YC5DbaVtb70A</td>\n      <td>155989</td>\n      <td>2017-12-01</td>\n      <td>0</td>\n      <td>0.174</td>\n      <td>...</td>\n      <td>0.000053</td>\n      <td>0.3370</td>\n      <td>0.1830</td>\n      <td>0.851715</td>\n      <td>0</td>\n      <td>classical</td>\n      <td>0.454545</td>\n      <td>0.604484</td>\n      <td>0.604484</td>\n      <td>0.434673</td>\n    </tr>\n  </tbody>\n</table>\n<p>10 rows × 26 columns</p>\n</div>"
     },
     "metadata": {},
     "execution_count": 63
    }
   ],
   "source": [
    "# Compute distance/similarity by `REGGAE` genre\n",
    "seedtrack_genre = britney_genre_df[britney_genre_df.predicted_genre == 'reggae']\n",
    "\n",
    "reco_reggae_df = others_df.copy()\n",
    "reco_reggae_df['euclidean_dist'] = others_df.apply(lambda x: euclidean_distances(x[feature_cols].values.reshape(-1, 1), seedtrack_genre[feature_cols].values.reshape(-1, 1)).flatten()[0], axis=1)\n",
    "reco_reggae_df['manhattan_dist'] = others_df.apply(lambda x: manhattan_distances(x[feature_cols].values.reshape(-1, 1), seedtrack_genre[feature_cols].values.reshape(-1, 1)).flatten()[0], axis=1)\n",
    "reco_reggae_df['cosine_dist'] = others_df.apply(lambda x: 1-cosine_similarity(x[feature_cols].values.reshape(1, -1), seedtrack_genre[feature_cols].values.reshape(1, -1)).flatten()[0], axis=1)\n",
    "\n",
    "# Top 10 recommendations by `cosine similarity`\n",
    "reco_reggae_df.sort_values('cosine_dist', ascending=False).head(10).reset_index()"
   ]
  },
  {
   "cell_type": "code",
   "execution_count": 64,
   "metadata": {},
   "outputs": [
    {
     "output_type": "stream",
     "name": "stdout",
     "text": [
      "Total Tracks: 191\n"
     ]
    },
    {
     "output_type": "execute_result",
     "data": {
      "text/plain": [
       "{'3MjUtNVVq3C8Fn0MP3zhXa': '...Baby One More Time',\n",
       " '6I9VzXrHxO9rA9A5euc8Ak': 'Toxic',\n",
       " '6naxalmIoLFWR0siv8dnQQ': 'Oops!...I Did It Again',\n",
       " '4fixebDZAVToLbUCuEloa2': 'Womanizer',\n",
       " '6ic8OlLUNEATToEFU3xmaH': 'Gimme More',\n",
       " '5QhBKPqsnX1uY9fZNaAtZg': 'Stronger',\n",
       " '7jk7gqyEonmVVYahZN5zhW': 'Circus',\n",
       " '6ldwfK0yWgTAlmIfuQkTYN': \"I'm a Slave 4 U\",\n",
       " '2EvwLVrnYbCZEG6Kx5DCRy': 'Piece of Me',\n",
       " '6MPn82FDfOB2frXG2T4lR3': '(You Drive Me) Crazy - The Stop Remix!',\n",
       " '1UI0l2L66HJ9AtoEOlHzv4': 'Sometimes',\n",
       " '2TTYIwTM2iLC1YOyHuhRMt': 'Lucky',\n",
       " '6pymOcrCnMuCWdgGVTvUgP': '3',\n",
       " '3KliPMvk1EvFZu9cvkj8p1': 'Work Bitch',\n",
       " '2hdy9Wt9qp7M7d0U3ossu2': 'If U Seek Amy',\n",
       " '77rzoJ5VaC2BLB1IkjGnoi': \"Do Somethin'\",\n",
       " '5p0KCAuu5nrHpTuAIhHdLw': 'Overprotected - Radio Edit',\n",
       " '7mS8RbJji2UZAaguRGsOCH': 'Me Against the Music (feat. Madonna) - LP Version / Video Mix',\n",
       " '38iU2jg98IZZEIJPrP7aWD': 'Till the World Ends',\n",
       " '5cCAZS9VhLGEDV4NCfieeg': 'I Wanna Go',\n",
       " '2JxftzENN2rhpXxnOmtQBR': 'My Prerogative',\n",
       " '29Srmzqyig5Tg5EitFXsb8': 'Radar',\n",
       " '7Dyq1bhhjknLKEGg4k5NLr': 'Hold It Against Me',\n",
       " '52K4Nl7eVNqUpUeJeWJlwT': 'Break the Ice',\n",
       " '29viePXNqWUw1cxqzOcuOD': \"I Love Rock 'N' Roll\",\n",
       " '4l1MNtoCiTxBwf6yxD7kFd': 'Born to Make You Happy',\n",
       " '2xkVbGwniUGIptJl7EhE0h': 'Boys (feat. Pharrell Williams) - Co-Ed Remix',\n",
       " '0dRhSF9LV0HR8Jwd3MMMKJ': 'Everytime',\n",
       " '1Vp8uI65XCMI1H0nSW2kkB': 'Make Me... (feat. G-Eazy)',\n",
       " '2vPCRs3g0vdLU8sHlAEytO': 'Outrageous',\n",
       " '2i9q8CteBmpslOJeQdMGqA': 'Slumber Party feat. Tinashe',\n",
       " '1xg1yGPy1Y3YUf44s6TB1o': \"I'm Not a Girl, Not Yet a Woman\",\n",
       " '3OitWDgR4SzAUOm3TBmvhw': \"Don't Let Me Be the Last to Know\",\n",
       " '0PGxTaUcMggyJxTyLy0uOx': 'Get Naked (I Got a Plan)',\n",
       " '2CQImhAzAHvni74Cr4azTM': 'Do You Wanna Come Over?',\n",
       " '6QicTxeiSaRkPnkGDUvYOs': 'Pretty Girls',\n",
       " '5epx5YtoMbV0GrL9qx9kVY': '(I Got That) Boom Boom (feat. Ying Yang Twins)',\n",
       " '2ZUJj80Mfmj13MKJXf9pnP': 'Matches',\n",
       " '6Nc2n959qhnnE8rpR1CWuC': 'Just Luv Me',\n",
       " '70XtWbcVZcpaOddJftMcVi': 'From the Bottom of My Broken Heart',\n",
       " '4rl0xZYeGwqV43wh8qhQXX': 'The Hook Up',\n",
       " '6dKYAtGciLRm8uOD1LiSVf': 'Anticipating',\n",
       " '55mqjVWJDJ3AWxln12e3ro': 'Just Like Me',\n",
       " '5Z6g00iJz56QXHZ62jLcKy': 'Man On The Moon',\n",
       " '6T689Jvh5KrSXyaPtUWZtQ': 'Criminal',\n",
       " '2q5qVYEWK5LcG35JfSlYYx': 'Swimming In The Stars',\n",
       " '3v79sPRVxvSqaeSaOXinvm': 'Mood Ring (By Demand)',\n",
       " '5Ep4jfC3MS0XeD7sOmP0Td': 'Slumber Party (feat. Tinashe)',\n",
       " '1lK5iIMKifrxERzS3iimJH': 'Breathe on Me',\n",
       " '4X4vY3CbiZlkCtMoBzjApl': 'Boys (The Co-Ed Remix) - Remastered',\n",
       " '476asboldJx73hXdKbBElQ': 'Overprotected - The Darkchild Remix - Remastered',\n",
       " '48C9sYkAOavqzFn77bxGR3': 'Toxic - Y2K & Alexander Lewis Remix',\n",
       " '5YIjFhFnaYWXu3KkvfyPlg': 'Mood Ring (By Demand) - Pride Remix',\n",
       " '5X9tIJkTHxB19SK3FtnHT5': 'Freakshow',\n",
       " '0DOgMeHlNponAEqczZoxX0': 'Perfume',\n",
       " '4PoTu14Wi2o9l0Rb09gBCa': 'Cinderella',\n",
       " '6X0xle3V7cm2zdtcJHXV39': 'Mood Ring (By Demand) - Ape Drums Remix',\n",
       " '1SEzEo04ivkvN8x6rppuwD': 'Change Your Mind (No Seas Cortes)',\n",
       " '1mRyi7vfCdLyQW4AeQKlnD': 'Touch of My Hand',\n",
       " '41cQPDvsP9vBCigVqQjnqg': 'What U See (Is What U Get)',\n",
       " '1DSJNBNhGZCigg9ll5VeZv': '(You Drive Me) Crazy',\n",
       " '3wZnYORRBfNHfyoY2NkTzH': 'Invitation',\n",
       " '1pVGW6p9XcvlSZXY1ZeSqy': 'Private Show',\n",
       " '5MI2HECuACdb9ahpT24qQk': 'Clumsy',\n",
       " '6s6adVy5MTLzlBksdQtq5i': 'Love Me Down',\n",
       " '0ZiJtUv1GXZQSFqBOcHjeh': 'Hard To Forget Ya',\n",
       " '6MsNzaORqYpvC469AJjNM4': 'What You Need',\n",
       " '31fsj6wSyLkOGVWDsJAsAF': 'Better',\n",
       " '5hj8bVmhltSOVIXY9HNFi8': 'Liar',\n",
       " '7AzuAVNOs7yg0BozFJF09p': \"If I'm Dancing\",\n",
       " '4j5YzAphVCaOIgEWsenWlx': 'Coupure Électrique',\n",
       " '3eBxSM7L8AL5wcYd1t4NC0': 'Alien',\n",
       " '6M3ldm7rniOAMGamL68cog': 'It Should Be Easy (feat. will.i.am)',\n",
       " '4mWmOPT9SIWWSJxc4qT7If': 'Tik Tik Boom (feat. T.I.)',\n",
       " '45MpoG2B3CEHoZa8OhrAw2': 'Body Ache',\n",
       " '6I9livBOOwAOV5YcVa9Npk': \"Til It's Gone\",\n",
       " '3ZmxqcNIPVDOLVgyjQW4Lb': 'Passenger',\n",
       " '5zNkxQzn7HNUyYTSUnw577': \"Chillin' With You (feat. Jamie Lynn)\",\n",
       " '7z7CFkyOOAggoMDoSQgZvA': \"Don't Cry\",\n",
       " '7MXf5oS9bilbC70ii9YWbf': 'Brightest Morning Star',\n",
       " '2IgAZXJy3eXiJh393yu0b3': 'Hold On Tight',\n",
       " '4Rl494Qkp0qaVltXd4sMYX': 'Now That I Found You',\n",
       " '69l9iqeW1B9fjqsqM0i9LH': 'Perfume (The Dreaming Mix)',\n",
       " '1MXmaCZEtfPrCbtYjJIbzl': 'Inside Out',\n",
       " '38casNXY2G39SZRUjALtcY': 'How I Roll',\n",
       " '5Zvzva2gweeEU46XEeeFSa': '(Drop Dead) Beautiful (feat. Sabi)',\n",
       " '1gilYs9AY8a75q275GTkiY': 'Seal It with a Kiss',\n",
       " '0IH4zvPl1szWeMwzPR0QhD': 'Big Fat Bass (feat. will.i.am)',\n",
       " '6fbb7VBPUjqicVq9XG7s3i': 'Trouble for Me',\n",
       " '2qbhijQG7phGVHkPt22fTP': 'Trip to Your Heart',\n",
       " '5AcTuYSmbmcZA8kiLE4bAR': 'Gasoline',\n",
       " '30pIRfkIrvI88LaXReJ6HJ': \"Up N' Down\",\n",
       " '6I0qecpzVh73WBMty1Ln02': 'He About To Lose Me',\n",
       " '2w3PyJC61SAVM7KR6tyDwF': 'Selfish',\n",
       " '37nrVLa3bsKIc9c2NChf0h': \"Don't Keep Me Waiting\",\n",
       " '4vygSZytjx3cETrlbKgNoL': 'Out from Under',\n",
       " '263w5yLLnexUUOMc5Py9m5': 'Kill the Lights',\n",
       " '3sJx8qerYrs92oqVAa9S0Z': 'Shattered Glass',\n",
       " '5yFDS6dDzjjmGFVaYcwPAB': 'Unusual You',\n",
       " '0Y7exe8Yu2nbuIvGDRGXcz': 'Blur',\n",
       " '3m8sxh3LPR5crLvL7QvCgp': 'Mmm Papi',\n",
       " '3buxlp1m5TLONPem13GSpt': 'Mannequin',\n",
       " '77mOEEC4yLh8U7zCa0lInh': 'Lace and Leather',\n",
       " '5gkgwVSPu1NvkRwPDWb8aq': 'My Baby',\n",
       " '4aWoFKRRXxVQUGZquHPS2o': 'Rock Me In',\n",
       " '4hGlPn5GCI4jrueRPrqNvA': 'Phonography',\n",
       " '2f0ZEAdZQBCRR9NAI6eE2d': 'Heaven On Earth',\n",
       " '4uSLxMqGSIuWeMSoLdoKq3': 'Toy Soldier',\n",
       " '6iqwOVXYuYQYCaQ0ljcans': 'Hot as Ice',\n",
       " '68rqXl8LTdwEd2u0QMkWvi': 'Ooh Ooh Baby',\n",
       " '5wpRCQ0DnJOqgJCLS2pOKD': 'Perfect Lover',\n",
       " '05ysmI6jXcCYLNPCOu9vnQ': 'Why Should I Be Sad',\n",
       " '59Xb5YkZ1AFrMD19T6cKr8': 'Get Back',\n",
       " '49U9KU9X8sfm0CXEUjkbx4': 'Gimme More - Junkie XL Dub',\n",
       " '16S140u9imsl1CKu0bxvYh': 'Everybody',\n",
       " '0NkMVd3YtZXN5hsuSZUefO': 'Showdown',\n",
       " '6BSfVPsVr6zYOXvHOUggfA': \"Early Mornin'\",\n",
       " '4XEQZ9OqZb6xLxKsFppO3K': 'Shadow',\n",
       " '1YTuMc934yzN1PKjSIaspV': 'Brave New Girl',\n",
       " '2xV1M8wBD75UTsvTnE7pV3': \"Me Against the Music (feat. Madonna) - Rishi Rich's Desi Kulcha Remix\",\n",
       " '6hlpPqTRqUZI2B4TCOycDf': 'Lonely',\n",
       " '4rIz1mOBHqIo6Mk7DzuoPs': 'Boys',\n",
       " '0FaBorty7hr1lpyzXSRPEf': 'Let Me Be',\n",
       " '5FFFvpCMxIWtTF7DmUBBIs': 'Bombastic Love',\n",
       " '4p701COQh5KvaP4zvqnx8F': \"That's Where You Take Me\",\n",
       " '6fA0t8bkZ4taxr86QkokWJ': 'When I Found You',\n",
       " '7zs5aog6tlIeniHcnoB0HJ': 'I Run Away',\n",
       " '1dVOsIMGb0eqoqslLLlbxM': \"What It's Like to Be Me\",\n",
       " '7LooG61VBsz4PqtCCVUs0z': 'Before The Goodbye',\n",
       " '3HTkB9Nk04MJHkG0X6cL2R': \"Don't Go Knockin' on My Door\",\n",
       " '23dIvJu0yfes1JRFut1NMQ': \"(I Can't Get No) Satisfaction\",\n",
       " '5iW9Y4seDbBgIchT0ANY3q': 'One Kiss from You',\n",
       " '4MOBPIIRUgHTBAp0NpgLTm': 'Where Are You Now',\n",
       " '7pY6xLJqmezJNG7VwuKVSH': \"Can't Make You Love Me\",\n",
       " '30hSG0Is8yOGkFQtF20Lxu': 'When Your Eyes Say It',\n",
       " '1NmjzfxyAN9u5EaqHk1uIY': 'Dear Diary',\n",
       " '6039GmVngyHmWfOuWOhjCK': 'Soda Pop',\n",
       " '2I320CTP7hYFTtiFo1H6CD': 'I Will Be There',\n",
       " '17HyUnJvY9J2l4fFzy9mPW': 'I Will Still Love You (with Don Philip)',\n",
       " '3lpRz2Zp0mPKKgXfoLNt42': 'Deep In My Heart',\n",
       " '4z4snWdgrJ8hbKFR0Bq2TU': \"Thinkin' About You\",\n",
       " '5FieJVbVreVaZdgoQiw9Yh': 'E-Mail My Heart',\n",
       " '4l3zi35EzEv8L7xLZ9jEcJ': 'The Beat Goes On',\n",
       " '53cB5yfTFpMfaw7oBcAi2c': \"I'll Never Stop Loving You\",\n",
       " '1TsyCE4jMDwesDsEBn3dIG': 'Autumn Goodbye',\n",
       " '0Hqhn8gaB7SBrg1LFTd1S0': '...Baby One More Time - Davidson Ospina Radio Mix',\n",
       " '4awBwsD0wBWWK9jqrUXctH': '...Baby One More Time - Boy Wunder Radio Mix',\n",
       " '7bpvfjoneSQvW0tbtVm1Jk': 'Ooh La La (from \"The Smurfs 2\")',\n",
       " '0YWUHZPJVg4iujddsJDwhM': 'My Only Wish (This Year)',\n",
       " '28PZfywHz6pa2xlk58GyNf': \"(I've Just Begun) Having My Fun - Non-Album Bonus Track\",\n",
       " '3s8g8yM5RxMAckOtPWzssB': 'Chris Cox Megamix',\n",
       " '0YBlNngjvBjqK28voVPXUs': \"I'm A Slave 4 U - Dave Aude Slave Driver Mix\",\n",
       " '4kSuBPGT930Yq3moq6uvJp': \"Toxic - Bloodshy & Avant's Intoxicated Remix - 2009 Remaster\",\n",
       " '2ksClgwWIuH6Vlg88RLhjd': \"I'm So Curious - 2009 Remaster\",\n",
       " '1u2OZ42pGR7gfhWHb2yc0S': 'Heart - 2009 Remaster',\n",
       " '1VtsJb6ZyJAO6aIsp5M9DK': 'Walk On By - 2009 Remaster',\n",
       " '5pgFEHvU5KQdwCtqPTW40U': 'Intimidated - 2009 Remaster',\n",
       " '3HRPCVnNPF46HWnfYgZdQW': 'Someday (I Will Understand) - 2009 Remaster',\n",
       " '06aOrOrErq4cntcUNz4X8t': 'Mona Lisa - 2009 Remaster',\n",
       " '18V8mpHKbDweorPR8yD30w': \"Don't Hang Up\",\n",
       " '0o4SpTCEPHIXZv1r6tFsXu': 'The Answer',\n",
       " '558BaXchUIohzDAFZzvcWw': 'If U Seek Amy - U-Tern Remix',\n",
       " '36JDWxV9Htu0znOlbhLn5C': 'Till The World Ends (the Femme Fatale Remix)',\n",
       " '7rAPzNh1CiUKIQwpDsHs1l': 'Toxic - Armand Van Helden Remix - Edit',\n",
       " '3160LwahuydbNkDvbN6rPM': \"Outrageous - Junkie XL's Dancehall Mix\",\n",
       " '7BsNmVBbrOZsbtdSlasKYc': 'Toxic - Lenny Bertoldo Radio Edit',\n",
       " '2w0GVsQiQ3C5xK07qLgGdn': 'Overprotected - Darkchild Remix Edit',\n",
       " '0RdSrq4KZuq5Nab2qQBMSs': 'My Prerogative - Armand Van Helden Remix - 2009 Remaster',\n",
       " '5w1u06nBwz7OKLdwXi8SNE': 'Everybody - 2009 Remaster',\n",
       " '443lmbuqHqEohIXRc9s2wU': 'Toxic - Peter Rauhofer Reconstruction Mix (Edit)',\n",
       " '6Hh0N3MwAqXmS28sWSqdnl': 'Touch Of My Hand - Bill Hamel Club Mix',\n",
       " '3fjPYgojh9yLxzszDrW0zC': \"Breathe On Me (feat. Ying Yang Twins) - Jaques LuCont's Thin White Duke Mix\",\n",
       " '7MVaMYvd3FH9owxWZtsJxX': 'Everytime - Valentin Remix',\n",
       " '5ap1jdN2fbrN8zdW0AglnY': \"Early Mornin' - Jason Nevins Remix\",\n",
       " '6cYvDxDCxSC1VpNFmZJWFs': '...Baby One More Time - Davidson Ospina 2005 Mix',\n",
       " '79q1PheTyEWqhio4pZaIjx': 'Me Against The Music (feat. Madonna) - Justice Extended Mix',\n",
       " '7mQKKSqxpQD11s4Tf0tIhK': 'Circus - Diplo Circus Remix',\n",
       " '21ShvE45hTbnSq4h7IKWAr': 'Make Me... (feat. G-Eazy) - Cash Cash Remix',\n",
       " '4VQ6M0XBMHSOGSLHstlOz0': 'Till The World Ends - Alex Suarez Club Remix',\n",
       " '0u64i9wKMwoiqWiLTGddP9': 'And Then We Kiss - Junkie XL Remix',\n",
       " '4VKlvCnSSApLh0pAJ6asDv': 'Gimme More - Kaskade Club Mix',\n",
       " '3PNlBhx6M32fE0CwkO50Bm': 'Piece Of Me - Tiesto Club Remix',\n",
       " '5LBVKvTpCrMhPnSfCeS9YF': 'I Wanna Go - Gareth Emery Remix',\n",
       " '6Fu4Kn1gLvIukiSbOXqxNU': 'Criminal - Radio Mix',\n",
       " '5Fdk98hUqpNC83MjvqkIuK': 'Womanizer - Benny Benassi Extended',\n",
       " '0S2yXbHxgNr8nrMTJOk7gK': '3 - Manhattan Clique Remix Club',\n",
       " '5GP8vMD6WaOffDeJfbit0m': 'Gimme More (\"Kimme More\" Remix) (feat. Lil\\' Kim)',\n",
       " '0cG2rnJV6G9GqYHOesbM4U': 'Radar - Tonal Club Remix',\n",
       " '6H01lZiYF1zWlPqpJlu9as': 'Gimme More - Remastered',\n",
       " '0FzZkbdKATBMU4fKHXah3R': 'From the Bottom of My Broken Heart - Radio Edit - Remastered',\n",
       " '61iJ9cAYgB5rJamvuChwEn': 'Someday (I Will Understand)'}"
      ]
     },
     "metadata": {},
     "execution_count": 64
    }
   ],
   "source": [
    "tracks = britney_df[['track_id', 'track_name']].set_index('track_id').to_dict()['track_name']\n",
    "total_tracks = len(tracks)\n",
    "print(f'Total Tracks: {total_tracks}')\n",
    "\n",
    "tracks"
   ]
  },
  {
   "cell_type": "code",
   "execution_count": 65,
   "metadata": {},
   "outputs": [
    {
     "output_type": "execute_result",
     "data": {
      "text/plain": [
       "{'2EvwLVrnYbCZEG6Kx5DCRy': 'Piece of MePiece of Me',\n",
       " '5zNkxQzn7HNUyYTSUnw577': \"Chillin' With You (feat. Jamie Lynn)Chillin' With You (feat. Jamie Lynn)\",\n",
       " '4MOBPIIRUgHTBAp0NpgLTm': 'Where Are You NowWhere Are You Now',\n",
       " '7pY6xLJqmezJNG7VwuKVSH': \"Can't Make You Love MeCan't Make You Love Me\",\n",
       " '6Fu4Kn1gLvIukiSbOXqxNU': 'Criminal - Radio MixCriminal - Radio Mix'}"
      ]
     },
     "metadata": {},
     "execution_count": 65
    }
   ],
   "source": [
    "import random\n",
    "def generate_random_seedtracks(tracks, N):\n",
    "    ids = list(tracks.keys())\n",
    "    seed_tracks = (random.sample(ids, N))\n",
    "    return {k:v*2 for (k,v) in tracks.items() if k in seed_tracks}\n",
    "\n",
    "\n",
    "\n",
    "generate_random_seedtracks(tracks, 5)  ## testing the function\n"
   ]
  },
  {
   "cell_type": "code",
   "execution_count": 66,
   "metadata": {},
   "outputs": [
    {
     "output_type": "stream",
     "name": "stdout",
     "text": [
      "\n\nRandom Seed Tracks:\n\n{'7jk7gqyEonmVVYahZN5zhW': 'CircusCircus', '5gkgwVSPu1NvkRwPDWb8aq': 'My BabyMy Baby', '5GP8vMD6WaOffDeJfbit0m': 'Gimme More (\"Kimme More\" Remix) (feat. Lil\\' Kim)Gimme More (\"Kimme More\" Remix) (feat. Lil\\' Kim)'}\n\n\n"
     ]
    },
    {
     "output_type": "execute_result",
     "data": {
      "text/plain": [
       "   index                track_id  \\\n",
       "0   2958  0oQc0F6KUE7QY7k5TU6bic   \n",
       "1   2961  3CGZ7wfk4skmuyQgua1C1K   \n",
       "2   3022  61lfBHo44YaBIhAx1031CP   \n",
       "3   2356  6lfxq3CG4xtTiEg7opyCyx   \n",
       "4   1785  7uuEfUMuPeQ7RlSWa0cES2   \n",
       "5   1190  6LivYvzWanzTQm8Tm3aTsa   \n",
       "6   2052  4lelBtLnt1mEfH6MlVp5yG   \n",
       "7   1306  6f8b6mxNNDJdE5tC4MCTxt   \n",
       "8   2056  4eqne0oIdt9GW2ubiliny0   \n",
       "9   1192  0gBc4Ksp2LSHbGTa1jBKTO   \n",
       "\n",
       "                                          track_name               artist_id  \\\n",
       "0                                      Chromatica II  1HY2Jd0NmPuamShAr6KMms   \n",
       "1                                       Chromatica I  1HY2Jd0NmPuamShAr6KMms   \n",
       "2                                             dear P  0Vw76uk7P8yVtTClWyOhac   \n",
       "3                         Can't Help Falling In Love  7h4j9YTJJuAHzLCc3KCvYu   \n",
       "4                         Can’t Help Falling in Love  7h4j9YTJJuAHzLCc3KCvYu   \n",
       "5                                  Pasko Na Sinta Ko  0RHiqaoRCsFLPeEuj3OQz4   \n",
       "6                                   Pangako sa Pasko  7or90S16MNx8VogdeOqlKq   \n",
       "7                             Never Enough (Reprise)  0LyOADBjj28cbvJWTXUEGA   \n",
       "8  Have Yourself A Merry Little Christmas - \"Meet...  0hItVPjwJLVZrFqOyIsxPf   \n",
       "9                       Angels We Have Heard on High  0SG7a26LiFGt8E0olaIOpx   \n",
       "\n",
       "       artist_name                album_id  duration release_date  popularity  \\\n",
       "0        Lady Gaga  05c49JgPmL4Uz2ZeqRx5SP     41866   2020-05-29          60   \n",
       "1        Lady Gaga  05c49JgPmL4Uz2ZeqRx5SP     60400   2020-05-29          58   \n",
       "2            HONNE  3DG5MS8iKYcJROCnb1DYDf     61426   2020-07-03          42   \n",
       "3     Kina Grannis  2wMz3oVNS1bMXaEWY6QWmA    201933   2018-08-10          72   \n",
       "4     Kina Grannis  32BVrPjwweOQcHKKpxgE4l    201933   2018-08-10           0   \n",
       "5  Gary Valenciano  1xi5bo7CCSxIVySX4dLknK    246735         1996          26   \n",
       "6  Cocoy Claravall  4Y92CJiB5353tKM4yLsJEO    368340   2018-12-16           6   \n",
       "7     Loren Allred  7ayBZIe1FHkNv0T5xFCX6F     80293   2017-12-08          65   \n",
       "8     Judy Garland  1VND54ojnKw7YyWMJdfpLA    162200   1994-01-01           0   \n",
       "9       Acapellago  3p6MrhUW16YC5DbaVtb70A    155989   2017-12-01           0   \n",
       "\n",
       "   danceability  ...  instrumentalness  liveness  valence     tempo  \\\n",
       "0         0.184  ...          0.893000    0.5270   0.1130  0.143073   \n",
       "1         0.231  ...          0.875000    0.3270   0.0588  0.081560   \n",
       "2         0.304  ...          0.655000    0.1350   0.4530  0.079997   \n",
       "3         0.266  ...          0.000071    0.1320   0.1430  0.794792   \n",
       "4         0.266  ...          0.000071    0.1320   0.1430  0.794792   \n",
       "5         0.279  ...          0.000227    0.0685   0.0942  0.176485   \n",
       "6         0.303  ...          0.366000    0.3190   0.1480  0.272591   \n",
       "7         0.382  ...          0.000003    0.0832   0.1330  0.184066   \n",
       "8         0.273  ...          0.000905    0.1120   0.1110  0.071303   \n",
       "9         0.174  ...          0.000053    0.3370   0.1830  0.851715   \n",
       "\n",
       "   predicted_genre_id  predicted_genre  predicted_genre_prob  euclidean_dist  \\\n",
       "0                   0        classical              0.909091        0.540667   \n",
       "1                   2             jazz              0.545455        0.493667   \n",
       "2                   0        classical              1.000000        0.420667   \n",
       "3                   0        classical              0.636364        0.458667   \n",
       "4                   0        classical              0.636364        0.458667   \n",
       "5                   0        classical              0.909091        0.445667   \n",
       "6                   0        classical              0.545455        0.421667   \n",
       "7                   0        classical              0.727273        0.342667   \n",
       "8                   0        classical              0.636364        0.451667   \n",
       "9                   0        classical              0.454545        0.550667   \n",
       "\n",
       "   manhattan_dist  cosine_dist  \n",
       "0        0.540667     0.456372  \n",
       "1        0.493667     0.445572  \n",
       "2        0.420667     0.440907  \n",
       "3        0.458667     0.351086  \n",
       "4        0.458667     0.351086  \n",
       "5        0.445667     0.333700  \n",
       "6        0.421667     0.328507  \n",
       "7        0.342667     0.314851  \n",
       "8        0.451667     0.313912  \n",
       "9        0.550667     0.302674  \n",
       "\n",
       "[10 rows x 26 columns]"
      ],
      "text/html": "<div>\n<style scoped>\n    .dataframe tbody tr th:only-of-type {\n        vertical-align: middle;\n    }\n\n    .dataframe tbody tr th {\n        vertical-align: top;\n    }\n\n    .dataframe thead th {\n        text-align: right;\n    }\n</style>\n<table border=\"1\" class=\"dataframe\">\n  <thead>\n    <tr style=\"text-align: right;\">\n      <th></th>\n      <th>index</th>\n      <th>track_id</th>\n      <th>track_name</th>\n      <th>artist_id</th>\n      <th>artist_name</th>\n      <th>album_id</th>\n      <th>duration</th>\n      <th>release_date</th>\n      <th>popularity</th>\n      <th>danceability</th>\n      <th>...</th>\n      <th>instrumentalness</th>\n      <th>liveness</th>\n      <th>valence</th>\n      <th>tempo</th>\n      <th>predicted_genre_id</th>\n      <th>predicted_genre</th>\n      <th>predicted_genre_prob</th>\n      <th>euclidean_dist</th>\n      <th>manhattan_dist</th>\n      <th>cosine_dist</th>\n    </tr>\n  </thead>\n  <tbody>\n    <tr>\n      <th>0</th>\n      <td>2958</td>\n      <td>0oQc0F6KUE7QY7k5TU6bic</td>\n      <td>Chromatica II</td>\n      <td>1HY2Jd0NmPuamShAr6KMms</td>\n      <td>Lady Gaga</td>\n      <td>05c49JgPmL4Uz2ZeqRx5SP</td>\n      <td>41866</td>\n      <td>2020-05-29</td>\n      <td>60</td>\n      <td>0.184</td>\n      <td>...</td>\n      <td>0.893000</td>\n      <td>0.5270</td>\n      <td>0.1130</td>\n      <td>0.143073</td>\n      <td>0</td>\n      <td>classical</td>\n      <td>0.909091</td>\n      <td>0.540667</td>\n      <td>0.540667</td>\n      <td>0.456372</td>\n    </tr>\n    <tr>\n      <th>1</th>\n      <td>2961</td>\n      <td>3CGZ7wfk4skmuyQgua1C1K</td>\n      <td>Chromatica I</td>\n      <td>1HY2Jd0NmPuamShAr6KMms</td>\n      <td>Lady Gaga</td>\n      <td>05c49JgPmL4Uz2ZeqRx5SP</td>\n      <td>60400</td>\n      <td>2020-05-29</td>\n      <td>58</td>\n      <td>0.231</td>\n      <td>...</td>\n      <td>0.875000</td>\n      <td>0.3270</td>\n      <td>0.0588</td>\n      <td>0.081560</td>\n      <td>2</td>\n      <td>jazz</td>\n      <td>0.545455</td>\n      <td>0.493667</td>\n      <td>0.493667</td>\n      <td>0.445572</td>\n    </tr>\n    <tr>\n      <th>2</th>\n      <td>3022</td>\n      <td>61lfBHo44YaBIhAx1031CP</td>\n      <td>dear P</td>\n      <td>0Vw76uk7P8yVtTClWyOhac</td>\n      <td>HONNE</td>\n      <td>3DG5MS8iKYcJROCnb1DYDf</td>\n      <td>61426</td>\n      <td>2020-07-03</td>\n      <td>42</td>\n      <td>0.304</td>\n      <td>...</td>\n      <td>0.655000</td>\n      <td>0.1350</td>\n      <td>0.4530</td>\n      <td>0.079997</td>\n      <td>0</td>\n      <td>classical</td>\n      <td>1.000000</td>\n      <td>0.420667</td>\n      <td>0.420667</td>\n      <td>0.440907</td>\n    </tr>\n    <tr>\n      <th>3</th>\n      <td>2356</td>\n      <td>6lfxq3CG4xtTiEg7opyCyx</td>\n      <td>Can't Help Falling In Love</td>\n      <td>7h4j9YTJJuAHzLCc3KCvYu</td>\n      <td>Kina Grannis</td>\n      <td>2wMz3oVNS1bMXaEWY6QWmA</td>\n      <td>201933</td>\n      <td>2018-08-10</td>\n      <td>72</td>\n      <td>0.266</td>\n      <td>...</td>\n      <td>0.000071</td>\n      <td>0.1320</td>\n      <td>0.1430</td>\n      <td>0.794792</td>\n      <td>0</td>\n      <td>classical</td>\n      <td>0.636364</td>\n      <td>0.458667</td>\n      <td>0.458667</td>\n      <td>0.351086</td>\n    </tr>\n    <tr>\n      <th>4</th>\n      <td>1785</td>\n      <td>7uuEfUMuPeQ7RlSWa0cES2</td>\n      <td>Can’t Help Falling in Love</td>\n      <td>7h4j9YTJJuAHzLCc3KCvYu</td>\n      <td>Kina Grannis</td>\n      <td>32BVrPjwweOQcHKKpxgE4l</td>\n      <td>201933</td>\n      <td>2018-08-10</td>\n      <td>0</td>\n      <td>0.266</td>\n      <td>...</td>\n      <td>0.000071</td>\n      <td>0.1320</td>\n      <td>0.1430</td>\n      <td>0.794792</td>\n      <td>0</td>\n      <td>classical</td>\n      <td>0.636364</td>\n      <td>0.458667</td>\n      <td>0.458667</td>\n      <td>0.351086</td>\n    </tr>\n    <tr>\n      <th>5</th>\n      <td>1190</td>\n      <td>6LivYvzWanzTQm8Tm3aTsa</td>\n      <td>Pasko Na Sinta Ko</td>\n      <td>0RHiqaoRCsFLPeEuj3OQz4</td>\n      <td>Gary Valenciano</td>\n      <td>1xi5bo7CCSxIVySX4dLknK</td>\n      <td>246735</td>\n      <td>1996</td>\n      <td>26</td>\n      <td>0.279</td>\n      <td>...</td>\n      <td>0.000227</td>\n      <td>0.0685</td>\n      <td>0.0942</td>\n      <td>0.176485</td>\n      <td>0</td>\n      <td>classical</td>\n      <td>0.909091</td>\n      <td>0.445667</td>\n      <td>0.445667</td>\n      <td>0.333700</td>\n    </tr>\n    <tr>\n      <th>6</th>\n      <td>2052</td>\n      <td>4lelBtLnt1mEfH6MlVp5yG</td>\n      <td>Pangako sa Pasko</td>\n      <td>7or90S16MNx8VogdeOqlKq</td>\n      <td>Cocoy Claravall</td>\n      <td>4Y92CJiB5353tKM4yLsJEO</td>\n      <td>368340</td>\n      <td>2018-12-16</td>\n      <td>6</td>\n      <td>0.303</td>\n      <td>...</td>\n      <td>0.366000</td>\n      <td>0.3190</td>\n      <td>0.1480</td>\n      <td>0.272591</td>\n      <td>0</td>\n      <td>classical</td>\n      <td>0.545455</td>\n      <td>0.421667</td>\n      <td>0.421667</td>\n      <td>0.328507</td>\n    </tr>\n    <tr>\n      <th>7</th>\n      <td>1306</td>\n      <td>6f8b6mxNNDJdE5tC4MCTxt</td>\n      <td>Never Enough (Reprise)</td>\n      <td>0LyOADBjj28cbvJWTXUEGA</td>\n      <td>Loren Allred</td>\n      <td>7ayBZIe1FHkNv0T5xFCX6F</td>\n      <td>80293</td>\n      <td>2017-12-08</td>\n      <td>65</td>\n      <td>0.382</td>\n      <td>...</td>\n      <td>0.000003</td>\n      <td>0.0832</td>\n      <td>0.1330</td>\n      <td>0.184066</td>\n      <td>0</td>\n      <td>classical</td>\n      <td>0.727273</td>\n      <td>0.342667</td>\n      <td>0.342667</td>\n      <td>0.314851</td>\n    </tr>\n    <tr>\n      <th>8</th>\n      <td>2056</td>\n      <td>4eqne0oIdt9GW2ubiliny0</td>\n      <td>Have Yourself A Merry Little Christmas - \"Meet...</td>\n      <td>0hItVPjwJLVZrFqOyIsxPf</td>\n      <td>Judy Garland</td>\n      <td>1VND54ojnKw7YyWMJdfpLA</td>\n      <td>162200</td>\n      <td>1994-01-01</td>\n      <td>0</td>\n      <td>0.273</td>\n      <td>...</td>\n      <td>0.000905</td>\n      <td>0.1120</td>\n      <td>0.1110</td>\n      <td>0.071303</td>\n      <td>0</td>\n      <td>classical</td>\n      <td>0.636364</td>\n      <td>0.451667</td>\n      <td>0.451667</td>\n      <td>0.313912</td>\n    </tr>\n    <tr>\n      <th>9</th>\n      <td>1192</td>\n      <td>0gBc4Ksp2LSHbGTa1jBKTO</td>\n      <td>Angels We Have Heard on High</td>\n      <td>0SG7a26LiFGt8E0olaIOpx</td>\n      <td>Acapellago</td>\n      <td>3p6MrhUW16YC5DbaVtb70A</td>\n      <td>155989</td>\n      <td>2017-12-01</td>\n      <td>0</td>\n      <td>0.174</td>\n      <td>...</td>\n      <td>0.000053</td>\n      <td>0.3370</td>\n      <td>0.1830</td>\n      <td>0.851715</td>\n      <td>0</td>\n      <td>classical</td>\n      <td>0.454545</td>\n      <td>0.550667</td>\n      <td>0.550667</td>\n      <td>0.302674</td>\n    </tr>\n  </tbody>\n</table>\n<p>10 rows × 26 columns</p>\n</div>"
     },
     "metadata": {},
     "execution_count": 66
    }
   ],
   "source": [
    "# Compute distance/similarity by targeted track ID/s\n",
    "seeds = generate_random_seedtracks(tracks, 3)\n",
    "print(f'\\n\\nRandom Seed Tracks:\\n\\n{seeds}\\n\\n')\n",
    "\n",
    "seed_track_ids = list(seeds.keys())\n",
    "seedtracks = britney_df[britney_df.track_id.isin(seed_track_ids)].mean()\n",
    "\n",
    "reco_df = others_df.copy()\n",
    "reco_df['euclidean_dist'] = others_df.apply(lambda x: euclidean_distances(x[feature_cols].values.reshape(-1, 1), seedtracks[feature_cols].values.reshape(-1, 1)).flatten()[0], axis=1)\n",
    "reco_df['manhattan_dist'] = others_df.apply(lambda x: manhattan_distances(x[feature_cols].values.reshape(-1, 1), seedtracks[feature_cols].values.reshape(-1, 1)).flatten()[0], axis=1)\n",
    "reco_df['cosine_dist'] = others_df.apply(lambda x: 1-cosine_similarity(x[feature_cols].values.reshape(1, -1), seedtracks[feature_cols].values.reshape(1, -1)).flatten()[0], axis=1)\n",
    "\n",
    "# Top 10 recommendations by `cosine similarity`\n",
    "reco_df.sort_values('cosine_dist', ascending=False).head(10).reset_index()\n"
   ]
  },
  {
   "cell_type": "code",
   "execution_count": 126,
   "metadata": {},
   "outputs": [],
   "source": []
  },
  {
   "cell_type": "code",
   "execution_count": null,
   "metadata": {},
   "outputs": [],
   "source": []
  }
 ],
 "metadata": {
  "kernelspec": {
   "name": "python3810jvsc74a57bd0e134e05457d34029b6460cd73bbf1ed73f339b5b6d98c95be70b69eba114fe95",
   "display_name": "Python 3.8.10 64-bit ('base': conda)"
  },
  "language_info": {
   "codemirror_mode": {
    "name": "ipython",
    "version": 3
   },
   "file_extension": ".py",
   "mimetype": "text/x-python",
   "name": "python",
   "nbconvert_exporter": "python",
   "pygments_lexer": "ipython3",
   "version": "3.8.10"
  }
 },
 "nbformat": 4,
 "nbformat_minor": 2
}